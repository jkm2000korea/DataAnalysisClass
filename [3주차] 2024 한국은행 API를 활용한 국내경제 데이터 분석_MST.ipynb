{
 "cells": [
  {
   "cell_type": "markdown",
   "metadata": {},
   "source": [
    "# <span style=\"color:royalblue\"> [3주차] API 쉽게 배우기</span>\n",
    "# 한국은행 API를 활용한 국내경제 데이터 분석 \n",
    "\n",
    "--- "
   ]
  },
  {
   "cell_type": "markdown",
   "metadata": {
    "ExecuteTime": {
     "end_time": "2023-06-28T23:42:44.128643Z",
     "start_time": "2023-06-28T23:42:44.116234Z"
    }
   },
   "source": [
    "<div style=\"text-align: right\"> Final Edition : 2023.1.23<br>\n",
    "    copyrightⓒ 2022 All rights reserved by Data Lover Pablo </div>"
   ]
  },
  {
   "cell_type": "markdown",
   "metadata": {},
   "source": [
    "# <span style=\"color:gray\"> [지난시간] 1. 미국 연방준비은행 세인트루이스 </span>\n",
    "\n",
    "[FRED(Federal Reserve Economic Data](https://fred.stlouisfed.org/) : 연방 준비 은행 경제 데이터  <BR>"
   ]
  },
  {
   "cell_type": "markdown",
   "metadata": {},
   "source": [
    "# 2. 한국은행 경제통계 시스템  \n",
    "\n",
    "[ECOS(Economic Statistics System)](http://ecos.bok.or.kr/jsp/openapi/OpenApiController.jsp?t=main) : 한국은행 경제통계 시스템 <BR>  "
   ]
  },
  {
   "cell_type": "markdown",
   "metadata": {},
   "source": [
    "# <span style=\"color:gray\"> [다음시간] 3. 공공 데이터 포털 </span>\n",
    "\n",
    "국토부 부동산 실거래가 데이터 수집 API  \n",
    "오픈소스 라이브러리 PublicDataReader [공식 Github](https://github.com/WooilJeong/PublicDataReader)\n",
    " - 부동산 데이터 수집하기\n",
    " - 건축물대장 데이터 조회하기\n",
    " - 상가업소 데이터 수집하기"
   ]
  },
  {
   "cell_type": "markdown",
   "metadata": {},
   "source": [
    "### 한국은행 API 사용법 참고 블로그\n",
    "http://bjecondata.blogspot.com/2019/08/open-api-ecos-ii.html  \n",
    "https://hayjo.tistory.com/59?category=913163"
   ]
  },
  {
   "cell_type": "markdown",
   "metadata": {},
   "source": [
    "## 1.1 필요한 Parser(파서) 패키지 설치"
   ]
  },
  {
   "cell_type": "markdown",
   "metadata": {
    "ExecuteTime": {
     "end_time": "2022-01-16T07:16:02.305621Z",
     "start_time": "2022-01-16T07:16:02.290686Z"
    }
   },
   "source": [
    "[BeautifulSoup 공식홈페이지 - Parser 비교](https://www.crummy.com/software/BeautifulSoup/bs4/doc/)"
   ]
  },
  {
   "cell_type": "markdown",
   "metadata": {
    "ExecuteTime": {
     "end_time": "2022-01-16T07:18:55.287763Z",
     "start_time": "2022-01-16T07:18:55.276933Z"
    }
   },
   "source": [
    "<img src=\"./data/parser.jpg\" style=\"width: 1000px;\" align=\"center\">"
   ]
  },
  {
   "cell_type": "code",
   "execution_count": 45,
   "metadata": {
    "ExecuteTime": {
     "end_time": "2024-01-23T13:34:30.891055Z",
     "start_time": "2024-01-23T13:34:30.876975Z"
    }
   },
   "outputs": [],
   "source": [
    "# 표 형식의 데이터를 크롤링, 파싱하는 패키지 설치\n",
    "# !pip install html_table_parser    "
   ]
  },
  {
   "cell_type": "code",
   "execution_count": 46,
   "metadata": {
    "ExecuteTime": {
     "end_time": "2024-01-23T13:34:30.910654Z",
     "start_time": "2024-01-23T13:34:30.894028Z"
    }
   },
   "outputs": [],
   "source": [
    "# HTML 문서를 트리구조로 분석해주는 라이브러리 # !pip install --upgrade html5lib\n",
    "# !pip install --upgrade html5lib==1.0b8\n",
    "# 설치후 커넬 리스타트 해야 합니다."
   ]
  },
  {
   "cell_type": "markdown",
   "metadata": {},
   "source": [
    "html 문서를 파싱하는 beatiful soup 업데이트  \n",
    "html_table_parser 을 설치하면 그에 맞는 버전으로 beautifulsoup4이 설치됩니다.(4.4.1)  \n",
    "!pip install --upgrade beautifulsoup4 "
   ]
  },
  {
   "cell_type": "code",
   "execution_count": 47,
   "metadata": {
    "ExecuteTime": {
     "end_time": "2024-01-23T13:34:30.927029Z",
     "start_time": "2024-01-23T13:34:30.912027Z"
    }
   },
   "outputs": [],
   "source": [
    "# !pip uninstall BeautifulSoup\n",
    "# !pip uninstall BeautifulSoup4\n",
    "# !pip install BeautifulSoup\n",
    "# !pip install html_table_parser\n",
    "# html 문서를 파싱하는 beatiful soup 업데이트\n",
    "# !pip install --upgrade beautifulsoup4    \n",
    "# !pip install --upgrade html5lib          \n",
    "# HTML 문서를 트리구조로 분석해주는 라이브러리\n",
    "# import bs4\n",
    "# print(num.__version__)"
   ]
  },
  {
   "cell_type": "markdown",
   "metadata": {},
   "source": [
    "## 1.2 한국은행 제공코드 결과확인\n",
    "[한국은행 파이썬 개발가이드](https://ecos.bok.or.kr/api/#/DevGuide/LanguageDevGuide)"
   ]
  },
  {
   "cell_type": "code",
   "execution_count": 48,
   "metadata": {
    "ExecuteTime": {
     "end_time": "2024-01-23T13:34:31.078926Z",
     "start_time": "2024-01-23T13:34:30.929001Z"
    }
   },
   "outputs": [
    {
     "name": "stdout",
     "output_type": "stream",
     "text": [
      "<?xml version=\"1.0\" encoding=\"UTF-8\"?>\n",
      "<StatisticTableList>\n",
      "  <list_total_count number=\"true\">1</list_total_count>\n",
      "  <row array=\"true\">\n",
      "    <P_STAT_CODE>0000000004</P_STAT_CODE>\n",
      "    <STAT_CODE>102Y004</STAT_CODE>\n",
      "    <STAT_NAME>1.1.1.1.1. 본원통화 구성내역(평잔, 계절조정계열)</STAT_NAME>\n",
      "    <CYCLE>M</CYCLE>\n",
      "    <SRCH_YN>Y</SRCH_YN>\n",
      "    <ORG_NAME></ORG_NAME>\n",
      "  </row>\n",
      "</StatisticTableList>\n"
     ]
    }
   ],
   "source": [
    "import requests \n",
    "import xml.etree.ElementTree as ET \n",
    "\n",
    "## 호출하려는 OpenAPI URL를 정의합니다.\n",
    "url = \"https://ecos.bok.or.kr/api/StatisticTableList/sample/xml/kr/1/10/102Y004\"\n",
    "\n",
    "# sample : API 인증키\n",
    "# xml : 데이터 타입\n",
    "# kr : 한국\n",
    "# start : 1\n",
    "# end : 1\n",
    "\n",
    "# 043Y070 : 지역별 소비유형별 개인 신용카드\n",
    "# 021Y125 : 소비자물가지수\n",
    "\n",
    "\n",
    "## 정의된 OpenAPI URL을 호출합니다.\n",
    "response = requests.get(url)\n",
    "\n",
    "## http 요청이 성공했을때 API의 리턴값을 가져옵니다.\n",
    "if response.status_code == 200:\n",
    "    try:\n",
    "        contents = response.text\n",
    "        ecosRoot = ET.fromstring(contents)\n",
    "      \n",
    "        ## 호출결과에 오류가 있었는지 확인합니다.\n",
    "        if ecosRoot[0].text[:4] in (\"INFO\",\"ERRO\"):\n",
    "            print(ecosRoot[0].text + \" : \" + ecosRoot[1].text)\n",
    "\n",
    "            ## 오류메세지를 확인하고 처리합니다.\n",
    "        else:\n",
    "            print(contents)\n",
    "\n",
    "            ## 결과값을 활용하여 필요한 프로그램을 작성합니다.\n",
    "    except Exception as e:\n",
    "        print(str(e))\n",
    "\n",
    "        ##예외가 발생했을때 처리합니다.\n",
    "# 종료 태그가 없는 빈 태그(empty tag)는 반드시 끝에 공백과 함께 슬래시(/)를 붙여야 합니다."
   ]
  },
  {
   "cell_type": "markdown",
   "metadata": {},
   "source": [
    "## 1.3 한국은행 경제통계시스템 개발가이드\n",
    "[통계코드 검색](https://ecos.bok.or.kr/api/#/DevGuide/StatisticalCodeSearch)"
   ]
  },
  {
   "cell_type": "markdown",
   "metadata": {},
   "source": [
    "## 1.4 필요한 패키지, 모듈 불러오기"
   ]
  },
  {
   "cell_type": "code",
   "execution_count": 49,
   "metadata": {
    "ExecuteTime": {
     "end_time": "2024-01-23T13:34:31.095904Z",
     "start_time": "2024-01-23T13:34:31.081257Z"
    }
   },
   "outputs": [],
   "source": [
    "import datetime                     \n",
    "import requests\n",
    "import pandas as pd\n",
    "import numpy as np\n",
    "from bs4 import BeautifulSoup"
   ]
  },
  {
   "cell_type": "markdown",
   "metadata": {},
   "source": [
    "### [참고] 데이터 프레임을 자유자재로 다루기위한 기초  \n",
    "설명이 잘 되어 있는 블로그 : https://3months.tistory.com/292"
   ]
  },
  {
   "cell_type": "markdown",
   "metadata": {
    "ExecuteTime": {
     "end_time": "2021-09-24T10:22:11.198880Z",
     "start_time": "2021-09-24T10:22:11.183731Z"
    }
   },
   "source": [
    "## 1.5 한국은행에서 가져올 데이터 프레임 만들기 - 방법1"
   ]
  },
  {
   "cell_type": "code",
   "execution_count": 50,
   "metadata": {
    "ExecuteTime": {
     "end_time": "2024-01-23T13:34:31.109097Z",
     "start_time": "2024-01-23T13:34:31.098559Z"
    }
   },
   "outputs": [],
   "source": [
    "# 방법1 - {칼럼명 : [데이터], 칼럼명 : [데이터]}\n",
    "df = pd.DataFrame({\n",
    "    \"통계코드\": ['901Y014', '722Y001'],\n",
    "    \"항목명1\": ['KOSPI_평균', '한국은행기준금리'],\n",
    "    \"주기\": ['M', 'M'],\n",
    "    \"항목코드1\": ['1080000', '0101000'],\n",
    "    \"항목코드2\": [\"\",\"\"],\n",
    "    \"항목코드3\": [\"\",\"\"]\n",
    "    \n",
    "})"
   ]
  },
  {
   "cell_type": "code",
   "execution_count": 51,
   "metadata": {
    "ExecuteTime": {
     "end_time": "2024-01-23T13:34:31.121500Z",
     "start_time": "2024-01-23T13:34:31.111112Z"
    }
   },
   "outputs": [
    {
     "data": {
      "text/html": [
       "<div>\n",
       "<style scoped>\n",
       "    .dataframe tbody tr th:only-of-type {\n",
       "        vertical-align: middle;\n",
       "    }\n",
       "\n",
       "    .dataframe tbody tr th {\n",
       "        vertical-align: top;\n",
       "    }\n",
       "\n",
       "    .dataframe thead th {\n",
       "        text-align: right;\n",
       "    }\n",
       "</style>\n",
       "<table border=\"1\" class=\"dataframe\">\n",
       "  <thead>\n",
       "    <tr style=\"text-align: right;\">\n",
       "      <th></th>\n",
       "      <th>통계코드</th>\n",
       "      <th>항목명1</th>\n",
       "      <th>주기</th>\n",
       "      <th>항목코드1</th>\n",
       "      <th>항목코드2</th>\n",
       "      <th>항목코드3</th>\n",
       "    </tr>\n",
       "  </thead>\n",
       "  <tbody>\n",
       "    <tr>\n",
       "      <th>0</th>\n",
       "      <td>901Y014</td>\n",
       "      <td>KOSPI_평균</td>\n",
       "      <td>M</td>\n",
       "      <td>1080000</td>\n",
       "      <td></td>\n",
       "      <td></td>\n",
       "    </tr>\n",
       "    <tr>\n",
       "      <th>1</th>\n",
       "      <td>722Y001</td>\n",
       "      <td>한국은행기준금리</td>\n",
       "      <td>M</td>\n",
       "      <td>0101000</td>\n",
       "      <td></td>\n",
       "      <td></td>\n",
       "    </tr>\n",
       "  </tbody>\n",
       "</table>\n",
       "</div>"
      ],
      "text/plain": [
       "      통계코드      항목명1 주기    항목코드1 항목코드2 항목코드3\n",
       "0  901Y014  KOSPI_평균  M  1080000            \n",
       "1  722Y001  한국은행기준금리  M  0101000            "
      ]
     },
     "execution_count": 51,
     "metadata": {},
     "output_type": "execute_result"
    }
   ],
   "source": [
    "df"
   ]
  },
  {
   "cell_type": "code",
   "execution_count": 52,
   "metadata": {
    "ExecuteTime": {
     "end_time": "2024-01-23T13:34:31.129915Z",
     "start_time": "2024-01-23T13:34:31.122755Z"
    }
   },
   "outputs": [],
   "source": [
    "# # 방법2  data = [[행별 데이터],[행별 데이터]], index=[], column=[]\n",
    "# df_1 = pd.DataFrame(data=([['901Y001', '실업률', 'MM', 'AI1AJ'],\n",
    "#                            ['901Y001', '고용률', 'MM', 'AI1AK']]),\n",
    "#                     index=[0, 1],\n",
    "#                     columns=[\"통계코드\", \"항목명1\", \"주기\", \"항목코드1\"])\n",
    "# df_1"
   ]
  },
  {
   "cell_type": "markdown",
   "metadata": {
    "ExecuteTime": {
     "end_time": "2021-10-15T07:54:50.686404Z",
     "start_time": "2021-10-15T07:54:50.668455Z"
    }
   },
   "source": [
    "### 1.5.1 항목코드 칼럼추가"
   ]
  },
  {
   "cell_type": "code",
   "execution_count": 53,
   "metadata": {
    "ExecuteTime": {
     "end_time": "2024-01-23T13:34:31.145617Z",
     "start_time": "2024-01-23T13:34:31.129915Z"
    }
   },
   "outputs": [],
   "source": [
    "# # 칼럼추가 Append a column to `df`\n",
    "# df.loc[:, '항목코드2'] = pd.Series(['',''], index=df.index)\n",
    "# df.loc[:, '항목코드3'] = pd.Series(['',''], index=df.index)\n",
    "# df"
   ]
  },
  {
   "cell_type": "code",
   "execution_count": 54,
   "metadata": {
    "ExecuteTime": {
     "end_time": "2024-01-23T13:34:31.162580Z",
     "start_time": "2024-01-23T13:34:31.146735Z"
    }
   },
   "outputs": [
    {
     "data": {
      "text/html": [
       "<div>\n",
       "<style scoped>\n",
       "    .dataframe tbody tr th:only-of-type {\n",
       "        vertical-align: middle;\n",
       "    }\n",
       "\n",
       "    .dataframe tbody tr th {\n",
       "        vertical-align: top;\n",
       "    }\n",
       "\n",
       "    .dataframe thead th {\n",
       "        text-align: right;\n",
       "    }\n",
       "</style>\n",
       "<table border=\"1\" class=\"dataframe\">\n",
       "  <thead>\n",
       "    <tr style=\"text-align: right;\">\n",
       "      <th></th>\n",
       "      <th>통계코드</th>\n",
       "      <th>항목명1</th>\n",
       "      <th>주기</th>\n",
       "      <th>항목코드1</th>\n",
       "      <th>항목코드2</th>\n",
       "      <th>항목코드3</th>\n",
       "    </tr>\n",
       "  </thead>\n",
       "  <tbody>\n",
       "    <tr>\n",
       "      <th>0</th>\n",
       "      <td>901Y014</td>\n",
       "      <td>KOSPI_평균</td>\n",
       "      <td>M</td>\n",
       "      <td>1080000</td>\n",
       "      <td></td>\n",
       "      <td></td>\n",
       "    </tr>\n",
       "    <tr>\n",
       "      <th>1</th>\n",
       "      <td>722Y001</td>\n",
       "      <td>한국은행기준금리</td>\n",
       "      <td>M</td>\n",
       "      <td>0101000</td>\n",
       "      <td></td>\n",
       "      <td></td>\n",
       "    </tr>\n",
       "  </tbody>\n",
       "</table>\n",
       "</div>"
      ],
      "text/plain": [
       "      통계코드      항목명1 주기    항목코드1 항목코드2 항목코드3\n",
       "0  901Y014  KOSPI_평균  M  1080000            \n",
       "1  722Y001  한국은행기준금리  M  0101000            "
      ]
     },
     "execution_count": 54,
     "metadata": {},
     "output_type": "execute_result"
    }
   ],
   "source": [
    "df"
   ]
  },
  {
   "cell_type": "markdown",
   "metadata": {},
   "source": [
    "### 1.5.2 행 데이터 추가"
   ]
  },
  {
   "cell_type": "code",
   "execution_count": 55,
   "metadata": {
    "ExecuteTime": {
     "end_time": "2024-01-23T13:34:31.178358Z",
     "start_time": "2024-01-23T13:34:31.162580Z"
    }
   },
   "outputs": [],
   "source": [
    "temp = pd.DataFrame(data=[['404Y014', '생산자물가지수','M','*AA',\"\",\"\"]], \n",
    "                    columns=[\"통계코드\", \"항목명1\", \"주기\", \"항목코드1\",\"항목코드2\", \"항목코드3\"])"
   ]
  },
  {
   "cell_type": "code",
   "execution_count": 56,
   "metadata": {
    "ExecuteTime": {
     "end_time": "2024-01-23T13:34:31.187662Z",
     "start_time": "2024-01-23T13:34:31.179198Z"
    }
   },
   "outputs": [
    {
     "data": {
      "text/html": [
       "<div>\n",
       "<style scoped>\n",
       "    .dataframe tbody tr th:only-of-type {\n",
       "        vertical-align: middle;\n",
       "    }\n",
       "\n",
       "    .dataframe tbody tr th {\n",
       "        vertical-align: top;\n",
       "    }\n",
       "\n",
       "    .dataframe thead th {\n",
       "        text-align: right;\n",
       "    }\n",
       "</style>\n",
       "<table border=\"1\" class=\"dataframe\">\n",
       "  <thead>\n",
       "    <tr style=\"text-align: right;\">\n",
       "      <th></th>\n",
       "      <th>통계코드</th>\n",
       "      <th>항목명1</th>\n",
       "      <th>주기</th>\n",
       "      <th>항목코드1</th>\n",
       "      <th>항목코드2</th>\n",
       "      <th>항목코드3</th>\n",
       "    </tr>\n",
       "  </thead>\n",
       "  <tbody>\n",
       "    <tr>\n",
       "      <th>0</th>\n",
       "      <td>404Y014</td>\n",
       "      <td>생산자물가지수</td>\n",
       "      <td>M</td>\n",
       "      <td>*AA</td>\n",
       "      <td></td>\n",
       "      <td></td>\n",
       "    </tr>\n",
       "  </tbody>\n",
       "</table>\n",
       "</div>"
      ],
      "text/plain": [
       "      통계코드     항목명1 주기 항목코드1 항목코드2 항목코드3\n",
       "0  404Y014  생산자물가지수  M   *AA            "
      ]
     },
     "execution_count": 56,
     "metadata": {},
     "output_type": "execute_result"
    }
   ],
   "source": [
    "temp"
   ]
  },
  {
   "cell_type": "code",
   "execution_count": 57,
   "metadata": {
    "ExecuteTime": {
     "end_time": "2024-01-23T13:34:31.196154Z",
     "start_time": "2024-01-23T13:34:31.188689Z"
    }
   },
   "outputs": [
    {
     "data": {
      "text/html": [
       "<div>\n",
       "<style scoped>\n",
       "    .dataframe tbody tr th:only-of-type {\n",
       "        vertical-align: middle;\n",
       "    }\n",
       "\n",
       "    .dataframe tbody tr th {\n",
       "        vertical-align: top;\n",
       "    }\n",
       "\n",
       "    .dataframe thead th {\n",
       "        text-align: right;\n",
       "    }\n",
       "</style>\n",
       "<table border=\"1\" class=\"dataframe\">\n",
       "  <thead>\n",
       "    <tr style=\"text-align: right;\">\n",
       "      <th></th>\n",
       "      <th>통계코드</th>\n",
       "      <th>항목명1</th>\n",
       "      <th>주기</th>\n",
       "      <th>항목코드1</th>\n",
       "      <th>항목코드2</th>\n",
       "      <th>항목코드3</th>\n",
       "    </tr>\n",
       "  </thead>\n",
       "  <tbody>\n",
       "    <tr>\n",
       "      <th>0</th>\n",
       "      <td>901Y014</td>\n",
       "      <td>KOSPI_평균</td>\n",
       "      <td>M</td>\n",
       "      <td>1080000</td>\n",
       "      <td></td>\n",
       "      <td></td>\n",
       "    </tr>\n",
       "    <tr>\n",
       "      <th>1</th>\n",
       "      <td>722Y001</td>\n",
       "      <td>한국은행기준금리</td>\n",
       "      <td>M</td>\n",
       "      <td>0101000</td>\n",
       "      <td></td>\n",
       "      <td></td>\n",
       "    </tr>\n",
       "  </tbody>\n",
       "</table>\n",
       "</div>"
      ],
      "text/plain": [
       "      통계코드      항목명1 주기    항목코드1 항목코드2 항목코드3\n",
       "0  901Y014  KOSPI_평균  M  1080000            \n",
       "1  722Y001  한국은행기준금리  M  0101000            "
      ]
     },
     "execution_count": 57,
     "metadata": {},
     "output_type": "execute_result"
    }
   ],
   "source": [
    "# df = pd.concat([df, temp])\n",
    "df"
   ]
  },
  {
   "cell_type": "code",
   "execution_count": 58,
   "metadata": {
    "ExecuteTime": {
     "end_time": "2024-01-23T13:34:31.212055Z",
     "start_time": "2024-01-23T13:34:31.197668Z"
    }
   },
   "outputs": [
    {
     "data": {
      "text/html": [
       "<div>\n",
       "<style scoped>\n",
       "    .dataframe tbody tr th:only-of-type {\n",
       "        vertical-align: middle;\n",
       "    }\n",
       "\n",
       "    .dataframe tbody tr th {\n",
       "        vertical-align: top;\n",
       "    }\n",
       "\n",
       "    .dataframe thead th {\n",
       "        text-align: right;\n",
       "    }\n",
       "</style>\n",
       "<table border=\"1\" class=\"dataframe\">\n",
       "  <thead>\n",
       "    <tr style=\"text-align: right;\">\n",
       "      <th></th>\n",
       "      <th>통계코드</th>\n",
       "      <th>항목명1</th>\n",
       "      <th>주기</th>\n",
       "      <th>항목코드1</th>\n",
       "      <th>항목코드2</th>\n",
       "      <th>항목코드3</th>\n",
       "    </tr>\n",
       "  </thead>\n",
       "  <tbody>\n",
       "    <tr>\n",
       "      <th>0</th>\n",
       "      <td>901Y014</td>\n",
       "      <td>KOSPI_평균</td>\n",
       "      <td>M</td>\n",
       "      <td>1080000</td>\n",
       "      <td></td>\n",
       "      <td></td>\n",
       "    </tr>\n",
       "    <tr>\n",
       "      <th>1</th>\n",
       "      <td>722Y001</td>\n",
       "      <td>한국은행기준금리</td>\n",
       "      <td>M</td>\n",
       "      <td>0101000</td>\n",
       "      <td></td>\n",
       "      <td></td>\n",
       "    </tr>\n",
       "    <tr>\n",
       "      <th>2</th>\n",
       "      <td>404Y014</td>\n",
       "      <td>생산자물가지수</td>\n",
       "      <td>M</td>\n",
       "      <td>*AA</td>\n",
       "      <td></td>\n",
       "      <td></td>\n",
       "    </tr>\n",
       "  </tbody>\n",
       "</table>\n",
       "</div>"
      ],
      "text/plain": [
       "      통계코드      항목명1 주기    항목코드1 항목코드2 항목코드3\n",
       "0  901Y014  KOSPI_평균  M  1080000            \n",
       "1  722Y001  한국은행기준금리  M  0101000            \n",
       "2  404Y014   생산자물가지수  M      *AA            "
      ]
     },
     "execution_count": 58,
     "metadata": {},
     "output_type": "execute_result"
    }
   ],
   "source": [
    "# 기준금리 행 추가\n",
    "# 통계표 > 2. 한국은행 주요계정 및 기준금리 > 2.6 한국은행 기준금리 및 여수신금리 > 한국은행 기준금리 [010100]\n",
    "\n",
    "# temp = pd.DataFrame(data=[['902Y007', '생산자물가지수','M','KR',\"\",\"\"]], columns=[\"통계코드\", \"항목명1\", \"주기\", \"항목코드1\",\"항목코드2\", \"항목코드3\"])\n",
    "\n",
    "df = pd.concat([df, temp])\n",
    "df = df.reset_index(drop=True)\n",
    "df"
   ]
  },
  {
   "cell_type": "markdown",
   "metadata": {},
   "source": [
    "###  1.5.3 열 삭제 및 행 삭제"
   ]
  },
  {
   "cell_type": "markdown",
   "metadata": {},
   "source": [
    "#### 1.5.3.1 열(columns) 삭제\n",
    "\n",
    "* columns 이름으로 삭제  \n",
    "df.drop(columns = ['A'])  # 한 개 열을 삭제  \n",
    "df.drop(columns = ['A','B'])  #여러개 열을 삭제  \n",
    "<br><br>\n",
    "\n",
    "* axis 설정을 통해 삭제  \n",
    "df.drop('A', axis = 1)   #한 개 열을 삭제  \n",
    "df.drop(['A', 'B'], axis = 1)   #여러개 열을 삭제  \n",
    "<br><br>\n",
    "\n",
    "* iloc를 이용한 삭제(Slicing)  \n",
    "df.iloc[:, 1:] # 0번째 column을 삭제하고 나머지만 남긴다.<br>\n",
    "df.iloc[:,2:] # 0번째, 1번째 column 삭제 뒤 나머지만 남기기.  \n",
    "<br><br>    \n",
    "\n",
    "* loc를 이용한 삭제(Slicing)       <br>\n",
    "df.loc[:,'B':]  # B열부터 끝까지 출력  \n",
    "df.loc[:,'A':'B'] # A열부터 B열까지 출력"
   ]
  },
  {
   "cell_type": "markdown",
   "metadata": {},
   "source": [
    "#### 1.5.3.2 행(row) 삭제\n",
    "* 인덱스를 이용한 삭제  \n",
    "df.drop(0)  # index 중 0 행 삭제, default값이 axis = 0<BR>\n",
    "df.drop([1,2]) # 여러 행 삭제 - 1, 2 행 삭제   "
   ]
  },
  {
   "cell_type": "code",
   "execution_count": 59,
   "metadata": {
    "ExecuteTime": {
     "end_time": "2024-01-23T13:34:31.228807Z",
     "start_time": "2024-01-23T13:34:31.213583Z"
    }
   },
   "outputs": [],
   "source": [
    "# 열(칼럼)삭제 - 항목코드2 \n",
    "# df.drop(columns = ['항목코드2'], inplace=True) # 한 개 열을 삭제"
   ]
  },
  {
   "cell_type": "code",
   "execution_count": 60,
   "metadata": {
    "ExecuteTime": {
     "end_time": "2024-01-23T13:34:31.245536Z",
     "start_time": "2024-01-23T13:34:31.230482Z"
    }
   },
   "outputs": [],
   "source": [
    "# 행(로우) 삭제 - 고용률\n",
    "# df.drop([1], inplace=True) # 한 개 행을 삭제"
   ]
  },
  {
   "cell_type": "code",
   "execution_count": 61,
   "metadata": {
    "ExecuteTime": {
     "end_time": "2024-01-23T13:34:31.262110Z",
     "start_time": "2024-01-23T13:34:31.247357Z"
    }
   },
   "outputs": [],
   "source": [
    "# df = df.replace(np.nan,'', regex=True) # regex = True 정규표현식 작동. 문자열 일부만 치환하고 싶은 경우"
   ]
  },
  {
   "cell_type": "markdown",
   "metadata": {
    "ExecuteTime": {
     "end_time": "2021-10-19T11:55:09.066686Z",
     "start_time": "2021-10-19T11:55:09.058175Z"
    }
   },
   "source": [
    "정규표현식에 대해서는 아래 블로그 공부해보시면 좋습니다. https://ponyozzang.tistory.com/614"
   ]
  },
  {
   "cell_type": "markdown",
   "metadata": {
    "ExecuteTime": {
     "end_time": "2021-10-18T09:44:36.357200Z",
     "start_time": "2021-10-18T09:44:36.344116Z"
    }
   },
   "source": [
    "## <span style=\"color:red\"> 1.6 각자의 API KEY를 입력하세요  </span>"
   ]
  },
  {
   "cell_type": "code",
   "execution_count": 62,
   "metadata": {
    "ExecuteTime": {
     "end_time": "2024-01-23T13:34:31.278799Z",
     "start_time": "2024-01-23T13:34:31.264004Z"
    }
   },
   "outputs": [],
   "source": [
    "key = '6L9NIJW1BDGVDJLBO4CA' # 한국은행API 인증코드(개인별 보안자료)"
   ]
  },
  {
   "cell_type": "markdown",
   "metadata": {},
   "source": [
    "## [Tips] 정규 표현식(正規表現式, 영어: regular expression)\n",
    "간단히 regexp 또는 regex, rational expression<br>\n",
    "또는 정규식(正規式)은 특정한 규칙을 가진 문자열의 집합을 표현하는 데 사용하는 형식 언어<br>\n",
    "특정한 패턴과 일치하는 문자열을 검색, 치환, 제거 하는 기능을 지원함.\n",
    "[상세한 내용은 점프 투 파이썬 온라인 교재 참고해주세요](https://wikidocs.net/13#f)"
   ]
  },
  {
   "cell_type": "markdown",
   "metadata": {},
   "source": [
    "### strptime  : 문자열 → 날짜\n",
    "strptime means string parser, this will convert a string format to datetime.   \n",
    "\n",
    "### strftime : 날짜 → 문자열\n",
    "strftime means string formatter, this will format a datetime object to string format."
   ]
  },
  {
   "cell_type": "code",
   "execution_count": 63,
   "metadata": {
    "ExecuteTime": {
     "end_time": "2024-01-23T13:34:31.295791Z",
     "start_time": "2024-01-23T13:34:31.282286Z"
    }
   },
   "outputs": [],
   "source": [
    "# name = '홍길동'\n",
    "# age = 30"
   ]
  },
  {
   "cell_type": "code",
   "execution_count": 64,
   "metadata": {
    "ExecuteTime": {
     "end_time": "2024-01-23T13:34:31.312183Z",
     "start_time": "2024-01-23T13:34:31.299816Z"
    }
   },
   "outputs": [],
   "source": [
    "# f'나의 이름은 {name}입니다. 나이는 {age}입니다.'"
   ]
  },
  {
   "cell_type": "code",
   "execution_count": 65,
   "metadata": {
    "ExecuteTime": {
     "end_time": "2024-01-23T13:34:31.329106Z",
     "start_time": "2024-01-23T13:34:31.315493Z"
    }
   },
   "outputs": [],
   "source": [
    "# key=1\n",
    "# Statcode='0'\n",
    "# Freq='1'\n",
    "# Begdate='2'\n",
    "# Enddate='3'\n",
    "# Subcode1='4'\n",
    "# Subcode2='5'\n",
    "# Subcode3='6'"
   ]
  },
  {
   "cell_type": "code",
   "execution_count": 66,
   "metadata": {
    "ExecuteTime": {
     "end_time": "2024-01-23T13:34:31.345719Z",
     "start_time": "2024-01-23T13:34:31.333467Z"
    }
   },
   "outputs": [
    {
     "data": {
      "text/html": [
       "<div>\n",
       "<style scoped>\n",
       "    .dataframe tbody tr th:only-of-type {\n",
       "        vertical-align: middle;\n",
       "    }\n",
       "\n",
       "    .dataframe tbody tr th {\n",
       "        vertical-align: top;\n",
       "    }\n",
       "\n",
       "    .dataframe thead th {\n",
       "        text-align: right;\n",
       "    }\n",
       "</style>\n",
       "<table border=\"1\" class=\"dataframe\">\n",
       "  <thead>\n",
       "    <tr style=\"text-align: right;\">\n",
       "      <th></th>\n",
       "      <th>통계코드</th>\n",
       "      <th>항목명1</th>\n",
       "      <th>주기</th>\n",
       "      <th>항목코드1</th>\n",
       "      <th>항목코드2</th>\n",
       "      <th>항목코드3</th>\n",
       "    </tr>\n",
       "  </thead>\n",
       "  <tbody>\n",
       "    <tr>\n",
       "      <th>0</th>\n",
       "      <td>901Y014</td>\n",
       "      <td>KOSPI_평균</td>\n",
       "      <td>M</td>\n",
       "      <td>1080000</td>\n",
       "      <td></td>\n",
       "      <td></td>\n",
       "    </tr>\n",
       "    <tr>\n",
       "      <th>1</th>\n",
       "      <td>722Y001</td>\n",
       "      <td>한국은행기준금리</td>\n",
       "      <td>M</td>\n",
       "      <td>0101000</td>\n",
       "      <td></td>\n",
       "      <td></td>\n",
       "    </tr>\n",
       "    <tr>\n",
       "      <th>2</th>\n",
       "      <td>404Y014</td>\n",
       "      <td>생산자물가지수</td>\n",
       "      <td>M</td>\n",
       "      <td>*AA</td>\n",
       "      <td></td>\n",
       "      <td></td>\n",
       "    </tr>\n",
       "  </tbody>\n",
       "</table>\n",
       "</div>"
      ],
      "text/plain": [
       "      통계코드      항목명1 주기    항목코드1 항목코드2 항목코드3\n",
       "0  901Y014  KOSPI_평균  M  1080000            \n",
       "1  722Y001  한국은행기준금리  M  0101000            \n",
       "2  404Y014   생산자물가지수  M      *AA            "
      ]
     },
     "execution_count": 66,
     "metadata": {},
     "output_type": "execute_result"
    }
   ],
   "source": [
    "df"
   ]
  },
  {
   "cell_type": "markdown",
   "metadata": {},
   "source": [
    "### 1.6.1 df 표에서 정의한 데이터를 호출하는 함수"
   ]
  },
  {
   "cell_type": "code",
   "execution_count": 67,
   "metadata": {
    "ExecuteTime": {
     "end_time": "2024-01-23T13:34:31.362709Z",
     "start_time": "2024-01-23T13:34:31.348287Z"
    }
   },
   "outputs": [],
   "source": [
    "def Ecos(Statcode, Statname, Freq, Begdate, Enddate, Subcode1, Subcode2, Subcode3):\n",
    "\n",
    "    url = 'http://ecos.bok.or.kr/api/StatisticSearch/' + key + '/xml/kr/1/100000/%s/%s/%s/%s/%s/%s/%s/' % (\n",
    "        Statcode, Freq, Begdate, Enddate, Subcode1, Subcode2, Subcode3)\n",
    "    res = requests.get(url)\n",
    "    xml = BeautifulSoup(res.text, 'xml')\n",
    "\n",
    "    # Pandas 데이터프레임으로 전환합니다.\n",
    "    raw_data = xml.find_all(\"row\")\n",
    "    \n",
    "    date_list = []\n",
    "    value_list = []\n",
    "\n",
    "    for item in raw_data:\n",
    "\n",
    "        value = item.find('DATA_VALUE').text.encode('utf-8')\n",
    "        date_str = item.find('TIME').text\n",
    "\n",
    "        # value 값을 실수로 바꿔주고 만약 안되면 NaN을 입력\n",
    "        try:\n",
    "            value = float(value)\n",
    "        except:\n",
    "            value = np.nan\n",
    "\n",
    "        date_list.append(datetime.datetime.strptime(date_str, '%Y%m'))\n",
    "        value_list.append(value)\n",
    "\n",
    "    df = pd.DataFrame(index=date_list)\n",
    "\n",
    "    df['%s' % (Statname)] = value_list\n",
    "\n",
    "    return df"
   ]
  },
  {
   "cell_type": "code",
   "execution_count": 68,
   "metadata": {
    "ExecuteTime": {
     "end_time": "2024-01-23T13:34:31.379394Z",
     "start_time": "2024-01-23T13:34:31.364158Z"
    }
   },
   "outputs": [],
   "source": [
    "### 1.6.2 위에서 정의한 함수(Ecos)를 사용하여 데이터를 뽑아 날짜 인덱스를 기준으로 세로로 병합(merge)한 함수"
   ]
  },
  {
   "cell_type": "code",
   "execution_count": 69,
   "metadata": {
    "ExecuteTime": {
     "end_time": "2024-01-23T13:34:31.395450Z",
     "start_time": "2024-01-23T13:34:31.381556Z"
    }
   },
   "outputs": [
    {
     "data": {
      "text/html": [
       "<div>\n",
       "<style scoped>\n",
       "    .dataframe tbody tr th:only-of-type {\n",
       "        vertical-align: middle;\n",
       "    }\n",
       "\n",
       "    .dataframe tbody tr th {\n",
       "        vertical-align: top;\n",
       "    }\n",
       "\n",
       "    .dataframe thead th {\n",
       "        text-align: right;\n",
       "    }\n",
       "</style>\n",
       "<table border=\"1\" class=\"dataframe\">\n",
       "  <thead>\n",
       "    <tr style=\"text-align: right;\">\n",
       "      <th></th>\n",
       "      <th>통계코드</th>\n",
       "      <th>항목명1</th>\n",
       "      <th>주기</th>\n",
       "      <th>항목코드1</th>\n",
       "      <th>항목코드2</th>\n",
       "      <th>항목코드3</th>\n",
       "    </tr>\n",
       "  </thead>\n",
       "  <tbody>\n",
       "    <tr>\n",
       "      <th>0</th>\n",
       "      <td>901Y014</td>\n",
       "      <td>KOSPI_평균</td>\n",
       "      <td>M</td>\n",
       "      <td>1080000</td>\n",
       "      <td></td>\n",
       "      <td></td>\n",
       "    </tr>\n",
       "    <tr>\n",
       "      <th>1</th>\n",
       "      <td>722Y001</td>\n",
       "      <td>한국은행기준금리</td>\n",
       "      <td>M</td>\n",
       "      <td>0101000</td>\n",
       "      <td></td>\n",
       "      <td></td>\n",
       "    </tr>\n",
       "    <tr>\n",
       "      <th>2</th>\n",
       "      <td>404Y014</td>\n",
       "      <td>생산자물가지수</td>\n",
       "      <td>M</td>\n",
       "      <td>*AA</td>\n",
       "      <td></td>\n",
       "      <td></td>\n",
       "    </tr>\n",
       "  </tbody>\n",
       "</table>\n",
       "</div>"
      ],
      "text/plain": [
       "      통계코드      항목명1 주기    항목코드1 항목코드2 항목코드3\n",
       "0  901Y014  KOSPI_평균  M  1080000            \n",
       "1  722Y001  한국은행기준금리  M  0101000            \n",
       "2  404Y014   생산자물가지수  M      *AA            "
      ]
     },
     "execution_count": 69,
     "metadata": {},
     "output_type": "execute_result"
    }
   ],
   "source": [
    "df"
   ]
  },
  {
   "cell_type": "code",
   "execution_count": 70,
   "metadata": {
    "ExecuteTime": {
     "end_time": "2024-01-23T13:34:31.411209Z",
     "start_time": "2024-01-23T13:34:31.397323Z"
    }
   },
   "outputs": [
    {
     "data": {
      "text/plain": [
       "3"
      ]
     },
     "execution_count": 70,
     "metadata": {},
     "output_type": "execute_result"
    }
   ],
   "source": [
    "end = len(df.index)\n",
    "end"
   ]
  },
  {
   "cell_type": "code",
   "execution_count": 71,
   "metadata": {
    "ExecuteTime": {
     "end_time": "2024-01-23T13:34:34.158591Z",
     "start_time": "2024-01-23T13:34:33.220470Z"
    }
   },
   "outputs": [
    {
     "name": "stdout",
     "output_type": "stream",
     "text": [
      "            KOSPI_평균\n",
      "2000-02-01    902.73\n",
      "2000-03-01    878.38\n",
      "2000-04-01    779.75\n",
      "2000-05-01    720.77\n",
      "2000-06-01    795.05\n",
      "...              ...\n",
      "2023-08-01   2562.05\n",
      "2023-09-01   2543.82\n",
      "2023-10-01   2392.14\n",
      "2023-11-01   2458.95\n",
      "2023-12-01   2553.64\n",
      "\n",
      "[287 rows x 1 columns]\n",
      "            한국은행기준금리\n",
      "2000-01-01      4.75\n",
      "2000-02-01      5.00\n",
      "2000-03-01      5.00\n",
      "2000-04-01      5.00\n",
      "2000-05-01      5.00\n",
      "...              ...\n",
      "2023-08-01      3.50\n",
      "2023-09-01      3.50\n",
      "2023-10-01      3.50\n",
      "2023-11-01      3.50\n",
      "2023-12-01      3.50\n",
      "\n",
      "[288 rows x 1 columns]\n",
      "            생산자물가지수\n",
      "2000-01-01    78.77\n",
      "2000-02-01    78.57\n",
      "2000-03-01    78.52\n",
      "2000-04-01    78.14\n",
      "2000-05-01    77.95\n",
      "...             ...\n",
      "2023-08-01   121.17\n",
      "2023-09-01   121.72\n",
      "2023-10-01   121.56\n",
      "2023-11-01   121.02\n",
      "2023-12-01   121.19\n",
      "\n",
      "[288 rows x 1 columns]\n"
     ]
    }
   ],
   "source": [
    "# 반복 범위설정을 위해 데이터프레임의 행 개수(마지막 행)를 구합니다\n",
    "end = len(df.index)\n",
    "\n",
    "# 2개의 빈 데이터 프레임을 생성합니다.\n",
    "df_eachrow = pd.DataFrame()\n",
    "data_table = pd.DataFrame()\n",
    "\n",
    "# data 목록에 있는 시계열들을 반복적으로 추출합니다.\n",
    "# 추출기간은 2000년1월 ~ 2021년 7월로 합니다.\n",
    "\n",
    "START_TIME = '200001'\n",
    "END_TIME = '202401'\n",
    "\n",
    "for i in range(0, end):\n",
    "    df_eachrow = Ecos(df['통계코드'][i], df['항목명1'][i], df['주기'][i], START_TIME,\n",
    "                   END_TIME, df['항목코드1'][i], df['항목코드2'][i], df['항목코드3'][i])\n",
    "    print(df_eachrow)\n",
    "    if i == 0:\n",
    "        data_table = df_eachrow\n",
    "    else:\n",
    "        data_table = pd.merge(data_table,\n",
    "                              df_eachrow,\n",
    "                              left_index=True, # 인덱스를 기준열로 사용  # cf. left_on='time\", right_on=\"시점\"\n",
    "                              right_index=True,# 인덱스를 기준열로 사용\n",
    "                              how='outer') "
   ]
  },
  {
   "cell_type": "markdown",
   "metadata": {},
   "source": [
    "## 1.7 Merge 함수\n",
    "### [판다스 공식 홈페이지 - pandas.DataFrame.merge ](https://pandas.pydata.org/docs/reference/api/pandas.DataFrame.merge.html)\n",
    "DataFrame.merge(right, how='inner', on=None, left_on=None, right_on=None, left_index=False, right_index=False, sort=False, suffixes=('_x', '_y'), copy=True, indicator=False, validate=None)"
   ]
  },
  {
   "cell_type": "markdown",
   "metadata": {},
   "source": [
    "![merge](./data/merge.png)"
   ]
  },
  {
   "cell_type": "code",
   "execution_count": 72,
   "metadata": {
    "ExecuteTime": {
     "end_time": "2024-01-23T13:34:38.744415Z",
     "start_time": "2024-01-23T13:34:38.725507Z"
    }
   },
   "outputs": [
    {
     "data": {
      "text/html": [
       "<div>\n",
       "<style scoped>\n",
       "    .dataframe tbody tr th:only-of-type {\n",
       "        vertical-align: middle;\n",
       "    }\n",
       "\n",
       "    .dataframe tbody tr th {\n",
       "        vertical-align: top;\n",
       "    }\n",
       "\n",
       "    .dataframe thead th {\n",
       "        text-align: right;\n",
       "    }\n",
       "</style>\n",
       "<table border=\"1\" class=\"dataframe\">\n",
       "  <thead>\n",
       "    <tr style=\"text-align: right;\">\n",
       "      <th></th>\n",
       "      <th>KOSPI_평균</th>\n",
       "      <th>한국은행기준금리</th>\n",
       "      <th>생산자물가지수</th>\n",
       "    </tr>\n",
       "  </thead>\n",
       "  <tbody>\n",
       "    <tr>\n",
       "      <th>2000-01-01</th>\n",
       "      <td>NaN</td>\n",
       "      <td>4.75</td>\n",
       "      <td>78.77</td>\n",
       "    </tr>\n",
       "    <tr>\n",
       "      <th>2000-02-01</th>\n",
       "      <td>902.73</td>\n",
       "      <td>5.00</td>\n",
       "      <td>78.57</td>\n",
       "    </tr>\n",
       "    <tr>\n",
       "      <th>2000-03-01</th>\n",
       "      <td>878.38</td>\n",
       "      <td>5.00</td>\n",
       "      <td>78.52</td>\n",
       "    </tr>\n",
       "    <tr>\n",
       "      <th>2000-04-01</th>\n",
       "      <td>779.75</td>\n",
       "      <td>5.00</td>\n",
       "      <td>78.14</td>\n",
       "    </tr>\n",
       "    <tr>\n",
       "      <th>2000-05-01</th>\n",
       "      <td>720.77</td>\n",
       "      <td>5.00</td>\n",
       "      <td>77.95</td>\n",
       "    </tr>\n",
       "    <tr>\n",
       "      <th>...</th>\n",
       "      <td>...</td>\n",
       "      <td>...</td>\n",
       "      <td>...</td>\n",
       "    </tr>\n",
       "    <tr>\n",
       "      <th>2023-08-01</th>\n",
       "      <td>2562.05</td>\n",
       "      <td>3.50</td>\n",
       "      <td>121.17</td>\n",
       "    </tr>\n",
       "    <tr>\n",
       "      <th>2023-09-01</th>\n",
       "      <td>2543.82</td>\n",
       "      <td>3.50</td>\n",
       "      <td>121.72</td>\n",
       "    </tr>\n",
       "    <tr>\n",
       "      <th>2023-10-01</th>\n",
       "      <td>2392.14</td>\n",
       "      <td>3.50</td>\n",
       "      <td>121.56</td>\n",
       "    </tr>\n",
       "    <tr>\n",
       "      <th>2023-11-01</th>\n",
       "      <td>2458.95</td>\n",
       "      <td>3.50</td>\n",
       "      <td>121.02</td>\n",
       "    </tr>\n",
       "    <tr>\n",
       "      <th>2023-12-01</th>\n",
       "      <td>2553.64</td>\n",
       "      <td>3.50</td>\n",
       "      <td>121.19</td>\n",
       "    </tr>\n",
       "  </tbody>\n",
       "</table>\n",
       "<p>288 rows × 3 columns</p>\n",
       "</div>"
      ],
      "text/plain": [
       "            KOSPI_평균  한국은행기준금리  생산자물가지수\n",
       "2000-01-01       NaN      4.75    78.77\n",
       "2000-02-01    902.73      5.00    78.57\n",
       "2000-03-01    878.38      5.00    78.52\n",
       "2000-04-01    779.75      5.00    78.14\n",
       "2000-05-01    720.77      5.00    77.95\n",
       "...              ...       ...      ...\n",
       "2023-08-01   2562.05      3.50   121.17\n",
       "2023-09-01   2543.82      3.50   121.72\n",
       "2023-10-01   2392.14      3.50   121.56\n",
       "2023-11-01   2458.95      3.50   121.02\n",
       "2023-12-01   2553.64      3.50   121.19\n",
       "\n",
       "[288 rows x 3 columns]"
      ]
     },
     "execution_count": 72,
     "metadata": {},
     "output_type": "execute_result"
    }
   ],
   "source": [
    "data_table"
   ]
  },
  {
   "cell_type": "code",
   "execution_count": 73,
   "metadata": {
    "ExecuteTime": {
     "end_time": "2024-01-23T13:34:39.477215Z",
     "start_time": "2024-01-23T13:34:39.458771Z"
    }
   },
   "outputs": [
    {
     "data": {
      "text/html": [
       "<div>\n",
       "<style scoped>\n",
       "    .dataframe tbody tr th:only-of-type {\n",
       "        vertical-align: middle;\n",
       "    }\n",
       "\n",
       "    .dataframe tbody tr th {\n",
       "        vertical-align: top;\n",
       "    }\n",
       "\n",
       "    .dataframe thead th {\n",
       "        text-align: right;\n",
       "    }\n",
       "</style>\n",
       "<table border=\"1\" class=\"dataframe\">\n",
       "  <thead>\n",
       "    <tr style=\"text-align: right;\">\n",
       "      <th></th>\n",
       "      <th>KOSPI_평균</th>\n",
       "      <th>한국은행기준금리</th>\n",
       "      <th>생산자물가지수</th>\n",
       "    </tr>\n",
       "  </thead>\n",
       "  <tbody>\n",
       "    <tr>\n",
       "      <th>2000-01-01</th>\n",
       "      <td>902.73</td>\n",
       "      <td>4.75</td>\n",
       "      <td>78.77</td>\n",
       "    </tr>\n",
       "    <tr>\n",
       "      <th>2000-02-01</th>\n",
       "      <td>902.73</td>\n",
       "      <td>5.00</td>\n",
       "      <td>78.57</td>\n",
       "    </tr>\n",
       "    <tr>\n",
       "      <th>2000-03-01</th>\n",
       "      <td>878.38</td>\n",
       "      <td>5.00</td>\n",
       "      <td>78.52</td>\n",
       "    </tr>\n",
       "    <tr>\n",
       "      <th>2000-04-01</th>\n",
       "      <td>779.75</td>\n",
       "      <td>5.00</td>\n",
       "      <td>78.14</td>\n",
       "    </tr>\n",
       "    <tr>\n",
       "      <th>2000-05-01</th>\n",
       "      <td>720.77</td>\n",
       "      <td>5.00</td>\n",
       "      <td>77.95</td>\n",
       "    </tr>\n",
       "    <tr>\n",
       "      <th>...</th>\n",
       "      <td>...</td>\n",
       "      <td>...</td>\n",
       "      <td>...</td>\n",
       "    </tr>\n",
       "    <tr>\n",
       "      <th>2023-08-01</th>\n",
       "      <td>2562.05</td>\n",
       "      <td>3.50</td>\n",
       "      <td>121.17</td>\n",
       "    </tr>\n",
       "    <tr>\n",
       "      <th>2023-09-01</th>\n",
       "      <td>2543.82</td>\n",
       "      <td>3.50</td>\n",
       "      <td>121.72</td>\n",
       "    </tr>\n",
       "    <tr>\n",
       "      <th>2023-10-01</th>\n",
       "      <td>2392.14</td>\n",
       "      <td>3.50</td>\n",
       "      <td>121.56</td>\n",
       "    </tr>\n",
       "    <tr>\n",
       "      <th>2023-11-01</th>\n",
       "      <td>2458.95</td>\n",
       "      <td>3.50</td>\n",
       "      <td>121.02</td>\n",
       "    </tr>\n",
       "    <tr>\n",
       "      <th>2023-12-01</th>\n",
       "      <td>2553.64</td>\n",
       "      <td>3.50</td>\n",
       "      <td>121.19</td>\n",
       "    </tr>\n",
       "  </tbody>\n",
       "</table>\n",
       "<p>288 rows × 3 columns</p>\n",
       "</div>"
      ],
      "text/plain": [
       "            KOSPI_평균  한국은행기준금리  생산자물가지수\n",
       "2000-01-01    902.73      4.75    78.77\n",
       "2000-02-01    902.73      5.00    78.57\n",
       "2000-03-01    878.38      5.00    78.52\n",
       "2000-04-01    779.75      5.00    78.14\n",
       "2000-05-01    720.77      5.00    77.95\n",
       "...              ...       ...      ...\n",
       "2023-08-01   2562.05      3.50   121.17\n",
       "2023-09-01   2543.82      3.50   121.72\n",
       "2023-10-01   2392.14      3.50   121.56\n",
       "2023-11-01   2458.95      3.50   121.02\n",
       "2023-12-01   2553.64      3.50   121.19\n",
       "\n",
       "[288 rows x 3 columns]"
      ]
     },
     "execution_count": 73,
     "metadata": {},
     "output_type": "execute_result"
    }
   ],
   "source": [
    "# 결측치 채워넣기\n",
    "data_table.fillna(method='backfill', inplace=True) \n",
    "data_table"
   ]
  },
  {
   "cell_type": "markdown",
   "metadata": {
    "ExecuteTime": {
     "end_time": "2021-10-18T09:52:49.036016Z",
     "start_time": "2021-10-18T09:52:49.029009Z"
    }
   },
   "source": [
    "## 1.8 fillna 함수\n",
    "### [판다스 공식 홈페이지 - pandas.DataFrame.fillna](https://pandas.pydata.org/docs/reference/api/pandas.DataFrame.fillna.html)\n",
    "DataFrame.fillna(value=None, method=None, axis=None, inplace=False, limit=None, downcast=None)<br>\n",
    "method{‘backfill’, ‘bfill’, ‘pad’, ‘ffill’, None}, default None\n",
    "Method to use for filling holes in reindexed Series pad / ffill: propagate last valid observation forward to next valid backfill / bfill: use next valid observation to fill gap."
   ]
  },
  {
   "cell_type": "code",
   "execution_count": 74,
   "metadata": {
    "ExecuteTime": {
     "end_time": "2024-01-23T13:34:40.179037Z",
     "start_time": "2024-01-23T13:34:39.946713Z"
    }
   },
   "outputs": [
    {
     "data": {
      "text/plain": [
       "<Axes: >"
      ]
     },
     "execution_count": 74,
     "metadata": {},
     "output_type": "execute_result"
    },
    {
     "data": {
      "image/png": "[encoded data removed]",
      "text/plain": [
       "<Figure size 1800x720 with 2 Axes>"
      ]
     },
     "metadata": {
      "needs_background": "light"
     },
     "output_type": "display_data"
    }
   ],
   "source": [
    "import matplotlib.pyplot as plt\n",
    "import missingno as msno\n",
    "%matplotlib inline\n",
    "plt.rc('font', family = 'NanumGothic')\n",
    "msno.matrix(data_table)"
   ]
  },
  {
   "cell_type": "code",
   "execution_count": 75,
   "metadata": {
    "ExecuteTime": {
     "end_time": "2024-01-23T13:34:40.211050Z",
     "start_time": "2024-01-23T13:34:40.196295Z"
    }
   },
   "outputs": [
    {
     "data": {
      "text/plain": [
       "KOSPI_평균    0\n",
       "한국은행기준금리    0\n",
       "생산자물가지수     0\n",
       "dtype: int64"
      ]
     },
     "execution_count": 75,
     "metadata": {},
     "output_type": "execute_result"
    }
   ],
   "source": [
    "data_table.isnull().sum()"
   ]
  },
  {
   "cell_type": "code",
   "execution_count": 76,
   "metadata": {
    "ExecuteTime": {
     "end_time": "2024-01-23T13:34:40.443067Z",
     "start_time": "2024-01-23T13:34:40.413161Z"
    }
   },
   "outputs": [
    {
     "data": {
      "text/html": [
       "<div>\n",
       "<style scoped>\n",
       "    .dataframe tbody tr th:only-of-type {\n",
       "        vertical-align: middle;\n",
       "    }\n",
       "\n",
       "    .dataframe tbody tr th {\n",
       "        vertical-align: top;\n",
       "    }\n",
       "\n",
       "    .dataframe thead th {\n",
       "        text-align: right;\n",
       "    }\n",
       "</style>\n",
       "<table border=\"1\" class=\"dataframe\">\n",
       "  <thead>\n",
       "    <tr style=\"text-align: right;\">\n",
       "      <th></th>\n",
       "      <th>KOSPI_평균</th>\n",
       "      <th>한국은행기준금리</th>\n",
       "      <th>생산자물가지수</th>\n",
       "    </tr>\n",
       "  </thead>\n",
       "  <tbody>\n",
       "    <tr>\n",
       "      <th>2000-01-01</th>\n",
       "      <td>902.73</td>\n",
       "      <td>4.75</td>\n",
       "      <td>78.77</td>\n",
       "    </tr>\n",
       "    <tr>\n",
       "      <th>2000-02-01</th>\n",
       "      <td>902.73</td>\n",
       "      <td>5.00</td>\n",
       "      <td>78.57</td>\n",
       "    </tr>\n",
       "    <tr>\n",
       "      <th>2000-03-01</th>\n",
       "      <td>878.38</td>\n",
       "      <td>5.00</td>\n",
       "      <td>78.52</td>\n",
       "    </tr>\n",
       "    <tr>\n",
       "      <th>2000-04-01</th>\n",
       "      <td>779.75</td>\n",
       "      <td>5.00</td>\n",
       "      <td>78.14</td>\n",
       "    </tr>\n",
       "    <tr>\n",
       "      <th>2000-05-01</th>\n",
       "      <td>720.77</td>\n",
       "      <td>5.00</td>\n",
       "      <td>77.95</td>\n",
       "    </tr>\n",
       "    <tr>\n",
       "      <th>...</th>\n",
       "      <td>...</td>\n",
       "      <td>...</td>\n",
       "      <td>...</td>\n",
       "    </tr>\n",
       "    <tr>\n",
       "      <th>2023-08-01</th>\n",
       "      <td>2562.05</td>\n",
       "      <td>3.50</td>\n",
       "      <td>121.17</td>\n",
       "    </tr>\n",
       "    <tr>\n",
       "      <th>2023-09-01</th>\n",
       "      <td>2543.82</td>\n",
       "      <td>3.50</td>\n",
       "      <td>121.72</td>\n",
       "    </tr>\n",
       "    <tr>\n",
       "      <th>2023-10-01</th>\n",
       "      <td>2392.14</td>\n",
       "      <td>3.50</td>\n",
       "      <td>121.56</td>\n",
       "    </tr>\n",
       "    <tr>\n",
       "      <th>2023-11-01</th>\n",
       "      <td>2458.95</td>\n",
       "      <td>3.50</td>\n",
       "      <td>121.02</td>\n",
       "    </tr>\n",
       "    <tr>\n",
       "      <th>2023-12-01</th>\n",
       "      <td>2553.64</td>\n",
       "      <td>3.50</td>\n",
       "      <td>121.19</td>\n",
       "    </tr>\n",
       "  </tbody>\n",
       "</table>\n",
       "<p>288 rows × 3 columns</p>\n",
       "</div>"
      ],
      "text/plain": [
       "            KOSPI_평균  한국은행기준금리  생산자물가지수\n",
       "2000-01-01    902.73      4.75    78.77\n",
       "2000-02-01    902.73      5.00    78.57\n",
       "2000-03-01    878.38      5.00    78.52\n",
       "2000-04-01    779.75      5.00    78.14\n",
       "2000-05-01    720.77      5.00    77.95\n",
       "...              ...       ...      ...\n",
       "2023-08-01   2562.05      3.50   121.17\n",
       "2023-09-01   2543.82      3.50   121.72\n",
       "2023-10-01   2392.14      3.50   121.56\n",
       "2023-11-01   2458.95      3.50   121.02\n",
       "2023-12-01   2553.64      3.50   121.19\n",
       "\n",
       "[288 rows x 3 columns]"
      ]
     },
     "execution_count": 76,
     "metadata": {},
     "output_type": "execute_result"
    }
   ],
   "source": [
    "data_table"
   ]
  },
  {
   "cell_type": "code",
   "execution_count": 77,
   "metadata": {
    "ExecuteTime": {
     "end_time": "2024-01-23T13:34:40.612388Z",
     "start_time": "2024-01-23T13:34:40.596631Z"
    }
   },
   "outputs": [],
   "source": [
    "# 다운로드 데이터 저장\n",
    "data_table.to_csv(\"ECOS_BOK\")"
   ]
  },
  {
   "cell_type": "markdown",
   "metadata": {},
   "source": [
    "# 2. 한국은행 데이터 json 타입 전처리 함수 구현 feat. Class 개념"
   ]
  },
  {
   "cell_type": "code",
   "execution_count": 78,
   "metadata": {
    "ExecuteTime": {
     "end_time": "2024-01-23T13:34:40.979145Z",
     "start_time": "2024-01-23T13:34:40.972381Z"
    }
   },
   "outputs": [],
   "source": [
    "base = 'http://ecos.bok.or.kr/api/'"
   ]
  },
  {
   "cell_type": "code",
   "execution_count": 79,
   "metadata": {
    "ExecuteTime": {
     "end_time": "2024-01-23T13:34:41.195131Z",
     "start_time": "2024-01-23T13:34:41.180019Z"
    }
   },
   "outputs": [],
   "source": [
    "start = '1'\n",
    "end = '2'\n",
    "\n",
    "STAT_CODE='902Y008'\n",
    "ITEM_CODE1='KR'"
   ]
  },
  {
   "cell_type": "code",
   "execution_count": 80,
   "metadata": {
    "ExecuteTime": {
     "end_time": "2024-01-23T13:34:41.395067Z",
     "start_time": "2024-01-23T13:34:41.373751Z"
    }
   },
   "outputs": [],
   "source": [
    "url = base + 'StatisticItemList/' + key \\\n",
    "      + '/json/kr/' + str(start) + '/' + str(end) \\\n",
    "      + '/' + STAT_CODE + '/'+ITEM_CODE1"
   ]
  },
  {
   "cell_type": "code",
   "execution_count": 81,
   "metadata": {
    "ExecuteTime": {
     "end_time": "2024-01-23T13:34:41.577640Z",
     "start_time": "2024-01-23T13:34:41.546827Z"
    }
   },
   "outputs": [
    {
     "data": {
      "text/plain": [
       "'http://ecos.bok.or.kr/api/StatisticItemList/6L9NIJW1BDGVDJLBO4CA/json/kr/1/2/902Y008/KR'"
      ]
     },
     "execution_count": 81,
     "metadata": {},
     "output_type": "execute_result"
    }
   ],
   "source": [
    "url"
   ]
  },
  {
   "cell_type": "code",
   "execution_count": 82,
   "metadata": {
    "ExecuteTime": {
     "end_time": "2024-01-23T13:34:41.861234Z",
     "start_time": "2024-01-23T13:34:41.730155Z"
    }
   },
   "outputs": [],
   "source": [
    "data = requests.get(url).json()"
   ]
  },
  {
   "cell_type": "code",
   "execution_count": 83,
   "metadata": {
    "ExecuteTime": {
     "end_time": "2024-01-23T13:34:41.928880Z",
     "start_time": "2024-01-23T13:34:41.913439Z"
    }
   },
   "outputs": [
    {
     "data": {
      "text/plain": [
       "{'StatisticItemList': {'list_total_count': 121,\n",
       "  'row': [{'STAT_CODE': '902Y008',\n",
       "    'STAT_NAME': '9.1.2.2. 국제 주요국 소비자물가지수',\n",
       "    'GRP_CODE': 'Group1',\n",
       "    'GRP_NAME': '계정항목',\n",
       "    'ITEM_CODE': 'KR',\n",
       "    'ITEM_NAME': '한국',\n",
       "    'P_ITEM_CODE': None,\n",
       "    'P_ITEM_NAME': None,\n",
       "    'CYCLE': 'A',\n",
       "    'START_TIME': '1952',\n",
       "    'END_TIME': '2022',\n",
       "    'DATA_CNT': 71,\n",
       "    'UNIT_NAME': '2010=100',\n",
       "    'WEIGHT': None},\n",
       "   {'STAT_CODE': '902Y008',\n",
       "    'STAT_NAME': '9.1.2.2. 국제 주요국 소비자물가지수',\n",
       "    'GRP_CODE': 'Group1',\n",
       "    'GRP_NAME': '계정항목',\n",
       "    'ITEM_CODE': 'KR',\n",
       "    'ITEM_NAME': '한국',\n",
       "    'P_ITEM_CODE': None,\n",
       "    'P_ITEM_NAME': None,\n",
       "    'CYCLE': 'M',\n",
       "    'START_TIME': '195108',\n",
       "    'END_TIME': '202311',\n",
       "    'DATA_CNT': 868,\n",
       "    'UNIT_NAME': '2010=100',\n",
       "    'WEIGHT': None}]}}"
      ]
     },
     "execution_count": 83,
     "metadata": {},
     "output_type": "execute_result"
    }
   ],
   "source": [
    "data"
   ]
  },
  {
   "cell_type": "code",
   "execution_count": 84,
   "metadata": {
    "ExecuteTime": {
     "end_time": "2024-01-23T13:34:42.195186Z",
     "start_time": "2024-01-23T13:34:42.163452Z"
    }
   },
   "outputs": [
    {
     "data": {
      "text/plain": [
       "'2022'"
      ]
     },
     "execution_count": 84,
     "metadata": {},
     "output_type": "execute_result"
    }
   ],
   "source": [
    "data['StatisticItemList']['row'][0]['END_TIME']"
   ]
  },
  {
   "cell_type": "code",
   "execution_count": 85,
   "metadata": {
    "ExecuteTime": {
     "end_time": "2024-01-23T13:34:42.427186Z",
     "start_time": "2024-01-23T13:34:42.413090Z"
    }
   },
   "outputs": [
    {
     "data": {
      "text/plain": [
       "'A'"
      ]
     },
     "execution_count": 85,
     "metadata": {},
     "output_type": "execute_result"
    }
   ],
   "source": [
    "data['StatisticItemList']['row'][0]['CYCLE']"
   ]
  },
  {
   "cell_type": "code",
   "execution_count": 86,
   "metadata": {
    "ExecuteTime": {
     "end_time": "2024-01-23T13:34:59.792382Z",
     "start_time": "2024-01-23T13:34:59.783225Z"
    }
   },
   "outputs": [],
   "source": [
    "date = data['StatisticItemList']['row'][0]['END_TIME']\n",
    "cycle = data['StatisticItemList']['row'][0]['CYCLE']"
   ]
  },
  {
   "cell_type": "code",
   "execution_count": 87,
   "metadata": {
    "ExecuteTime": {
     "end_time": "2024-01-23T13:35:00.081862Z",
     "start_time": "2024-01-23T13:35:00.068735Z"
    }
   },
   "outputs": [
    {
     "data": {
      "text/plain": [
       "'http://ecos.bok.or.kr/api/StatisticSearch/6L9NIJW1BDGVDJLBO4CA/json/kr/1/1/902Y008/A/2022/2022/KR'"
      ]
     },
     "execution_count": 87,
     "metadata": {},
     "output_type": "execute_result"
    }
   ],
   "source": [
    "url = base + 'StatisticSearch/' + key \\\n",
    "      + '/json/kr/1/1/' + STAT_CODE + '/' + cycle + '/' \\\n",
    "      + date + '/' + date + '/' + ITEM_CODE1\n",
    "url "
   ]
  },
  {
   "cell_type": "code",
   "execution_count": 88,
   "metadata": {
    "ExecuteTime": {
     "end_time": "2024-01-23T13:35:00.429380Z",
     "start_time": "2024-01-23T13:35:00.268453Z"
    }
   },
   "outputs": [
    {
     "data": {
      "text/plain": [
       "{'StatisticSearch': {'list_total_count': 1,\n",
       "  'row': [{'STAT_CODE': '902Y008',\n",
       "    'STAT_NAME': '9.1.2.2. 국제 주요국 소비자물가지수',\n",
       "    'ITEM_CODE1': 'KR',\n",
       "    'ITEM_NAME1': '한국',\n",
       "    'ITEM_CODE2': None,\n",
       "    'ITEM_NAME2': None,\n",
       "    'ITEM_CODE3': None,\n",
       "    'ITEM_NAME3': None,\n",
       "    'ITEM_CODE4': None,\n",
       "    'ITEM_NAME4': None,\n",
       "    'UNIT_NAME': '2010=100',\n",
       "    'WGT': None,\n",
       "    'TIME': '2022',\n",
       "    'DATA_VALUE': '124.71'}]}}"
      ]
     },
     "execution_count": 88,
     "metadata": {},
     "output_type": "execute_result"
    }
   ],
   "source": [
    "data = requests.get(url).json()\n",
    "data"
   ]
  },
  {
   "cell_type": "code",
   "execution_count": 89,
   "metadata": {
    "ExecuteTime": {
     "end_time": "2024-01-23T13:35:00.949602Z",
     "start_time": "2024-01-23T13:35:00.938894Z"
    }
   },
   "outputs": [
    {
     "name": "stdout",
     "output_type": "stream",
     "text": [
      "{'date': '2022', 'value': 124.71}\n"
     ]
    }
   ],
   "source": [
    "returnDict = {\n",
    "    'date': date,\n",
    "    'value': float(data['StatisticSearch']['row'][0]['DATA_VALUE'])\n",
    "}\n",
    "print(returnDict)"
   ]
  },
  {
   "cell_type": "code",
   "execution_count": 90,
   "metadata": {
    "ExecuteTime": {
     "end_time": "2024-01-23T13:35:01.756314Z",
     "start_time": "2024-01-23T13:35:01.523684Z"
    }
   },
   "outputs": [
    {
     "name": "stdout",
     "output_type": "stream",
     "text": [
      "{'date': '202311', 'value': 130.53}\n"
     ]
    }
   ],
   "source": [
    "import requests\n",
    "\n",
    "class Ecos:\n",
    "    def __init__(self, Key, STAT_CODE, ITEM_CODE1, count): #초기생성자       \n",
    "        self.Key = Key\n",
    "        self.STAT_CODE = STAT_CODE\n",
    "        self.ITEM_CODE1 = ITEM_CODE1\n",
    "        self.base = 'http://ecos.bok.or.kr/api/'\n",
    "        self.count = count # count: StatisticItemList에서 ITEM_CODE1이 STAT_CODE의 몇 번째 항목인지\n",
    "\n",
    "    def getJSON(self, url):\n",
    "        return requests.get(url).json()\n",
    "\n",
    "    def getDate(self):  # 일자 구하기\n",
    "        url = self.base + 'StatisticItemList/' + self.Key \\\n",
    "              + '/json/kr/' + str(self.count) + '/' + str(self.count) \\\n",
    "              + '/' + self.STAT_CODE\n",
    "        data = self.getJSON(url)\n",
    "        return (data['StatisticItemList']['row'][0]['END_TIME'],\n",
    "                data['StatisticItemList']['row'][0]['CYCLE'])\n",
    "\n",
    "    def getLatest(self):  # 가장 최근 데이터 수집 함수\n",
    "        date, cycle = self.getDate()\n",
    "        url = self.base + 'StatisticSearch/' + self.Key \\\n",
    "              + '/json/kr/1/1/' + self.STAT_CODE + '/' + cycle + '/' \\\n",
    "              + date + '/' + date + '/' + self.ITEM_CODE1\n",
    "        data = self.getJSON(url)\n",
    "        if \"RESULT\" in data:\n",
    "            url = url.replace(date, self.validDate, 2)\n",
    "            data = self.getJSON(url)\n",
    "        returnDict = {\n",
    "            'date': date,\n",
    "            'value': float(data['StatisticSearch']['row'][0]['DATA_VALUE'])\n",
    "        }\n",
    "        self.validDate = date\n",
    "        return returnDict\n",
    "\n",
    "\n",
    "\n",
    "CPI = Ecos(key, STAT_CODE='902Y008', ITEM_CODE1='KR', count=2)#, start=1, end=2) # 최근 소비자 물가지수 CPI  # 최근 소비자 물가지수 CPI '021Y125' > 전세[D01101][2015=100]\n",
    "print(CPI.getLatest()) # {'date': '202110', 'value': 111.17}\n"
   ]
  },
  {
   "cell_type": "markdown",
   "metadata": {
    "ExecuteTime": {
     "end_time": "2021-09-23T08:54:06.614411Z",
     "start_time": "2021-09-23T08:54:06.605278Z"
    }
   },
   "source": [
    "# 3. 통계 기준점 정립"
   ]
  },
  {
   "cell_type": "markdown",
   "metadata": {},
   "source": [
    "## 3.1 소비자 물가지수 \n",
    "### 3.2.1 데이터 수집"
   ]
  },
  {
   "cell_type": "markdown",
   "metadata": {},
   "source": [
    "지출목적별 소비자물가지수(품목 포함, 2015=100)"
   ]
  },
  {
   "cell_type": "markdown",
   "metadata": {},
   "source": [
    "* 수집경로 : KOSIS 국가통계포털 <https://kosis.kr/>\n",
    "\n",
    "* 총지수(전국), 전세(전국), 월세(전국)\n",
    "* 1965.1.1부터 월별 통계 지수. (기준 2020=100)\n",
    "* 행렬전환 Transposed"
   ]
  },
  {
   "cell_type": "markdown",
   "metadata": {},
   "source": [
    "[KOSIS 지출목적별 소비자물가지수 주택임차료](https://kosis.kr/statHtml/statHtml.do?orgId=101&tblId=DT_1J22001&vw_cd=MT_ZTITLE&list_id=P2_6&seqNo=&lang_mode=ko&language=kor&obj_var_id=&itm_id=&conn_path=MT_ZTITLE)"
   ]
  },
  {
   "cell_type": "markdown",
   "metadata": {},
   "source": [
    "### 3.2.2 데이터 불러오기"
   ]
  },
  {
   "cell_type": "code",
   "execution_count": 95,
   "metadata": {
    "ExecuteTime": {
     "end_time": "2024-01-23T13:42:00.950632Z",
     "start_time": "2024-01-23T13:42:00.924231Z"
    }
   },
   "outputs": [
    {
     "data": {
      "text/html": [
       "<div>\n",
       "<style scoped>\n",
       "    .dataframe tbody tr th:only-of-type {\n",
       "        vertical-align: middle;\n",
       "    }\n",
       "\n",
       "    .dataframe tbody tr th {\n",
       "        vertical-align: top;\n",
       "    }\n",
       "\n",
       "    .dataframe thead th {\n",
       "        text-align: right;\n",
       "    }\n",
       "</style>\n",
       "<table border=\"1\" class=\"dataframe\">\n",
       "  <thead>\n",
       "    <tr style=\"text-align: right;\">\n",
       "      <th></th>\n",
       "      <th>시점</th>\n",
       "      <th>0 총지수</th>\n",
       "      <th>전세</th>\n",
       "      <th>월세</th>\n",
       "    </tr>\n",
       "  </thead>\n",
       "  <tbody>\n",
       "    <tr>\n",
       "      <th>0</th>\n",
       "      <td>시점</td>\n",
       "      <td>전국</td>\n",
       "      <td>전국</td>\n",
       "      <td>전국</td>\n",
       "    </tr>\n",
       "    <tr>\n",
       "      <th>1</th>\n",
       "      <td>1965.01</td>\n",
       "      <td>2.493</td>\n",
       "      <td>-</td>\n",
       "      <td>-</td>\n",
       "    </tr>\n",
       "    <tr>\n",
       "      <th>2</th>\n",
       "      <td>1965.02</td>\n",
       "      <td>2.548</td>\n",
       "      <td>-</td>\n",
       "      <td>-</td>\n",
       "    </tr>\n",
       "    <tr>\n",
       "      <th>3</th>\n",
       "      <td>1965.03</td>\n",
       "      <td>2.553</td>\n",
       "      <td>-</td>\n",
       "      <td>-</td>\n",
       "    </tr>\n",
       "    <tr>\n",
       "      <th>4</th>\n",
       "      <td>1965.04</td>\n",
       "      <td>2.593</td>\n",
       "      <td>-</td>\n",
       "      <td>-</td>\n",
       "    </tr>\n",
       "    <tr>\n",
       "      <th>...</th>\n",
       "      <td>...</td>\n",
       "      <td>...</td>\n",
       "      <td>...</td>\n",
       "      <td>...</td>\n",
       "    </tr>\n",
       "    <tr>\n",
       "      <th>704</th>\n",
       "      <td>2023.08</td>\n",
       "      <td>112.28</td>\n",
       "      <td>104.55</td>\n",
       "      <td>102.52</td>\n",
       "    </tr>\n",
       "    <tr>\n",
       "      <th>705</th>\n",
       "      <td>2023.09</td>\n",
       "      <td>112.83</td>\n",
       "      <td>104.51</td>\n",
       "      <td>102.59</td>\n",
       "    </tr>\n",
       "    <tr>\n",
       "      <th>706</th>\n",
       "      <td>2023.10</td>\n",
       "      <td>113.26</td>\n",
       "      <td>104.48</td>\n",
       "      <td>102.65</td>\n",
       "    </tr>\n",
       "    <tr>\n",
       "      <th>707</th>\n",
       "      <td>2023.11</td>\n",
       "      <td>112.67</td>\n",
       "      <td>104.55</td>\n",
       "      <td>102.73</td>\n",
       "    </tr>\n",
       "    <tr>\n",
       "      <th>708</th>\n",
       "      <td>2023.12</td>\n",
       "      <td>112.71</td>\n",
       "      <td>104.47</td>\n",
       "      <td>102.81</td>\n",
       "    </tr>\n",
       "  </tbody>\n",
       "</table>\n",
       "<p>709 rows × 4 columns</p>\n",
       "</div>"
      ],
      "text/plain": [
       "          시점   0 총지수      전세      월세\n",
       "0         시점      전국      전국      전국\n",
       "1    1965.01   2.493       -       -\n",
       "2    1965.02   2.548       -       -\n",
       "3    1965.03   2.553       -       -\n",
       "4    1965.04   2.593       -       -\n",
       "..       ...     ...     ...     ...\n",
       "704  2023.08  112.28  104.55  102.52\n",
       "705  2023.09  112.83  104.51  102.59\n",
       "706  2023.10  113.26  104.48  102.65\n",
       "707  2023.11  112.67  104.55  102.73\n",
       "708  2023.12  112.71  104.47  102.81\n",
       "\n",
       "[709 rows x 4 columns]"
      ]
     },
     "execution_count": 95,
     "metadata": {},
     "output_type": "execute_result"
    }
   ],
   "source": [
    "import pandas as pd\n",
    "\n",
    "Price_index = pd.read_csv('./data/지출목적별_소비자물가지수_품목포함__2020100__20240123224131.csv', encoding='cp949')\n",
    "Price_index"
   ]
  },
  {
   "cell_type": "code",
   "execution_count": 96,
   "metadata": {
    "ExecuteTime": {
     "end_time": "2024-01-23T13:42:04.000853Z",
     "start_time": "2024-01-23T13:42:03.983092Z"
    }
   },
   "outputs": [
    {
     "data": {
      "text/html": [
       "<div>\n",
       "<style scoped>\n",
       "    .dataframe tbody tr th:only-of-type {\n",
       "        vertical-align: middle;\n",
       "    }\n",
       "\n",
       "    .dataframe tbody tr th {\n",
       "        vertical-align: top;\n",
       "    }\n",
       "\n",
       "    .dataframe thead th {\n",
       "        text-align: right;\n",
       "    }\n",
       "</style>\n",
       "<table border=\"1\" class=\"dataframe\">\n",
       "  <thead>\n",
       "    <tr style=\"text-align: right;\">\n",
       "      <th></th>\n",
       "      <th>시점</th>\n",
       "      <th>0 총지수</th>\n",
       "      <th>전세</th>\n",
       "      <th>월세</th>\n",
       "    </tr>\n",
       "  </thead>\n",
       "  <tbody>\n",
       "    <tr>\n",
       "      <th>1</th>\n",
       "      <td>1965.01</td>\n",
       "      <td>2.493</td>\n",
       "      <td>-</td>\n",
       "      <td>-</td>\n",
       "    </tr>\n",
       "    <tr>\n",
       "      <th>2</th>\n",
       "      <td>1965.02</td>\n",
       "      <td>2.548</td>\n",
       "      <td>-</td>\n",
       "      <td>-</td>\n",
       "    </tr>\n",
       "    <tr>\n",
       "      <th>3</th>\n",
       "      <td>1965.03</td>\n",
       "      <td>2.553</td>\n",
       "      <td>-</td>\n",
       "      <td>-</td>\n",
       "    </tr>\n",
       "    <tr>\n",
       "      <th>4</th>\n",
       "      <td>1965.04</td>\n",
       "      <td>2.593</td>\n",
       "      <td>-</td>\n",
       "      <td>-</td>\n",
       "    </tr>\n",
       "    <tr>\n",
       "      <th>5</th>\n",
       "      <td>1965.05</td>\n",
       "      <td>2.645</td>\n",
       "      <td>-</td>\n",
       "      <td>-</td>\n",
       "    </tr>\n",
       "    <tr>\n",
       "      <th>...</th>\n",
       "      <td>...</td>\n",
       "      <td>...</td>\n",
       "      <td>...</td>\n",
       "      <td>...</td>\n",
       "    </tr>\n",
       "    <tr>\n",
       "      <th>704</th>\n",
       "      <td>2023.08</td>\n",
       "      <td>112.28</td>\n",
       "      <td>104.55</td>\n",
       "      <td>102.52</td>\n",
       "    </tr>\n",
       "    <tr>\n",
       "      <th>705</th>\n",
       "      <td>2023.09</td>\n",
       "      <td>112.83</td>\n",
       "      <td>104.51</td>\n",
       "      <td>102.59</td>\n",
       "    </tr>\n",
       "    <tr>\n",
       "      <th>706</th>\n",
       "      <td>2023.10</td>\n",
       "      <td>113.26</td>\n",
       "      <td>104.48</td>\n",
       "      <td>102.65</td>\n",
       "    </tr>\n",
       "    <tr>\n",
       "      <th>707</th>\n",
       "      <td>2023.11</td>\n",
       "      <td>112.67</td>\n",
       "      <td>104.55</td>\n",
       "      <td>102.73</td>\n",
       "    </tr>\n",
       "    <tr>\n",
       "      <th>708</th>\n",
       "      <td>2023.12</td>\n",
       "      <td>112.71</td>\n",
       "      <td>104.47</td>\n",
       "      <td>102.81</td>\n",
       "    </tr>\n",
       "  </tbody>\n",
       "</table>\n",
       "<p>708 rows × 4 columns</p>\n",
       "</div>"
      ],
      "text/plain": [
       "          시점   0 총지수      전세      월세\n",
       "1    1965.01   2.493       -       -\n",
       "2    1965.02   2.548       -       -\n",
       "3    1965.03   2.553       -       -\n",
       "4    1965.04   2.593       -       -\n",
       "5    1965.05   2.645       -       -\n",
       "..       ...     ...     ...     ...\n",
       "704  2023.08  112.28  104.55  102.52\n",
       "705  2023.09  112.83  104.51  102.59\n",
       "706  2023.10  113.26  104.48  102.65\n",
       "707  2023.11  112.67  104.55  102.73\n",
       "708  2023.12  112.71  104.47  102.81\n",
       "\n",
       "[708 rows x 4 columns]"
      ]
     },
     "execution_count": 96,
     "metadata": {},
     "output_type": "execute_result"
    }
   ],
   "source": [
    "# 0번째 행 삭제\n",
    "Price_index = Price_index.drop(index=0, axis=0)\n",
    "Price_index"
   ]
  },
  {
   "cell_type": "code",
   "execution_count": null,
   "metadata": {
    "ExecuteTime": {
     "end_time": "2023-10-04T13:53:58.558096Z",
     "start_time": "2023-10-04T13:53:47.883Z"
    }
   },
   "outputs": [],
   "source": [
    "# 참고 열삭제\n",
    "# 'col1', 'col2' 열 삭제\n",
    "# df = df.drop(columns=['col1', 'col2'], axis=1)"
   ]
  },
  {
   "cell_type": "code",
   "execution_count": null,
   "metadata": {
    "ExecuteTime": {
     "end_time": "2023-10-04T13:53:58.559584Z",
     "start_time": "2023-10-04T13:53:47.884Z"
    }
   },
   "outputs": [],
   "source": [
    "# <!-- (1) pandas DataFrame의 칼럼 이름 바꾸기\n",
    "#     :  df.columns = ['a', 'b']\n",
    "#     :  df.rename(columns = {'old_nm' : 'new_nm'}, inplace = True) -->"
   ]
  },
  {
   "cell_type": "code",
   "execution_count": 97,
   "metadata": {
    "ExecuteTime": {
     "end_time": "2024-01-23T13:42:08.168097Z",
     "start_time": "2024-01-23T13:42:08.152521Z"
    }
   },
   "outputs": [],
   "source": [
    "Price_index.rename(columns = {'0 총지수' : '소비자물가지수'}, inplace = True)"
   ]
  },
  {
   "cell_type": "code",
   "execution_count": 98,
   "metadata": {
    "ExecuteTime": {
     "end_time": "2024-01-23T13:42:08.566760Z",
     "start_time": "2024-01-23T13:42:08.536614Z"
    }
   },
   "outputs": [
    {
     "data": {
      "text/html": [
       "<div>\n",
       "<style scoped>\n",
       "    .dataframe tbody tr th:only-of-type {\n",
       "        vertical-align: middle;\n",
       "    }\n",
       "\n",
       "    .dataframe tbody tr th {\n",
       "        vertical-align: top;\n",
       "    }\n",
       "\n",
       "    .dataframe thead th {\n",
       "        text-align: right;\n",
       "    }\n",
       "</style>\n",
       "<table border=\"1\" class=\"dataframe\">\n",
       "  <thead>\n",
       "    <tr style=\"text-align: right;\">\n",
       "      <th></th>\n",
       "      <th>시점</th>\n",
       "      <th>소비자물가지수</th>\n",
       "      <th>전세</th>\n",
       "      <th>월세</th>\n",
       "    </tr>\n",
       "  </thead>\n",
       "  <tbody>\n",
       "    <tr>\n",
       "      <th>0</th>\n",
       "      <td>1975.01</td>\n",
       "      <td>8.394</td>\n",
       "      <td>8.092</td>\n",
       "      <td>10.489</td>\n",
       "    </tr>\n",
       "    <tr>\n",
       "      <th>1</th>\n",
       "      <td>1975.02</td>\n",
       "      <td>8.546</td>\n",
       "      <td>8.092</td>\n",
       "      <td>10.489</td>\n",
       "    </tr>\n",
       "    <tr>\n",
       "      <th>2</th>\n",
       "      <td>1975.03</td>\n",
       "      <td>8.707</td>\n",
       "      <td>8.431</td>\n",
       "      <td>10.898</td>\n",
       "    </tr>\n",
       "    <tr>\n",
       "      <th>3</th>\n",
       "      <td>1975.04</td>\n",
       "      <td>8.982</td>\n",
       "      <td>8.431</td>\n",
       "      <td>10.898</td>\n",
       "    </tr>\n",
       "    <tr>\n",
       "      <th>4</th>\n",
       "      <td>1975.05</td>\n",
       "      <td>9.304</td>\n",
       "      <td>8.431</td>\n",
       "      <td>10.898</td>\n",
       "    </tr>\n",
       "    <tr>\n",
       "      <th>...</th>\n",
       "      <td>...</td>\n",
       "      <td>...</td>\n",
       "      <td>...</td>\n",
       "      <td>...</td>\n",
       "    </tr>\n",
       "    <tr>\n",
       "      <th>583</th>\n",
       "      <td>2023.08</td>\n",
       "      <td>112.28</td>\n",
       "      <td>104.55</td>\n",
       "      <td>102.52</td>\n",
       "    </tr>\n",
       "    <tr>\n",
       "      <th>584</th>\n",
       "      <td>2023.09</td>\n",
       "      <td>112.83</td>\n",
       "      <td>104.51</td>\n",
       "      <td>102.59</td>\n",
       "    </tr>\n",
       "    <tr>\n",
       "      <th>585</th>\n",
       "      <td>2023.10</td>\n",
       "      <td>113.26</td>\n",
       "      <td>104.48</td>\n",
       "      <td>102.65</td>\n",
       "    </tr>\n",
       "    <tr>\n",
       "      <th>586</th>\n",
       "      <td>2023.11</td>\n",
       "      <td>112.67</td>\n",
       "      <td>104.55</td>\n",
       "      <td>102.73</td>\n",
       "    </tr>\n",
       "    <tr>\n",
       "      <th>587</th>\n",
       "      <td>2023.12</td>\n",
       "      <td>112.71</td>\n",
       "      <td>104.47</td>\n",
       "      <td>102.81</td>\n",
       "    </tr>\n",
       "  </tbody>\n",
       "</table>\n",
       "<p>588 rows × 4 columns</p>\n",
       "</div>"
      ],
      "text/plain": [
       "          시점 소비자물가지수      전세      월세\n",
       "0    1975.01   8.394   8.092  10.489\n",
       "1    1975.02   8.546   8.092  10.489\n",
       "2    1975.03   8.707   8.431  10.898\n",
       "3    1975.04   8.982   8.431  10.898\n",
       "4    1975.05   9.304   8.431  10.898\n",
       "..       ...     ...     ...     ...\n",
       "583  2023.08  112.28  104.55  102.52\n",
       "584  2023.09  112.83  104.51  102.59\n",
       "585  2023.10  113.26  104.48  102.65\n",
       "586  2023.11  112.67  104.55  102.73\n",
       "587  2023.12  112.71  104.47  102.81\n",
       "\n",
       "[588 rows x 4 columns]"
      ]
     },
     "execution_count": 98,
     "metadata": {},
     "output_type": "execute_result"
    }
   ],
   "source": [
    "# 결측치 제거 후 인덱스 reset\n",
    "Price_index = Price_index[Price_index['전세'] !='-'].reset_index(drop=True)\n",
    "Price_index"
   ]
  },
  {
   "cell_type": "code",
   "execution_count": 99,
   "metadata": {
    "ExecuteTime": {
     "end_time": "2024-01-23T13:42:12.584349Z",
     "start_time": "2024-01-23T13:42:12.562800Z"
    }
   },
   "outputs": [
    {
     "data": {
      "text/html": [
       "<div>\n",
       "<style scoped>\n",
       "    .dataframe tbody tr th:only-of-type {\n",
       "        vertical-align: middle;\n",
       "    }\n",
       "\n",
       "    .dataframe tbody tr th {\n",
       "        vertical-align: top;\n",
       "    }\n",
       "\n",
       "    .dataframe thead th {\n",
       "        text-align: right;\n",
       "    }\n",
       "</style>\n",
       "<table border=\"1\" class=\"dataframe\">\n",
       "  <thead>\n",
       "    <tr style=\"text-align: right;\">\n",
       "      <th></th>\n",
       "      <th>시점</th>\n",
       "      <th>소비자물가지수</th>\n",
       "      <th>전세가격지수</th>\n",
       "      <th>월세가격지수</th>\n",
       "    </tr>\n",
       "  </thead>\n",
       "  <tbody>\n",
       "    <tr>\n",
       "      <th>0</th>\n",
       "      <td>1975.01</td>\n",
       "      <td>8.394</td>\n",
       "      <td>8.092</td>\n",
       "      <td>10.489</td>\n",
       "    </tr>\n",
       "    <tr>\n",
       "      <th>1</th>\n",
       "      <td>1975.02</td>\n",
       "      <td>8.546</td>\n",
       "      <td>8.092</td>\n",
       "      <td>10.489</td>\n",
       "    </tr>\n",
       "    <tr>\n",
       "      <th>2</th>\n",
       "      <td>1975.03</td>\n",
       "      <td>8.707</td>\n",
       "      <td>8.431</td>\n",
       "      <td>10.898</td>\n",
       "    </tr>\n",
       "    <tr>\n",
       "      <th>3</th>\n",
       "      <td>1975.04</td>\n",
       "      <td>8.982</td>\n",
       "      <td>8.431</td>\n",
       "      <td>10.898</td>\n",
       "    </tr>\n",
       "    <tr>\n",
       "      <th>4</th>\n",
       "      <td>1975.05</td>\n",
       "      <td>9.304</td>\n",
       "      <td>8.431</td>\n",
       "      <td>10.898</td>\n",
       "    </tr>\n",
       "    <tr>\n",
       "      <th>...</th>\n",
       "      <td>...</td>\n",
       "      <td>...</td>\n",
       "      <td>...</td>\n",
       "      <td>...</td>\n",
       "    </tr>\n",
       "    <tr>\n",
       "      <th>583</th>\n",
       "      <td>2023.08</td>\n",
       "      <td>112.28</td>\n",
       "      <td>104.55</td>\n",
       "      <td>102.52</td>\n",
       "    </tr>\n",
       "    <tr>\n",
       "      <th>584</th>\n",
       "      <td>2023.09</td>\n",
       "      <td>112.83</td>\n",
       "      <td>104.51</td>\n",
       "      <td>102.59</td>\n",
       "    </tr>\n",
       "    <tr>\n",
       "      <th>585</th>\n",
       "      <td>2023.10</td>\n",
       "      <td>113.26</td>\n",
       "      <td>104.48</td>\n",
       "      <td>102.65</td>\n",
       "    </tr>\n",
       "    <tr>\n",
       "      <th>586</th>\n",
       "      <td>2023.11</td>\n",
       "      <td>112.67</td>\n",
       "      <td>104.55</td>\n",
       "      <td>102.73</td>\n",
       "    </tr>\n",
       "    <tr>\n",
       "      <th>587</th>\n",
       "      <td>2023.12</td>\n",
       "      <td>112.71</td>\n",
       "      <td>104.47</td>\n",
       "      <td>102.81</td>\n",
       "    </tr>\n",
       "  </tbody>\n",
       "</table>\n",
       "<p>588 rows × 4 columns</p>\n",
       "</div>"
      ],
      "text/plain": [
       "          시점 소비자물가지수  전세가격지수  월세가격지수\n",
       "0    1975.01   8.394   8.092  10.489\n",
       "1    1975.02   8.546   8.092  10.489\n",
       "2    1975.03   8.707   8.431  10.898\n",
       "3    1975.04   8.982   8.431  10.898\n",
       "4    1975.05   9.304   8.431  10.898\n",
       "..       ...     ...     ...     ...\n",
       "583  2023.08  112.28  104.55  102.52\n",
       "584  2023.09  112.83  104.51  102.59\n",
       "585  2023.10  113.26  104.48  102.65\n",
       "586  2023.11  112.67  104.55  102.73\n",
       "587  2023.12  112.71  104.47  102.81\n",
       "\n",
       "[588 rows x 4 columns]"
      ]
     },
     "execution_count": 99,
     "metadata": {},
     "output_type": "execute_result"
    }
   ],
   "source": [
    "Price_index.columns = ['시점', '소비자물가지수', '전세가격지수', '월세가격지수']\n",
    "Price_index"
   ]
  },
  {
   "cell_type": "code",
   "execution_count": 100,
   "metadata": {
    "ExecuteTime": {
     "end_time": "2024-01-23T13:42:13.055893Z",
     "start_time": "2024-01-23T13:42:13.040979Z"
    }
   },
   "outputs": [],
   "source": [
    "# 1번째 행부터 끝행 까지 데이터를 추출\n",
    "# Price_index = Price_index[1::]"
   ]
  },
  {
   "cell_type": "code",
   "execution_count": 101,
   "metadata": {
    "ExecuteTime": {
     "end_time": "2024-01-23T13:42:15.450424Z",
     "start_time": "2024-01-23T13:42:15.425771Z"
    }
   },
   "outputs": [
    {
     "name": "stdout",
     "output_type": "stream",
     "text": [
      "<class 'pandas.core.frame.DataFrame'>\n",
      "RangeIndex: 588 entries, 0 to 587\n",
      "Data columns (total 4 columns):\n",
      " #   Column   Non-Null Count  Dtype \n",
      "---  ------   --------------  ----- \n",
      " 0   시점       588 non-null    object\n",
      " 1   소비자물가지수  588 non-null    object\n",
      " 2   전세가격지수   588 non-null    object\n",
      " 3   월세가격지수   588 non-null    object\n",
      "dtypes: object(4)\n",
      "memory usage: 18.5+ KB\n"
     ]
    }
   ],
   "source": [
    "Price_index.info()"
   ]
  },
  {
   "cell_type": "code",
   "execution_count": 103,
   "metadata": {
    "ExecuteTime": {
     "end_time": "2024-01-23T13:42:46.467754Z",
     "start_time": "2024-01-23T13:42:46.447834Z"
    }
   },
   "outputs": [],
   "source": [
    "Price_index['시점'] = pd.to_datetime(Price_index['시점'], format='ISO8601 ')"
   ]
  },
  {
   "cell_type": "code",
   "execution_count": 104,
   "metadata": {
    "ExecuteTime": {
     "end_time": "2024-01-23T13:42:50.811607Z",
     "start_time": "2024-01-23T13:42:50.795234Z"
    }
   },
   "outputs": [],
   "source": [
    "# Price_index = Price_index.apply(pd.to_numeric)\n",
    "Price_index[['소비자물가지수', '전세가격지수', '월세가격지수']] = Price_index[['소비자물가지수', '전세가격지수', '월세가격지수']].apply(pd.to_numeric)"
   ]
  },
  {
   "cell_type": "code",
   "execution_count": 105,
   "metadata": {
    "ExecuteTime": {
     "end_time": "2024-01-23T13:42:51.036698Z",
     "start_time": "2024-01-23T13:42:51.020794Z"
    }
   },
   "outputs": [
    {
     "name": "stdout",
     "output_type": "stream",
     "text": [
      "<class 'pandas.core.frame.DataFrame'>\n",
      "RangeIndex: 588 entries, 0 to 587\n",
      "Data columns (total 4 columns):\n",
      " #   Column   Non-Null Count  Dtype         \n",
      "---  ------   --------------  -----         \n",
      " 0   시점       588 non-null    datetime64[ns]\n",
      " 1   소비자물가지수  588 non-null    float64       \n",
      " 2   전세가격지수   588 non-null    float64       \n",
      " 3   월세가격지수   588 non-null    float64       \n",
      "dtypes: datetime64[ns](1), float64(3)\n",
      "memory usage: 18.5 KB\n"
     ]
    }
   ],
   "source": [
    "Price_index.info()"
   ]
  },
  {
   "cell_type": "code",
   "execution_count": 106,
   "metadata": {
    "ExecuteTime": {
     "end_time": "2024-01-23T13:42:51.268936Z",
     "start_time": "2024-01-23T13:42:51.237902Z"
    }
   },
   "outputs": [
    {
     "data": {
      "text/html": [
       "<div>\n",
       "<style scoped>\n",
       "    .dataframe tbody tr th:only-of-type {\n",
       "        vertical-align: middle;\n",
       "    }\n",
       "\n",
       "    .dataframe tbody tr th {\n",
       "        vertical-align: top;\n",
       "    }\n",
       "\n",
       "    .dataframe thead th {\n",
       "        text-align: right;\n",
       "    }\n",
       "</style>\n",
       "<table border=\"1\" class=\"dataframe\">\n",
       "  <thead>\n",
       "    <tr style=\"text-align: right;\">\n",
       "      <th></th>\n",
       "      <th>시점</th>\n",
       "      <th>소비자물가지수</th>\n",
       "      <th>전세가격지수</th>\n",
       "      <th>월세가격지수</th>\n",
       "    </tr>\n",
       "  </thead>\n",
       "  <tbody>\n",
       "    <tr>\n",
       "      <th>0</th>\n",
       "      <td>1975-01-01</td>\n",
       "      <td>8.394</td>\n",
       "      <td>8.092</td>\n",
       "      <td>10.489</td>\n",
       "    </tr>\n",
       "    <tr>\n",
       "      <th>1</th>\n",
       "      <td>1975-02-01</td>\n",
       "      <td>8.546</td>\n",
       "      <td>8.092</td>\n",
       "      <td>10.489</td>\n",
       "    </tr>\n",
       "    <tr>\n",
       "      <th>2</th>\n",
       "      <td>1975-03-01</td>\n",
       "      <td>8.707</td>\n",
       "      <td>8.431</td>\n",
       "      <td>10.898</td>\n",
       "    </tr>\n",
       "    <tr>\n",
       "      <th>3</th>\n",
       "      <td>1975-04-01</td>\n",
       "      <td>8.982</td>\n",
       "      <td>8.431</td>\n",
       "      <td>10.898</td>\n",
       "    </tr>\n",
       "    <tr>\n",
       "      <th>4</th>\n",
       "      <td>1975-05-01</td>\n",
       "      <td>9.304</td>\n",
       "      <td>8.431</td>\n",
       "      <td>10.898</td>\n",
       "    </tr>\n",
       "  </tbody>\n",
       "</table>\n",
       "</div>"
      ],
      "text/plain": [
       "          시점  소비자물가지수  전세가격지수  월세가격지수\n",
       "0 1975-01-01    8.394   8.092  10.489\n",
       "1 1975-02-01    8.546   8.092  10.489\n",
       "2 1975-03-01    8.707   8.431  10.898\n",
       "3 1975-04-01    8.982   8.431  10.898\n",
       "4 1975-05-01    9.304   8.431  10.898"
      ]
     },
     "execution_count": 106,
     "metadata": {},
     "output_type": "execute_result"
    }
   ],
   "source": [
    "Price_index.head()"
   ]
  },
  {
   "cell_type": "code",
   "execution_count": 107,
   "metadata": {
    "ExecuteTime": {
     "end_time": "2024-01-23T13:42:51.789882Z",
     "start_time": "2024-01-23T13:42:51.771235Z"
    }
   },
   "outputs": [
    {
     "data": {
      "text/html": [
       "<div>\n",
       "<style scoped>\n",
       "    .dataframe tbody tr th:only-of-type {\n",
       "        vertical-align: middle;\n",
       "    }\n",
       "\n",
       "    .dataframe tbody tr th {\n",
       "        vertical-align: top;\n",
       "    }\n",
       "\n",
       "    .dataframe thead th {\n",
       "        text-align: right;\n",
       "    }\n",
       "</style>\n",
       "<table border=\"1\" class=\"dataframe\">\n",
       "  <thead>\n",
       "    <tr style=\"text-align: right;\">\n",
       "      <th></th>\n",
       "      <th>시점</th>\n",
       "      <th>소비자물가지수</th>\n",
       "      <th>전세가격지수</th>\n",
       "      <th>월세가격지수</th>\n",
       "    </tr>\n",
       "  </thead>\n",
       "  <tbody>\n",
       "    <tr>\n",
       "      <th>0</th>\n",
       "      <td>1975-01-01</td>\n",
       "      <td>8.394</td>\n",
       "      <td>8.092</td>\n",
       "      <td>10.489</td>\n",
       "    </tr>\n",
       "    <tr>\n",
       "      <th>1</th>\n",
       "      <td>1975-02-01</td>\n",
       "      <td>8.546</td>\n",
       "      <td>8.092</td>\n",
       "      <td>10.489</td>\n",
       "    </tr>\n",
       "    <tr>\n",
       "      <th>2</th>\n",
       "      <td>1975-03-01</td>\n",
       "      <td>8.707</td>\n",
       "      <td>8.431</td>\n",
       "      <td>10.898</td>\n",
       "    </tr>\n",
       "    <tr>\n",
       "      <th>3</th>\n",
       "      <td>1975-04-01</td>\n",
       "      <td>8.982</td>\n",
       "      <td>8.431</td>\n",
       "      <td>10.898</td>\n",
       "    </tr>\n",
       "    <tr>\n",
       "      <th>4</th>\n",
       "      <td>1975-05-01</td>\n",
       "      <td>9.304</td>\n",
       "      <td>8.431</td>\n",
       "      <td>10.898</td>\n",
       "    </tr>\n",
       "    <tr>\n",
       "      <th>...</th>\n",
       "      <td>...</td>\n",
       "      <td>...</td>\n",
       "      <td>...</td>\n",
       "      <td>...</td>\n",
       "    </tr>\n",
       "    <tr>\n",
       "      <th>542</th>\n",
       "      <td>2020-03-01</td>\n",
       "      <td>99.940</td>\n",
       "      <td>99.760</td>\n",
       "      <td>99.920</td>\n",
       "    </tr>\n",
       "    <tr>\n",
       "      <th>543</th>\n",
       "      <td>2020-04-01</td>\n",
       "      <td>99.500</td>\n",
       "      <td>99.800</td>\n",
       "      <td>99.930</td>\n",
       "    </tr>\n",
       "    <tr>\n",
       "      <th>544</th>\n",
       "      <td>2020-05-01</td>\n",
       "      <td>99.440</td>\n",
       "      <td>99.850</td>\n",
       "      <td>99.920</td>\n",
       "    </tr>\n",
       "    <tr>\n",
       "      <th>545</th>\n",
       "      <td>2020-06-01</td>\n",
       "      <td>99.710</td>\n",
       "      <td>99.890</td>\n",
       "      <td>99.930</td>\n",
       "    </tr>\n",
       "    <tr>\n",
       "      <th>546</th>\n",
       "      <td>2020-07-01</td>\n",
       "      <td>99.630</td>\n",
       "      <td>99.970</td>\n",
       "      <td>99.950</td>\n",
       "    </tr>\n",
       "  </tbody>\n",
       "</table>\n",
       "<p>547 rows × 4 columns</p>\n",
       "</div>"
      ],
      "text/plain": [
       "            시점  소비자물가지수  전세가격지수  월세가격지수\n",
       "0   1975-01-01    8.394   8.092  10.489\n",
       "1   1975-02-01    8.546   8.092  10.489\n",
       "2   1975-03-01    8.707   8.431  10.898\n",
       "3   1975-04-01    8.982   8.431  10.898\n",
       "4   1975-05-01    9.304   8.431  10.898\n",
       "..         ...      ...     ...     ...\n",
       "542 2020-03-01   99.940  99.760  99.920\n",
       "543 2020-04-01   99.500  99.800  99.930\n",
       "544 2020-05-01   99.440  99.850  99.920\n",
       "545 2020-06-01   99.710  99.890  99.930\n",
       "546 2020-07-01   99.630  99.970  99.950\n",
       "\n",
       "[547 rows x 4 columns]"
      ]
     },
     "execution_count": 107,
     "metadata": {},
     "output_type": "execute_result"
    }
   ],
   "source": [
    "Price_index[Price_index['전세가격지수'] <= 100]"
   ]
  },
  {
   "cell_type": "markdown",
   "metadata": {},
   "source": [
    "## 3.2 주택매매가격지수"
   ]
  },
  {
   "cell_type": "markdown",
   "metadata": {
    "ExecuteTime": {
     "end_time": "2021-09-24T02:14:13.969572Z",
     "start_time": "2021-09-24T02:14:13.954572Z"
    }
   },
   "source": [
    "주택가격지수(KHPI : Korea Housing Price Index)<br>\n",
    "기준시점과 매기 조사되는 조사시점의 가격비를 이용하여 기준시점이 100인 수치로 환산한 값을 의미"
   ]
  },
  {
   "cell_type": "markdown",
   "metadata": {},
   "source": [
    "### 3.2.1 데이터 수집"
   ]
  },
  {
   "cell_type": "markdown",
   "metadata": {},
   "source": [
    "* 수집경로 : KOSIS 국가통계포털 <https://kosis.kr/>\n",
    "* 작성기관 : 한국부동산원\n",
    "* 기준년도 : 2021년 6월\n",
    "* 2012년 부터 집계. 1965.1.1부터 월별 통계 지수. \n",
    "(기준 2017.11=100 에서 최근 통계법 개정으로 2021.6=100으로 변경)\n",
    "* 행렬전환 Transposed"
   ]
  },
  {
   "cell_type": "markdown",
   "metadata": {},
   "source": [
    "[다운로드](https://kosis.kr/statHtml/statHtml.do?orgId=408&tblId=DT_40803_N0001&conn_path=I2)"
   ]
  },
  {
   "cell_type": "markdown",
   "metadata": {},
   "source": [
    "## 3.2.2 데이터 불러오기"
   ]
  },
  {
   "cell_type": "code",
   "execution_count": 174,
   "metadata": {
    "ExecuteTime": {
     "end_time": "2024-01-23T13:51:11.516850Z",
     "start_time": "2024-01-23T13:51:11.495212Z"
    },
    "scrolled": true
   },
   "outputs": [
    {
     "data": {
      "text/html": [
       "<div>\n",
       "<style scoped>\n",
       "    .dataframe tbody tr th:only-of-type {\n",
       "        vertical-align: middle;\n",
       "    }\n",
       "\n",
       "    .dataframe tbody tr th {\n",
       "        vertical-align: top;\n",
       "    }\n",
       "\n",
       "    .dataframe thead th {\n",
       "        text-align: right;\n",
       "    }\n",
       "</style>\n",
       "<table border=\"1\" class=\"dataframe\">\n",
       "  <thead>\n",
       "    <tr style=\"text-align: right;\">\n",
       "      <th></th>\n",
       "      <th>시점</th>\n",
       "      <th>종합</th>\n",
       "      <th>아파트</th>\n",
       "    </tr>\n",
       "  </thead>\n",
       "  <tbody>\n",
       "    <tr>\n",
       "      <th>0</th>\n",
       "      <td>시점</td>\n",
       "      <td>전국</td>\n",
       "      <td>전국</td>\n",
       "    </tr>\n",
       "    <tr>\n",
       "      <th>1</th>\n",
       "      <td>2003.11</td>\n",
       "      <td>61.5</td>\n",
       "      <td>55.4</td>\n",
       "    </tr>\n",
       "    <tr>\n",
       "      <th>2</th>\n",
       "      <td>2003.12</td>\n",
       "      <td>61.0</td>\n",
       "      <td>55.1</td>\n",
       "    </tr>\n",
       "    <tr>\n",
       "      <th>3</th>\n",
       "      <td>2004.01</td>\n",
       "      <td>60.7</td>\n",
       "      <td>55.0</td>\n",
       "    </tr>\n",
       "    <tr>\n",
       "      <th>4</th>\n",
       "      <td>2004.02</td>\n",
       "      <td>60.7</td>\n",
       "      <td>55.1</td>\n",
       "    </tr>\n",
       "    <tr>\n",
       "      <th>...</th>\n",
       "      <td>...</td>\n",
       "      <td>...</td>\n",
       "      <td>...</td>\n",
       "    </tr>\n",
       "    <tr>\n",
       "      <th>238</th>\n",
       "      <td>2023.08</td>\n",
       "      <td>95.8</td>\n",
       "      <td>93.0</td>\n",
       "    </tr>\n",
       "    <tr>\n",
       "      <th>239</th>\n",
       "      <td>2023.09</td>\n",
       "      <td>96.0</td>\n",
       "      <td>93.3</td>\n",
       "    </tr>\n",
       "    <tr>\n",
       "      <th>240</th>\n",
       "      <td>2023.10</td>\n",
       "      <td>96.2</td>\n",
       "      <td>93.5</td>\n",
       "    </tr>\n",
       "    <tr>\n",
       "      <th>241</th>\n",
       "      <td>2023.11</td>\n",
       "      <td>96.3</td>\n",
       "      <td>93.6</td>\n",
       "    </tr>\n",
       "    <tr>\n",
       "      <th>242</th>\n",
       "      <td>2023.12</td>\n",
       "      <td>96.2</td>\n",
       "      <td>93.4</td>\n",
       "    </tr>\n",
       "  </tbody>\n",
       "</table>\n",
       "<p>243 rows × 3 columns</p>\n",
       "</div>"
      ],
      "text/plain": [
       "          시점    종합   아파트\n",
       "0         시점    전국    전국\n",
       "1    2003.11  61.5  55.4\n",
       "2    2003.12  61.0  55.1\n",
       "3    2004.01  60.7  55.0\n",
       "4    2004.02  60.7  55.1\n",
       "..       ...   ...   ...\n",
       "238  2023.08  95.8  93.0\n",
       "239  2023.09  96.0  93.3\n",
       "240  2023.10  96.2  93.5\n",
       "241  2023.11  96.3  93.6\n",
       "242  2023.12  96.2  93.4\n",
       "\n",
       "[243 rows x 3 columns]"
      ]
     },
     "execution_count": 174,
     "metadata": {},
     "output_type": "execute_result"
    }
   ],
   "source": [
    "import pandas as pd\n",
    "APT_index = pd.read_csv('data/유형별_매매가격지수_20240123224444.csv', encoding='cp949')\n",
    "APT_index"
   ]
  },
  {
   "cell_type": "code",
   "execution_count": 175,
   "metadata": {
    "ExecuteTime": {
     "end_time": "2024-01-23T13:51:11.697332Z",
     "start_time": "2024-01-23T13:51:11.666715Z"
    }
   },
   "outputs": [
    {
     "data": {
      "text/html": [
       "<div>\n",
       "<style scoped>\n",
       "    .dataframe tbody tr th:only-of-type {\n",
       "        vertical-align: middle;\n",
       "    }\n",
       "\n",
       "    .dataframe tbody tr th {\n",
       "        vertical-align: top;\n",
       "    }\n",
       "\n",
       "    .dataframe thead th {\n",
       "        text-align: right;\n",
       "    }\n",
       "</style>\n",
       "<table border=\"1\" class=\"dataframe\">\n",
       "  <thead>\n",
       "    <tr style=\"text-align: right;\">\n",
       "      <th></th>\n",
       "      <th>시점</th>\n",
       "      <th>종합</th>\n",
       "      <th>아파트</th>\n",
       "    </tr>\n",
       "  </thead>\n",
       "  <tbody>\n",
       "    <tr>\n",
       "      <th>1</th>\n",
       "      <td>2003.11</td>\n",
       "      <td>61.5</td>\n",
       "      <td>55.4</td>\n",
       "    </tr>\n",
       "    <tr>\n",
       "      <th>2</th>\n",
       "      <td>2003.12</td>\n",
       "      <td>61.0</td>\n",
       "      <td>55.1</td>\n",
       "    </tr>\n",
       "    <tr>\n",
       "      <th>3</th>\n",
       "      <td>2004.01</td>\n",
       "      <td>60.7</td>\n",
       "      <td>55.0</td>\n",
       "    </tr>\n",
       "    <tr>\n",
       "      <th>4</th>\n",
       "      <td>2004.02</td>\n",
       "      <td>60.7</td>\n",
       "      <td>55.1</td>\n",
       "    </tr>\n",
       "    <tr>\n",
       "      <th>5</th>\n",
       "      <td>2004.03</td>\n",
       "      <td>60.8</td>\n",
       "      <td>55.4</td>\n",
       "    </tr>\n",
       "    <tr>\n",
       "      <th>...</th>\n",
       "      <td>...</td>\n",
       "      <td>...</td>\n",
       "      <td>...</td>\n",
       "    </tr>\n",
       "    <tr>\n",
       "      <th>238</th>\n",
       "      <td>2023.08</td>\n",
       "      <td>95.8</td>\n",
       "      <td>93.0</td>\n",
       "    </tr>\n",
       "    <tr>\n",
       "      <th>239</th>\n",
       "      <td>2023.09</td>\n",
       "      <td>96.0</td>\n",
       "      <td>93.3</td>\n",
       "    </tr>\n",
       "    <tr>\n",
       "      <th>240</th>\n",
       "      <td>2023.10</td>\n",
       "      <td>96.2</td>\n",
       "      <td>93.5</td>\n",
       "    </tr>\n",
       "    <tr>\n",
       "      <th>241</th>\n",
       "      <td>2023.11</td>\n",
       "      <td>96.3</td>\n",
       "      <td>93.6</td>\n",
       "    </tr>\n",
       "    <tr>\n",
       "      <th>242</th>\n",
       "      <td>2023.12</td>\n",
       "      <td>96.2</td>\n",
       "      <td>93.4</td>\n",
       "    </tr>\n",
       "  </tbody>\n",
       "</table>\n",
       "<p>242 rows × 3 columns</p>\n",
       "</div>"
      ],
      "text/plain": [
       "          시점    종합   아파트\n",
       "1    2003.11  61.5  55.4\n",
       "2    2003.12  61.0  55.1\n",
       "3    2004.01  60.7  55.0\n",
       "4    2004.02  60.7  55.1\n",
       "5    2004.03  60.8  55.4\n",
       "..       ...   ...   ...\n",
       "238  2023.08  95.8  93.0\n",
       "239  2023.09  96.0  93.3\n",
       "240  2023.10  96.2  93.5\n",
       "241  2023.11  96.3  93.6\n",
       "242  2023.12  96.2  93.4\n",
       "\n",
       "[242 rows x 3 columns]"
      ]
     },
     "execution_count": 175,
     "metadata": {},
     "output_type": "execute_result"
    }
   ],
   "source": [
    "# 1번째 행부터 끝행 까지 데이터를 추출\n",
    "APT_index= APT_index[1::]\n",
    "APT_index"
   ]
  },
  {
   "cell_type": "code",
   "execution_count": 176,
   "metadata": {
    "ExecuteTime": {
     "end_time": "2024-01-23T13:51:11.846353Z",
     "start_time": "2024-01-23T13:51:11.817582Z"
    }
   },
   "outputs": [
    {
     "data": {
      "text/html": [
       "<div>\n",
       "<style scoped>\n",
       "    .dataframe tbody tr th:only-of-type {\n",
       "        vertical-align: middle;\n",
       "    }\n",
       "\n",
       "    .dataframe tbody tr th {\n",
       "        vertical-align: top;\n",
       "    }\n",
       "\n",
       "    .dataframe thead th {\n",
       "        text-align: right;\n",
       "    }\n",
       "</style>\n",
       "<table border=\"1\" class=\"dataframe\">\n",
       "  <thead>\n",
       "    <tr style=\"text-align: right;\">\n",
       "      <th></th>\n",
       "      <th>시점</th>\n",
       "      <th>주택매매지수</th>\n",
       "      <th>아파트매매지수</th>\n",
       "    </tr>\n",
       "  </thead>\n",
       "  <tbody>\n",
       "    <tr>\n",
       "      <th>1</th>\n",
       "      <td>2003.11</td>\n",
       "      <td>61.5</td>\n",
       "      <td>55.4</td>\n",
       "    </tr>\n",
       "    <tr>\n",
       "      <th>2</th>\n",
       "      <td>2003.12</td>\n",
       "      <td>61.0</td>\n",
       "      <td>55.1</td>\n",
       "    </tr>\n",
       "    <tr>\n",
       "      <th>3</th>\n",
       "      <td>2004.01</td>\n",
       "      <td>60.7</td>\n",
       "      <td>55.0</td>\n",
       "    </tr>\n",
       "    <tr>\n",
       "      <th>4</th>\n",
       "      <td>2004.02</td>\n",
       "      <td>60.7</td>\n",
       "      <td>55.1</td>\n",
       "    </tr>\n",
       "    <tr>\n",
       "      <th>5</th>\n",
       "      <td>2004.03</td>\n",
       "      <td>60.8</td>\n",
       "      <td>55.4</td>\n",
       "    </tr>\n",
       "    <tr>\n",
       "      <th>...</th>\n",
       "      <td>...</td>\n",
       "      <td>...</td>\n",
       "      <td>...</td>\n",
       "    </tr>\n",
       "    <tr>\n",
       "      <th>238</th>\n",
       "      <td>2023.08</td>\n",
       "      <td>95.8</td>\n",
       "      <td>93.0</td>\n",
       "    </tr>\n",
       "    <tr>\n",
       "      <th>239</th>\n",
       "      <td>2023.09</td>\n",
       "      <td>96.0</td>\n",
       "      <td>93.3</td>\n",
       "    </tr>\n",
       "    <tr>\n",
       "      <th>240</th>\n",
       "      <td>2023.10</td>\n",
       "      <td>96.2</td>\n",
       "      <td>93.5</td>\n",
       "    </tr>\n",
       "    <tr>\n",
       "      <th>241</th>\n",
       "      <td>2023.11</td>\n",
       "      <td>96.3</td>\n",
       "      <td>93.6</td>\n",
       "    </tr>\n",
       "    <tr>\n",
       "      <th>242</th>\n",
       "      <td>2023.12</td>\n",
       "      <td>96.2</td>\n",
       "      <td>93.4</td>\n",
       "    </tr>\n",
       "  </tbody>\n",
       "</table>\n",
       "<p>242 rows × 3 columns</p>\n",
       "</div>"
      ],
      "text/plain": [
       "          시점 주택매매지수 아파트매매지수\n",
       "1    2003.11   61.5    55.4\n",
       "2    2003.12   61.0    55.1\n",
       "3    2004.01   60.7    55.0\n",
       "4    2004.02   60.7    55.1\n",
       "5    2004.03   60.8    55.4\n",
       "..       ...    ...     ...\n",
       "238  2023.08   95.8    93.0\n",
       "239  2023.09   96.0    93.3\n",
       "240  2023.10   96.2    93.5\n",
       "241  2023.11   96.3    93.6\n",
       "242  2023.12   96.2    93.4\n",
       "\n",
       "[242 rows x 3 columns]"
      ]
     },
     "execution_count": 176,
     "metadata": {},
     "output_type": "execute_result"
    }
   ],
   "source": [
    "APT_index.columns = ['시점', '주택매매지수', '아파트매매지수']\n",
    "APT_index"
   ]
  },
  {
   "cell_type": "markdown",
   "metadata": {},
   "source": [
    "###  3.2.3 데이터 타입반경"
   ]
  },
  {
   "cell_type": "code",
   "execution_count": 177,
   "metadata": {
    "ExecuteTime": {
     "end_time": "2024-01-23T13:51:12.175704Z",
     "start_time": "2024-01-23T13:51:12.152285Z"
    }
   },
   "outputs": [
    {
     "name": "stdout",
     "output_type": "stream",
     "text": [
      "<class 'pandas.core.frame.DataFrame'>\n",
      "RangeIndex: 242 entries, 1 to 242\n",
      "Data columns (total 3 columns):\n",
      " #   Column   Non-Null Count  Dtype \n",
      "---  ------   --------------  ----- \n",
      " 0   시점       242 non-null    object\n",
      " 1   주택매매지수   242 non-null    object\n",
      " 2   아파트매매지수  242 non-null    object\n",
      "dtypes: object(3)\n",
      "memory usage: 5.8+ KB\n"
     ]
    }
   ],
   "source": [
    "APT_index.info()"
   ]
  },
  {
   "cell_type": "code",
   "execution_count": 178,
   "metadata": {
    "ExecuteTime": {
     "end_time": "2024-01-23T13:51:12.331429Z",
     "start_time": "2024-01-23T13:51:12.318492Z"
    }
   },
   "outputs": [],
   "source": [
    "import warnings\n",
    "warnings.filterwarnings(\"ignore\")\n",
    "\n",
    "APT_index['시점'] = pd.to_datetime(APT_index['시점'])"
   ]
  },
  {
   "cell_type": "code",
   "execution_count": 179,
   "metadata": {
    "ExecuteTime": {
     "end_time": "2024-01-23T13:51:12.492886Z",
     "start_time": "2024-01-23T13:51:12.477853Z"
    }
   },
   "outputs": [],
   "source": [
    "# Price_index = Price_index.apply(pd.to_numeric)\n",
    "APT_index[['주택매매지수', '아파트매매지수']] = APT_index[['주택매매지수', '아파트매매지수']].apply(pd.to_numeric)"
   ]
  },
  {
   "cell_type": "code",
   "execution_count": 180,
   "metadata": {
    "ExecuteTime": {
     "end_time": "2024-01-23T13:51:12.643120Z",
     "start_time": "2024-01-23T13:51:12.628010Z"
    }
   },
   "outputs": [],
   "source": [
    "# warning 참고\n",
    "# https://pandas.pydata.org/pandas-docs/stable/user_guide/indexing.html#returning-a-view-versus-a-copy"
   ]
  },
  {
   "cell_type": "code",
   "execution_count": 181,
   "metadata": {
    "ExecuteTime": {
     "end_time": "2024-01-23T13:51:12.809398Z",
     "start_time": "2024-01-23T13:51:12.794883Z"
    }
   },
   "outputs": [
    {
     "name": "stdout",
     "output_type": "stream",
     "text": [
      "<class 'pandas.core.frame.DataFrame'>\n",
      "RangeIndex: 242 entries, 1 to 242\n",
      "Data columns (total 3 columns):\n",
      " #   Column   Non-Null Count  Dtype         \n",
      "---  ------   --------------  -----         \n",
      " 0   시점       242 non-null    datetime64[ns]\n",
      " 1   주택매매지수   242 non-null    float64       \n",
      " 2   아파트매매지수  242 non-null    float64       \n",
      "dtypes: datetime64[ns](1), float64(2)\n",
      "memory usage: 5.8 KB\n"
     ]
    }
   ],
   "source": [
    "APT_index.info()"
   ]
  },
  {
   "cell_type": "markdown",
   "metadata": {},
   "source": [
    "# 3.3 데이터 병합"
   ]
  },
  {
   "cell_type": "markdown",
   "metadata": {
    "ExecuteTime": {
     "end_time": "2021-09-24T02:22:09.760951Z",
     "start_time": "2021-09-24T02:22:09.741330Z"
    }
   },
   "source": [
    "소비자물가지수 + 주택매매가격지수"
   ]
  },
  {
   "cell_type": "markdown",
   "metadata": {},
   "source": [
    "### 3.3.1 Merge 함수(pd.merge_asof)"
   ]
  },
  {
   "cell_type": "code",
   "execution_count": 182,
   "metadata": {
    "ExecuteTime": {
     "end_time": "2024-01-23T13:51:13.559148Z",
     "start_time": "2024-01-23T13:51:13.532947Z"
    }
   },
   "outputs": [
    {
     "data": {
      "text/html": [
       "<div>\n",
       "<style scoped>\n",
       "    .dataframe tbody tr th:only-of-type {\n",
       "        vertical-align: middle;\n",
       "    }\n",
       "\n",
       "    .dataframe tbody tr th {\n",
       "        vertical-align: top;\n",
       "    }\n",
       "\n",
       "    .dataframe thead th {\n",
       "        text-align: right;\n",
       "    }\n",
       "</style>\n",
       "<table border=\"1\" class=\"dataframe\">\n",
       "  <thead>\n",
       "    <tr style=\"text-align: right;\">\n",
       "      <th></th>\n",
       "      <th>시점</th>\n",
       "      <th>소비자물가지수</th>\n",
       "      <th>전세가격지수</th>\n",
       "      <th>월세가격지수</th>\n",
       "      <th>주택매매지수</th>\n",
       "      <th>아파트매매지수</th>\n",
       "    </tr>\n",
       "  </thead>\n",
       "  <tbody>\n",
       "    <tr>\n",
       "      <th>0</th>\n",
       "      <td>1975-01-01</td>\n",
       "      <td>8.394</td>\n",
       "      <td>8.092</td>\n",
       "      <td>10.489</td>\n",
       "      <td>NaN</td>\n",
       "      <td>NaN</td>\n",
       "    </tr>\n",
       "    <tr>\n",
       "      <th>1</th>\n",
       "      <td>1975-02-01</td>\n",
       "      <td>8.546</td>\n",
       "      <td>8.092</td>\n",
       "      <td>10.489</td>\n",
       "      <td>NaN</td>\n",
       "      <td>NaN</td>\n",
       "    </tr>\n",
       "    <tr>\n",
       "      <th>2</th>\n",
       "      <td>1975-03-01</td>\n",
       "      <td>8.707</td>\n",
       "      <td>8.431</td>\n",
       "      <td>10.898</td>\n",
       "      <td>NaN</td>\n",
       "      <td>NaN</td>\n",
       "    </tr>\n",
       "    <tr>\n",
       "      <th>3</th>\n",
       "      <td>1975-04-01</td>\n",
       "      <td>8.982</td>\n",
       "      <td>8.431</td>\n",
       "      <td>10.898</td>\n",
       "      <td>NaN</td>\n",
       "      <td>NaN</td>\n",
       "    </tr>\n",
       "    <tr>\n",
       "      <th>4</th>\n",
       "      <td>1975-05-01</td>\n",
       "      <td>9.304</td>\n",
       "      <td>8.431</td>\n",
       "      <td>10.898</td>\n",
       "      <td>NaN</td>\n",
       "      <td>NaN</td>\n",
       "    </tr>\n",
       "    <tr>\n",
       "      <th>...</th>\n",
       "      <td>...</td>\n",
       "      <td>...</td>\n",
       "      <td>...</td>\n",
       "      <td>...</td>\n",
       "      <td>...</td>\n",
       "      <td>...</td>\n",
       "    </tr>\n",
       "    <tr>\n",
       "      <th>583</th>\n",
       "      <td>2023-08-01</td>\n",
       "      <td>112.280</td>\n",
       "      <td>104.550</td>\n",
       "      <td>102.520</td>\n",
       "      <td>95.8</td>\n",
       "      <td>93.0</td>\n",
       "    </tr>\n",
       "    <tr>\n",
       "      <th>584</th>\n",
       "      <td>2023-09-01</td>\n",
       "      <td>112.830</td>\n",
       "      <td>104.510</td>\n",
       "      <td>102.590</td>\n",
       "      <td>96.0</td>\n",
       "      <td>93.3</td>\n",
       "    </tr>\n",
       "    <tr>\n",
       "      <th>585</th>\n",
       "      <td>2023-10-01</td>\n",
       "      <td>113.260</td>\n",
       "      <td>104.480</td>\n",
       "      <td>102.650</td>\n",
       "      <td>96.2</td>\n",
       "      <td>93.5</td>\n",
       "    </tr>\n",
       "    <tr>\n",
       "      <th>586</th>\n",
       "      <td>2023-11-01</td>\n",
       "      <td>112.670</td>\n",
       "      <td>104.550</td>\n",
       "      <td>102.730</td>\n",
       "      <td>96.3</td>\n",
       "      <td>93.6</td>\n",
       "    </tr>\n",
       "    <tr>\n",
       "      <th>587</th>\n",
       "      <td>2023-12-01</td>\n",
       "      <td>112.710</td>\n",
       "      <td>104.470</td>\n",
       "      <td>102.810</td>\n",
       "      <td>96.2</td>\n",
       "      <td>93.4</td>\n",
       "    </tr>\n",
       "  </tbody>\n",
       "</table>\n",
       "<p>588 rows × 6 columns</p>\n",
       "</div>"
      ],
      "text/plain": [
       "            시점  소비자물가지수   전세가격지수   월세가격지수  주택매매지수  아파트매매지수\n",
       "0   1975-01-01    8.394    8.092   10.489     NaN      NaN\n",
       "1   1975-02-01    8.546    8.092   10.489     NaN      NaN\n",
       "2   1975-03-01    8.707    8.431   10.898     NaN      NaN\n",
       "3   1975-04-01    8.982    8.431   10.898     NaN      NaN\n",
       "4   1975-05-01    9.304    8.431   10.898     NaN      NaN\n",
       "..         ...      ...      ...      ...     ...      ...\n",
       "583 2023-08-01  112.280  104.550  102.520    95.8     93.0\n",
       "584 2023-09-01  112.830  104.510  102.590    96.0     93.3\n",
       "585 2023-10-01  113.260  104.480  102.650    96.2     93.5\n",
       "586 2023-11-01  112.670  104.550  102.730    96.3     93.6\n",
       "587 2023-12-01  112.710  104.470  102.810    96.2     93.4\n",
       "\n",
       "[588 rows x 6 columns]"
      ]
     },
     "execution_count": 182,
     "metadata": {},
     "output_type": "execute_result"
    }
   ],
   "source": [
    "df_merged = pd.merge_asof(\n",
    "    Price_index.sort_values(by='시점'), APT_index.sort_values(by='시점'),\n",
    "    on='시점',  allow_exact_matches=True)\n",
    "df_merged "
   ]
  },
  {
   "cell_type": "code",
   "execution_count": 183,
   "metadata": {
    "ExecuteTime": {
     "end_time": "2024-01-23T13:51:13.762102Z",
     "start_time": "2024-01-23T13:51:13.732731Z"
    }
   },
   "outputs": [],
   "source": [
    "df_merged.dropna(axis=0, inplace=True)"
   ]
  },
  {
   "cell_type": "code",
   "execution_count": 184,
   "metadata": {
    "ExecuteTime": {
     "end_time": "2024-01-23T13:51:13.943274Z",
     "start_time": "2024-01-23T13:51:13.911827Z"
    }
   },
   "outputs": [
    {
     "name": "stdout",
     "output_type": "stream",
     "text": [
      "<class 'pandas.core.frame.DataFrame'>\n",
      "Index: 242 entries, 346 to 587\n",
      "Data columns (total 6 columns):\n",
      " #   Column   Non-Null Count  Dtype         \n",
      "---  ------   --------------  -----         \n",
      " 0   시점       242 non-null    datetime64[ns]\n",
      " 1   소비자물가지수  242 non-null    float64       \n",
      " 2   전세가격지수   242 non-null    float64       \n",
      " 3   월세가격지수   242 non-null    float64       \n",
      " 4   주택매매지수   242 non-null    float64       \n",
      " 5   아파트매매지수  242 non-null    float64       \n",
      "dtypes: datetime64[ns](1), float64(5)\n",
      "memory usage: 13.2 KB\n"
     ]
    }
   ],
   "source": [
    "df_merged.info()"
   ]
  },
  {
   "cell_type": "markdown",
   "metadata": {},
   "source": [
    "## 3.4 그래프 시각화"
   ]
  },
  {
   "cell_type": "code",
   "execution_count": 185,
   "metadata": {
    "ExecuteTime": {
     "end_time": "2024-01-23T13:51:14.488382Z",
     "start_time": "2024-01-23T13:51:14.313021Z"
    }
   },
   "outputs": [
    {
     "data": {
      "image/png": "[encoded data removed]",
      "text/plain": [
       "<Figure size 1200x1000 with 2 Axes>"
      ]
     },
     "metadata": {},
     "output_type": "display_data"
    }
   ],
   "source": [
    "import matplotlib.pyplot as plt\n",
    "\n",
    "# 1. 기본 스타일 설정\n",
    "plt.style.use('default')\n",
    "plt.rcParams['figure.figsize'] = (12, 10)\n",
    "plt.rcParams['font.size'] = 12\n",
    "plt.rcParams['font.family'] = 'NanumGothic'\n",
    "\n",
    "# 2. 데이터 준비\n",
    "x = df_merged['시점']\n",
    "y1 = df_merged['소비자물가지수']\n",
    "y2 = df_merged['주택매매지수']\n",
    "\n",
    "# 3. 그래프 그리기\n",
    "fig, ax1 = plt.subplots()\n",
    "\n",
    "# y1 에 대한 값\n",
    "ax1.plot(x, y1, '-s', color='green', markersize=0.5, linewidth=0.5, alpha=0.7, label='소비자물가지수')\n",
    "ax1.set_ylim(0, 130)\n",
    "ax1.set_xlabel('연도')\n",
    "ax1.set_ylabel('물가지수')\n",
    "ax1.tick_params(axis='both', direction='in')\n",
    "\n",
    "\n",
    "# y2 에 대한 값\n",
    "ax2 = ax1.twinx()\n",
    "ax2.set_ylim(0, 130)\n",
    "ax2.plot(x, y2, '-s', color='blue', markersize=0.5, linewidth=0.5, alpha=0.7, label='주택매매지수')\n",
    "ax2.set_ylabel('주택지수')\n",
    "ax2.tick_params(axis='y', direction='in')\n",
    "\n",
    "# set_zorder() 메서드는 z-축 방향의 순서를 지정합니다.\n",
    "# 아래 그림과 같이 zorder가 낮을수록 먼저 그려지고, zorder가 높을수록 나중에 그려집니다.\n",
    "\n",
    "ax1.set_zorder(ax2.get_zorder() + 10)\n",
    "ax1.patch.set_visible(False)\n",
    "\n",
    "ax1.legend(loc='upper left')\n",
    "ax2.legend(loc='lower right')\n",
    "\n",
    "plt.show()"
   ]
  },
  {
   "cell_type": "markdown",
   "metadata": {},
   "source": [
    "## 3.5 통계적 오류 정정"
   ]
  },
  {
   "cell_type": "markdown",
   "metadata": {},
   "source": [
    "* 기준시점\n",
    "  - 소비자물가지수, 전세가격지수, 월세가격지수 : 2015.1 기준\n",
    "  - 주택매매지수, 아파트매매지수 : 2021.6 기준"
   ]
  },
  {
   "cell_type": "code",
   "execution_count": null,
   "metadata": {
    "ExecuteTime": {
     "end_time": "2023-10-04T13:53:58.594800Z",
     "start_time": "2023-10-04T13:53:47.913Z"
    }
   },
   "outputs": [],
   "source": [
    "# 1. 병합된 데이터를 확인해봅니다."
   ]
  },
  {
   "cell_type": "code",
   "execution_count": 186,
   "metadata": {
    "ExecuteTime": {
     "end_time": "2024-01-23T13:51:24.909135Z",
     "start_time": "2024-01-23T13:51:24.891143Z"
    }
   },
   "outputs": [
    {
     "data": {
      "text/html": [
       "<div>\n",
       "<style scoped>\n",
       "    .dataframe tbody tr th:only-of-type {\n",
       "        vertical-align: middle;\n",
       "    }\n",
       "\n",
       "    .dataframe tbody tr th {\n",
       "        vertical-align: top;\n",
       "    }\n",
       "\n",
       "    .dataframe thead th {\n",
       "        text-align: right;\n",
       "    }\n",
       "</style>\n",
       "<table border=\"1\" class=\"dataframe\">\n",
       "  <thead>\n",
       "    <tr style=\"text-align: right;\">\n",
       "      <th></th>\n",
       "      <th>시점</th>\n",
       "      <th>소비자물가지수</th>\n",
       "      <th>전세가격지수</th>\n",
       "      <th>월세가격지수</th>\n",
       "      <th>주택매매지수</th>\n",
       "      <th>아파트매매지수</th>\n",
       "    </tr>\n",
       "  </thead>\n",
       "  <tbody>\n",
       "    <tr>\n",
       "      <th>346</th>\n",
       "      <td>2003-11-01</td>\n",
       "      <td>70.413</td>\n",
       "      <td>69.063</td>\n",
       "      <td>88.910</td>\n",
       "      <td>61.5</td>\n",
       "      <td>55.4</td>\n",
       "    </tr>\n",
       "    <tr>\n",
       "      <th>347</th>\n",
       "      <td>2003-12-01</td>\n",
       "      <td>70.730</td>\n",
       "      <td>69.238</td>\n",
       "      <td>88.910</td>\n",
       "      <td>61.0</td>\n",
       "      <td>55.1</td>\n",
       "    </tr>\n",
       "    <tr>\n",
       "      <th>348</th>\n",
       "      <td>2004-01-01</td>\n",
       "      <td>71.172</td>\n",
       "      <td>69.354</td>\n",
       "      <td>89.079</td>\n",
       "      <td>60.7</td>\n",
       "      <td>55.0</td>\n",
       "    </tr>\n",
       "    <tr>\n",
       "      <th>349</th>\n",
       "      <td>2004-02-01</td>\n",
       "      <td>71.487</td>\n",
       "      <td>69.412</td>\n",
       "      <td>88.994</td>\n",
       "      <td>60.7</td>\n",
       "      <td>55.1</td>\n",
       "    </tr>\n",
       "    <tr>\n",
       "      <th>350</th>\n",
       "      <td>2004-03-01</td>\n",
       "      <td>72.181</td>\n",
       "      <td>69.470</td>\n",
       "      <td>88.910</td>\n",
       "      <td>60.8</td>\n",
       "      <td>55.4</td>\n",
       "    </tr>\n",
       "    <tr>\n",
       "      <th>...</th>\n",
       "      <td>...</td>\n",
       "      <td>...</td>\n",
       "      <td>...</td>\n",
       "      <td>...</td>\n",
       "      <td>...</td>\n",
       "      <td>...</td>\n",
       "    </tr>\n",
       "    <tr>\n",
       "      <th>583</th>\n",
       "      <td>2023-08-01</td>\n",
       "      <td>112.280</td>\n",
       "      <td>104.550</td>\n",
       "      <td>102.520</td>\n",
       "      <td>95.8</td>\n",
       "      <td>93.0</td>\n",
       "    </tr>\n",
       "    <tr>\n",
       "      <th>584</th>\n",
       "      <td>2023-09-01</td>\n",
       "      <td>112.830</td>\n",
       "      <td>104.510</td>\n",
       "      <td>102.590</td>\n",
       "      <td>96.0</td>\n",
       "      <td>93.3</td>\n",
       "    </tr>\n",
       "    <tr>\n",
       "      <th>585</th>\n",
       "      <td>2023-10-01</td>\n",
       "      <td>113.260</td>\n",
       "      <td>104.480</td>\n",
       "      <td>102.650</td>\n",
       "      <td>96.2</td>\n",
       "      <td>93.5</td>\n",
       "    </tr>\n",
       "    <tr>\n",
       "      <th>586</th>\n",
       "      <td>2023-11-01</td>\n",
       "      <td>112.670</td>\n",
       "      <td>104.550</td>\n",
       "      <td>102.730</td>\n",
       "      <td>96.3</td>\n",
       "      <td>93.6</td>\n",
       "    </tr>\n",
       "    <tr>\n",
       "      <th>587</th>\n",
       "      <td>2023-12-01</td>\n",
       "      <td>112.710</td>\n",
       "      <td>104.470</td>\n",
       "      <td>102.810</td>\n",
       "      <td>96.2</td>\n",
       "      <td>93.4</td>\n",
       "    </tr>\n",
       "  </tbody>\n",
       "</table>\n",
       "<p>242 rows × 6 columns</p>\n",
       "</div>"
      ],
      "text/plain": [
       "            시점  소비자물가지수   전세가격지수   월세가격지수  주택매매지수  아파트매매지수\n",
       "346 2003-11-01   70.413   69.063   88.910    61.5     55.4\n",
       "347 2003-12-01   70.730   69.238   88.910    61.0     55.1\n",
       "348 2004-01-01   71.172   69.354   89.079    60.7     55.0\n",
       "349 2004-02-01   71.487   69.412   88.994    60.7     55.1\n",
       "350 2004-03-01   72.181   69.470   88.910    60.8     55.4\n",
       "..         ...      ...      ...      ...     ...      ...\n",
       "583 2023-08-01  112.280  104.550  102.520    95.8     93.0\n",
       "584 2023-09-01  112.830  104.510  102.590    96.0     93.3\n",
       "585 2023-10-01  113.260  104.480  102.650    96.2     93.5\n",
       "586 2023-11-01  112.670  104.550  102.730    96.3     93.6\n",
       "587 2023-12-01  112.710  104.470  102.810    96.2     93.4\n",
       "\n",
       "[242 rows x 6 columns]"
      ]
     },
     "execution_count": 186,
     "metadata": {},
     "output_type": "execute_result"
    }
   ],
   "source": [
    "df_merged"
   ]
  },
  {
   "cell_type": "code",
   "execution_count": 187,
   "metadata": {
    "ExecuteTime": {
     "end_time": "2024-01-23T13:51:25.048240Z",
     "start_time": "2024-01-23T13:51:25.033052Z"
    }
   },
   "outputs": [],
   "source": [
    "# 2. 칼럼명을 기준시점으로 구분해서 바꿔줍니다."
   ]
  },
  {
   "cell_type": "code",
   "execution_count": 188,
   "metadata": {
    "ExecuteTime": {
     "end_time": "2024-01-23T13:51:25.210062Z",
     "start_time": "2024-01-23T13:51:25.179988Z"
    }
   },
   "outputs": [
    {
     "data": {
      "text/html": [
       "<div>\n",
       "<style scoped>\n",
       "    .dataframe tbody tr th:only-of-type {\n",
       "        vertical-align: middle;\n",
       "    }\n",
       "\n",
       "    .dataframe tbody tr th {\n",
       "        vertical-align: top;\n",
       "    }\n",
       "\n",
       "    .dataframe thead th {\n",
       "        text-align: right;\n",
       "    }\n",
       "</style>\n",
       "<table border=\"1\" class=\"dataframe\">\n",
       "  <thead>\n",
       "    <tr style=\"text-align: right;\">\n",
       "      <th></th>\n",
       "      <th>시점</th>\n",
       "      <th>소비자물가지수(2020=100)</th>\n",
       "      <th>전세가격지수(2020=100)</th>\n",
       "      <th>월세가격지수(2020=100)</th>\n",
       "      <th>주택매매지수(2021.6=100)</th>\n",
       "      <th>아파트매매지수(2021.6=100)</th>\n",
       "    </tr>\n",
       "  </thead>\n",
       "  <tbody>\n",
       "    <tr>\n",
       "      <th>346</th>\n",
       "      <td>2003-11-01</td>\n",
       "      <td>70.413</td>\n",
       "      <td>69.063</td>\n",
       "      <td>88.910</td>\n",
       "      <td>61.5</td>\n",
       "      <td>55.4</td>\n",
       "    </tr>\n",
       "    <tr>\n",
       "      <th>347</th>\n",
       "      <td>2003-12-01</td>\n",
       "      <td>70.730</td>\n",
       "      <td>69.238</td>\n",
       "      <td>88.910</td>\n",
       "      <td>61.0</td>\n",
       "      <td>55.1</td>\n",
       "    </tr>\n",
       "    <tr>\n",
       "      <th>348</th>\n",
       "      <td>2004-01-01</td>\n",
       "      <td>71.172</td>\n",
       "      <td>69.354</td>\n",
       "      <td>89.079</td>\n",
       "      <td>60.7</td>\n",
       "      <td>55.0</td>\n",
       "    </tr>\n",
       "    <tr>\n",
       "      <th>349</th>\n",
       "      <td>2004-02-01</td>\n",
       "      <td>71.487</td>\n",
       "      <td>69.412</td>\n",
       "      <td>88.994</td>\n",
       "      <td>60.7</td>\n",
       "      <td>55.1</td>\n",
       "    </tr>\n",
       "    <tr>\n",
       "      <th>350</th>\n",
       "      <td>2004-03-01</td>\n",
       "      <td>72.181</td>\n",
       "      <td>69.470</td>\n",
       "      <td>88.910</td>\n",
       "      <td>60.8</td>\n",
       "      <td>55.4</td>\n",
       "    </tr>\n",
       "    <tr>\n",
       "      <th>...</th>\n",
       "      <td>...</td>\n",
       "      <td>...</td>\n",
       "      <td>...</td>\n",
       "      <td>...</td>\n",
       "      <td>...</td>\n",
       "      <td>...</td>\n",
       "    </tr>\n",
       "    <tr>\n",
       "      <th>583</th>\n",
       "      <td>2023-08-01</td>\n",
       "      <td>112.280</td>\n",
       "      <td>104.550</td>\n",
       "      <td>102.520</td>\n",
       "      <td>95.8</td>\n",
       "      <td>93.0</td>\n",
       "    </tr>\n",
       "    <tr>\n",
       "      <th>584</th>\n",
       "      <td>2023-09-01</td>\n",
       "      <td>112.830</td>\n",
       "      <td>104.510</td>\n",
       "      <td>102.590</td>\n",
       "      <td>96.0</td>\n",
       "      <td>93.3</td>\n",
       "    </tr>\n",
       "    <tr>\n",
       "      <th>585</th>\n",
       "      <td>2023-10-01</td>\n",
       "      <td>113.260</td>\n",
       "      <td>104.480</td>\n",
       "      <td>102.650</td>\n",
       "      <td>96.2</td>\n",
       "      <td>93.5</td>\n",
       "    </tr>\n",
       "    <tr>\n",
       "      <th>586</th>\n",
       "      <td>2023-11-01</td>\n",
       "      <td>112.670</td>\n",
       "      <td>104.550</td>\n",
       "      <td>102.730</td>\n",
       "      <td>96.3</td>\n",
       "      <td>93.6</td>\n",
       "    </tr>\n",
       "    <tr>\n",
       "      <th>587</th>\n",
       "      <td>2023-12-01</td>\n",
       "      <td>112.710</td>\n",
       "      <td>104.470</td>\n",
       "      <td>102.810</td>\n",
       "      <td>96.2</td>\n",
       "      <td>93.4</td>\n",
       "    </tr>\n",
       "  </tbody>\n",
       "</table>\n",
       "<p>242 rows × 6 columns</p>\n",
       "</div>"
      ],
      "text/plain": [
       "            시점  소비자물가지수(2020=100)  전세가격지수(2020=100)  월세가격지수(2020=100)  \\\n",
       "346 2003-11-01             70.413            69.063            88.910   \n",
       "347 2003-12-01             70.730            69.238            88.910   \n",
       "348 2004-01-01             71.172            69.354            89.079   \n",
       "349 2004-02-01             71.487            69.412            88.994   \n",
       "350 2004-03-01             72.181            69.470            88.910   \n",
       "..         ...                ...               ...               ...   \n",
       "583 2023-08-01            112.280           104.550           102.520   \n",
       "584 2023-09-01            112.830           104.510           102.590   \n",
       "585 2023-10-01            113.260           104.480           102.650   \n",
       "586 2023-11-01            112.670           104.550           102.730   \n",
       "587 2023-12-01            112.710           104.470           102.810   \n",
       "\n",
       "     주택매매지수(2021.6=100)  아파트매매지수(2021.6=100)  \n",
       "346                61.5                 55.4  \n",
       "347                61.0                 55.1  \n",
       "348                60.7                 55.0  \n",
       "349                60.7                 55.1  \n",
       "350                60.8                 55.4  \n",
       "..                  ...                  ...  \n",
       "583                95.8                 93.0  \n",
       "584                96.0                 93.3  \n",
       "585                96.2                 93.5  \n",
       "586                96.3                 93.6  \n",
       "587                96.2                 93.4  \n",
       "\n",
       "[242 rows x 6 columns]"
      ]
     },
     "execution_count": 188,
     "metadata": {},
     "output_type": "execute_result"
    }
   ],
   "source": [
    "df_merged.columns = ['시점', '소비자물가지수(2020=100)', '전세가격지수(2020=100)', '월세가격지수(2020=100)','주택매매지수(2021.6=100)', '아파트매매지수(2021.6=100)']\n",
    "df_merged"
   ]
  },
  {
   "cell_type": "code",
   "execution_count": 189,
   "metadata": {
    "ExecuteTime": {
     "end_time": "2024-01-23T13:51:25.374020Z",
     "start_time": "2024-01-23T13:51:25.350862Z"
    }
   },
   "outputs": [
    {
     "data": {
      "text/plain": [
       "Index(['시점', '소비자물가지수(2020=100)', '전세가격지수(2020=100)', '월세가격지수(2020=100)',\n",
       "       '주택매매지수(2021.6=100)', '아파트매매지수(2021.6=100)'],\n",
       "      dtype='object')"
      ]
     },
     "execution_count": 189,
     "metadata": {},
     "output_type": "execute_result"
    }
   ],
   "source": [
    "df_merged.columns"
   ]
  },
  {
   "cell_type": "code",
   "execution_count": 190,
   "metadata": {
    "ExecuteTime": {
     "end_time": "2024-01-23T13:51:25.560264Z",
     "start_time": "2024-01-23T13:51:25.526669Z"
    }
   },
   "outputs": [
    {
     "data": {
      "text/html": [
       "<div>\n",
       "<style scoped>\n",
       "    .dataframe tbody tr th:only-of-type {\n",
       "        vertical-align: middle;\n",
       "    }\n",
       "\n",
       "    .dataframe tbody tr th {\n",
       "        vertical-align: top;\n",
       "    }\n",
       "\n",
       "    .dataframe thead th {\n",
       "        text-align: right;\n",
       "    }\n",
       "</style>\n",
       "<table border=\"1\" class=\"dataframe\">\n",
       "  <thead>\n",
       "    <tr style=\"text-align: right;\">\n",
       "      <th></th>\n",
       "      <th>소비자물가지수(2020=100)</th>\n",
       "      <th>전세가격지수(2020=100)</th>\n",
       "      <th>월세가격지수(2020=100)</th>\n",
       "      <th>주택매매지수(2021.6=100)</th>\n",
       "      <th>아파트매매지수(2021.6=100)</th>\n",
       "    </tr>\n",
       "    <tr>\n",
       "      <th>시점</th>\n",
       "      <th></th>\n",
       "      <th></th>\n",
       "      <th></th>\n",
       "      <th></th>\n",
       "      <th></th>\n",
       "    </tr>\n",
       "  </thead>\n",
       "  <tbody>\n",
       "    <tr>\n",
       "      <th>2003-11-01</th>\n",
       "      <td>70.413</td>\n",
       "      <td>69.063</td>\n",
       "      <td>88.910</td>\n",
       "      <td>61.5</td>\n",
       "      <td>55.4</td>\n",
       "    </tr>\n",
       "    <tr>\n",
       "      <th>2003-12-01</th>\n",
       "      <td>70.730</td>\n",
       "      <td>69.238</td>\n",
       "      <td>88.910</td>\n",
       "      <td>61.0</td>\n",
       "      <td>55.1</td>\n",
       "    </tr>\n",
       "    <tr>\n",
       "      <th>2004-01-01</th>\n",
       "      <td>71.172</td>\n",
       "      <td>69.354</td>\n",
       "      <td>89.079</td>\n",
       "      <td>60.7</td>\n",
       "      <td>55.0</td>\n",
       "    </tr>\n",
       "    <tr>\n",
       "      <th>2004-02-01</th>\n",
       "      <td>71.487</td>\n",
       "      <td>69.412</td>\n",
       "      <td>88.994</td>\n",
       "      <td>60.7</td>\n",
       "      <td>55.1</td>\n",
       "    </tr>\n",
       "    <tr>\n",
       "      <th>2004-03-01</th>\n",
       "      <td>72.181</td>\n",
       "      <td>69.470</td>\n",
       "      <td>88.910</td>\n",
       "      <td>60.8</td>\n",
       "      <td>55.4</td>\n",
       "    </tr>\n",
       "    <tr>\n",
       "      <th>...</th>\n",
       "      <td>...</td>\n",
       "      <td>...</td>\n",
       "      <td>...</td>\n",
       "      <td>...</td>\n",
       "      <td>...</td>\n",
       "    </tr>\n",
       "    <tr>\n",
       "      <th>2023-08-01</th>\n",
       "      <td>112.280</td>\n",
       "      <td>104.550</td>\n",
       "      <td>102.520</td>\n",
       "      <td>95.8</td>\n",
       "      <td>93.0</td>\n",
       "    </tr>\n",
       "    <tr>\n",
       "      <th>2023-09-01</th>\n",
       "      <td>112.830</td>\n",
       "      <td>104.510</td>\n",
       "      <td>102.590</td>\n",
       "      <td>96.0</td>\n",
       "      <td>93.3</td>\n",
       "    </tr>\n",
       "    <tr>\n",
       "      <th>2023-10-01</th>\n",
       "      <td>113.260</td>\n",
       "      <td>104.480</td>\n",
       "      <td>102.650</td>\n",
       "      <td>96.2</td>\n",
       "      <td>93.5</td>\n",
       "    </tr>\n",
       "    <tr>\n",
       "      <th>2023-11-01</th>\n",
       "      <td>112.670</td>\n",
       "      <td>104.550</td>\n",
       "      <td>102.730</td>\n",
       "      <td>96.3</td>\n",
       "      <td>93.6</td>\n",
       "    </tr>\n",
       "    <tr>\n",
       "      <th>2023-12-01</th>\n",
       "      <td>112.710</td>\n",
       "      <td>104.470</td>\n",
       "      <td>102.810</td>\n",
       "      <td>96.2</td>\n",
       "      <td>93.4</td>\n",
       "    </tr>\n",
       "  </tbody>\n",
       "</table>\n",
       "<p>242 rows × 5 columns</p>\n",
       "</div>"
      ],
      "text/plain": [
       "            소비자물가지수(2020=100)  전세가격지수(2020=100)  월세가격지수(2020=100)  \\\n",
       "시점                                                                  \n",
       "2003-11-01             70.413            69.063            88.910   \n",
       "2003-12-01             70.730            69.238            88.910   \n",
       "2004-01-01             71.172            69.354            89.079   \n",
       "2004-02-01             71.487            69.412            88.994   \n",
       "2004-03-01             72.181            69.470            88.910   \n",
       "...                       ...               ...               ...   \n",
       "2023-08-01            112.280           104.550           102.520   \n",
       "2023-09-01            112.830           104.510           102.590   \n",
       "2023-10-01            113.260           104.480           102.650   \n",
       "2023-11-01            112.670           104.550           102.730   \n",
       "2023-12-01            112.710           104.470           102.810   \n",
       "\n",
       "            주택매매지수(2021.6=100)  아파트매매지수(2021.6=100)  \n",
       "시점                                                   \n",
       "2003-11-01                61.5                 55.4  \n",
       "2003-12-01                61.0                 55.1  \n",
       "2004-01-01                60.7                 55.0  \n",
       "2004-02-01                60.7                 55.1  \n",
       "2004-03-01                60.8                 55.4  \n",
       "...                        ...                  ...  \n",
       "2023-08-01                95.8                 93.0  \n",
       "2023-09-01                96.0                 93.3  \n",
       "2023-10-01                96.2                 93.5  \n",
       "2023-11-01                96.3                 93.6  \n",
       "2023-12-01                96.2                 93.4  \n",
       "\n",
       "[242 rows x 5 columns]"
      ]
     },
     "execution_count": 190,
     "metadata": {},
     "output_type": "execute_result"
    }
   ],
   "source": [
    "df_merged.set_index('시점', inplace=True)\n",
    "df_merged"
   ]
  },
  {
   "cell_type": "code",
   "execution_count": 191,
   "metadata": {
    "ExecuteTime": {
     "end_time": "2024-01-23T13:51:25.693570Z",
     "start_time": "2024-01-23T13:51:25.678457Z"
    }
   },
   "outputs": [],
   "source": [
    "# 3. 기준시점 POINT를 잡습니다."
   ]
  },
  {
   "cell_type": "code",
   "execution_count": 192,
   "metadata": {
    "ExecuteTime": {
     "end_time": "2024-01-23T13:51:25.861129Z",
     "start_time": "2024-01-23T13:51:25.845362Z"
    }
   },
   "outputs": [
    {
     "name": "stdout",
     "output_type": "stream",
     "text": [
      "기준 소비자물가지수 : 102.05\n",
      "기준 전세가격지수 : 101.73\n",
      "기준 월세가격지수 : 100.67\n"
     ]
    }
   ],
   "source": [
    "price_r_point = df_merged.loc['2021-06-01']['소비자물가지수(2020=100)']\n",
    "junse_r_point = df_merged.loc['2021-06-01']['전세가격지수(2020=100)']\n",
    "Monthly_r_point = df_merged.loc['2021-06-01']['월세가격지수(2020=100)']\n",
    "\n",
    "print('기준 소비자물가지수 :', price_r_point)\n",
    "print('기준 전세가격지수 :', junse_r_point)\n",
    "print('기준 월세가격지수 :', Monthly_r_point)"
   ]
  },
  {
   "cell_type": "code",
   "execution_count": 193,
   "metadata": {
    "ExecuteTime": {
     "end_time": "2024-01-23T13:51:26.010205Z",
     "start_time": "2024-01-23T13:51:25.995163Z"
    }
   },
   "outputs": [],
   "source": [
    "# 4. 기준시점을 변경해줍니다."
   ]
  },
  {
   "cell_type": "code",
   "execution_count": 194,
   "metadata": {
    "ExecuteTime": {
     "end_time": "2024-01-23T13:51:26.161019Z",
     "start_time": "2024-01-23T13:51:26.145390Z"
    }
   },
   "outputs": [],
   "source": [
    "# 2015=100 기준인 각각의 값을 2021.6월 지수로 나눠주고 100을 곱해 환산해줍니다.\n",
    "\n",
    "df_merged['소비자물가지수(2021.6=100)'] = df_merged['소비자물가지수(2020=100)'] / price_r_point * 100\n",
    "df_merged['전세가격지수(2021.6=100)'] = df_merged['전세가격지수(2020=100)'] / junse_r_point * 100\n",
    "df_merged['월세가격지수(2021.6=100)'] = df_merged['월세가격지수(2020=100)'] / Monthly_r_point * 100"
   ]
  },
  {
   "cell_type": "code",
   "execution_count": 195,
   "metadata": {
    "ExecuteTime": {
     "end_time": "2024-01-23T13:51:26.326850Z",
     "start_time": "2024-01-23T13:51:26.311744Z"
    }
   },
   "outputs": [],
   "source": [
    "# 5. 소수점 자릿수를 통일해줍니다."
   ]
  },
  {
   "cell_type": "code",
   "execution_count": 196,
   "metadata": {
    "ExecuteTime": {
     "end_time": "2024-01-23T13:51:26.493735Z",
     "start_time": "2024-01-23T13:51:26.477676Z"
    }
   },
   "outputs": [],
   "source": [
    "df_merged = df_merged.round(decimals=2)"
   ]
  },
  {
   "cell_type": "code",
   "execution_count": 197,
   "metadata": {
    "ExecuteTime": {
     "end_time": "2024-01-23T13:51:26.676750Z",
     "start_time": "2024-01-23T13:51:26.661733Z"
    }
   },
   "outputs": [],
   "source": [
    "# 6. 변경전 기준시점 데이터를 제거해줍니다.(drop)"
   ]
  },
  {
   "cell_type": "code",
   "execution_count": 198,
   "metadata": {
    "ExecuteTime": {
     "end_time": "2024-01-23T13:51:26.860856Z",
     "start_time": "2024-01-23T13:51:26.829813Z"
    }
   },
   "outputs": [
    {
     "data": {
      "text/html": [
       "<div>\n",
       "<style scoped>\n",
       "    .dataframe tbody tr th:only-of-type {\n",
       "        vertical-align: middle;\n",
       "    }\n",
       "\n",
       "    .dataframe tbody tr th {\n",
       "        vertical-align: top;\n",
       "    }\n",
       "\n",
       "    .dataframe thead th {\n",
       "        text-align: right;\n",
       "    }\n",
       "</style>\n",
       "<table border=\"1\" class=\"dataframe\">\n",
       "  <thead>\n",
       "    <tr style=\"text-align: right;\">\n",
       "      <th></th>\n",
       "      <th>주택매매지수(2021.6=100)</th>\n",
       "      <th>아파트매매지수(2021.6=100)</th>\n",
       "      <th>소비자물가지수(2021.6=100)</th>\n",
       "      <th>전세가격지수(2021.6=100)</th>\n",
       "      <th>월세가격지수(2021.6=100)</th>\n",
       "    </tr>\n",
       "    <tr>\n",
       "      <th>시점</th>\n",
       "      <th></th>\n",
       "      <th></th>\n",
       "      <th></th>\n",
       "      <th></th>\n",
       "      <th></th>\n",
       "    </tr>\n",
       "  </thead>\n",
       "  <tbody>\n",
       "    <tr>\n",
       "      <th>2003-11-01</th>\n",
       "      <td>61.5</td>\n",
       "      <td>55.4</td>\n",
       "      <td>69.00</td>\n",
       "      <td>67.89</td>\n",
       "      <td>88.32</td>\n",
       "    </tr>\n",
       "    <tr>\n",
       "      <th>2003-12-01</th>\n",
       "      <td>61.0</td>\n",
       "      <td>55.1</td>\n",
       "      <td>69.31</td>\n",
       "      <td>68.06</td>\n",
       "      <td>88.32</td>\n",
       "    </tr>\n",
       "    <tr>\n",
       "      <th>2004-01-01</th>\n",
       "      <td>60.7</td>\n",
       "      <td>55.0</td>\n",
       "      <td>69.74</td>\n",
       "      <td>68.17</td>\n",
       "      <td>88.49</td>\n",
       "    </tr>\n",
       "    <tr>\n",
       "      <th>2004-02-01</th>\n",
       "      <td>60.7</td>\n",
       "      <td>55.1</td>\n",
       "      <td>70.05</td>\n",
       "      <td>68.23</td>\n",
       "      <td>88.40</td>\n",
       "    </tr>\n",
       "    <tr>\n",
       "      <th>2004-03-01</th>\n",
       "      <td>60.8</td>\n",
       "      <td>55.4</td>\n",
       "      <td>70.73</td>\n",
       "      <td>68.29</td>\n",
       "      <td>88.32</td>\n",
       "    </tr>\n",
       "    <tr>\n",
       "      <th>...</th>\n",
       "      <td>...</td>\n",
       "      <td>...</td>\n",
       "      <td>...</td>\n",
       "      <td>...</td>\n",
       "      <td>...</td>\n",
       "    </tr>\n",
       "    <tr>\n",
       "      <th>2023-08-01</th>\n",
       "      <td>95.8</td>\n",
       "      <td>93.0</td>\n",
       "      <td>110.02</td>\n",
       "      <td>102.77</td>\n",
       "      <td>101.84</td>\n",
       "    </tr>\n",
       "    <tr>\n",
       "      <th>2023-09-01</th>\n",
       "      <td>96.0</td>\n",
       "      <td>93.3</td>\n",
       "      <td>110.56</td>\n",
       "      <td>102.73</td>\n",
       "      <td>101.91</td>\n",
       "    </tr>\n",
       "    <tr>\n",
       "      <th>2023-10-01</th>\n",
       "      <td>96.2</td>\n",
       "      <td>93.5</td>\n",
       "      <td>110.98</td>\n",
       "      <td>102.70</td>\n",
       "      <td>101.97</td>\n",
       "    </tr>\n",
       "    <tr>\n",
       "      <th>2023-11-01</th>\n",
       "      <td>96.3</td>\n",
       "      <td>93.6</td>\n",
       "      <td>110.41</td>\n",
       "      <td>102.77</td>\n",
       "      <td>102.05</td>\n",
       "    </tr>\n",
       "    <tr>\n",
       "      <th>2023-12-01</th>\n",
       "      <td>96.2</td>\n",
       "      <td>93.4</td>\n",
       "      <td>110.45</td>\n",
       "      <td>102.69</td>\n",
       "      <td>102.13</td>\n",
       "    </tr>\n",
       "  </tbody>\n",
       "</table>\n",
       "<p>242 rows × 5 columns</p>\n",
       "</div>"
      ],
      "text/plain": [
       "            주택매매지수(2021.6=100)  아파트매매지수(2021.6=100)  소비자물가지수(2021.6=100)  \\\n",
       "시점                                                                         \n",
       "2003-11-01                61.5                 55.4                69.00   \n",
       "2003-12-01                61.0                 55.1                69.31   \n",
       "2004-01-01                60.7                 55.0                69.74   \n",
       "2004-02-01                60.7                 55.1                70.05   \n",
       "2004-03-01                60.8                 55.4                70.73   \n",
       "...                        ...                  ...                  ...   \n",
       "2023-08-01                95.8                 93.0               110.02   \n",
       "2023-09-01                96.0                 93.3               110.56   \n",
       "2023-10-01                96.2                 93.5               110.98   \n",
       "2023-11-01                96.3                 93.6               110.41   \n",
       "2023-12-01                96.2                 93.4               110.45   \n",
       "\n",
       "            전세가격지수(2021.6=100)  월세가격지수(2021.6=100)  \n",
       "시점                                                  \n",
       "2003-11-01               67.89               88.32  \n",
       "2003-12-01               68.06               88.32  \n",
       "2004-01-01               68.17               88.49  \n",
       "2004-02-01               68.23               88.40  \n",
       "2004-03-01               68.29               88.32  \n",
       "...                        ...                 ...  \n",
       "2023-08-01              102.77              101.84  \n",
       "2023-09-01              102.73              101.91  \n",
       "2023-10-01              102.70              101.97  \n",
       "2023-11-01              102.77              102.05  \n",
       "2023-12-01              102.69              102.13  \n",
       "\n",
       "[242 rows x 5 columns]"
      ]
     },
     "execution_count": 198,
     "metadata": {},
     "output_type": "execute_result"
    }
   ],
   "source": [
    "df_merged.drop(['소비자물가지수(2020=100)','전세가격지수(2020=100)','월세가격지수(2020=100)'], axis=1)"
   ]
  },
  {
   "cell_type": "code",
   "execution_count": 199,
   "metadata": {
    "ExecuteTime": {
     "end_time": "2024-01-23T13:51:27.160673Z",
     "start_time": "2024-01-23T13:51:27.004976Z"
    }
   },
   "outputs": [
    {
     "data": {
      "image/png": "[encoded data removed]",
      "text/plain": [
       "<Figure size 1200x1000 with 1 Axes>"
      ]
     },
     "metadata": {},
     "output_type": "display_data"
    }
   ],
   "source": [
    "import matplotlib.pyplot as plt\n",
    "\n",
    "# 1. 기본 스타일 설정\n",
    "plt.style.use('default')\n",
    "plt.rcParams['figure.figsize'] = (12, 10)\n",
    "plt.rcParams['font.size'] = 12\n",
    "plt.rc('font', family = 'NanumGothic')\n",
    "\n",
    "# 2. 데이터 준비\n",
    "x = df_merged.index\n",
    "y1 = df_merged['소비자물가지수(2021.6=100)']\n",
    "y2 = df_merged['주택매매지수(2021.6=100)']\n",
    "y3 = df_merged['전세가격지수(2021.6=100)']\n",
    "\n",
    "# 3. 그래프 그리기\n",
    "fig, ax1 = plt.subplots()\n",
    "\n",
    "# y1 에 대한 값\n",
    "ax1.plot(x, y1, '-s', color='green', markersize=1, linewidth=1, alpha=0.7, label='소비자물가지수')\n",
    "ax1.set_ylim(0, 130)\n",
    "ax1.set_xlabel('연도')\n",
    "ax1.set_ylabel('지수')\n",
    "ax1.tick_params(axis='both', direction='in')\n",
    "\n",
    "# y2 에 대한 값\n",
    "ax2 = ax1\n",
    "ax2.plot(x, y2, '-s', color='blue', markersize=1, linewidth=1, alpha=0.7, label='주택매매지수')\n",
    "\n",
    "# y3 에 대한 값\n",
    "ax3 = ax1\n",
    "ax3.plot(x, y3, '-s', color='purple', markersize=1, linewidth=1, alpha=0.7, label='전세가격지수')\n",
    "\n",
    "# set_zorder() 메서드는 z-축 방향의 순서를 지정합니다.\n",
    "ax1.set_zorder(ax2.get_zorder() + 10)\n",
    "ax1.patch.set_visible(False)\n",
    "ax1.legend(loc='upper left')\n",
    "\n",
    "plt.show()"
   ]
  },
  {
   "cell_type": "markdown",
   "metadata": {},
   "source": [
    "# matplotlib 참고 자료\n",
    "공식 튜토리얼 Demo of table function to display a table within a plot.<BR>\n",
    "https://matplotlib.org/stable/gallery/misc/table_demo.html#sphx-glr-gallery-misc-table-demo-py"
   ]
  }
 ],
 "metadata": {
  "kernelspec": {
   "display_name": "Python 3",
   "language": "python",
   "name": "python3"
  },
  "language_info": {
   "codemirror_mode": {
    "name": "ipython",
    "version": 3
   },
   "file_extension": ".py",
   "mimetype": "text/x-python",
   "name": "python",
   "nbconvert_exporter": "python",
   "pygments_lexer": "ipython3",
   "version": "3.8.5"
  },
  "latex_envs": {
   "LaTeX_envs_menu_present": true,
   "autoclose": false,
   "autocomplete": true,
   "bibliofile": "biblio.bib",
   "cite_by": "apalike",
   "current_citInitial": 1,
   "eqLabelWithNumbers": true,
   "eqNumInitial": 1,
   "hotkeys": {
    "equation": "Ctrl-E",
    "itemize": "Ctrl-I"
   },
   "labels_anchors": false,
   "latex_user_defs": false,
   "report_style_numbering": false,
   "user_envs_cfg": false
  }
 },
 "nbformat": 4,
 "nbformat_minor": 5
}
