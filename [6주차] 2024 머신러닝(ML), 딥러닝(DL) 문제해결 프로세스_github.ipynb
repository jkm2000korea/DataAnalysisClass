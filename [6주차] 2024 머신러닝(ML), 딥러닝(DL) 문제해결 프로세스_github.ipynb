{
 "cells": [
  {
   "cell_type": "markdown",
   "metadata": {
    "ExecuteTime": {
     "end_time": "2021-11-01T01:31:55.606920Z",
     "start_time": "2021-11-01T01:31:55.589337Z"
    }
   },
   "source": [
    "# <span style=\"color:royalblue\"> [6주차] 2024 데이터 분석 모델링</span> <img src=\"./data/logo.png\" style=\"width: 120px;\" align=\"right\">\n",
    "# 2024 머신러닝(ML), 딥러닝(DL) 문제해결 프로세스\n",
    "\n",
    "--- "
   ]
  },
  {
   "cell_type": "markdown",
   "metadata": {},
   "source": [
    "<div style=\"text-align: right\"> Final Edition : 2023.1.28<br>\n",
    "    copyrightⓒ 2022 All rights reserved by Data Lover Pablo </div>"
   ]
  },
  {
   "cell_type": "markdown",
   "metadata": {},
   "source": [
    "## [프로세스] 머신러닝(ML), 딥러닝(DL) 문제해결 프로세스\n",
    "\n",
    "    1. 데이터 로드\n",
    "    2. 결측치 확인 및 제거\n",
    "    3. 이상치 확인 및 제거\n",
    "    4. 변수선택\n",
    "    5. 데이터 정규화\n",
    "    6. 모델 생성 및 학습\n",
    "     6-1 머신러닝 Regression : LASSO, Ridge 모델 \n",
    "     6-2 머신러닝 RandomForestRegressor\n",
    "     6-3 딥러닝 Keras LSTM\n",
    "    7. Grid Search\n",
    "    8. Cross Validation"
   ]
  },
  {
   "cell_type": "markdown",
   "metadata": {},
   "source": [
    "## [모델선택] 데이터에서 시작(X Variable, Target Y) [Ml map 사이킷런](https://scikit-learn.org/stable/tutorial/machine_learning_map/index.html)"
   ]
  },
  {
   "cell_type": "markdown",
   "metadata": {},
   "source": [
    "① 우리가 원하는 정답(Targe Y)은 무엇인가? ② 그 값에 영향을 미치는 요인(X 변수)는 무엇인가?   \n",
    "③ 모델을 만들기 위한 X와 Y 데이터 셋을 가지고 있는가? ④ 데이터 셋이 충분한가? ⑤ 데이터의 형태는 어떠한가? 정형(이산, 범주)/비정형"
   ]
  },
  {
   "cell_type": "markdown",
   "metadata": {
    "ExecuteTime": {
     "end_time": "2022-02-04T07:05:02.616094Z",
     "start_time": "2022-02-04T07:05:02.605129Z"
    }
   },
   "source": [
    "![머신러닝map](./data/ml_map.png)"
   ]
  },
  {
   "cell_type": "markdown",
   "metadata": {},
   "source": [
    "[Pycaret] https://pycaret.readthedocs.io/en/latest/"
   ]
  },
  {
   "cell_type": "markdown",
   "metadata": {},
   "source": [
    "# 1. 데이터 로드"
   ]
  },
  {
   "cell_type": "code",
   "execution_count": 1,
   "metadata": {
    "ExecuteTime": {
     "end_time": "2024-01-28T13:49:15.697145Z",
     "start_time": "2024-01-28T13:49:11.087197Z"
    }
   },
   "outputs": [],
   "source": [
    "# 모듈 불러오기\n",
    "import pandas as pd\n",
    "import numpy as np\n",
    "import matplotlib.pyplot as plt\n",
    "import matplotlib\n",
    "%matplotlib inline\n",
    "import seaborn as sns\n",
    "import pickle"
   ]
  },
  {
   "cell_type": "code",
   "execution_count": 2,
   "metadata": {
    "ExecuteTime": {
     "end_time": "2024-01-28T13:49:15.717161Z",
     "start_time": "2024-01-28T13:49:15.697145Z"
    }
   },
   "outputs": [
    {
     "name": "stdout",
     "output_type": "stream",
     "text": [
      "2.0.3\n",
      "1.24.4\n",
      "3.7.0\n",
      "0.12.2\n"
     ]
    }
   ],
   "source": [
    "# 모듈환경 버전확인\n",
    "print(pd.__version__)\n",
    "print(np.__version__)\n",
    "print(matplotlib.__version__)\n",
    "print(sns.__version__)"
   ]
  },
  {
   "cell_type": "code",
   "execution_count": 3,
   "metadata": {
    "ExecuteTime": {
     "end_time": "2024-01-28T13:49:15.725509Z",
     "start_time": "2024-01-28T13:49:15.722002Z"
    }
   },
   "outputs": [],
   "source": [
    "# [5주차] Pickle 사용법 참고"
   ]
  },
  {
   "cell_type": "code",
   "execution_count": 4,
   "metadata": {
    "ExecuteTime": {
     "end_time": "2024-01-28T13:49:15.750308Z",
     "start_time": "2024-01-28T13:49:15.726651Z"
    }
   },
   "outputs": [],
   "source": [
    "with open( \"./data/월별부동산데이터_2023\", \"rb\" ) as file:\n",
    "    df = pickle.load(file)"
   ]
  },
  {
   "cell_type": "markdown",
   "metadata": {},
   "source": [
    "Can't get attribute 'new_block' on <module 'pandas.core.internals.blocks' from 'C:\\\\User\\\\Anaconda3\\\\lib\\\\site-packages\\\\pandas\\\\core\\\\internals\\\\blocks.py 이런 에러가 뜬다면 pickle 파일은 만든 pandas version과 불러오는 pandas 버전이 다른겁니다."
   ]
  },
  {
   "cell_type": "code",
   "execution_count": 5,
   "metadata": {
    "ExecuteTime": {
     "end_time": "2024-01-28T13:49:15.781629Z",
     "start_time": "2024-01-28T13:49:15.751587Z"
    }
   },
   "outputs": [
    {
     "data": {
      "text/html": [
       "<div>\n",
       "<style scoped>\n",
       "    .dataframe tbody tr th:only-of-type {\n",
       "        vertical-align: middle;\n",
       "    }\n",
       "\n",
       "    .dataframe tbody tr th {\n",
       "        vertical-align: top;\n",
       "    }\n",
       "\n",
       "    .dataframe thead th {\n",
       "        text-align: right;\n",
       "    }\n",
       "</style>\n",
       "<table border=\"1\" class=\"dataframe\">\n",
       "  <thead>\n",
       "    <tr style=\"text-align: right;\">\n",
       "      <th></th>\n",
       "      <th>강남구_매매지수</th>\n",
       "      <th>강남구_전세지수</th>\n",
       "      <th>서울_인허가물량</th>\n",
       "      <th>서울_분양물량</th>\n",
       "      <th>DFF</th>\n",
       "      <th>NASDAQCOM</th>\n",
       "      <th>CSUSHPISA</th>\n",
       "      <th>CORESTICKM159SFRBATL</th>\n",
       "      <th>HSN1F</th>\n",
       "      <th>USSTHPI</th>\n",
       "      <th>GDP</th>\n",
       "      <th>WM2NS</th>\n",
       "      <th>ICSA</th>\n",
       "      <th>gangnam_price(만원)</th>\n",
       "    </tr>\n",
       "  </thead>\n",
       "  <tbody>\n",
       "    <tr>\n",
       "      <th>2013-01-01</th>\n",
       "      <td>55.539231</td>\n",
       "      <td>61.167145</td>\n",
       "      <td>3789.0</td>\n",
       "      <td>202.0</td>\n",
       "      <td>0.09</td>\n",
       "      <td>3019.51</td>\n",
       "      <td>146.825</td>\n",
       "      <td>2.068297</td>\n",
       "      <td>446.0</td>\n",
       "      <td>316.69</td>\n",
       "      <td>16648.189</td>\n",
       "      <td>10615.7</td>\n",
       "      <td>362000.0</td>\n",
       "      <td>59892</td>\n",
       "    </tr>\n",
       "    <tr>\n",
       "      <th>2013-02-01</th>\n",
       "      <td>55.444490</td>\n",
       "      <td>61.844689</td>\n",
       "      <td>3090.0</td>\n",
       "      <td>63.0</td>\n",
       "      <td>0.14</td>\n",
       "      <td>3179.10</td>\n",
       "      <td>147.783</td>\n",
       "      <td>2.146017</td>\n",
       "      <td>447.0</td>\n",
       "      <td>316.69</td>\n",
       "      <td>16648.189</td>\n",
       "      <td>10398.2</td>\n",
       "      <td>366000.0</td>\n",
       "      <td>59568</td>\n",
       "    </tr>\n",
       "    <tr>\n",
       "      <th>2013-03-01</th>\n",
       "      <td>55.509901</td>\n",
       "      <td>62.332408</td>\n",
       "      <td>4127.0</td>\n",
       "      <td>252.0</td>\n",
       "      <td>0.14</td>\n",
       "      <td>3169.74</td>\n",
       "      <td>149.962</td>\n",
       "      <td>2.099902</td>\n",
       "      <td>444.0</td>\n",
       "      <td>316.69</td>\n",
       "      <td>16648.189</td>\n",
       "      <td>10448.6</td>\n",
       "      <td>342000.0</td>\n",
       "      <td>59440</td>\n",
       "    </tr>\n",
       "    <tr>\n",
       "      <th>2013-04-01</th>\n",
       "      <td>55.479130</td>\n",
       "      <td>62.341758</td>\n",
       "      <td>5314.0</td>\n",
       "      <td>560.0</td>\n",
       "      <td>0.16</td>\n",
       "      <td>3239.17</td>\n",
       "      <td>151.517</td>\n",
       "      <td>1.935432</td>\n",
       "      <td>441.0</td>\n",
       "      <td>321.52</td>\n",
       "      <td>16728.687</td>\n",
       "      <td>10720.4</td>\n",
       "      <td>375000.0</td>\n",
       "      <td>57388</td>\n",
       "    </tr>\n",
       "    <tr>\n",
       "      <th>2013-05-01</th>\n",
       "      <td>55.585253</td>\n",
       "      <td>62.361958</td>\n",
       "      <td>6206.0</td>\n",
       "      <td>432.0</td>\n",
       "      <td>0.14</td>\n",
       "      <td>3299.13</td>\n",
       "      <td>152.848</td>\n",
       "      <td>1.907797</td>\n",
       "      <td>428.0</td>\n",
       "      <td>321.52</td>\n",
       "      <td>16728.687</td>\n",
       "      <td>10531.7</td>\n",
       "      <td>331000.0</td>\n",
       "      <td>57403</td>\n",
       "    </tr>\n",
       "    <tr>\n",
       "      <th>...</th>\n",
       "      <td>...</td>\n",
       "      <td>...</td>\n",
       "      <td>...</td>\n",
       "      <td>...</td>\n",
       "      <td>...</td>\n",
       "      <td>...</td>\n",
       "      <td>...</td>\n",
       "      <td>...</td>\n",
       "      <td>...</td>\n",
       "      <td>...</td>\n",
       "      <td>...</td>\n",
       "      <td>...</td>\n",
       "      <td>...</td>\n",
       "      <td>...</td>\n",
       "    </tr>\n",
       "    <tr>\n",
       "      <th>2023-08-01</th>\n",
       "      <td>95.993766</td>\n",
       "      <td>81.438153</td>\n",
       "      <td>834.0</td>\n",
       "      <td>2111.0</td>\n",
       "      <td>5.33</td>\n",
       "      <td>14283.91</td>\n",
       "      <td>309.226</td>\n",
       "      <td>5.217343</td>\n",
       "      <td>654.0</td>\n",
       "      <td>657.32</td>\n",
       "      <td>27610.128</td>\n",
       "      <td>20717.1</td>\n",
       "      <td>227000.0</td>\n",
       "      <td>142613</td>\n",
       "    </tr>\n",
       "    <tr>\n",
       "      <th>2023-09-01</th>\n",
       "      <td>96.624532</td>\n",
       "      <td>81.770394</td>\n",
       "      <td>408.0</td>\n",
       "      <td>373.0</td>\n",
       "      <td>5.33</td>\n",
       "      <td>14031.81</td>\n",
       "      <td>311.255</td>\n",
       "      <td>5.008782</td>\n",
       "      <td>698.0</td>\n",
       "      <td>657.32</td>\n",
       "      <td>27610.128</td>\n",
       "      <td>20662.8</td>\n",
       "      <td>229000.0</td>\n",
       "      <td>143692</td>\n",
       "    </tr>\n",
       "    <tr>\n",
       "      <th>2023-10-01</th>\n",
       "      <td>97.045327</td>\n",
       "      <td>82.233577</td>\n",
       "      <td>2071.0</td>\n",
       "      <td>2105.0</td>\n",
       "      <td>5.33</td>\n",
       "      <td>13219.32</td>\n",
       "      <td>313.276</td>\n",
       "      <td>4.931956</td>\n",
       "      <td>676.0</td>\n",
       "      <td>657.32</td>\n",
       "      <td>27938.831</td>\n",
       "      <td>20609.8</td>\n",
       "      <td>209000.0</td>\n",
       "      <td>144485</td>\n",
       "    </tr>\n",
       "    <tr>\n",
       "      <th>2023-11-01</th>\n",
       "      <td>97.245942</td>\n",
       "      <td>82.808694</td>\n",
       "      <td>937.0</td>\n",
       "      <td>531.0</td>\n",
       "      <td>5.33</td>\n",
       "      <td>13061.47</td>\n",
       "      <td>313.276</td>\n",
       "      <td>4.730629</td>\n",
       "      <td>615.0</td>\n",
       "      <td>657.32</td>\n",
       "      <td>27938.831</td>\n",
       "      <td>20600.9</td>\n",
       "      <td>220000.0</td>\n",
       "      <td>144875</td>\n",
       "    </tr>\n",
       "    <tr>\n",
       "      <th>2023-12-01</th>\n",
       "      <td>97.260064</td>\n",
       "      <td>83.228152</td>\n",
       "      <td>937.0</td>\n",
       "      <td>531.0</td>\n",
       "      <td>5.33</td>\n",
       "      <td>14305.03</td>\n",
       "      <td>313.276</td>\n",
       "      <td>4.584186</td>\n",
       "      <td>664.0</td>\n",
       "      <td>657.32</td>\n",
       "      <td>27938.831</td>\n",
       "      <td>20770.2</td>\n",
       "      <td>219000.0</td>\n",
       "      <td>144755</td>\n",
       "    </tr>\n",
       "  </tbody>\n",
       "</table>\n",
       "<p>132 rows × 14 columns</p>\n",
       "</div>"
      ],
      "text/plain": [
       "             강남구_매매지수   강남구_전세지수  서울_인허가물량  서울_분양물량   DFF  NASDAQCOM  \\\n",
       "2013-01-01  55.539231  61.167145    3789.0    202.0  0.09    3019.51   \n",
       "2013-02-01  55.444490  61.844689    3090.0     63.0  0.14    3179.10   \n",
       "2013-03-01  55.509901  62.332408    4127.0    252.0  0.14    3169.74   \n",
       "2013-04-01  55.479130  62.341758    5314.0    560.0  0.16    3239.17   \n",
       "2013-05-01  55.585253  62.361958    6206.0    432.0  0.14    3299.13   \n",
       "...               ...        ...       ...      ...   ...        ...   \n",
       "2023-08-01  95.993766  81.438153     834.0   2111.0  5.33   14283.91   \n",
       "2023-09-01  96.624532  81.770394     408.0    373.0  5.33   14031.81   \n",
       "2023-10-01  97.045327  82.233577    2071.0   2105.0  5.33   13219.32   \n",
       "2023-11-01  97.245942  82.808694     937.0    531.0  5.33   13061.47   \n",
       "2023-12-01  97.260064  83.228152     937.0    531.0  5.33   14305.03   \n",
       "\n",
       "            CSUSHPISA  CORESTICKM159SFRBATL  HSN1F  USSTHPI        GDP  \\\n",
       "2013-01-01    146.825              2.068297  446.0   316.69  16648.189   \n",
       "2013-02-01    147.783              2.146017  447.0   316.69  16648.189   \n",
       "2013-03-01    149.962              2.099902  444.0   316.69  16648.189   \n",
       "2013-04-01    151.517              1.935432  441.0   321.52  16728.687   \n",
       "2013-05-01    152.848              1.907797  428.0   321.52  16728.687   \n",
       "...               ...                   ...    ...      ...        ...   \n",
       "2023-08-01    309.226              5.217343  654.0   657.32  27610.128   \n",
       "2023-09-01    311.255              5.008782  698.0   657.32  27610.128   \n",
       "2023-10-01    313.276              4.931956  676.0   657.32  27938.831   \n",
       "2023-11-01    313.276              4.730629  615.0   657.32  27938.831   \n",
       "2023-12-01    313.276              4.584186  664.0   657.32  27938.831   \n",
       "\n",
       "              WM2NS      ICSA  gangnam_price(만원)  \n",
       "2013-01-01  10615.7  362000.0              59892  \n",
       "2013-02-01  10398.2  366000.0              59568  \n",
       "2013-03-01  10448.6  342000.0              59440  \n",
       "2013-04-01  10720.4  375000.0              57388  \n",
       "2013-05-01  10531.7  331000.0              57403  \n",
       "...             ...       ...                ...  \n",
       "2023-08-01  20717.1  227000.0             142613  \n",
       "2023-09-01  20662.8  229000.0             143692  \n",
       "2023-10-01  20609.8  209000.0             144485  \n",
       "2023-11-01  20600.9  220000.0             144875  \n",
       "2023-12-01  20770.2  219000.0             144755  \n",
       "\n",
       "[132 rows x 14 columns]"
      ]
     },
     "execution_count": 5,
     "metadata": {},
     "output_type": "execute_result"
    }
   ],
   "source": [
    "df"
   ]
  },
  {
   "cell_type": "markdown",
   "metadata": {
    "ExecuteTime": {
     "end_time": "2021-08-27T00:31:29.882872Z",
     "start_time": "2021-08-27T00:31:29.864722Z"
    }
   },
   "source": [
    "#### 1) 데이터 셋 split (train, test)"
   ]
  },
  {
   "cell_type": "code",
   "execution_count": 6,
   "metadata": {
    "ExecuteTime": {
     "end_time": "2024-01-28T13:49:15.797394Z",
     "start_time": "2024-01-28T13:49:15.785069Z"
    }
   },
   "outputs": [],
   "source": [
    "train = df[df.index < pd.to_datetime('2019-12-31')]\n",
    "test = df[df.index > pd.to_datetime('2019-12-31')]"
   ]
  },
  {
   "cell_type": "code",
   "execution_count": 7,
   "metadata": {
    "ExecuteTime": {
     "end_time": "2024-01-28T13:49:15.834166Z",
     "start_time": "2024-01-28T13:49:15.797394Z"
    }
   },
   "outputs": [
    {
     "name": "stdout",
     "output_type": "stream",
     "text": [
      "(84, 14)\n",
      "(48, 14)\n"
     ]
    }
   ],
   "source": [
    "print(train.shape)\n",
    "print(test.shape)"
   ]
  },
  {
   "cell_type": "markdown",
   "metadata": {
    "ExecuteTime": {
     "end_time": "2021-08-27T00:33:20.447079Z",
     "start_time": "2021-08-27T00:33:20.431071Z"
    }
   },
   "source": [
    "총 138의 data raw가 존재하고, 학습용 데이터는 120 행(12개월 x 10년), 테스트 데이터는 25행(2년 1개월)으로 나눠져 있습니다.<br>\n",
    "변수는 독립변수가 10개, 종속변수(target y)값이 1개로서 총 11개 입니다."
   ]
  },
  {
   "cell_type": "code",
   "execution_count": 8,
   "metadata": {
    "ExecuteTime": {
     "end_time": "2024-01-28T13:49:15.849686Z",
     "start_time": "2024-01-28T13:49:15.839934Z"
    }
   },
   "outputs": [
    {
     "name": "stdout",
     "output_type": "stream",
     "text": [
      "<class 'pandas.core.frame.DataFrame'>\n",
      "DatetimeIndex: 84 entries, 2013-01-01 to 2019-12-01\n",
      "Data columns (total 14 columns):\n",
      " #   Column                Non-Null Count  Dtype  \n",
      "---  ------                --------------  -----  \n",
      " 0   강남구_매매지수              84 non-null     float64\n",
      " 1   강남구_전세지수              84 non-null     float64\n",
      " 2   서울_인허가물량              84 non-null     float64\n",
      " 3   서울_분양물량               84 non-null     float64\n",
      " 4   DFF                   84 non-null     float64\n",
      " 5   NASDAQCOM             84 non-null     float64\n",
      " 6   CSUSHPISA             84 non-null     float64\n",
      " 7   CORESTICKM159SFRBATL  84 non-null     float64\n",
      " 8   HSN1F                 84 non-null     float64\n",
      " 9   USSTHPI               84 non-null     float64\n",
      " 10  GDP                   84 non-null     float64\n",
      " 11  WM2NS                 84 non-null     float64\n",
      " 12  ICSA                  84 non-null     float64\n",
      " 13  gangnam_price(만원)     84 non-null     int32  \n",
      "dtypes: float64(13), int32(1)\n",
      "memory usage: 9.5 KB\n"
     ]
    }
   ],
   "source": [
    "# 학습 데이터에 대한 전반적인 데이터 정보를 살펴봅니다.\n",
    "train.info()"
   ]
  },
  {
   "cell_type": "markdown",
   "metadata": {},
   "source": [
    "# 2. 결측치 확인 및 제거"
   ]
  },
  {
   "cell_type": "markdown",
   "metadata": {
    "ExecuteTime": {
     "end_time": "2021-08-27T00:39:30.350022Z",
     "start_time": "2021-08-27T00:39:30.344431Z"
    }
   },
   "source": [
    "#### 1) 결측치를 확인합니다"
   ]
  },
  {
   "cell_type": "code",
   "execution_count": 9,
   "metadata": {
    "ExecuteTime": {
     "end_time": "2024-01-28T13:49:15.865370Z",
     "start_time": "2024-01-28T13:49:15.851852Z"
    }
   },
   "outputs": [
    {
     "data": {
      "text/plain": [
       "강남구_매매지수                0\n",
       "강남구_전세지수                0\n",
       "서울_인허가물량                0\n",
       "서울_분양물량                 0\n",
       "DFF                     0\n",
       "NASDAQCOM               0\n",
       "CSUSHPISA               0\n",
       "CORESTICKM159SFRBATL    0\n",
       "HSN1F                   0\n",
       "USSTHPI                 0\n",
       "GDP                     0\n",
       "WM2NS                   0\n",
       "ICSA                    0\n",
       "gangnam_price(만원)       0\n",
       "dtype: int64"
      ]
     },
     "execution_count": 9,
     "metadata": {},
     "output_type": "execute_result"
    }
   ],
   "source": [
    "train.isnull().sum()"
   ]
  },
  {
   "cell_type": "markdown",
   "metadata": {
    "ExecuteTime": {
     "end_time": "2021-08-27T00:35:38.470635Z",
     "start_time": "2021-08-27T00:35:38.455560Z"
    }
   },
   "source": [
    "실무 데이터에서는 결측치가 반드시 존재하는데 본 데이터는 이미 제거가 되었습니다.<br>\n",
    "결측치 확인은 train.isnull().sum() 를 통해 확인 할 수도 있고, 아래 코드로 시각화해서 확인할 수도 있습니다."
   ]
  },
  {
   "cell_type": "code",
   "execution_count": 10,
   "metadata": {
    "ExecuteTime": {
     "end_time": "2024-01-28T13:49:15.881089Z",
     "start_time": "2024-01-28T13:49:15.866690Z"
    }
   },
   "outputs": [],
   "source": [
    "# !pip install missingno"
   ]
  },
  {
   "cell_type": "code",
   "execution_count": 11,
   "metadata": {
    "ExecuteTime": {
     "end_time": "2024-01-28T13:49:16.204738Z",
     "start_time": "2024-01-28T13:49:15.883225Z"
    }
   },
   "outputs": [
    {
     "data": {
      "text/plain": [
       "<Axes: >"
      ]
     },
     "execution_count": 11,
     "metadata": {},
     "output_type": "execute_result"
    },
    {
     "data": {
      "image/png": "[encoded data removed]",
      "text/plain": [
       "<Figure size 1800x720 with 2 Axes>"
      ]
     },
     "metadata": {
      "needs_background": "light"
     },
     "output_type": "display_data"
    }
   ],
   "source": [
    "import matplotlib.pyplot as plt\n",
    "import missingno as msno\n",
    "\n",
    "%matplotlib inline\n",
    "\n",
    "plt.rc('font', family = 'NanumGothic')\n",
    "msno.matrix(train)"
   ]
  },
  {
   "cell_type": "markdown",
   "metadata": {},
   "source": [
    "# 3. 이상치 확인 및 제거"
   ]
  },
  {
   "cell_type": "markdown",
   "metadata": {},
   "source": [
    "#### 1) 이상치를 확인해기 위해서는 변수별 EDA를 수행해야 합니다."
   ]
  },
  {
   "cell_type": "markdown",
   "metadata": {},
   "source": [
    "**KDE : Kernel Density Estimation 커널 밀도 추정**<br>\n",
    "- 밀도 추정은 x의 확률밀도함수(pdf, probability density function)를 추정\n",
    "- 밀도추정(density estimation) 방법은 크게 ①parametric 방법과 ②non-parametric 방법으로 구분"
   ]
  },
  {
   "cell_type": "markdown",
   "metadata": {},
   "source": [
    "$$P(a\\leq x\\leq b)=\\int^{b}_{a}f(x) dx$$"
   ]
  },
  {
   "cell_type": "markdown",
   "metadata": {},
   "source": [
    "![커널밀도추청](./data/kernel_1.png)"
   ]
  },
  {
   "cell_type": "markdown",
   "metadata": {},
   "source": [
    "* $f(a)$는 $x=a$에서의 확률밀도(probability density), 즉 변수 x가 a라는 값을 가질 때의 상대적인 가능성(relative likelihood)를 나타냄\n",
    "* 밀도(density)와 확률(probability)를 구분해 보면 위 그림에서 $x=a$일 확률은 0 이지만, (점) $x=a$에서의 밀도(density)는 $f(a)$로 0이 아님\n",
    "* x가 a, b 사이의 값을 가질 확률(probability)은 그 구간에서의 확률밀도함수의 적분값(면적)으로 계산됨\n",
    "* 즉, 밀도(density)는 확률밀도함수의 함수값이며, 밀도를 일정 구간에 대해 적분하면 확률이 나옴"
   ]
  },
  {
   "cell_type": "markdown",
   "metadata": {},
   "source": [
    "**① Parametric 밀도추정**  \n",
    "   * Parametric (모수 통계) 는 고정된 모수 집합이 있는 확률 분포로 적절하게 모델링할 수 있는 모집단에서 표본 데이터를 가져온다고 가정\n",
    "   * Parametric 밀도추정은 미리 pdf(probability density function)에 대한 분포모델을 정해놓고 데이터들로부터 모델의 파라미터만 추정\n",
    "   * 실무에서는 분포를 미리 알 수가 없으므로, 순수하게 관측된 데이터만 가지고 확률 밀도 함수를 추정해야 함 -> Non-parametric\n",
    "\n",
    "**② non-parametric 밀도추정**\n",
    "   * Non-parametric 밀도추정의 가장 간단한 형태가 바로 히스토그램(histogram)  \n",
    "   * 히스토그램은 bin이 나눠져 있는 형태로 연속적이지 않음  \n",
    "   \n",
    "> 커널함수* 를 이용해 히스토그램의 문제를 개선한 방법이 커널밀도추정(KDE)  \n",
    "  (*커널함수 : 원점을 중심으로 대칭. 적분값이 1인 non-negative(항상 0>0) 함수. 가우시언(Gaussian), 정규(Uniform) 분포형태를 띔.)"
   ]
  },
  {
   "cell_type": "markdown",
   "metadata": {},
   "source": [
    "![커널밀도추청](./data/kernel_2.png)"
   ]
  },
  {
   "cell_type": "code",
   "execution_count": 12,
   "metadata": {
    "ExecuteTime": {
     "end_time": "2024-01-28T13:49:16.220338Z",
     "start_time": "2024-01-28T13:49:16.204738Z"
    }
   },
   "outputs": [],
   "source": [
    "# !pip install --user matplotlib==3.7.0\n",
    "# !pip install --user pandas==2.0.0\n",
    "# !pip install --user seaborn==0.12.2\n",
    "# !pip install --user numpy==1.24.2"
   ]
  },
  {
   "cell_type": "code",
   "execution_count": 13,
   "metadata": {
    "ExecuteTime": {
     "end_time": "2024-01-28T13:49:17.288789Z",
     "start_time": "2024-01-28T13:49:16.220338Z"
    }
   },
   "outputs": [
    {
     "data": {
      "image/png": "[encoded data removed]",
      "text/plain": [
       "<Figure size 1296x720 with 14 Axes>"
      ]
     },
     "metadata": {
      "needs_background": "light"
     },
     "output_type": "display_data"
    }
   ],
   "source": [
    "import seaborn as sns\n",
    "import warnings\n",
    "warnings.filterwarnings(action='ignore')\n",
    "\n",
    "# 컬럼별 Data 분포 히스토그램\n",
    "fig, ax = plt.subplots(nrows = 2, ncols = 7, figsize = (18, 10))\n",
    "\n",
    "num = 0\n",
    "ax = ax.flatten()\n",
    "\n",
    "for col in list(train.columns[0:]):\n",
    "    sns.distplot(train[col],ax=ax[num], kde = True, rug = True) # kde True는 확률 밀도 곡선이 나오고, rug는 하부에 밀도 분포표시\n",
    "    num += 1    \n",
    "    \n",
    "plt.show()"
   ]
  },
  {
   "cell_type": "code",
   "execution_count": 14,
   "metadata": {
    "ExecuteTime": {
     "end_time": "2024-01-28T13:49:17.897236Z",
     "start_time": "2024-01-28T13:49:17.288789Z"
    }
   },
   "outputs": [
    {
     "data": {
      "image/png": "[encoded data removed]",
      "text/plain": [
       "<Figure size 1296x720 with 14 Axes>"
      ]
     },
     "metadata": {
      "needs_background": "light"
     },
     "output_type": "display_data"
    }
   ],
   "source": [
    "#컬럼별 Data 분포 Boxplot\n",
    "fig, ax = plt.subplots(nrows = 2, ncols = 7, figsize = (18, 10))\n",
    "\n",
    "num = 0\n",
    "ax = ax.flatten()\n",
    "\n",
    "for col in list(train.columns[0:]):\n",
    "    sns.boxplot(train[col], ax = ax[num])\n",
    "    num += 1    \n",
    "    \n",
    "plt.show()"
   ]
  },
  {
   "cell_type": "markdown",
   "metadata": {},
   "source": [
    "변수별 boxplot을 살펴보면 서울 인허가 물량에  이상치가 존재하는 것을 알수 있습니다.<br>\n",
    "이상치는 제거 하거나 대체할 때는 Domain Knowledge가 필요합니다.<br>\n",
    ">인허가 물량이 특별히 많았던 해이므로 제거하지는 않겠습니다."
   ]
  },
  {
   "cell_type": "markdown",
   "metadata": {
    "ExecuteTime": {
     "end_time": "2021-08-27T00:48:35.396481Z",
     "start_time": "2021-08-27T00:48:35.378409Z"
    }
   },
   "source": [
    "#### 2) 이상치 제거(방법, 우리는 미적용)"
   ]
  },
  {
   "cell_type": "markdown",
   "metadata": {
    "ExecuteTime": {
     "end_time": "2021-08-27T00:52:08.118943Z",
     "start_time": "2021-08-27T00:52:08.111253Z"
    }
   },
   "source": [
    "교과서적인 방법으로는 1분위 값과 3분위 값의 차이를 IQR로 설정하고,  \n",
    "1분위값과 3분위값에서 IQR값의 1.5배수 만큼 큰 값과 작은 값은 이상치로 판단 합니다.  \n",
    "위의 BOX PLOT에서 점으로 표현된 값을 제거한다고 보면 됩니다.\n",
    "\n",
    "다시 한번, 이것은 교과서적인 방법이며 실무에서는 그렇게 제거해서는 안됩니다.\n",
    "도메인 지식에 기반하여 이상치를 검토하고 제거 또는 대체해야 합니다."
   ]
  },
  {
   "cell_type": "markdown",
   "metadata": {
    "ExecuteTime": {
     "end_time": "2021-11-02T08:01:53.512632Z",
     "start_time": "2021-11-02T08:01:53.499607Z"
    }
   },
   "source": [
    "<center><img src=\"./data/IQR.png\" width = 550></center>"
   ]
  },
  {
   "cell_type": "code",
   "execution_count": 15,
   "metadata": {
    "ExecuteTime": {
     "end_time": "2024-01-28T13:49:17.913276Z",
     "start_time": "2024-01-28T13:49:17.897236Z"
    }
   },
   "outputs": [],
   "source": [
    "# 통계적 이상치를 제거하는 방법에 대해서 아래 코드를 참고해주세요"
   ]
  },
  {
   "cell_type": "code",
   "execution_count": 16,
   "metadata": {
    "ExecuteTime": {
     "end_time": "2024-01-28T13:49:17.929287Z",
     "start_time": "2024-01-28T13:49:17.913276Z"
    }
   },
   "outputs": [
    {
     "data": {
      "text/plain": [
       "\"\\nquartile_1 = train.quantile(0.25)\\nquartile_3 = train.quantile(0.75)\\n\\nIQR = quartile_3 - quartile_1\\ncondition = (train < (quartile_1 - 1.5 * IQR)) | (train > (quartile_3 + 1.5 * IQR))\\ncondition = condition.any(axis=1)\\ntrain = train[condition]\\nprint('훈련데이터 Shape', train.shape)\\n\\nprint('교과서 방법으로 이상치가 제거된 모습')\\nfig, ax = plt.subplots(nrows = 2, ncols = 6, figsize = (18, 10))\\n\\nnum = 0\\nax = ax.flatten()\\n\\nfor col in list(train.columns[0:]):\\n    sns.boxplot(train[col], ax = ax[num])\\n    num += 1    \\n    \\nplt.show()\\n\""
      ]
     },
     "execution_count": 16,
     "metadata": {},
     "output_type": "execute_result"
    }
   ],
   "source": [
    "'''\n",
    "quartile_1 = train.quantile(0.25)\n",
    "quartile_3 = train.quantile(0.75)\n",
    "\n",
    "IQR = quartile_3 - quartile_1\n",
    "condition = (train < (quartile_1 - 1.5 * IQR)) | (train > (quartile_3 + 1.5 * IQR))\n",
    "condition = condition.any(axis=1)\n",
    "train = train[condition]\n",
    "print('훈련데이터 Shape', train.shape)\n",
    "\n",
    "print('교과서 방법으로 이상치가 제거된 모습')\n",
    "fig, ax = plt.subplots(nrows = 2, ncols = 6, figsize = (18, 10))\n",
    "\n",
    "num = 0\n",
    "ax = ax.flatten()\n",
    "\n",
    "for col in list(train.columns[0:]):\n",
    "    sns.boxplot(train[col], ax = ax[num])\n",
    "    num += 1    \n",
    "    \n",
    "plt.show()\n",
    "'''"
   ]
  },
  {
   "cell_type": "markdown",
   "metadata": {},
   "source": [
    "# 4. 변수선택\n",
    "변수선택을 위해 각 변수의 영향도를 검토해야 합니다."
   ]
  },
  {
   "cell_type": "markdown",
   "metadata": {},
   "source": [
    "#### 1) 우선 상관관계를 그려보겠습니다."
   ]
  },
  {
   "cell_type": "code",
   "execution_count": 17,
   "metadata": {
    "ExecuteTime": {
     "end_time": "2024-01-28T13:49:17.945470Z",
     "start_time": "2024-01-28T13:49:17.929287Z"
    }
   },
   "outputs": [],
   "source": [
    "# train[features].corr()"
   ]
  },
  {
   "cell_type": "code",
   "execution_count": 18,
   "metadata": {
    "ExecuteTime": {
     "end_time": "2024-01-28T13:49:17.961705Z",
     "start_time": "2024-01-28T13:49:17.946080Z"
    }
   },
   "outputs": [
    {
     "data": {
      "text/plain": [
       "array([[0, 0, 0],\n",
       "       [0, 0, 0],\n",
       "       [0, 0, 0]])"
      ]
     },
     "execution_count": 18,
     "metadata": {},
     "output_type": "execute_result"
    }
   ],
   "source": [
    "x = np.arange(9)\n",
    "x_shape = x.reshape((3, 3))\n",
    "np.zeros_like(x_shape)"
   ]
  },
  {
   "cell_type": "code",
   "execution_count": 19,
   "metadata": {
    "ExecuteTime": {
     "end_time": "2024-01-28T13:49:18.336542Z",
     "start_time": "2024-01-28T13:49:17.961705Z"
    }
   },
   "outputs": [
    {
     "data": {
      "image/png": "[encoded data removed]",
      "text/plain": [
       "<Figure size 1152x864 with 2 Axes>"
      ]
     },
     "metadata": {},
     "output_type": "display_data"
    }
   ],
   "source": [
    "import numpy as np\n",
    "import matplotlib.pyplot as plt\n",
    "plt.rcParams['axes.unicode_minus'] = False\n",
    "\n",
    "import seaborn as sns\n",
    "sns.set(font=\"NanumGothic\")\n",
    "\n",
    "import warnings\n",
    "warnings.filterwarnings(action='ignore')\n",
    "\n",
    "features = ['강남구_매매지수', '강남구_전세지수', '서울_인허가물량', '서울_분양물량', 'DFF', 'NASDAQCOM',\n",
    "       'CSUSHPISA', 'CORESTICKM159SFRBATL', 'HSN1F', 'USSTHPI', 'GDP', 'WM2NS',\n",
    "       'ICSA','gangnam_price(만원)']\n",
    "\n",
    "\n",
    "# 삼각형 마스크를 만듭니다\n",
    "mask = np.zeros_like(train[features].corr(), dtype=bool) # 우선 상관관계표와 형태가 같고 0이 들어있는 매트릭스를 만들어 줍니다. 12 x 12 Matrix\n",
    "mask[np.triu_indices_from(mask)] = True # np.triu_indices_from : mask에서 인덱스를 반환 (위쪽 삼각형에 True, 아래 삼각형에 False)\n",
    "\n",
    "f, ax = plt.subplots(figsize=(16, 12))\n",
    "plt.title('Pearson Correlation Matrix',fontsize=25)\n",
    "\n",
    "sns.heatmap(train[features].corr(),\n",
    "            linewidths=0.25,# 경계면 선구분 cf. 실선(0.5)으로 구분하기\n",
    "            vmax=0.7, # 컬러바 범위 : 최소값 미지정 최대값 0.7 \n",
    "            square=True,\n",
    "            cmap=\"Blues\", #히트맵 색깔. blue, green #\"BuGn_r\" to reverse # Blues # BuGn\n",
    "            linecolor='w',# 라인 색은 흰색(white)\n",
    "            \n",
    "            annot=True,            # 실제 값을 표시한다\n",
    "            annot_kws={\"size\":10},  # 실제 값 폰트 사이즈\n",
    "            mask=mask,             # 위에서 설정한 마스크 부분(가릴부분) 지정한다\n",
    "            cbar_kws={\"shrink\": .9}); # 오른쪽 컬러바 크기 줄이기 90% 크기"
   ]
  },
  {
   "cell_type": "markdown",
   "metadata": {},
   "source": [
    "* 맨 아래 강남구_매매가를 보면, **INTDSRUSM193N(미국 기준금리)** 처럼 색이 짙은 변수일수록 상관계수가 높습니다.<br>\n",
    "* 반면에 인허가물량럼 상관관계가 0.1 이하인 변수들도 있습니다.(우리는 인허가 물량이 2~3년 뒤 공급임을 이미 배웠습니다.) <BR>\n",
    "\n",
    "* 상관관계는 양의 상관관계와 음의 상관관계가 있고, 약한 상관관계와 강한 상관관계가 있습니다.\n",
    "* 음의 상관관계도 고려해야하므로, 통상 상관계수에 절대값을 취해서 0.1(자체 판단)이하 변수를 제거합니다.\n",
    "    1. 서울 인허가 물량의 상관계수가 0.068으로 매우 낮지만, 2~3년 shift를 해서 정리하는 것이 맞습니다.\n",
    "    2. Domain Knowledge가 중요한데, 인허가 물량은 공급의 직접적인 요소이므로 본 과제에서는 변수제거 파트에서 SKIP 하겠습니다."
   ]
  },
  {
   "cell_type": "code",
   "execution_count": 20,
   "metadata": {
    "ExecuteTime": {
     "end_time": "2024-01-28T13:49:18.365970Z",
     "start_time": "2024-01-28T13:49:18.337516Z"
    },
    "scrolled": true
   },
   "outputs": [
    {
     "name": "stdout",
     "output_type": "stream",
     "text": [
      "gangnam_price(만원)       1.000000\n",
      "강남구_매매지수                0.996420\n",
      "DFF                     0.971319\n",
      "GDP                     0.963569\n",
      "USSTHPI                 0.957992\n",
      "NASDAQCOM               0.949008\n",
      "CSUSHPISA               0.948256\n",
      "WM2NS                   0.937999\n",
      "HSN1F                   0.850932\n",
      "강남구_전세지수                0.780025\n",
      "CORESTICKM159SFRBATL    0.654004\n",
      "서울_분양물량                -0.107891\n",
      "서울_인허가물량               -0.109934\n",
      "ICSA                   -0.836020\n",
      "dtype: float64\n"
     ]
    }
   ],
   "source": [
    "# 강남구 매매가와 각 변수들 간의 상관관계를 그려보겠습니다.\n",
    "co = train.corrwith(train['gangnam_price(만원)'])\n",
    "\n",
    "# 상관계수를 내림차순으로 정리해서 출력해보죠\n",
    "print(co.sort_values(ascending=False))\n",
    "\n",
    "# 절대값으로 취합니다.\n",
    "co_abs = abs(co)"
   ]
  },
  {
   "cell_type": "code",
   "execution_count": 21,
   "metadata": {
    "ExecuteTime": {
     "end_time": "2024-01-28T13:49:18.374005Z",
     "start_time": "2024-01-28T13:49:18.366213Z"
    }
   },
   "outputs": [
    {
     "data": {
      "text/plain": [
       "Index(['gangnam_price(만원)', '강남구_매매지수', 'DFF', 'GDP', 'USSTHPI', 'NASDAQCOM',\n",
       "       'CSUSHPISA', 'WM2NS', 'HSN1F', 'ICSA', '강남구_전세지수',\n",
       "       'CORESTICKM159SFRBATL', '서울_인허가물량', '서울_분양물량'],\n",
       "      dtype='object')"
      ]
     },
     "execution_count": 21,
     "metadata": {},
     "output_type": "execute_result"
    }
   ],
   "source": [
    "# 상관계수의 절대값을 내림차순으로 정리합니다.\n",
    "co_sort = co_abs.sort_values(ascending=False)\n",
    "co_sort = co_sort[co_sort>0.1] \n",
    "co_sort.to_frame().index\n",
    "\n",
    "# 상관관계가 낮은 변수를 제거하고 새로운 변수를 구성합니다.\n",
    "new_features = co_sort.to_frame().index\n",
    "new_features"
   ]
  },
  {
   "cell_type": "code",
   "execution_count": 22,
   "metadata": {
    "ExecuteTime": {
     "end_time": "2024-01-28T13:49:18.389871Z",
     "start_time": "2024-01-28T13:49:18.374840Z"
    }
   },
   "outputs": [
    {
     "name": "stdout",
     "output_type": "stream",
     "text": [
      "14\n",
      "14\n",
      "제거된 변수의 갯수 :0개\n"
     ]
    }
   ],
   "source": [
    "print(len(features))\n",
    "print(len(new_features))\n",
    "\n",
    "print('제거된 변수의 갯수 :{}개'.format(len(features) - len(new_features)))"
   ]
  },
  {
   "cell_type": "markdown",
   "metadata": {},
   "source": [
    "상관계수가 0.1보다 낮은 변수인 서울_인허가 물량 이 제거 되었습니다. <br>\n",
    "* 이 부분은 사용하지 않고 기존 features로 계속 진행하겠습니다."
   ]
  },
  {
   "cell_type": "markdown",
   "metadata": {},
   "source": [
    "### Data Set 정리\n",
    "지금까지 정리한 이상치와 변수선택을 고려하여 dataset을 정리합니다."
   ]
  },
  {
   "cell_type": "code",
   "execution_count": 23,
   "metadata": {
    "ExecuteTime": {
     "end_time": "2024-01-28T13:49:18.405629Z",
     "start_time": "2024-01-28T13:49:18.390189Z"
    }
   },
   "outputs": [],
   "source": [
    "# # 데이터 불러오기\n",
    "features = ['강남구_매매지수', '강남구_전세지수', '서울_인허가물량', '서울_분양물량', 'DFF', 'NASDAQCOM',\n",
    "       'CSUSHPISA', 'CORESTICKM159SFRBATL', 'HSN1F', 'USSTHPI', 'GDP', 'WM2NS',\n",
    "       'ICSA']\n",
    "\n",
    "target = 'gangnam_price(만원)'\n",
    "\n",
    "X = train[features]\n",
    "y = train[target]"
   ]
  },
  {
   "cell_type": "code",
   "execution_count": 24,
   "metadata": {
    "ExecuteTime": {
     "end_time": "2024-01-28T13:49:18.421673Z",
     "start_time": "2024-01-28T13:49:18.405629Z"
    },
    "scrolled": true
   },
   "outputs": [
    {
     "data": {
      "text/html": [
       "<div>\n",
       "<style scoped>\n",
       "    .dataframe tbody tr th:only-of-type {\n",
       "        vertical-align: middle;\n",
       "    }\n",
       "\n",
       "    .dataframe tbody tr th {\n",
       "        vertical-align: top;\n",
       "    }\n",
       "\n",
       "    .dataframe thead th {\n",
       "        text-align: right;\n",
       "    }\n",
       "</style>\n",
       "<table border=\"1\" class=\"dataframe\">\n",
       "  <thead>\n",
       "    <tr style=\"text-align: right;\">\n",
       "      <th></th>\n",
       "      <th>강남구_매매지수</th>\n",
       "      <th>강남구_전세지수</th>\n",
       "      <th>서울_인허가물량</th>\n",
       "      <th>서울_분양물량</th>\n",
       "      <th>DFF</th>\n",
       "      <th>NASDAQCOM</th>\n",
       "      <th>CSUSHPISA</th>\n",
       "      <th>CORESTICKM159SFRBATL</th>\n",
       "      <th>HSN1F</th>\n",
       "      <th>USSTHPI</th>\n",
       "      <th>GDP</th>\n",
       "      <th>WM2NS</th>\n",
       "      <th>ICSA</th>\n",
       "    </tr>\n",
       "  </thead>\n",
       "  <tbody>\n",
       "    <tr>\n",
       "      <th>2013-01-01</th>\n",
       "      <td>55.539231</td>\n",
       "      <td>61.167145</td>\n",
       "      <td>3789.0</td>\n",
       "      <td>202.0</td>\n",
       "      <td>0.09</td>\n",
       "      <td>3019.51</td>\n",
       "      <td>146.825</td>\n",
       "      <td>2.068297</td>\n",
       "      <td>446.0</td>\n",
       "      <td>316.69</td>\n",
       "      <td>16648.189</td>\n",
       "      <td>10615.7</td>\n",
       "      <td>362000.0</td>\n",
       "    </tr>\n",
       "    <tr>\n",
       "      <th>2013-02-01</th>\n",
       "      <td>55.444490</td>\n",
       "      <td>61.844689</td>\n",
       "      <td>3090.0</td>\n",
       "      <td>63.0</td>\n",
       "      <td>0.14</td>\n",
       "      <td>3179.10</td>\n",
       "      <td>147.783</td>\n",
       "      <td>2.146017</td>\n",
       "      <td>447.0</td>\n",
       "      <td>316.69</td>\n",
       "      <td>16648.189</td>\n",
       "      <td>10398.2</td>\n",
       "      <td>366000.0</td>\n",
       "    </tr>\n",
       "    <tr>\n",
       "      <th>2013-03-01</th>\n",
       "      <td>55.509901</td>\n",
       "      <td>62.332408</td>\n",
       "      <td>4127.0</td>\n",
       "      <td>252.0</td>\n",
       "      <td>0.14</td>\n",
       "      <td>3169.74</td>\n",
       "      <td>149.962</td>\n",
       "      <td>2.099902</td>\n",
       "      <td>444.0</td>\n",
       "      <td>316.69</td>\n",
       "      <td>16648.189</td>\n",
       "      <td>10448.6</td>\n",
       "      <td>342000.0</td>\n",
       "    </tr>\n",
       "    <tr>\n",
       "      <th>2013-04-01</th>\n",
       "      <td>55.479130</td>\n",
       "      <td>62.341758</td>\n",
       "      <td>5314.0</td>\n",
       "      <td>560.0</td>\n",
       "      <td>0.16</td>\n",
       "      <td>3239.17</td>\n",
       "      <td>151.517</td>\n",
       "      <td>1.935432</td>\n",
       "      <td>441.0</td>\n",
       "      <td>321.52</td>\n",
       "      <td>16728.687</td>\n",
       "      <td>10720.4</td>\n",
       "      <td>375000.0</td>\n",
       "    </tr>\n",
       "    <tr>\n",
       "      <th>2013-05-01</th>\n",
       "      <td>55.585253</td>\n",
       "      <td>62.361958</td>\n",
       "      <td>6206.0</td>\n",
       "      <td>432.0</td>\n",
       "      <td>0.14</td>\n",
       "      <td>3299.13</td>\n",
       "      <td>152.848</td>\n",
       "      <td>1.907797</td>\n",
       "      <td>428.0</td>\n",
       "      <td>321.52</td>\n",
       "      <td>16728.687</td>\n",
       "      <td>10531.7</td>\n",
       "      <td>331000.0</td>\n",
       "    </tr>\n",
       "    <tr>\n",
       "      <th>...</th>\n",
       "      <td>...</td>\n",
       "      <td>...</td>\n",
       "      <td>...</td>\n",
       "      <td>...</td>\n",
       "      <td>...</td>\n",
       "      <td>...</td>\n",
       "      <td>...</td>\n",
       "      <td>...</td>\n",
       "      <td>...</td>\n",
       "      <td>...</td>\n",
       "      <td>...</td>\n",
       "      <td>...</td>\n",
       "      <td>...</td>\n",
       "    </tr>\n",
       "    <tr>\n",
       "      <th>2019-08-01</th>\n",
       "      <td>76.855798</td>\n",
       "      <td>76.687059</td>\n",
       "      <td>4331.0</td>\n",
       "      <td>2002.0</td>\n",
       "      <td>2.14</td>\n",
       "      <td>8111.12</td>\n",
       "      <td>210.083</td>\n",
       "      <td>2.629246</td>\n",
       "      <td>720.0</td>\n",
       "      <td>440.74</td>\n",
       "      <td>21694.282</td>\n",
       "      <td>14789.1</td>\n",
       "      <td>200000.0</td>\n",
       "    </tr>\n",
       "    <tr>\n",
       "      <th>2019-09-01</th>\n",
       "      <td>77.400317</td>\n",
       "      <td>76.826387</td>\n",
       "      <td>2661.0</td>\n",
       "      <td>660.0</td>\n",
       "      <td>2.13</td>\n",
       "      <td>7962.88</td>\n",
       "      <td>210.892</td>\n",
       "      <td>2.606767</td>\n",
       "      <td>715.0</td>\n",
       "      <td>440.74</td>\n",
       "      <td>21694.282</td>\n",
       "      <td>14831.4</td>\n",
       "      <td>207000.0</td>\n",
       "    </tr>\n",
       "    <tr>\n",
       "      <th>2019-10-01</th>\n",
       "      <td>78.331685</td>\n",
       "      <td>77.484499</td>\n",
       "      <td>2987.0</td>\n",
       "      <td>612.0</td>\n",
       "      <td>1.88</td>\n",
       "      <td>7908.68</td>\n",
       "      <td>211.779</td>\n",
       "      <td>2.733341</td>\n",
       "      <td>721.0</td>\n",
       "      <td>444.66</td>\n",
       "      <td>21902.390</td>\n",
       "      <td>15012.9</td>\n",
       "      <td>209000.0</td>\n",
       "    </tr>\n",
       "    <tr>\n",
       "      <th>2019-11-01</th>\n",
       "      <td>79.045414</td>\n",
       "      <td>77.769412</td>\n",
       "      <td>4275.0</td>\n",
       "      <td>915.0</td>\n",
       "      <td>1.57</td>\n",
       "      <td>8386.40</td>\n",
       "      <td>212.770</td>\n",
       "      <td>2.768217</td>\n",
       "      <td>710.0</td>\n",
       "      <td>444.66</td>\n",
       "      <td>21902.390</td>\n",
       "      <td>15077.4</td>\n",
       "      <td>217000.0</td>\n",
       "    </tr>\n",
       "    <tr>\n",
       "      <th>2019-12-01</th>\n",
       "      <td>80.960502</td>\n",
       "      <td>78.657910</td>\n",
       "      <td>6611.0</td>\n",
       "      <td>2460.0</td>\n",
       "      <td>1.56</td>\n",
       "      <td>8665.47</td>\n",
       "      <td>213.911</td>\n",
       "      <td>2.746361</td>\n",
       "      <td>693.0</td>\n",
       "      <td>444.66</td>\n",
       "      <td>21902.390</td>\n",
       "      <td>15231.3</td>\n",
       "      <td>229000.0</td>\n",
       "    </tr>\n",
       "  </tbody>\n",
       "</table>\n",
       "<p>84 rows × 13 columns</p>\n",
       "</div>"
      ],
      "text/plain": [
       "             강남구_매매지수   강남구_전세지수  서울_인허가물량  서울_분양물량   DFF  NASDAQCOM  \\\n",
       "2013-01-01  55.539231  61.167145    3789.0    202.0  0.09    3019.51   \n",
       "2013-02-01  55.444490  61.844689    3090.0     63.0  0.14    3179.10   \n",
       "2013-03-01  55.509901  62.332408    4127.0    252.0  0.14    3169.74   \n",
       "2013-04-01  55.479130  62.341758    5314.0    560.0  0.16    3239.17   \n",
       "2013-05-01  55.585253  62.361958    6206.0    432.0  0.14    3299.13   \n",
       "...               ...        ...       ...      ...   ...        ...   \n",
       "2019-08-01  76.855798  76.687059    4331.0   2002.0  2.14    8111.12   \n",
       "2019-09-01  77.400317  76.826387    2661.0    660.0  2.13    7962.88   \n",
       "2019-10-01  78.331685  77.484499    2987.0    612.0  1.88    7908.68   \n",
       "2019-11-01  79.045414  77.769412    4275.0    915.0  1.57    8386.40   \n",
       "2019-12-01  80.960502  78.657910    6611.0   2460.0  1.56    8665.47   \n",
       "\n",
       "            CSUSHPISA  CORESTICKM159SFRBATL  HSN1F  USSTHPI        GDP  \\\n",
       "2013-01-01    146.825              2.068297  446.0   316.69  16648.189   \n",
       "2013-02-01    147.783              2.146017  447.0   316.69  16648.189   \n",
       "2013-03-01    149.962              2.099902  444.0   316.69  16648.189   \n",
       "2013-04-01    151.517              1.935432  441.0   321.52  16728.687   \n",
       "2013-05-01    152.848              1.907797  428.0   321.52  16728.687   \n",
       "...               ...                   ...    ...      ...        ...   \n",
       "2019-08-01    210.083              2.629246  720.0   440.74  21694.282   \n",
       "2019-09-01    210.892              2.606767  715.0   440.74  21694.282   \n",
       "2019-10-01    211.779              2.733341  721.0   444.66  21902.390   \n",
       "2019-11-01    212.770              2.768217  710.0   444.66  21902.390   \n",
       "2019-12-01    213.911              2.746361  693.0   444.66  21902.390   \n",
       "\n",
       "              WM2NS      ICSA  \n",
       "2013-01-01  10615.7  362000.0  \n",
       "2013-02-01  10398.2  366000.0  \n",
       "2013-03-01  10448.6  342000.0  \n",
       "2013-04-01  10720.4  375000.0  \n",
       "2013-05-01  10531.7  331000.0  \n",
       "...             ...       ...  \n",
       "2019-08-01  14789.1  200000.0  \n",
       "2019-09-01  14831.4  207000.0  \n",
       "2019-10-01  15012.9  209000.0  \n",
       "2019-11-01  15077.4  217000.0  \n",
       "2019-12-01  15231.3  229000.0  \n",
       "\n",
       "[84 rows x 13 columns]"
      ]
     },
     "execution_count": 24,
     "metadata": {},
     "output_type": "execute_result"
    }
   ],
   "source": [
    "X"
   ]
  },
  {
   "cell_type": "code",
   "execution_count": 25,
   "metadata": {
    "ExecuteTime": {
     "end_time": "2024-01-28T13:49:18.437114Z",
     "start_time": "2024-01-28T13:49:18.421673Z"
    }
   },
   "outputs": [
    {
     "data": {
      "text/html": [
       "<div>\n",
       "<style scoped>\n",
       "    .dataframe tbody tr th:only-of-type {\n",
       "        vertical-align: middle;\n",
       "    }\n",
       "\n",
       "    .dataframe tbody tr th {\n",
       "        vertical-align: top;\n",
       "    }\n",
       "\n",
       "    .dataframe thead th {\n",
       "        text-align: right;\n",
       "    }\n",
       "</style>\n",
       "<table border=\"1\" class=\"dataframe\">\n",
       "  <thead>\n",
       "    <tr style=\"text-align: right;\">\n",
       "      <th></th>\n",
       "      <th>강남구_매매지수</th>\n",
       "      <th>강남구_전세지수</th>\n",
       "      <th>서울_인허가물량</th>\n",
       "      <th>서울_분양물량</th>\n",
       "      <th>DFF</th>\n",
       "      <th>NASDAQCOM</th>\n",
       "      <th>CSUSHPISA</th>\n",
       "      <th>CORESTICKM159SFRBATL</th>\n",
       "      <th>HSN1F</th>\n",
       "      <th>USSTHPI</th>\n",
       "      <th>GDP</th>\n",
       "      <th>WM2NS</th>\n",
       "      <th>ICSA</th>\n",
       "      <th>gangnam_price(만원)</th>\n",
       "    </tr>\n",
       "  </thead>\n",
       "  <tbody>\n",
       "    <tr>\n",
       "      <th>2013-01-01</th>\n",
       "      <td>55.539231</td>\n",
       "      <td>61.167145</td>\n",
       "      <td>3789.0</td>\n",
       "      <td>202.0</td>\n",
       "      <td>0.09</td>\n",
       "      <td>3019.51</td>\n",
       "      <td>146.825</td>\n",
       "      <td>2.068297</td>\n",
       "      <td>446.0</td>\n",
       "      <td>316.69</td>\n",
       "      <td>16648.189</td>\n",
       "      <td>10615.7</td>\n",
       "      <td>362000.0</td>\n",
       "      <td>59892</td>\n",
       "    </tr>\n",
       "    <tr>\n",
       "      <th>2013-02-01</th>\n",
       "      <td>55.444490</td>\n",
       "      <td>61.844689</td>\n",
       "      <td>3090.0</td>\n",
       "      <td>63.0</td>\n",
       "      <td>0.14</td>\n",
       "      <td>3179.10</td>\n",
       "      <td>147.783</td>\n",
       "      <td>2.146017</td>\n",
       "      <td>447.0</td>\n",
       "      <td>316.69</td>\n",
       "      <td>16648.189</td>\n",
       "      <td>10398.2</td>\n",
       "      <td>366000.0</td>\n",
       "      <td>59568</td>\n",
       "    </tr>\n",
       "    <tr>\n",
       "      <th>2013-03-01</th>\n",
       "      <td>55.509901</td>\n",
       "      <td>62.332408</td>\n",
       "      <td>4127.0</td>\n",
       "      <td>252.0</td>\n",
       "      <td>0.14</td>\n",
       "      <td>3169.74</td>\n",
       "      <td>149.962</td>\n",
       "      <td>2.099902</td>\n",
       "      <td>444.0</td>\n",
       "      <td>316.69</td>\n",
       "      <td>16648.189</td>\n",
       "      <td>10448.6</td>\n",
       "      <td>342000.0</td>\n",
       "      <td>59440</td>\n",
       "    </tr>\n",
       "    <tr>\n",
       "      <th>2013-04-01</th>\n",
       "      <td>55.479130</td>\n",
       "      <td>62.341758</td>\n",
       "      <td>5314.0</td>\n",
       "      <td>560.0</td>\n",
       "      <td>0.16</td>\n",
       "      <td>3239.17</td>\n",
       "      <td>151.517</td>\n",
       "      <td>1.935432</td>\n",
       "      <td>441.0</td>\n",
       "      <td>321.52</td>\n",
       "      <td>16728.687</td>\n",
       "      <td>10720.4</td>\n",
       "      <td>375000.0</td>\n",
       "      <td>57388</td>\n",
       "    </tr>\n",
       "    <tr>\n",
       "      <th>2013-05-01</th>\n",
       "      <td>55.585253</td>\n",
       "      <td>62.361958</td>\n",
       "      <td>6206.0</td>\n",
       "      <td>432.0</td>\n",
       "      <td>0.14</td>\n",
       "      <td>3299.13</td>\n",
       "      <td>152.848</td>\n",
       "      <td>1.907797</td>\n",
       "      <td>428.0</td>\n",
       "      <td>321.52</td>\n",
       "      <td>16728.687</td>\n",
       "      <td>10531.7</td>\n",
       "      <td>331000.0</td>\n",
       "      <td>57403</td>\n",
       "    </tr>\n",
       "    <tr>\n",
       "      <th>...</th>\n",
       "      <td>...</td>\n",
       "      <td>...</td>\n",
       "      <td>...</td>\n",
       "      <td>...</td>\n",
       "      <td>...</td>\n",
       "      <td>...</td>\n",
       "      <td>...</td>\n",
       "      <td>...</td>\n",
       "      <td>...</td>\n",
       "      <td>...</td>\n",
       "      <td>...</td>\n",
       "      <td>...</td>\n",
       "      <td>...</td>\n",
       "      <td>...</td>\n",
       "    </tr>\n",
       "    <tr>\n",
       "      <th>2023-08-01</th>\n",
       "      <td>95.993766</td>\n",
       "      <td>81.438153</td>\n",
       "      <td>834.0</td>\n",
       "      <td>2111.0</td>\n",
       "      <td>5.33</td>\n",
       "      <td>14283.91</td>\n",
       "      <td>309.226</td>\n",
       "      <td>5.217343</td>\n",
       "      <td>654.0</td>\n",
       "      <td>657.32</td>\n",
       "      <td>27610.128</td>\n",
       "      <td>20717.1</td>\n",
       "      <td>227000.0</td>\n",
       "      <td>142613</td>\n",
       "    </tr>\n",
       "    <tr>\n",
       "      <th>2023-09-01</th>\n",
       "      <td>96.624532</td>\n",
       "      <td>81.770394</td>\n",
       "      <td>408.0</td>\n",
       "      <td>373.0</td>\n",
       "      <td>5.33</td>\n",
       "      <td>14031.81</td>\n",
       "      <td>311.255</td>\n",
       "      <td>5.008782</td>\n",
       "      <td>698.0</td>\n",
       "      <td>657.32</td>\n",
       "      <td>27610.128</td>\n",
       "      <td>20662.8</td>\n",
       "      <td>229000.0</td>\n",
       "      <td>143692</td>\n",
       "    </tr>\n",
       "    <tr>\n",
       "      <th>2023-10-01</th>\n",
       "      <td>97.045327</td>\n",
       "      <td>82.233577</td>\n",
       "      <td>2071.0</td>\n",
       "      <td>2105.0</td>\n",
       "      <td>5.33</td>\n",
       "      <td>13219.32</td>\n",
       "      <td>313.276</td>\n",
       "      <td>4.931956</td>\n",
       "      <td>676.0</td>\n",
       "      <td>657.32</td>\n",
       "      <td>27938.831</td>\n",
       "      <td>20609.8</td>\n",
       "      <td>209000.0</td>\n",
       "      <td>144485</td>\n",
       "    </tr>\n",
       "    <tr>\n",
       "      <th>2023-11-01</th>\n",
       "      <td>97.245942</td>\n",
       "      <td>82.808694</td>\n",
       "      <td>937.0</td>\n",
       "      <td>531.0</td>\n",
       "      <td>5.33</td>\n",
       "      <td>13061.47</td>\n",
       "      <td>313.276</td>\n",
       "      <td>4.730629</td>\n",
       "      <td>615.0</td>\n",
       "      <td>657.32</td>\n",
       "      <td>27938.831</td>\n",
       "      <td>20600.9</td>\n",
       "      <td>220000.0</td>\n",
       "      <td>144875</td>\n",
       "    </tr>\n",
       "    <tr>\n",
       "      <th>2023-12-01</th>\n",
       "      <td>97.260064</td>\n",
       "      <td>83.228152</td>\n",
       "      <td>937.0</td>\n",
       "      <td>531.0</td>\n",
       "      <td>5.33</td>\n",
       "      <td>14305.03</td>\n",
       "      <td>313.276</td>\n",
       "      <td>4.584186</td>\n",
       "      <td>664.0</td>\n",
       "      <td>657.32</td>\n",
       "      <td>27938.831</td>\n",
       "      <td>20770.2</td>\n",
       "      <td>219000.0</td>\n",
       "      <td>144755</td>\n",
       "    </tr>\n",
       "  </tbody>\n",
       "</table>\n",
       "<p>132 rows × 14 columns</p>\n",
       "</div>"
      ],
      "text/plain": [
       "             강남구_매매지수   강남구_전세지수  서울_인허가물량  서울_분양물량   DFF  NASDAQCOM  \\\n",
       "2013-01-01  55.539231  61.167145    3789.0    202.0  0.09    3019.51   \n",
       "2013-02-01  55.444490  61.844689    3090.0     63.0  0.14    3179.10   \n",
       "2013-03-01  55.509901  62.332408    4127.0    252.0  0.14    3169.74   \n",
       "2013-04-01  55.479130  62.341758    5314.0    560.0  0.16    3239.17   \n",
       "2013-05-01  55.585253  62.361958    6206.0    432.0  0.14    3299.13   \n",
       "...               ...        ...       ...      ...   ...        ...   \n",
       "2023-08-01  95.993766  81.438153     834.0   2111.0  5.33   14283.91   \n",
       "2023-09-01  96.624532  81.770394     408.0    373.0  5.33   14031.81   \n",
       "2023-10-01  97.045327  82.233577    2071.0   2105.0  5.33   13219.32   \n",
       "2023-11-01  97.245942  82.808694     937.0    531.0  5.33   13061.47   \n",
       "2023-12-01  97.260064  83.228152     937.0    531.0  5.33   14305.03   \n",
       "\n",
       "            CSUSHPISA  CORESTICKM159SFRBATL  HSN1F  USSTHPI        GDP  \\\n",
       "2013-01-01    146.825              2.068297  446.0   316.69  16648.189   \n",
       "2013-02-01    147.783              2.146017  447.0   316.69  16648.189   \n",
       "2013-03-01    149.962              2.099902  444.0   316.69  16648.189   \n",
       "2013-04-01    151.517              1.935432  441.0   321.52  16728.687   \n",
       "2013-05-01    152.848              1.907797  428.0   321.52  16728.687   \n",
       "...               ...                   ...    ...      ...        ...   \n",
       "2023-08-01    309.226              5.217343  654.0   657.32  27610.128   \n",
       "2023-09-01    311.255              5.008782  698.0   657.32  27610.128   \n",
       "2023-10-01    313.276              4.931956  676.0   657.32  27938.831   \n",
       "2023-11-01    313.276              4.730629  615.0   657.32  27938.831   \n",
       "2023-12-01    313.276              4.584186  664.0   657.32  27938.831   \n",
       "\n",
       "              WM2NS      ICSA  gangnam_price(만원)  \n",
       "2013-01-01  10615.7  362000.0              59892  \n",
       "2013-02-01  10398.2  366000.0              59568  \n",
       "2013-03-01  10448.6  342000.0              59440  \n",
       "2013-04-01  10720.4  375000.0              57388  \n",
       "2013-05-01  10531.7  331000.0              57403  \n",
       "...             ...       ...                ...  \n",
       "2023-08-01  20717.1  227000.0             142613  \n",
       "2023-09-01  20662.8  229000.0             143692  \n",
       "2023-10-01  20609.8  209000.0             144485  \n",
       "2023-11-01  20600.9  220000.0             144875  \n",
       "2023-12-01  20770.2  219000.0             144755  \n",
       "\n",
       "[132 rows x 14 columns]"
      ]
     },
     "execution_count": 25,
     "metadata": {},
     "output_type": "execute_result"
    }
   ],
   "source": [
    "df"
   ]
  },
  {
   "cell_type": "markdown",
   "metadata": {},
   "source": [
    "# 5. 데이터 정규화(Data normalization)"
   ]
  },
  {
   "cell_type": "markdown",
   "metadata": {},
   "source": [
    "[종류]\n",
    "1. StandardScaler 기본 스케일. 평균0과 표준편차1 사용. 정규분포로 만들어줌. 회귀보다 분류에 적합\n",
    "2. MinMaxScaler 최대/최소값이 각각 1, 0이 되도록 스케일링. 분류보다 회귀에 적합\n",
    "3. MaxAbsScaler 최대 절대값이 0과 1 사이가 되도록 스케일링\n",
    "4. RobustScaler 중앙값(median)을 0, IQR(interquartile range)을 1이 되도록 스케일링. 아웃라이어의 영향을 최소화\n",
    "> 어떤 스케일링을 선택할 것인지 문제. 데이터 + 스케일링 종류 + 모델 궁합이 중요함. [데이터+스케일링+모델 궁합](https://towardsdatascience.com/normalization-vs-standardization-quantitative-analysis-a91e8a79cebf#:~:text=Normalization%20typically%20means%20rescales%20the,of%201%20(unit%20variance).)"
   ]
  },
  {
   "cell_type": "markdown",
   "metadata": {},
   "source": [
    "![scaling](./data/scaling.jpg)"
   ]
  },
  {
   "cell_type": "markdown",
   "metadata": {},
   "source": [
    "[용어정리]  \n",
    " - 스케일링(Scaling), 정규화(Normalization), 표준화(Standardization) 여러 용어 > 번역이 되면서 더 혼란  \n",
    " - 영어에서 \"scaling\" 크기를 맞춰주는 작업으로 이해하면 됩니다.  \n",
    " - 특히 \"정규화\" 라는 용어는 향후 딥러닝에서 BatchNormalization, Normalizer, Regularizer 등 다른 용도로도 사용되므로 주의"
   ]
  },
  {
   "cell_type": "markdown",
   "metadata": {},
   "source": [
    "[주의사항]\n",
    "- 스케일링의 경우에도 test 데이터를 fit 해서는 안됨 > train 데이터에 대해서만 fit 이후에 train 과 test set에 대해 transform  \n",
    "머신러닝 딥러닝 모델이 학습을 하는 과정에서 어떠한 방식으로든 test set 데이터를 사용하게 되어서는 안됩니다."
   ]
  },
  {
   "cell_type": "markdown",
   "metadata": {},
   "source": [
    "[방법]\n",
    "- train / test(valid) split 먼저 수행\n",
    "- train에 대해서 scaling 방법 학습\n",
    "- scaling한 train 데이터를 이용하여 모델 학습\n",
    "- train 데이터로 학습한 scaling 방법을 이용하여 test(valid) 데이터 scaling\n",
    "- scaling한 test(valid) 데이터를 이용하여 모델 학습"
   ]
  },
  {
   "cell_type": "markdown",
   "metadata": {
    "ExecuteTime": {
     "end_time": "2022-02-01T07:20:04.069040Z",
     "start_time": "2022-02-01T07:20:01.297Z"
    }
   },
   "source": [
    ">우리는 Min-Max Scaler를 사용해보겠습니다."
   ]
  },
  {
   "cell_type": "code",
   "execution_count": 26,
   "metadata": {
    "ExecuteTime": {
     "end_time": "2024-01-28T13:49:19.262460Z",
     "start_time": "2024-01-28T13:49:18.438327Z"
    }
   },
   "outputs": [],
   "source": [
    "from sklearn import metrics\n",
    "from sklearn import preprocessing\n",
    "from sklearn.model_selection import train_test_split                                                     \n",
    "\n",
    "train_X, valid_X, train_y, valid_y = train_test_split(X, y, test_size=0.1, random_state=1)\n",
    "\n",
    "# 피처 스케일링\n",
    "scaler = preprocessing.MinMaxScaler()\n",
    "\n",
    "train_X_norm = scaler.fit_transform(train_X)\n",
    "valid_X_norm = scaler.fit_transform(valid_X)"
   ]
  },
  {
   "cell_type": "code",
   "execution_count": 27,
   "metadata": {
    "ExecuteTime": {
     "end_time": "2024-01-28T13:49:19.294048Z",
     "start_time": "2024-01-28T13:49:19.262460Z"
    }
   },
   "outputs": [
    {
     "data": {
      "text/plain": [
       "array([[4.40638230e-01, 9.01185618e-01, 1.00000000e+00, 4.05949069e-01,\n",
       "        4.60251046e-01, 6.36461712e-01, 7.11653651e-01, 3.24311281e-01,\n",
       "        7.57225434e-01, 6.52887395e-01, 5.79423208e-01, 6.89733288e-01,\n",
       "        2.68571429e-01],\n",
       "       [8.94063712e-01, 8.64512310e-01, 7.71274736e-02, 4.46394179e-01,\n",
       "        9.74895397e-01, 9.44988625e-01, 9.47092274e-01, 6.86047639e-01,\n",
       "        8.49710983e-01, 9.69367821e-01, 9.60392075e-01, 9.36014703e-01,\n",
       "        1.31428571e-01],\n",
       "       [9.15573169e-01, 9.83990483e-01, 6.87364520e-02, 1.42092874e-01,\n",
       "        7.74058577e-01, 9.48413327e-01, 8.72211692e-01, 6.87155878e-01,\n",
       "        6.35838150e-01, 8.21989529e-01, 7.89947130e-01, 7.97614977e-01,\n",
       "        5.71428571e-03],\n",
       "       [6.46517729e-01, 9.70571245e-01, 5.89469268e-02, 1.35887010e-01,\n",
       "        5.69037657e-01, 8.13571733e-01, 7.94616726e-01, 3.50050004e-01,\n",
       "        7.02312139e-01, 7.23372665e-01, 7.00461212e-01, 7.15271841e-01,\n",
       "        1.60000000e-01],\n",
       "       [7.80247809e-01, 9.55789156e-01, 2.54807356e-01, 1.70768243e-01,\n",
       "        7.74058577e-01, 8.36759278e-01, 8.50435969e-01, 7.46092743e-01,\n",
       "        7.31213873e-01, 8.21989529e-01, 7.89947130e-01, 7.67032826e-01,\n",
       "        1.60000000e-01],\n",
       "       [3.95727301e-01, 8.67774459e-01, 2.34668904e-01, 1.00000000e+00,\n",
       "        3.55648536e-01, 6.01338950e-01, 6.62400485e-01, 3.56826093e-01,\n",
       "        7.05202312e-01, 6.05298117e-01, 5.31090074e-01, 6.52889383e-01,\n",
       "        3.02857143e-01],\n",
       "       [7.73614824e-01, 9.59173192e-01, 6.74078736e-02, 5.64733576e-01,\n",
       "        6.86192469e-01, 8.44962725e-01, 8.40200167e-01, 7.80397081e-01,\n",
       "        7.54335260e-01, 7.82214582e-01, 7.48491160e-01, 7.60963413e-01,\n",
       "        1.25714286e-01],\n",
       "       [1.62840193e-01, 6.43635049e-01, 4.06335221e-01, 2.24053071e-01,\n",
       "        8.36820084e-03, 3.92922158e-01, 3.95966336e-01, 3.99429252e-01,\n",
       "        4.13294798e-01, 3.38907556e-01, 3.33720960e-01, 3.31552402e-01,\n",
       "        4.00000000e-01],\n",
       "       [2.16289824e-01, 7.65899435e-01, 2.04531152e-01, 9.33019474e-02,\n",
       "        5.85774059e-02, 3.70400735e-01, 4.61672606e-01, 6.92047655e-01,\n",
       "        3.75722543e-01, 3.87747128e-01, 3.57379552e-01, 4.39134895e-01,\n",
       "        4.34285714e-01],\n",
       "       [9.60280027e-02, 5.47078880e-01, 2.11803370e-01, 6.62957415e-01,\n",
       "        2.51046025e-02, 3.46703584e-01, 3.55932974e-01, 2.79804607e-01,\n",
       "        3.67052023e-01, 2.99523326e-01, 3.10531516e-01, 3.33967345e-01,\n",
       "        3.94285714e-01],\n",
       "       [2.96031893e-01, 8.09119578e-01, 2.47255437e-01, 2.86111706e-01,\n",
       "        1.42259414e-01, 4.03341600e-01, 5.31094094e-01, 9.53616776e-01,\n",
       "        5.78034682e-01, 4.93240603e-01, 4.27172466e-01, 5.31543854e-01,\n",
       "        3.77142857e-01],\n",
       "       [2.34533025e-01, 7.99068941e-01, 1.54604573e-01, 2.74127969e-01,\n",
       "        1.00418410e-01, 3.27163404e-01, 4.94396846e-01, 7.98719489e-01,\n",
       "        5.66473988e-01, 4.41353442e-01, 3.92735832e-01, 4.88309968e-01,\n",
       "        4.45714286e-01],\n",
       "       [2.73238454e-02, 6.51224703e-02, 1.02510314e-01, 4.40830302e-02,\n",
       "        3.34728033e-02, 2.79920028e-02, 4.75699447e-02, 3.17371253e-01,\n",
       "        1.99421965e-01, 0.00000000e+00, 0.00000000e+00, 1.07710720e-02,\n",
       "        8.11428571e-01],\n",
       "       [9.70503023e-01, 9.11919223e-01, 2.27956087e-02, 1.21121335e-01,\n",
       "        7.61506276e-01, 9.10987555e-01, 9.84972325e-01, 9.64377011e-01,\n",
       "        1.00000000e+00, 1.00000000e+00, 1.00000000e+00, 9.86215592e-01,\n",
       "        5.14285714e-02],\n",
       "       [2.18342081e-01, 7.48284674e-01, 6.73729110e-01, 2.22127113e-01,\n",
       "        2.92887029e-02, 3.98144922e-01, 4.50602775e-01, 6.68519486e-01,\n",
       "        4.94219653e-01, 3.61569118e-01, 3.40098904e-01, 4.07420072e-01,\n",
       "        3.71428571e-01],\n",
       "       [3.45931800e-01, 8.35289878e-01, 1.70687365e-01, 4.92189172e-02,\n",
       "        2.05020921e-01, 4.40405896e-01, 6.06202138e-01, 8.91060617e-01,\n",
       "        5.72254335e-01, 5.37938579e-01, 5.00912508e-01, 6.19293896e-01,\n",
       "        2.51428571e-01],\n",
       "       [2.71233776e-02, 3.15228172e-01, 2.32710999e-01, 5.98116841e-01,\n",
       "        8.36820084e-03, 2.32635661e-01, 2.51224505e-01, 2.41029112e-01,\n",
       "        8.09248555e-02, 1.65585684e-01, 1.65642502e-01, 1.93622842e-01,\n",
       "        7.42857143e-01],\n",
       "       [9.39132784e-01, 9.97004914e-01, 2.23410950e-01, 8.47421357e-02,\n",
       "        8.87029289e-01, 9.34953017e-01, 8.83736447e-01, 6.39205390e-01,\n",
       "        5.17341040e-01, 8.33242166e-01, 8.12621748e-01, 8.12916738e-01,\n",
       "        5.71428571e-02],\n",
       "       [3.65944631e-01, 8.55613509e-01, 1.71526467e-01, 3.82837578e-01,\n",
       "        3.55648536e-01, 5.72415309e-01, 6.48874062e-01, 3.74579367e-01,\n",
       "        7.51445087e-01, 6.05298117e-01, 5.31090074e-01, 6.52077278e-01,\n",
       "        1.82857143e-01],\n",
       "       [3.21473947e-02, 3.38873214e-01, 2.79700720e-04, 2.11855339e-02,\n",
       "        1.25523013e-02, 2.48398980e-01, 2.78853590e-01, 1.77030097e-01,\n",
       "        2.34104046e-01, 2.03797765e-01, 2.20021845e-01, 2.04137459e-01,\n",
       "        5.88571429e-01],\n",
       "       [3.13339273e-01, 8.08006438e-01, 5.04160548e-02, 9.03488123e-01,\n",
       "        1.42259414e-01, 4.11355552e-01, 5.45848813e-01, 8.60970856e-01,\n",
       "        5.28901734e-01, 4.93240603e-01, 4.27172466e-01, 5.38190289e-01,\n",
       "        3.48571429e-01],\n",
       "       [8.79142738e-01, 8.70500370e-01, 5.00664289e-02, 1.93451744e-01,\n",
       "        1.00000000e+00, 9.37252301e-01, 9.29911290e-01, 6.21067041e-01,\n",
       "        6.56069364e-01, 9.26076424e-01, 9.01485497e-01, 8.71366900e-01,\n",
       "        1.42857143e-01],\n",
       "       [9.42328802e-01, 1.00000000e+00, 4.08922453e-01, 1.21549326e-01,\n",
       "        8.95397490e-01, 8.22552726e-01, 8.92122223e-01, 7.02335177e-01,\n",
       "        7.22543353e-01, 8.33242166e-01, 8.12621748e-01, 8.02273893e-01,\n",
       "        9.14285714e-02],\n",
       "       [8.53995702e-02, 5.07066313e-01, 3.70533529e-01, 3.17569013e-01,\n",
       "        0.00000000e+00, 3.62224678e-01, 3.48366063e-01, 2.14447616e-01,\n",
       "        3.03468208e-01, 2.55216066e-01, 2.69373022e-01, 3.08236451e-01,\n",
       "        6.68571429e-01],\n",
       "       [1.00000000e+00, 9.27842005e-01, 1.12859241e-01, 1.85961909e-01,\n",
       "        6.31799163e-01, 1.00000000e+00, 1.00000000e+00, 1.00000000e+00,\n",
       "        9.68208092e-01, 1.00000000e+00, 1.00000000e+00, 1.00000000e+00,\n",
       "        9.71428571e-02],\n",
       "       [3.39175275e-01, 8.15792682e-01, 1.36284176e-01, 3.36186604e-01,\n",
       "        9.62343096e-02, 4.27154274e-01, 5.59890818e-01, 7.35760482e-01,\n",
       "        5.78034682e-01, 5.16292881e-01, 4.64616789e-01, 5.41673790e-01,\n",
       "        2.57142857e-01],\n",
       "       [7.48170306e-01, 9.78244491e-01, 1.83903224e-01, 5.13588701e-03,\n",
       "        6.73640167e-01, 7.53495973e-01, 8.16377284e-01, 7.19320344e-01,\n",
       "        7.71676301e-01, 7.82214582e-01, 7.48491160e-01, 7.68528808e-01,\n",
       "        1.82857143e-01],\n",
       "       [2.20793321e-01, 7.87080582e-01, 5.66254108e-01, 6.95484699e-02,\n",
       "        1.29707113e-01, 3.53096486e-01, 4.84327849e-01, 7.64848028e-01,\n",
       "        5.80924855e-01, 4.41353442e-01, 3.92735832e-01, 4.96965293e-01,\n",
       "        4.05714286e-01],\n",
       "       [6.13926663e-02, 3.79707418e-01, 2.72778127e-01, 5.23432484e-01,\n",
       "        1.25523013e-02, 2.61339435e-01, 3.00492835e-01, 2.21476609e-01,\n",
       "        2.91907514e-01, 2.25443463e-01, 2.40548468e-01, 2.22901351e-01,\n",
       "        5.14285714e-01],\n",
       "       [9.17373075e-01, 9.30162347e-01, 1.85022026e-01, 2.28118981e-01,\n",
       "        9.79079498e-01, 7.90841623e-01, 9.10349534e-01, 6.00044207e-01,\n",
       "        7.60115607e-01, 8.70203954e-01, 8.48072618e-01, 8.39096427e-01,\n",
       "        2.00000000e-01],\n",
       "       [2.60521502e-02, 6.56450010e-02, 1.85511503e-01, 1.09993580e-01,\n",
       "        4.18410042e-02, 4.09287315e-02, 7.11502009e-02, 1.49377951e-01,\n",
       "        1.90751445e-01, 3.77432211e-02, 1.53206929e-02, 6.88579244e-02,\n",
       "        1.00000000e+00],\n",
       "       [3.57177424e-01, 8.46262216e-01, 3.47318369e-01, 1.36528996e-01,\n",
       "        3.17991632e-01, 5.38902418e-01, 6.35347638e-01, 4.72900084e-01,\n",
       "        6.44508671e-01, 6.05298117e-01, 5.31090074e-01, 6.56501111e-01,\n",
       "        9.14285714e-02],\n",
       "       [4.55275634e-01, 9.12715657e-01, 9.20425145e-01, 7.96276482e-01,\n",
       "        4.18410042e-01, 6.47758758e-01, 7.27485025e-01, 4.12277879e-01,\n",
       "        7.25433526e-01, 6.78987263e-01, 6.44988458e-01, 6.87190118e-01,\n",
       "        3.42857143e-01],\n",
       "       [3.53626285e-01, 8.22575655e-01, 1.56142927e-01, 5.49753905e-01,\n",
       "        1.46443515e-01, 3.97636247e-01, 5.75191447e-01, 7.52392136e-01,\n",
       "        5.66473988e-01, 5.16292881e-01, 4.64616789e-01, 5.72277312e-01,\n",
       "        3.71428571e-01],\n",
       "       [2.75113184e-01, 8.15813370e-01, 5.15278652e-01, 8.94500321e-02,\n",
       "        1.46443515e-01, 3.43413038e-01, 5.15581166e-01, 8.03514027e-01,\n",
       "        7.31213873e-01, 4.93240603e-01, 4.27172466e-01, 4.97798769e-01,\n",
       "        3.54285714e-01],\n",
       "       [4.15641967e-01, 8.83390188e-01, 4.22208237e-01, 4.68007704e-01,\n",
       "        4.18410042e-01, 5.81511825e-01, 6.76624460e-01, 3.65241560e-01,\n",
       "        5.69364162e-01, 6.52887395e-01, 5.79423208e-01, 6.52077278e-01,\n",
       "        3.20000000e-01],\n",
       "       [6.43840265e-02, 4.52083971e-01, 6.88763024e-02, 2.45666595e-01,\n",
       "        0.00000000e+00, 3.19838864e-01, 3.30699826e-01, 2.00674708e-01,\n",
       "        4.04624277e-01, 2.55216066e-01, 2.69373022e-01, 2.97379894e-01,\n",
       "        4.85714286e-01],\n",
       "       [5.02342984e-03, 1.71953417e-01, 2.02153696e-01, 2.00941579e-01,\n",
       "        4.18410042e-03, 1.06273838e-01, 1.72856168e-01, 1.03403090e-01,\n",
       "        8.09248555e-02, 7.39235758e-02, 5.81723082e-02, 6.39425543e-02,\n",
       "        7.14285714e-01],\n",
       "       [2.40352439e-02, 3.20736703e-01, 5.26466681e-01, 1.18981382e-01,\n",
       "        8.36820084e-03, 2.27899212e-01, 2.61354159e-01, 3.61740035e-01,\n",
       "        1.24277457e-01, 1.65585684e-01, 1.65642502e-01, 1.80052146e-01,\n",
       "        6.40000000e-01],\n",
       "       [2.85360175e-02, 0.00000000e+00, 7.88756031e-02, 3.33832656e-02,\n",
       "        1.25523013e-02, 0.00000000e+00, 0.00000000e+00, 2.85088915e-01,\n",
       "        2.05202312e-01, 0.00000000e+00, 0.00000000e+00, 4.64823047e-02,\n",
       "        9.25714286e-01],\n",
       "       [9.09507517e-01, 8.67353133e-01, 1.16775051e-01, 4.18574791e-01,\n",
       "        8.70292887e-01, 9.48707725e-01, 9.59253924e-01, 8.58052459e-01,\n",
       "        9.97109827e-01, 9.69367821e-01, 9.60392075e-01, 9.38386904e-01,\n",
       "        0.00000000e+00],\n",
       "       [4.84198290e-01, 9.23956944e-01, 3.59135725e-01, 2.84185748e-01,\n",
       "        4.60251046e-01, 6.88857048e-01, 7.44893472e-01, 3.32823782e-01,\n",
       "        9.71098266e-01, 6.78987263e-01, 6.44988458e-01, 7.08027013e-01,\n",
       "        2.34285714e-01],\n",
       "       [0.00000000e+00, 1.39102335e-01, 4.28851129e-01, 8.03124331e-01,\n",
       "        8.36820084e-03, 1.22273794e-01, 1.53719008e-01, 1.27711930e-01,\n",
       "        1.73410405e-02, 7.39235758e-02, 5.81723082e-02, 5.33210805e-02,\n",
       "        7.65714286e-01],\n",
       "       [9.32011396e-01, 8.75139714e-01, 0.00000000e+00, 1.31393109e-01,\n",
       "        8.66108787e-01, 9.21086514e-01, 9.71521723e-01, 8.35091995e-01,\n",
       "        9.82658960e-01, 9.69367821e-01, 9.60392075e-01, 9.47426911e-01,\n",
       "        4.00000000e-02],\n",
       "       [5.86906185e-01, 9.56813340e-01, 2.12083071e-01, 7.66103146e-02,\n",
       "        5.31380753e-01, 7.23674232e-01, 7.80650542e-01, 3.85195990e-01,\n",
       "        6.21387283e-01, 7.23372665e-01, 7.00461212e-01, 7.61775517e-01,\n",
       "        2.74285714e-01],\n",
       "       [1.75381729e-02, 3.06261555e-01, 2.37745612e-02, 2.76695913e-01,\n",
       "        4.18410042e-03, 2.02048114e-01, 2.38077186e-01, 0.00000000e+00,\n",
       "        1.30057803e-01, 1.15339533e-01, 1.04592306e-01, 1.35706958e-01,\n",
       "        7.48571429e-01],\n",
       "       [6.15113105e-02, 4.03055394e-01, 3.25431788e-01, 5.97046865e-01,\n",
       "        4.18410042e-03, 3.00216699e-01, 3.11001592e-01, 2.19788205e-01,\n",
       "        1.93641618e-01, 2.25443463e-01, 2.40548468e-01, 2.38951103e-01,\n",
       "        4.57142857e-01],\n",
       "       [1.77709169e-01, 6.62282978e-01, 5.94364030e-01, 3.11577145e-01,\n",
       "        3.34728033e-02, 3.01217279e-01, 4.09477595e-01, 5.00744972e-01,\n",
       "        2.34104046e-01, 3.38907556e-01, 3.33720960e-01, 3.58651051e-01,\n",
       "        4.51428571e-01],\n",
       "       [1.41149792e-01, 6.17340654e-01, 9.04272429e-01, 5.17868607e-02,\n",
       "        2.92887029e-02, 3.71464666e-01, 3.83698537e-01, 3.59806286e-01,\n",
       "        3.78612717e-01, 3.38907556e-01, 3.33720960e-01, 3.31082236e-01,\n",
       "        4.28571429e-01],\n",
       "       [4.41683758e-01, 8.94968779e-01, 3.29487448e-01, 1.24545260e-01,\n",
       "        4.60251046e-01, 6.22973454e-01, 6.95064069e-01, 3.07085059e-01,\n",
       "        5.23121387e-01, 6.52887395e-01, 5.79423208e-01, 6.80009403e-01,\n",
       "        2.57142857e-01],\n",
       "       [3.45164564e-01, 8.38150672e-01, 4.71715265e-01, 1.71196234e-03,\n",
       "        2.51046025e-01, 4.88763511e-01, 6.13966184e-01, 9.04234872e-01,\n",
       "        6.12716763e-01, 5.37938579e-01, 5.00912508e-01, 5.94610190e-01,\n",
       "        2.34285714e-01],\n",
       "       [2.52563647e-01, 8.17612077e-01, 1.68170058e-01, 4.10228975e-01,\n",
       "        1.29707113e-01, 3.60122902e-01, 5.04268709e-01, 7.96416190e-01,\n",
       "        5.26011561e-01, 4.41353442e-01, 3.92735832e-01, 4.86878099e-01,\n",
       "        3.60000000e-01],\n",
       "       [7.10049842e-01, 9.74140365e-01, 1.18872806e-01, 5.29210357e-01,\n",
       "        5.69037657e-01, 7.75318667e-01, 8.05823034e-01, 5.92433618e-01,\n",
       "        8.78612717e-01, 7.23372665e-01, 7.00461212e-01, 7.35766798e-01,\n",
       "        9.14285714e-02],\n",
       "       [5.96819565e-02, 4.30351763e-01, 5.45416404e-02, 2.67494115e-02,\n",
       "        2.92887029e-02, 3.18217813e-01, 3.21843961e-01, 1.85836460e-01,\n",
       "        3.52601156e-01, 2.25443463e-01, 2.40548468e-01, 2.69618738e-01,\n",
       "        5.20000000e-01],\n",
       "       [3.04380182e-02, 6.67739250e-02, 2.47884763e-01, 8.26021828e-02,\n",
       "        3.34728033e-02, 5.21009374e-02, 9.13336872e-02, 1.21151155e-01,\n",
       "        1.53179191e-01, 3.77432211e-02, 1.53206929e-02, 2.85305180e-02,\n",
       "        7.48571429e-01],\n",
       "       [8.95516337e-01, 8.92581016e-01, 8.54765401e-01, 2.82045795e-01,\n",
       "        9.79079498e-01, 8.52605513e-01, 9.13624991e-01, 6.23573602e-01,\n",
       "        9.53757225e-01, 8.70203954e-01, 8.48072618e-01, 8.49611045e-01,\n",
       "        1.42857143e-01],\n",
       "       [2.75954902e-02, 3.12969195e-01, 1.11740438e-01, 3.07297239e-01,\n",
       "        0.00000000e+00, 2.40103673e-01, 2.46569111e-01, 3.23487302e-02,\n",
       "        8.67052023e-02, 1.15339533e-01, 1.04592306e-01, 1.57591041e-01,\n",
       "        6.80000000e-01],\n",
       "       [1.27654565e-01, 5.98402394e-01, 5.07307181e-01, 1.25187246e-01,\n",
       "        2.51046025e-02, 3.84472199e-01, 3.73675032e-01, 3.32518990e-01,\n",
       "        3.03468208e-01, 2.99523326e-01, 3.10531516e-01, 3.27940674e-01,\n",
       "        4.28571429e-01],\n",
       "       [1.07812492e-01, 5.71590875e-01, 1.35514999e-01, 1.72694201e-01,\n",
       "        2.92887029e-02, 3.70024353e-01, 3.64788839e-01, 2.83648511e-01,\n",
       "        3.67052023e-01, 2.99523326e-01, 3.10531516e-01, 3.10865105e-01,\n",
       "        3.94285714e-01],\n",
       "       [6.96650032e-03, 2.74068829e-01, 6.75197539e-01, 0.00000000e+00,\n",
       "        4.18410042e-03, 1.93851560e-01, 2.14860869e-01, 8.37604990e-02,\n",
       "        1.67630058e-01, 9.42408377e-02, 1.03503844e-01, 1.16066849e-01,\n",
       "        6.40000000e-01],\n",
       "       [2.52783372e-02, 3.28834046e-01, 1.19851759e-01, 1.79756045e-01,\n",
       "        1.67364017e-02, 2.68151574e-01, 2.69148533e-01, 3.18297577e-01,\n",
       "        7.80346821e-02, 2.03797765e-01, 2.20021845e-01, 1.99756369e-01,\n",
       "        6.17142857e-01],\n",
       "       [5.29307692e-02, 3.62364527e-01, 2.01244668e-01, 2.68992082e-01,\n",
       "        4.18410042e-03, 2.90812743e-01, 2.89316855e-01, 1.68391757e-01,\n",
       "        2.74566474e-01, 2.03797765e-01, 2.20021845e-01, 2.21020687e-01,\n",
       "        5.88571429e-01],\n",
       "       [3.50754139e-01, 8.41332333e-01, 3.14383610e-01, 2.08645410e-01,\n",
       "        2.51046025e-01, 5.37465832e-01, 6.24247479e-01, 6.78382915e-01,\n",
       "        7.42774566e-01, 5.37938579e-01, 5.00912508e-01, 6.24978629e-01,\n",
       "        1.20000000e-01],\n",
       "       [6.96707331e-02, 4.71287090e-01, 1.31459339e-01, 1.69056281e-02,\n",
       "        0.00000000e+00, 3.01055173e-01, 3.38206081e-01, 1.96940300e-01,\n",
       "        4.76878613e-01, 2.55216066e-01, 2.69373022e-01, 2.73380065e-01,\n",
       "        4.62857143e-01],\n",
       "       [8.09227573e-03, 1.08945641e-01, 5.64226278e-01, 4.20500749e-01,\n",
       "        1.67364017e-02, 7.73222481e-02, 1.33080597e-01, 8.03781740e-02,\n",
       "        0.00000000e+00, 7.39235758e-02, 5.81723082e-02, 5.82364507e-02,\n",
       "        8.00000000e-01],\n",
       "       [9.37705530e-01, 9.87934500e-01, 4.55562548e-01, 1.75048149e-01,\n",
       "        8.95397490e-01, 8.03264088e-01, 8.99431344e-01, 6.89645074e-01,\n",
       "        4.94219653e-01, 8.33242166e-01, 8.12621748e-01, 8.17041375e-01,\n",
       "        1.82857143e-01],\n",
       "       [2.46205331e-02, 3.78655360e-02, 2.99979022e-02, 3.63791997e-03,\n",
       "        3.34728033e-02, 2.97360296e-02, 1.45272576e-02, 3.64473453e-01,\n",
       "        2.08092486e-01, 0.00000000e+00, 0.00000000e+00, 0.00000000e+00,\n",
       "        9.48571429e-01],\n",
       "       [2.59253529e-02, 3.14584277e-01, 3.59485351e-01, 5.11448748e-02,\n",
       "        1.25523013e-02, 2.06439856e-01, 2.55273334e-01, 3.46310080e-01,\n",
       "        2.19653179e-01, 1.65585684e-01, 1.65642502e-01, 1.75756540e-01,\n",
       "        8.28571429e-01],\n",
       "       [7.65292551e-01, 9.60751198e-01, 1.97818334e-01, 9.77958485e-02,\n",
       "        6.86192469e-01, 7.66028929e-01, 8.27993024e-01, 7.71992850e-01,\n",
       "        8.29479769e-01, 7.82214582e-01, 7.48491160e-01, 7.51731065e-01,\n",
       "        5.14285714e-02],\n",
       "       [2.38789313e-02, 8.43208271e-02, 2.90049647e-01, 7.52835438e-01,\n",
       "        1.25523013e-02, 8.13133863e-02, 1.11805292e-01, 8.93052690e-02,\n",
       "        2.74566474e-01, 3.77432211e-02, 1.53206929e-02, 3.01119850e-02,\n",
       "        8.34285714e-01],\n",
       "       [8.83166891e-01, 8.75488660e-01, 5.46814908e-02, 4.03595121e-01,\n",
       "        9.83263598e-01, 8.96124199e-01, 9.20448859e-01, 6.31993154e-01,\n",
       "        9.24855491e-01, 9.26076424e-01, 9.01485497e-01, 9.09151137e-01,\n",
       "        3.42857143e-02],\n",
       "       [6.15110979e-03, 2.09591629e-01, 1.98028110e-01, 7.04044511e-01,\n",
       "        8.36820084e-03, 1.48777038e-01, 1.88262946e-01, 8.12531211e-02,\n",
       "        1.99421965e-01, 9.42408377e-02, 1.03503844e-01, 9.16609677e-02,\n",
       "        6.80000000e-01],\n",
       "       [9.32008068e-01, 9.79786199e-01, 3.77875673e-01, 1.70554248e-01,\n",
       "        9.79079498e-01, 6.73717926e-01, 9.05254379e-01, 6.09119510e-01,\n",
       "        6.24277457e-01, 8.70203954e-01, 8.48072618e-01, 8.82907335e-01,\n",
       "        2.17142857e-01],\n",
       "       [1.10113217e-02, 2.90741649e-01, 1.01391511e-01, 3.42820458e-01,\n",
       "        4.18410042e-03, 2.15595997e-01, 2.28993859e-01, 3.33270448e-02,\n",
       "        1.96531792e-01, 1.15339533e-01, 1.04592306e-01, 1.56030945e-01,\n",
       "        7.54285714e-01],\n",
       "       [2.16512112e-01, 7.79534396e-01, 2.24669604e-01, 2.08645410e-01,\n",
       "        1.33891213e-01, 2.98284481e-01, 4.67374327e-01, 7.71194305e-01,\n",
       "        4.10404624e-01, 3.87747128e-01, 3.57379552e-01, 4.39498205e-01,\n",
       "        4.68571429e-01]])"
      ]
     },
     "execution_count": 27,
     "metadata": {},
     "output_type": "execute_result"
    }
   ],
   "source": [
    "train_X_norm"
   ]
  },
  {
   "cell_type": "markdown",
   "metadata": {},
   "source": [
    "# 6. 모델생성 및 학습"
   ]
  },
  {
   "cell_type": "markdown",
   "metadata": {
    "ExecuteTime": {
     "end_time": "2022-02-05T03:03:16.616828Z",
     "start_time": "2022-02-05T03:03:16.593855Z"
    }
   },
   "source": [
    "[모델의 성능평가 기준지표](https://www.dataquest.io/blog/understanding-regression-error-metrics/)"
   ]
  },
  {
   "cell_type": "markdown",
   "metadata": {},
   "source": [
    "회귀모델의 성능을 평가하는 지표는 MSE, RMSE, MAE, MAPE 등이 있습니다.  \n",
    "문제마다 성능을 평가는 지표는 다릅니다.(예, 컴퓨터 비전은 PSNR, SSIM 등)\n",
    "\n",
    "* 기억할 것은 0에 까까울수록 성능이 좋다는 것입니다."
   ]
  },
  {
   "cell_type": "markdown",
   "metadata": {
    "ExecuteTime": {
     "end_time": "2022-02-05T03:04:26.605459Z",
     "start_time": "2022-02-05T03:04:26.458947Z"
    }
   },
   "source": [
    "![evaluation](./data/eval.png)"
   ]
  },
  {
   "cell_type": "markdown",
   "metadata": {},
   "source": [
    "우리는 직관적이고 이상치에 덜 민감한 MAE를 활용하겠습니다."
   ]
  },
  {
   "cell_type": "markdown",
   "metadata": {},
   "source": [
    "수식             |그래프                 |\n",
    ":------------------:|:-----------------------:|\n",
    "![inner](./data/Evaluation_Metric2.jpg)|![outer](./data/tqnei6J.jpg)|"
   ]
  },
  {
   "cell_type": "markdown",
   "metadata": {},
   "source": [
    "## 6-1.  회귀분석 Linear Regression"
   ]
  },
  {
   "cell_type": "markdown",
   "metadata": {},
   "source": [
    "* **선형 회귀(Linear Regression)**또는 **최소제곱법(Ordinary Least Squares)**은 가장 간단한 회귀 분석을 위한 선형 모델\n",
    "* 선형 회귀는 모델의 예측과 정답 사이의 **평균제곱오차(Mean Squared Error)**를 최소화 하는 학습 파라미터 $w$를 찾음\n",
    "* 평균제곱오차는 아래와 같이 정의\n",
    "\n",
    "\\begin{equation}\n",
    "MSE = \\frac{1}{N} \\sum_{i=1}^{N}(y_i - \\hat{y}_i)^2\n",
    "\\end{equation}\n",
    "\n",
    "  + $y$: 정답\n",
    "  + $\\hat{y}$: 예측 값을 의미\n",
    "\n",
    "### 선형 회귀 모델에서 사용하는 다양한 오류 측정 방법을 언제 쓸까요?\n",
    "  + MAE(Mean Absolute Error) : 절대값을 취하기 때문에 직관적일 때 쓰입니다. 이상치에 덜 민감하고 데이터 특성을 잘 나타냄. (Robust)데이터의 scale에 따라서 값이 다른 단점. \n",
    "  + MAPE(Mean Absolute Percentage Error) : 절대값. 직관적. 이상치 덜 민감. 데이터 편차가 클때 정확. 0근처 값에서는 사용하기 어려움\n",
    "  +  MPE (Mean Percentage Error): MAPE에서 절대값을 제외한 지표. - 모델이 underperformance(+) 인지 overperformance(-) 인지 판단\n",
    "  + MSE(Mean Squared Error) : 오차에 제곱을 취하기 때문에 이상치에 민감합니다. \n",
    "  + RMSLE(Root Mean Square Logarithmic Error) : 제곱형태지만 이상치가 있어도 변동폭이 크지 않음. RMSE와 달리 RMSLE는 예측값과 실제값의 상대적 Error를 측정. Under Estimation에 큰 패널티를 부여한다. 즉, 예측값이 실제값보다 작을 때 패널티 부여.\n",
    "  + R2 Score(Coefficient of Determination, 결정계수)"
   ]
  },
  {
   "cell_type": "markdown",
   "metadata": {
    "ExecuteTime": {
     "end_time": "2022-03-22T07:21:41.700807Z",
     "start_time": "2022-03-22T07:21:41.689318Z"
    }
   },
   "source": [
    "참고로 분류모델에서는 confusion matrix 개념을 알아야 합니다.\n",
    "Accuracy(정확도), Precision(정밀도), Recall(재현율), F1 Score 등"
   ]
  },
  {
   "cell_type": "code",
   "execution_count": 28,
   "metadata": {
    "ExecuteTime": {
     "end_time": "2024-01-28T13:49:19.525154Z",
     "start_time": "2024-01-28T13:49:19.294048Z"
    }
   },
   "outputs": [
    {
     "name": "stdout",
     "output_type": "stream",
     "text": [
      "valid MAE: 1819.616\n"
     ]
    }
   ],
   "source": [
    "# 회귀모델 학습\n",
    "from sklearn.linear_model import LinearRegression\n",
    "\n",
    "#np.float` was a deprecated alias for the builtin `float`.\n",
    "lr = LinearRegression() #1. 생성\n",
    "lr.fit(train_X_norm, train_y) #2. 학습\n",
    "\n",
    "# 예측값 생성\n",
    "predicts = lr.predict(valid_X_norm) #3. 예측\n",
    "\n",
    "# 오차계산\n",
    "from sklearn.metrics import mean_absolute_error\n",
    "\n",
    "valid_MAE = mean_absolute_error(valid_y, predicts)\n",
    "print(f\"valid MAE: {valid_MAE:.3f}\")"
   ]
  },
  {
   "cell_type": "code",
   "execution_count": 29,
   "metadata": {
    "ExecuteTime": {
     "end_time": "2024-01-28T13:49:19.548922Z",
     "start_time": "2024-01-28T13:49:19.525154Z"
    }
   },
   "outputs": [
    {
     "data": {
      "text/plain": [
       "array([ 56965.61165836,  89395.62243766,  77156.32974205,  61296.12163004,\n",
       "       102387.9780222 ,  96057.02427505,  61680.74188926,  63653.57710432,\n",
       "        70169.45141387])"
      ]
     },
     "execution_count": 29,
     "metadata": {},
     "output_type": "execute_result"
    }
   ],
   "source": [
    "predicts"
   ]
  },
  {
   "cell_type": "code",
   "execution_count": 30,
   "metadata": {
    "ExecuteTime": {
     "end_time": "2024-01-28T13:49:19.564707Z",
     "start_time": "2024-01-28T13:49:19.548922Z"
    }
   },
   "outputs": [
    {
     "name": "stdout",
     "output_type": "stream",
     "text": [
      "1.24.4\n"
     ]
    }
   ],
   "source": [
    "print(np.__version__)"
   ]
  },
  {
   "cell_type": "code",
   "execution_count": 31,
   "metadata": {
    "ExecuteTime": {
     "end_time": "2024-01-28T13:49:19.580219Z",
     "start_time": "2024-01-28T13:49:19.564707Z"
    }
   },
   "outputs": [],
   "source": [
    "# !pip install --user numpy==1.21.3"
   ]
  },
  {
   "cell_type": "markdown",
   "metadata": {
    "ExecuteTime": {
     "end_time": "2021-08-27T05:17:41.185083Z",
     "start_time": "2021-08-27T05:17:41.173540Z"
    }
   },
   "source": [
    "y = ax + b 에서 계수 값인 a를  coefficient, b값을 절편 inercept 값이라고 합니다."
   ]
  },
  {
   "cell_type": "code",
   "execution_count": 32,
   "metadata": {
    "ExecuteTime": {
     "end_time": "2024-01-28T13:49:19.596047Z",
     "start_time": "2024-01-28T13:49:19.583012Z"
    }
   },
   "outputs": [
    {
     "data": {
      "text/html": [
       "<div>\n",
       "<style scoped>\n",
       "    .dataframe tbody tr th:only-of-type {\n",
       "        vertical-align: middle;\n",
       "    }\n",
       "\n",
       "    .dataframe tbody tr th {\n",
       "        vertical-align: top;\n",
       "    }\n",
       "\n",
       "    .dataframe thead th {\n",
       "        text-align: right;\n",
       "    }\n",
       "</style>\n",
       "<table border=\"1\" class=\"dataframe\">\n",
       "  <thead>\n",
       "    <tr style=\"text-align: right;\">\n",
       "      <th></th>\n",
       "      <th>lr_coef</th>\n",
       "    </tr>\n",
       "  </thead>\n",
       "  <tbody>\n",
       "    <tr>\n",
       "      <th>강남구_매매지수</th>\n",
       "      <td>39061.326642</td>\n",
       "    </tr>\n",
       "    <tr>\n",
       "      <th>WM2NS</th>\n",
       "      <td>16130.655250</td>\n",
       "    </tr>\n",
       "    <tr>\n",
       "      <th>CSUSHPISA</th>\n",
       "      <td>5734.383747</td>\n",
       "    </tr>\n",
       "    <tr>\n",
       "      <th>DFF</th>\n",
       "      <td>4381.729309</td>\n",
       "    </tr>\n",
       "    <tr>\n",
       "      <th>USSTHPI</th>\n",
       "      <td>2981.529738</td>\n",
       "    </tr>\n",
       "    <tr>\n",
       "      <th>ICSA</th>\n",
       "      <td>1986.625753</td>\n",
       "    </tr>\n",
       "    <tr>\n",
       "      <th>CORESTICKM159SFRBATL</th>\n",
       "      <td>1127.521429</td>\n",
       "    </tr>\n",
       "    <tr>\n",
       "      <th>HSN1F</th>\n",
       "      <td>927.163196</td>\n",
       "    </tr>\n",
       "    <tr>\n",
       "      <th>서울_인허가물량</th>\n",
       "      <td>-49.090712</td>\n",
       "    </tr>\n",
       "    <tr>\n",
       "      <th>서울_분양물량</th>\n",
       "      <td>-98.354439</td>\n",
       "    </tr>\n",
       "    <tr>\n",
       "      <th>NASDAQCOM</th>\n",
       "      <td>-1953.289559</td>\n",
       "    </tr>\n",
       "    <tr>\n",
       "      <th>GDP</th>\n",
       "      <td>-9017.759853</td>\n",
       "    </tr>\n",
       "    <tr>\n",
       "      <th>강남구_전세지수</th>\n",
       "      <td>-10515.509089</td>\n",
       "    </tr>\n",
       "  </tbody>\n",
       "</table>\n",
       "</div>"
      ],
      "text/plain": [
       "                           lr_coef\n",
       "강남구_매매지수              39061.326642\n",
       "WM2NS                 16130.655250\n",
       "CSUSHPISA              5734.383747\n",
       "DFF                    4381.729309\n",
       "USSTHPI                2981.529738\n",
       "ICSA                   1986.625753\n",
       "CORESTICKM159SFRBATL   1127.521429\n",
       "HSN1F                   927.163196\n",
       "서울_인허가물량                -49.090712\n",
       "서울_분양물량                 -98.354439\n",
       "NASDAQCOM             -1953.289559\n",
       "GDP                   -9017.759853\n",
       "강남구_전세지수             -10515.509089"
      ]
     },
     "execution_count": 32,
     "metadata": {},
     "output_type": "execute_result"
    }
   ],
   "source": [
    "lr_coef_df = pd.DataFrame(lr.coef_, index=X.columns, columns=[\"lr_coef\"])\n",
    "lr_coef_df.sort_values(ascending=False, by='lr_coef')"
   ]
  },
  {
   "cell_type": "code",
   "execution_count": 33,
   "metadata": {
    "ExecuteTime": {
     "end_time": "2024-01-28T13:49:19.612135Z",
     "start_time": "2024-01-28T13:49:19.596596Z"
    }
   },
   "outputs": [
    {
     "name": "stdout",
     "output_type": "stream",
     "text": [
      "예측모델 정확도는 98.32% 입니다.\n"
     ]
    }
   ],
   "source": [
    "# 모델 정확도 계산\n",
    "accuracy = lr.score(valid_X_norm, valid_y)\n",
    "print(\"예측모델 정확도는 {:.2f}% 입니다.\".format(float(accuracy*100)))"
   ]
  },
  {
   "cell_type": "code",
   "execution_count": 34,
   "metadata": {
    "ExecuteTime": {
     "end_time": "2024-01-28T13:49:19.627864Z",
     "start_time": "2024-01-28T13:49:19.612135Z"
    }
   },
   "outputs": [
    {
     "data": {
      "text/plain": [
       "0.9831939929104325"
      ]
     },
     "execution_count": 34,
     "metadata": {},
     "output_type": "execute_result"
    }
   ],
   "source": [
    "accuracy"
   ]
  },
  {
   "cell_type": "code",
   "execution_count": 35,
   "metadata": {
    "ExecuteTime": {
     "end_time": "2024-01-28T13:49:19.643531Z",
     "start_time": "2024-01-28T13:49:19.627864Z"
    }
   },
   "outputs": [],
   "source": [
    "# 파이썬 문자열 formatting 참고\n",
    "# https://m.blog.naver.com/PostView.naver?isHttpsRedirect=true&blogId=pgh7092&logNo=221103140268"
   ]
  },
  {
   "cell_type": "markdown",
   "metadata": {},
   "source": [
    "### 실제값과 모델이 예측한 값을 비교"
   ]
  },
  {
   "cell_type": "code",
   "execution_count": 36,
   "metadata": {
    "ExecuteTime": {
     "end_time": "2024-01-28T13:49:20.395645Z",
     "start_time": "2024-01-28T13:49:19.643531Z"
    }
   },
   "outputs": [
    {
     "data": {
      "text/plain": [
       "Text(0.5, 1.0, '실제값 vs 예측값 : $Y$ vs $\\\\hat{Y}$')"
      ]
     },
     "execution_count": 36,
     "metadata": {},
     "output_type": "execute_result"
    },
    {
     "data": {
      "image/png": "[encoded data removed]",
      "text/plain": [
       "<Figure size 468x360 with 1 Axes>"
      ]
     },
     "metadata": {
      "needs_background": "light"
     },
     "output_type": "display_data"
    }
   ],
   "source": [
    "import matplotlib.pyplot as plt\n",
    "%matplotlib inline\n",
    "\n",
    "# 한글폰트 설정\n",
    "import matplotlib.font_manager as fm\n",
    "path = 'C:\\\\Windows\\\\Fonts\\\\NanumGothic.ttf'\n",
    "font_name = fm.FontProperties(fname=path).get_name()\n",
    "plt.rc('font', family=font_name)\n",
    "\n",
    "# 플롯 사이즈 설정\n",
    "plt.figure(figsize=(6.5, 5))\n",
    "\n",
    "Y_pred = lr.predict(valid_X_norm)\n",
    "\n",
    "plt.scatter(valid_y, Y_pred, color='r')\n",
    "plt.plot(valid_y, valid_y)\n",
    "\n",
    "plt.xlabel(\"실제 매매가: Y\")\n",
    "plt.ylabel(\"모델이 예측한 매매가 : $\\hat{Y}$\")\n",
    "plt.title(\"실제값 vs 예측값 : $Y$ vs $\\hat{Y}$\")"
   ]
  },
  {
   "cell_type": "code",
   "execution_count": 37,
   "metadata": {
    "ExecuteTime": {
     "end_time": "2024-01-28T13:49:20.411953Z",
     "start_time": "2024-01-28T13:49:20.395645Z"
    }
   },
   "outputs": [
    {
     "name": "stdout",
     "output_type": "stream",
     "text": [
      "train MAE: 530.917\n",
      "valid MAE: 1819.616\n"
     ]
    }
   ],
   "source": [
    "from sklearn.metrics import mean_absolute_error\n",
    "\n",
    "train_MAE = mean_absolute_error(train_y, lr.predict(train_X_norm))\n",
    "valid_MAE = mean_absolute_error(valid_y, lr.predict(valid_X_norm))\n",
    "\n",
    "print(f\"train MAE: {train_MAE:.3f}\")\n",
    "print(f\"valid MAE: {valid_MAE:.3f}\")"
   ]
  },
  {
   "cell_type": "code",
   "execution_count": 38,
   "metadata": {
    "ExecuteTime": {
     "end_time": "2024-01-28T13:49:20.974808Z",
     "start_time": "2024-01-28T13:49:20.414257Z"
    }
   },
   "outputs": [
    {
     "data": {
      "image/png": "[encoded data removed]",
      "text/plain": [
       "<Figure size 1008x360 with 3 Axes>"
      ]
     },
     "metadata": {},
     "output_type": "display_data"
    }
   ],
   "source": [
    "import numpy as np\n",
    "import matplotlib.pyplot as plt\n",
    "from sklearn.pipeline import Pipeline\n",
    "from sklearn.preprocessing import PolynomialFeatures\n",
    "from sklearn.linear_model import LinearRegression\n",
    "from sklearn.model_selection import cross_val_score\n",
    "\n",
    "\n",
    "def true_fun(X):\n",
    "    return np.cos(1.5 * np.pi * X)\n",
    "\n",
    "\n",
    "np.random.seed(0)\n",
    "\n",
    "n_samples = 30\n",
    "degrees = [1, 4, 15]\n",
    "\n",
    "X = np.sort(np.random.rand(n_samples))\n",
    "y = true_fun(X) + np.random.randn(n_samples) * 0.1\n",
    "\n",
    "plt.figure(figsize=(14, 5))\n",
    "for i in range(len(degrees)):\n",
    "    ax = plt.subplot(1, len(degrees), i + 1)\n",
    "    plt.setp(ax, xticks=(), yticks=())\n",
    "\n",
    "    polynomial_features = PolynomialFeatures(degree=degrees[i], include_bias=False)\n",
    "    linear_regression = LinearRegression()\n",
    "    pipeline = Pipeline(\n",
    "        [\n",
    "            (\"polynomial_features\", polynomial_features),\n",
    "            (\"linear_regression\", linear_regression),\n",
    "        ]\n",
    "    )\n",
    "    pipeline.fit(X[:, np.newaxis], y)\n",
    "\n",
    "    # Evaluate the models using crossvalidation\n",
    "    scores = cross_val_score(\n",
    "        pipeline, X[:, np.newaxis], y, scoring=\"neg_mean_squared_error\", cv=10\n",
    "    )\n",
    "\n",
    "    X_test = np.linspace(0, 1, 100)\n",
    "    plt.plot(X_test, pipeline.predict(X_test[:, np.newaxis]), label=\"Model\")\n",
    "    plt.plot(X_test, true_fun(X_test), label=\"True function\")\n",
    "    plt.scatter(X, y, edgecolor=\"b\", s=20, label=\"Samples\")\n",
    "    plt.xlabel(\"x\")\n",
    "    plt.ylabel(\"y\")\n",
    "    plt.xlim((0, 1))\n",
    "    plt.ylim((-2, 2))\n",
    "    plt.legend(loc=\"best\")\n",
    "    plt.title(\n",
    "        \"Degree {}\\nMSE = {:.2e}(+/- {:.2e})\".format(\n",
    "            degrees[i], -scores.mean(), scores.std()\n",
    "        )\n",
    "    )\n",
    "plt.show()"
   ]
  },
  {
   "cell_type": "markdown",
   "metadata": {},
   "source": [
    "## LR vs. Ridge vs. Lasso"
   ]
  },
  {
   "cell_type": "markdown",
   "metadata": {
    "ExecuteTime": {
     "end_time": "2021-08-27T05:21:16.005573Z",
     "start_time": "2021-08-27T05:21:15.978654Z"
    }
   },
   "source": [
    "Resgression 모델에는 크게 LASSO와 Ridge가 있습니다.<br>\n",
    "오차를 계산하는 방식에 따라 L1 Norm 과 L2 Norm 방식을 사용하기 때문입니다.<br>\n",
    "쉽게 L1 Norm는 예측된 y값과 실제 y값의 차이에 절대값 개념이고, L2 Norm 은 오차에 제곱을 한 값입니다."
   ]
  },
  {
   "cell_type": "markdown",
   "metadata": {},
   "source": [
    "## 1) 라쏘 회귀(Lasso Regression)\n",
    "\n",
    "* 선형 회귀에 규제를 적용한 또 다른 모델로 라쏘 회귀가 있음\n",
    "* 라쏘 회귀는 릿지 회귀와 비슷하게 가중치를 0에 가깝게 만들지만, 조금 다른 방식을 사용\n",
    "\n",
    "* 라쏘 회귀에서는 다음과 같은 함수를 최소화 하는 파라미터 $w$를 찾음\n",
    "\n",
    "\\begin{equation}\n",
    "LassoMSE = \\frac{1}{N} \\sum_{i=1}^{N} (y_i - \\hat{y}_i)^2 + \\alpha \\sum_{i=1}^{p} |w_i|\n",
    "\\end{equation}\n",
    "\n",
    "* 라쏘 회귀도 매개변수인 $\\alpha$ 값을 통해 규제의 강도 조절 가능"
   ]
  },
  {
   "cell_type": "code",
   "execution_count": 39,
   "metadata": {
    "ExecuteTime": {
     "end_time": "2024-01-28T13:49:20.990137Z",
     "start_time": "2024-01-28T13:49:20.974808Z"
    }
   },
   "outputs": [],
   "source": [
    "from sklearn.linear_model import Lasso"
   ]
  },
  {
   "cell_type": "code",
   "execution_count": 40,
   "metadata": {
    "ExecuteTime": {
     "end_time": "2024-01-28T13:49:21.021547Z",
     "start_time": "2024-01-28T13:49:20.992232Z"
    }
   },
   "outputs": [
    {
     "name": "stdout",
     "output_type": "stream",
     "text": [
      "train: 557.757\n",
      "test: 1664.763\n"
     ]
    }
   ],
   "source": [
    "lasso = Lasso(alpha=1)\n",
    "lasso.fit(train_X_norm, train_y)\n",
    "\n",
    "train_rmse = metrics.mean_absolute_error(train_y, lasso.predict(train_X_norm))\n",
    "valid_rmse = metrics.mean_absolute_error(valid_y, lasso.predict(valid_X_norm))\n",
    "\n",
    "print(f\"train: {train_rmse:.3f}\")\n",
    "print(f\"test: {valid_rmse:.3f}\")"
   ]
  },
  {
   "cell_type": "markdown",
   "metadata": {},
   "source": [
    "## 2) 릿지 회귀(Ridge Regression)\n",
    "\n",
    "* 릿지 회귀는 선형 회귀를 개선한 선형 모델\n",
    "* 릿지 회귀는 선형 회귀와 비슷하지만, 가중치의 절대값을 최대한 작게 만든다는 것이 다름\n",
    "* 이러한 방법은 각각의 특성(feature)이 출력 값에 주는 영향을 최소한으로 만들도록 규제(regularization)를 거는 것\n",
    "* 규제를 사용하면 다중공선성(multicollinearity) 문제를 방지하기 때문에 모델의 과대적합을 막을 수 있게 됨\n",
    "* 다중공선성 문제는 두 특성이 일치에 가까울 정도로 관련성(상관관계)이 높을 경우 발생\n",
    "* 릿지 회귀는 다음과 같은 함수를 최소화 하는 파라미터 $w$를 찾음\n",
    "\n",
    "\\begin{equation}\n",
    "RidgeMSE = \\frac{1}{N} \\sum_{i=1}^{N}(y_i - \\hat{y}_i)^2 + \\alpha \\sum_{i=1}^{p} w_i^2\n",
    "\\end{equation}\n",
    "\n",
    "  + $\\alpha$: 사용자가 지정하는 매개변수\n",
    "  * $\\alpha$가 크면 규제의 효과가 커지고, $\\alpha$가 작으면 규제의 효과가 작아짐"
   ]
  },
  {
   "cell_type": "code",
   "execution_count": 41,
   "metadata": {
    "ExecuteTime": {
     "end_time": "2024-01-28T13:49:21.037825Z",
     "start_time": "2024-01-28T13:49:21.021547Z"
    }
   },
   "outputs": [],
   "source": [
    "from sklearn.linear_model import Ridge"
   ]
  },
  {
   "cell_type": "code",
   "execution_count": 42,
   "metadata": {
    "ExecuteTime": {
     "end_time": "2024-01-28T13:49:21.070087Z",
     "start_time": "2024-01-28T13:49:21.037825Z"
    }
   },
   "outputs": [
    {
     "name": "stdout",
     "output_type": "stream",
     "text": [
      "train: 1411.945\n",
      "test: 2539.096\n"
     ]
    }
   ],
   "source": [
    "ridge = Ridge(alpha=1)\n",
    "ridge.fit(train_X_norm, train_y)\n",
    "\n",
    "train_MAE = metrics.mean_absolute_error(train_y, ridge.predict(train_X_norm))\n",
    "valid_MAE = metrics.mean_absolute_error(valid_y, ridge.predict(valid_X_norm))\n",
    "\n",
    "print(f\"train: {train_MAE:.3f}\")\n",
    "print(f\"test: {valid_MAE:.3f}\")"
   ]
  },
  {
   "cell_type": "markdown",
   "metadata": {},
   "source": [
    "## 3) Elastic-Net\n",
    "\n",
    "* 신축망은 릿지 회귀와 라쏘 회귀, 두 모델의 모든 규제를 사용하는 선형 모델\n",
    "* 두 모델의 장점을 모두 갖고 있기 때문에 좋은 성능을 보임\n",
    "* 데이터 특성이 많거나 서로 상관 관계가 높은 특성이 존재 할 때 위의 두 모델보다 좋은 성능을 보여 줌\n",
    "\n",
    "* 신축망은 다음과 같은 함수를 최소화 하는 파라미터 $w$를 찾음\n",
    "\n",
    "\\begin{equation}\n",
    "ElasticMSE = \\frac{1}{N} \\sum_{i=1}^{N} (y_i - \\hat{y}_i) + \\alpha \\rho \\sum_{i=1}^{p} |w_i| + \\alpha (1 - \\rho) \\sum_{i=1}^{p} w_i^2\n",
    "\\end{equation}\n",
    "\n",
    "  + $\\alpha$: 규제의 강도를 조절하는 매개변수\n",
    "  + $\\rho$: 라쏘 규제와 릿지 규제 사이의 가중치를 조절하는 매개변수"
   ]
  },
  {
   "cell_type": "markdown",
   "metadata": {},
   "source": [
    "## 6-2. 랜덤포레스트(Random Forest)"
   ]
  },
  {
   "cell_type": "markdown",
   "metadata": {},
   "source": [
    "앙상블 학습의 3가지 대표 방법론 : 1. 배깅 2. 부스팅 3. 스태킹   \n",
    "랜덤 포레스트 모델은 배깅에 속합니다."
   ]
  },
  {
   "cell_type": "markdown",
   "metadata": {},
   "source": [
    "![evaluation](./data/ensemble-methods.png)"
   ]
  },
  {
   "cell_type": "markdown",
   "metadata": {},
   "source": [
    "### ① 배깅(Bagging)이란? \n",
    "  - **B**ootstrap **Agg**regat**ing** 의 약자\n",
    "  - 전체 데이터에서 부스트랩핑(Bootstrapping) 방식으로 샘플링한 데이터를 학습합니다.  \n",
    "  - 부스트래핑은 전체 데이터에서 샘플링할 때, 데이터의 중복을 허용하는 방식을 말합니다.\n",
    "  - 예를 들어 공을 주머니에서 꺼낸 후 확인하고, 다시 넣고 뽑기(복원추출)"
   ]
  },
  {
   "cell_type": "markdown",
   "metadata": {},
   "source": [
    "![evaluation](./data/bagging.png)"
   ]
  },
  {
   "cell_type": "markdown",
   "metadata": {},
   "source": [
    "![evaluation](./data/bagging_2.png)"
   ]
  },
  {
   "cell_type": "markdown",
   "metadata": {
    "ExecuteTime": {
     "end_time": "2022-03-22T05:07:33.609310Z",
     "start_time": "2022-03-22T05:07:33.594815Z"
    }
   },
   "source": [
    "### ② 부스팅  \n",
    "  - 배깅이 병렬로 Parallel 하게 학습한다면, Boosting은 개별모델의 예측결과가 다음 데이터에 가중치로 부여 sequencial하게 영향.  \n",
    "  - 오답에는 높은 가중치를, 정답에는 낮은 가중치를 부여합니다. 과적합 이슈  \n",
    "  - Boosting 기법을 활용한 대표적인 알고리즘은 위에서 언급한 XGBoost와 AdaBoost, GradientBoost 등 모델이 있습니다."
   ]
  },
  {
   "cell_type": "markdown",
   "metadata": {
    "ExecuteTime": {
     "end_time": "2022-03-22T05:13:22.201315Z",
     "start_time": "2022-03-22T05:13:22.022063Z"
    }
   },
   "source": [
    "![Boosting](./data/boosting.png)"
   ]
  },
  {
   "cell_type": "markdown",
   "metadata": {},
   "source": [
    "### ③ 스태킹\n",
    "  - 개별모델의 예측결과를 다시 train data로 사용하여 학습하는 것. 과적합 이슈\n",
    "  - Stacking 방법의 경우 Base Learner들이 동일한 데이터 원본 데이터를 가지고 그대로 학습을 진행했기 때문에 overfitting 문제가 발생  \n",
    "  - Bagging과 Boosting에서는 bootstrap(데이터를 random sampling) 과정을 통해 overfitting을 효과적으로 방지한 것과는 대조적\n",
    "  - 따라서 Stacking 에서는 크로스 벨리데이션(Cross Validation)을 통해 데이터를 섞어주는 과정을 필수로 추가합니다."
   ]
  },
  {
   "cell_type": "markdown",
   "metadata": {},
   "source": [
    "![Boosting](./data/stacking.png)"
   ]
  },
  {
   "cell_type": "markdown",
   "metadata": {},
   "source": [
    "의사결정나무             |랜덤포레스트                 |\n",
    ":------------------:|:-----------------------:|\n",
    "![inner](./data/dt.png)|![outer](./data/rf.png)|"
   ]
  },
  {
   "cell_type": "markdown",
   "metadata": {},
   "source": [
    "### 랜덤포레스트 모델 튜닝을 위한 하이퍼 파라미터"
   ]
  },
  {
   "cell_type": "markdown",
   "metadata": {},
   "source": [
    "n_estimators             |min_samples_split                |min_samples_leaf|max_features|max_depth|max_leaf_nodes|\n",
    ":------------------:|:-----------------------:|:-----------------------:|:-----------------------:|:-----------------------:|:-----------------------:|\n",
    "나무 그루 수             |분할이 가능한 최소 샘플수               |최소 샘플수|최대 변수 갯수|최대깊이|리프노드 최대갯수|\n",
    "Default = 10. 무작정 트리 갯수를 늘리면 성능 좋아지는 것 대비 시간이 걸릴 수 있음|- 노드를 분할하기 위한 최소한의 샘플 데이터수→ 과적합을 제어하는데 사용 <br>- Default = 2 → 작게 설정할 수록 분할 노드가 많아져 과적합 가능성 증가| 리프노드가 되기 위해 필요한 최소한의 샘플 데이터수<br>- min_samples_split과 함께 과적합 제어 용도<br>- 불균형 데이터의 경우 특정 클래스의 데이터가 극도로 작을 수 있으므로 작게 설정 필요<br>-min_samples_split과 둘 중 하나만 설정|- 최적의 분할을 위해 고려할 최대 feature 개수<br>- Default = 'auto' (결정트리에서는 default가 none이었음)<br>- int형으로 지정 →피처 갯수 / float형으로 지정 →비중<br>- sqrt 또는 auto : 전체 피처 중 √(피처개수) 만큼 선정<br>- log : 전체 피처 중 log2(전체 피처 개수) 만큼 선정|- 트리의 최대 깊이<br>- default = None→ 완벽하게 클래스 값이 결정될 때 까지 분할 또는 데이터 개수가 min_samples_split보다 작아질 때까지 분할<br>- 깊이가 깊어지면 과적합될 수 있으므로 적절히 제어 필요<br> -나무의 높이|\t리프노드의 최대 개수<br> - 나무의 너비|"
   ]
  },
  {
   "cell_type": "code",
   "execution_count": 43,
   "metadata": {
    "ExecuteTime": {
     "end_time": "2024-01-28T13:49:22.055561Z",
     "start_time": "2024-01-28T13:49:21.070087Z"
    }
   },
   "outputs": [
    {
     "name": "stdout",
     "output_type": "stream",
     "text": [
      "valid MAE: 2851.834\n"
     ]
    }
   ],
   "source": [
    "# 필수 라이브러리\n",
    "import pandas as pd\n",
    "import numpy as np\n",
    "import random\n",
    "\n",
    "# 데이터 전처리\n",
    "from sklearn import datasets\n",
    "train = df[df.index < pd.to_datetime('2019-12-31')]\n",
    "test = df[df.index > pd.to_datetime('2019-12-31')]\n",
    "\n",
    "# 2. 변수선택(독립변수, 목적변수)\n",
    "features = ['강남구_매매지수', '강남구_전세지수', '서울_인허가물량', '서울_분양물량', 'DFF', 'NASDAQCOM',\n",
    "       'CSUSHPISA', 'CORESTICKM159SFRBATL', 'HSN1F', 'USSTHPI', 'GDP', 'WM2NS',\n",
    "       'ICSA']\n",
    "target = 'gangnam_price(만원)'\n",
    "            \n",
    "X = train[features]\n",
    "y = train[target]\n",
    "\n",
    "# 램덤 시드 고정\n",
    "SEED = 1\n",
    "random.seed(SEED)\n",
    "np.random.seed(SEED)\n",
    "\n",
    "# 데이터 전처리\n",
    "from sklearn.ensemble import RandomForestRegressor\n",
    "from sklearn import metrics\n",
    "from sklearn import preprocessing\n",
    "from sklearn.model_selection import train_test_split\n",
    "                                                      \n",
    "train_X, valid_X, train_y, valid_y = train_test_split(X, y, test_size=0.2, random_state=1)\n",
    "\n",
    "# 피처 스케일링 (트리계열 모델은 스케일링에 큰 영향을 받지는 않습니다.)\n",
    "scaler = preprocessing.MinMaxScaler()\n",
    "\n",
    "train_X_norm = scaler.fit_transform(train_X)\n",
    "valid_X_norm = scaler.fit_transform(valid_X)\n",
    "\n",
    "# 회귀모델 학습\n",
    "\n",
    "RF = RandomForestRegressor()    \n",
    "RF.fit(train_X_norm, train_y)\n",
    "\n",
    "# 예측값 생성\n",
    "predicts = RF.predict(valid_X_norm)\n",
    "\n",
    "# 오차계산\n",
    "from sklearn.metrics import mean_absolute_error\n",
    "\n",
    "valid_MAE = mean_absolute_error(valid_y, predicts)\n",
    "print(f\"valid MAE: {valid_MAE:.3f}\")\n",
    "\n",
    "test_X_norm = scaler.transform(test[features])\n",
    "final_predict = RF.predict(test_X_norm)"
   ]
  },
  {
   "cell_type": "markdown",
   "metadata": {},
   "source": [
    "## (별도) 6-3. 딥러닝(Deep Learning)\n",
    "구글에서 개발한 딥러닝 플랫폼 tensorflow를 사용하겠습니다.<br>\n",
    "먼저 텐서플로우 설치가 필요합니다."
   ]
  },
  {
   "cell_type": "markdown",
   "metadata": {
    "ExecuteTime": {
     "end_time": "2021-09-06T03:56:46.143222Z",
     "start_time": "2021-09-06T03:56:46.137159Z"
    }
   },
   "source": [
    "### 딥러닝 모델 설계\n",
    "\n",
    "* 과적합 방지 : Dropout<br>\n",
    "train data set 에 지나치게 과적합(overfit) 되는 것을 방지하기 위해서 Dropout을 활용합니다.<br>\n",
    "과적합 방지 방법은 Batch Normalization, Dropout 등이 있습니다. 개별적으로 더 공부해 보시기 바랍니다.\n",
    "\n",
    "* 참고서적 : 딥러닝을 위한 자연어처리 입문(웹북)\n",
    "https://wikidocs.net/61374"
   ]
  },
  {
   "cell_type": "markdown",
   "metadata": {},
   "source": [
    "* 딥러닝 모델 학습 시 몇 개의 노드를 제외하고 학습하는 방법\n",
    "* 랜덤하게 사용하지 않을 노드를 결정\n",
    "* 계산이 줄어드는 만큼 variance가 줄어들어 overfitting을 줄일 수 있음."
   ]
  },
  {
   "cell_type": "markdown",
   "metadata": {},
   "source": [
    "## 7. Grid Search\n",
    "Best Parameter와 모델을 찾는 코드입니다."
   ]
  },
  {
   "cell_type": "markdown",
   "metadata": {},
   "source": [
    "[sklearn.model_selection.GridSearchCV](https://scikit-learn.org/stable/modules/generated/sklearn.model_selection.GridSearchCV.html)"
   ]
  },
  {
   "cell_type": "markdown",
   "metadata": {
    "ExecuteTime": {
     "end_time": "2022-02-06T08:57:42.441375Z",
     "start_time": "2022-02-06T08:57:41.992206Z"
    }
   },
   "source": [
    "![evaluation](./data/gridsearch.png)"
   ]
  },
  {
   "cell_type": "markdown",
   "metadata": {
    "ExecuteTime": {
     "end_time": "2022-02-06T08:58:19.252450Z",
     "start_time": "2022-02-06T08:58:19.110554Z"
    }
   },
   "source": [
    "![evaluation](./data/gridsearch2.png)"
   ]
  },
  {
   "cell_type": "code",
   "execution_count": 44,
   "metadata": {
    "ExecuteTime": {
     "end_time": "2024-01-28T13:50:54.537845Z",
     "start_time": "2024-01-28T13:49:22.055822Z"
    }
   },
   "outputs": [
    {
     "name": "stdout",
     "output_type": "stream",
     "text": [
      "Fitting 10 folds for each of 96 candidates, totalling 960 fits\n"
     ]
    },
    {
     "data": {
      "text/plain": [
       "{'max_depth': 12,\n",
       " 'max_features': 'sqrt',\n",
       " 'min_samples_split': 0.01,\n",
       " 'n_estimators': 100}"
      ]
     },
     "execution_count": 44,
     "metadata": {},
     "output_type": "execute_result"
    }
   ],
   "source": [
    "from sklearn.model_selection import GridSearchCV\n",
    "\n",
    "param_grid = {\n",
    "    'n_estimators': [100, 150, 200, 250],\n",
    "    'max_depth': [None, 6, 9, 12],\n",
    "    'min_samples_split': [0.01, 0.05, 0.1],\n",
    "    'max_features': ['auto', 'sqrt'],\n",
    "}\n",
    "\n",
    "RF = RandomForestRegressor()\n",
    "\n",
    "from sklearn.model_selection import KFold\n",
    "\n",
    "kf = KFold(random_state=30,\n",
    "           n_splits=10,\n",
    "           shuffle=True,\n",
    "          )\n",
    "\n",
    "# define grid_search\n",
    "grid_search = GridSearchCV(estimator=RF, \n",
    "                           param_grid=param_grid, \n",
    "                           cv=kf, \n",
    "                           n_jobs=-1, \n",
    "                           verbose=2\n",
    "                          )\n",
    "\n",
    "# fit with (x_train, y_train)\n",
    "grid_search.fit(train_X_norm, train_y)\n",
    "\n",
    "grid_search.best_params_"
   ]
  },
  {
   "cell_type": "markdown",
   "metadata": {},
   "source": [
    "## 8. Cross Validation\n",
    "  - train set을 train set + validation set으로 분리한 뒤, validation set을 사용해 생성한 모델을 검증  \n",
    "  - k-fold 교차검증을 사용하는데 k는 상수값으로 통상 5~10으로 설정합니다.  \n",
    "  - k=5 라면, 훈련데이터를 5개로 나누고, 한번에 80%를 훈련에 20%를 검증에 사용합니다.  \n",
    "  - k=10 이라면, 훈련데이터를 10개로 나누고 한번에 90%를 훈련에, 10%를 검증에 사용합니다.   \n",
    "  - 많은 데이터는 보통 정확한 모델을 만들어 내지만 모델 k개를 만들어야하므로 대략 k배 느리게 됩니다."
   ]
  },
  {
   "cell_type": "markdown",
   "metadata": {},
   "source": [
    "[Cross-validation: evaluating estimator performance](https://scikit-learn.org/stable/modules/cross_validation.html)"
   ]
  },
  {
   "cell_type": "markdown",
   "metadata": {},
   "source": [
    "* 장점 : \n",
    "1. 모든 데이터 셋을 훈련에 활용할 수 있다.> 데이터가 부족할 경우 활용으로 정확도 향상(Underfitting 해결)\n",
    "2. 모든 데이터 셋을 평가에 활용할 수 있다.> 평가에 사용되는 데이터 편중을 막아 일반화된 모델 생성(Overfitting 과적합 방지)\n",
    "* 단점 : iteration 반복횟수가 많아져 모델의 훈련과 평가에 시간이 오래 걸린다."
   ]
  },
  {
   "cell_type": "markdown",
   "metadata": {},
   "source": [
    "![evaluation](./data/cv.png)"
   ]
  },
  {
   "cell_type": "code",
   "execution_count": 45,
   "metadata": {
    "ExecuteTime": {
     "end_time": "2024-01-28T13:50:54.568443Z",
     "start_time": "2024-01-28T13:50:54.539361Z"
    }
   },
   "outputs": [],
   "source": [
    "#위에서 찾은 best parameter 을 갖는 모델을 아래와 같이 생성해줄 수 있습니다."
   ]
  },
  {
   "cell_type": "code",
   "execution_count": 46,
   "metadata": {
    "ExecuteTime": {
     "end_time": "2024-01-28T13:50:54.574543Z",
     "start_time": "2024-01-28T13:50:54.570885Z"
    }
   },
   "outputs": [],
   "source": [
    "best_model = grid_search.best_estimator_"
   ]
  },
  {
   "cell_type": "code",
   "execution_count": null,
   "metadata": {
    "ExecuteTime": {
     "start_time": "2024-01-28T13:49:11.177Z"
    }
   },
   "outputs": [
    {
     "name": "stdout",
     "output_type": "stream",
     "text": [
      "Fitting 10 folds for each of 252 candidates, totalling 2520 fits\n"
     ]
    }
   ],
   "source": [
    "# 필수 라이브러리\n",
    "import pandas as pd\n",
    "import numpy as np\n",
    "import random\n",
    "\n",
    "# 데이터 전처리\n",
    "from sklearn import datasets\n",
    "train = df[df.index < pd.to_datetime('2019-12-31')]\n",
    "test = df[df.index > pd.to_datetime('2019-12-31')]\n",
    "\n",
    "\n",
    "# 2. 변수선택(독립변수, 목적변수)\n",
    "features = ['강남구_매매지수', '강남구_전세지수', '서울_인허가물량', '서울_분양물량', 'DFF', 'NASDAQCOM',\n",
    "       'CSUSHPISA', 'CORESTICKM159SFRBATL', 'HSN1F', 'USSTHPI', 'GDP', 'WM2NS',\n",
    "       'ICSA']\n",
    "target = 'gangnam_price(만원)'\n",
    "            \n",
    "            \n",
    "X = train[features]\n",
    "y = train[target]\n",
    "\n",
    "# 램덤 시드 고정\n",
    "SEED = 1\n",
    "random.seed(SEED)\n",
    "np.random.seed(SEED)\n",
    "\n",
    "\n",
    "# 데이터 분할\n",
    "from sklearn.ensemble import RandomForestRegressor\n",
    "from sklearn import metrics\n",
    "from sklearn import preprocessing\n",
    "from sklearn.model_selection import train_test_split\n",
    "                                                      \n",
    "train_X, valid_X, train_y, valid_y = train_test_split(X, y, test_size=0.2, random_state=1)\n",
    "\n",
    "# 피처 스케일링\n",
    "scaler = preprocessing.MinMaxScaler()\n",
    "\n",
    "train_X_norm = scaler.fit_transform(train_X)\n",
    "valid_X_norm = scaler.fit_transform(valid_X)\n",
    "test_X_norm = scaler.transform(test[features])\n",
    "\n",
    "\n",
    "# GridSearch\n",
    "from sklearn.model_selection import GridSearchCV\n",
    "param_grid = {\n",
    "    'n_estimators': [100, 150, 200, 250, 300, 350, 400],\n",
    "    'max_depth': [None, 6, 12, 24, 32, 64],\n",
    "    'min_samples_split': [0.01, 0.05, 0.1],\n",
    "    'max_features': ['auto', 'sqrt'],\n",
    "}\n",
    "\n",
    "RF = RandomForestRegressor()\n",
    "\n",
    "# Cross Validation\n",
    "from sklearn.model_selection import KFold\n",
    "kf = KFold(random_state=30,\n",
    "           n_splits=10,\n",
    "           shuffle=True,\n",
    "          )\n",
    "\n",
    "\n",
    "# define grid_search\n",
    "grid_search = GridSearchCV(estimator=RF, \n",
    "                           param_grid=param_grid, \n",
    "                           cv=kf, \n",
    "                           n_jobs=-1, \n",
    "                           verbose=2\n",
    "                          )\n",
    "\n",
    "grid_search.fit(train_X_norm, train_y)\n",
    "grid_search.best_params_\n",
    "\n",
    "# 베스트 모델 학습\n",
    "best_model.fit(train_X_norm, train_y)\n",
    "\n",
    "# 예측값 생성\n",
    "predicts = best_model.predict(valid_X_norm)\n",
    "\n",
    "# 오차계산\n",
    "from sklearn.metrics import mean_absolute_error\n",
    "\n",
    "valid_MAE = mean_absolute_error(valid_y, predicts)\n",
    "print(f\"valid MAE: {valid_MAE:.3f}\")\n",
    "\n",
    "# test_X_norm = scaler.transform(test[features])\n",
    "final_predict = best_model.predict(test_X_norm)\n"
   ]
  },
  {
   "cell_type": "code",
   "execution_count": null,
   "metadata": {
    "ExecuteTime": {
     "start_time": "2024-01-28T13:49:11.179Z"
    }
   },
   "outputs": [],
   "source": [
    "print(grid_search.best_params_)"
   ]
  },
  {
   "cell_type": "code",
   "execution_count": null,
   "metadata": {
    "ExecuteTime": {
     "start_time": "2024-01-28T13:49:11.181Z"
    }
   },
   "outputs": [],
   "source": [
    "import time\n",
    "import numpy as np\n",
    "\n",
    "start_time = time.time()\n",
    "importances = best_model.feature_importances_\n",
    "std = np.std([tree.feature_importances_ for tree in best_model.estimators_], axis=0)\n",
    "elapsed_time = time.time() - start_time\n",
    "\n",
    "print(f\"Elapsed time to compute the importances: {elapsed_time:.3f} seconds\")"
   ]
  },
  {
   "cell_type": "code",
   "execution_count": null,
   "metadata": {
    "ExecuteTime": {
     "start_time": "2024-01-28T13:49:11.183Z"
    }
   },
   "outputs": [],
   "source": [
    "import pandas as pd\n",
    "\n",
    "forest_importances = pd.Series(importances, index=features)\n",
    "\n",
    "fig, ax = plt.subplots()\n",
    "forest_importances.plot.bar(ax=ax) #yerr=std \n",
    "\n",
    "ax.set_title(\"Feature importances using MDI\")\n",
    "ax.set_ylabel(\"Mean decrease in impurity\")\n",
    "fig.tight_layout()"
   ]
  },
  {
   "cell_type": "markdown",
   "metadata": {},
   "source": [
    "## 변수 중요도(Variable Importnace)"
   ]
  },
  {
   "cell_type": "markdown",
   "metadata": {},
   "source": [
    "[Feature importances with a forest of trees](https://scikit-learn.org/stable/auto_examples/ensemble/plot_forest_importances.html)"
   ]
  },
  {
   "cell_type": "markdown",
   "metadata": {},
   "source": [
    "랜덤 포레스트는 블랙박스모형이기 때문에 종속변수와 독립변수의 설명력을 확보하기 어렵다는 단점.   \n",
    "따라서 변수 중요도(Variable Importance)를 통해 어떤 변수가 예측 성능에 중요한 역할을 하는지를 판단"
   ]
  },
  {
   "cell_type": "markdown",
   "metadata": {},
   "source": [
    "MDI Importance는 scikit-learn의 default로 내장되어 있는 가장 대표적인 변수 중요도\n",
    "각 변수가 split될 때 impurity 감소분의 평균을 중요도로 정의"
   ]
  },
  {
   "cell_type": "markdown",
   "metadata": {},
   "source": [
    "![evaluation](./data/mdi.png)"
   ]
  },
  {
   "cell_type": "markdown",
   "metadata": {},
   "source": [
    "* i(t) : t노드의 impurity (entropy, gini index, variance, ...)  \n",
    "* N(t) : t노드의 관측치 개수  \n",
    "각 노드의 관측치 개수를 고려하여 impurity 감소분이 계산되며, 값이 클수록 중요도가 높습니다.\n",
    "\n",
    "* 장점 : 빠르고, 직관적임  \n",
    "* 단점 : 연속형 변수와 high-cardinality 범주형 변수에 대해서는 편향됨."
   ]
  },
  {
   "cell_type": "markdown",
   "metadata": {
    "ExecuteTime": {
     "end_time": "2021-08-23T09:56:05.244624Z",
     "start_time": "2021-08-23T09:56:05.237848Z"
    }
   },
   "source": [
    "# grid search 참고자료\n",
    "https://statkclee.github.io/model/model-python-xgboost-hyper.html"
   ]
  },
  {
   "cell_type": "markdown",
   "metadata": {},
   "source": [
    "## R square 값이란?"
   ]
  },
  {
   "cell_type": "markdown",
   "metadata": {},
   "source": [
    "피어슨 상관 계수가 -1 ~ 1 사이의 값을 가지므로 R square 값은 0~1 사이의 값을 가지게 됩니다.  \n",
    "독립변수가 종속변수를 얼마나 많이 설명할 수 있는가?에 대한 설명력을 의미합니다."
   ]
  }
 ],
 "metadata": {
  "kernelspec": {
   "display_name": "Python 3",
   "language": "python",
   "name": "python3"
  },
  "language_info": {
   "codemirror_mode": {
    "name": "ipython",
    "version": 3
   },
   "file_extension": ".py",
   "mimetype": "text/x-python",
   "name": "python",
   "nbconvert_exporter": "python",
   "pygments_lexer": "ipython3",
   "version": "3.8.5"
  },
  "latex_envs": {
   "LaTeX_envs_menu_present": true,
   "autoclose": false,
   "autocomplete": true,
   "bibliofile": "biblio.bib",
   "cite_by": "apalike",
   "current_citInitial": 1,
   "eqLabelWithNumbers": true,
   "eqNumInitial": 1,
   "hotkeys": {
    "equation": "Ctrl-E",
    "itemize": "Ctrl-I"
   },
   "labels_anchors": false,
   "latex_user_defs": false,
   "report_style_numbering": false,
   "user_envs_cfg": false
  }
 },
 "nbformat": 4,
 "nbformat_minor": 5
}
