{
 "cells": [
  {
   "cell_type": "code",
   "execution_count": 11,
   "metadata": {
    "ExecuteTime": {
     "end_time": "2023-07-09T09:16:52.464350Z",
     "start_time": "2023-07-09T09:16:52.033923Z"
    }
   },
   "outputs": [],
   "source": [
    "from pandas import json_normalize\n",
    "import pandas as pd\n",
    "import requests\n",
    "import numpy as np\n",
    "import matplotlib.ticker as mticker\n",
    "import matplotlib.pyplot as plt"
   ]
  },
  {
   "cell_type": "code",
   "execution_count": 12,
   "metadata": {
    "ExecuteTime": {
     "end_time": "2023-07-09T09:16:52.504617Z",
     "start_time": "2023-07-09T09:16:52.489774Z"
    }
   },
   "outputs": [],
   "source": [
    "def get_data(url):\n",
    "\n",
    "    contents = requests.get(url)\n",
    "    data = contents.json()\n",
    "    df = pd.json_normalize(data)\n",
    "\n",
    "    return df"
   ]
  },
  {
   "cell_type": "code",
   "execution_count": 13,
   "metadata": {
    "ExecuteTime": {
     "end_time": "2023-07-09T09:16:53.000801Z",
     "start_time": "2023-07-09T09:16:52.969126Z"
    }
   },
   "outputs": [],
   "source": [
    "def permission_preprocessing(df):\n",
    "    df = df[['PRD_DE', 'C1_NM', 'DT']]\n",
    "#     df = df.pivot(\"PRD_DE\", \"C1_NM\", \"DT\")\n",
    "    df = df.pivot(index=\"PRD_DE\", columns= \"C1_NM\", values=\"DT\")\n",
    "\n",
    "    df[['전국', '수도권', '지방소계']]\n",
    "    df['수도권'] = pd.to_numeric(df['수도권'])\n",
    "    df['지방소계'] = pd.to_numeric(df['지방소계'])\n",
    "    df['수도권_월'] = np.where(df.index.str[-2:] == '01', df['수도권'], df['수도권'].diff()).astype(int)\n",
    "    df['지방권_월'] = np.where(df.index.str[-2:] == '01', df['지방소계'], df['지방소계'].diff()).astype(int)\n",
    "    df['연'] = df.index.str[:4]\n",
    "    df['월'] = df.index.str[-2:]\n",
    "\n",
    "    df.index = df['연'] + \"-\" + df['월']\n",
    "    df.index = pd.to_datetime(df.index)\n",
    "    df = df[['수도권_월','지방권_월']]\n",
    "    df = df.groupby(df.index.year).sum()\n",
    "    \n",
    "    return df"
   ]
  },
  {
   "cell_type": "code",
   "execution_count": 14,
   "metadata": {
    "ExecuteTime": {
     "end_time": "2023-07-09T09:16:53.499050Z",
     "start_time": "2023-07-09T09:16:53.478889Z"
    }
   },
   "outputs": [],
   "source": [
    "def permission__graph(df):\n",
    "    down =  df.loc[:,'수도권_월']# 수도권\n",
    "    top =  df.loc[:,'지방권_월'] # 지방권\n",
    "\n",
    "    plt.bar(df.index, down, color='firebrick',hatch=\"///\",edgecolor='white')#수도권\n",
    "    plt.bar(df.index, top, bottom=down, color='midnightblue', hatch=\".\",edgecolor='yellow') #지방권\n",
    "\n",
    "    y = down + top\n",
    "\n",
    "    plt.ylim(0, y.max()*1.1)\n",
    "    plt.gca().yaxis.set_major_formatter(mticker.FormatStrFormatter('%i')) #%i 는 int , %f 는 float, %.3f 백만호 : 0.001 백만호\n",
    "    plt.grid(True, axis='y', color='gray', alpha=0.5, linestyle='-')\n",
    "\n",
    "    plt.legend(['수도권', '지방권'])\n",
    "    plt.title('전국 주택건설 인허가 물량(2002~2023)', fontsize='20')\n",
    "    plt.xticks(df.index)\n",
    "    plt.figure(figsize=(20,5))\n",
    "    \n",
    "    return plt.show()"
   ]
  },
  {
   "cell_type": "code",
   "execution_count": 15,
   "metadata": {
    "ExecuteTime": {
     "end_time": "2023-07-09T09:16:53.919406Z",
     "start_time": "2023-07-09T09:16:53.889107Z"
    },
    "scrolled": true
   },
   "outputs": [],
   "source": [
    "def presale_preprocessing(url):\n",
    "    \n",
    "    contents = requests.get(url)\n",
    "    test_data =contents.json()\n",
    "    df = pd.json_normalize(test_data)\n",
    "\n",
    "    df = df[['PRD_DE', 'C1_NM', 'DT']]\n",
    "#     df = df.pivot(\"PRD_DE\", \"C1_NM\", \"DT\")\n",
    "    df = df.pivot(index=\"PRD_DE\", columns= \"C1_NM\", values=\"DT\")\n",
    "\n",
    "    df = df.astype(int)\n",
    "    \n",
    "    df['지방권'] = df['전국'] - df['수도권']\n",
    "    df = df.loc[:,['수도권', '지방권']]\n",
    "    df.drop(['201510', '201511', '201512'], inplace=True)\n",
    "    \n",
    "    df['연'] = df.index.str[:4]\n",
    "    df['월'] = df.index.str[-2:]    \n",
    "    df['시점']= df['연'] + \"-\" + df['월']\n",
    "    \n",
    "    df.index = df['시점']\n",
    "    df['시점'] = pd.to_datetime(df['시점'])    \n",
    "    df = df.groupby(['연']).sum(['수도권','지방권'])\n",
    "    \n",
    "    return df"
   ]
  },
  {
   "cell_type": "code",
   "execution_count": 16,
   "metadata": {
    "ExecuteTime": {
     "end_time": "2023-07-09T09:16:54.337556Z",
     "start_time": "2023-07-09T09:16:54.314937Z"
    }
   },
   "outputs": [],
   "source": [
    "def presale_graph(df_presale):\n",
    "    \n",
    "    down =  df_presale.iloc[:,0] #수도권\n",
    "    top =  df_presale.iloc[:,1] #지방권\n",
    "\n",
    "    plt.bar(df_presale.index, down, color='firebrick')#수도권\n",
    "    plt.bar(df_presale.index, top, bottom=down, color='midnightblue', hatch=\"..\",edgecolor='white') #지방권\n",
    "    \n",
    "    y = down + top\n",
    "    \n",
    "    plt.ylim(0, y.max()*1.1)\n",
    "    plt.gca().yaxis.set_major_formatter(mticker.FormatStrFormatter('%i')) #%i 는 int , %f 는 float, %.3f : 0.001\n",
    "    # gca() : get current axis 현재 Axes 객체를 반환\n",
    "\n",
    "    plt.grid(True, axis='y', color='gray', alpha=0.5, linestyle='-')\n",
    "\n",
    "    plt.legend(['수도권', '지방권'])\n",
    "    plt.title('전국 분양 물량(2016 ~ 2022)', fontsize='20')\n",
    "    plt.figure(figsize=(20,5))\n",
    "    \n",
    "    return plt.show()"
   ]
  }
 ],
 "metadata": {
  "kernelspec": {
   "display_name": "Python 3",
   "language": "python",
   "name": "python3"
  },
  "language_info": {
   "codemirror_mode": {
    "name": "ipython",
    "version": 3
   },
   "file_extension": ".py",
   "mimetype": "text/x-python",
   "name": "python",
   "nbconvert_exporter": "python",
   "pygments_lexer": "ipython3",
   "version": "3.8.5"
  }
 },
 "nbformat": 4,
 "nbformat_minor": 4
}
