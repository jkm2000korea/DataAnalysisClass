{
 "cells": [
  {
   "cell_type": "markdown",
   "metadata": {},
   "source": [
    "# <span style=\"color:royalblue\"> [1주차] 데이터 분석 시작하기</span> <img src=\"./data/logo.png\" style=\"width: 120px;\" align=\"right\">\n",
    "# 주택 매매가격 지수 데이터 분석 \n",
    "\n",
    "--- "
   ]
  },
  {
   "cell_type": "markdown",
   "metadata": {
    "ExecuteTime": {
     "end_time": "2021-09-30T12:15:26.561754Z",
     "start_time": "2021-09-30T12:15:26.538627Z"
    }
   },
   "source": [
    "<div style=\"text-align: right\"> Final Edition : 2024.07.12<br>\n",
    "    copyrightⓒ 2022 All rights reserved by Data Lover Pablo </div>"
   ]
  },
  {
   "cell_type": "markdown",
   "metadata": {
    "slideshow": {
     "slide_type": "slide"
    },
    "tags": []
   },
   "source": [
    "# 1. Jupyter Notebook 설치점검 및 살펴보기\n",
    "\n",
    "- [x] 간단한 메뉴 및 기능 소개  \n",
    "- [x] extension 설치  \n",
    "- [x] 단축키 : 상단에 키보드 모양 눌러보기  \n",
    "- [ ] 자주 쓰는 단축키 :     \n",
    "  * <span style=\"color:red\"> shift + enter(실행)</span>, \n",
    "  * esc(입력상태), \n",
    "  * a(above 위에 셀 삽입),\n",
    "  * b(below 아래 셀 삽입), \n",
    "  * dd(삭제), \n",
    "  * shift 누른상태에서 방향키(선택), \n",
    "  * m(마크다운으로 변경), \n",
    "  * y(코드로 변경), \n",
    "  * shift + m(셀 합치기)\n",
    " \n",
    "<span style=\"color:darkgray\"> ※ 단축키는 수업이 진행되면서 차근차근 하나씩 익히도록 하겠습니다. </span>"
   ]
  },
  {
   "cell_type": "markdown",
   "metadata": {
    "ExecuteTime": {
     "end_time": "2021-12-31T02:17:30.764559Z",
     "start_time": "2021-12-31T02:17:30.759597Z"
    }
   },
   "source": [
    "<img src=\"./data/cheetkey1.png\" width=\"500\" height=\"300\"><img src=\"./data/cheetkey2.png\" width=\"500\" height=\"200\">"
   ]
  },
  {
   "cell_type": "markdown",
   "metadata": {},
   "source": [
    "# 2. 모듈(module)과 패키지(package)\n",
    "\n",
    "* pyhthon 내장함수 : int(), abs() 등\n",
    "* 모듈(module)과 패키지(package) : import numpy as np (수학과 통계)  / import pandas as pd (데이터 분석)"
   ]
  },
  {
   "cell_type": "markdown",
   "metadata": {
    "ExecuteTime": {
     "end_time": "2021-10-02T13:36:30.150123Z",
     "start_time": "2021-10-02T13:36:30.126990Z"
    }
   },
   "source": [
    "|제목|내용|예|\n",
    "|------|---|---|\n",
    "|모듈(module)|함수(function)과 클래스(class; 객체)|from 모듈명 import 함수명 또는 클래스명|\n",
    "|패키지(package)|모듈을 디렉토리 구조로 묶어놓은 것|import numpy|"
   ]
  },
  {
   "cell_type": "markdown",
   "metadata": {},
   "source": [
    "- 1) 모듈(module) : 함수(function)과 클래스(class; 객체) 들의 집합  \n",
    "- 2) 패키지(package) : 모듈을 디렉토리 구조로 묶어놓은 것. 모듈의 집합  \n",
    "    \n",
    "    \n",
    "* 설치 !pip install Pandas 불러오기 import pandas as pd   \n",
    "    cf. R에서는 install.packages(\"ggplot2\") library(ggplot2)\n",
    "\n",
    "정리가 잘 되어있는 [블로그](https://thinkreen.github.io/python/py-FunctionModuleClass/)\n",
    "[서적](https://hongong.hanbit.co.kr/%ED%8C%8C%EC%9D%B4%EC%8D%AC-%EC%9A%A9%EC%96%B4-%EC%A0%95%EB%A6%AC-3%ED%83%84-%EB%AA%A8%EB%93%88-%ED%81%B4%EB%9E%98%EC%8A%A4/)"
   ]
  },
  {
   "cell_type": "markdown",
   "metadata": {},
   "source": [
    "![이름](./data/모듈과패키지.jpg)"
   ]
  },
  {
   "cell_type": "code",
   "execution_count": 1,
   "metadata": {
    "ExecuteTime": {
     "end_time": "2024-07-12T14:33:56.237696Z",
     "start_time": "2024-07-12T14:33:56.231558Z"
    }
   },
   "outputs": [],
   "source": [
    "# !pip install Pandas"
   ]
  },
  {
   "cell_type": "code",
   "execution_count": 2,
   "metadata": {
    "ExecuteTime": {
     "end_time": "2024-07-12T14:33:56.598435Z",
     "start_time": "2024-07-12T14:33:56.237696Z"
    }
   },
   "outputs": [],
   "source": [
    "import pandas as pd #pd.DataFrame()\n",
    "import numpy as np"
   ]
  },
  {
   "cell_type": "markdown",
   "metadata": {
    "ExecuteTime": {
     "end_time": "2021-10-02T11:52:17.396917Z",
     "start_time": "2021-10-02T11:52:15.389419Z"
    }
   },
   "source": [
    "\"pandas 라는 모듈을 불러와서 앞으로 pd라고 쓰기로 컴퓨터와 약속해요~\"\""
   ]
  },
  {
   "cell_type": "markdown",
   "metadata": {
    "ExecuteTime": {
     "end_time": "2021-10-02T11:53:06.568473Z",
     "start_time": "2021-10-02T11:53:06.558387Z"
    }
   },
   "source": [
    "# 3. 주택 매매 가격지수 : 시도_시군구 데이터 분석하기"
   ]
  },
  {
   "cell_type": "markdown",
   "metadata": {
    "ExecuteTime": {
     "end_time": "2022-01-04T02:03:23.616129Z",
     "start_time": "2022-01-04T02:03:23.600172Z"
    }
   },
   "source": [
    "[Domain Knowledge] 주택 = 공동주택(아파트) + 연립다세대(빌라) + 단독주택"
   ]
  },
  {
   "cell_type": "markdown",
   "metadata": {},
   "source": [
    "## 3.1 데이터 수집"
   ]
  },
  {
   "cell_type": "markdown",
   "metadata": {},
   "source": [
    "![KOSIS](./data/kosis.png)"
   ]
  },
  {
   "cell_type": "markdown",
   "metadata": {},
   "source": [
    "주간아파트가격동향(매주), 전국주택가격동향(매월)  \n",
    "\n",
    "1. [KOSIS](http://www.kosis.kr/)  \n",
    "   국내통계 > e-지방지표(통계표) > 테마별 > 삶의질 > 주택매매가격지수(2021.6=100) : [필터링된 데이터](https://kosis.kr/statHtml/statHtml.do?orgId=101&tblId=DT_1YL13501E&vw_cd=MT_GTITLE01&list_id=107&seqNo=&lang_mode=ko&language=kor&obj_var_id=&itm_id=&conn_path=MT_GTITLE01)\n",
    "\n",
    "\n",
    "2. [통계누리](http://stat.molit.go.kr/)  \n",
    "   주택 > 승인통계 > [산하기관] 전국주택가격동향조사 > 전국주택가격동향> 유형별매매가격지수(2021.6=100): [필터링된 데이터](https://kosis.kr/statHtml/statHtml.do?orgId=101&tblId=DT_1YL13501E&vw_cd=MT_GTITLE01&list_id=107&seqNo=&lang_mode=ko&language=kor&obj_var_id=&itm_id=&conn_path=MT_GTITLE01)\n",
    "   \n",
    "   \n",
    "3. [한국부동산원 R-ONE](http://www.r-one.co.kr)  \n",
    "   전국주택가격동향조사 > 월간동향 > 종합주택유형 > 엑셀전체받기\n",
    "    매주 금요일 주간 데이터, 매월 15일경 월간 데이터 업데이트 : [필터링된 데이터](https://www.reb.or.kr/r-one/statistics/statisticsViewer.do?menuId=HOUSE_21111)  "
   ]
  },
  {
   "cell_type": "markdown",
   "metadata": {},
   "source": [
    "## 3.2 데이터 불러오기\n",
    "### 3.2.1 CSV 파일(Comma Seperate Value) :  [pandas 공식 Document](https://pandas.pydata.org/pandas-docs/stable/reference/api/pandas.read_csv.html)\n",
    "pd.read_csv(\"파일경로/파일명.확장자\", header=None, names=['1열', '2열', '지정해주고 싶은 이름'...])"
   ]
  },
  {
   "cell_type": "markdown",
   "metadata": {},
   "source": [
    "[참고 파라미터 값] \n",
    "\n",
    "* skiprows - 원하는 행부터 불러올 때 **\"몇 번째 줄 부터 불러올까요?\"**\n",
    "* nrow\t-\t읽을 파일 행(row)의 수  **\"몇 개 줄을 읽어 올까요?\"(칼럼명 제외)**   "
   ]
  },
  {
   "cell_type": "markdown",
   "metadata": {},
   "source": [
    "예) pd.read_csv('./input/sample_submission.csv', skiprows=5, nrows=10)  \n",
    ": 5줄까지 무시하고 다음 행부터 10행 불러옴"
   ]
  },
  {
   "cell_type": "markdown",
   "metadata": {},
   "source": [
    "* names\t-\t불러올 때 칼럼 이름을 지정한 이름으로 변경  \n",
    "df = pd.read_csv('test.csv', header=0, names=['NEW1', 'NEW2', 'NEW3'], usecols=['NEW2', 'NEW3'])"
   ]
  },
  {
   "cell_type": "markdown",
   "metadata": {},
   "source": [
    "* index_col\tNone\t특정 열이름으로 인덱스를 지정  \n",
    "df = pd.read_csv(StringIO(csv), index_col=[\"date\", \"loc\"], usecols=[\"date\", \"loc\", \"x\"])"
   ]
  },
  {
   "cell_type": "markdown",
   "metadata": {},
   "source": [
    "* sep\t’,’\t자료의 구분 기준을 설정\n",
    "* encoding\t- cp949, utf-8, euc-kr\n",
    "* header\t‘infer(추론)’\t첫행을 열이름으로 쓸 것인지(header=0 또는 None)  \n",
    "  - 첫번째 행이 '칼럼이름' 이라면 header=0\n",
    "  - 첫번째 행부터 '데이터' 라면 header=None  \n",
    " [header=0과 header=None(기본값)의 차이](https://stackoverflow.com/questions/51759122/difference-between-header-none-and-header-0-in-pandas)<br>\n",
    " header=None 은 칼럼 이름이 없다는 뜻이며, 만약 1번째 행이 칼럼 이름이라면 header=0 으로 지정"
   ]
  },
  {
   "cell_type": "markdown",
   "metadata": {},
   "source": [
    "* prefix\t-\theader가 없는 경우, ‘V’를 넣으면, V0,V1순으로 열이름 부여\n",
    "* dtype\t-\t개별 열 또는 모든 열의 타입을 지정(e.g ‘str’, {‘a’: np.float64, ‘c’: ‘Int64’})\n",
    "* na_values\t-\t결측값으로 인식할 문자열 지정"
   ]
  },
  {
   "cell_type": "markdown",
   "metadata": {},
   "source": [
    "* keep_default_na\tTrue\t결측값(NaN)을 포함할지 여부 결정\n",
    "* na_filter\tTrue\t결측값 탐지\n",
    "* skip_blank_lines\tTrue\t빈줄은 결측값으로 판단하지 않고 건너뜀"
   ]
  },
  {
   "cell_type": "markdown",
   "metadata": {},
   "source": [
    "### 3.2.2 엑셀파일 Excel :  [pandas 공식 Document](https://pandas.pydata.org/pandas-docs/stable/reference/api/pandas.read_excel.html)\n",
    "pd.read_excel(\"파일경로/파일명.xlsx\")"
   ]
  },
  {
   "cell_type": "markdown",
   "metadata": {},
   "source": [
    "* cf. 저장하기\n",
    "df.to_csv(\"파일경로/파일명.csv\", index=False)"
   ]
  },
  {
   "cell_type": "markdown",
   "metadata": {},
   "source": [
    "* 유용한 기능 sheet를 나눠서 저장할때  \n",
    "writer = pd.ExcelWriter(\"파일명.xlsx\")  \n",
    "df1.to_excel(writer, sheet_name='1번 시트')  \n",
    "df2.to_excel(writer, sheet_name='2번 시트')  \n",
    "writer.save()"
   ]
  },
  {
   "cell_type": "markdown",
   "metadata": {},
   "source": [
    "### 3.2.3 제이슨 json : [pandas 공식 Document](https://pandas.pydata.org/pandas-docs/version/1.1.3/reference/api/pandas.read_json.html)\n",
    "pd.read_json(\"json_test.json\")"
   ]
  },
  {
   "cell_type": "markdown",
   "metadata": {},
   "source": [
    "**JSON(JavaScript Object Notation)**  \n",
    "속성-값 쌍(attribute–value pairs and array data types (or any other serializable value)) 또는  \n",
    "\"키-값 쌍\"으로 이루어진 데이터 오브젝트를 전달하기 위해 인간이 읽을 수 있는 텍스트를 사용하는 개방형 표준 포맷"
   ]
  },
  {
   "cell_type": "markdown",
   "metadata": {},
   "source": [
    "{  \n",
    "    \"이름\": \"홍길동\",  \n",
    "    \"나이\": 25,  \n",
    "    \"성별\": \"여\",  \n",
    "    \"주소\": \"서울특별시 양천구 목동\",  \n",
    "    \"특기\": [\"농구\", \"도술\"],  \n",
    "    \"가족관계\": {\"#\": 2, \"아버지\": \"홍판서\", \"어머니\": \"춘섬\"},  \n",
    "    \"회사\": \"경기 수원시 팔달구 우만동\"}  "
   ]
  },
  {
   "cell_type": "code",
   "execution_count": 3,
   "metadata": {
    "ExecuteTime": {
     "end_time": "2024-07-12T14:33:56.613927Z",
     "start_time": "2024-07-12T14:33:56.599818Z"
    }
   },
   "outputs": [],
   "source": [
    "# 데이터 불러오기\n",
    "df_price = pd.read_csv(\"data/주택매매가격지수_시도_시_군_구__20240712231149.csv\", encoding=\"cp949\")\n",
    "\n",
    "# 다양한 사람들이 분업, 협업하려면 주석이 필요합니다."
   ]
  },
  {
   "cell_type": "code",
   "execution_count": 4,
   "metadata": {
    "ExecuteTime": {
     "end_time": "2024-07-12T14:33:56.645681Z",
     "start_time": "2024-07-12T14:33:56.617628Z"
    }
   },
   "outputs": [
    {
     "data": {
      "text/html": [
       "<div>\n",
       "<style scoped>\n",
       "    .dataframe tbody tr th:only-of-type {\n",
       "        vertical-align: middle;\n",
       "    }\n",
       "\n",
       "    .dataframe tbody tr th {\n",
       "        vertical-align: top;\n",
       "    }\n",
       "\n",
       "    .dataframe thead th {\n",
       "        text-align: right;\n",
       "    }\n",
       "</style>\n",
       "<table border=\"1\" class=\"dataframe\">\n",
       "  <thead>\n",
       "    <tr style=\"text-align: right;\">\n",
       "      <th></th>\n",
       "      <th>행정구역별</th>\n",
       "      <th>2003.11</th>\n",
       "      <th>2003.12</th>\n",
       "      <th>2004.01</th>\n",
       "      <th>2004.02</th>\n",
       "      <th>2004.03</th>\n",
       "      <th>2004.04</th>\n",
       "      <th>2004.05</th>\n",
       "      <th>2004.06</th>\n",
       "      <th>2004.07</th>\n",
       "      <th>...</th>\n",
       "      <th>2023.08</th>\n",
       "      <th>2023.09</th>\n",
       "      <th>2023.10</th>\n",
       "      <th>2023.11</th>\n",
       "      <th>2023.12</th>\n",
       "      <th>2024.01</th>\n",
       "      <th>2024.02</th>\n",
       "      <th>2024.03</th>\n",
       "      <th>2024.04</th>\n",
       "      <th>2024.05</th>\n",
       "    </tr>\n",
       "  </thead>\n",
       "  <tbody>\n",
       "    <tr>\n",
       "      <th>0</th>\n",
       "      <td>전국</td>\n",
       "      <td>61.5</td>\n",
       "      <td>61.0</td>\n",
       "      <td>60.7</td>\n",
       "      <td>60.7</td>\n",
       "      <td>60.8</td>\n",
       "      <td>60.9</td>\n",
       "      <td>60.9</td>\n",
       "      <td>60.8</td>\n",
       "      <td>60.6</td>\n",
       "      <td>...</td>\n",
       "      <td>95.8</td>\n",
       "      <td>96.0</td>\n",
       "      <td>96.2</td>\n",
       "      <td>96.3</td>\n",
       "      <td>96.2</td>\n",
       "      <td>96.0</td>\n",
       "      <td>95.9</td>\n",
       "      <td>95.8</td>\n",
       "      <td>95.7</td>\n",
       "      <td>95.7</td>\n",
       "    </tr>\n",
       "    <tr>\n",
       "      <th>1</th>\n",
       "      <td>서울특별시</td>\n",
       "      <td>55.6</td>\n",
       "      <td>55.2</td>\n",
       "      <td>55.1</td>\n",
       "      <td>55.3</td>\n",
       "      <td>55.5</td>\n",
       "      <td>55.7</td>\n",
       "      <td>55.7</td>\n",
       "      <td>55.6</td>\n",
       "      <td>55.4</td>\n",
       "      <td>...</td>\n",
       "      <td>96.2</td>\n",
       "      <td>96.5</td>\n",
       "      <td>96.7</td>\n",
       "      <td>96.8</td>\n",
       "      <td>96.7</td>\n",
       "      <td>96.6</td>\n",
       "      <td>96.5</td>\n",
       "      <td>96.5</td>\n",
       "      <td>96.6</td>\n",
       "      <td>96.8</td>\n",
       "    </tr>\n",
       "    <tr>\n",
       "      <th>2</th>\n",
       "      <td>부산광역시</td>\n",
       "      <td>66.4</td>\n",
       "      <td>65.7</td>\n",
       "      <td>65.2</td>\n",
       "      <td>65.1</td>\n",
       "      <td>65.1</td>\n",
       "      <td>65.1</td>\n",
       "      <td>65.0</td>\n",
       "      <td>64.7</td>\n",
       "      <td>64.3</td>\n",
       "      <td>...</td>\n",
       "      <td>93.8</td>\n",
       "      <td>93.7</td>\n",
       "      <td>93.6</td>\n",
       "      <td>93.4</td>\n",
       "      <td>93.1</td>\n",
       "      <td>92.9</td>\n",
       "      <td>92.6</td>\n",
       "      <td>92.4</td>\n",
       "      <td>92.2</td>\n",
       "      <td>92.1</td>\n",
       "    </tr>\n",
       "    <tr>\n",
       "      <th>3</th>\n",
       "      <td>대구광역시</td>\n",
       "      <td>58.2</td>\n",
       "      <td>57.5</td>\n",
       "      <td>57.0</td>\n",
       "      <td>57.0</td>\n",
       "      <td>57.1</td>\n",
       "      <td>57.1</td>\n",
       "      <td>57.0</td>\n",
       "      <td>56.9</td>\n",
       "      <td>56.8</td>\n",
       "      <td>...</td>\n",
       "      <td>85.9</td>\n",
       "      <td>86.0</td>\n",
       "      <td>86.1</td>\n",
       "      <td>86.1</td>\n",
       "      <td>85.9</td>\n",
       "      <td>85.6</td>\n",
       "      <td>85.2</td>\n",
       "      <td>84.9</td>\n",
       "      <td>84.7</td>\n",
       "      <td>84.5</td>\n",
       "    </tr>\n",
       "    <tr>\n",
       "      <th>4</th>\n",
       "      <td>인천광역시</td>\n",
       "      <td>55.9</td>\n",
       "      <td>55.4</td>\n",
       "      <td>55.0</td>\n",
       "      <td>55.0</td>\n",
       "      <td>54.9</td>\n",
       "      <td>54.9</td>\n",
       "      <td>54.8</td>\n",
       "      <td>54.6</td>\n",
       "      <td>54.6</td>\n",
       "      <td>...</td>\n",
       "      <td>94.4</td>\n",
       "      <td>94.6</td>\n",
       "      <td>94.7</td>\n",
       "      <td>94.5</td>\n",
       "      <td>94.2</td>\n",
       "      <td>94.0</td>\n",
       "      <td>93.9</td>\n",
       "      <td>93.9</td>\n",
       "      <td>93.8</td>\n",
       "      <td>93.9</td>\n",
       "    </tr>\n",
       "    <tr>\n",
       "      <th>5</th>\n",
       "      <td>광주광역시</td>\n",
       "      <td>61.9</td>\n",
       "      <td>61.5</td>\n",
       "      <td>61.3</td>\n",
       "      <td>61.2</td>\n",
       "      <td>61.3</td>\n",
       "      <td>61.4</td>\n",
       "      <td>61.3</td>\n",
       "      <td>61.3</td>\n",
       "      <td>61.4</td>\n",
       "      <td>...</td>\n",
       "      <td>97.2</td>\n",
       "      <td>97.2</td>\n",
       "      <td>97.3</td>\n",
       "      <td>97.4</td>\n",
       "      <td>97.4</td>\n",
       "      <td>97.3</td>\n",
       "      <td>97.2</td>\n",
       "      <td>97.1</td>\n",
       "      <td>97.0</td>\n",
       "      <td>97.0</td>\n",
       "    </tr>\n",
       "    <tr>\n",
       "      <th>6</th>\n",
       "      <td>대전광역시</td>\n",
       "      <td>59.6</td>\n",
       "      <td>58.7</td>\n",
       "      <td>58.7</td>\n",
       "      <td>59.1</td>\n",
       "      <td>59.3</td>\n",
       "      <td>59.5</td>\n",
       "      <td>60.0</td>\n",
       "      <td>60.2</td>\n",
       "      <td>60.4</td>\n",
       "      <td>...</td>\n",
       "      <td>92.7</td>\n",
       "      <td>93.0</td>\n",
       "      <td>93.2</td>\n",
       "      <td>93.4</td>\n",
       "      <td>93.4</td>\n",
       "      <td>93.4</td>\n",
       "      <td>93.3</td>\n",
       "      <td>93.2</td>\n",
       "      <td>93.1</td>\n",
       "      <td>93.0</td>\n",
       "    </tr>\n",
       "    <tr>\n",
       "      <th>7</th>\n",
       "      <td>울산광역시</td>\n",
       "      <td>56.7</td>\n",
       "      <td>56.3</td>\n",
       "      <td>55.9</td>\n",
       "      <td>56.1</td>\n",
       "      <td>56.3</td>\n",
       "      <td>56.3</td>\n",
       "      <td>56.7</td>\n",
       "      <td>56.7</td>\n",
       "      <td>56.8</td>\n",
       "      <td>...</td>\n",
       "      <td>93.4</td>\n",
       "      <td>93.5</td>\n",
       "      <td>93.7</td>\n",
       "      <td>93.7</td>\n",
       "      <td>93.7</td>\n",
       "      <td>93.6</td>\n",
       "      <td>93.6</td>\n",
       "      <td>93.5</td>\n",
       "      <td>93.5</td>\n",
       "      <td>93.4</td>\n",
       "    </tr>\n",
       "    <tr>\n",
       "      <th>8</th>\n",
       "      <td>세종특별자치시</td>\n",
       "      <td>-</td>\n",
       "      <td>-</td>\n",
       "      <td>-</td>\n",
       "      <td>-</td>\n",
       "      <td>-</td>\n",
       "      <td>-</td>\n",
       "      <td>-</td>\n",
       "      <td>-</td>\n",
       "      <td>-</td>\n",
       "      <td>...</td>\n",
       "      <td>79.9</td>\n",
       "      <td>80.2</td>\n",
       "      <td>80.3</td>\n",
       "      <td>80.3</td>\n",
       "      <td>80.1</td>\n",
       "      <td>79.8</td>\n",
       "      <td>79.1</td>\n",
       "      <td>78.2</td>\n",
       "      <td>77.6</td>\n",
       "      <td>76.9</td>\n",
       "    </tr>\n",
       "    <tr>\n",
       "      <th>9</th>\n",
       "      <td>경기도</td>\n",
       "      <td>56.4</td>\n",
       "      <td>56.0</td>\n",
       "      <td>55.7</td>\n",
       "      <td>55.7</td>\n",
       "      <td>55.9</td>\n",
       "      <td>56.0</td>\n",
       "      <td>55.9</td>\n",
       "      <td>55.6</td>\n",
       "      <td>55.3</td>\n",
       "      <td>...</td>\n",
       "      <td>94.3</td>\n",
       "      <td>94.8</td>\n",
       "      <td>95.2</td>\n",
       "      <td>95.3</td>\n",
       "      <td>95.2</td>\n",
       "      <td>95.0</td>\n",
       "      <td>94.8</td>\n",
       "      <td>94.6</td>\n",
       "      <td>94.5</td>\n",
       "      <td>94.4</td>\n",
       "    </tr>\n",
       "    <tr>\n",
       "      <th>10</th>\n",
       "      <td>강원특별자치도</td>\n",
       "      <td>73.4</td>\n",
       "      <td>73.4</td>\n",
       "      <td>73.4</td>\n",
       "      <td>73.8</td>\n",
       "      <td>74.2</td>\n",
       "      <td>74.3</td>\n",
       "      <td>74.4</td>\n",
       "      <td>74.6</td>\n",
       "      <td>74.9</td>\n",
       "      <td>...</td>\n",
       "      <td>102.3</td>\n",
       "      <td>102.5</td>\n",
       "      <td>102.7</td>\n",
       "      <td>102.9</td>\n",
       "      <td>102.9</td>\n",
       "      <td>103.0</td>\n",
       "      <td>103.1</td>\n",
       "      <td>103.1</td>\n",
       "      <td>103.2</td>\n",
       "      <td>103.3</td>\n",
       "    </tr>\n",
       "    <tr>\n",
       "      <th>11</th>\n",
       "      <td>충청북도</td>\n",
       "      <td>69.2</td>\n",
       "      <td>68.3</td>\n",
       "      <td>68.1</td>\n",
       "      <td>68.2</td>\n",
       "      <td>68.2</td>\n",
       "      <td>68.0</td>\n",
       "      <td>68.1</td>\n",
       "      <td>68.4</td>\n",
       "      <td>68.9</td>\n",
       "      <td>...</td>\n",
       "      <td>101.0</td>\n",
       "      <td>101.3</td>\n",
       "      <td>101.7</td>\n",
       "      <td>101.9</td>\n",
       "      <td>102.1</td>\n",
       "      <td>102.1</td>\n",
       "      <td>102.0</td>\n",
       "      <td>102.0</td>\n",
       "      <td>102.0</td>\n",
       "      <td>102.0</td>\n",
       "    </tr>\n",
       "    <tr>\n",
       "      <th>12</th>\n",
       "      <td>충청남도</td>\n",
       "      <td>80.3</td>\n",
       "      <td>79.1</td>\n",
       "      <td>78.9</td>\n",
       "      <td>79.5</td>\n",
       "      <td>79.9</td>\n",
       "      <td>80.3</td>\n",
       "      <td>80.4</td>\n",
       "      <td>80.4</td>\n",
       "      <td>80.1</td>\n",
       "      <td>...</td>\n",
       "      <td>99.7</td>\n",
       "      <td>99.8</td>\n",
       "      <td>99.9</td>\n",
       "      <td>99.9</td>\n",
       "      <td>99.9</td>\n",
       "      <td>99.8</td>\n",
       "      <td>99.6</td>\n",
       "      <td>99.5</td>\n",
       "      <td>99.4</td>\n",
       "      <td>99.4</td>\n",
       "    </tr>\n",
       "    <tr>\n",
       "      <th>13</th>\n",
       "      <td>전라북도</td>\n",
       "      <td>70.3</td>\n",
       "      <td>70.0</td>\n",
       "      <td>69.8</td>\n",
       "      <td>70.1</td>\n",
       "      <td>70.0</td>\n",
       "      <td>70.0</td>\n",
       "      <td>70.1</td>\n",
       "      <td>70.0</td>\n",
       "      <td>70.0</td>\n",
       "      <td>...</td>\n",
       "      <td>101.2</td>\n",
       "      <td>101.2</td>\n",
       "      <td>101.3</td>\n",
       "      <td>101.4</td>\n",
       "      <td>101.3</td>\n",
       "      <td>101.3</td>\n",
       "      <td>101.2</td>\n",
       "      <td>101.2</td>\n",
       "      <td>101.2</td>\n",
       "      <td>101.3</td>\n",
       "    </tr>\n",
       "    <tr>\n",
       "      <th>14</th>\n",
       "      <td>전라남도</td>\n",
       "      <td>70.5</td>\n",
       "      <td>69.6</td>\n",
       "      <td>69.4</td>\n",
       "      <td>69.2</td>\n",
       "      <td>68.6</td>\n",
       "      <td>68.5</td>\n",
       "      <td>68.4</td>\n",
       "      <td>68.3</td>\n",
       "      <td>68.3</td>\n",
       "      <td>...</td>\n",
       "      <td>98.7</td>\n",
       "      <td>98.7</td>\n",
       "      <td>98.7</td>\n",
       "      <td>98.8</td>\n",
       "      <td>98.7</td>\n",
       "      <td>98.7</td>\n",
       "      <td>98.7</td>\n",
       "      <td>98.7</td>\n",
       "      <td>98.7</td>\n",
       "      <td>98.7</td>\n",
       "    </tr>\n",
       "    <tr>\n",
       "      <th>15</th>\n",
       "      <td>경상북도</td>\n",
       "      <td>77.9</td>\n",
       "      <td>77.6</td>\n",
       "      <td>77.2</td>\n",
       "      <td>77.0</td>\n",
       "      <td>76.9</td>\n",
       "      <td>76.8</td>\n",
       "      <td>76.6</td>\n",
       "      <td>76.2</td>\n",
       "      <td>76.0</td>\n",
       "      <td>...</td>\n",
       "      <td>100.1</td>\n",
       "      <td>100.3</td>\n",
       "      <td>100.5</td>\n",
       "      <td>100.6</td>\n",
       "      <td>100.6</td>\n",
       "      <td>100.6</td>\n",
       "      <td>100.6</td>\n",
       "      <td>100.6</td>\n",
       "      <td>100.7</td>\n",
       "      <td>100.8</td>\n",
       "    </tr>\n",
       "    <tr>\n",
       "      <th>16</th>\n",
       "      <td>경상남도</td>\n",
       "      <td>70.2</td>\n",
       "      <td>69.9</td>\n",
       "      <td>69.7</td>\n",
       "      <td>69.9</td>\n",
       "      <td>70.1</td>\n",
       "      <td>70.2</td>\n",
       "      <td>70.4</td>\n",
       "      <td>70.4</td>\n",
       "      <td>70.4</td>\n",
       "      <td>...</td>\n",
       "      <td>97.5</td>\n",
       "      <td>97.5</td>\n",
       "      <td>97.5</td>\n",
       "      <td>97.4</td>\n",
       "      <td>97.4</td>\n",
       "      <td>97.2</td>\n",
       "      <td>97.1</td>\n",
       "      <td>97.0</td>\n",
       "      <td>96.9</td>\n",
       "      <td>96.8</td>\n",
       "    </tr>\n",
       "    <tr>\n",
       "      <th>17</th>\n",
       "      <td>제주특별자치도</td>\n",
       "      <td>99.9</td>\n",
       "      <td>99.8</td>\n",
       "      <td>95.1</td>\n",
       "      <td>93.1</td>\n",
       "      <td>89.2</td>\n",
       "      <td>88.6</td>\n",
       "      <td>88.1</td>\n",
       "      <td>87.4</td>\n",
       "      <td>85.3</td>\n",
       "      <td>...</td>\n",
       "      <td>101.7</td>\n",
       "      <td>101.6</td>\n",
       "      <td>101.6</td>\n",
       "      <td>101.5</td>\n",
       "      <td>101.4</td>\n",
       "      <td>101.3</td>\n",
       "      <td>101.2</td>\n",
       "      <td>101.1</td>\n",
       "      <td>101.0</td>\n",
       "      <td>100.8</td>\n",
       "    </tr>\n",
       "  </tbody>\n",
       "</table>\n",
       "<p>18 rows × 248 columns</p>\n",
       "</div>"
      ],
      "text/plain": [
       "      행정구역별 2003.11 2003.12 2004.01 2004.02 2004.03 2004.04 2004.05 2004.06  \\\n",
       "0        전국    61.5    61.0    60.7    60.7    60.8    60.9    60.9    60.8   \n",
       "1     서울특별시    55.6    55.2    55.1    55.3    55.5    55.7    55.7    55.6   \n",
       "2     부산광역시    66.4    65.7    65.2    65.1    65.1    65.1    65.0    64.7   \n",
       "3     대구광역시    58.2    57.5    57.0    57.0    57.1    57.1    57.0    56.9   \n",
       "4     인천광역시    55.9    55.4    55.0    55.0    54.9    54.9    54.8    54.6   \n",
       "5     광주광역시    61.9    61.5    61.3    61.2    61.3    61.4    61.3    61.3   \n",
       "6     대전광역시    59.6    58.7    58.7    59.1    59.3    59.5    60.0    60.2   \n",
       "7     울산광역시    56.7    56.3    55.9    56.1    56.3    56.3    56.7    56.7   \n",
       "8   세종특별자치시       -       -       -       -       -       -       -       -   \n",
       "9       경기도    56.4    56.0    55.7    55.7    55.9    56.0    55.9    55.6   \n",
       "10  강원특별자치도    73.4    73.4    73.4    73.8    74.2    74.3    74.4    74.6   \n",
       "11     충청북도    69.2    68.3    68.1    68.2    68.2    68.0    68.1    68.4   \n",
       "12     충청남도    80.3    79.1    78.9    79.5    79.9    80.3    80.4    80.4   \n",
       "13     전라북도    70.3    70.0    69.8    70.1    70.0    70.0    70.1    70.0   \n",
       "14     전라남도    70.5    69.6    69.4    69.2    68.6    68.5    68.4    68.3   \n",
       "15     경상북도    77.9    77.6    77.2    77.0    76.9    76.8    76.6    76.2   \n",
       "16     경상남도    70.2    69.9    69.7    69.9    70.1    70.2    70.4    70.4   \n",
       "17  제주특별자치도    99.9    99.8    95.1    93.1    89.2    88.6    88.1    87.4   \n",
       "\n",
       "   2004.07  ... 2023.08 2023.09 2023.10 2023.11 2023.12 2024.01 2024.02  \\\n",
       "0     60.6  ...    95.8    96.0    96.2    96.3    96.2    96.0    95.9   \n",
       "1     55.4  ...    96.2    96.5    96.7    96.8    96.7    96.6    96.5   \n",
       "2     64.3  ...    93.8    93.7    93.6    93.4    93.1    92.9    92.6   \n",
       "3     56.8  ...    85.9    86.0    86.1    86.1    85.9    85.6    85.2   \n",
       "4     54.6  ...    94.4    94.6    94.7    94.5    94.2    94.0    93.9   \n",
       "5     61.4  ...    97.2    97.2    97.3    97.4    97.4    97.3    97.2   \n",
       "6     60.4  ...    92.7    93.0    93.2    93.4    93.4    93.4    93.3   \n",
       "7     56.8  ...    93.4    93.5    93.7    93.7    93.7    93.6    93.6   \n",
       "8        -  ...    79.9    80.2    80.3    80.3    80.1    79.8    79.1   \n",
       "9     55.3  ...    94.3    94.8    95.2    95.3    95.2    95.0    94.8   \n",
       "10    74.9  ...   102.3   102.5   102.7   102.9   102.9   103.0   103.1   \n",
       "11    68.9  ...   101.0   101.3   101.7   101.9   102.1   102.1   102.0   \n",
       "12    80.1  ...    99.7    99.8    99.9    99.9    99.9    99.8    99.6   \n",
       "13    70.0  ...   101.2   101.2   101.3   101.4   101.3   101.3   101.2   \n",
       "14    68.3  ...    98.7    98.7    98.7    98.8    98.7    98.7    98.7   \n",
       "15    76.0  ...   100.1   100.3   100.5   100.6   100.6   100.6   100.6   \n",
       "16    70.4  ...    97.5    97.5    97.5    97.4    97.4    97.2    97.1   \n",
       "17    85.3  ...   101.7   101.6   101.6   101.5   101.4   101.3   101.2   \n",
       "\n",
       "   2024.03 2024.04 2024.05  \n",
       "0     95.8    95.7    95.7  \n",
       "1     96.5    96.6    96.8  \n",
       "2     92.4    92.2    92.1  \n",
       "3     84.9    84.7    84.5  \n",
       "4     93.9    93.8    93.9  \n",
       "5     97.1    97.0    97.0  \n",
       "6     93.2    93.1    93.0  \n",
       "7     93.5    93.5    93.4  \n",
       "8     78.2    77.6    76.9  \n",
       "9     94.6    94.5    94.4  \n",
       "10   103.1   103.2   103.3  \n",
       "11   102.0   102.0   102.0  \n",
       "12    99.5    99.4    99.4  \n",
       "13   101.2   101.2   101.3  \n",
       "14    98.7    98.7    98.7  \n",
       "15   100.6   100.7   100.8  \n",
       "16    97.0    96.9    96.8  \n",
       "17   101.1   101.0   100.8  \n",
       "\n",
       "[18 rows x 248 columns]"
      ]
     },
     "execution_count": 4,
     "metadata": {},
     "output_type": "execute_result"
    }
   ],
   "source": [
    "df_price"
   ]
  },
  {
   "cell_type": "markdown",
   "metadata": {
    "ExecuteTime": {
     "end_time": "2021-08-07T22:17:54.956875Z",
     "start_time": "2021-08-07T22:17:54.951319Z"
    }
   },
   "source": [
    "### 단축키 추가 `\n",
    "* Ctrl + \"/\" : 주석처리 전환\n",
    "* f : replace (화살표를 누르면 전체 문서 / 해당 셀 선택가능)\n",
    "* shift + m 셀 합치기, ctrl + shift + - : 셀 나누기"
   ]
  },
  {
   "cell_type": "markdown",
   "metadata": {},
   "source": [
    "## 3.3 데이터 재구조화(reshape)"
   ]
  },
  {
   "cell_type": "markdown",
   "metadata": {},
   "source": [
    "### 깔끔한 데이터(Tidy data) vs. 지저분한 데이터 \n",
    "출처 : [Tidy Data by Wickham](http://vita.had.co.nz/papers/tidy-data.pdf)\n",
    "  \n",
    "### 깔끔한 데이터\n",
    "- [ ] 각 변수(Variable)는 개별의 열(column)으로 존재한다.\n",
    "- [ ] 각 관측치는 행(row)를 구성한다.\n",
    "- [x] 각 표는 단 하나의 관측기준에 의해서 조직된 데이터를 저장한다.\n",
    "- [ ] 만약 여러개의 표가 존재한다면, 적어도 하나이상의 열(column)이 공유되어야 한다."
   ]
  },
  {
   "cell_type": "markdown",
   "metadata": {},
   "source": [
    "### 지저분한 데이터\n",
    "- [ ] 열 이름(Column)이 변수가 아니고, 값이다. ex) columns = ['100-110', '110-120']\n",
    "- [ ] 하나의 열(column)에 여러 값이 들어 있다. ex) columns = ['서울_2021', '서울_2022']\n",
    "- [ ] 같은 표에 다양한 관측 단위(observational units) 있다. ex) 몸무게 kg, 키 cm\n",
    "- [ ] 변수가 행과 열에 모두 포함되어 있다.\n",
    "- [ ] 하나의 관측 단위(observational units)가 여러 파일로 나누어져 있다."
   ]
  },
  {
   "cell_type": "markdown",
   "metadata": {},
   "source": [
    "우리가 받은 데이터에 대해 체크해보세요.\n",
    "### 깨끗한 데이터인가요?\n",
    "이러한 데이터를 Tidy data 형태로 변환하기 위해서 melt 함수를 사용합니다."
   ]
  },
  {
   "cell_type": "markdown",
   "metadata": {},
   "source": [
    "### 3.3.1 melt 함수\n",
    "- reshae 함수의 일종입니다. 엑셀에서 pivot table의 반대개념이라고 보시면 됩니다.\n",
    "- melt()함수 : 행이 많은 데이터 → 열이 많은 데이터 로 변환\n",
    "- pivot_table() 함수 : 열이 많은 데이터 → 행이 많은 데이터 로 변환\n",
    "- 아래에서 melt()를 pivot_table() 대체하면서 차이점을 알아보도록 하겠습니다."
   ]
  },
  {
   "cell_type": "markdown",
   "metadata": {},
   "source": [
    "|구분|id_vars|value_vars|var_name|value_name|\n",
    "|:----:|:----:|:----:|:----:|:----:|\n",
    "|내용|위치를 그대로 유지할 열이름|행으로 위치를 변경할 열이름|value_vars에 새로 지정할 이름|var_name에 새로 지정할 이름|"
   ]
  },
  {
   "cell_type": "code",
   "execution_count": 5,
   "metadata": {
    "ExecuteTime": {
     "end_time": "2024-07-12T14:33:56.658875Z",
     "start_time": "2024-07-12T14:33:56.645681Z"
    }
   },
   "outputs": [],
   "source": [
    "df = df_price.melt(id_vars=\"행정구역별\")"
   ]
  },
  {
   "cell_type": "code",
   "execution_count": 6,
   "metadata": {
    "ExecuteTime": {
     "end_time": "2024-07-12T14:33:56.680694Z",
     "start_time": "2024-07-12T14:33:56.658875Z"
    }
   },
   "outputs": [
    {
     "data": {
      "text/html": [
       "<div>\n",
       "<style scoped>\n",
       "    .dataframe tbody tr th:only-of-type {\n",
       "        vertical-align: middle;\n",
       "    }\n",
       "\n",
       "    .dataframe tbody tr th {\n",
       "        vertical-align: top;\n",
       "    }\n",
       "\n",
       "    .dataframe thead th {\n",
       "        text-align: right;\n",
       "    }\n",
       "</style>\n",
       "<table border=\"1\" class=\"dataframe\">\n",
       "  <thead>\n",
       "    <tr style=\"text-align: right;\">\n",
       "      <th></th>\n",
       "      <th>행정구역별</th>\n",
       "      <th>variable</th>\n",
       "      <th>value</th>\n",
       "    </tr>\n",
       "  </thead>\n",
       "  <tbody>\n",
       "    <tr>\n",
       "      <th>0</th>\n",
       "      <td>전국</td>\n",
       "      <td>2003.11</td>\n",
       "      <td>61.5</td>\n",
       "    </tr>\n",
       "    <tr>\n",
       "      <th>1</th>\n",
       "      <td>서울특별시</td>\n",
       "      <td>2003.11</td>\n",
       "      <td>55.6</td>\n",
       "    </tr>\n",
       "    <tr>\n",
       "      <th>2</th>\n",
       "      <td>부산광역시</td>\n",
       "      <td>2003.11</td>\n",
       "      <td>66.4</td>\n",
       "    </tr>\n",
       "    <tr>\n",
       "      <th>3</th>\n",
       "      <td>대구광역시</td>\n",
       "      <td>2003.11</td>\n",
       "      <td>58.2</td>\n",
       "    </tr>\n",
       "    <tr>\n",
       "      <th>4</th>\n",
       "      <td>인천광역시</td>\n",
       "      <td>2003.11</td>\n",
       "      <td>55.9</td>\n",
       "    </tr>\n",
       "    <tr>\n",
       "      <th>...</th>\n",
       "      <td>...</td>\n",
       "      <td>...</td>\n",
       "      <td>...</td>\n",
       "    </tr>\n",
       "    <tr>\n",
       "      <th>4441</th>\n",
       "      <td>전라북도</td>\n",
       "      <td>2024.05</td>\n",
       "      <td>101.3</td>\n",
       "    </tr>\n",
       "    <tr>\n",
       "      <th>4442</th>\n",
       "      <td>전라남도</td>\n",
       "      <td>2024.05</td>\n",
       "      <td>98.7</td>\n",
       "    </tr>\n",
       "    <tr>\n",
       "      <th>4443</th>\n",
       "      <td>경상북도</td>\n",
       "      <td>2024.05</td>\n",
       "      <td>100.8</td>\n",
       "    </tr>\n",
       "    <tr>\n",
       "      <th>4444</th>\n",
       "      <td>경상남도</td>\n",
       "      <td>2024.05</td>\n",
       "      <td>96.8</td>\n",
       "    </tr>\n",
       "    <tr>\n",
       "      <th>4445</th>\n",
       "      <td>제주특별자치도</td>\n",
       "      <td>2024.05</td>\n",
       "      <td>100.8</td>\n",
       "    </tr>\n",
       "  </tbody>\n",
       "</table>\n",
       "<p>4446 rows × 3 columns</p>\n",
       "</div>"
      ],
      "text/plain": [
       "        행정구역별 variable  value\n",
       "0          전국  2003.11   61.5\n",
       "1       서울특별시  2003.11   55.6\n",
       "2       부산광역시  2003.11   66.4\n",
       "3       대구광역시  2003.11   58.2\n",
       "4       인천광역시  2003.11   55.9\n",
       "...       ...      ...    ...\n",
       "4441     전라북도  2024.05  101.3\n",
       "4442     전라남도  2024.05   98.7\n",
       "4443     경상북도  2024.05  100.8\n",
       "4444     경상남도  2024.05   96.8\n",
       "4445  제주특별자치도  2024.05  100.8\n",
       "\n",
       "[4446 rows x 3 columns]"
      ]
     },
     "execution_count": 6,
     "metadata": {},
     "output_type": "execute_result"
    }
   ],
   "source": [
    "# 바로 확인을 해보겠습니다. 기존에 가로 세로 격자 테이블이 세로 테이블로 바뀌었습니다.\n",
    "df"
   ]
  },
  {
   "cell_type": "code",
   "execution_count": 7,
   "metadata": {
    "ExecuteTime": {
     "end_time": "2024-07-12T14:33:56.696712Z",
     "start_time": "2024-07-12T14:33:56.682302Z"
    }
   },
   "outputs": [],
   "source": [
    "# 다음 코드와 비교하고 무엇이 다른지 말해보세요\n",
    "df_1 = df_price.melt(id_vars=\"행정구역별\", value_vars=[\"2003.11\", \"2003.12\"])"
   ]
  },
  {
   "cell_type": "code",
   "execution_count": 8,
   "metadata": {
    "ExecuteTime": {
     "end_time": "2024-07-12T14:33:56.712494Z",
     "start_time": "2024-07-12T14:33:56.696712Z"
    }
   },
   "outputs": [
    {
     "data": {
      "text/html": [
       "<div>\n",
       "<style scoped>\n",
       "    .dataframe tbody tr th:only-of-type {\n",
       "        vertical-align: middle;\n",
       "    }\n",
       "\n",
       "    .dataframe tbody tr th {\n",
       "        vertical-align: top;\n",
       "    }\n",
       "\n",
       "    .dataframe thead th {\n",
       "        text-align: right;\n",
       "    }\n",
       "</style>\n",
       "<table border=\"1\" class=\"dataframe\">\n",
       "  <thead>\n",
       "    <tr style=\"text-align: right;\">\n",
       "      <th></th>\n",
       "      <th>행정구역별</th>\n",
       "      <th>variable</th>\n",
       "      <th>value</th>\n",
       "    </tr>\n",
       "  </thead>\n",
       "  <tbody>\n",
       "    <tr>\n",
       "      <th>0</th>\n",
       "      <td>전국</td>\n",
       "      <td>2003.11</td>\n",
       "      <td>61.5</td>\n",
       "    </tr>\n",
       "    <tr>\n",
       "      <th>1</th>\n",
       "      <td>서울특별시</td>\n",
       "      <td>2003.11</td>\n",
       "      <td>55.6</td>\n",
       "    </tr>\n",
       "    <tr>\n",
       "      <th>2</th>\n",
       "      <td>부산광역시</td>\n",
       "      <td>2003.11</td>\n",
       "      <td>66.4</td>\n",
       "    </tr>\n",
       "    <tr>\n",
       "      <th>3</th>\n",
       "      <td>대구광역시</td>\n",
       "      <td>2003.11</td>\n",
       "      <td>58.2</td>\n",
       "    </tr>\n",
       "    <tr>\n",
       "      <th>4</th>\n",
       "      <td>인천광역시</td>\n",
       "      <td>2003.11</td>\n",
       "      <td>55.9</td>\n",
       "    </tr>\n",
       "    <tr>\n",
       "      <th>5</th>\n",
       "      <td>광주광역시</td>\n",
       "      <td>2003.11</td>\n",
       "      <td>61.9</td>\n",
       "    </tr>\n",
       "    <tr>\n",
       "      <th>6</th>\n",
       "      <td>대전광역시</td>\n",
       "      <td>2003.11</td>\n",
       "      <td>59.6</td>\n",
       "    </tr>\n",
       "    <tr>\n",
       "      <th>7</th>\n",
       "      <td>울산광역시</td>\n",
       "      <td>2003.11</td>\n",
       "      <td>56.7</td>\n",
       "    </tr>\n",
       "    <tr>\n",
       "      <th>8</th>\n",
       "      <td>세종특별자치시</td>\n",
       "      <td>2003.11</td>\n",
       "      <td>-</td>\n",
       "    </tr>\n",
       "    <tr>\n",
       "      <th>9</th>\n",
       "      <td>경기도</td>\n",
       "      <td>2003.11</td>\n",
       "      <td>56.4</td>\n",
       "    </tr>\n",
       "    <tr>\n",
       "      <th>10</th>\n",
       "      <td>강원특별자치도</td>\n",
       "      <td>2003.11</td>\n",
       "      <td>73.4</td>\n",
       "    </tr>\n",
       "    <tr>\n",
       "      <th>11</th>\n",
       "      <td>충청북도</td>\n",
       "      <td>2003.11</td>\n",
       "      <td>69.2</td>\n",
       "    </tr>\n",
       "    <tr>\n",
       "      <th>12</th>\n",
       "      <td>충청남도</td>\n",
       "      <td>2003.11</td>\n",
       "      <td>80.3</td>\n",
       "    </tr>\n",
       "    <tr>\n",
       "      <th>13</th>\n",
       "      <td>전라북도</td>\n",
       "      <td>2003.11</td>\n",
       "      <td>70.3</td>\n",
       "    </tr>\n",
       "    <tr>\n",
       "      <th>14</th>\n",
       "      <td>전라남도</td>\n",
       "      <td>2003.11</td>\n",
       "      <td>70.5</td>\n",
       "    </tr>\n",
       "    <tr>\n",
       "      <th>15</th>\n",
       "      <td>경상북도</td>\n",
       "      <td>2003.11</td>\n",
       "      <td>77.9</td>\n",
       "    </tr>\n",
       "    <tr>\n",
       "      <th>16</th>\n",
       "      <td>경상남도</td>\n",
       "      <td>2003.11</td>\n",
       "      <td>70.2</td>\n",
       "    </tr>\n",
       "    <tr>\n",
       "      <th>17</th>\n",
       "      <td>제주특별자치도</td>\n",
       "      <td>2003.11</td>\n",
       "      <td>99.9</td>\n",
       "    </tr>\n",
       "    <tr>\n",
       "      <th>18</th>\n",
       "      <td>전국</td>\n",
       "      <td>2003.12</td>\n",
       "      <td>61.0</td>\n",
       "    </tr>\n",
       "    <tr>\n",
       "      <th>19</th>\n",
       "      <td>서울특별시</td>\n",
       "      <td>2003.12</td>\n",
       "      <td>55.2</td>\n",
       "    </tr>\n",
       "    <tr>\n",
       "      <th>20</th>\n",
       "      <td>부산광역시</td>\n",
       "      <td>2003.12</td>\n",
       "      <td>65.7</td>\n",
       "    </tr>\n",
       "    <tr>\n",
       "      <th>21</th>\n",
       "      <td>대구광역시</td>\n",
       "      <td>2003.12</td>\n",
       "      <td>57.5</td>\n",
       "    </tr>\n",
       "    <tr>\n",
       "      <th>22</th>\n",
       "      <td>인천광역시</td>\n",
       "      <td>2003.12</td>\n",
       "      <td>55.4</td>\n",
       "    </tr>\n",
       "    <tr>\n",
       "      <th>23</th>\n",
       "      <td>광주광역시</td>\n",
       "      <td>2003.12</td>\n",
       "      <td>61.5</td>\n",
       "    </tr>\n",
       "    <tr>\n",
       "      <th>24</th>\n",
       "      <td>대전광역시</td>\n",
       "      <td>2003.12</td>\n",
       "      <td>58.7</td>\n",
       "    </tr>\n",
       "    <tr>\n",
       "      <th>25</th>\n",
       "      <td>울산광역시</td>\n",
       "      <td>2003.12</td>\n",
       "      <td>56.3</td>\n",
       "    </tr>\n",
       "    <tr>\n",
       "      <th>26</th>\n",
       "      <td>세종특별자치시</td>\n",
       "      <td>2003.12</td>\n",
       "      <td>-</td>\n",
       "    </tr>\n",
       "    <tr>\n",
       "      <th>27</th>\n",
       "      <td>경기도</td>\n",
       "      <td>2003.12</td>\n",
       "      <td>56.0</td>\n",
       "    </tr>\n",
       "    <tr>\n",
       "      <th>28</th>\n",
       "      <td>강원특별자치도</td>\n",
       "      <td>2003.12</td>\n",
       "      <td>73.4</td>\n",
       "    </tr>\n",
       "    <tr>\n",
       "      <th>29</th>\n",
       "      <td>충청북도</td>\n",
       "      <td>2003.12</td>\n",
       "      <td>68.3</td>\n",
       "    </tr>\n",
       "    <tr>\n",
       "      <th>30</th>\n",
       "      <td>충청남도</td>\n",
       "      <td>2003.12</td>\n",
       "      <td>79.1</td>\n",
       "    </tr>\n",
       "    <tr>\n",
       "      <th>31</th>\n",
       "      <td>전라북도</td>\n",
       "      <td>2003.12</td>\n",
       "      <td>70.0</td>\n",
       "    </tr>\n",
       "    <tr>\n",
       "      <th>32</th>\n",
       "      <td>전라남도</td>\n",
       "      <td>2003.12</td>\n",
       "      <td>69.6</td>\n",
       "    </tr>\n",
       "    <tr>\n",
       "      <th>33</th>\n",
       "      <td>경상북도</td>\n",
       "      <td>2003.12</td>\n",
       "      <td>77.6</td>\n",
       "    </tr>\n",
       "    <tr>\n",
       "      <th>34</th>\n",
       "      <td>경상남도</td>\n",
       "      <td>2003.12</td>\n",
       "      <td>69.9</td>\n",
       "    </tr>\n",
       "    <tr>\n",
       "      <th>35</th>\n",
       "      <td>제주특별자치도</td>\n",
       "      <td>2003.12</td>\n",
       "      <td>99.8</td>\n",
       "    </tr>\n",
       "  </tbody>\n",
       "</table>\n",
       "</div>"
      ],
      "text/plain": [
       "      행정구역별 variable value\n",
       "0        전국  2003.11  61.5\n",
       "1     서울특별시  2003.11  55.6\n",
       "2     부산광역시  2003.11  66.4\n",
       "3     대구광역시  2003.11  58.2\n",
       "4     인천광역시  2003.11  55.9\n",
       "5     광주광역시  2003.11  61.9\n",
       "6     대전광역시  2003.11  59.6\n",
       "7     울산광역시  2003.11  56.7\n",
       "8   세종특별자치시  2003.11     -\n",
       "9       경기도  2003.11  56.4\n",
       "10  강원특별자치도  2003.11  73.4\n",
       "11     충청북도  2003.11  69.2\n",
       "12     충청남도  2003.11  80.3\n",
       "13     전라북도  2003.11  70.3\n",
       "14     전라남도  2003.11  70.5\n",
       "15     경상북도  2003.11  77.9\n",
       "16     경상남도  2003.11  70.2\n",
       "17  제주특별자치도  2003.11  99.9\n",
       "18       전국  2003.12  61.0\n",
       "19    서울특별시  2003.12  55.2\n",
       "20    부산광역시  2003.12  65.7\n",
       "21    대구광역시  2003.12  57.5\n",
       "22    인천광역시  2003.12  55.4\n",
       "23    광주광역시  2003.12  61.5\n",
       "24    대전광역시  2003.12  58.7\n",
       "25    울산광역시  2003.12  56.3\n",
       "26  세종특별자치시  2003.12     -\n",
       "27      경기도  2003.12  56.0\n",
       "28  강원특별자치도  2003.12  73.4\n",
       "29     충청북도  2003.12  68.3\n",
       "30     충청남도  2003.12  79.1\n",
       "31     전라북도  2003.12  70.0\n",
       "32     전라남도  2003.12  69.6\n",
       "33     경상북도  2003.12  77.6\n",
       "34     경상남도  2003.12  69.9\n",
       "35  제주특별자치도  2003.12  99.8"
      ]
     },
     "execution_count": 8,
     "metadata": {},
     "output_type": "execute_result"
    }
   ],
   "source": [
    "df_1"
   ]
  },
  {
   "cell_type": "code",
   "execution_count": 9,
   "metadata": {
    "ExecuteTime": {
     "end_time": "2024-07-12T14:33:56.731818Z",
     "start_time": "2024-07-12T14:33:56.712494Z"
    }
   },
   "outputs": [
    {
     "data": {
      "text/plain": [
       "(36, 3)"
      ]
     },
     "execution_count": 9,
     "metadata": {},
     "output_type": "execute_result"
    }
   ],
   "source": [
    "df_1.shape"
   ]
  },
  {
   "cell_type": "code",
   "execution_count": 10,
   "metadata": {
    "ExecuteTime": {
     "end_time": "2024-07-12T14:33:56.747479Z",
     "start_time": "2024-07-12T14:33:56.731818Z"
    }
   },
   "outputs": [],
   "source": [
    "# df\n",
    "# 네 그렇습니다. value_vars 을 지정해주지 않으면 전체 칼럼을 모두 선택한다는 의미입니다."
   ]
  },
  {
   "cell_type": "code",
   "execution_count": 11,
   "metadata": {
    "ExecuteTime": {
     "end_time": "2024-07-12T14:33:56.763338Z",
     "start_time": "2024-07-12T14:33:56.748360Z"
    }
   },
   "outputs": [
    {
     "data": {
      "text/html": [
       "<div>\n",
       "<style scoped>\n",
       "    .dataframe tbody tr th:only-of-type {\n",
       "        vertical-align: middle;\n",
       "    }\n",
       "\n",
       "    .dataframe tbody tr th {\n",
       "        vertical-align: top;\n",
       "    }\n",
       "\n",
       "    .dataframe thead th {\n",
       "        text-align: right;\n",
       "    }\n",
       "</style>\n",
       "<table border=\"1\" class=\"dataframe\">\n",
       "  <thead>\n",
       "    <tr style=\"text-align: right;\">\n",
       "      <th></th>\n",
       "      <th>행정구역별</th>\n",
       "      <th>variable</th>\n",
       "      <th>value</th>\n",
       "    </tr>\n",
       "  </thead>\n",
       "  <tbody>\n",
       "    <tr>\n",
       "      <th>0</th>\n",
       "      <td>전국</td>\n",
       "      <td>2003.11</td>\n",
       "      <td>61.5</td>\n",
       "    </tr>\n",
       "    <tr>\n",
       "      <th>1</th>\n",
       "      <td>서울특별시</td>\n",
       "      <td>2003.11</td>\n",
       "      <td>55.6</td>\n",
       "    </tr>\n",
       "    <tr>\n",
       "      <th>2</th>\n",
       "      <td>부산광역시</td>\n",
       "      <td>2003.11</td>\n",
       "      <td>66.4</td>\n",
       "    </tr>\n",
       "    <tr>\n",
       "      <th>3</th>\n",
       "      <td>대구광역시</td>\n",
       "      <td>2003.11</td>\n",
       "      <td>58.2</td>\n",
       "    </tr>\n",
       "    <tr>\n",
       "      <th>4</th>\n",
       "      <td>인천광역시</td>\n",
       "      <td>2003.11</td>\n",
       "      <td>55.9</td>\n",
       "    </tr>\n",
       "    <tr>\n",
       "      <th>...</th>\n",
       "      <td>...</td>\n",
       "      <td>...</td>\n",
       "      <td>...</td>\n",
       "    </tr>\n",
       "    <tr>\n",
       "      <th>4441</th>\n",
       "      <td>전라북도</td>\n",
       "      <td>2024.05</td>\n",
       "      <td>101.3</td>\n",
       "    </tr>\n",
       "    <tr>\n",
       "      <th>4442</th>\n",
       "      <td>전라남도</td>\n",
       "      <td>2024.05</td>\n",
       "      <td>98.7</td>\n",
       "    </tr>\n",
       "    <tr>\n",
       "      <th>4443</th>\n",
       "      <td>경상북도</td>\n",
       "      <td>2024.05</td>\n",
       "      <td>100.8</td>\n",
       "    </tr>\n",
       "    <tr>\n",
       "      <th>4444</th>\n",
       "      <td>경상남도</td>\n",
       "      <td>2024.05</td>\n",
       "      <td>96.8</td>\n",
       "    </tr>\n",
       "    <tr>\n",
       "      <th>4445</th>\n",
       "      <td>제주특별자치도</td>\n",
       "      <td>2024.05</td>\n",
       "      <td>100.8</td>\n",
       "    </tr>\n",
       "  </tbody>\n",
       "</table>\n",
       "<p>4446 rows × 3 columns</p>\n",
       "</div>"
      ],
      "text/plain": [
       "        행정구역별 variable  value\n",
       "0          전국  2003.11   61.5\n",
       "1       서울특별시  2003.11   55.6\n",
       "2       부산광역시  2003.11   66.4\n",
       "3       대구광역시  2003.11   58.2\n",
       "4       인천광역시  2003.11   55.9\n",
       "...       ...      ...    ...\n",
       "4441     전라북도  2024.05  101.3\n",
       "4442     전라남도  2024.05   98.7\n",
       "4443     경상북도  2024.05  100.8\n",
       "4444     경상남도  2024.05   96.8\n",
       "4445  제주특별자치도  2024.05  100.8\n",
       "\n",
       "[4446 rows x 3 columns]"
      ]
     },
     "execution_count": 11,
     "metadata": {},
     "output_type": "execute_result"
    }
   ],
   "source": [
    "df"
   ]
  },
  {
   "cell_type": "code",
   "execution_count": 12,
   "metadata": {
    "ExecuteTime": {
     "end_time": "2024-07-12T14:33:56.779428Z",
     "start_time": "2024-07-12T14:33:56.763338Z"
    }
   },
   "outputs": [
    {
     "data": {
      "text/plain": [
       "Index(['행정구역별', 'variable', 'value'], dtype='object')"
      ]
     },
     "execution_count": 12,
     "metadata": {},
     "output_type": "execute_result"
    }
   ],
   "source": [
    "df.columns "
   ]
  },
  {
   "cell_type": "code",
   "execution_count": 13,
   "metadata": {
    "ExecuteTime": {
     "end_time": "2024-07-12T14:33:56.795369Z",
     "start_time": "2024-07-12T14:33:56.779428Z"
    }
   },
   "outputs": [
    {
     "data": {
      "text/html": [
       "<div>\n",
       "<style scoped>\n",
       "    .dataframe tbody tr th:only-of-type {\n",
       "        vertical-align: middle;\n",
       "    }\n",
       "\n",
       "    .dataframe tbody tr th {\n",
       "        vertical-align: top;\n",
       "    }\n",
       "\n",
       "    .dataframe thead th {\n",
       "        text-align: right;\n",
       "    }\n",
       "</style>\n",
       "<table border=\"1\" class=\"dataframe\">\n",
       "  <thead>\n",
       "    <tr style=\"text-align: right;\">\n",
       "      <th></th>\n",
       "      <th>지역</th>\n",
       "      <th>기간</th>\n",
       "      <th>주택매매가격지수</th>\n",
       "    </tr>\n",
       "  </thead>\n",
       "  <tbody>\n",
       "    <tr>\n",
       "      <th>4443</th>\n",
       "      <td>경상북도</td>\n",
       "      <td>2024.05</td>\n",
       "      <td>100.8</td>\n",
       "    </tr>\n",
       "    <tr>\n",
       "      <th>4444</th>\n",
       "      <td>경상남도</td>\n",
       "      <td>2024.05</td>\n",
       "      <td>96.8</td>\n",
       "    </tr>\n",
       "    <tr>\n",
       "      <th>4445</th>\n",
       "      <td>제주특별자치도</td>\n",
       "      <td>2024.05</td>\n",
       "      <td>100.8</td>\n",
       "    </tr>\n",
       "  </tbody>\n",
       "</table>\n",
       "</div>"
      ],
      "text/plain": [
       "           지역       기간 주택매매가격지수\n",
       "4443     경상북도  2024.05    100.8\n",
       "4444     경상남도  2024.05     96.8\n",
       "4445  제주특별자치도  2024.05    100.8"
      ]
     },
     "execution_count": 13,
     "metadata": {},
     "output_type": "execute_result"
    }
   ],
   "source": [
    "# 다음은 칼럼 이름을 지정해주는 방법입니다.\n",
    "df.columns = [\"지역\", \"기간\", \"주택매매가격지수\"]\n",
    "df.tail(3)"
   ]
  },
  {
   "cell_type": "code",
   "execution_count": 14,
   "metadata": {
    "ExecuteTime": {
     "end_time": "2024-07-12T14:33:56.803440Z",
     "start_time": "2024-07-12T14:33:56.795369Z"
    }
   },
   "outputs": [],
   "source": [
    "# 지정해주는 이름이 실제 칼럼 갯수와 맞지 않으면 어떻게 될까요?\n",
    "# df.columns = [\"A\", \"B\"]"
   ]
  },
  {
   "cell_type": "code",
   "execution_count": 15,
   "metadata": {
    "ExecuteTime": {
     "end_time": "2024-07-12T14:33:56.815171Z",
     "start_time": "2024-07-12T14:33:56.805851Z"
    }
   },
   "outputs": [
    {
     "data": {
      "text/plain": [
       "(4446, 3)"
      ]
     },
     "execution_count": 15,
     "metadata": {},
     "output_type": "execute_result"
    }
   ],
   "source": [
    "df.shape"
   ]
  },
  {
   "cell_type": "code",
   "execution_count": 16,
   "metadata": {
    "ExecuteTime": {
     "end_time": "2024-07-12T14:33:56.831075Z",
     "start_time": "2024-07-12T14:33:56.815171Z"
    }
   },
   "outputs": [
    {
     "data": {
      "text/html": [
       "<div>\n",
       "<style scoped>\n",
       "    .dataframe tbody tr th:only-of-type {\n",
       "        vertical-align: middle;\n",
       "    }\n",
       "\n",
       "    .dataframe tbody tr th {\n",
       "        vertical-align: top;\n",
       "    }\n",
       "\n",
       "    .dataframe thead th {\n",
       "        text-align: right;\n",
       "    }\n",
       "</style>\n",
       "<table border=\"1\" class=\"dataframe\">\n",
       "  <thead>\n",
       "    <tr style=\"text-align: right;\">\n",
       "      <th></th>\n",
       "      <th>지역</th>\n",
       "      <th>기간</th>\n",
       "      <th>주택매매가격지수</th>\n",
       "    </tr>\n",
       "  </thead>\n",
       "  <tbody>\n",
       "    <tr>\n",
       "      <th>0</th>\n",
       "      <td>전국</td>\n",
       "      <td>2003.11</td>\n",
       "      <td>61.5</td>\n",
       "    </tr>\n",
       "    <tr>\n",
       "      <th>1</th>\n",
       "      <td>서울특별시</td>\n",
       "      <td>2003.11</td>\n",
       "      <td>55.6</td>\n",
       "    </tr>\n",
       "    <tr>\n",
       "      <th>2</th>\n",
       "      <td>부산광역시</td>\n",
       "      <td>2003.11</td>\n",
       "      <td>66.4</td>\n",
       "    </tr>\n",
       "    <tr>\n",
       "      <th>3</th>\n",
       "      <td>대구광역시</td>\n",
       "      <td>2003.11</td>\n",
       "      <td>58.2</td>\n",
       "    </tr>\n",
       "    <tr>\n",
       "      <th>4</th>\n",
       "      <td>인천광역시</td>\n",
       "      <td>2003.11</td>\n",
       "      <td>55.9</td>\n",
       "    </tr>\n",
       "    <tr>\n",
       "      <th>5</th>\n",
       "      <td>광주광역시</td>\n",
       "      <td>2003.11</td>\n",
       "      <td>61.9</td>\n",
       "    </tr>\n",
       "    <tr>\n",
       "      <th>6</th>\n",
       "      <td>대전광역시</td>\n",
       "      <td>2003.11</td>\n",
       "      <td>59.6</td>\n",
       "    </tr>\n",
       "    <tr>\n",
       "      <th>7</th>\n",
       "      <td>울산광역시</td>\n",
       "      <td>2003.11</td>\n",
       "      <td>56.7</td>\n",
       "    </tr>\n",
       "    <tr>\n",
       "      <th>8</th>\n",
       "      <td>세종특별자치시</td>\n",
       "      <td>2003.11</td>\n",
       "      <td>-</td>\n",
       "    </tr>\n",
       "    <tr>\n",
       "      <th>9</th>\n",
       "      <td>경기도</td>\n",
       "      <td>2003.11</td>\n",
       "      <td>56.4</td>\n",
       "    </tr>\n",
       "  </tbody>\n",
       "</table>\n",
       "</div>"
      ],
      "text/plain": [
       "        지역       기간 주택매매가격지수\n",
       "0       전국  2003.11     61.5\n",
       "1    서울특별시  2003.11     55.6\n",
       "2    부산광역시  2003.11     66.4\n",
       "3    대구광역시  2003.11     58.2\n",
       "4    인천광역시  2003.11     55.9\n",
       "5    광주광역시  2003.11     61.9\n",
       "6    대전광역시  2003.11     59.6\n",
       "7    울산광역시  2003.11     56.7\n",
       "8  세종특별자치시  2003.11        -\n",
       "9      경기도  2003.11     56.4"
      ]
     },
     "execution_count": 16,
     "metadata": {},
     "output_type": "execute_result"
    }
   ],
   "source": [
    "df.head(10)"
   ]
  },
  {
   "cell_type": "code",
   "execution_count": 17,
   "metadata": {
    "ExecuteTime": {
     "end_time": "2024-07-12T14:33:56.864281Z",
     "start_time": "2024-07-12T14:33:56.839101Z"
    }
   },
   "outputs": [
    {
     "data": {
      "text/plain": [
       "Index(['지역', '기간', '주택매매가격지수'], dtype='object')"
      ]
     },
     "execution_count": 17,
     "metadata": {},
     "output_type": "execute_result"
    }
   ],
   "source": [
    "df.columns"
   ]
  },
  {
   "cell_type": "code",
   "execution_count": 18,
   "metadata": {
    "ExecuteTime": {
     "end_time": "2024-07-12T14:33:56.880383Z",
     "start_time": "2024-07-12T14:33:56.865075Z"
    }
   },
   "outputs": [],
   "source": [
    "# 같은 코드입니다. 한번에 칼럼이름까지 입력하는 방식입니다. \n",
    "# 이처럼 코딩은 누가 어떻게 하느냐에 따라 달라집니다. 한가지 방법만 있는 것도 아니고 무조건 옳은 것도 아닙니다."
   ]
  },
  {
   "cell_type": "code",
   "execution_count": 19,
   "metadata": {
    "ExecuteTime": {
     "end_time": "2024-07-12T14:33:56.896169Z",
     "start_time": "2024-07-12T14:33:56.881682Z"
    }
   },
   "outputs": [
    {
     "data": {
      "text/html": [
       "<div>\n",
       "<style scoped>\n",
       "    .dataframe tbody tr th:only-of-type {\n",
       "        vertical-align: middle;\n",
       "    }\n",
       "\n",
       "    .dataframe tbody tr th {\n",
       "        vertical-align: top;\n",
       "    }\n",
       "\n",
       "    .dataframe thead th {\n",
       "        text-align: right;\n",
       "    }\n",
       "</style>\n",
       "<table border=\"1\" class=\"dataframe\">\n",
       "  <thead>\n",
       "    <tr style=\"text-align: right;\">\n",
       "      <th></th>\n",
       "      <th>행정구역별</th>\n",
       "      <th>기간</th>\n",
       "      <th>주택매매가격지수</th>\n",
       "    </tr>\n",
       "  </thead>\n",
       "  <tbody>\n",
       "    <tr>\n",
       "      <th>0</th>\n",
       "      <td>전국</td>\n",
       "      <td>2003.11</td>\n",
       "      <td>61.5</td>\n",
       "    </tr>\n",
       "    <tr>\n",
       "      <th>1</th>\n",
       "      <td>서울특별시</td>\n",
       "      <td>2003.11</td>\n",
       "      <td>55.6</td>\n",
       "    </tr>\n",
       "    <tr>\n",
       "      <th>2</th>\n",
       "      <td>부산광역시</td>\n",
       "      <td>2003.11</td>\n",
       "      <td>66.4</td>\n",
       "    </tr>\n",
       "    <tr>\n",
       "      <th>3</th>\n",
       "      <td>대구광역시</td>\n",
       "      <td>2003.11</td>\n",
       "      <td>58.2</td>\n",
       "    </tr>\n",
       "    <tr>\n",
       "      <th>4</th>\n",
       "      <td>인천광역시</td>\n",
       "      <td>2003.11</td>\n",
       "      <td>55.9</td>\n",
       "    </tr>\n",
       "    <tr>\n",
       "      <th>...</th>\n",
       "      <td>...</td>\n",
       "      <td>...</td>\n",
       "      <td>...</td>\n",
       "    </tr>\n",
       "    <tr>\n",
       "      <th>4441</th>\n",
       "      <td>전라북도</td>\n",
       "      <td>2024.05</td>\n",
       "      <td>101.3</td>\n",
       "    </tr>\n",
       "    <tr>\n",
       "      <th>4442</th>\n",
       "      <td>전라남도</td>\n",
       "      <td>2024.05</td>\n",
       "      <td>98.7</td>\n",
       "    </tr>\n",
       "    <tr>\n",
       "      <th>4443</th>\n",
       "      <td>경상북도</td>\n",
       "      <td>2024.05</td>\n",
       "      <td>100.8</td>\n",
       "    </tr>\n",
       "    <tr>\n",
       "      <th>4444</th>\n",
       "      <td>경상남도</td>\n",
       "      <td>2024.05</td>\n",
       "      <td>96.8</td>\n",
       "    </tr>\n",
       "    <tr>\n",
       "      <th>4445</th>\n",
       "      <td>제주특별자치도</td>\n",
       "      <td>2024.05</td>\n",
       "      <td>100.8</td>\n",
       "    </tr>\n",
       "  </tbody>\n",
       "</table>\n",
       "<p>4446 rows × 3 columns</p>\n",
       "</div>"
      ],
      "text/plain": [
       "        행정구역별       기간 주택매매가격지수\n",
       "0          전국  2003.11     61.5\n",
       "1       서울특별시  2003.11     55.6\n",
       "2       부산광역시  2003.11     66.4\n",
       "3       대구광역시  2003.11     58.2\n",
       "4       인천광역시  2003.11     55.9\n",
       "...       ...      ...      ...\n",
       "4441     전라북도  2024.05    101.3\n",
       "4442     전라남도  2024.05     98.7\n",
       "4443     경상북도  2024.05    100.8\n",
       "4444     경상남도  2024.05     96.8\n",
       "4445  제주특별자치도  2024.05    100.8\n",
       "\n",
       "[4446 rows x 3 columns]"
      ]
     },
     "execution_count": 19,
     "metadata": {},
     "output_type": "execute_result"
    }
   ],
   "source": [
    "data_melt = pd.melt(df_price, id_vars=\"행정구역별\", var_name='기간', value_name='주택매매가격지수')\n",
    "data_melt"
   ]
  },
  {
   "cell_type": "code",
   "execution_count": 20,
   "metadata": {
    "ExecuteTime": {
     "end_time": "2024-07-12T14:33:56.911960Z",
     "start_time": "2024-07-12T14:33:56.896169Z"
    }
   },
   "outputs": [],
   "source": [
    "# 다시 csv 파일로 저장해봅니다."
   ]
  },
  {
   "cell_type": "code",
   "execution_count": 21,
   "metadata": {
    "ExecuteTime": {
     "end_time": "2024-07-12T14:33:56.931780Z",
     "start_time": "2024-07-12T14:33:56.911960Z"
    }
   },
   "outputs": [],
   "source": [
    "data_melt.to_csv(\"./data/주택매매가격지수_melted_20240724.csv\", header=True,index=False, encoding='cp949')"
   ]
  },
  {
   "cell_type": "markdown",
   "metadata": {},
   "source": [
    "# 4. 파이썬 데이터 구조"
   ]
  },
  {
   "cell_type": "markdown",
   "metadata": {},
   "source": [
    "![자료구조](./data/Blank-diagram.png)"
   ]
  },
  {
   "cell_type": "markdown",
   "metadata": {
    "ExecuteTime": {
     "end_time": "2021-08-07T22:21:11.968691Z",
     "start_time": "2021-08-07T22:21:11.952745Z"
    }
   },
   "source": [
    "꼭 알아야 할 것 : <span style=\"color:red\">**리스트(list)**</span>, 튜플, 딕셔너리,.. 텐서(tensor)  \n",
    "알기 쉬운 블로그 [참고1](https://corytips.tistory.com/161) [참고2](https://rekt77.tistory.com/102)\n",
    "\n",
    "## 4.1 list 함수 정리\n",
    "- count(원소) : 리스트 내 특정 원소가 몇 개 포함되어 있는지 반환  \n",
    "- index(원소) : 리스트 내 특정 원소의 인덱스를 반환  \n",
    "- append(원소) :리스트의 뒤쪽에 새로운 원소를 삽입  \n",
    "- sort() : 리스트를 오름차순으로 정렬  \n",
    "- extend(리스트) : 리스트의 뒤쪽에 다른 리스트를 삽입  \n",
    "- insert(인덱스, 원소) : 특정한 위치(인덱스)에 원소를 삽입  \n",
    "- remove(원소) : 리스트 내 특정 원소를 삭제  \n",
    "- pop(인덱스) : 리스트 내 특정 인덱스의 원소를 삭제  \n",
    "- reverse() : 리스트의 순서를 뒤집기  "
   ]
  },
  {
   "cell_type": "code",
   "execution_count": 22,
   "metadata": {
    "ExecuteTime": {
     "end_time": "2024-07-12T14:33:56.947891Z",
     "start_time": "2024-07-12T14:33:56.931780Z"
    }
   },
   "outputs": [],
   "source": [
    "# df[\"연도\"] = df[\"기간\"].str.split(\".\", expand=False) # expand = False 시리즈 반환(하나의 셀), True 데이터 프레임 반환(별도 셀)\n",
    "# df[\"연도\"]"
   ]
  },
  {
   "cell_type": "code",
   "execution_count": 23,
   "metadata": {
    "ExecuteTime": {
     "end_time": "2024-07-12T14:33:56.963728Z",
     "start_time": "2024-07-12T14:33:56.948373Z"
    }
   },
   "outputs": [
    {
     "data": {
      "text/plain": [
       "0    [this, is, a, regular, sentence]\n",
       "dtype: object"
      ]
     },
     "execution_count": 23,
     "metadata": {},
     "output_type": "execute_result"
    }
   ],
   "source": [
    "s = pd.Series([\"this is a regular sentence\"])    \n",
    "s.str.split(expand=False)"
   ]
  },
  {
   "cell_type": "code",
   "execution_count": 24,
   "metadata": {
    "ExecuteTime": {
     "end_time": "2024-07-12T14:33:56.972094Z",
     "start_time": "2024-07-12T14:33:56.965588Z"
    }
   },
   "outputs": [
    {
     "data": {
      "text/html": [
       "<div>\n",
       "<style scoped>\n",
       "    .dataframe tbody tr th:only-of-type {\n",
       "        vertical-align: middle;\n",
       "    }\n",
       "\n",
       "    .dataframe tbody tr th {\n",
       "        vertical-align: top;\n",
       "    }\n",
       "\n",
       "    .dataframe thead th {\n",
       "        text-align: right;\n",
       "    }\n",
       "</style>\n",
       "<table border=\"1\" class=\"dataframe\">\n",
       "  <thead>\n",
       "    <tr style=\"text-align: right;\">\n",
       "      <th></th>\n",
       "      <th>0</th>\n",
       "      <th>1</th>\n",
       "      <th>2</th>\n",
       "      <th>3</th>\n",
       "      <th>4</th>\n",
       "    </tr>\n",
       "  </thead>\n",
       "  <tbody>\n",
       "    <tr>\n",
       "      <th>0</th>\n",
       "      <td>this</td>\n",
       "      <td>is</td>\n",
       "      <td>a</td>\n",
       "      <td>regular</td>\n",
       "      <td>sentence</td>\n",
       "    </tr>\n",
       "  </tbody>\n",
       "</table>\n",
       "</div>"
      ],
      "text/plain": [
       "      0   1  2        3         4\n",
       "0  this  is  a  regular  sentence"
      ]
     },
     "execution_count": 24,
     "metadata": {},
     "output_type": "execute_result"
    }
   ],
   "source": [
    "s.str.split(expand=True)"
   ]
  },
  {
   "cell_type": "code",
   "execution_count": 25,
   "metadata": {
    "ExecuteTime": {
     "end_time": "2024-07-12T14:33:56.981623Z",
     "start_time": "2024-07-12T14:33:56.973003Z"
    }
   },
   "outputs": [
    {
     "data": {
      "text/html": [
       "<div>\n",
       "<style scoped>\n",
       "    .dataframe tbody tr th:only-of-type {\n",
       "        vertical-align: middle;\n",
       "    }\n",
       "\n",
       "    .dataframe tbody tr th {\n",
       "        vertical-align: top;\n",
       "    }\n",
       "\n",
       "    .dataframe thead th {\n",
       "        text-align: right;\n",
       "    }\n",
       "</style>\n",
       "<table border=\"1\" class=\"dataframe\">\n",
       "  <thead>\n",
       "    <tr style=\"text-align: right;\">\n",
       "      <th></th>\n",
       "      <th>지역</th>\n",
       "      <th>기간</th>\n",
       "      <th>주택매매가격지수</th>\n",
       "    </tr>\n",
       "  </thead>\n",
       "  <tbody>\n",
       "    <tr>\n",
       "      <th>0</th>\n",
       "      <td>전국</td>\n",
       "      <td>2003.11</td>\n",
       "      <td>61.5</td>\n",
       "    </tr>\n",
       "    <tr>\n",
       "      <th>1</th>\n",
       "      <td>서울특별시</td>\n",
       "      <td>2003.11</td>\n",
       "      <td>55.6</td>\n",
       "    </tr>\n",
       "    <tr>\n",
       "      <th>2</th>\n",
       "      <td>부산광역시</td>\n",
       "      <td>2003.11</td>\n",
       "      <td>66.4</td>\n",
       "    </tr>\n",
       "    <tr>\n",
       "      <th>3</th>\n",
       "      <td>대구광역시</td>\n",
       "      <td>2003.11</td>\n",
       "      <td>58.2</td>\n",
       "    </tr>\n",
       "    <tr>\n",
       "      <th>4</th>\n",
       "      <td>인천광역시</td>\n",
       "      <td>2003.11</td>\n",
       "      <td>55.9</td>\n",
       "    </tr>\n",
       "    <tr>\n",
       "      <th>...</th>\n",
       "      <td>...</td>\n",
       "      <td>...</td>\n",
       "      <td>...</td>\n",
       "    </tr>\n",
       "    <tr>\n",
       "      <th>4441</th>\n",
       "      <td>전라북도</td>\n",
       "      <td>2024.05</td>\n",
       "      <td>101.3</td>\n",
       "    </tr>\n",
       "    <tr>\n",
       "      <th>4442</th>\n",
       "      <td>전라남도</td>\n",
       "      <td>2024.05</td>\n",
       "      <td>98.7</td>\n",
       "    </tr>\n",
       "    <tr>\n",
       "      <th>4443</th>\n",
       "      <td>경상북도</td>\n",
       "      <td>2024.05</td>\n",
       "      <td>100.8</td>\n",
       "    </tr>\n",
       "    <tr>\n",
       "      <th>4444</th>\n",
       "      <td>경상남도</td>\n",
       "      <td>2024.05</td>\n",
       "      <td>96.8</td>\n",
       "    </tr>\n",
       "    <tr>\n",
       "      <th>4445</th>\n",
       "      <td>제주특별자치도</td>\n",
       "      <td>2024.05</td>\n",
       "      <td>100.8</td>\n",
       "    </tr>\n",
       "  </tbody>\n",
       "</table>\n",
       "<p>4446 rows × 3 columns</p>\n",
       "</div>"
      ],
      "text/plain": [
       "           지역       기간 주택매매가격지수\n",
       "0          전국  2003.11     61.5\n",
       "1       서울특별시  2003.11     55.6\n",
       "2       부산광역시  2003.11     66.4\n",
       "3       대구광역시  2003.11     58.2\n",
       "4       인천광역시  2003.11     55.9\n",
       "...       ...      ...      ...\n",
       "4441     전라북도  2024.05    101.3\n",
       "4442     전라남도  2024.05     98.7\n",
       "4443     경상북도  2024.05    100.8\n",
       "4444     경상남도  2024.05     96.8\n",
       "4445  제주특별자치도  2024.05    100.8\n",
       "\n",
       "[4446 rows x 3 columns]"
      ]
     },
     "execution_count": 25,
     "metadata": {},
     "output_type": "execute_result"
    }
   ],
   "source": [
    "df"
   ]
  },
  {
   "cell_type": "code",
   "execution_count": 26,
   "metadata": {
    "ExecuteTime": {
     "end_time": "2024-07-12T14:33:56.990144Z",
     "start_time": "2024-07-12T14:33:56.981623Z"
    }
   },
   "outputs": [
    {
     "data": {
      "text/plain": [
       "['2003', '11']"
      ]
     },
     "execution_count": 26,
     "metadata": {},
     "output_type": "execute_result"
    }
   ],
   "source": [
    "df[\"연도\"] = df[\"기간\"].str.split(\".\", expand=False)\n",
    "df[\"연도\"][0]"
   ]
  },
  {
   "cell_type": "code",
   "execution_count": 27,
   "metadata": {
    "ExecuteTime": {
     "end_time": "2024-07-12T14:33:57.006435Z",
     "start_time": "2024-07-12T14:33:56.990144Z"
    }
   },
   "outputs": [
    {
     "data": {
      "text/plain": [
       "0       2003\n",
       "1       2003\n",
       "2       2003\n",
       "3       2003\n",
       "4       2003\n",
       "        ... \n",
       "4441    2024\n",
       "4442    2024\n",
       "4443    2024\n",
       "4444    2024\n",
       "4445    2024\n",
       "Name: 연도, Length: 4446, dtype: object"
      ]
     },
     "execution_count": 27,
     "metadata": {},
     "output_type": "execute_result"
    }
   ],
   "source": [
    "df[\"연도\"] = df[\"기간\"].str.split(\".\", expand=True)[0]\n",
    "df[\"연도\"]"
   ]
  },
  {
   "cell_type": "code",
   "execution_count": 28,
   "metadata": {
    "ExecuteTime": {
     "end_time": "2024-07-12T14:33:57.023134Z",
     "start_time": "2024-07-12T14:33:57.007388Z"
    }
   },
   "outputs": [
    {
     "data": {
      "text/plain": [
       "0       11\n",
       "1       11\n",
       "2       11\n",
       "3       11\n",
       "4       11\n",
       "        ..\n",
       "4441    05\n",
       "4442    05\n",
       "4443    05\n",
       "4444    05\n",
       "4445    05\n",
       "Name: 월, Length: 4446, dtype: object"
      ]
     },
     "execution_count": 28,
     "metadata": {},
     "output_type": "execute_result"
    }
   ],
   "source": [
    "df[\"월\"] = df[\"기간\"].str.split(\".\", expand=True)[1]\n",
    "df[\"월\"]"
   ]
  },
  {
   "cell_type": "code",
   "execution_count": 29,
   "metadata": {
    "ExecuteTime": {
     "end_time": "2024-07-12T14:33:57.047640Z",
     "start_time": "2024-07-12T14:33:57.024134Z"
    }
   },
   "outputs": [
    {
     "data": {
      "text/html": [
       "<div>\n",
       "<style scoped>\n",
       "    .dataframe tbody tr th:only-of-type {\n",
       "        vertical-align: middle;\n",
       "    }\n",
       "\n",
       "    .dataframe tbody tr th {\n",
       "        vertical-align: top;\n",
       "    }\n",
       "\n",
       "    .dataframe thead th {\n",
       "        text-align: right;\n",
       "    }\n",
       "</style>\n",
       "<table border=\"1\" class=\"dataframe\">\n",
       "  <thead>\n",
       "    <tr style=\"text-align: right;\">\n",
       "      <th></th>\n",
       "      <th>지역</th>\n",
       "      <th>기간</th>\n",
       "      <th>주택매매가격지수</th>\n",
       "      <th>연도</th>\n",
       "      <th>월</th>\n",
       "    </tr>\n",
       "  </thead>\n",
       "  <tbody>\n",
       "    <tr>\n",
       "      <th>0</th>\n",
       "      <td>전국</td>\n",
       "      <td>2003.11</td>\n",
       "      <td>61.5</td>\n",
       "      <td>2003</td>\n",
       "      <td>11</td>\n",
       "    </tr>\n",
       "    <tr>\n",
       "      <th>1</th>\n",
       "      <td>서울특별시</td>\n",
       "      <td>2003.11</td>\n",
       "      <td>55.6</td>\n",
       "      <td>2003</td>\n",
       "      <td>11</td>\n",
       "    </tr>\n",
       "    <tr>\n",
       "      <th>2</th>\n",
       "      <td>부산광역시</td>\n",
       "      <td>2003.11</td>\n",
       "      <td>66.4</td>\n",
       "      <td>2003</td>\n",
       "      <td>11</td>\n",
       "    </tr>\n",
       "    <tr>\n",
       "      <th>3</th>\n",
       "      <td>대구광역시</td>\n",
       "      <td>2003.11</td>\n",
       "      <td>58.2</td>\n",
       "      <td>2003</td>\n",
       "      <td>11</td>\n",
       "    </tr>\n",
       "    <tr>\n",
       "      <th>4</th>\n",
       "      <td>인천광역시</td>\n",
       "      <td>2003.11</td>\n",
       "      <td>55.9</td>\n",
       "      <td>2003</td>\n",
       "      <td>11</td>\n",
       "    </tr>\n",
       "    <tr>\n",
       "      <th>...</th>\n",
       "      <td>...</td>\n",
       "      <td>...</td>\n",
       "      <td>...</td>\n",
       "      <td>...</td>\n",
       "      <td>...</td>\n",
       "    </tr>\n",
       "    <tr>\n",
       "      <th>4441</th>\n",
       "      <td>전라북도</td>\n",
       "      <td>2024.05</td>\n",
       "      <td>101.3</td>\n",
       "      <td>2024</td>\n",
       "      <td>05</td>\n",
       "    </tr>\n",
       "    <tr>\n",
       "      <th>4442</th>\n",
       "      <td>전라남도</td>\n",
       "      <td>2024.05</td>\n",
       "      <td>98.7</td>\n",
       "      <td>2024</td>\n",
       "      <td>05</td>\n",
       "    </tr>\n",
       "    <tr>\n",
       "      <th>4443</th>\n",
       "      <td>경상북도</td>\n",
       "      <td>2024.05</td>\n",
       "      <td>100.8</td>\n",
       "      <td>2024</td>\n",
       "      <td>05</td>\n",
       "    </tr>\n",
       "    <tr>\n",
       "      <th>4444</th>\n",
       "      <td>경상남도</td>\n",
       "      <td>2024.05</td>\n",
       "      <td>96.8</td>\n",
       "      <td>2024</td>\n",
       "      <td>05</td>\n",
       "    </tr>\n",
       "    <tr>\n",
       "      <th>4445</th>\n",
       "      <td>제주특별자치도</td>\n",
       "      <td>2024.05</td>\n",
       "      <td>100.8</td>\n",
       "      <td>2024</td>\n",
       "      <td>05</td>\n",
       "    </tr>\n",
       "  </tbody>\n",
       "</table>\n",
       "<p>4446 rows × 5 columns</p>\n",
       "</div>"
      ],
      "text/plain": [
       "           지역       기간 주택매매가격지수    연도   월\n",
       "0          전국  2003.11     61.5  2003  11\n",
       "1       서울특별시  2003.11     55.6  2003  11\n",
       "2       부산광역시  2003.11     66.4  2003  11\n",
       "3       대구광역시  2003.11     58.2  2003  11\n",
       "4       인천광역시  2003.11     55.9  2003  11\n",
       "...       ...      ...      ...   ...  ..\n",
       "4441     전라북도  2024.05    101.3  2024  05\n",
       "4442     전라남도  2024.05     98.7  2024  05\n",
       "4443     경상북도  2024.05    100.8  2024  05\n",
       "4444     경상남도  2024.05     96.8  2024  05\n",
       "4445  제주특별자치도  2024.05    100.8  2024  05\n",
       "\n",
       "[4446 rows x 5 columns]"
      ]
     },
     "execution_count": 29,
     "metadata": {},
     "output_type": "execute_result"
    }
   ],
   "source": [
    "df"
   ]
  },
  {
   "cell_type": "markdown",
   "metadata": {},
   "source": [
    "# 5. 데이터 타입\n",
    "\n",
    "* 정수형 (int) : 1, 2, 3\n",
    "* 부동소수점형 (float) : 3.14, 0.9\n",
    "* 문자형(str) : 'python', '파이썬'\n",
    "\n",
    "## 5.1 데이터 타입의 확인 \n",
    "* 데이터 - 타입 확인 : type(df)\n",
    "* 데이터프레임 - 타입 확인 : df.dtypes\n",
    "    \n",
    "## 5.2 데이터 타입 변환  \n",
    "* 원하는 컬럼의 타입만 바꿀때 : df.astype({'아파트매매가격지수' : 'float'})\n",
    "* 파이썬 정수 변환 - int()  \n",
    "* 파이썬 실수 변환 - float()  \n",
    "* 파이썬 문자열 변환 - str()  \n",
    "* 파이썬 문자 변환 - chr()  \n",
    "* 파이썬 불리언 변환 - bool()"
   ]
  },
  {
   "cell_type": "code",
   "execution_count": 30,
   "metadata": {
    "ExecuteTime": {
     "end_time": "2024-07-12T14:33:57.056013Z",
     "start_time": "2024-07-12T14:33:57.049795Z"
    }
   },
   "outputs": [],
   "source": [
    "#  아파트 매매가격지수 칼럼의 \"0\"(세종시), -\" 하이픈을  NaN(Not a number)로 대체합니다."
   ]
  },
  {
   "cell_type": "code",
   "execution_count": 31,
   "metadata": {
    "ExecuteTime": {
     "end_time": "2024-07-12T14:33:57.065085Z",
     "start_time": "2024-07-12T14:33:57.058598Z"
    }
   },
   "outputs": [],
   "source": [
    "df[\"주택매매가격지수\"] = df[\"주택매매가격지수\"].replace(\"0\", np.nan)\n",
    "df[\"주택매매가격지수\"] = df[\"주택매매가격지수\"].replace(\"-\", np.nan)"
   ]
  },
  {
   "cell_type": "code",
   "execution_count": 32,
   "metadata": {
    "ExecuteTime": {
     "end_time": "2024-07-12T14:33:57.080962Z",
     "start_time": "2024-07-12T14:33:57.065085Z"
    }
   },
   "outputs": [],
   "source": [
    "df[\"주택매매가격지수\"] = pd.to_numeric(df[\"주택매매가격지수\"])"
   ]
  },
  {
   "cell_type": "code",
   "execution_count": 33,
   "metadata": {
    "ExecuteTime": {
     "end_time": "2024-07-12T14:33:57.778782Z",
     "start_time": "2024-07-12T14:33:57.081724Z"
    }
   },
   "outputs": [],
   "source": [
    "import seaborn as sns\n",
    "import matplotlib.pyplot as plt\n",
    "\n",
    "sns.set(font=\"NanumGothic\")"
   ]
  },
  {
   "cell_type": "code",
   "execution_count": 34,
   "metadata": {
    "ExecuteTime": {
     "end_time": "2024-07-12T14:33:57.794413Z",
     "start_time": "2024-07-12T14:33:57.778782Z"
    }
   },
   "outputs": [
    {
     "data": {
      "text/html": [
       "<div>\n",
       "<style scoped>\n",
       "    .dataframe tbody tr th:only-of-type {\n",
       "        vertical-align: middle;\n",
       "    }\n",
       "\n",
       "    .dataframe tbody tr th {\n",
       "        vertical-align: top;\n",
       "    }\n",
       "\n",
       "    .dataframe thead th {\n",
       "        text-align: right;\n",
       "    }\n",
       "</style>\n",
       "<table border=\"1\" class=\"dataframe\">\n",
       "  <thead>\n",
       "    <tr style=\"text-align: right;\">\n",
       "      <th></th>\n",
       "      <th>지역</th>\n",
       "      <th>기간</th>\n",
       "      <th>주택매매가격지수</th>\n",
       "      <th>연도</th>\n",
       "      <th>월</th>\n",
       "    </tr>\n",
       "  </thead>\n",
       "  <tbody>\n",
       "    <tr>\n",
       "      <th>0</th>\n",
       "      <td>전국</td>\n",
       "      <td>2003.11</td>\n",
       "      <td>61.5</td>\n",
       "      <td>2003</td>\n",
       "      <td>11</td>\n",
       "    </tr>\n",
       "    <tr>\n",
       "      <th>18</th>\n",
       "      <td>전국</td>\n",
       "      <td>2003.12</td>\n",
       "      <td>61.0</td>\n",
       "      <td>2003</td>\n",
       "      <td>12</td>\n",
       "    </tr>\n",
       "    <tr>\n",
       "      <th>36</th>\n",
       "      <td>전국</td>\n",
       "      <td>2004.01</td>\n",
       "      <td>60.7</td>\n",
       "      <td>2004</td>\n",
       "      <td>01</td>\n",
       "    </tr>\n",
       "    <tr>\n",
       "      <th>54</th>\n",
       "      <td>전국</td>\n",
       "      <td>2004.02</td>\n",
       "      <td>60.7</td>\n",
       "      <td>2004</td>\n",
       "      <td>02</td>\n",
       "    </tr>\n",
       "    <tr>\n",
       "      <th>72</th>\n",
       "      <td>전국</td>\n",
       "      <td>2004.03</td>\n",
       "      <td>60.8</td>\n",
       "      <td>2004</td>\n",
       "      <td>03</td>\n",
       "    </tr>\n",
       "  </tbody>\n",
       "</table>\n",
       "</div>"
      ],
      "text/plain": [
       "    지역       기간  주택매매가격지수    연도   월\n",
       "0   전국  2003.11      61.5  2003  11\n",
       "18  전국  2003.12      61.0  2003  12\n",
       "36  전국  2004.01      60.7  2004  01\n",
       "54  전국  2004.02      60.7  2004  02\n",
       "72  전국  2004.03      60.8  2004  03"
      ]
     },
     "execution_count": 34,
     "metadata": {},
     "output_type": "execute_result"
    }
   ],
   "source": [
    "df_nation = df[df[\"지역\"].isin([\"전국\"])]\n",
    "df_nation.head()"
   ]
  },
  {
   "cell_type": "code",
   "execution_count": 35,
   "metadata": {
    "ExecuteTime": {
     "end_time": "2024-07-12T14:33:57.802496Z",
     "start_time": "2024-07-12T14:33:57.795603Z"
    }
   },
   "outputs": [
    {
     "data": {
      "text/plain": [
       "(247, 5)"
      ]
     },
     "execution_count": 35,
     "metadata": {},
     "output_type": "execute_result"
    }
   ],
   "source": [
    "df_nation.shape"
   ]
  },
  {
   "cell_type": "code",
   "execution_count": 36,
   "metadata": {
    "ExecuteTime": {
     "end_time": "2024-07-12T14:33:58.288808Z",
     "start_time": "2024-07-12T14:33:57.803722Z"
    }
   },
   "outputs": [
    {
     "data": {
      "text/plain": [
       "<matplotlib.legend.Legend at 0x1c9fff6f070>"
      ]
     },
     "execution_count": 36,
     "metadata": {},
     "output_type": "execute_result"
    },
    {
     "data": {
      "image/png": "[encoded data removed]",
      "text/plain": [
       "<Figure size 1080x288 with 1 Axes>"
      ]
     },
     "metadata": {
      "needs_background": "light"
     },
     "output_type": "display_data"
    }
   ],
   "source": [
    "# 그래프 사이즈 변경하기 (가로, 세로)\n",
    "plt.figure(figsize=(15, 4))\n",
    "\n",
    "#  hue 인수에 카테고리 변수 이름을 지정하면, 카테고리 값에 따라 색상 변경\n",
    "sns.pointplot(data=df_nation, x=\"연도\", y=\"주택매매가격지수\", hue=\"지역\")\n",
    "\n",
    "# 레전드 \"* 전국\" 위치를 고정\n",
    "plt.legend(bbox_to_anchor=(1, 1))"
   ]
  },
  {
   "cell_type": "code",
   "execution_count": 37,
   "metadata": {
    "ExecuteTime": {
     "end_time": "2024-07-12T14:33:58.298832Z",
     "start_time": "2024-07-12T14:33:58.289468Z"
    }
   },
   "outputs": [
    {
     "data": {
      "text/html": [
       "<div>\n",
       "<style scoped>\n",
       "    .dataframe tbody tr th:only-of-type {\n",
       "        vertical-align: middle;\n",
       "    }\n",
       "\n",
       "    .dataframe tbody tr th {\n",
       "        vertical-align: top;\n",
       "    }\n",
       "\n",
       "    .dataframe thead th {\n",
       "        text-align: right;\n",
       "    }\n",
       "</style>\n",
       "<table border=\"1\" class=\"dataframe\">\n",
       "  <thead>\n",
       "    <tr style=\"text-align: right;\">\n",
       "      <th></th>\n",
       "      <th>지역</th>\n",
       "      <th>기간</th>\n",
       "      <th>주택매매가격지수</th>\n",
       "      <th>연도</th>\n",
       "      <th>월</th>\n",
       "    </tr>\n",
       "  </thead>\n",
       "  <tbody>\n",
       "    <tr>\n",
       "      <th>0</th>\n",
       "      <td>전국</td>\n",
       "      <td>2003.11</td>\n",
       "      <td>61.5</td>\n",
       "      <td>2003</td>\n",
       "      <td>11</td>\n",
       "    </tr>\n",
       "    <tr>\n",
       "      <th>1</th>\n",
       "      <td>서울특별시</td>\n",
       "      <td>2003.11</td>\n",
       "      <td>55.6</td>\n",
       "      <td>2003</td>\n",
       "      <td>11</td>\n",
       "    </tr>\n",
       "    <tr>\n",
       "      <th>18</th>\n",
       "      <td>전국</td>\n",
       "      <td>2003.12</td>\n",
       "      <td>61.0</td>\n",
       "      <td>2003</td>\n",
       "      <td>12</td>\n",
       "    </tr>\n",
       "    <tr>\n",
       "      <th>19</th>\n",
       "      <td>서울특별시</td>\n",
       "      <td>2003.12</td>\n",
       "      <td>55.2</td>\n",
       "      <td>2003</td>\n",
       "      <td>12</td>\n",
       "    </tr>\n",
       "    <tr>\n",
       "      <th>36</th>\n",
       "      <td>전국</td>\n",
       "      <td>2004.01</td>\n",
       "      <td>60.7</td>\n",
       "      <td>2004</td>\n",
       "      <td>01</td>\n",
       "    </tr>\n",
       "  </tbody>\n",
       "</table>\n",
       "</div>"
      ],
      "text/plain": [
       "       지역       기간  주택매매가격지수    연도   월\n",
       "0      전국  2003.11      61.5  2003  11\n",
       "1   서울특별시  2003.11      55.6  2003  11\n",
       "18     전국  2003.12      61.0  2003  12\n",
       "19  서울특별시  2003.12      55.2  2003  12\n",
       "36     전국  2004.01      60.7  2004  01"
      ]
     },
     "execution_count": 37,
     "metadata": {},
     "output_type": "execute_result"
    }
   ],
   "source": [
    "df_seoul = df[df[\"지역\"].isin([\"전국\", \"서울특별시\"])]\n",
    "df_seoul.head()"
   ]
  },
  {
   "cell_type": "code",
   "execution_count": 38,
   "metadata": {
    "ExecuteTime": {
     "end_time": "2024-07-12T14:33:58.314123Z",
     "start_time": "2024-07-12T14:33:58.298832Z"
    }
   },
   "outputs": [
    {
     "data": {
      "text/html": [
       "<div>\n",
       "<style scoped>\n",
       "    .dataframe tbody tr th:only-of-type {\n",
       "        vertical-align: middle;\n",
       "    }\n",
       "\n",
       "    .dataframe tbody tr th {\n",
       "        vertical-align: top;\n",
       "    }\n",
       "\n",
       "    .dataframe thead th {\n",
       "        text-align: right;\n",
       "    }\n",
       "</style>\n",
       "<table border=\"1\" class=\"dataframe\">\n",
       "  <thead>\n",
       "    <tr style=\"text-align: right;\">\n",
       "      <th></th>\n",
       "      <th>지역</th>\n",
       "      <th>기간</th>\n",
       "      <th>주택매매가격지수</th>\n",
       "      <th>연도</th>\n",
       "      <th>월</th>\n",
       "    </tr>\n",
       "  </thead>\n",
       "  <tbody>\n",
       "    <tr>\n",
       "      <th>0</th>\n",
       "      <td>전국</td>\n",
       "      <td>2003.11</td>\n",
       "      <td>61.5</td>\n",
       "      <td>2003</td>\n",
       "      <td>11</td>\n",
       "    </tr>\n",
       "    <tr>\n",
       "      <th>1</th>\n",
       "      <td>서울특별시</td>\n",
       "      <td>2003.11</td>\n",
       "      <td>55.6</td>\n",
       "      <td>2003</td>\n",
       "      <td>11</td>\n",
       "    </tr>\n",
       "    <tr>\n",
       "      <th>2</th>\n",
       "      <td>부산광역시</td>\n",
       "      <td>2003.11</td>\n",
       "      <td>66.4</td>\n",
       "      <td>2003</td>\n",
       "      <td>11</td>\n",
       "    </tr>\n",
       "    <tr>\n",
       "      <th>18</th>\n",
       "      <td>전국</td>\n",
       "      <td>2003.12</td>\n",
       "      <td>61.0</td>\n",
       "      <td>2003</td>\n",
       "      <td>12</td>\n",
       "    </tr>\n",
       "    <tr>\n",
       "      <th>19</th>\n",
       "      <td>서울특별시</td>\n",
       "      <td>2003.12</td>\n",
       "      <td>55.2</td>\n",
       "      <td>2003</td>\n",
       "      <td>12</td>\n",
       "    </tr>\n",
       "  </tbody>\n",
       "</table>\n",
       "</div>"
      ],
      "text/plain": [
       "       지역       기간  주택매매가격지수    연도   월\n",
       "0      전국  2003.11      61.5  2003  11\n",
       "1   서울특별시  2003.11      55.6  2003  11\n",
       "2   부산광역시  2003.11      66.4  2003  11\n",
       "18     전국  2003.12      61.0  2003  12\n",
       "19  서울특별시  2003.12      55.2  2003  12"
      ]
     },
     "execution_count": 38,
     "metadata": {},
     "output_type": "execute_result"
    }
   ],
   "source": [
    "df_pusan = df[df[\"지역\"].isin([\"전국\", \"서울특별시\",'부산광역시'])]\n",
    "df_pusan.head()"
   ]
  },
  {
   "cell_type": "code",
   "execution_count": 39,
   "metadata": {
    "ExecuteTime": {
     "end_time": "2024-07-12T14:33:59.261257Z",
     "start_time": "2024-07-12T14:33:58.315861Z"
    }
   },
   "outputs": [
    {
     "data": {
      "image/png": "[encoded data removed]",
      "text/plain": [
       "<Figure size 1080x288 with 1 Axes>"
      ]
     },
     "metadata": {
      "needs_background": "light"
     },
     "output_type": "display_data"
    }
   ],
   "source": [
    "# 그래프 사이즈 변경하기 (가로, 세로)\n",
    "plt.figure(figsize=(15, 4))\n",
    "\n",
    "#  hue 인수에 카테고리 변수 이름을 지정하면, 카테고리 값에 따라 색상 변경\n",
    "sns.pointplot(data=df_pusan, x=\"연도\", y=\"주택매매가격지수\", hue=\"지역\")\n",
    "\n",
    "# 레전드 \"* 전국\" 위치를 고정\n",
    "plt.legend(bbox_to_anchor=(1, 1))\n",
    "\n",
    "# 그래프를 파일로 저장\n",
    "plt.savefig('./data/주택매매가격지수 시각화.png') # pad_inches=0"
   ]
  },
  {
   "cell_type": "markdown",
   "metadata": {},
   "source": [
    "# 연습문제(Exercise) - Just Do It Now !\n",
    "### isin()함수를 사용하여 전국과 여러분이 사는 지역의 주택매매가격지수를 비교해보세요"
   ]
  },
  {
   "cell_type": "code",
   "execution_count": 40,
   "metadata": {
    "ExecuteTime": {
     "end_time": "2024-07-12T14:33:59.277360Z",
     "start_time": "2024-07-12T14:33:59.261257Z"
    }
   },
   "outputs": [],
   "source": [
    "## 코드입력"
   ]
  },
  {
   "cell_type": "markdown",
   "metadata": {},
   "source": [
    "# 정부별 주택매매지수 시계열 분석"
   ]
  },
  {
   "cell_type": "code",
   "execution_count": 41,
   "metadata": {
    "ExecuteTime": {
     "end_time": "2024-07-12T14:33:59.293319Z",
     "start_time": "2024-07-12T14:33:59.277360Z"
    }
   },
   "outputs": [
    {
     "data": {
      "text/html": [
       "<div>\n",
       "<style scoped>\n",
       "    .dataframe tbody tr th:only-of-type {\n",
       "        vertical-align: middle;\n",
       "    }\n",
       "\n",
       "    .dataframe tbody tr th {\n",
       "        vertical-align: top;\n",
       "    }\n",
       "\n",
       "    .dataframe thead th {\n",
       "        text-align: right;\n",
       "    }\n",
       "</style>\n",
       "<table border=\"1\" class=\"dataframe\">\n",
       "  <thead>\n",
       "    <tr style=\"text-align: right;\">\n",
       "      <th></th>\n",
       "      <th>지역</th>\n",
       "      <th>기간</th>\n",
       "      <th>주택매매가격지수</th>\n",
       "      <th>연도</th>\n",
       "      <th>월</th>\n",
       "    </tr>\n",
       "  </thead>\n",
       "  <tbody>\n",
       "    <tr>\n",
       "      <th>0</th>\n",
       "      <td>전국</td>\n",
       "      <td>2003.11</td>\n",
       "      <td>61.5</td>\n",
       "      <td>2003</td>\n",
       "      <td>11</td>\n",
       "    </tr>\n",
       "    <tr>\n",
       "      <th>18</th>\n",
       "      <td>전국</td>\n",
       "      <td>2003.12</td>\n",
       "      <td>61.0</td>\n",
       "      <td>2003</td>\n",
       "      <td>12</td>\n",
       "    </tr>\n",
       "    <tr>\n",
       "      <th>36</th>\n",
       "      <td>전국</td>\n",
       "      <td>2004.01</td>\n",
       "      <td>60.7</td>\n",
       "      <td>2004</td>\n",
       "      <td>01</td>\n",
       "    </tr>\n",
       "    <tr>\n",
       "      <th>54</th>\n",
       "      <td>전국</td>\n",
       "      <td>2004.02</td>\n",
       "      <td>60.7</td>\n",
       "      <td>2004</td>\n",
       "      <td>02</td>\n",
       "    </tr>\n",
       "    <tr>\n",
       "      <th>72</th>\n",
       "      <td>전국</td>\n",
       "      <td>2004.03</td>\n",
       "      <td>60.8</td>\n",
       "      <td>2004</td>\n",
       "      <td>03</td>\n",
       "    </tr>\n",
       "    <tr>\n",
       "      <th>...</th>\n",
       "      <td>...</td>\n",
       "      <td>...</td>\n",
       "      <td>...</td>\n",
       "      <td>...</td>\n",
       "      <td>...</td>\n",
       "    </tr>\n",
       "    <tr>\n",
       "      <th>4356</th>\n",
       "      <td>전국</td>\n",
       "      <td>2024.01</td>\n",
       "      <td>96.0</td>\n",
       "      <td>2024</td>\n",
       "      <td>01</td>\n",
       "    </tr>\n",
       "    <tr>\n",
       "      <th>4374</th>\n",
       "      <td>전국</td>\n",
       "      <td>2024.02</td>\n",
       "      <td>95.9</td>\n",
       "      <td>2024</td>\n",
       "      <td>02</td>\n",
       "    </tr>\n",
       "    <tr>\n",
       "      <th>4392</th>\n",
       "      <td>전국</td>\n",
       "      <td>2024.03</td>\n",
       "      <td>95.8</td>\n",
       "      <td>2024</td>\n",
       "      <td>03</td>\n",
       "    </tr>\n",
       "    <tr>\n",
       "      <th>4410</th>\n",
       "      <td>전국</td>\n",
       "      <td>2024.04</td>\n",
       "      <td>95.7</td>\n",
       "      <td>2024</td>\n",
       "      <td>04</td>\n",
       "    </tr>\n",
       "    <tr>\n",
       "      <th>4428</th>\n",
       "      <td>전국</td>\n",
       "      <td>2024.05</td>\n",
       "      <td>95.7</td>\n",
       "      <td>2024</td>\n",
       "      <td>05</td>\n",
       "    </tr>\n",
       "  </tbody>\n",
       "</table>\n",
       "<p>247 rows × 5 columns</p>\n",
       "</div>"
      ],
      "text/plain": [
       "      지역       기간  주택매매가격지수    연도   월\n",
       "0     전국  2003.11      61.5  2003  11\n",
       "18    전국  2003.12      61.0  2003  12\n",
       "36    전국  2004.01      60.7  2004  01\n",
       "54    전국  2004.02      60.7  2004  02\n",
       "72    전국  2004.03      60.8  2004  03\n",
       "...   ..      ...       ...   ...  ..\n",
       "4356  전국  2024.01      96.0  2024  01\n",
       "4374  전국  2024.02      95.9  2024  02\n",
       "4392  전국  2024.03      95.8  2024  03\n",
       "4410  전국  2024.04      95.7  2024  04\n",
       "4428  전국  2024.05      95.7  2024  05\n",
       "\n",
       "[247 rows x 5 columns]"
      ]
     },
     "execution_count": 41,
     "metadata": {},
     "output_type": "execute_result"
    }
   ],
   "source": [
    "df_nation"
   ]
  },
  {
   "cell_type": "code",
   "execution_count": 42,
   "metadata": {
    "ExecuteTime": {
     "end_time": "2024-07-12T14:33:59.463264Z",
     "start_time": "2024-07-12T14:33:59.293319Z"
    }
   },
   "outputs": [
    {
     "data": {
      "image/png": "[encoded data removed]",
      "text/plain": [
       "<Figure size 1500x400 with 1 Axes>"
      ]
     },
     "metadata": {},
     "output_type": "display_data"
    }
   ],
   "source": [
    "import pandas as pd\n",
    "from datetime import datetime\n",
    "import matplotlib.pyplot as plt\n",
    "\n",
    "import warnings\n",
    "warnings.filterwarnings(\"ignore\")\n",
    "\n",
    "# 1. 기본 스타일 설정\n",
    "plt.style.use('default')\n",
    "plt.rcParams['figure.figsize'] = (15, 4)\n",
    "\n",
    "plt.rcParams['font.size'] = 12\n",
    "# plt.rc('font', size = 12)\n",
    "\n",
    "plt.rcParams['font.family'] ='NanumGothic'\n",
    "# plt.rc('font', family = 'NanumGothic')\n",
    "\n",
    "\n",
    "\n",
    "# 시점 \n",
    "df_nation['기간'] = pd.to_datetime(df_nation['기간'])\n",
    "\n",
    "plt.plot(df_nation['기간'], df_nation['주택매매가격지수'], label='주택매매가격지수')\n",
    "\n",
    "# 구간별 색상변경\n",
    "plt.axvspan(datetime(2003, 2, 25), datetime(2008, 2, 25), facecolor='yellow', alpha=0.8)\n",
    "plt.axvspan(datetime(2008, 2, 25), datetime(2013, 2, 25), facecolor='red', alpha=0.8)\n",
    "plt.axvspan(datetime(2013, 2, 25), datetime(2017, 3, 10), facecolor='darkred', alpha=0.8)\n",
    "plt.axvspan(datetime(2017, 3, 10), datetime(2022, 5, 10), facecolor='royalblue', alpha=0.8)\n",
    "plt.axvspan(datetime(2022, 5, 10), datetime(2024, 12, 31), facecolor='pink', alpha=0.8)\n",
    "\n",
    "\n",
    "\n",
    "# 구간별 텍스트\n",
    "mybox={'facecolor':'w','edgecolor':'w','boxstyle':'round','alpha':0.5}\n",
    "plt.text(datetime(2005, 1, 1),90,'노무현정부', bbox=mybox)\n",
    "plt.text(datetime(2010, 1, 1),90,'이명박정부', bbox=mybox)\n",
    "plt.text(datetime(2014, 6, 1),90,'박근혜정부', bbox=mybox)\n",
    "plt.text(datetime(2019, 1, 1),90,'문재인정부', bbox=mybox)\n",
    "plt.text(datetime(2022, 9, 1),90,'윤석열정부', bbox=mybox)\n",
    "\n",
    "\n",
    "# ax=plt.gca() #현재 축의 객체를 반환\n",
    "# ax.get_xaxis().set_visible(False)\n",
    "\n",
    "plt.savefig('./data/graph.png', pad_inches=0) # bbox_inches='tight\n",
    "plt.legend()\n",
    "\n",
    "plt.show()\n",
    "\n",
    "# 그래프를 파일로 저장"
   ]
  },
  {
   "cell_type": "markdown",
   "metadata": {},
   "source": [
    "# 연습문제(Exercise) - Just Do It Now !\n",
    "### 위의 코드를 사용하여 정부별 전국과 여러분이 사는 지역의 주택매매가격지수 시각화해보세요"
   ]
  },
  {
   "cell_type": "code",
   "execution_count": 43,
   "metadata": {
    "ExecuteTime": {
     "end_time": "2024-07-12T14:33:59.481643Z",
     "start_time": "2024-07-12T14:33:59.467430Z"
    }
   },
   "outputs": [
    {
     "data": {
      "text/html": [
       "<div>\n",
       "<style scoped>\n",
       "    .dataframe tbody tr th:only-of-type {\n",
       "        vertical-align: middle;\n",
       "    }\n",
       "\n",
       "    .dataframe tbody tr th {\n",
       "        vertical-align: top;\n",
       "    }\n",
       "\n",
       "    .dataframe thead th {\n",
       "        text-align: right;\n",
       "    }\n",
       "</style>\n",
       "<table border=\"1\" class=\"dataframe\">\n",
       "  <thead>\n",
       "    <tr style=\"text-align: right;\">\n",
       "      <th></th>\n",
       "      <th>지역</th>\n",
       "      <th>기간</th>\n",
       "      <th>주택매매가격지수</th>\n",
       "      <th>연도</th>\n",
       "      <th>월</th>\n",
       "    </tr>\n",
       "  </thead>\n",
       "  <tbody>\n",
       "    <tr>\n",
       "      <th>0</th>\n",
       "      <td>전국</td>\n",
       "      <td>2003-11-01</td>\n",
       "      <td>61.5</td>\n",
       "      <td>2003</td>\n",
       "      <td>11</td>\n",
       "    </tr>\n",
       "    <tr>\n",
       "      <th>1</th>\n",
       "      <td>서울특별시</td>\n",
       "      <td>2003-11-01</td>\n",
       "      <td>55.6</td>\n",
       "      <td>2003</td>\n",
       "      <td>11</td>\n",
       "    </tr>\n",
       "    <tr>\n",
       "      <th>18</th>\n",
       "      <td>전국</td>\n",
       "      <td>2003-12-01</td>\n",
       "      <td>61.0</td>\n",
       "      <td>2003</td>\n",
       "      <td>12</td>\n",
       "    </tr>\n",
       "    <tr>\n",
       "      <th>19</th>\n",
       "      <td>서울특별시</td>\n",
       "      <td>2003-12-01</td>\n",
       "      <td>55.2</td>\n",
       "      <td>2003</td>\n",
       "      <td>12</td>\n",
       "    </tr>\n",
       "    <tr>\n",
       "      <th>36</th>\n",
       "      <td>전국</td>\n",
       "      <td>2004-01-01</td>\n",
       "      <td>60.7</td>\n",
       "      <td>2004</td>\n",
       "      <td>01</td>\n",
       "    </tr>\n",
       "    <tr>\n",
       "      <th>...</th>\n",
       "      <td>...</td>\n",
       "      <td>...</td>\n",
       "      <td>...</td>\n",
       "      <td>...</td>\n",
       "      <td>...</td>\n",
       "    </tr>\n",
       "    <tr>\n",
       "      <th>4393</th>\n",
       "      <td>서울특별시</td>\n",
       "      <td>2024-03-01</td>\n",
       "      <td>96.5</td>\n",
       "      <td>2024</td>\n",
       "      <td>03</td>\n",
       "    </tr>\n",
       "    <tr>\n",
       "      <th>4410</th>\n",
       "      <td>전국</td>\n",
       "      <td>2024-04-01</td>\n",
       "      <td>95.7</td>\n",
       "      <td>2024</td>\n",
       "      <td>04</td>\n",
       "    </tr>\n",
       "    <tr>\n",
       "      <th>4411</th>\n",
       "      <td>서울특별시</td>\n",
       "      <td>2024-04-01</td>\n",
       "      <td>96.6</td>\n",
       "      <td>2024</td>\n",
       "      <td>04</td>\n",
       "    </tr>\n",
       "    <tr>\n",
       "      <th>4428</th>\n",
       "      <td>전국</td>\n",
       "      <td>2024-05-01</td>\n",
       "      <td>95.7</td>\n",
       "      <td>2024</td>\n",
       "      <td>05</td>\n",
       "    </tr>\n",
       "    <tr>\n",
       "      <th>4429</th>\n",
       "      <td>서울특별시</td>\n",
       "      <td>2024-05-01</td>\n",
       "      <td>96.8</td>\n",
       "      <td>2024</td>\n",
       "      <td>05</td>\n",
       "    </tr>\n",
       "  </tbody>\n",
       "</table>\n",
       "<p>494 rows × 5 columns</p>\n",
       "</div>"
      ],
      "text/plain": [
       "         지역         기간  주택매매가격지수    연도   월\n",
       "0        전국 2003-11-01      61.5  2003  11\n",
       "1     서울특별시 2003-11-01      55.6  2003  11\n",
       "18       전국 2003-12-01      61.0  2003  12\n",
       "19    서울특별시 2003-12-01      55.2  2003  12\n",
       "36       전국 2004-01-01      60.7  2004  01\n",
       "...     ...        ...       ...   ...  ..\n",
       "4393  서울특별시 2024-03-01      96.5  2024  03\n",
       "4410     전국 2024-04-01      95.7  2024  04\n",
       "4411  서울특별시 2024-04-01      96.6  2024  04\n",
       "4428     전국 2024-05-01      95.7  2024  05\n",
       "4429  서울특별시 2024-05-01      96.8  2024  05\n",
       "\n",
       "[494 rows x 5 columns]"
      ]
     },
     "execution_count": 43,
     "metadata": {},
     "output_type": "execute_result"
    }
   ],
   "source": [
    "df_temp = df[df[\"지역\"].isin([\"전국\", \"서울특별시\"])]\n",
    "df_temp['기간'] = pd.to_datetime(df_temp['기간'])\n",
    "df_temp"
   ]
  },
  {
   "cell_type": "code",
   "execution_count": 44,
   "metadata": {
    "ExecuteTime": {
     "end_time": "2024-07-12T14:33:59.498549Z",
     "start_time": "2024-07-12T14:33:59.482649Z"
    }
   },
   "outputs": [],
   "source": [
    "df_seoul = df_temp[df_temp['지역']==\"서울특별시\"]\n",
    "df_nation = df_temp[df_temp['지역']==\"전국\"]"
   ]
  },
  {
   "cell_type": "code",
   "execution_count": 45,
   "metadata": {
    "ExecuteTime": {
     "end_time": "2024-07-12T14:33:59.514309Z",
     "start_time": "2024-07-12T14:33:59.498549Z"
    }
   },
   "outputs": [
    {
     "data": {
      "text/html": [
       "<div>\n",
       "<style scoped>\n",
       "    .dataframe tbody tr th:only-of-type {\n",
       "        vertical-align: middle;\n",
       "    }\n",
       "\n",
       "    .dataframe tbody tr th {\n",
       "        vertical-align: top;\n",
       "    }\n",
       "\n",
       "    .dataframe thead th {\n",
       "        text-align: right;\n",
       "    }\n",
       "</style>\n",
       "<table border=\"1\" class=\"dataframe\">\n",
       "  <thead>\n",
       "    <tr style=\"text-align: right;\">\n",
       "      <th></th>\n",
       "      <th>지역</th>\n",
       "      <th>기간</th>\n",
       "      <th>주택매매가격지수</th>\n",
       "      <th>연도</th>\n",
       "      <th>월</th>\n",
       "    </tr>\n",
       "  </thead>\n",
       "  <tbody>\n",
       "    <tr>\n",
       "      <th>1</th>\n",
       "      <td>서울특별시</td>\n",
       "      <td>2003-11-01</td>\n",
       "      <td>55.6</td>\n",
       "      <td>2003</td>\n",
       "      <td>11</td>\n",
       "    </tr>\n",
       "    <tr>\n",
       "      <th>19</th>\n",
       "      <td>서울특별시</td>\n",
       "      <td>2003-12-01</td>\n",
       "      <td>55.2</td>\n",
       "      <td>2003</td>\n",
       "      <td>12</td>\n",
       "    </tr>\n",
       "    <tr>\n",
       "      <th>37</th>\n",
       "      <td>서울특별시</td>\n",
       "      <td>2004-01-01</td>\n",
       "      <td>55.1</td>\n",
       "      <td>2004</td>\n",
       "      <td>01</td>\n",
       "    </tr>\n",
       "    <tr>\n",
       "      <th>55</th>\n",
       "      <td>서울특별시</td>\n",
       "      <td>2004-02-01</td>\n",
       "      <td>55.3</td>\n",
       "      <td>2004</td>\n",
       "      <td>02</td>\n",
       "    </tr>\n",
       "    <tr>\n",
       "      <th>73</th>\n",
       "      <td>서울특별시</td>\n",
       "      <td>2004-03-01</td>\n",
       "      <td>55.5</td>\n",
       "      <td>2004</td>\n",
       "      <td>03</td>\n",
       "    </tr>\n",
       "    <tr>\n",
       "      <th>...</th>\n",
       "      <td>...</td>\n",
       "      <td>...</td>\n",
       "      <td>...</td>\n",
       "      <td>...</td>\n",
       "      <td>...</td>\n",
       "    </tr>\n",
       "    <tr>\n",
       "      <th>4357</th>\n",
       "      <td>서울특별시</td>\n",
       "      <td>2024-01-01</td>\n",
       "      <td>96.6</td>\n",
       "      <td>2024</td>\n",
       "      <td>01</td>\n",
       "    </tr>\n",
       "    <tr>\n",
       "      <th>4375</th>\n",
       "      <td>서울특별시</td>\n",
       "      <td>2024-02-01</td>\n",
       "      <td>96.5</td>\n",
       "      <td>2024</td>\n",
       "      <td>02</td>\n",
       "    </tr>\n",
       "    <tr>\n",
       "      <th>4393</th>\n",
       "      <td>서울특별시</td>\n",
       "      <td>2024-03-01</td>\n",
       "      <td>96.5</td>\n",
       "      <td>2024</td>\n",
       "      <td>03</td>\n",
       "    </tr>\n",
       "    <tr>\n",
       "      <th>4411</th>\n",
       "      <td>서울특별시</td>\n",
       "      <td>2024-04-01</td>\n",
       "      <td>96.6</td>\n",
       "      <td>2024</td>\n",
       "      <td>04</td>\n",
       "    </tr>\n",
       "    <tr>\n",
       "      <th>4429</th>\n",
       "      <td>서울특별시</td>\n",
       "      <td>2024-05-01</td>\n",
       "      <td>96.8</td>\n",
       "      <td>2024</td>\n",
       "      <td>05</td>\n",
       "    </tr>\n",
       "  </tbody>\n",
       "</table>\n",
       "<p>247 rows × 5 columns</p>\n",
       "</div>"
      ],
      "text/plain": [
       "         지역         기간  주택매매가격지수    연도   월\n",
       "1     서울특별시 2003-11-01      55.6  2003  11\n",
       "19    서울특별시 2003-12-01      55.2  2003  12\n",
       "37    서울특별시 2004-01-01      55.1  2004  01\n",
       "55    서울특별시 2004-02-01      55.3  2004  02\n",
       "73    서울특별시 2004-03-01      55.5  2004  03\n",
       "...     ...        ...       ...   ...  ..\n",
       "4357  서울특별시 2024-01-01      96.6  2024  01\n",
       "4375  서울특별시 2024-02-01      96.5  2024  02\n",
       "4393  서울특별시 2024-03-01      96.5  2024  03\n",
       "4411  서울특별시 2024-04-01      96.6  2024  04\n",
       "4429  서울특별시 2024-05-01      96.8  2024  05\n",
       "\n",
       "[247 rows x 5 columns]"
      ]
     },
     "execution_count": 45,
     "metadata": {},
     "output_type": "execute_result"
    }
   ],
   "source": [
    "df_seoul"
   ]
  },
  {
   "cell_type": "code",
   "execution_count": 46,
   "metadata": {
    "ExecuteTime": {
     "end_time": "2024-07-12T14:33:59.532024Z",
     "start_time": "2024-07-12T14:33:59.514933Z"
    }
   },
   "outputs": [
    {
     "data": {
      "text/html": [
       "<div>\n",
       "<style scoped>\n",
       "    .dataframe tbody tr th:only-of-type {\n",
       "        vertical-align: middle;\n",
       "    }\n",
       "\n",
       "    .dataframe tbody tr th {\n",
       "        vertical-align: top;\n",
       "    }\n",
       "\n",
       "    .dataframe thead th {\n",
       "        text-align: right;\n",
       "    }\n",
       "</style>\n",
       "<table border=\"1\" class=\"dataframe\">\n",
       "  <thead>\n",
       "    <tr style=\"text-align: right;\">\n",
       "      <th></th>\n",
       "      <th>지역</th>\n",
       "      <th>기간</th>\n",
       "      <th>주택매매가격지수</th>\n",
       "      <th>연도</th>\n",
       "      <th>월</th>\n",
       "    </tr>\n",
       "  </thead>\n",
       "  <tbody>\n",
       "    <tr>\n",
       "      <th>0</th>\n",
       "      <td>전국</td>\n",
       "      <td>2003-11-01</td>\n",
       "      <td>61.5</td>\n",
       "      <td>2003</td>\n",
       "      <td>11</td>\n",
       "    </tr>\n",
       "    <tr>\n",
       "      <th>18</th>\n",
       "      <td>전국</td>\n",
       "      <td>2003-12-01</td>\n",
       "      <td>61.0</td>\n",
       "      <td>2003</td>\n",
       "      <td>12</td>\n",
       "    </tr>\n",
       "    <tr>\n",
       "      <th>36</th>\n",
       "      <td>전국</td>\n",
       "      <td>2004-01-01</td>\n",
       "      <td>60.7</td>\n",
       "      <td>2004</td>\n",
       "      <td>01</td>\n",
       "    </tr>\n",
       "    <tr>\n",
       "      <th>54</th>\n",
       "      <td>전국</td>\n",
       "      <td>2004-02-01</td>\n",
       "      <td>60.7</td>\n",
       "      <td>2004</td>\n",
       "      <td>02</td>\n",
       "    </tr>\n",
       "    <tr>\n",
       "      <th>72</th>\n",
       "      <td>전국</td>\n",
       "      <td>2004-03-01</td>\n",
       "      <td>60.8</td>\n",
       "      <td>2004</td>\n",
       "      <td>03</td>\n",
       "    </tr>\n",
       "    <tr>\n",
       "      <th>...</th>\n",
       "      <td>...</td>\n",
       "      <td>...</td>\n",
       "      <td>...</td>\n",
       "      <td>...</td>\n",
       "      <td>...</td>\n",
       "    </tr>\n",
       "    <tr>\n",
       "      <th>4356</th>\n",
       "      <td>전국</td>\n",
       "      <td>2024-01-01</td>\n",
       "      <td>96.0</td>\n",
       "      <td>2024</td>\n",
       "      <td>01</td>\n",
       "    </tr>\n",
       "    <tr>\n",
       "      <th>4374</th>\n",
       "      <td>전국</td>\n",
       "      <td>2024-02-01</td>\n",
       "      <td>95.9</td>\n",
       "      <td>2024</td>\n",
       "      <td>02</td>\n",
       "    </tr>\n",
       "    <tr>\n",
       "      <th>4392</th>\n",
       "      <td>전국</td>\n",
       "      <td>2024-03-01</td>\n",
       "      <td>95.8</td>\n",
       "      <td>2024</td>\n",
       "      <td>03</td>\n",
       "    </tr>\n",
       "    <tr>\n",
       "      <th>4410</th>\n",
       "      <td>전국</td>\n",
       "      <td>2024-04-01</td>\n",
       "      <td>95.7</td>\n",
       "      <td>2024</td>\n",
       "      <td>04</td>\n",
       "    </tr>\n",
       "    <tr>\n",
       "      <th>4428</th>\n",
       "      <td>전국</td>\n",
       "      <td>2024-05-01</td>\n",
       "      <td>95.7</td>\n",
       "      <td>2024</td>\n",
       "      <td>05</td>\n",
       "    </tr>\n",
       "  </tbody>\n",
       "</table>\n",
       "<p>247 rows × 5 columns</p>\n",
       "</div>"
      ],
      "text/plain": [
       "      지역         기간  주택매매가격지수    연도   월\n",
       "0     전국 2003-11-01      61.5  2003  11\n",
       "18    전국 2003-12-01      61.0  2003  12\n",
       "36    전국 2004-01-01      60.7  2004  01\n",
       "54    전국 2004-02-01      60.7  2004  02\n",
       "72    전국 2004-03-01      60.8  2004  03\n",
       "...   ..        ...       ...   ...  ..\n",
       "4356  전국 2024-01-01      96.0  2024  01\n",
       "4374  전국 2024-02-01      95.9  2024  02\n",
       "4392  전국 2024-03-01      95.8  2024  03\n",
       "4410  전국 2024-04-01      95.7  2024  04\n",
       "4428  전국 2024-05-01      95.7  2024  05\n",
       "\n",
       "[247 rows x 5 columns]"
      ]
     },
     "execution_count": 46,
     "metadata": {},
     "output_type": "execute_result"
    }
   ],
   "source": [
    "df_nation"
   ]
  },
  {
   "cell_type": "code",
   "execution_count": 47,
   "metadata": {
    "ExecuteTime": {
     "end_time": "2024-07-12T14:33:59.551843Z",
     "start_time": "2024-07-12T14:33:59.532024Z"
    }
   },
   "outputs": [],
   "source": [
    "# 0. 데이터 설정\n",
    "from datetime import datetime\n",
    "\n",
    "df_temp = df[df[\"지역\"].isin([\"전국\", \"서울특별시\"])]\n",
    "df_temp['기간'] = pd.to_datetime(df_temp['기간'])\n",
    "\n",
    "df_seoul = df_temp[df_temp['지역']==\"서울특별시\"]\n",
    "df_nation = df_temp[df_temp['지역']==\"전국\"]"
   ]
  },
  {
   "cell_type": "code",
   "execution_count": 48,
   "metadata": {
    "ExecuteTime": {
     "end_time": "2024-07-12T14:33:59.768034Z",
     "start_time": "2024-07-12T14:33:59.551843Z"
    }
   },
   "outputs": [
    {
     "data": {
      "image/png": "[encoded data removed]",
      "text/plain": [
       "<Figure size 2000x1100 with 1 Axes>"
      ]
     },
     "metadata": {},
     "output_type": "display_data"
    }
   ],
   "source": [
    "import matplotlib.pyplot as plt\n",
    "from datetime import datetime\n",
    "\n",
    "# 1. 기본 스타일 설정\n",
    "plt.style.use('default')\n",
    "plt.rcParams['figure.figsize'] = (20, 11)\n",
    "plt.rc('font', family = 'NanumGothic')\n",
    "plt.rcParams['font.size'] = 20\n",
    "\n",
    "x = df_seoul['기간']\n",
    "y1 = df_nation['주택매매가격지수']\n",
    "y2 = df_seoul['주택매매가격지수']\n",
    "\n",
    "fig, ax = plt.subplots()\n",
    "\n",
    "line1, = ax.plot(x, y1, label='전국', color='blue')\n",
    "line2, = ax.plot(x, y2, dashes=[6, 2], label='서울', color='red')\n",
    "\n",
    "\n",
    "# 구간별 색상변경\n",
    "plt.axvspan(datetime(2003, 2, 25), datetime(2008, 2, 25), facecolor='yellow', alpha=0.3)\n",
    "plt.axvspan(datetime(2008, 2, 25), datetime(2013, 2, 24), facecolor='red', alpha=0.3)\n",
    "plt.axvspan(datetime(2013, 2, 25), datetime(2017, 3, 10), facecolor='darkred', alpha=0.3)\n",
    "plt.axvspan(datetime(2017, 3, 10), datetime(2022, 5, 9), facecolor='royalblue', alpha=0.3)\n",
    "plt.axvspan(datetime(2022, 5, 10), datetime(2024, 12, 31), facecolor='pink', alpha=0.3)\n",
    "\n",
    "\n",
    "# 구간별 텍스트\n",
    "mybox={'facecolor':'w','edgecolor':'w','boxstyle':'round','alpha':0.5}\n",
    "plt.text(datetime(2005, 1, 1),90,'노무현정부', bbox=mybox)\n",
    "plt.text(datetime(2010, 1, 1),90,'이명박정부', bbox=mybox)\n",
    "plt.text(datetime(2014, 6, 1),90,'박근혜정부', bbox=mybox)\n",
    "plt.text(datetime(2019, 1, 1),100,'문재인정부', bbox=mybox)\n",
    "plt.text(datetime(2022, 8, 1),90,'윤석열정부', bbox=mybox)\n",
    "\n",
    "ax.margins(x=0)\n",
    "ax.grid()\n",
    "ax.legend()\n",
    "plt.show()"
   ]
  },
  {
   "cell_type": "markdown",
   "metadata": {},
   "source": [
    "#### <span style=\"color:red\"> ※ 정치적인 시각에서 보시지 마시고, 데이터 분석 시각에서 봐주시기 바랍니다.</span>"
   ]
  },
  {
   "cell_type": "markdown",
   "metadata": {},
   "source": [
    "# 6. groupby 함수\n",
    "  df.groupby([\"가로(행 row)\", \"세로(열 column)\"]\n",
    "  df.groupby([\"지역\", \"연도\"])  \n",
    "  이해가 안될 때 : 3. Data Aggregation and Group Operation_master.ipynb"
   ]
  },
  {
   "cell_type": "markdown",
   "metadata": {},
   "source": [
    "## 6.1 background_gradient()  \n",
    "\n",
    "[판다스 공식 Document](https://docs.w3cub.com/pandas~0.25/reference/api/pandas.io.formats.style.styler.background_gradient)"
   ]
  },
  {
   "cell_type": "code",
   "execution_count": 49,
   "metadata": {
    "ExecuteTime": {
     "end_time": "2024-07-12T14:33:59.783514Z",
     "start_time": "2024-07-12T14:33:59.768034Z"
    }
   },
   "outputs": [
    {
     "data": {
      "text/html": [
       "<div>\n",
       "<style scoped>\n",
       "    .dataframe tbody tr th:only-of-type {\n",
       "        vertical-align: middle;\n",
       "    }\n",
       "\n",
       "    .dataframe tbody tr th {\n",
       "        vertical-align: top;\n",
       "    }\n",
       "\n",
       "    .dataframe thead th {\n",
       "        text-align: right;\n",
       "    }\n",
       "</style>\n",
       "<table border=\"1\" class=\"dataframe\">\n",
       "  <thead>\n",
       "    <tr style=\"text-align: right;\">\n",
       "      <th></th>\n",
       "      <th>지역</th>\n",
       "      <th>기간</th>\n",
       "      <th>주택매매가격지수</th>\n",
       "      <th>연도</th>\n",
       "      <th>월</th>\n",
       "    </tr>\n",
       "  </thead>\n",
       "  <tbody>\n",
       "    <tr>\n",
       "      <th>0</th>\n",
       "      <td>전국</td>\n",
       "      <td>2003.11</td>\n",
       "      <td>61.5</td>\n",
       "      <td>2003</td>\n",
       "      <td>11</td>\n",
       "    </tr>\n",
       "    <tr>\n",
       "      <th>1</th>\n",
       "      <td>서울특별시</td>\n",
       "      <td>2003.11</td>\n",
       "      <td>55.6</td>\n",
       "      <td>2003</td>\n",
       "      <td>11</td>\n",
       "    </tr>\n",
       "    <tr>\n",
       "      <th>2</th>\n",
       "      <td>부산광역시</td>\n",
       "      <td>2003.11</td>\n",
       "      <td>66.4</td>\n",
       "      <td>2003</td>\n",
       "      <td>11</td>\n",
       "    </tr>\n",
       "    <tr>\n",
       "      <th>3</th>\n",
       "      <td>대구광역시</td>\n",
       "      <td>2003.11</td>\n",
       "      <td>58.2</td>\n",
       "      <td>2003</td>\n",
       "      <td>11</td>\n",
       "    </tr>\n",
       "    <tr>\n",
       "      <th>4</th>\n",
       "      <td>인천광역시</td>\n",
       "      <td>2003.11</td>\n",
       "      <td>55.9</td>\n",
       "      <td>2003</td>\n",
       "      <td>11</td>\n",
       "    </tr>\n",
       "    <tr>\n",
       "      <th>...</th>\n",
       "      <td>...</td>\n",
       "      <td>...</td>\n",
       "      <td>...</td>\n",
       "      <td>...</td>\n",
       "      <td>...</td>\n",
       "    </tr>\n",
       "    <tr>\n",
       "      <th>4441</th>\n",
       "      <td>전라북도</td>\n",
       "      <td>2024.05</td>\n",
       "      <td>101.3</td>\n",
       "      <td>2024</td>\n",
       "      <td>05</td>\n",
       "    </tr>\n",
       "    <tr>\n",
       "      <th>4442</th>\n",
       "      <td>전라남도</td>\n",
       "      <td>2024.05</td>\n",
       "      <td>98.7</td>\n",
       "      <td>2024</td>\n",
       "      <td>05</td>\n",
       "    </tr>\n",
       "    <tr>\n",
       "      <th>4443</th>\n",
       "      <td>경상북도</td>\n",
       "      <td>2024.05</td>\n",
       "      <td>100.8</td>\n",
       "      <td>2024</td>\n",
       "      <td>05</td>\n",
       "    </tr>\n",
       "    <tr>\n",
       "      <th>4444</th>\n",
       "      <td>경상남도</td>\n",
       "      <td>2024.05</td>\n",
       "      <td>96.8</td>\n",
       "      <td>2024</td>\n",
       "      <td>05</td>\n",
       "    </tr>\n",
       "    <tr>\n",
       "      <th>4445</th>\n",
       "      <td>제주특별자치도</td>\n",
       "      <td>2024.05</td>\n",
       "      <td>100.8</td>\n",
       "      <td>2024</td>\n",
       "      <td>05</td>\n",
       "    </tr>\n",
       "  </tbody>\n",
       "</table>\n",
       "<p>4446 rows × 5 columns</p>\n",
       "</div>"
      ],
      "text/plain": [
       "           지역       기간  주택매매가격지수    연도   월\n",
       "0          전국  2003.11      61.5  2003  11\n",
       "1       서울특별시  2003.11      55.6  2003  11\n",
       "2       부산광역시  2003.11      66.4  2003  11\n",
       "3       대구광역시  2003.11      58.2  2003  11\n",
       "4       인천광역시  2003.11      55.9  2003  11\n",
       "...       ...      ...       ...   ...  ..\n",
       "4441     전라북도  2024.05     101.3  2024  05\n",
       "4442     전라남도  2024.05      98.7  2024  05\n",
       "4443     경상북도  2024.05     100.8  2024  05\n",
       "4444     경상남도  2024.05      96.8  2024  05\n",
       "4445  제주특별자치도  2024.05     100.8  2024  05\n",
       "\n",
       "[4446 rows x 5 columns]"
      ]
     },
     "execution_count": 49,
     "metadata": {},
     "output_type": "execute_result"
    }
   ],
   "source": [
    "df"
   ]
  },
  {
   "cell_type": "code",
   "execution_count": 50,
   "metadata": {
    "ExecuteTime": {
     "end_time": "2024-07-12T14:33:59.814301Z",
     "start_time": "2024-07-12T14:33:59.784040Z"
    }
   },
   "outputs": [
    {
     "data": {
      "text/plain": [
       "연도    지역     \n",
       "2003  강원특별자치도     73.40\n",
       "      경기도         56.20\n",
       "      경상남도        70.05\n",
       "      경상북도        77.75\n",
       "      광주광역시       61.70\n",
       "                  ...  \n",
       "2024  전라남도        98.70\n",
       "      전라북도       101.24\n",
       "      제주특별자치도    101.08\n",
       "      충청남도        99.54\n",
       "      충청북도       102.02\n",
       "Name: 주택매매가격지수, Length: 396, dtype: float64"
      ]
     },
     "execution_count": 50,
     "metadata": {},
     "output_type": "execute_result"
    }
   ],
   "source": [
    "df.groupby([\"연도\",\"지역\"])[\"주택매매가격지수\"].mean()"
   ]
  },
  {
   "cell_type": "code",
   "execution_count": 51,
   "metadata": {
    "ExecuteTime": {
     "end_time": "2024-07-12T14:33:59.845939Z",
     "start_time": "2024-07-12T14:33:59.815060Z"
    }
   },
   "outputs": [
    {
     "data": {
      "text/html": [
       "<div>\n",
       "<style scoped>\n",
       "    .dataframe tbody tr th:only-of-type {\n",
       "        vertical-align: middle;\n",
       "    }\n",
       "\n",
       "    .dataframe tbody tr th {\n",
       "        vertical-align: top;\n",
       "    }\n",
       "\n",
       "    .dataframe thead th {\n",
       "        text-align: right;\n",
       "    }\n",
       "</style>\n",
       "<table border=\"1\" class=\"dataframe\">\n",
       "  <thead>\n",
       "    <tr style=\"text-align: right;\">\n",
       "      <th>지역</th>\n",
       "      <th>강원특별자치도</th>\n",
       "      <th>경기도</th>\n",
       "      <th>경상남도</th>\n",
       "      <th>경상북도</th>\n",
       "      <th>광주광역시</th>\n",
       "      <th>대구광역시</th>\n",
       "      <th>대전광역시</th>\n",
       "      <th>부산광역시</th>\n",
       "      <th>서울특별시</th>\n",
       "      <th>세종특별자치시</th>\n",
       "      <th>울산광역시</th>\n",
       "      <th>인천광역시</th>\n",
       "      <th>전국</th>\n",
       "      <th>전라남도</th>\n",
       "      <th>전라북도</th>\n",
       "      <th>제주특별자치도</th>\n",
       "      <th>충청남도</th>\n",
       "      <th>충청북도</th>\n",
       "    </tr>\n",
       "    <tr>\n",
       "      <th>연도</th>\n",
       "      <th></th>\n",
       "      <th></th>\n",
       "      <th></th>\n",
       "      <th></th>\n",
       "      <th></th>\n",
       "      <th></th>\n",
       "      <th></th>\n",
       "      <th></th>\n",
       "      <th></th>\n",
       "      <th></th>\n",
       "      <th></th>\n",
       "      <th></th>\n",
       "      <th></th>\n",
       "      <th></th>\n",
       "      <th></th>\n",
       "      <th></th>\n",
       "      <th></th>\n",
       "      <th></th>\n",
       "    </tr>\n",
       "  </thead>\n",
       "  <tbody>\n",
       "    <tr>\n",
       "      <th>2003</th>\n",
       "      <td>73.400000</td>\n",
       "      <td>56.200000</td>\n",
       "      <td>70.050000</td>\n",
       "      <td>77.750000</td>\n",
       "      <td>61.700000</td>\n",
       "      <td>57.850000</td>\n",
       "      <td>59.150000</td>\n",
       "      <td>66.050000</td>\n",
       "      <td>55.400000</td>\n",
       "      <td>NaN</td>\n",
       "      <td>56.500000</td>\n",
       "      <td>55.650000</td>\n",
       "      <td>61.250000</td>\n",
       "      <td>70.050000</td>\n",
       "      <td>70.150000</td>\n",
       "      <td>99.850000</td>\n",
       "      <td>79.700000</td>\n",
       "      <td>68.750000</td>\n",
       "    </tr>\n",
       "    <tr>\n",
       "      <th>2004</th>\n",
       "      <td>74.791667</td>\n",
       "      <td>55.150000</td>\n",
       "      <td>70.183333</td>\n",
       "      <td>76.275000</td>\n",
       "      <td>61.658333</td>\n",
       "      <td>56.775000</td>\n",
       "      <td>59.691667</td>\n",
       "      <td>64.350000</td>\n",
       "      <td>55.133333</td>\n",
       "      <td>NaN</td>\n",
       "      <td>56.691667</td>\n",
       "      <td>54.291667</td>\n",
       "      <td>60.425000</td>\n",
       "      <td>68.400000</td>\n",
       "      <td>69.850000</td>\n",
       "      <td>87.100000</td>\n",
       "      <td>79.575000</td>\n",
       "      <td>68.658333</td>\n",
       "    </tr>\n",
       "    <tr>\n",
       "      <th>2005</th>\n",
       "      <td>77.116667</td>\n",
       "      <td>55.550000</td>\n",
       "      <td>70.891667</td>\n",
       "      <td>76.716667</td>\n",
       "      <td>64.125000</td>\n",
       "      <td>58.325000</td>\n",
       "      <td>59.683333</td>\n",
       "      <td>62.375000</td>\n",
       "      <td>55.825000</td>\n",
       "      <td>NaN</td>\n",
       "      <td>58.983333</td>\n",
       "      <td>52.625000</td>\n",
       "      <td>60.733333</td>\n",
       "      <td>67.391667</td>\n",
       "      <td>69.966667</td>\n",
       "      <td>80.666667</td>\n",
       "      <td>80.566667</td>\n",
       "      <td>70.816667</td>\n",
       "    </tr>\n",
       "    <tr>\n",
       "      <th>2006</th>\n",
       "      <td>79.191667</td>\n",
       "      <td>61.425000</td>\n",
       "      <td>71.883333</td>\n",
       "      <td>80.166667</td>\n",
       "      <td>66.608333</td>\n",
       "      <td>61.291667</td>\n",
       "      <td>59.366667</td>\n",
       "      <td>61.658333</td>\n",
       "      <td>61.358333</td>\n",
       "      <td>NaN</td>\n",
       "      <td>64.983333</td>\n",
       "      <td>54.583333</td>\n",
       "      <td>64.350000</td>\n",
       "      <td>66.816667</td>\n",
       "      <td>72.266667</td>\n",
       "      <td>77.716667</td>\n",
       "      <td>81.100000</td>\n",
       "      <td>74.708333</td>\n",
       "    </tr>\n",
       "    <tr>\n",
       "      <th>2007</th>\n",
       "      <td>78.325000</td>\n",
       "      <td>74.666667</td>\n",
       "      <td>72.375000</td>\n",
       "      <td>83.375000</td>\n",
       "      <td>67.466667</td>\n",
       "      <td>61.133333</td>\n",
       "      <td>58.483333</td>\n",
       "      <td>61.516667</td>\n",
       "      <td>71.958333</td>\n",
       "      <td>NaN</td>\n",
       "      <td>73.733333</td>\n",
       "      <td>64.933333</td>\n",
       "      <td>71.225000</td>\n",
       "      <td>68.600000</td>\n",
       "      <td>73.725000</td>\n",
       "      <td>75.783333</td>\n",
       "      <td>81.341667</td>\n",
       "      <td>75.050000</td>\n",
       "    </tr>\n",
       "    <tr>\n",
       "      <th>2008</th>\n",
       "      <td>77.833333</td>\n",
       "      <td>80.766667</td>\n",
       "      <td>74.066667</td>\n",
       "      <td>84.216667</td>\n",
       "      <td>68.300000</td>\n",
       "      <td>60.483333</td>\n",
       "      <td>58.758333</td>\n",
       "      <td>62.950000</td>\n",
       "      <td>80.800000</td>\n",
       "      <td>NaN</td>\n",
       "      <td>75.925000</td>\n",
       "      <td>80.233333</td>\n",
       "      <td>76.250000</td>\n",
       "      <td>74.991667</td>\n",
       "      <td>77.308333</td>\n",
       "      <td>74.958333</td>\n",
       "      <td>81.966667</td>\n",
       "      <td>76.150000</td>\n",
       "    </tr>\n",
       "    <tr>\n",
       "      <th>2009</th>\n",
       "      <td>78.650000</td>\n",
       "      <td>80.200000</td>\n",
       "      <td>75.408333</td>\n",
       "      <td>82.341667</td>\n",
       "      <td>68.083333</td>\n",
       "      <td>58.533333</td>\n",
       "      <td>59.900000</td>\n",
       "      <td>64.666667</td>\n",
       "      <td>82.408333</td>\n",
       "      <td>NaN</td>\n",
       "      <td>76.100000</td>\n",
       "      <td>85.941667</td>\n",
       "      <td>77.116667</td>\n",
       "      <td>77.550000</td>\n",
       "      <td>79.675000</td>\n",
       "      <td>74.783333</td>\n",
       "      <td>82.500000</td>\n",
       "      <td>76.316667</td>\n",
       "    </tr>\n",
       "    <tr>\n",
       "      <th>2010</th>\n",
       "      <td>80.225000</td>\n",
       "      <td>79.900000</td>\n",
       "      <td>80.033333</td>\n",
       "      <td>82.441667</td>\n",
       "      <td>68.441667</td>\n",
       "      <td>59.183333</td>\n",
       "      <td>64.241667</td>\n",
       "      <td>69.866667</td>\n",
       "      <td>83.866667</td>\n",
       "      <td>NaN</td>\n",
       "      <td>79.033333</td>\n",
       "      <td>86.025000</td>\n",
       "      <td>78.833333</td>\n",
       "      <td>80.416667</td>\n",
       "      <td>84.383333</td>\n",
       "      <td>78.008333</td>\n",
       "      <td>83.116667</td>\n",
       "      <td>78.991667</td>\n",
       "    </tr>\n",
       "    <tr>\n",
       "      <th>2011</th>\n",
       "      <td>85.666667</td>\n",
       "      <td>79.925000</td>\n",
       "      <td>96.241667</td>\n",
       "      <td>85.200000</td>\n",
       "      <td>75.633333</td>\n",
       "      <td>62.516667</td>\n",
       "      <td>71.716667</td>\n",
       "      <td>80.800000</td>\n",
       "      <td>83.841667</td>\n",
       "      <td>NaN</td>\n",
       "      <td>85.141667</td>\n",
       "      <td>84.858333</td>\n",
       "      <td>82.433333</td>\n",
       "      <td>85.000000</td>\n",
       "      <td>92.441667</td>\n",
       "      <td>81.866667</td>\n",
       "      <td>86.550000</td>\n",
       "      <td>87.175000</td>\n",
       "    </tr>\n",
       "    <tr>\n",
       "      <th>2012</th>\n",
       "      <td>93.341667</td>\n",
       "      <td>78.800000</td>\n",
       "      <td>101.583333</td>\n",
       "      <td>89.900000</td>\n",
       "      <td>81.958333</td>\n",
       "      <td>67.233333</td>\n",
       "      <td>73.408333</td>\n",
       "      <td>84.108333</td>\n",
       "      <td>81.858333</td>\n",
       "      <td>63.600000</td>\n",
       "      <td>92.633333</td>\n",
       "      <td>82.258333</td>\n",
       "      <td>83.966667</td>\n",
       "      <td>89.708333</td>\n",
       "      <td>98.116667</td>\n",
       "      <td>86.416667</td>\n",
       "      <td>91.633333</td>\n",
       "      <td>94.016667</td>\n",
       "    </tr>\n",
       "    <tr>\n",
       "      <th>2013</th>\n",
       "      <td>93.208333</td>\n",
       "      <td>76.108333</td>\n",
       "      <td>100.958333</td>\n",
       "      <td>93.841667</td>\n",
       "      <td>83.050000</td>\n",
       "      <td>71.141667</td>\n",
       "      <td>72.758333</td>\n",
       "      <td>82.858333</td>\n",
       "      <td>78.900000</td>\n",
       "      <td>65.950000</td>\n",
       "      <td>92.908333</td>\n",
       "      <td>79.175000</td>\n",
       "      <td>82.908333</td>\n",
       "      <td>89.166667</td>\n",
       "      <td>95.775000</td>\n",
       "      <td>86.741667</td>\n",
       "      <td>94.475000</td>\n",
       "      <td>95.458333</td>\n",
       "    </tr>\n",
       "    <tr>\n",
       "      <th>2014</th>\n",
       "      <td>93.658333</td>\n",
       "      <td>76.933333</td>\n",
       "      <td>102.525000</td>\n",
       "      <td>98.458333</td>\n",
       "      <td>83.850000</td>\n",
       "      <td>77.125000</td>\n",
       "      <td>73.141667</td>\n",
       "      <td>83.366667</td>\n",
       "      <td>79.241667</td>\n",
       "      <td>66.708333</td>\n",
       "      <td>94.650000</td>\n",
       "      <td>80.125000</td>\n",
       "      <td>84.108333</td>\n",
       "      <td>88.266667</td>\n",
       "      <td>95.258333</td>\n",
       "      <td>87.516667</td>\n",
       "      <td>97.050000</td>\n",
       "      <td>97.266667</td>\n",
       "    </tr>\n",
       "    <tr>\n",
       "      <th>2015</th>\n",
       "      <td>94.883333</td>\n",
       "      <td>79.466667</td>\n",
       "      <td>104.616667</td>\n",
       "      <td>101.225000</td>\n",
       "      <td>87.350000</td>\n",
       "      <td>82.508333</td>\n",
       "      <td>73.550000</td>\n",
       "      <td>85.341667</td>\n",
       "      <td>81.400000</td>\n",
       "      <td>66.533333</td>\n",
       "      <td>97.666667</td>\n",
       "      <td>82.200000</td>\n",
       "      <td>86.341667</td>\n",
       "      <td>88.216667</td>\n",
       "      <td>95.191667</td>\n",
       "      <td>91.333333</td>\n",
       "      <td>98.500000</td>\n",
       "      <td>99.441667</td>\n",
       "    </tr>\n",
       "    <tr>\n",
       "      <th>2016</th>\n",
       "      <td>96.575000</td>\n",
       "      <td>81.300000</td>\n",
       "      <td>105.200000</td>\n",
       "      <td>101.383333</td>\n",
       "      <td>89.633333</td>\n",
       "      <td>84.325000</td>\n",
       "      <td>73.650000</td>\n",
       "      <td>87.783333</td>\n",
       "      <td>83.950000</td>\n",
       "      <td>66.766667</td>\n",
       "      <td>99.683333</td>\n",
       "      <td>83.625000</td>\n",
       "      <td>87.958333</td>\n",
       "      <td>89.283333</td>\n",
       "      <td>95.375000</td>\n",
       "      <td>99.025000</td>\n",
       "      <td>97.825000</td>\n",
       "      <td>99.233333</td>\n",
       "    </tr>\n",
       "    <tr>\n",
       "      <th>2017</th>\n",
       "      <td>98.441667</td>\n",
       "      <td>82.316667</td>\n",
       "      <td>104.141667</td>\n",
       "      <td>100.133333</td>\n",
       "      <td>90.300000</td>\n",
       "      <td>83.908333</td>\n",
       "      <td>74.325000</td>\n",
       "      <td>90.933333</td>\n",
       "      <td>86.366667</td>\n",
       "      <td>68.625000</td>\n",
       "      <td>99.200000</td>\n",
       "      <td>84.475000</td>\n",
       "      <td>88.941667</td>\n",
       "      <td>90.783333</td>\n",
       "      <td>96.341667</td>\n",
       "      <td>100.566667</td>\n",
       "      <td>96.866667</td>\n",
       "      <td>98.683333</td>\n",
       "    </tr>\n",
       "    <tr>\n",
       "      <th>2018</th>\n",
       "      <td>99.033333</td>\n",
       "      <td>83.783333</td>\n",
       "      <td>100.575000</td>\n",
       "      <td>98.750000</td>\n",
       "      <td>92.458333</td>\n",
       "      <td>86.216667</td>\n",
       "      <td>75.575000</td>\n",
       "      <td>91.000000</td>\n",
       "      <td>91.441667</td>\n",
       "      <td>70.833333</td>\n",
       "      <td>95.541667</td>\n",
       "      <td>85.341667</td>\n",
       "      <td>90.216667</td>\n",
       "      <td>92.883333</td>\n",
       "      <td>97.283333</td>\n",
       "      <td>102.000000</td>\n",
       "      <td>95.658333</td>\n",
       "      <td>97.350000</td>\n",
       "    </tr>\n",
       "    <tr>\n",
       "      <th>2019</th>\n",
       "      <td>96.425000</td>\n",
       "      <td>83.991667</td>\n",
       "      <td>96.066667</td>\n",
       "      <td>96.441667</td>\n",
       "      <td>94.841667</td>\n",
       "      <td>88.358333</td>\n",
       "      <td>78.533333</td>\n",
       "      <td>89.291667</td>\n",
       "      <td>93.258333</td>\n",
       "      <td>70.658333</td>\n",
       "      <td>89.466667</td>\n",
       "      <td>85.725000</td>\n",
       "      <td>90.016667</td>\n",
       "      <td>95.358333</td>\n",
       "      <td>96.641667</td>\n",
       "      <td>101.641667</td>\n",
       "      <td>93.858333</td>\n",
       "      <td>94.250000</td>\n",
       "    </tr>\n",
       "    <tr>\n",
       "      <th>2020</th>\n",
       "      <td>95.708333</td>\n",
       "      <td>88.650000</td>\n",
       "      <td>95.408333</td>\n",
       "      <td>95.683333</td>\n",
       "      <td>95.516667</td>\n",
       "      <td>90.616667</td>\n",
       "      <td>88.216667</td>\n",
       "      <td>90.425000</td>\n",
       "      <td>96.000000</td>\n",
       "      <td>84.550000</td>\n",
       "      <td>91.400000</td>\n",
       "      <td>89.916667</td>\n",
       "      <td>92.575000</td>\n",
       "      <td>97.191667</td>\n",
       "      <td>96.766667</td>\n",
       "      <td>98.191667</td>\n",
       "      <td>94.366667</td>\n",
       "      <td>94.616667</td>\n",
       "    </tr>\n",
       "    <tr>\n",
       "      <th>2021</th>\n",
       "      <td>100.350000</td>\n",
       "      <td>100.791667</td>\n",
       "      <td>100.475000</td>\n",
       "      <td>100.125000</td>\n",
       "      <td>100.658333</td>\n",
       "      <td>99.250000</td>\n",
       "      <td>100.158333</td>\n",
       "      <td>100.325000</td>\n",
       "      <td>100.508333</td>\n",
       "      <td>99.208333</td>\n",
       "      <td>100.575000</td>\n",
       "      <td>100.366667</td>\n",
       "      <td>100.450000</td>\n",
       "      <td>100.208333</td>\n",
       "      <td>100.616667</td>\n",
       "      <td>100.525000</td>\n",
       "      <td>100.491667</td>\n",
       "      <td>100.608333</td>\n",
       "    </tr>\n",
       "    <tr>\n",
       "      <th>2022</th>\n",
       "      <td>104.116667</td>\n",
       "      <td>105.991667</td>\n",
       "      <td>104.058333</td>\n",
       "      <td>102.900000</td>\n",
       "      <td>105.133333</td>\n",
       "      <td>97.591667</td>\n",
       "      <td>102.516667</td>\n",
       "      <td>103.933333</td>\n",
       "      <td>102.733333</td>\n",
       "      <td>92.191667</td>\n",
       "      <td>102.775000</td>\n",
       "      <td>105.525000</td>\n",
       "      <td>103.866667</td>\n",
       "      <td>102.125000</td>\n",
       "      <td>104.866667</td>\n",
       "      <td>104.466667</td>\n",
       "      <td>104.083333</td>\n",
       "      <td>105.175000</td>\n",
       "    </tr>\n",
       "    <tr>\n",
       "      <th>2023</th>\n",
       "      <td>102.641667</td>\n",
       "      <td>94.883333</td>\n",
       "      <td>97.900000</td>\n",
       "      <td>100.341667</td>\n",
       "      <td>97.933333</td>\n",
       "      <td>86.683333</td>\n",
       "      <td>93.266667</td>\n",
       "      <td>94.583333</td>\n",
       "      <td>96.350000</td>\n",
       "      <td>79.116667</td>\n",
       "      <td>94.075000</td>\n",
       "      <td>94.558333</td>\n",
       "      <td>96.250000</td>\n",
       "      <td>99.141667</td>\n",
       "      <td>101.650000</td>\n",
       "      <td>102.125000</td>\n",
       "      <td>100.058333</td>\n",
       "      <td>101.500000</td>\n",
       "    </tr>\n",
       "    <tr>\n",
       "      <th>2024</th>\n",
       "      <td>103.140000</td>\n",
       "      <td>94.660000</td>\n",
       "      <td>97.000000</td>\n",
       "      <td>100.660000</td>\n",
       "      <td>97.120000</td>\n",
       "      <td>84.980000</td>\n",
       "      <td>93.200000</td>\n",
       "      <td>92.440000</td>\n",
       "      <td>96.600000</td>\n",
       "      <td>78.320000</td>\n",
       "      <td>93.520000</td>\n",
       "      <td>93.900000</td>\n",
       "      <td>95.820000</td>\n",
       "      <td>98.700000</td>\n",
       "      <td>101.240000</td>\n",
       "      <td>101.080000</td>\n",
       "      <td>99.540000</td>\n",
       "      <td>102.020000</td>\n",
       "    </tr>\n",
       "  </tbody>\n",
       "</table>\n",
       "</div>"
      ],
      "text/plain": [
       "지역       강원특별자치도         경기도        경상남도        경상북도       광주광역시      대구광역시  \\\n",
       "연도                                                                            \n",
       "2003   73.400000   56.200000   70.050000   77.750000   61.700000  57.850000   \n",
       "2004   74.791667   55.150000   70.183333   76.275000   61.658333  56.775000   \n",
       "2005   77.116667   55.550000   70.891667   76.716667   64.125000  58.325000   \n",
       "2006   79.191667   61.425000   71.883333   80.166667   66.608333  61.291667   \n",
       "2007   78.325000   74.666667   72.375000   83.375000   67.466667  61.133333   \n",
       "2008   77.833333   80.766667   74.066667   84.216667   68.300000  60.483333   \n",
       "2009   78.650000   80.200000   75.408333   82.341667   68.083333  58.533333   \n",
       "2010   80.225000   79.900000   80.033333   82.441667   68.441667  59.183333   \n",
       "2011   85.666667   79.925000   96.241667   85.200000   75.633333  62.516667   \n",
       "2012   93.341667   78.800000  101.583333   89.900000   81.958333  67.233333   \n",
       "2013   93.208333   76.108333  100.958333   93.841667   83.050000  71.141667   \n",
       "2014   93.658333   76.933333  102.525000   98.458333   83.850000  77.125000   \n",
       "2015   94.883333   79.466667  104.616667  101.225000   87.350000  82.508333   \n",
       "2016   96.575000   81.300000  105.200000  101.383333   89.633333  84.325000   \n",
       "2017   98.441667   82.316667  104.141667  100.133333   90.300000  83.908333   \n",
       "2018   99.033333   83.783333  100.575000   98.750000   92.458333  86.216667   \n",
       "2019   96.425000   83.991667   96.066667   96.441667   94.841667  88.358333   \n",
       "2020   95.708333   88.650000   95.408333   95.683333   95.516667  90.616667   \n",
       "2021  100.350000  100.791667  100.475000  100.125000  100.658333  99.250000   \n",
       "2022  104.116667  105.991667  104.058333  102.900000  105.133333  97.591667   \n",
       "2023  102.641667   94.883333   97.900000  100.341667   97.933333  86.683333   \n",
       "2024  103.140000   94.660000   97.000000  100.660000   97.120000  84.980000   \n",
       "\n",
       "지역         대전광역시       부산광역시       서울특별시    세종특별자치시       울산광역시       인천광역시  \\\n",
       "연도                                                                            \n",
       "2003   59.150000   66.050000   55.400000        NaN   56.500000   55.650000   \n",
       "2004   59.691667   64.350000   55.133333        NaN   56.691667   54.291667   \n",
       "2005   59.683333   62.375000   55.825000        NaN   58.983333   52.625000   \n",
       "2006   59.366667   61.658333   61.358333        NaN   64.983333   54.583333   \n",
       "2007   58.483333   61.516667   71.958333        NaN   73.733333   64.933333   \n",
       "2008   58.758333   62.950000   80.800000        NaN   75.925000   80.233333   \n",
       "2009   59.900000   64.666667   82.408333        NaN   76.100000   85.941667   \n",
       "2010   64.241667   69.866667   83.866667        NaN   79.033333   86.025000   \n",
       "2011   71.716667   80.800000   83.841667        NaN   85.141667   84.858333   \n",
       "2012   73.408333   84.108333   81.858333  63.600000   92.633333   82.258333   \n",
       "2013   72.758333   82.858333   78.900000  65.950000   92.908333   79.175000   \n",
       "2014   73.141667   83.366667   79.241667  66.708333   94.650000   80.125000   \n",
       "2015   73.550000   85.341667   81.400000  66.533333   97.666667   82.200000   \n",
       "2016   73.650000   87.783333   83.950000  66.766667   99.683333   83.625000   \n",
       "2017   74.325000   90.933333   86.366667  68.625000   99.200000   84.475000   \n",
       "2018   75.575000   91.000000   91.441667  70.833333   95.541667   85.341667   \n",
       "2019   78.533333   89.291667   93.258333  70.658333   89.466667   85.725000   \n",
       "2020   88.216667   90.425000   96.000000  84.550000   91.400000   89.916667   \n",
       "2021  100.158333  100.325000  100.508333  99.208333  100.575000  100.366667   \n",
       "2022  102.516667  103.933333  102.733333  92.191667  102.775000  105.525000   \n",
       "2023   93.266667   94.583333   96.350000  79.116667   94.075000   94.558333   \n",
       "2024   93.200000   92.440000   96.600000  78.320000   93.520000   93.900000   \n",
       "\n",
       "지역            전국        전라남도        전라북도     제주특별자치도        충청남도        충청북도  \n",
       "연도                                                                            \n",
       "2003   61.250000   70.050000   70.150000   99.850000   79.700000   68.750000  \n",
       "2004   60.425000   68.400000   69.850000   87.100000   79.575000   68.658333  \n",
       "2005   60.733333   67.391667   69.966667   80.666667   80.566667   70.816667  \n",
       "2006   64.350000   66.816667   72.266667   77.716667   81.100000   74.708333  \n",
       "2007   71.225000   68.600000   73.725000   75.783333   81.341667   75.050000  \n",
       "2008   76.250000   74.991667   77.308333   74.958333   81.966667   76.150000  \n",
       "2009   77.116667   77.550000   79.675000   74.783333   82.500000   76.316667  \n",
       "2010   78.833333   80.416667   84.383333   78.008333   83.116667   78.991667  \n",
       "2011   82.433333   85.000000   92.441667   81.866667   86.550000   87.175000  \n",
       "2012   83.966667   89.708333   98.116667   86.416667   91.633333   94.016667  \n",
       "2013   82.908333   89.166667   95.775000   86.741667   94.475000   95.458333  \n",
       "2014   84.108333   88.266667   95.258333   87.516667   97.050000   97.266667  \n",
       "2015   86.341667   88.216667   95.191667   91.333333   98.500000   99.441667  \n",
       "2016   87.958333   89.283333   95.375000   99.025000   97.825000   99.233333  \n",
       "2017   88.941667   90.783333   96.341667  100.566667   96.866667   98.683333  \n",
       "2018   90.216667   92.883333   97.283333  102.000000   95.658333   97.350000  \n",
       "2019   90.016667   95.358333   96.641667  101.641667   93.858333   94.250000  \n",
       "2020   92.575000   97.191667   96.766667   98.191667   94.366667   94.616667  \n",
       "2021  100.450000  100.208333  100.616667  100.525000  100.491667  100.608333  \n",
       "2022  103.866667  102.125000  104.866667  104.466667  104.083333  105.175000  \n",
       "2023   96.250000   99.141667  101.650000  102.125000  100.058333  101.500000  \n",
       "2024   95.820000   98.700000  101.240000  101.080000   99.540000  102.020000  "
      ]
     },
     "execution_count": 51,
     "metadata": {},
     "output_type": "execute_result"
    }
   ],
   "source": [
    "table = df.groupby([\"연도\",\"지역\"])[\"주택매매가격지수\"].mean().unstack()\n",
    "table"
   ]
  },
  {
   "cell_type": "markdown",
   "metadata": {},
   "source": [
    "## 2주차 과제(미리 풀어보기)"
   ]
  },
  {
   "cell_type": "markdown",
   "metadata": {
    "ExecuteTime": {
     "end_time": "2022-07-13T11:18:35.937572Z",
     "start_time": "2022-07-13T11:18:35.342924Z"
    }
   },
   "source": [
    "# 2024년 데이터"
   ]
  },
  {
   "cell_type": "code",
   "execution_count": 52,
   "metadata": {
    "ExecuteTime": {
     "end_time": "2024-07-12T14:33:59.853959Z",
     "start_time": "2024-07-12T14:33:59.845939Z"
    }
   },
   "outputs": [],
   "source": [
    "import pandas as pd\n",
    "\n",
    "# 데이터 불러오기\n",
    "\n",
    "sales_index= pd.read_csv(\"./data/아파트매매가격지수_시도_시_군_구__20240712233237.csv\", encoding=\"cp949\", skiprows=1, names=['시점', '매매'])\n",
    "rent_index = pd.read_csv(\"./data/아파트전세가격지수_시도_시_군_구__20240712233244.csv\", encoding=\"cp949\", skiprows=1, names=['시점', '전세'])"
   ]
  },
  {
   "cell_type": "code",
   "execution_count": 53,
   "metadata": {
    "ExecuteTime": {
     "end_time": "2024-07-12T14:33:59.864960Z",
     "start_time": "2024-07-12T14:33:59.855862Z"
    }
   },
   "outputs": [
    {
     "data": {
      "text/html": [
       "<div>\n",
       "<style scoped>\n",
       "    .dataframe tbody tr th:only-of-type {\n",
       "        vertical-align: middle;\n",
       "    }\n",
       "\n",
       "    .dataframe tbody tr th {\n",
       "        vertical-align: top;\n",
       "    }\n",
       "\n",
       "    .dataframe thead th {\n",
       "        text-align: right;\n",
       "    }\n",
       "</style>\n",
       "<table border=\"1\" class=\"dataframe\">\n",
       "  <thead>\n",
       "    <tr style=\"text-align: right;\">\n",
       "      <th></th>\n",
       "      <th>시점</th>\n",
       "      <th>매매</th>\n",
       "    </tr>\n",
       "  </thead>\n",
       "  <tbody>\n",
       "    <tr>\n",
       "      <th>0</th>\n",
       "      <td>2003.11</td>\n",
       "      <td>55.4</td>\n",
       "    </tr>\n",
       "    <tr>\n",
       "      <th>1</th>\n",
       "      <td>2003.12</td>\n",
       "      <td>55.1</td>\n",
       "    </tr>\n",
       "    <tr>\n",
       "      <th>2</th>\n",
       "      <td>2004.01</td>\n",
       "      <td>55.0</td>\n",
       "    </tr>\n",
       "    <tr>\n",
       "      <th>3</th>\n",
       "      <td>2004.02</td>\n",
       "      <td>55.1</td>\n",
       "    </tr>\n",
       "    <tr>\n",
       "      <th>4</th>\n",
       "      <td>2004.03</td>\n",
       "      <td>55.4</td>\n",
       "    </tr>\n",
       "    <tr>\n",
       "      <th>...</th>\n",
       "      <td>...</td>\n",
       "      <td>...</td>\n",
       "    </tr>\n",
       "    <tr>\n",
       "      <th>242</th>\n",
       "      <td>2024.01</td>\n",
       "      <td>93.2</td>\n",
       "    </tr>\n",
       "    <tr>\n",
       "      <th>243</th>\n",
       "      <td>2024.02</td>\n",
       "      <td>93.0</td>\n",
       "    </tr>\n",
       "    <tr>\n",
       "      <th>244</th>\n",
       "      <td>2024.03</td>\n",
       "      <td>92.9</td>\n",
       "    </tr>\n",
       "    <tr>\n",
       "      <th>245</th>\n",
       "      <td>2024.04</td>\n",
       "      <td>92.8</td>\n",
       "    </tr>\n",
       "    <tr>\n",
       "      <th>246</th>\n",
       "      <td>2024.05</td>\n",
       "      <td>92.8</td>\n",
       "    </tr>\n",
       "  </tbody>\n",
       "</table>\n",
       "<p>247 rows × 2 columns</p>\n",
       "</div>"
      ],
      "text/plain": [
       "          시점    매매\n",
       "0    2003.11  55.4\n",
       "1    2003.12  55.1\n",
       "2    2004.01  55.0\n",
       "3    2004.02  55.1\n",
       "4    2004.03  55.4\n",
       "..       ...   ...\n",
       "242  2024.01  93.2\n",
       "243  2024.02  93.0\n",
       "244  2024.03  92.9\n",
       "245  2024.04  92.8\n",
       "246  2024.05  92.8\n",
       "\n",
       "[247 rows x 2 columns]"
      ]
     },
     "execution_count": 53,
     "metadata": {},
     "output_type": "execute_result"
    }
   ],
   "source": [
    "sales_index"
   ]
  },
  {
   "cell_type": "code",
   "execution_count": 54,
   "metadata": {
    "ExecuteTime": {
     "end_time": "2024-07-12T14:33:59.880631Z",
     "start_time": "2024-07-12T14:33:59.864960Z"
    }
   },
   "outputs": [
    {
     "data": {
      "text/html": [
       "<div>\n",
       "<style scoped>\n",
       "    .dataframe tbody tr th:only-of-type {\n",
       "        vertical-align: middle;\n",
       "    }\n",
       "\n",
       "    .dataframe tbody tr th {\n",
       "        vertical-align: top;\n",
       "    }\n",
       "\n",
       "    .dataframe thead th {\n",
       "        text-align: right;\n",
       "    }\n",
       "</style>\n",
       "<table border=\"1\" class=\"dataframe\">\n",
       "  <thead>\n",
       "    <tr style=\"text-align: right;\">\n",
       "      <th></th>\n",
       "      <th>시점</th>\n",
       "      <th>전세</th>\n",
       "    </tr>\n",
       "  </thead>\n",
       "  <tbody>\n",
       "    <tr>\n",
       "      <th>0</th>\n",
       "      <td>2003.11</td>\n",
       "      <td>49.7</td>\n",
       "    </tr>\n",
       "    <tr>\n",
       "      <th>1</th>\n",
       "      <td>2003.12</td>\n",
       "      <td>49.2</td>\n",
       "    </tr>\n",
       "    <tr>\n",
       "      <th>2</th>\n",
       "      <td>2004.01</td>\n",
       "      <td>49.1</td>\n",
       "    </tr>\n",
       "    <tr>\n",
       "      <th>3</th>\n",
       "      <td>2004.02</td>\n",
       "      <td>49.3</td>\n",
       "    </tr>\n",
       "    <tr>\n",
       "      <th>4</th>\n",
       "      <td>2004.03</td>\n",
       "      <td>49.6</td>\n",
       "    </tr>\n",
       "    <tr>\n",
       "      <th>...</th>\n",
       "      <td>...</td>\n",
       "      <td>...</td>\n",
       "    </tr>\n",
       "    <tr>\n",
       "      <th>242</th>\n",
       "      <td>2024.01</td>\n",
       "      <td>88.8</td>\n",
       "    </tr>\n",
       "    <tr>\n",
       "      <th>243</th>\n",
       "      <td>2024.02</td>\n",
       "      <td>88.8</td>\n",
       "    </tr>\n",
       "    <tr>\n",
       "      <th>244</th>\n",
       "      <td>2024.03</td>\n",
       "      <td>88.9</td>\n",
       "    </tr>\n",
       "    <tr>\n",
       "      <th>245</th>\n",
       "      <td>2024.04</td>\n",
       "      <td>89.0</td>\n",
       "    </tr>\n",
       "    <tr>\n",
       "      <th>246</th>\n",
       "      <td>2024.05</td>\n",
       "      <td>89.2</td>\n",
       "    </tr>\n",
       "  </tbody>\n",
       "</table>\n",
       "<p>247 rows × 2 columns</p>\n",
       "</div>"
      ],
      "text/plain": [
       "          시점    전세\n",
       "0    2003.11  49.7\n",
       "1    2003.12  49.2\n",
       "2    2004.01  49.1\n",
       "3    2004.02  49.3\n",
       "4    2004.03  49.6\n",
       "..       ...   ...\n",
       "242  2024.01  88.8\n",
       "243  2024.02  88.8\n",
       "244  2024.03  88.9\n",
       "245  2024.04  89.0\n",
       "246  2024.05  89.2\n",
       "\n",
       "[247 rows x 2 columns]"
      ]
     },
     "execution_count": 54,
     "metadata": {},
     "output_type": "execute_result"
    }
   ],
   "source": [
    "rent_index"
   ]
  },
  {
   "cell_type": "code",
   "execution_count": 55,
   "metadata": {
    "ExecuteTime": {
     "end_time": "2024-07-12T14:33:59.889020Z",
     "start_time": "2024-07-12T14:33:59.881625Z"
    }
   },
   "outputs": [],
   "source": [
    "# 연도와 월 정보 추출\n",
    "\n",
    "rent_index['연도']= rent_index['시점'].astype(str).str.split('.', expand=True)[0]\n",
    "rent_index['월']= rent_index['시점'].astype(str).str.split('.', expand=True)[1]\n",
    "\n",
    "sales_index['연도']= sales_index['시점'].astype(str).str.split('.', expand=True)[0]\n",
    "sales_index['월']= sales_index['시점'].astype(str).str.split('.', expand=True)[1]"
   ]
  },
  {
   "cell_type": "code",
   "execution_count": 56,
   "metadata": {
    "ExecuteTime": {
     "end_time": "2024-07-12T14:33:59.898370Z",
     "start_time": "2024-07-12T14:33:59.890715Z"
    }
   },
   "outputs": [
    {
     "data": {
      "text/plain": [
       "0     11\n",
       "1     12\n",
       "2     01\n",
       "3     02\n",
       "4     03\n",
       "5     04\n",
       "6     05\n",
       "7     06\n",
       "8     07\n",
       "9     08\n",
       "10    09\n",
       "11     1\n",
       "Name: 월, dtype: object"
      ]
     },
     "execution_count": 56,
     "metadata": {},
     "output_type": "execute_result"
    }
   ],
   "source": [
    "rent_index['월'].head(12)"
   ]
  },
  {
   "cell_type": "code",
   "execution_count": 57,
   "metadata": {
    "ExecuteTime": {
     "end_time": "2024-07-12T14:33:59.914111Z",
     "start_time": "2024-07-12T14:33:59.899737Z"
    }
   },
   "outputs": [],
   "source": [
    "# 월표기 오류부분 정정\n",
    "\n",
    "rent_index['월'] = rent_index['월'].replace(\"1\", \"10\")\n",
    "sales_index['월'] = sales_index['월'].replace(\"1\", \"10\")"
   ]
  },
  {
   "cell_type": "code",
   "execution_count": 58,
   "metadata": {
    "ExecuteTime": {
     "end_time": "2024-07-12T14:33:59.929855Z",
     "start_time": "2024-07-12T14:33:59.915022Z"
    }
   },
   "outputs": [],
   "source": [
    "# 시점을 수정된 날짜로 재조정\n",
    "\n",
    "rent_index['시점'] = rent_index['연도'] + \"-\" + rent_index['월']\n",
    "sales_index['시점'] = sales_index['연도'] + \"-\" + rent_index['월']"
   ]
  },
  {
   "cell_type": "code",
   "execution_count": 59,
   "metadata": {
    "ExecuteTime": {
     "end_time": "2024-07-12T14:33:59.945656Z",
     "start_time": "2024-07-12T14:33:59.931705Z"
    }
   },
   "outputs": [
    {
     "name": "stdout",
     "output_type": "stream",
     "text": [
      "<class 'pandas.core.frame.DataFrame'>\n",
      "RangeIndex: 247 entries, 0 to 246\n",
      "Data columns (total 4 columns):\n",
      " #   Column  Non-Null Count  Dtype  \n",
      "---  ------  --------------  -----  \n",
      " 0   시점      247 non-null    object \n",
      " 1   전세      247 non-null    float64\n",
      " 2   연도      247 non-null    object \n",
      " 3   월       247 non-null    object \n",
      "dtypes: float64(1), object(3)\n",
      "memory usage: 7.8+ KB\n"
     ]
    }
   ],
   "source": [
    "rent_index.info()"
   ]
  },
  {
   "cell_type": "code",
   "execution_count": 60,
   "metadata": {
    "ExecuteTime": {
     "end_time": "2024-07-12T14:33:59.953959Z",
     "start_time": "2024-07-12T14:33:59.945656Z"
    }
   },
   "outputs": [],
   "source": [
    "# 데이터 타입 변경 (문자열 -> 날짜)\n",
    "\n",
    "rent_index['시점'] = pd.to_datetime(rent_index['시점'])\n",
    "sales_index['시점'] = pd.to_datetime(sales_index['시점'])"
   ]
  },
  {
   "cell_type": "code",
   "execution_count": 61,
   "metadata": {
    "ExecuteTime": {
     "end_time": "2024-07-12T14:33:59.965137Z",
     "start_time": "2024-07-12T14:33:59.955215Z"
    }
   },
   "outputs": [],
   "source": [
    "# 전세 데이터 와 매매 데이터를 병합\n",
    "\n",
    "df_merged = pd.merge_asof(\n",
    "    rent_index, sales_index,\n",
    "    on='시점', direction='nearest')"
   ]
  },
  {
   "cell_type": "code",
   "execution_count": 62,
   "metadata": {
    "ExecuteTime": {
     "end_time": "2024-07-12T14:33:59.981208Z",
     "start_time": "2024-07-12T14:33:59.965137Z"
    }
   },
   "outputs": [
    {
     "data": {
      "text/html": [
       "<div>\n",
       "<style scoped>\n",
       "    .dataframe tbody tr th:only-of-type {\n",
       "        vertical-align: middle;\n",
       "    }\n",
       "\n",
       "    .dataframe tbody tr th {\n",
       "        vertical-align: top;\n",
       "    }\n",
       "\n",
       "    .dataframe thead th {\n",
       "        text-align: right;\n",
       "    }\n",
       "</style>\n",
       "<table border=\"1\" class=\"dataframe\">\n",
       "  <thead>\n",
       "    <tr style=\"text-align: right;\">\n",
       "      <th></th>\n",
       "      <th>시점</th>\n",
       "      <th>전세</th>\n",
       "      <th>연도_x</th>\n",
       "      <th>월_x</th>\n",
       "      <th>매매</th>\n",
       "      <th>연도_y</th>\n",
       "      <th>월_y</th>\n",
       "    </tr>\n",
       "  </thead>\n",
       "  <tbody>\n",
       "    <tr>\n",
       "      <th>0</th>\n",
       "      <td>2003-11-01</td>\n",
       "      <td>49.7</td>\n",
       "      <td>2003</td>\n",
       "      <td>11</td>\n",
       "      <td>55.4</td>\n",
       "      <td>2003</td>\n",
       "      <td>11</td>\n",
       "    </tr>\n",
       "    <tr>\n",
       "      <th>1</th>\n",
       "      <td>2003-12-01</td>\n",
       "      <td>49.2</td>\n",
       "      <td>2003</td>\n",
       "      <td>12</td>\n",
       "      <td>55.1</td>\n",
       "      <td>2003</td>\n",
       "      <td>12</td>\n",
       "    </tr>\n",
       "    <tr>\n",
       "      <th>2</th>\n",
       "      <td>2004-01-01</td>\n",
       "      <td>49.1</td>\n",
       "      <td>2004</td>\n",
       "      <td>01</td>\n",
       "      <td>55.0</td>\n",
       "      <td>2004</td>\n",
       "      <td>01</td>\n",
       "    </tr>\n",
       "    <tr>\n",
       "      <th>3</th>\n",
       "      <td>2004-02-01</td>\n",
       "      <td>49.3</td>\n",
       "      <td>2004</td>\n",
       "      <td>02</td>\n",
       "      <td>55.1</td>\n",
       "      <td>2004</td>\n",
       "      <td>02</td>\n",
       "    </tr>\n",
       "    <tr>\n",
       "      <th>4</th>\n",
       "      <td>2004-03-01</td>\n",
       "      <td>49.6</td>\n",
       "      <td>2004</td>\n",
       "      <td>03</td>\n",
       "      <td>55.4</td>\n",
       "      <td>2004</td>\n",
       "      <td>03</td>\n",
       "    </tr>\n",
       "    <tr>\n",
       "      <th>...</th>\n",
       "      <td>...</td>\n",
       "      <td>...</td>\n",
       "      <td>...</td>\n",
       "      <td>...</td>\n",
       "      <td>...</td>\n",
       "      <td>...</td>\n",
       "      <td>...</td>\n",
       "    </tr>\n",
       "    <tr>\n",
       "      <th>242</th>\n",
       "      <td>2024-01-01</td>\n",
       "      <td>88.8</td>\n",
       "      <td>2024</td>\n",
       "      <td>01</td>\n",
       "      <td>93.2</td>\n",
       "      <td>2024</td>\n",
       "      <td>01</td>\n",
       "    </tr>\n",
       "    <tr>\n",
       "      <th>243</th>\n",
       "      <td>2024-02-01</td>\n",
       "      <td>88.8</td>\n",
       "      <td>2024</td>\n",
       "      <td>02</td>\n",
       "      <td>93.0</td>\n",
       "      <td>2024</td>\n",
       "      <td>02</td>\n",
       "    </tr>\n",
       "    <tr>\n",
       "      <th>244</th>\n",
       "      <td>2024-03-01</td>\n",
       "      <td>88.9</td>\n",
       "      <td>2024</td>\n",
       "      <td>03</td>\n",
       "      <td>92.9</td>\n",
       "      <td>2024</td>\n",
       "      <td>03</td>\n",
       "    </tr>\n",
       "    <tr>\n",
       "      <th>245</th>\n",
       "      <td>2024-04-01</td>\n",
       "      <td>89.0</td>\n",
       "      <td>2024</td>\n",
       "      <td>04</td>\n",
       "      <td>92.8</td>\n",
       "      <td>2024</td>\n",
       "      <td>04</td>\n",
       "    </tr>\n",
       "    <tr>\n",
       "      <th>246</th>\n",
       "      <td>2024-05-01</td>\n",
       "      <td>89.2</td>\n",
       "      <td>2024</td>\n",
       "      <td>05</td>\n",
       "      <td>92.8</td>\n",
       "      <td>2024</td>\n",
       "      <td>05</td>\n",
       "    </tr>\n",
       "  </tbody>\n",
       "</table>\n",
       "<p>247 rows × 7 columns</p>\n",
       "</div>"
      ],
      "text/plain": [
       "            시점    전세  연도_x 월_x    매매  연도_y 월_y\n",
       "0   2003-11-01  49.7  2003  11  55.4  2003  11\n",
       "1   2003-12-01  49.2  2003  12  55.1  2003  12\n",
       "2   2004-01-01  49.1  2004  01  55.0  2004  01\n",
       "3   2004-02-01  49.3  2004  02  55.1  2004  02\n",
       "4   2004-03-01  49.6  2004  03  55.4  2004  03\n",
       "..         ...   ...   ...  ..   ...   ...  ..\n",
       "242 2024-01-01  88.8  2024  01  93.2  2024  01\n",
       "243 2024-02-01  88.8  2024  02  93.0  2024  02\n",
       "244 2024-03-01  88.9  2024  03  92.9  2024  03\n",
       "245 2024-04-01  89.0  2024  04  92.8  2024  04\n",
       "246 2024-05-01  89.2  2024  05  92.8  2024  05\n",
       "\n",
       "[247 rows x 7 columns]"
      ]
     },
     "execution_count": 62,
     "metadata": {},
     "output_type": "execute_result"
    }
   ],
   "source": [
    "df_merged"
   ]
  },
  {
   "cell_type": "code",
   "execution_count": 63,
   "metadata": {
    "ExecuteTime": {
     "end_time": "2024-07-12T14:34:00.177990Z",
     "start_time": "2024-07-12T14:33:59.981659Z"
    }
   },
   "outputs": [
    {
     "data": {
      "image/png": "[encoded data removed]",
      "text/plain": [
       "<Figure size 2000x1100 with 1 Axes>"
      ]
     },
     "metadata": {},
     "output_type": "display_data"
    }
   ],
   "source": [
    "import matplotlib.pyplot as plt\n",
    "from datetime import datetime\n",
    "\n",
    "# 1. 기본 스타일 설정\n",
    "plt.style.use('default')\n",
    "plt.rcParams['figure.figsize'] = (20, 11)\n",
    "plt.rc('font', family = 'NanumGothic')\n",
    "plt.rcParams['font.size'] = 20\n",
    "\n",
    "x = df_merged['시점']\n",
    "y1 = df_merged['전세']\n",
    "y2 = df_merged['매매']\n",
    "\n",
    "fig, ax = plt.subplots()\n",
    "\n",
    "\n",
    "line1, = ax.plot(x, y1, label='전세가격지수', color='blue')\n",
    "line2, = ax.plot(x, y2, dashes=[6, 2], label='매매가격지수', color='red')\n",
    "\n",
    "# 낮으면 파란색, 높으면 빨간색을 채우기\n",
    "plt.fill_between(x, y1, y2, where = y1 >= y2, facecolor='royalblue', alpha=0.2)\n",
    "plt.fill_between(x, y1, y2, where = y1 < y2, facecolor='deeppink', alpha=0.2)\n",
    "\n",
    "# 세로 영역표시\n",
    "plt.axvspan(datetime(2003,10,29),datetime(2003,11,3),facecolor = \"grey\",alpha = 0.8)\n",
    "plt.axvspan(datetime(2005,8,31),datetime(2005,9,1),facecolor = \"grey\",alpha = 0.8)\n",
    "plt.axvspan(datetime(2008,9,1),datetime(2008,9,5),facecolor = \"grey\",alpha = 0.8)\n",
    "plt.axvspan(datetime(2010,8,29),datetime(2010,9,2),facecolor = \"grey\",alpha = 0.8)\n",
    "plt.axvspan(datetime(2012,5,10),datetime(2012,5,13),facecolor = \"grey\",alpha = 0.8)\n",
    "plt.axvspan(datetime(2014,12,1),datetime(2014,12,4),facecolor = \"grey\",alpha = 0.8)\n",
    "plt.axvspan(datetime(2017,8,2),datetime(2017,8,5),facecolor = \"grey\",alpha = 0.8) # 8.2 대책\n",
    "plt.axvspan(datetime(2018,9,13),datetime(2018,9,17),facecolor = \"grey\",alpha = 0.8)\n",
    "plt.axvspan(datetime(2020,7,31),datetime(2020,8,7),facecolor = \"grey\",alpha = 0.8) # 임대차 2법 시행\n",
    "\n",
    "# 구간별 텍스트\n",
    "mybox={'facecolor':'w','edgecolor':'w','boxstyle':'round','alpha':0.5}\n",
    "plt.text(datetime(2003,10,29),65,'종합 \\n부동산세 \\n도입',bbox = mybox)\n",
    "plt.text(datetime(2005,8,31),75,'양도소득세 \\n과세 실거래가 \\n신고 의무화',bbox = mybox)\n",
    "plt.text(datetime(2008,9,1),80,'글로벌 \\n금융위기',bbox = mybox)\n",
    "plt.text(datetime(2010,8,29),85,'주택기금 \\n전세자금 \\n대출한도 확대',bbox = mybox)\n",
    "plt.text(datetime(2012,5,10),80,'강남 3구 \\n투기지역 해제',bbox = mybox)\n",
    "plt.text(datetime(2014,12,1),90,'부동산 3법 \\n개정',bbox = mybox)\n",
    "plt.text(datetime(2017,8,2),90,'8.2대책',bbox = mybox)\n",
    "plt.text(datetime(2018,9,13),95,'종합부동산세 \\n확대개편',bbox = mybox)\n",
    "plt.text(datetime(2020,7,31),85,'임대차 2법 \\n시행시기',bbox = mybox)\n",
    "\n",
    "ax.legend()\n",
    "plt.show()"
   ]
  },
  {
   "cell_type": "code",
   "execution_count": 64,
   "metadata": {
    "ExecuteTime": {
     "end_time": "2024-07-12T14:34:00.193321Z",
     "start_time": "2024-07-12T14:34:00.177990Z"
    }
   },
   "outputs": [
    {
     "data": {
      "text/plain": [
       "<matplotlib.lines.Line2D at 0x1c9942c8310>"
      ]
     },
     "execution_count": 64,
     "metadata": {},
     "output_type": "execute_result"
    }
   ],
   "source": [
    "line1"
   ]
  },
  {
   "cell_type": "code",
   "execution_count": 65,
   "metadata": {
    "ExecuteTime": {
     "end_time": "2024-07-12T14:34:00.201363Z",
     "start_time": "2024-07-12T14:34:00.194361Z"
    }
   },
   "outputs": [
    {
     "data": {
      "text/plain": [
       "<matplotlib.lines.Line2D at 0x1c9942f1100>"
      ]
     },
     "execution_count": 65,
     "metadata": {},
     "output_type": "execute_result"
    }
   ],
   "source": [
    "line2"
   ]
  },
  {
   "cell_type": "code",
   "execution_count": 66,
   "metadata": {
    "ExecuteTime": {
     "end_time": "2024-07-12T14:34:00.215316Z",
     "start_time": "2024-07-12T14:34:00.201363Z"
    }
   },
   "outputs": [],
   "source": [
    "# # Additional Lecture <그래프 그리기>"
   ]
  },
  {
   "cell_type": "markdown",
   "metadata": {
    "ExecuteTime": {
     "end_time": "2022-11-29T00:39:08.217611Z",
     "start_time": "2022-11-29T00:39:08.199167Z"
    }
   },
   "source": [
    "<img src=\"./data/anatomy.png\" width=\"500\" height=\"300\">"
   ]
  },
  {
   "cell_type": "code",
   "execution_count": 67,
   "metadata": {
    "ExecuteTime": {
     "end_time": "2024-07-12T14:34:00.231596Z",
     "start_time": "2024-07-12T14:34:00.215316Z"
    }
   },
   "outputs": [],
   "source": [
    "import matplotlib.pyplot as plt"
   ]
  },
  {
   "cell_type": "code",
   "execution_count": 68,
   "metadata": {
    "ExecuteTime": {
     "end_time": "2024-07-12T14:34:00.343391Z",
     "start_time": "2024-07-12T14:34:00.231808Z"
    }
   },
   "outputs": [
    {
     "data": {
      "image/png": "[encoded data removed]",
      "text/plain": [
       "<Figure size 2000x1100 with 2 Axes>"
      ]
     },
     "metadata": {},
     "output_type": "display_data"
    }
   ],
   "source": [
    "# subplot의 예\n",
    "# fig, ax = plt.subplots()\n",
    "\n",
    "\n",
    "plt.subplot(2,2,1)\n",
    "plt.subplot(2,2,2)\n",
    "\n",
    "plt.show()"
   ]
  },
  {
   "cell_type": "code",
   "execution_count": 69,
   "metadata": {
    "ExecuteTime": {
     "end_time": "2024-07-12T14:34:00.472019Z",
     "start_time": "2024-07-12T14:34:00.344304Z"
    }
   },
   "outputs": [
    {
     "data": {
      "image/png": "[encoded data removed]",
      "text/plain": [
       "<Figure size 2000x1100 with 2 Axes>"
      ]
     },
     "metadata": {},
     "output_type": "display_data"
    }
   ],
   "source": [
    "# subplots의 예\n",
    "fig, axes = plt.subplots(nrows=2, ncols=1)\n",
    "plt.show()"
   ]
  },
  {
   "cell_type": "code",
   "execution_count": 70,
   "metadata": {
    "ExecuteTime": {
     "end_time": "2024-07-12T14:34:00.572174Z",
     "start_time": "2024-07-12T14:34:00.472019Z"
    }
   },
   "outputs": [
    {
     "data": {
      "image/png": "[encoded data removed]",
      "text/plain": [
       "<Figure size 2000x1100 with 1 Axes>"
      ]
     },
     "metadata": {},
     "output_type": "display_data"
    }
   ],
   "source": [
    "fig, axes = plt.subplots()"
   ]
  },
  {
   "cell_type": "code",
   "execution_count": 71,
   "metadata": {
    "ExecuteTime": {
     "end_time": "2024-07-12T14:34:00.580607Z",
     "start_time": "2024-07-12T14:34:00.573055Z"
    }
   },
   "outputs": [],
   "source": [
    "# import matplotlib.pyplot as plt\n",
    "\n",
    "# # figure 크기 설정\n",
    "# plt.figure(figsize=(15,7))\n",
    "\n",
    "# # grid 설정\n",
    "# plt.grid(True)\n",
    "\n",
    "# # title 설정\n",
    "# plt.title()\n",
    "\n",
    "# # x, y축 라벨 설정\n",
    "# plt.xlabel()\n",
    "# plt.ylabel()\n",
    "\n",
    "# # x, y축 범위 설정\n",
    "# plt.xlim()\n",
    "# plt.xlim()\n",
    "\n",
    "# # x, y축 눈금 설정\n",
    "# plt.xticks()\n",
    "# plt.yticks()\n",
    "\n",
    "# # 범례\n",
    "# plt.legend()\n",
    "\n",
    "# # 그리기\n",
    "# plt.plot()\n",
    "\n",
    "# # 보이기\n",
    "# plt.show()</div><i class=\"fa fa-lightbulb-o \"></i>"
   ]
  },
  {
   "cell_type": "code",
   "execution_count": 72,
   "metadata": {
    "ExecuteTime": {
     "end_time": "2024-07-12T14:34:00.596662Z",
     "start_time": "2024-07-12T14:34:00.585618Z"
    }
   },
   "outputs": [
    {
     "name": "stdout",
     "output_type": "stream",
     "text": [
      "Figure(2000x1100)\n",
      "AxesSubplot(0.125,0.11;0.775x0.77)\n"
     ]
    }
   ],
   "source": [
    "print(fig)\n",
    "print(axes)"
   ]
  },
  {
   "cell_type": "code",
   "execution_count": 73,
   "metadata": {
    "ExecuteTime": {
     "end_time": "2024-07-12T14:34:00.696338Z",
     "start_time": "2024-07-12T14:34:00.598959Z"
    }
   },
   "outputs": [
    {
     "name": "stdout",
     "output_type": "stream",
     "text": [
      "AxesSubplot(0.125,0.53;0.775x0.35)\n"
     ]
    },
    {
     "data": {
      "image/png": "[encoded data removed]",
      "text/plain": [
       "<Figure size 2000x1100 with 1 Axes>"
      ]
     },
     "metadata": {},
     "output_type": "display_data"
    }
   ],
   "source": [
    "ax = plt.subplot(2,1,1) #subplot은 하나의 값(axes)만 받을 수 있습니다.\n",
    "\n",
    "# print(fig)\n",
    "print(ax)"
   ]
  }
 ],
 "metadata": {
  "kernelspec": {
   "display_name": "Python 3",
   "language": "python",
   "name": "python3"
  },
  "language_info": {
   "codemirror_mode": {
    "name": "ipython",
    "version": 3
   },
   "file_extension": ".py",
   "mimetype": "text/x-python",
   "name": "python",
   "nbconvert_exporter": "python",
   "pygments_lexer": "ipython3",
   "version": "3.8.5"
  },
  "latex_envs": {
   "LaTeX_envs_menu_present": true,
   "autoclose": false,
   "autocomplete": true,
   "bibliofile": "biblio.bib",
   "cite_by": "apalike",
   "current_citInitial": 1,
   "eqLabelWithNumbers": true,
   "eqNumInitial": 1,
   "hotkeys": {
    "equation": "Ctrl-E",
    "itemize": "Ctrl-I"
   },
   "labels_anchors": false,
   "latex_user_defs": false,
   "report_style_numbering": false,
   "user_envs_cfg": false
  },
  "toc": {
   "base_numbering": 1,
   "nav_menu": {},
   "number_sections": true,
   "sideBar": true,
   "skip_h1_title": false,
   "title_cell": "Table of Contents",
   "title_sidebar": "Contents",
   "toc_cell": false,
   "toc_position": {},
   "toc_section_display": true,
   "toc_window_display": false
  },
  "varInspector": {
   "cols": {
    "lenName": 16,
    "lenType": 16,
    "lenVar": 40
   },
   "kernels_config": {
    "python": {
     "delete_cmd_postfix": "",
     "delete_cmd_prefix": "del ",
     "library": "var_list.py",
     "varRefreshCmd": "print(var_dic_list())"
    },
    "r": {
     "delete_cmd_postfix": ") ",
     "delete_cmd_prefix": "rm(",
     "library": "var_list.r",
     "varRefreshCmd": "cat(var_dic_list()) "
    }
   },
   "types_to_exclude": [
    "module",
    "function",
    "builtin_function_or_method",
    "instance",
    "_Feature"
   ],
   "window_display": false
  }
 },
 "nbformat": 4,
 "nbformat_minor": 4
}
