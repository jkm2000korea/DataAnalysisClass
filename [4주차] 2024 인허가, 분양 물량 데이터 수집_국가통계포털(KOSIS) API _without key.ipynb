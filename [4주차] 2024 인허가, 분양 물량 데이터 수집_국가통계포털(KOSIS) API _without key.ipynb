{
 "cells": [
  {
   "cell_type": "markdown",
   "metadata": {},
   "source": [
    "# <span style=\"color:royalblue\"> [4주차] 부동산 수요와 공급</span>\n",
    "# 인허가, 분양 물량 데이터 습득 및 분석 \n",
    "## feat. 함수와 모듈 만들기 & KOSIS API 활용하기\n",
    "\n",
    "--- "
   ]
  },
  {
   "cell_type": "markdown",
   "metadata": {},
   "source": [
    "<div style=\"text-align: right\"> Final Edition : 2023.1.25<br>\n",
    "    copyrightⓒ 2024 All rights reserved by Data Lover Pablo </div>"
   ]
  },
  {
   "cell_type": "markdown",
   "metadata": {},
   "source": [
    "# Part_I. 미시경제의 수요-공급 곡선"
   ]
  },
  {
   "cell_type": "markdown",
   "metadata": {},
   "source": [
    "지난시간까지는 부동산 가격에 영향을 주는 거시경제(Macro)에 대해 공부했습니다.  \n",
    "부동산 뿐만 아니라 재화의 가격은 수요와 공급의 법칙이 작용합니다. "
   ]
  },
  {
   "cell_type": "markdown",
   "metadata": {},
   "source": [
    "[부동산 수요와 공급에 대한 뉴스기사 - 이론만 참고](https://www.joongang.co.kr/article/23818710#home)"
   ]
  },
  {
   "cell_type": "markdown",
   "metadata": {},
   "source": [
    "# 부동산의 수요와 공급\n",
    "부동산에서 공급과 수요에 관한 지표는 다음의 4가지로 알아볼 수가 있습니다. \n",
    "* 공급 : 인허가 및 분양 물량, 착공물량, 준공물량\n",
    "* 수요 : 매매가와 전세가 가격지수(투자 및 실입주 수요 포함), (and 미분양)"
   ]
  },
  {
   "cell_type": "markdown",
   "metadata": {},
   "source": [
    "##  공동주택의 공급 프로세스  \n",
    "인허가 > 분양 > 건설 > 준공 > 입주 순으로 진행됩니다. <br>\n",
    "인허가부터 입주까지 하나의 Cycle 에 걸리는 기간은 약 2~3년 정도입니다.<br>\n",
    "\n",
    "** 인허가와 분양/미분양 데이터를 분석하면 2~3년 후의 공급측면에서의 부동산 가격을 예측할 수 있습니다. **"
   ]
  },
  {
   "cell_type": "markdown",
   "metadata": {},
   "source": [
    "## 주택공급 데이터 수집"
   ]
  },
  {
   "cell_type": "markdown",
   "metadata": {},
   "source": [
    "* 소스 : 국토교통 통계누리 > 주택 > 부문별 주택 건설실적 인허가 통계\n",
    "* 기간 : 2007년 1월 ~ 2023년 5월\n",
    "* 필터 : 행(row) : 월(Month) / 열(Column) : 권역별2\n",
    "* 다운로드 : 마우스 오른쪽버튼 > 내리기\n",
    "* 링크 주소 : [클릭](https://stat.molit.go.kr/portal/cate/statView.do?hRsId=31&hFormId=1952&hSelectId=1952&hPoint=00&hAppr=1&hDivEng=&oFileName=&rFileName=&midpath=&month_yn=N&sFormId=1952&sStart=200701&sEnd=202206&sStyleNum=1&EXPORT=)\n",
    "* 국토부 통계누리 사이트는 서비스가 불안정할때는 KOSIS로 대체합니다\n",
    "[KOSIS](https://kosis.kr/statHtml/statHtml.do?orgId=116&tblId=DT_MLTM_1952)\n",
    "[주택유형별인허가실적](https://kosis.kr/statHtml/statHtml.do?orgId=116&tblId=DT_MLTM_1952)"
   ]
  },
  {
   "cell_type": "code",
   "execution_count": 78,
   "metadata": {
    "ExecuteTime": {
     "end_time": "2024-01-25T14:34:37.583340Z",
     "start_time": "2024-01-25T14:34:37.559922Z"
    }
   },
   "outputs": [],
   "source": [
    "import pandas as pd\n",
    "\n",
    "path = r'./data/주택규모별_주택건설_인허가실적_월별_누계__20240125233401.csv'\n",
    "inherga = pd.read_csv(path, encoding='cp949', skiprows=[0,1,3])\n"
   ]
  },
  {
   "cell_type": "code",
   "execution_count": 79,
   "metadata": {
    "ExecuteTime": {
     "end_time": "2024-01-25T14:34:38.411329Z",
     "start_time": "2024-01-25T14:34:38.397254Z"
    }
   },
   "outputs": [
    {
     "data": {
      "text/html": [
       "<div>\n",
       "<style scoped>\n",
       "    .dataframe tbody tr th:only-of-type {\n",
       "        vertical-align: middle;\n",
       "    }\n",
       "\n",
       "    .dataframe tbody tr th {\n",
       "        vertical-align: top;\n",
       "    }\n",
       "\n",
       "    .dataframe thead th {\n",
       "        text-align: right;\n",
       "    }\n",
       "</style>\n",
       "<table border=\"1\" class=\"dataframe\">\n",
       "  <thead>\n",
       "    <tr style=\"text-align: right;\">\n",
       "      <th></th>\n",
       "      <th>시점</th>\n",
       "      <th>전국</th>\n",
       "      <th>서울</th>\n",
       "      <th>인천</th>\n",
       "      <th>경기</th>\n",
       "      <th>부산</th>\n",
       "      <th>대구</th>\n",
       "    </tr>\n",
       "  </thead>\n",
       "  <tbody>\n",
       "    <tr>\n",
       "      <th>0</th>\n",
       "      <td>2007.01</td>\n",
       "      <td>12038</td>\n",
       "      <td>1530</td>\n",
       "      <td>69</td>\n",
       "      <td>2647</td>\n",
       "      <td>455</td>\n",
       "      <td>818</td>\n",
       "    </tr>\n",
       "    <tr>\n",
       "      <th>1</th>\n",
       "      <td>2007.02</td>\n",
       "      <td>29789</td>\n",
       "      <td>2324</td>\n",
       "      <td>185</td>\n",
       "      <td>5517</td>\n",
       "      <td>1554</td>\n",
       "      <td>3549</td>\n",
       "    </tr>\n",
       "    <tr>\n",
       "      <th>2</th>\n",
       "      <td>2007.03</td>\n",
       "      <td>49827</td>\n",
       "      <td>4212</td>\n",
       "      <td>1115</td>\n",
       "      <td>8705</td>\n",
       "      <td>3675</td>\n",
       "      <td>4596</td>\n",
       "    </tr>\n",
       "    <tr>\n",
       "      <th>3</th>\n",
       "      <td>2007.04</td>\n",
       "      <td>69013</td>\n",
       "      <td>6175</td>\n",
       "      <td>4452</td>\n",
       "      <td>12692</td>\n",
       "      <td>4039</td>\n",
       "      <td>5110</td>\n",
       "    </tr>\n",
       "    <tr>\n",
       "      <th>4</th>\n",
       "      <td>2007.05</td>\n",
       "      <td>99606</td>\n",
       "      <td>8041</td>\n",
       "      <td>4663</td>\n",
       "      <td>25860</td>\n",
       "      <td>4936</td>\n",
       "      <td>5685</td>\n",
       "    </tr>\n",
       "    <tr>\n",
       "      <th>...</th>\n",
       "      <td>...</td>\n",
       "      <td>...</td>\n",
       "      <td>...</td>\n",
       "      <td>...</td>\n",
       "      <td>...</td>\n",
       "      <td>...</td>\n",
       "      <td>...</td>\n",
       "    </tr>\n",
       "    <tr>\n",
       "      <th>198</th>\n",
       "      <td>2023.07</td>\n",
       "      <td>207278</td>\n",
       "      <td>18536</td>\n",
       "      <td>11432</td>\n",
       "      <td>48921</td>\n",
       "      <td>14181</td>\n",
       "      <td>8390</td>\n",
       "    </tr>\n",
       "    <tr>\n",
       "      <th>199</th>\n",
       "      <td>2023.08</td>\n",
       "      <td>212757</td>\n",
       "      <td>19370</td>\n",
       "      <td>11560</td>\n",
       "      <td>50621</td>\n",
       "      <td>14489</td>\n",
       "      <td>8440</td>\n",
       "    </tr>\n",
       "    <tr>\n",
       "      <th>200</th>\n",
       "      <td>2023.09</td>\n",
       "      <td>255871</td>\n",
       "      <td>19778</td>\n",
       "      <td>15284</td>\n",
       "      <td>67033</td>\n",
       "      <td>16930</td>\n",
       "      <td>8455</td>\n",
       "    </tr>\n",
       "    <tr>\n",
       "      <th>201</th>\n",
       "      <td>2023.10</td>\n",
       "      <td>273918</td>\n",
       "      <td>21849</td>\n",
       "      <td>16139</td>\n",
       "      <td>70232</td>\n",
       "      <td>18685</td>\n",
       "      <td>8475</td>\n",
       "    </tr>\n",
       "    <tr>\n",
       "      <th>202</th>\n",
       "      <td>2023.11</td>\n",
       "      <td>294471</td>\n",
       "      <td>22786</td>\n",
       "      <td>18618</td>\n",
       "      <td>78555</td>\n",
       "      <td>19296</td>\n",
       "      <td>9086</td>\n",
       "    </tr>\n",
       "  </tbody>\n",
       "</table>\n",
       "<p>203 rows × 7 columns</p>\n",
       "</div>"
      ],
      "text/plain": [
       "          시점      전국     서울     인천     경기     부산    대구\n",
       "0    2007.01   12038   1530     69   2647    455   818\n",
       "1    2007.02   29789   2324    185   5517   1554  3549\n",
       "2    2007.03   49827   4212   1115   8705   3675  4596\n",
       "3    2007.04   69013   6175   4452  12692   4039  5110\n",
       "4    2007.05   99606   8041   4663  25860   4936  5685\n",
       "..       ...     ...    ...    ...    ...    ...   ...\n",
       "198  2023.07  207278  18536  11432  48921  14181  8390\n",
       "199  2023.08  212757  19370  11560  50621  14489  8440\n",
       "200  2023.09  255871  19778  15284  67033  16930  8455\n",
       "201  2023.10  273918  21849  16139  70232  18685  8475\n",
       "202  2023.11  294471  22786  18618  78555  19296  9086\n",
       "\n",
       "[203 rows x 7 columns]"
      ]
     },
     "execution_count": 79,
     "metadata": {},
     "output_type": "execute_result"
    }
   ],
   "source": [
    "inherga"
   ]
  },
  {
   "cell_type": "code",
   "execution_count": 80,
   "metadata": {
    "ExecuteTime": {
     "end_time": "2024-01-25T14:34:39.484216Z",
     "start_time": "2024-01-25T14:34:39.476135Z"
    }
   },
   "outputs": [],
   "source": [
    "inherga['수도권'] = inherga['서울'] + inherga['인천'] + inherga['경기']"
   ]
  },
  {
   "cell_type": "code",
   "execution_count": 81,
   "metadata": {
    "ExecuteTime": {
     "end_time": "2024-01-25T14:34:39.831555Z",
     "start_time": "2024-01-25T14:34:39.822337Z"
    }
   },
   "outputs": [],
   "source": [
    "inherga['지방소계'] = inherga['전국'] - inherga['수도권']"
   ]
  },
  {
   "cell_type": "code",
   "execution_count": 83,
   "metadata": {
    "ExecuteTime": {
     "end_time": "2024-01-25T14:34:40.379433Z",
     "start_time": "2024-01-25T14:34:40.364194Z"
    }
   },
   "outputs": [
    {
     "data": {
      "text/html": [
       "<div>\n",
       "<style scoped>\n",
       "    .dataframe tbody tr th:only-of-type {\n",
       "        vertical-align: middle;\n",
       "    }\n",
       "\n",
       "    .dataframe tbody tr th {\n",
       "        vertical-align: top;\n",
       "    }\n",
       "\n",
       "    .dataframe thead th {\n",
       "        text-align: right;\n",
       "    }\n",
       "</style>\n",
       "<table border=\"1\" class=\"dataframe\">\n",
       "  <thead>\n",
       "    <tr style=\"text-align: right;\">\n",
       "      <th></th>\n",
       "      <th>시점</th>\n",
       "      <th>전국</th>\n",
       "      <th>서울</th>\n",
       "      <th>인천</th>\n",
       "      <th>경기</th>\n",
       "      <th>부산</th>\n",
       "      <th>대구</th>\n",
       "      <th>수도권</th>\n",
       "      <th>지방소계</th>\n",
       "    </tr>\n",
       "  </thead>\n",
       "  <tbody>\n",
       "    <tr>\n",
       "      <th>0</th>\n",
       "      <td>2007.01</td>\n",
       "      <td>12038</td>\n",
       "      <td>1530</td>\n",
       "      <td>69</td>\n",
       "      <td>2647</td>\n",
       "      <td>455</td>\n",
       "      <td>818</td>\n",
       "      <td>4246</td>\n",
       "      <td>7792</td>\n",
       "    </tr>\n",
       "    <tr>\n",
       "      <th>1</th>\n",
       "      <td>2007.02</td>\n",
       "      <td>29789</td>\n",
       "      <td>2324</td>\n",
       "      <td>185</td>\n",
       "      <td>5517</td>\n",
       "      <td>1554</td>\n",
       "      <td>3549</td>\n",
       "      <td>8026</td>\n",
       "      <td>21763</td>\n",
       "    </tr>\n",
       "    <tr>\n",
       "      <th>2</th>\n",
       "      <td>2007.03</td>\n",
       "      <td>49827</td>\n",
       "      <td>4212</td>\n",
       "      <td>1115</td>\n",
       "      <td>8705</td>\n",
       "      <td>3675</td>\n",
       "      <td>4596</td>\n",
       "      <td>14032</td>\n",
       "      <td>35795</td>\n",
       "    </tr>\n",
       "    <tr>\n",
       "      <th>3</th>\n",
       "      <td>2007.04</td>\n",
       "      <td>69013</td>\n",
       "      <td>6175</td>\n",
       "      <td>4452</td>\n",
       "      <td>12692</td>\n",
       "      <td>4039</td>\n",
       "      <td>5110</td>\n",
       "      <td>23319</td>\n",
       "      <td>45694</td>\n",
       "    </tr>\n",
       "    <tr>\n",
       "      <th>4</th>\n",
       "      <td>2007.05</td>\n",
       "      <td>99606</td>\n",
       "      <td>8041</td>\n",
       "      <td>4663</td>\n",
       "      <td>25860</td>\n",
       "      <td>4936</td>\n",
       "      <td>5685</td>\n",
       "      <td>38564</td>\n",
       "      <td>61042</td>\n",
       "    </tr>\n",
       "    <tr>\n",
       "      <th>...</th>\n",
       "      <td>...</td>\n",
       "      <td>...</td>\n",
       "      <td>...</td>\n",
       "      <td>...</td>\n",
       "      <td>...</td>\n",
       "      <td>...</td>\n",
       "      <td>...</td>\n",
       "      <td>...</td>\n",
       "      <td>...</td>\n",
       "    </tr>\n",
       "    <tr>\n",
       "      <th>198</th>\n",
       "      <td>2023.07</td>\n",
       "      <td>207278</td>\n",
       "      <td>18536</td>\n",
       "      <td>11432</td>\n",
       "      <td>48921</td>\n",
       "      <td>14181</td>\n",
       "      <td>8390</td>\n",
       "      <td>78889</td>\n",
       "      <td>128389</td>\n",
       "    </tr>\n",
       "    <tr>\n",
       "      <th>199</th>\n",
       "      <td>2023.08</td>\n",
       "      <td>212757</td>\n",
       "      <td>19370</td>\n",
       "      <td>11560</td>\n",
       "      <td>50621</td>\n",
       "      <td>14489</td>\n",
       "      <td>8440</td>\n",
       "      <td>81551</td>\n",
       "      <td>131206</td>\n",
       "    </tr>\n",
       "    <tr>\n",
       "      <th>200</th>\n",
       "      <td>2023.09</td>\n",
       "      <td>255871</td>\n",
       "      <td>19778</td>\n",
       "      <td>15284</td>\n",
       "      <td>67033</td>\n",
       "      <td>16930</td>\n",
       "      <td>8455</td>\n",
       "      <td>102095</td>\n",
       "      <td>153776</td>\n",
       "    </tr>\n",
       "    <tr>\n",
       "      <th>201</th>\n",
       "      <td>2023.10</td>\n",
       "      <td>273918</td>\n",
       "      <td>21849</td>\n",
       "      <td>16139</td>\n",
       "      <td>70232</td>\n",
       "      <td>18685</td>\n",
       "      <td>8475</td>\n",
       "      <td>108220</td>\n",
       "      <td>165698</td>\n",
       "    </tr>\n",
       "    <tr>\n",
       "      <th>202</th>\n",
       "      <td>2023.11</td>\n",
       "      <td>294471</td>\n",
       "      <td>22786</td>\n",
       "      <td>18618</td>\n",
       "      <td>78555</td>\n",
       "      <td>19296</td>\n",
       "      <td>9086</td>\n",
       "      <td>119959</td>\n",
       "      <td>174512</td>\n",
       "    </tr>\n",
       "  </tbody>\n",
       "</table>\n",
       "<p>203 rows × 9 columns</p>\n",
       "</div>"
      ],
      "text/plain": [
       "          시점      전국     서울     인천     경기     부산    대구     수도권    지방소계\n",
       "0    2007.01   12038   1530     69   2647    455   818    4246    7792\n",
       "1    2007.02   29789   2324    185   5517   1554  3549    8026   21763\n",
       "2    2007.03   49827   4212   1115   8705   3675  4596   14032   35795\n",
       "3    2007.04   69013   6175   4452  12692   4039  5110   23319   45694\n",
       "4    2007.05   99606   8041   4663  25860   4936  5685   38564   61042\n",
       "..       ...     ...    ...    ...    ...    ...   ...     ...     ...\n",
       "198  2023.07  207278  18536  11432  48921  14181  8390   78889  128389\n",
       "199  2023.08  212757  19370  11560  50621  14489  8440   81551  131206\n",
       "200  2023.09  255871  19778  15284  67033  16930  8455  102095  153776\n",
       "201  2023.10  273918  21849  16139  70232  18685  8475  108220  165698\n",
       "202  2023.11  294471  22786  18618  78555  19296  9086  119959  174512\n",
       "\n",
       "[203 rows x 9 columns]"
      ]
     },
     "execution_count": 83,
     "metadata": {},
     "output_type": "execute_result"
    }
   ],
   "source": [
    "inherga"
   ]
  },
  {
   "cell_type": "code",
   "execution_count": 84,
   "metadata": {
    "ExecuteTime": {
     "end_time": "2024-01-25T14:34:40.969932Z",
     "start_time": "2024-01-25T14:34:40.961742Z"
    }
   },
   "outputs": [],
   "source": [
    "# 누적막대 그래프 그리기"
   ]
  },
  {
   "cell_type": "code",
   "execution_count": 85,
   "metadata": {
    "ExecuteTime": {
     "end_time": "2024-01-25T14:34:41.629634Z",
     "start_time": "2024-01-25T14:34:41.517823Z"
    }
   },
   "outputs": [
    {
     "data": {
      "image/png": "[encoded data removed]",
      "text/plain": [
       "<Figure size 432x288 with 1 Axes>"
      ]
     },
     "metadata": {
      "needs_background": "light"
     },
     "output_type": "display_data"
    }
   ],
   "source": [
    "import matplotlib.pyplot as plt\n",
    "import numpy as np\n",
    "\n",
    "species = ('Adelie', 'Chinstrap', 'Gentoo')\n",
    "sex_counts = {\n",
    "    'Male': np.array([73, 34, 61]),\n",
    "    'Female': np.array([73, 34, 58]),\n",
    "}\n",
    "width = 0.6  # the width of the bars: can also be len(x) sequence\n",
    "\n",
    "\n",
    "fig, ax = plt.subplots()\n",
    "bottom = np.zeros(3)\n",
    "\n",
    "for sex, sex_count in sex_counts.items():\n",
    "    p = ax.bar(species, sex_count, width, label=sex, bottom=bottom)\n",
    "    bottom += sex_count\n",
    "\n",
    "    ax.bar_label(p, label_type='center')\n",
    "\n",
    "ax.set_title('Number of penguins by sex')\n",
    "ax.legend()\n",
    "\n",
    "plt.show()"
   ]
  },
  {
   "cell_type": "code",
   "execution_count": 86,
   "metadata": {
    "ExecuteTime": {
     "end_time": "2024-01-25T14:34:42.132866Z",
     "start_time": "2024-01-25T14:34:42.044280Z"
    }
   },
   "outputs": [
    {
     "data": {
      "image/png": "[encoded data removed]",
      "text/plain": [
       "<Figure size 432x288 with 1 Axes>"
      ]
     },
     "metadata": {
      "needs_background": "light"
     },
     "output_type": "display_data"
    }
   ],
   "source": [
    "from matplotlib import pyplot as plt\n",
    "\n",
    "down = [1, 2, 2, 1, 2]\n",
    "top = [2, 3, 4, 2, 1]\n",
    "\n",
    "plt.bar(range(len(down)), down) \n",
    "plt.bar(range(len(top)), top, bottom=down)\n",
    "# plt.plot(range(len(top)), top, color='r')\n",
    "\n",
    "plt.legend(['TOP', 'BOTTOM'])\n",
    "plt.show()"
   ]
  },
  {
   "cell_type": "markdown",
   "metadata": {},
   "source": [
    "## [draft] 인허가 실적 누적막대그래프"
   ]
  },
  {
   "cell_type": "code",
   "execution_count": 87,
   "metadata": {
    "ExecuteTime": {
     "end_time": "2024-01-25T14:34:43.391754Z",
     "start_time": "2024-01-25T14:34:43.046737Z"
    }
   },
   "outputs": [
    {
     "data": {
      "image/png": "[encoded data removed]",
      "text/plain": [
       "<Figure size 1440x360 with 1 Axes>"
      ]
     },
     "metadata": {
      "needs_background": "light"
     },
     "output_type": "display_data"
    }
   ],
   "source": [
    "import warnings\n",
    "warnings.filterwarnings(\"ignore\")\n",
    "\n",
    "from matplotlib import pyplot as plt\n",
    "import matplotlib.font_manager as fm\n",
    "\n",
    "plt.figure(figsize=(20,5))\n",
    "\n",
    "import matplotlib.font_manager as fm\n",
    "path = 'C:\\\\Windows\\\\Fonts\\\\NanumGothic.ttf'\n",
    "font_name = fm.FontProperties(fname=path).get_name()\n",
    "plt.rc('font', family=font_name)\n",
    "\n",
    "top =  inherga.loc[:,\"수도권\"]\n",
    "down =  inherga.loc[:,\"지방소계\"]\n",
    "\n",
    "plt.bar(range(len(top)), top, bottom=down)\n",
    "plt.bar(range(len(down)), down) \n",
    "\n",
    "ax = plt.subplot()\n",
    "# ax.bar(value_a_x, value_a)\n",
    "ax.set_xticklabels(inherga.index)\n",
    "\n",
    "plt.legend(['수도권', '지방소계'])\n",
    "plt.show()"
   ]
  },
  {
   "cell_type": "markdown",
   "metadata": {},
   "source": [
    " - [ ]   x축 설정이 되어있지 않고, \n",
    " - [ ]   연도별 집계가 필요해보입니다."
   ]
  },
  {
   "cell_type": "code",
   "execution_count": 88,
   "metadata": {
    "ExecuteTime": {
     "end_time": "2024-01-25T14:34:44.416228Z",
     "start_time": "2024-01-25T14:34:44.411719Z"
    }
   },
   "outputs": [],
   "source": [
    "# 이제는 3주차에 배운 API를 모든 데이터 포털에서 활용해보기로 합니다."
   ]
  },
  {
   "cell_type": "markdown",
   "metadata": {},
   "source": [
    "# 1. KOSIS 국가통계포털 OPEN API"
   ]
  },
  {
   "cell_type": "markdown",
   "metadata": {},
   "source": [
    "[KOSIS 국가통계포털 OPEN API 서비스](https://kosis.kr/openapi/index/index.jsp)"
   ]
  },
  {
   "cell_type": "markdown",
   "metadata": {
    "ExecuteTime": {
     "end_time": "2023-07-09T06:39:21.500246Z",
     "start_time": "2023-07-09T06:39:21.484235Z"
    }
   },
   "source": [
    "<img src=\"./data/KOSIS.PNG\" alt=\"Drawing\" style=\"width: 1000px;\"/>"
   ]
  },
  {
   "cell_type": "markdown",
   "metadata": {},
   "source": [
    "## 2. 샘플 API 해보기(JSON -> 그래프)"
   ]
  },
  {
   "cell_type": "code",
   "execution_count": 89,
   "metadata": {
    "ExecuteTime": {
     "end_time": "2024-01-25T14:34:47.529801Z",
     "start_time": "2024-01-25T14:34:47.156218Z"
    }
   },
   "outputs": [
    {
     "data": {
      "image/png": "[encoded data removed]",
      "text/plain": [
       "<Figure size 432x288 with 1 Axes>"
      ]
     },
     "metadata": {},
     "output_type": "display_data"
    }
   ],
   "source": [
    "import json\n",
    "from urllib.request import urlopen\n",
    "import matplotlib.pyplot as plt\n",
    "\n",
    "# 한글 폰트 사용을 위해서 세팅\n",
    "from matplotlib import font_manager, rc\n",
    "font_path = \"C:/Windows/Fonts/malgun.ttf\"\n",
    "font = font_manager.FontProperties(fname=font_path).get_name()\n",
    "rc('font', family=font)\n",
    "\n",
    "#url을 통해 json 데이터 가져오기\n",
    "with urlopen(\"https://kosis.kr/openapi/statisticsData.do?method=getList&apiKey=\n",
    "             &format=json&jsonVD=Y&userStatsId=openapisample/101/DT_1IN1502/2/1/20191106094026_1&prdSe=Y&newEstPrdCnt=3\") as url:\n",
    "    json_file = url.read()\n",
    "    \n",
    "py_json = json.loads(json_file.decode('utf-8'))\n",
    "\n",
    "#변수 지정 및 데이터 저장\n",
    "labels = [] #  시점  [ 2019, 2020,,]\n",
    "ratio = [] # 값 [5555, 66666,]\n",
    "title = ''\n",
    "\n",
    "for i, v in enumerate(py_json):\n",
    "    labels.append(v['PRD_DE']) #년도 데이터\n",
    "    ratio.append(v['DT']) #값/비율 데이터\n",
    "    if i == 0 :\n",
    "        title = v['TBL_NM'] #차트제목\n",
    "        \n",
    "#Pie차트 그리기\n",
    "plt.pie(ratio, labels=labels, autopct='%.1f%%')\n",
    "plt.title(title)\n",
    "plt.show()\n"
   ]
  },
  {
   "cell_type": "code",
   "execution_count": 90,
   "metadata": {
    "ExecuteTime": {
     "end_time": "2024-01-25T14:34:47.537755Z",
     "start_time": "2024-01-25T14:34:47.532007Z"
    }
   },
   "outputs": [
    {
     "data": {
      "text/plain": [
       "['2020', '2021', '2022']"
      ]
     },
     "execution_count": 90,
     "metadata": {},
     "output_type": "execute_result"
    }
   ],
   "source": [
    "labels"
   ]
  },
  {
   "cell_type": "code",
   "execution_count": 91,
   "metadata": {
    "ExecuteTime": {
     "end_time": "2024-01-25T14:34:48.065068Z",
     "start_time": "2024-01-25T14:34:48.057053Z"
    }
   },
   "outputs": [
    {
     "data": {
      "text/plain": [
       "['51829136', '51738071', '51692272']"
      ]
     },
     "execution_count": 91,
     "metadata": {},
     "output_type": "execute_result"
    }
   ],
   "source": [
    "ratio"
   ]
  },
  {
   "cell_type": "code",
   "execution_count": 92,
   "metadata": {
    "ExecuteTime": {
     "end_time": "2024-01-25T14:34:48.766149Z",
     "start_time": "2024-01-25T14:34:48.758161Z"
    }
   },
   "outputs": [
    {
     "data": {
      "text/plain": [
       "[{'TBL_NM': '인구 가구 및 주택 – 읍면동(연도 끝자리 0 5) 시군구(그 외 연도)',\n",
       "  'PRD_DE': '2020',\n",
       "  'TBL_ID': 'DT_1IN1502',\n",
       "  'ITM_NM': '총인구',\n",
       "  'ITM_NM_ENG': 'Total population',\n",
       "  'ITM_ID': 'T100',\n",
       "  'UNIT_NM': '명',\n",
       "  'ORG_ID': '101',\n",
       "  'UNIT_NM_ENG': 'Person',\n",
       "  'C1_OBJ_NM': '행정구역별(읍면동)',\n",
       "  'C1_OBJ_NM_ENG': 'By administrative divisions(eup myeon dong)',\n",
       "  'DT': '51829136',\n",
       "  'PRD_SE': 'A',\n",
       "  'C1': '00',\n",
       "  'C1_NM': '전국',\n",
       "  'C1_NM_ENG': 'Whole country'},\n",
       " {'TBL_NM': '인구 가구 및 주택 – 읍면동(연도 끝자리 0 5) 시군구(그 외 연도)',\n",
       "  'PRD_DE': '2021',\n",
       "  'TBL_ID': 'DT_1IN1502',\n",
       "  'ITM_NM': '총인구',\n",
       "  'ITM_NM_ENG': 'Total population',\n",
       "  'ITM_ID': 'T100',\n",
       "  'UNIT_NM': '명',\n",
       "  'ORG_ID': '101',\n",
       "  'UNIT_NM_ENG': 'Person',\n",
       "  'C1_OBJ_NM': '행정구역별(읍면동)',\n",
       "  'C1_OBJ_NM_ENG': 'By administrative divisions(eup myeon dong)',\n",
       "  'DT': '51738071',\n",
       "  'PRD_SE': 'A',\n",
       "  'C1': '00',\n",
       "  'C1_NM': '전국',\n",
       "  'C1_NM_ENG': 'Whole country'},\n",
       " {'TBL_NM': '인구 가구 및 주택 – 읍면동(연도 끝자리 0 5) 시군구(그 외 연도)',\n",
       "  'PRD_DE': '2022',\n",
       "  'TBL_ID': 'DT_1IN1502',\n",
       "  'ITM_NM': '총인구',\n",
       "  'ITM_NM_ENG': 'Total population',\n",
       "  'ITM_ID': 'T100',\n",
       "  'UNIT_NM': '명',\n",
       "  'ORG_ID': '101',\n",
       "  'UNIT_NM_ENG': 'Person',\n",
       "  'C1_OBJ_NM': '행정구역별(읍면동)',\n",
       "  'C1_OBJ_NM_ENG': 'By administrative divisions(eup myeon dong)',\n",
       "  'DT': '51692272',\n",
       "  'PRD_SE': 'A',\n",
       "  'C1': '00',\n",
       "  'C1_NM': '전국',\n",
       "  'C1_NM_ENG': 'Whole country'}]"
      ]
     },
     "execution_count": 92,
     "metadata": {},
     "output_type": "execute_result"
    }
   ],
   "source": [
    "py_json"
   ]
  },
  {
   "cell_type": "markdown",
   "metadata": {},
   "source": [
    "## 3. 샘플 API 해보기(JSON -> 표)"
   ]
  },
  {
   "cell_type": "code",
   "execution_count": 93,
   "metadata": {
    "ExecuteTime": {
     "end_time": "2024-01-25T14:34:50.355688Z",
     "start_time": "2024-01-25T14:34:50.051415Z"
    }
   },
   "outputs": [
    {
     "data": {
      "image/png": "[encoded data removed]",
      "text/plain": [
       "<Figure size 432x288 with 1 Axes>"
      ]
     },
     "metadata": {
      "needs_background": "light"
     },
     "output_type": "display_data"
    }
   ],
   "source": [
    "import json\n",
    "from urllib.request import urlopen # python 3.x 버전에서 사용 (2.x 버전이라면 from urllib import urlopen)\n",
    "import matplotlib.pyplot as plt\n",
    "\n",
    "\n",
    "# 한글 폰트 사용을 위해서 세팅\n",
    "from matplotlib import font_manager, rc\n",
    "font_path = \"C:/Windows/Fonts/malgun.ttf\"\n",
    "font = font_manager.FontProperties(fname=font_path).get_name()\n",
    "rc('font', family=font)\n",
    "\n",
    "\n",
    "#url을 통해 json 데이터 가져오기\n",
    "with urlopen(\"https://kosis.kr/openapi/statisticsData.do?method=getList&apiKey=\n",
    "             &format=json&jsonVD=Y&userStatsId=openapisample/101/DT_1IN1502/2/1/20191106094026_1&prdSe=Y&newEstPrdCnt=3\") as url:\n",
    "    json_file = url.read()\n",
    "    \n",
    "py_json = json.loads(json_file.decode('utf-8'))\n",
    "\n",
    "\n",
    "#변수 지정 및 데이터 저장\n",
    "data = []\n",
    "for i, v in enumerate(py_json):\n",
    "    value = []\n",
    "    value.append(v['PRD_DE'])\n",
    "    value.append(v['DT'])\n",
    "    \n",
    "    data.append(value)\n",
    "    \n",
    "    \n",
    "#Table 만들기\n",
    "fig, ax = plt.subplots(1,1)\n",
    "column_labels=[\"시점\", \"총인구(전국)\"]\n",
    "ax.axis('tight')\n",
    "ax.axis('off')\n",
    "ax.table(cellText=data,colLabels=column_labels,colColours =[\"yellow\"] * 2, loc=\"center\", cellLoc='center')\n",
    "plt.show()"
   ]
  },
  {
   "cell_type": "markdown",
   "metadata": {},
   "source": [
    "## 4. 통계자료 URL 생성하기"
   ]
  },
  {
   "cell_type": "markdown",
   "metadata": {},
   "source": [
    "[URL 생성 페이지](https://kosis.kr/openapi/devGuide/devGuide_0203List.jsp)"
   ]
  },
  {
   "cell_type": "markdown",
   "metadata": {
    "ExecuteTime": {
     "end_time": "2023-07-09T06:44:03.452101Z",
     "start_time": "2023-07-09T06:44:03.436067Z"
    }
   },
   "source": [
    "<img src=\"./data/URL.PNG\" alt=\"Drawing\" style=\"width: 1000px;\"/>"
   ]
  },
  {
   "cell_type": "markdown",
   "metadata": {},
   "source": [
    "## 5. 원하는 통계코드에 따라 URL 생성하기"
   ]
  },
  {
   "cell_type": "code",
   "execution_count": 20,
   "metadata": {
    "ExecuteTime": {
     "end_time": "2024-01-25T14:32:03.011251Z",
     "start_time": "2024-01-25T14:32:03.004046Z"
    }
   },
   "outputs": [],
   "source": [
    "# url=\".....\"\n",
    "# apikey=''\n",
    "# payload = \"...\""
   ]
  },
  {
   "cell_type": "code",
   "execution_count": 21,
   "metadata": {
    "ExecuteTime": {
     "end_time": "2024-01-25T14:32:08.492678Z",
     "start_time": "2024-01-25T14:32:03.011306Z"
    }
   },
   "outputs": [
    {
     "data": {
      "text/html": [
       "<div>\n",
       "<style scoped>\n",
       "    .dataframe tbody tr th:only-of-type {\n",
       "        vertical-align: middle;\n",
       "    }\n",
       "\n",
       "    .dataframe tbody tr th {\n",
       "        vertical-align: top;\n",
       "    }\n",
       "\n",
       "    .dataframe thead th {\n",
       "        text-align: right;\n",
       "    }\n",
       "</style>\n",
       "<table border=\"1\" class=\"dataframe\">\n",
       "  <thead>\n",
       "    <tr style=\"text-align: right;\">\n",
       "      <th></th>\n",
       "      <th>TBL_NM</th>\n",
       "      <th>ITM_NM_ENG</th>\n",
       "      <th>ITM_ID</th>\n",
       "      <th>ORG_ID</th>\n",
       "      <th>UNIT_NM_ENG</th>\n",
       "      <th>C1_OBJ_NM</th>\n",
       "      <th>C2_OBJ_NM</th>\n",
       "      <th>C3_OBJ_NM</th>\n",
       "      <th>C4</th>\n",
       "      <th>C4_OBJ_NM</th>\n",
       "      <th>...</th>\n",
       "      <th>C3_OBJ_NM_ENG</th>\n",
       "      <th>DT</th>\n",
       "      <th>C3</th>\n",
       "      <th>C4_OBJ_NM_ENG</th>\n",
       "      <th>PRD_SE</th>\n",
       "      <th>C1</th>\n",
       "      <th>C1_NM</th>\n",
       "      <th>C2_NM</th>\n",
       "      <th>C3_NM</th>\n",
       "      <th>C4_NM</th>\n",
       "    </tr>\n",
       "  </thead>\n",
       "  <tbody>\n",
       "    <tr>\n",
       "      <th>0</th>\n",
       "      <td>주택유형별 주택건설 인허가실적(월별 누계)</td>\n",
       "      <td>Construction permits</td>\n",
       "      <td>13103871090T1</td>\n",
       "      <td>116</td>\n",
       "      <td>Apartment Unit</td>\n",
       "      <td>시도명</td>\n",
       "      <td>대분류</td>\n",
       "      <td>중분류</td>\n",
       "      <td>13102871090D.0001</td>\n",
       "      <td>소분류</td>\n",
       "      <td>...</td>\n",
       "      <td>Middle Classification</td>\n",
       "      <td>12038</td>\n",
       "      <td>13102871090C.0001</td>\n",
       "      <td>Small Classification</td>\n",
       "      <td>M</td>\n",
       "      <td>13102871090A.0001</td>\n",
       "      <td>전국</td>\n",
       "      <td>합계(동수기준)</td>\n",
       "      <td>합계(동수기준)</td>\n",
       "      <td>합계(동수기준)</td>\n",
       "    </tr>\n",
       "    <tr>\n",
       "      <th>1</th>\n",
       "      <td>주택유형별 주택건설 인허가실적(월별 누계)</td>\n",
       "      <td>Construction permits</td>\n",
       "      <td>13103871090T1</td>\n",
       "      <td>116</td>\n",
       "      <td>Apartment Unit</td>\n",
       "      <td>시도명</td>\n",
       "      <td>대분류</td>\n",
       "      <td>중분류</td>\n",
       "      <td>13102871090D.0001</td>\n",
       "      <td>소분류</td>\n",
       "      <td>...</td>\n",
       "      <td>Middle Classification</td>\n",
       "      <td>29789</td>\n",
       "      <td>13102871090C.0001</td>\n",
       "      <td>Small Classification</td>\n",
       "      <td>M</td>\n",
       "      <td>13102871090A.0001</td>\n",
       "      <td>전국</td>\n",
       "      <td>합계(동수기준)</td>\n",
       "      <td>합계(동수기준)</td>\n",
       "      <td>합계(동수기준)</td>\n",
       "    </tr>\n",
       "    <tr>\n",
       "      <th>2</th>\n",
       "      <td>주택유형별 주택건설 인허가실적(월별 누계)</td>\n",
       "      <td>Construction permits</td>\n",
       "      <td>13103871090T1</td>\n",
       "      <td>116</td>\n",
       "      <td>Apartment Unit</td>\n",
       "      <td>시도명</td>\n",
       "      <td>대분류</td>\n",
       "      <td>중분류</td>\n",
       "      <td>13102871090D.0001</td>\n",
       "      <td>소분류</td>\n",
       "      <td>...</td>\n",
       "      <td>Middle Classification</td>\n",
       "      <td>49827</td>\n",
       "      <td>13102871090C.0001</td>\n",
       "      <td>Small Classification</td>\n",
       "      <td>M</td>\n",
       "      <td>13102871090A.0001</td>\n",
       "      <td>전국</td>\n",
       "      <td>합계(동수기준)</td>\n",
       "      <td>합계(동수기준)</td>\n",
       "      <td>합계(동수기준)</td>\n",
       "    </tr>\n",
       "    <tr>\n",
       "      <th>3</th>\n",
       "      <td>주택유형별 주택건설 인허가실적(월별 누계)</td>\n",
       "      <td>Construction permits</td>\n",
       "      <td>13103871090T1</td>\n",
       "      <td>116</td>\n",
       "      <td>Apartment Unit</td>\n",
       "      <td>시도명</td>\n",
       "      <td>대분류</td>\n",
       "      <td>중분류</td>\n",
       "      <td>13102871090D.0001</td>\n",
       "      <td>소분류</td>\n",
       "      <td>...</td>\n",
       "      <td>Middle Classification</td>\n",
       "      <td>69013</td>\n",
       "      <td>13102871090C.0001</td>\n",
       "      <td>Small Classification</td>\n",
       "      <td>M</td>\n",
       "      <td>13102871090A.0001</td>\n",
       "      <td>전국</td>\n",
       "      <td>합계(동수기준)</td>\n",
       "      <td>합계(동수기준)</td>\n",
       "      <td>합계(동수기준)</td>\n",
       "    </tr>\n",
       "    <tr>\n",
       "      <th>4</th>\n",
       "      <td>주택유형별 주택건설 인허가실적(월별 누계)</td>\n",
       "      <td>Construction permits</td>\n",
       "      <td>13103871090T1</td>\n",
       "      <td>116</td>\n",
       "      <td>Apartment Unit</td>\n",
       "      <td>시도명</td>\n",
       "      <td>대분류</td>\n",
       "      <td>중분류</td>\n",
       "      <td>13102871090D.0001</td>\n",
       "      <td>소분류</td>\n",
       "      <td>...</td>\n",
       "      <td>Middle Classification</td>\n",
       "      <td>99606</td>\n",
       "      <td>13102871090C.0001</td>\n",
       "      <td>Small Classification</td>\n",
       "      <td>M</td>\n",
       "      <td>13102871090A.0001</td>\n",
       "      <td>전국</td>\n",
       "      <td>합계(동수기준)</td>\n",
       "      <td>합계(동수기준)</td>\n",
       "      <td>합계(동수기준)</td>\n",
       "    </tr>\n",
       "    <tr>\n",
       "      <th>...</th>\n",
       "      <td>...</td>\n",
       "      <td>...</td>\n",
       "      <td>...</td>\n",
       "      <td>...</td>\n",
       "      <td>...</td>\n",
       "      <td>...</td>\n",
       "      <td>...</td>\n",
       "      <td>...</td>\n",
       "      <td>...</td>\n",
       "      <td>...</td>\n",
       "      <td>...</td>\n",
       "      <td>...</td>\n",
       "      <td>...</td>\n",
       "      <td>...</td>\n",
       "      <td>...</td>\n",
       "      <td>...</td>\n",
       "      <td>...</td>\n",
       "      <td>...</td>\n",
       "      <td>...</td>\n",
       "      <td>...</td>\n",
       "      <td>...</td>\n",
       "    </tr>\n",
       "    <tr>\n",
       "      <th>4263</th>\n",
       "      <td>주택유형별 주택건설 인허가실적(월별 누계)</td>\n",
       "      <td>Construction permits</td>\n",
       "      <td>13103871090T1</td>\n",
       "      <td>116</td>\n",
       "      <td>Apartment Unit</td>\n",
       "      <td>시도명</td>\n",
       "      <td>대분류</td>\n",
       "      <td>중분류</td>\n",
       "      <td>13102871090D.0001</td>\n",
       "      <td>소분류</td>\n",
       "      <td>...</td>\n",
       "      <td>Middle Classification</td>\n",
       "      <td>20</td>\n",
       "      <td>13102871090C.0001</td>\n",
       "      <td>Small Classification</td>\n",
       "      <td>M</td>\n",
       "      <td>13102871090A.0022</td>\n",
       "      <td>세종</td>\n",
       "      <td>합계(동수기준)</td>\n",
       "      <td>합계(동수기준)</td>\n",
       "      <td>합계(동수기준)</td>\n",
       "    </tr>\n",
       "    <tr>\n",
       "      <th>4264</th>\n",
       "      <td>주택유형별 주택건설 인허가실적(월별 누계)</td>\n",
       "      <td>Construction permits</td>\n",
       "      <td>13103871090T1</td>\n",
       "      <td>116</td>\n",
       "      <td>Apartment Unit</td>\n",
       "      <td>시도명</td>\n",
       "      <td>대분류</td>\n",
       "      <td>중분류</td>\n",
       "      <td>13102871090D.0001</td>\n",
       "      <td>소분류</td>\n",
       "      <td>...</td>\n",
       "      <td>Middle Classification</td>\n",
       "      <td>47</td>\n",
       "      <td>13102871090C.0001</td>\n",
       "      <td>Small Classification</td>\n",
       "      <td>M</td>\n",
       "      <td>13102871090A.0022</td>\n",
       "      <td>세종</td>\n",
       "      <td>합계(동수기준)</td>\n",
       "      <td>합계(동수기준)</td>\n",
       "      <td>합계(동수기준)</td>\n",
       "    </tr>\n",
       "    <tr>\n",
       "      <th>4265</th>\n",
       "      <td>주택유형별 주택건설 인허가실적(월별 누계)</td>\n",
       "      <td>Construction permits</td>\n",
       "      <td>13103871090T1</td>\n",
       "      <td>116</td>\n",
       "      <td>Apartment Unit</td>\n",
       "      <td>시도명</td>\n",
       "      <td>대분류</td>\n",
       "      <td>중분류</td>\n",
       "      <td>13102871090D.0001</td>\n",
       "      <td>소분류</td>\n",
       "      <td>...</td>\n",
       "      <td>Middle Classification</td>\n",
       "      <td>64</td>\n",
       "      <td>13102871090C.0001</td>\n",
       "      <td>Small Classification</td>\n",
       "      <td>M</td>\n",
       "      <td>13102871090A.0022</td>\n",
       "      <td>세종</td>\n",
       "      <td>합계(동수기준)</td>\n",
       "      <td>합계(동수기준)</td>\n",
       "      <td>합계(동수기준)</td>\n",
       "    </tr>\n",
       "    <tr>\n",
       "      <th>4266</th>\n",
       "      <td>주택유형별 주택건설 인허가실적(월별 누계)</td>\n",
       "      <td>Construction permits</td>\n",
       "      <td>13103871090T1</td>\n",
       "      <td>116</td>\n",
       "      <td>Apartment Unit</td>\n",
       "      <td>시도명</td>\n",
       "      <td>대분류</td>\n",
       "      <td>중분류</td>\n",
       "      <td>13102871090D.0001</td>\n",
       "      <td>소분류</td>\n",
       "      <td>...</td>\n",
       "      <td>Middle Classification</td>\n",
       "      <td>74</td>\n",
       "      <td>13102871090C.0001</td>\n",
       "      <td>Small Classification</td>\n",
       "      <td>M</td>\n",
       "      <td>13102871090A.0022</td>\n",
       "      <td>세종</td>\n",
       "      <td>합계(동수기준)</td>\n",
       "      <td>합계(동수기준)</td>\n",
       "      <td>합계(동수기준)</td>\n",
       "    </tr>\n",
       "    <tr>\n",
       "      <th>4267</th>\n",
       "      <td>주택유형별 주택건설 인허가실적(월별 누계)</td>\n",
       "      <td>Construction permits</td>\n",
       "      <td>13103871090T1</td>\n",
       "      <td>116</td>\n",
       "      <td>Apartment Unit</td>\n",
       "      <td>시도명</td>\n",
       "      <td>대분류</td>\n",
       "      <td>중분류</td>\n",
       "      <td>13102871090D.0001</td>\n",
       "      <td>소분류</td>\n",
       "      <td>...</td>\n",
       "      <td>Middle Classification</td>\n",
       "      <td>234</td>\n",
       "      <td>13102871090C.0001</td>\n",
       "      <td>Small Classification</td>\n",
       "      <td>M</td>\n",
       "      <td>13102871090A.0022</td>\n",
       "      <td>세종</td>\n",
       "      <td>합계(동수기준)</td>\n",
       "      <td>합계(동수기준)</td>\n",
       "      <td>합계(동수기준)</td>\n",
       "    </tr>\n",
       "  </tbody>\n",
       "</table>\n",
       "<p>4268 rows × 31 columns</p>\n",
       "</div>"
      ],
      "text/plain": [
       "                       TBL_NM            ITM_NM_ENG         ITM_ID ORG_ID  \\\n",
       "0     주택유형별 주택건설 인허가실적(월별 누계)  Construction permits  13103871090T1    116   \n",
       "1     주택유형별 주택건설 인허가실적(월별 누계)  Construction permits  13103871090T1    116   \n",
       "2     주택유형별 주택건설 인허가실적(월별 누계)  Construction permits  13103871090T1    116   \n",
       "3     주택유형별 주택건설 인허가실적(월별 누계)  Construction permits  13103871090T1    116   \n",
       "4     주택유형별 주택건설 인허가실적(월별 누계)  Construction permits  13103871090T1    116   \n",
       "...                       ...                   ...            ...    ...   \n",
       "4263  주택유형별 주택건설 인허가실적(월별 누계)  Construction permits  13103871090T1    116   \n",
       "4264  주택유형별 주택건설 인허가실적(월별 누계)  Construction permits  13103871090T1    116   \n",
       "4265  주택유형별 주택건설 인허가실적(월별 누계)  Construction permits  13103871090T1    116   \n",
       "4266  주택유형별 주택건설 인허가실적(월별 누계)  Construction permits  13103871090T1    116   \n",
       "4267  주택유형별 주택건설 인허가실적(월별 누계)  Construction permits  13103871090T1    116   \n",
       "\n",
       "         UNIT_NM_ENG C1_OBJ_NM C2_OBJ_NM C3_OBJ_NM                 C4  \\\n",
       "0     Apartment Unit       시도명       대분류       중분류  13102871090D.0001   \n",
       "1     Apartment Unit       시도명       대분류       중분류  13102871090D.0001   \n",
       "2     Apartment Unit       시도명       대분류       중분류  13102871090D.0001   \n",
       "3     Apartment Unit       시도명       대분류       중분류  13102871090D.0001   \n",
       "4     Apartment Unit       시도명       대분류       중분류  13102871090D.0001   \n",
       "...              ...       ...       ...       ...                ...   \n",
       "4263  Apartment Unit       시도명       대분류       중분류  13102871090D.0001   \n",
       "4264  Apartment Unit       시도명       대분류       중분류  13102871090D.0001   \n",
       "4265  Apartment Unit       시도명       대분류       중분류  13102871090D.0001   \n",
       "4266  Apartment Unit       시도명       대분류       중분류  13102871090D.0001   \n",
       "4267  Apartment Unit       시도명       대분류       중분류  13102871090D.0001   \n",
       "\n",
       "     C4_OBJ_NM  ...          C3_OBJ_NM_ENG     DT                 C3  \\\n",
       "0          소분류  ...  Middle Classification  12038  13102871090C.0001   \n",
       "1          소분류  ...  Middle Classification  29789  13102871090C.0001   \n",
       "2          소분류  ...  Middle Classification  49827  13102871090C.0001   \n",
       "3          소분류  ...  Middle Classification  69013  13102871090C.0001   \n",
       "4          소분류  ...  Middle Classification  99606  13102871090C.0001   \n",
       "...        ...  ...                    ...    ...                ...   \n",
       "4263       소분류  ...  Middle Classification     20  13102871090C.0001   \n",
       "4264       소분류  ...  Middle Classification     47  13102871090C.0001   \n",
       "4265       소분류  ...  Middle Classification     64  13102871090C.0001   \n",
       "4266       소분류  ...  Middle Classification     74  13102871090C.0001   \n",
       "4267       소분류  ...  Middle Classification    234  13102871090C.0001   \n",
       "\n",
       "             C4_OBJ_NM_ENG PRD_SE                 C1 C1_NM     C2_NM  \\\n",
       "0     Small Classification      M  13102871090A.0001    전국  합계(동수기준)   \n",
       "1     Small Classification      M  13102871090A.0001    전국  합계(동수기준)   \n",
       "2     Small Classification      M  13102871090A.0001    전국  합계(동수기준)   \n",
       "3     Small Classification      M  13102871090A.0001    전국  합계(동수기준)   \n",
       "4     Small Classification      M  13102871090A.0001    전국  합계(동수기준)   \n",
       "...                    ...    ...                ...   ...       ...   \n",
       "4263  Small Classification      M  13102871090A.0022    세종  합계(동수기준)   \n",
       "4264  Small Classification      M  13102871090A.0022    세종  합계(동수기준)   \n",
       "4265  Small Classification      M  13102871090A.0022    세종  합계(동수기준)   \n",
       "4266  Small Classification      M  13102871090A.0022    세종  합계(동수기준)   \n",
       "4267  Small Classification      M  13102871090A.0022    세종  합계(동수기준)   \n",
       "\n",
       "         C3_NM     C4_NM  \n",
       "0     합계(동수기준)  합계(동수기준)  \n",
       "1     합계(동수기준)  합계(동수기준)  \n",
       "2     합계(동수기준)  합계(동수기준)  \n",
       "3     합계(동수기준)  합계(동수기준)  \n",
       "4     합계(동수기준)  합계(동수기준)  \n",
       "...        ...       ...  \n",
       "4263  합계(동수기준)  합계(동수기준)  \n",
       "4264  합계(동수기준)  합계(동수기준)  \n",
       "4265  합계(동수기준)  합계(동수기준)  \n",
       "4266  합계(동수기준)  합계(동수기준)  \n",
       "4267  합계(동수기준)  합계(동수기준)  \n",
       "\n",
       "[4268 rows x 31 columns]"
      ]
     },
     "execution_count": 21,
     "metadata": {},
     "output_type": "execute_result"
    }
   ],
   "source": [
    "# from pandas.io.json import json_normalize\n",
    "from pandas import json_normalize\n",
    "import pandas as pd\n",
    "import requests\n",
    "\n",
    "# url 생성\n",
    "json_Url = 'https://kosis.kr/openapi/Param/statisticsParameterData.do?method=getList&apiKey=\n",
    "&itmId=13103871090T1+&objL1=ALL&objL2=13102871090B.0001+&objL3=13102871090C.0001+&objL4=13102871090D.0001+&objL5=&objL6=&objL7=&objL8=&format=json&jsonVD=Y&prdSe=M&startPrdDe=200701&endPrdDe=202305&orgId=116&tblId=DT_MLTM_1948'\n",
    "\n",
    "# 데이터 요청\n",
    "contents = requests.get(json_Url)\n",
    "\n",
    "# JSON데이터 가져오기\n",
    "test_data = contents.json()\n",
    "\n",
    "# Pandas DataFrame 변환\n",
    "df = pd.json_normalize(test_data)\n",
    "\n",
    "# 출력\n",
    "df"
   ]
  },
  {
   "cell_type": "code",
   "execution_count": 22,
   "metadata": {
    "ExecuteTime": {
     "end_time": "2024-01-25T14:32:08.508939Z",
     "start_time": "2024-01-25T14:32:08.492678Z"
    }
   },
   "outputs": [],
   "source": [
    "# 하루 4만건 호출 가능. 원본 데이터 저장\n",
    "raw = df"
   ]
  },
  {
   "cell_type": "code",
   "execution_count": 23,
   "metadata": {
    "ExecuteTime": {
     "end_time": "2024-01-25T14:32:08.533065Z",
     "start_time": "2024-01-25T14:32:08.512366Z"
    }
   },
   "outputs": [
    {
     "data": {
      "text/html": [
       "<div>\n",
       "<style scoped>\n",
       "    .dataframe tbody tr th:only-of-type {\n",
       "        vertical-align: middle;\n",
       "    }\n",
       "\n",
       "    .dataframe tbody tr th {\n",
       "        vertical-align: top;\n",
       "    }\n",
       "\n",
       "    .dataframe thead th {\n",
       "        text-align: right;\n",
       "    }\n",
       "</style>\n",
       "<table border=\"1\" class=\"dataframe\">\n",
       "  <thead>\n",
       "    <tr style=\"text-align: right;\">\n",
       "      <th></th>\n",
       "      <th>PRD_DE</th>\n",
       "      <th>C1_NM</th>\n",
       "      <th>DT</th>\n",
       "    </tr>\n",
       "  </thead>\n",
       "  <tbody>\n",
       "    <tr>\n",
       "      <th>0</th>\n",
       "      <td>200701</td>\n",
       "      <td>전국</td>\n",
       "      <td>12038</td>\n",
       "    </tr>\n",
       "    <tr>\n",
       "      <th>1</th>\n",
       "      <td>200702</td>\n",
       "      <td>전국</td>\n",
       "      <td>29789</td>\n",
       "    </tr>\n",
       "    <tr>\n",
       "      <th>2</th>\n",
       "      <td>200703</td>\n",
       "      <td>전국</td>\n",
       "      <td>49827</td>\n",
       "    </tr>\n",
       "    <tr>\n",
       "      <th>3</th>\n",
       "      <td>200704</td>\n",
       "      <td>전국</td>\n",
       "      <td>69013</td>\n",
       "    </tr>\n",
       "    <tr>\n",
       "      <th>4</th>\n",
       "      <td>200705</td>\n",
       "      <td>전국</td>\n",
       "      <td>99606</td>\n",
       "    </tr>\n",
       "    <tr>\n",
       "      <th>...</th>\n",
       "      <td>...</td>\n",
       "      <td>...</td>\n",
       "      <td>...</td>\n",
       "    </tr>\n",
       "    <tr>\n",
       "      <th>4263</th>\n",
       "      <td>202301</td>\n",
       "      <td>세종</td>\n",
       "      <td>20</td>\n",
       "    </tr>\n",
       "    <tr>\n",
       "      <th>4264</th>\n",
       "      <td>202302</td>\n",
       "      <td>세종</td>\n",
       "      <td>47</td>\n",
       "    </tr>\n",
       "    <tr>\n",
       "      <th>4265</th>\n",
       "      <td>202303</td>\n",
       "      <td>세종</td>\n",
       "      <td>64</td>\n",
       "    </tr>\n",
       "    <tr>\n",
       "      <th>4266</th>\n",
       "      <td>202304</td>\n",
       "      <td>세종</td>\n",
       "      <td>74</td>\n",
       "    </tr>\n",
       "    <tr>\n",
       "      <th>4267</th>\n",
       "      <td>202305</td>\n",
       "      <td>세종</td>\n",
       "      <td>234</td>\n",
       "    </tr>\n",
       "  </tbody>\n",
       "</table>\n",
       "<p>4268 rows × 3 columns</p>\n",
       "</div>"
      ],
      "text/plain": [
       "      PRD_DE C1_NM     DT\n",
       "0     200701    전국  12038\n",
       "1     200702    전국  29789\n",
       "2     200703    전국  49827\n",
       "3     200704    전국  69013\n",
       "4     200705    전국  99606\n",
       "...      ...   ...    ...\n",
       "4263  202301    세종     20\n",
       "4264  202302    세종     47\n",
       "4265  202303    세종     64\n",
       "4266  202304    세종     74\n",
       "4267  202305    세종    234\n",
       "\n",
       "[4268 rows x 3 columns]"
      ]
     },
     "execution_count": 23,
     "metadata": {},
     "output_type": "execute_result"
    }
   ],
   "source": [
    "df = df[['PRD_DE', 'C1_NM', 'DT']]\n",
    "df"
   ]
  },
  {
   "cell_type": "code",
   "execution_count": 24,
   "metadata": {
    "ExecuteTime": {
     "end_time": "2024-01-25T14:32:08.588840Z",
     "start_time": "2024-01-25T14:32:08.533065Z"
    }
   },
   "outputs": [],
   "source": [
    "# df.melt(id_vars='', )"
   ]
  },
  {
   "cell_type": "code",
   "execution_count": 25,
   "metadata": {
    "ExecuteTime": {
     "end_time": "2024-01-25T14:32:08.621195Z",
     "start_time": "2024-01-25T14:32:08.588840Z"
    }
   },
   "outputs": [
    {
     "data": {
      "text/html": [
       "<div>\n",
       "<style scoped>\n",
       "    .dataframe tbody tr th:only-of-type {\n",
       "        vertical-align: middle;\n",
       "    }\n",
       "\n",
       "    .dataframe tbody tr th {\n",
       "        vertical-align: top;\n",
       "    }\n",
       "\n",
       "    .dataframe thead th {\n",
       "        text-align: right;\n",
       "    }\n",
       "</style>\n",
       "<table border=\"1\" class=\"dataframe\">\n",
       "  <thead>\n",
       "    <tr style=\"text-align: right;\">\n",
       "      <th>C1_NM</th>\n",
       "      <th>강원</th>\n",
       "      <th>경기</th>\n",
       "      <th>경남</th>\n",
       "      <th>경북</th>\n",
       "      <th>광주</th>\n",
       "      <th>기타광역시</th>\n",
       "      <th>기타지방</th>\n",
       "      <th>대구</th>\n",
       "      <th>대전</th>\n",
       "      <th>부산</th>\n",
       "      <th>...</th>\n",
       "      <th>수도권</th>\n",
       "      <th>울산</th>\n",
       "      <th>인천</th>\n",
       "      <th>전국</th>\n",
       "      <th>전남</th>\n",
       "      <th>전북</th>\n",
       "      <th>제주</th>\n",
       "      <th>지방소계</th>\n",
       "      <th>충남</th>\n",
       "      <th>충북</th>\n",
       "    </tr>\n",
       "    <tr>\n",
       "      <th>PRD_DE</th>\n",
       "      <th></th>\n",
       "      <th></th>\n",
       "      <th></th>\n",
       "      <th></th>\n",
       "      <th></th>\n",
       "      <th></th>\n",
       "      <th></th>\n",
       "      <th></th>\n",
       "      <th></th>\n",
       "      <th></th>\n",
       "      <th></th>\n",
       "      <th></th>\n",
       "      <th></th>\n",
       "      <th></th>\n",
       "      <th></th>\n",
       "      <th></th>\n",
       "      <th></th>\n",
       "      <th></th>\n",
       "      <th></th>\n",
       "      <th></th>\n",
       "      <th></th>\n",
       "    </tr>\n",
       "  </thead>\n",
       "  <tbody>\n",
       "    <tr>\n",
       "      <th>200701</th>\n",
       "      <td>452</td>\n",
       "      <td>2647</td>\n",
       "      <td>1691</td>\n",
       "      <td>698</td>\n",
       "      <td>1022</td>\n",
       "      <td>2533</td>\n",
       "      <td>5259</td>\n",
       "      <td>818</td>\n",
       "      <td>55</td>\n",
       "      <td>455</td>\n",
       "      <td>...</td>\n",
       "      <td>4246</td>\n",
       "      <td>183</td>\n",
       "      <td>69</td>\n",
       "      <td>12038</td>\n",
       "      <td>206</td>\n",
       "      <td>888</td>\n",
       "      <td>132</td>\n",
       "      <td>7792</td>\n",
       "      <td>1004</td>\n",
       "      <td>188</td>\n",
       "    </tr>\n",
       "    <tr>\n",
       "      <th>200702</th>\n",
       "      <td>642</td>\n",
       "      <td>5517</td>\n",
       "      <td>4206</td>\n",
       "      <td>2942</td>\n",
       "      <td>2200</td>\n",
       "      <td>8748</td>\n",
       "      <td>13015</td>\n",
       "      <td>3549</td>\n",
       "      <td>89</td>\n",
       "      <td>1554</td>\n",
       "      <td>...</td>\n",
       "      <td>8026</td>\n",
       "      <td>1356</td>\n",
       "      <td>185</td>\n",
       "      <td>29789</td>\n",
       "      <td>700</td>\n",
       "      <td>1490</td>\n",
       "      <td>232</td>\n",
       "      <td>21763</td>\n",
       "      <td>2310</td>\n",
       "      <td>493</td>\n",
       "    </tr>\n",
       "    <tr>\n",
       "      <th>200703</th>\n",
       "      <td>1031</td>\n",
       "      <td>8705</td>\n",
       "      <td>6527</td>\n",
       "      <td>5256</td>\n",
       "      <td>3547</td>\n",
       "      <td>14013</td>\n",
       "      <td>21782</td>\n",
       "      <td>4596</td>\n",
       "      <td>154</td>\n",
       "      <td>3675</td>\n",
       "      <td>...</td>\n",
       "      <td>14032</td>\n",
       "      <td>2041</td>\n",
       "      <td>1115</td>\n",
       "      <td>49827</td>\n",
       "      <td>1091</td>\n",
       "      <td>2153</td>\n",
       "      <td>337</td>\n",
       "      <td>35795</td>\n",
       "      <td>4200</td>\n",
       "      <td>1187</td>\n",
       "    </tr>\n",
       "    <tr>\n",
       "      <th>200704</th>\n",
       "      <td>2185</td>\n",
       "      <td>12692</td>\n",
       "      <td>7576</td>\n",
       "      <td>6480</td>\n",
       "      <td>3773</td>\n",
       "      <td>17479</td>\n",
       "      <td>28215</td>\n",
       "      <td>5110</td>\n",
       "      <td>235</td>\n",
       "      <td>4039</td>\n",
       "      <td>...</td>\n",
       "      <td>23319</td>\n",
       "      <td>4322</td>\n",
       "      <td>4452</td>\n",
       "      <td>69013</td>\n",
       "      <td>2310</td>\n",
       "      <td>2627</td>\n",
       "      <td>485</td>\n",
       "      <td>45694</td>\n",
       "      <td>4901</td>\n",
       "      <td>1651</td>\n",
       "    </tr>\n",
       "    <tr>\n",
       "      <th>200705</th>\n",
       "      <td>2698</td>\n",
       "      <td>25860</td>\n",
       "      <td>12754</td>\n",
       "      <td>7330</td>\n",
       "      <td>5844</td>\n",
       "      <td>21777</td>\n",
       "      <td>39265</td>\n",
       "      <td>5685</td>\n",
       "      <td>746</td>\n",
       "      <td>4936</td>\n",
       "      <td>...</td>\n",
       "      <td>38564</td>\n",
       "      <td>4566</td>\n",
       "      <td>4663</td>\n",
       "      <td>99606</td>\n",
       "      <td>2663</td>\n",
       "      <td>2938</td>\n",
       "      <td>563</td>\n",
       "      <td>61042</td>\n",
       "      <td>7988</td>\n",
       "      <td>2331</td>\n",
       "    </tr>\n",
       "    <tr>\n",
       "      <th>...</th>\n",
       "      <td>...</td>\n",
       "      <td>...</td>\n",
       "      <td>...</td>\n",
       "      <td>...</td>\n",
       "      <td>...</td>\n",
       "      <td>...</td>\n",
       "      <td>...</td>\n",
       "      <td>...</td>\n",
       "      <td>...</td>\n",
       "      <td>...</td>\n",
       "      <td>...</td>\n",
       "      <td>...</td>\n",
       "      <td>...</td>\n",
       "      <td>...</td>\n",
       "      <td>...</td>\n",
       "      <td>...</td>\n",
       "      <td>...</td>\n",
       "      <td>...</td>\n",
       "      <td>...</td>\n",
       "      <td>...</td>\n",
       "      <td>...</td>\n",
       "    </tr>\n",
       "    <tr>\n",
       "      <th>202301</th>\n",
       "      <td>2041</td>\n",
       "      <td>2992</td>\n",
       "      <td>153</td>\n",
       "      <td>1178</td>\n",
       "      <td>829</td>\n",
       "      <td>5797</td>\n",
       "      <td>10369</td>\n",
       "      <td>1793</td>\n",
       "      <td>714</td>\n",
       "      <td>1499</td>\n",
       "      <td>...</td>\n",
       "      <td>5259</td>\n",
       "      <td>962</td>\n",
       "      <td>441</td>\n",
       "      <td>21425</td>\n",
       "      <td>153</td>\n",
       "      <td>2962</td>\n",
       "      <td>226</td>\n",
       "      <td>16166</td>\n",
       "      <td>3529</td>\n",
       "      <td>107</td>\n",
       "    </tr>\n",
       "    <tr>\n",
       "      <th>202302</th>\n",
       "      <td>2336</td>\n",
       "      <td>10289</td>\n",
       "      <td>1090</td>\n",
       "      <td>5128</td>\n",
       "      <td>906</td>\n",
       "      <td>13409</td>\n",
       "      <td>21469</td>\n",
       "      <td>1818</td>\n",
       "      <td>2769</td>\n",
       "      <td>5751</td>\n",
       "      <td>...</td>\n",
       "      <td>19497</td>\n",
       "      <td>2165</td>\n",
       "      <td>625</td>\n",
       "      <td>54375</td>\n",
       "      <td>1473</td>\n",
       "      <td>4243</td>\n",
       "      <td>715</td>\n",
       "      <td>34878</td>\n",
       "      <td>5662</td>\n",
       "      <td>775</td>\n",
       "    </tr>\n",
       "    <tr>\n",
       "      <th>202303</th>\n",
       "      <td>4610</td>\n",
       "      <td>16509</td>\n",
       "      <td>2347</td>\n",
       "      <td>6896</td>\n",
       "      <td>1832</td>\n",
       "      <td>20989</td>\n",
       "      <td>35202</td>\n",
       "      <td>1924</td>\n",
       "      <td>6335</td>\n",
       "      <td>7097</td>\n",
       "      <td>...</td>\n",
       "      <td>30253</td>\n",
       "      <td>3801</td>\n",
       "      <td>846</td>\n",
       "      <td>86444</td>\n",
       "      <td>1702</td>\n",
       "      <td>5326</td>\n",
       "      <td>1252</td>\n",
       "      <td>56191</td>\n",
       "      <td>10461</td>\n",
       "      <td>2544</td>\n",
       "    </tr>\n",
       "    <tr>\n",
       "      <th>202304</th>\n",
       "      <td>5379</td>\n",
       "      <td>26047</td>\n",
       "      <td>5040</td>\n",
       "      <td>8872</td>\n",
       "      <td>1851</td>\n",
       "      <td>30361</td>\n",
       "      <td>48444</td>\n",
       "      <td>6070</td>\n",
       "      <td>8527</td>\n",
       "      <td>8607</td>\n",
       "      <td>...</td>\n",
       "      <td>44566</td>\n",
       "      <td>5306</td>\n",
       "      <td>2974</td>\n",
       "      <td>123371</td>\n",
       "      <td>4715</td>\n",
       "      <td>6259</td>\n",
       "      <td>2009</td>\n",
       "      <td>78805</td>\n",
       "      <td>12417</td>\n",
       "      <td>3679</td>\n",
       "    </tr>\n",
       "    <tr>\n",
       "      <th>202305</th>\n",
       "      <td>6591</td>\n",
       "      <td>38025</td>\n",
       "      <td>7625</td>\n",
       "      <td>11402</td>\n",
       "      <td>3712</td>\n",
       "      <td>35665</td>\n",
       "      <td>61288</td>\n",
       "      <td>6413</td>\n",
       "      <td>8563</td>\n",
       "      <td>10587</td>\n",
       "      <td>...</td>\n",
       "      <td>60581</td>\n",
       "      <td>6390</td>\n",
       "      <td>6195</td>\n",
       "      <td>157534</td>\n",
       "      <td>7543</td>\n",
       "      <td>6483</td>\n",
       "      <td>2465</td>\n",
       "      <td>96953</td>\n",
       "      <td>14077</td>\n",
       "      <td>4868</td>\n",
       "    </tr>\n",
       "  </tbody>\n",
       "</table>\n",
       "<p>197 rows × 22 columns</p>\n",
       "</div>"
      ],
      "text/plain": [
       "C1_NM     강원     경기     경남     경북    광주  기타광역시   기타지방    대구    대전     부산  ...  \\\n",
       "PRD_DE                                                                    ...   \n",
       "200701   452   2647   1691    698  1022   2533   5259   818    55    455  ...   \n",
       "200702   642   5517   4206   2942  2200   8748  13015  3549    89   1554  ...   \n",
       "200703  1031   8705   6527   5256  3547  14013  21782  4596   154   3675  ...   \n",
       "200704  2185  12692   7576   6480  3773  17479  28215  5110   235   4039  ...   \n",
       "200705  2698  25860  12754   7330  5844  21777  39265  5685   746   4936  ...   \n",
       "...      ...    ...    ...    ...   ...    ...    ...   ...   ...    ...  ...   \n",
       "202301  2041   2992    153   1178   829   5797  10369  1793   714   1499  ...   \n",
       "202302  2336  10289   1090   5128   906  13409  21469  1818  2769   5751  ...   \n",
       "202303  4610  16509   2347   6896  1832  20989  35202  1924  6335   7097  ...   \n",
       "202304  5379  26047   5040   8872  1851  30361  48444  6070  8527   8607  ...   \n",
       "202305  6591  38025   7625  11402  3712  35665  61288  6413  8563  10587  ...   \n",
       "\n",
       "C1_NM     수도권    울산    인천      전국    전남    전북    제주   지방소계     충남    충북  \n",
       "PRD_DE                                                                   \n",
       "200701   4246   183    69   12038   206   888   132   7792   1004   188  \n",
       "200702   8026  1356   185   29789   700  1490   232  21763   2310   493  \n",
       "200703  14032  2041  1115   49827  1091  2153   337  35795   4200  1187  \n",
       "200704  23319  4322  4452   69013  2310  2627   485  45694   4901  1651  \n",
       "200705  38564  4566  4663   99606  2663  2938   563  61042   7988  2331  \n",
       "...       ...   ...   ...     ...   ...   ...   ...    ...    ...   ...  \n",
       "202301   5259   962   441   21425   153  2962   226  16166   3529   107  \n",
       "202302  19497  2165   625   54375  1473  4243   715  34878   5662   775  \n",
       "202303  30253  3801   846   86444  1702  5326  1252  56191  10461  2544  \n",
       "202304  44566  5306  2974  123371  4715  6259  2009  78805  12417  3679  \n",
       "202305  60581  6390  6195  157534  7543  6483  2465  96953  14077  4868  \n",
       "\n",
       "[197 rows x 22 columns]"
      ]
     },
     "execution_count": 25,
     "metadata": {},
     "output_type": "execute_result"
    }
   ],
   "source": [
    "# df = df.pivot(\"PRD_DE\", \"C1_NM\", \"DT\")\n",
    "df = df.pivot(index=\"PRD_DE\", columns= \"C1_NM\", values=\"DT\")\n",
    "\n",
    "df"
   ]
  },
  {
   "cell_type": "code",
   "execution_count": 26,
   "metadata": {
    "ExecuteTime": {
     "end_time": "2024-01-25T14:32:08.629355Z",
     "start_time": "2024-01-25T14:32:08.621195Z"
    }
   },
   "outputs": [],
   "source": [
    "df= df[['전국', '수도권', '지방소계']]"
   ]
  },
  {
   "cell_type": "code",
   "execution_count": 27,
   "metadata": {
    "ExecuteTime": {
     "end_time": "2024-01-25T14:32:08.645197Z",
     "start_time": "2024-01-25T14:32:08.634591Z"
    }
   },
   "outputs": [
    {
     "data": {
      "text/html": [
       "<div>\n",
       "<style scoped>\n",
       "    .dataframe tbody tr th:only-of-type {\n",
       "        vertical-align: middle;\n",
       "    }\n",
       "\n",
       "    .dataframe tbody tr th {\n",
       "        vertical-align: top;\n",
       "    }\n",
       "\n",
       "    .dataframe thead th {\n",
       "        text-align: right;\n",
       "    }\n",
       "</style>\n",
       "<table border=\"1\" class=\"dataframe\">\n",
       "  <thead>\n",
       "    <tr style=\"text-align: right;\">\n",
       "      <th>C1_NM</th>\n",
       "      <th>전국</th>\n",
       "      <th>수도권</th>\n",
       "      <th>지방소계</th>\n",
       "    </tr>\n",
       "    <tr>\n",
       "      <th>PRD_DE</th>\n",
       "      <th></th>\n",
       "      <th></th>\n",
       "      <th></th>\n",
       "    </tr>\n",
       "  </thead>\n",
       "  <tbody>\n",
       "    <tr>\n",
       "      <th>200701</th>\n",
       "      <td>12038</td>\n",
       "      <td>4246</td>\n",
       "      <td>7792</td>\n",
       "    </tr>\n",
       "    <tr>\n",
       "      <th>200702</th>\n",
       "      <td>29789</td>\n",
       "      <td>8026</td>\n",
       "      <td>21763</td>\n",
       "    </tr>\n",
       "    <tr>\n",
       "      <th>200703</th>\n",
       "      <td>49827</td>\n",
       "      <td>14032</td>\n",
       "      <td>35795</td>\n",
       "    </tr>\n",
       "    <tr>\n",
       "      <th>200704</th>\n",
       "      <td>69013</td>\n",
       "      <td>23319</td>\n",
       "      <td>45694</td>\n",
       "    </tr>\n",
       "    <tr>\n",
       "      <th>200705</th>\n",
       "      <td>99606</td>\n",
       "      <td>38564</td>\n",
       "      <td>61042</td>\n",
       "    </tr>\n",
       "    <tr>\n",
       "      <th>200706</th>\n",
       "      <td>130436</td>\n",
       "      <td>52877</td>\n",
       "      <td>77559</td>\n",
       "    </tr>\n",
       "    <tr>\n",
       "      <th>200707</th>\n",
       "      <td>176284</td>\n",
       "      <td>72386</td>\n",
       "      <td>103898</td>\n",
       "    </tr>\n",
       "    <tr>\n",
       "      <th>200708</th>\n",
       "      <td>224745</td>\n",
       "      <td>100676</td>\n",
       "      <td>124069</td>\n",
       "    </tr>\n",
       "    <tr>\n",
       "      <th>200709</th>\n",
       "      <td>280490</td>\n",
       "      <td>134291</td>\n",
       "      <td>146199</td>\n",
       "    </tr>\n",
       "    <tr>\n",
       "      <th>200710</th>\n",
       "      <td>384307</td>\n",
       "      <td>206119</td>\n",
       "      <td>178188</td>\n",
       "    </tr>\n",
       "    <tr>\n",
       "      <th>200711</th>\n",
       "      <td>459792</td>\n",
       "      <td>247703</td>\n",
       "      <td>212089</td>\n",
       "    </tr>\n",
       "    <tr>\n",
       "      <th>200712</th>\n",
       "      <td>555792</td>\n",
       "      <td>302551</td>\n",
       "      <td>253241</td>\n",
       "    </tr>\n",
       "    <tr>\n",
       "      <th>200801</th>\n",
       "      <td>20876</td>\n",
       "      <td>5777</td>\n",
       "      <td>15099</td>\n",
       "    </tr>\n",
       "  </tbody>\n",
       "</table>\n",
       "</div>"
      ],
      "text/plain": [
       "C1_NM       전국     수도권    지방소계\n",
       "PRD_DE                        \n",
       "200701   12038    4246    7792\n",
       "200702   29789    8026   21763\n",
       "200703   49827   14032   35795\n",
       "200704   69013   23319   45694\n",
       "200705   99606   38564   61042\n",
       "200706  130436   52877   77559\n",
       "200707  176284   72386  103898\n",
       "200708  224745  100676  124069\n",
       "200709  280490  134291  146199\n",
       "200710  384307  206119  178188\n",
       "200711  459792  247703  212089\n",
       "200712  555792  302551  253241\n",
       "200801   20876    5777   15099"
      ]
     },
     "execution_count": 27,
     "metadata": {},
     "output_type": "execute_result"
    }
   ],
   "source": [
    "df.head(13)"
   ]
  },
  {
   "cell_type": "code",
   "execution_count": 28,
   "metadata": {
    "ExecuteTime": {
     "end_time": "2024-01-25T14:32:08.658505Z",
     "start_time": "2024-01-25T14:32:08.645197Z"
    }
   },
   "outputs": [
    {
     "name": "stdout",
     "output_type": "stream",
     "text": [
      "<class 'pandas.core.frame.DataFrame'>\n",
      "Index: 197 entries, 200701 to 202305\n",
      "Data columns (total 3 columns):\n",
      " #   Column  Non-Null Count  Dtype \n",
      "---  ------  --------------  ----- \n",
      " 0   전국      197 non-null    object\n",
      " 1   수도권     197 non-null    object\n",
      " 2   지방소계    197 non-null    object\n",
      "dtypes: object(3)\n",
      "memory usage: 6.2+ KB\n"
     ]
    }
   ],
   "source": [
    "df.info()"
   ]
  },
  {
   "cell_type": "code",
   "execution_count": 29,
   "metadata": {
    "ExecuteTime": {
     "end_time": "2024-01-25T14:32:08.666719Z",
     "start_time": "2024-01-25T14:32:08.659856Z"
    }
   },
   "outputs": [
    {
     "data": {
      "text/plain": [
       "array([ True, False, False, False, False, False, False, False, False,\n",
       "       False, False, False,  True, False, False, False, False, False,\n",
       "       False, False, False, False, False, False,  True, False, False,\n",
       "       False, False, False, False, False, False, False, False, False,\n",
       "        True, False, False, False, False, False, False, False, False,\n",
       "       False, False, False,  True, False, False, False, False, False,\n",
       "       False, False, False, False, False, False,  True, False, False,\n",
       "       False, False, False, False, False, False, False, False, False,\n",
       "        True, False, False, False, False, False, False, False, False,\n",
       "       False, False, False,  True, False, False, False, False, False,\n",
       "       False, False, False, False, False, False,  True, False, False,\n",
       "       False, False, False, False, False, False, False, False, False,\n",
       "        True, False, False, False, False, False, False, False, False,\n",
       "       False, False, False,  True, False, False, False, False, False,\n",
       "       False, False, False, False, False, False,  True, False, False,\n",
       "       False, False, False, False, False, False, False, False, False,\n",
       "        True, False, False, False, False, False, False, False, False,\n",
       "       False, False, False,  True, False, False, False, False, False,\n",
       "       False, False, False, False, False, False,  True, False, False,\n",
       "       False, False, False, False, False, False, False, False, False,\n",
       "        True, False, False, False, False, False, False, False, False,\n",
       "       False, False, False,  True, False, False, False, False])"
      ]
     },
     "execution_count": 29,
     "metadata": {},
     "output_type": "execute_result"
    }
   ],
   "source": [
    "df.index.str[-2:] == '01'"
   ]
  },
  {
   "cell_type": "code",
   "execution_count": 30,
   "metadata": {
    "ExecuteTime": {
     "end_time": "2024-01-25T14:32:08.681195Z",
     "start_time": "2024-01-25T14:32:08.666719Z"
    }
   },
   "outputs": [
    {
     "data": {
      "text/plain": [
       "Index(['200701', '200702', '200703', '200704', '200705', '200706', '200707',\n",
       "       '200708', '200709', '200710',\n",
       "       ...\n",
       "       '202208', '202209', '202210', '202211', '202212', '202301', '202302',\n",
       "       '202303', '202304', '202305'],\n",
       "      dtype='object', name='PRD_DE', length=197)"
      ]
     },
     "execution_count": 30,
     "metadata": {},
     "output_type": "execute_result"
    }
   ],
   "source": [
    "df.index"
   ]
  },
  {
   "cell_type": "code",
   "execution_count": 31,
   "metadata": {
    "ExecuteTime": {
     "end_time": "2024-01-25T14:32:08.699651Z",
     "start_time": "2024-01-25T14:32:08.685223Z"
    }
   },
   "outputs": [],
   "source": [
    "df = df.copy()\n",
    "df['수도권'] = pd.to_numeric(df['수도권'])\n",
    "df['지방소계'] = pd.to_numeric(df['지방소계'])"
   ]
  },
  {
   "cell_type": "markdown",
   "metadata": {},
   "source": [
    "[numpy.where 다규멘트](https://numpy.org/doc/stable/reference/generated/numpy.where.html)  \n",
    "[pd.diff 다규멘트](https://pandas.pydata.org/docs/reference/api/pandas.DataFrame.diff.html)"
   ]
  },
  {
   "cell_type": "code",
   "execution_count": 32,
   "metadata": {
    "ExecuteTime": {
     "end_time": "2024-01-25T14:32:08.716314Z",
     "start_time": "2024-01-25T14:32:08.699651Z"
    }
   },
   "outputs": [],
   "source": [
    "import numpy as np\n",
    "\n",
    "df['수도권_월'] = np.where(df.index.str[-2:] == '01', df['수도권'], df['수도권'].diff()).astype(int)\n",
    "df['지방권_월'] = np.where(df.index.str[-2:] == '01', df['지방소계'], df['지방소계'].diff()).astype(int)"
   ]
  },
  {
   "cell_type": "code",
   "execution_count": 33,
   "metadata": {
    "ExecuteTime": {
     "end_time": "2024-01-25T14:32:08.726860Z",
     "start_time": "2024-01-25T14:32:08.716314Z"
    }
   },
   "outputs": [],
   "source": [
    "# df = df.copy()\n",
    "df['연'] = df.index.str[:4]\n",
    "df['월'] = df.index.str[-2:]\n",
    "\n",
    "df.index = df['연'] + \"-\" + df['월']\n",
    "df.index = pd.to_datetime(df.index)"
   ]
  },
  {
   "cell_type": "code",
   "execution_count": 34,
   "metadata": {
    "ExecuteTime": {
     "end_time": "2024-01-25T14:32:08.739772Z",
     "start_time": "2024-01-25T14:32:08.726860Z"
    },
    "scrolled": true
   },
   "outputs": [
    {
     "data": {
      "text/html": [
       "<div>\n",
       "<style scoped>\n",
       "    .dataframe tbody tr th:only-of-type {\n",
       "        vertical-align: middle;\n",
       "    }\n",
       "\n",
       "    .dataframe tbody tr th {\n",
       "        vertical-align: top;\n",
       "    }\n",
       "\n",
       "    .dataframe thead th {\n",
       "        text-align: right;\n",
       "    }\n",
       "</style>\n",
       "<table border=\"1\" class=\"dataframe\">\n",
       "  <thead>\n",
       "    <tr style=\"text-align: right;\">\n",
       "      <th>C1_NM</th>\n",
       "      <th>전국</th>\n",
       "      <th>수도권</th>\n",
       "      <th>지방소계</th>\n",
       "      <th>수도권_월</th>\n",
       "      <th>지방권_월</th>\n",
       "      <th>연</th>\n",
       "      <th>월</th>\n",
       "    </tr>\n",
       "  </thead>\n",
       "  <tbody>\n",
       "    <tr>\n",
       "      <th>2007-01-01</th>\n",
       "      <td>12038</td>\n",
       "      <td>4246</td>\n",
       "      <td>7792</td>\n",
       "      <td>4246</td>\n",
       "      <td>7792</td>\n",
       "      <td>2007</td>\n",
       "      <td>01</td>\n",
       "    </tr>\n",
       "    <tr>\n",
       "      <th>2007-02-01</th>\n",
       "      <td>29789</td>\n",
       "      <td>8026</td>\n",
       "      <td>21763</td>\n",
       "      <td>3780</td>\n",
       "      <td>13971</td>\n",
       "      <td>2007</td>\n",
       "      <td>02</td>\n",
       "    </tr>\n",
       "    <tr>\n",
       "      <th>2007-03-01</th>\n",
       "      <td>49827</td>\n",
       "      <td>14032</td>\n",
       "      <td>35795</td>\n",
       "      <td>6006</td>\n",
       "      <td>14032</td>\n",
       "      <td>2007</td>\n",
       "      <td>03</td>\n",
       "    </tr>\n",
       "    <tr>\n",
       "      <th>2007-04-01</th>\n",
       "      <td>69013</td>\n",
       "      <td>23319</td>\n",
       "      <td>45694</td>\n",
       "      <td>9287</td>\n",
       "      <td>9899</td>\n",
       "      <td>2007</td>\n",
       "      <td>04</td>\n",
       "    </tr>\n",
       "    <tr>\n",
       "      <th>2007-05-01</th>\n",
       "      <td>99606</td>\n",
       "      <td>38564</td>\n",
       "      <td>61042</td>\n",
       "      <td>15245</td>\n",
       "      <td>15348</td>\n",
       "      <td>2007</td>\n",
       "      <td>05</td>\n",
       "    </tr>\n",
       "    <tr>\n",
       "      <th>...</th>\n",
       "      <td>...</td>\n",
       "      <td>...</td>\n",
       "      <td>...</td>\n",
       "      <td>...</td>\n",
       "      <td>...</td>\n",
       "      <td>...</td>\n",
       "      <td>...</td>\n",
       "    </tr>\n",
       "    <tr>\n",
       "      <th>2023-01-01</th>\n",
       "      <td>21425</td>\n",
       "      <td>5259</td>\n",
       "      <td>16166</td>\n",
       "      <td>5259</td>\n",
       "      <td>16166</td>\n",
       "      <td>2023</td>\n",
       "      <td>01</td>\n",
       "    </tr>\n",
       "    <tr>\n",
       "      <th>2023-02-01</th>\n",
       "      <td>54375</td>\n",
       "      <td>19497</td>\n",
       "      <td>34878</td>\n",
       "      <td>14238</td>\n",
       "      <td>18712</td>\n",
       "      <td>2023</td>\n",
       "      <td>02</td>\n",
       "    </tr>\n",
       "    <tr>\n",
       "      <th>2023-03-01</th>\n",
       "      <td>86444</td>\n",
       "      <td>30253</td>\n",
       "      <td>56191</td>\n",
       "      <td>10756</td>\n",
       "      <td>21313</td>\n",
       "      <td>2023</td>\n",
       "      <td>03</td>\n",
       "    </tr>\n",
       "    <tr>\n",
       "      <th>2023-04-01</th>\n",
       "      <td>123371</td>\n",
       "      <td>44566</td>\n",
       "      <td>78805</td>\n",
       "      <td>14313</td>\n",
       "      <td>22614</td>\n",
       "      <td>2023</td>\n",
       "      <td>04</td>\n",
       "    </tr>\n",
       "    <tr>\n",
       "      <th>2023-05-01</th>\n",
       "      <td>157534</td>\n",
       "      <td>60581</td>\n",
       "      <td>96953</td>\n",
       "      <td>16015</td>\n",
       "      <td>18148</td>\n",
       "      <td>2023</td>\n",
       "      <td>05</td>\n",
       "    </tr>\n",
       "  </tbody>\n",
       "</table>\n",
       "<p>197 rows × 7 columns</p>\n",
       "</div>"
      ],
      "text/plain": [
       "C1_NM           전국    수도권   지방소계  수도권_월  지방권_월     연   월\n",
       "2007-01-01   12038   4246   7792   4246   7792  2007  01\n",
       "2007-02-01   29789   8026  21763   3780  13971  2007  02\n",
       "2007-03-01   49827  14032  35795   6006  14032  2007  03\n",
       "2007-04-01   69013  23319  45694   9287   9899  2007  04\n",
       "2007-05-01   99606  38564  61042  15245  15348  2007  05\n",
       "...            ...    ...    ...    ...    ...   ...  ..\n",
       "2023-01-01   21425   5259  16166   5259  16166  2023  01\n",
       "2023-02-01   54375  19497  34878  14238  18712  2023  02\n",
       "2023-03-01   86444  30253  56191  10756  21313  2023  03\n",
       "2023-04-01  123371  44566  78805  14313  22614  2023  04\n",
       "2023-05-01  157534  60581  96953  16015  18148  2023  05\n",
       "\n",
       "[197 rows x 7 columns]"
      ]
     },
     "execution_count": 34,
     "metadata": {},
     "output_type": "execute_result"
    }
   ],
   "source": [
    "df"
   ]
  },
  {
   "cell_type": "code",
   "execution_count": 35,
   "metadata": {
    "ExecuteTime": {
     "end_time": "2024-01-25T14:32:08.747830Z",
     "start_time": "2024-01-25T14:32:08.739772Z"
    }
   },
   "outputs": [],
   "source": [
    "df_per = df[['수도권_월','지방권_월']]"
   ]
  },
  {
   "cell_type": "code",
   "execution_count": 36,
   "metadata": {
    "ExecuteTime": {
     "end_time": "2024-01-25T14:32:08.755783Z",
     "start_time": "2024-01-25T14:32:08.747830Z"
    }
   },
   "outputs": [
    {
     "data": {
      "text/html": [
       "<div>\n",
       "<style scoped>\n",
       "    .dataframe tbody tr th:only-of-type {\n",
       "        vertical-align: middle;\n",
       "    }\n",
       "\n",
       "    .dataframe tbody tr th {\n",
       "        vertical-align: top;\n",
       "    }\n",
       "\n",
       "    .dataframe thead th {\n",
       "        text-align: right;\n",
       "    }\n",
       "</style>\n",
       "<table border=\"1\" class=\"dataframe\">\n",
       "  <thead>\n",
       "    <tr style=\"text-align: right;\">\n",
       "      <th>C1_NM</th>\n",
       "      <th>수도권_월</th>\n",
       "      <th>지방권_월</th>\n",
       "    </tr>\n",
       "  </thead>\n",
       "  <tbody>\n",
       "    <tr>\n",
       "      <th>2007-01-01</th>\n",
       "      <td>4246</td>\n",
       "      <td>7792</td>\n",
       "    </tr>\n",
       "    <tr>\n",
       "      <th>2007-02-01</th>\n",
       "      <td>3780</td>\n",
       "      <td>13971</td>\n",
       "    </tr>\n",
       "    <tr>\n",
       "      <th>2007-03-01</th>\n",
       "      <td>6006</td>\n",
       "      <td>14032</td>\n",
       "    </tr>\n",
       "    <tr>\n",
       "      <th>2007-04-01</th>\n",
       "      <td>9287</td>\n",
       "      <td>9899</td>\n",
       "    </tr>\n",
       "    <tr>\n",
       "      <th>2007-05-01</th>\n",
       "      <td>15245</td>\n",
       "      <td>15348</td>\n",
       "    </tr>\n",
       "    <tr>\n",
       "      <th>...</th>\n",
       "      <td>...</td>\n",
       "      <td>...</td>\n",
       "    </tr>\n",
       "    <tr>\n",
       "      <th>2023-01-01</th>\n",
       "      <td>5259</td>\n",
       "      <td>16166</td>\n",
       "    </tr>\n",
       "    <tr>\n",
       "      <th>2023-02-01</th>\n",
       "      <td>14238</td>\n",
       "      <td>18712</td>\n",
       "    </tr>\n",
       "    <tr>\n",
       "      <th>2023-03-01</th>\n",
       "      <td>10756</td>\n",
       "      <td>21313</td>\n",
       "    </tr>\n",
       "    <tr>\n",
       "      <th>2023-04-01</th>\n",
       "      <td>14313</td>\n",
       "      <td>22614</td>\n",
       "    </tr>\n",
       "    <tr>\n",
       "      <th>2023-05-01</th>\n",
       "      <td>16015</td>\n",
       "      <td>18148</td>\n",
       "    </tr>\n",
       "  </tbody>\n",
       "</table>\n",
       "<p>197 rows × 2 columns</p>\n",
       "</div>"
      ],
      "text/plain": [
       "C1_NM       수도권_월  지방권_월\n",
       "2007-01-01   4246   7792\n",
       "2007-02-01   3780  13971\n",
       "2007-03-01   6006  14032\n",
       "2007-04-01   9287   9899\n",
       "2007-05-01  15245  15348\n",
       "...           ...    ...\n",
       "2023-01-01   5259  16166\n",
       "2023-02-01  14238  18712\n",
       "2023-03-01  10756  21313\n",
       "2023-04-01  14313  22614\n",
       "2023-05-01  16015  18148\n",
       "\n",
       "[197 rows x 2 columns]"
      ]
     },
     "execution_count": 36,
     "metadata": {},
     "output_type": "execute_result"
    }
   ],
   "source": [
    "df_per"
   ]
  },
  {
   "cell_type": "code",
   "execution_count": 37,
   "metadata": {
    "ExecuteTime": {
     "end_time": "2024-01-25T14:32:08.763881Z",
     "start_time": "2024-01-25T14:32:08.755783Z"
    }
   },
   "outputs": [],
   "source": [
    "year_per = df_per.groupby(df_per.index.year).sum()"
   ]
  },
  {
   "cell_type": "code",
   "execution_count": 38,
   "metadata": {
    "ExecuteTime": {
     "end_time": "2024-01-25T14:32:08.772122Z",
     "start_time": "2024-01-25T14:32:08.765395Z"
    }
   },
   "outputs": [
    {
     "data": {
      "text/html": [
       "<div>\n",
       "<style scoped>\n",
       "    .dataframe tbody tr th:only-of-type {\n",
       "        vertical-align: middle;\n",
       "    }\n",
       "\n",
       "    .dataframe tbody tr th {\n",
       "        vertical-align: top;\n",
       "    }\n",
       "\n",
       "    .dataframe thead th {\n",
       "        text-align: right;\n",
       "    }\n",
       "</style>\n",
       "<table border=\"1\" class=\"dataframe\">\n",
       "  <thead>\n",
       "    <tr style=\"text-align: right;\">\n",
       "      <th>C1_NM</th>\n",
       "      <th>수도권_월</th>\n",
       "      <th>지방권_월</th>\n",
       "    </tr>\n",
       "  </thead>\n",
       "  <tbody>\n",
       "    <tr>\n",
       "      <th>2007</th>\n",
       "      <td>302551</td>\n",
       "      <td>253241</td>\n",
       "    </tr>\n",
       "    <tr>\n",
       "      <th>2008</th>\n",
       "      <td>197580</td>\n",
       "      <td>173705</td>\n",
       "    </tr>\n",
       "    <tr>\n",
       "      <th>2009</th>\n",
       "      <td>255158</td>\n",
       "      <td>126629</td>\n",
       "    </tr>\n",
       "    <tr>\n",
       "      <th>2010</th>\n",
       "      <td>250218</td>\n",
       "      <td>136324</td>\n",
       "    </tr>\n",
       "    <tr>\n",
       "      <th>2011</th>\n",
       "      <td>272156</td>\n",
       "      <td>277438</td>\n",
       "    </tr>\n",
       "    <tr>\n",
       "      <th>2012</th>\n",
       "      <td>269290</td>\n",
       "      <td>317594</td>\n",
       "    </tr>\n",
       "    <tr>\n",
       "      <th>2013</th>\n",
       "      <td>192610</td>\n",
       "      <td>247506</td>\n",
       "    </tr>\n",
       "    <tr>\n",
       "      <th>2014</th>\n",
       "      <td>241889</td>\n",
       "      <td>273362</td>\n",
       "    </tr>\n",
       "    <tr>\n",
       "      <th>2015</th>\n",
       "      <td>408773</td>\n",
       "      <td>356555</td>\n",
       "    </tr>\n",
       "    <tr>\n",
       "      <th>2016</th>\n",
       "      <td>341162</td>\n",
       "      <td>384886</td>\n",
       "    </tr>\n",
       "    <tr>\n",
       "      <th>2017</th>\n",
       "      <td>321402</td>\n",
       "      <td>332039</td>\n",
       "    </tr>\n",
       "    <tr>\n",
       "      <th>2018</th>\n",
       "      <td>280097</td>\n",
       "      <td>274039</td>\n",
       "    </tr>\n",
       "    <tr>\n",
       "      <th>2019</th>\n",
       "      <td>272226</td>\n",
       "      <td>215749</td>\n",
       "    </tr>\n",
       "    <tr>\n",
       "      <th>2020</th>\n",
       "      <td>252301</td>\n",
       "      <td>205213</td>\n",
       "    </tr>\n",
       "    <tr>\n",
       "      <th>2021</th>\n",
       "      <td>291348</td>\n",
       "      <td>254064</td>\n",
       "    </tr>\n",
       "    <tr>\n",
       "      <th>2022</th>\n",
       "      <td>190833</td>\n",
       "      <td>330958</td>\n",
       "    </tr>\n",
       "    <tr>\n",
       "      <th>2023</th>\n",
       "      <td>60581</td>\n",
       "      <td>96953</td>\n",
       "    </tr>\n",
       "  </tbody>\n",
       "</table>\n",
       "</div>"
      ],
      "text/plain": [
       "C1_NM   수도권_월   지방권_월\n",
       "2007   302551  253241\n",
       "2008   197580  173705\n",
       "2009   255158  126629\n",
       "2010   250218  136324\n",
       "2011   272156  277438\n",
       "2012   269290  317594\n",
       "2013   192610  247506\n",
       "2014   241889  273362\n",
       "2015   408773  356555\n",
       "2016   341162  384886\n",
       "2017   321402  332039\n",
       "2018   280097  274039\n",
       "2019   272226  215749\n",
       "2020   252301  205213\n",
       "2021   291348  254064\n",
       "2022   190833  330958\n",
       "2023    60581   96953"
      ]
     },
     "execution_count": 38,
     "metadata": {},
     "output_type": "execute_result"
    }
   ],
   "source": [
    "year_per"
   ]
  },
  {
   "cell_type": "code",
   "execution_count": 39,
   "metadata": {
    "ExecuteTime": {
     "end_time": "2024-01-25T14:32:08.780430Z",
     "start_time": "2024-01-25T14:32:08.772122Z"
    }
   },
   "outputs": [],
   "source": [
    "year_per = year_per.drop(index=[2007,2008,2009,2010], axis=0)"
   ]
  },
  {
   "cell_type": "markdown",
   "metadata": {},
   "source": [
    "[지역별 주택건설 인허가 실적(비누계 연)데이터 확인](https://kosis.kr/statHtml/statHtml.do?orgId=116&tblId=DT_MLTM_666&vw_cd=MT_ZTITLE&list_id=116_11626_001&scrId=&seqNo=&lang_mode=ko&obj_var_id=&itm_id=&conn_path=MT_ZTITLE&path=%252FstatisticsList%252FstatisticsListIndex.do)"
   ]
  },
  {
   "cell_type": "code",
   "execution_count": 40,
   "metadata": {
    "ExecuteTime": {
     "end_time": "2024-01-25T14:32:08.950745Z",
     "start_time": "2024-01-25T14:32:08.782740Z"
    }
   },
   "outputs": [
    {
     "data": {
      "image/png": "[encoded data removed]",
      "text/plain": [
       "<Figure size 1440x360 with 1 Axes>"
      ]
     },
     "metadata": {
      "needs_background": "light"
     },
     "output_type": "display_data"
    }
   ],
   "source": [
    "from matplotlib import pyplot as plt\n",
    "import matplotlib.font_manager as fm\n",
    "import numpy as np\n",
    "\n",
    "plt.figure(figsize=(20,5))\n",
    "\n",
    "# 한글 폰트 사용을 위해서 세팅\n",
    "from matplotlib import font_manager, rc\n",
    "font_path = \"C:/Windows/Fonts/malgun.ttf\"\n",
    "font = font_manager.FontProperties(fname=font_path).get_name()\n",
    "rc('font', family=font)\n",
    "\n",
    "down =  year_per.loc[:,'수도권_월']# 수도권\n",
    "top =  year_per.loc[:,'지방권_월'] # 지방권\n",
    "\n",
    "plt.bar(year_per.index, down, color='firebrick',hatch=\"///\",edgecolor='white')#수도권\n",
    "plt.bar(year_per.index, top, bottom=down, color='midnightblue', hatch=\".\",edgecolor='yellow') #지방권\n",
    "\n",
    "y = down + top\n",
    "\n",
    "import matplotlib.ticker as mticker\n",
    "\n",
    "# plt.xlim(X.min()*1.1, X.max()*1.1)\n",
    "plt.ylim(0, y.max()*1.1)\n",
    "plt.gca().yaxis.set_major_formatter(mticker.FormatStrFormatter('%i')) #%i 는 int , %f 는 float, %.3f 백만호 : 0.001 백만호\n",
    "plt.grid(True, axis='y', color='gray', alpha=0.5, linestyle='-')\n",
    "\n",
    "plt.legend(['수도권', '지방권'])\n",
    "plt.title('전국 주택건설 인허가 물량(2011~2023)', fontsize='20')\n",
    "plt.xticks(year_per.index)\n",
    "plt.show()"
   ]
  },
  {
   "cell_type": "markdown",
   "metadata": {},
   "source": [
    "# 2 전국 <span style=\"color:red\">분양 물량(호)</span> data 분석"
   ]
  },
  {
   "cell_type": "markdown",
   "metadata": {},
   "source": [
    "### * 데이터 수집\n",
    "  - 정의 : 전국 민간분양아파트의 지역별 분양시장 동향 제공을 통해 국민의 주택구매 의사결정을 지원하고 부동산 경기 예측 및 아파트 공급정책 수립을 위한 정보 제공\n",
    "  - 데이터체계 : 주택사업자→ 주택도시보증공사(HUG) 지사→ 주택도시보증공사(HUG) 주택도시금융연구원\n",
    "  - 소스 : KOSIS>주거>민간아파트분양시장동향>지역별 신규 분양세대수 \n",
    "  - URL : [지역별 신규 분양 세대수](https://kosis.kr/statHtml/statHtml.do?orgId=414&tblId=DT_41401N_007)\n",
    "  - 기간 : 2015년 1월 ~ 현재\n",
    "  - 필터 : 항목(신규 분양세대수), 지역별(1레벨 전체선택, 2레벨 해제), 시점(2015.1 ~ 현재)\n",
    "  - 다운로드 : 통계조회>행렬전환>다운로드> [xlsx]"
   ]
  },
  {
   "cell_type": "code",
   "execution_count": 94,
   "metadata": {
    "ExecuteTime": {
     "end_time": "2024-01-25T14:35:58.116437Z",
     "start_time": "2024-01-25T14:35:57.631156Z"
    }
   },
   "outputs": [
    {
     "data": {
      "text/html": [
       "<div>\n",
       "<style scoped>\n",
       "    .dataframe tbody tr th:only-of-type {\n",
       "        vertical-align: middle;\n",
       "    }\n",
       "\n",
       "    .dataframe tbody tr th {\n",
       "        vertical-align: top;\n",
       "    }\n",
       "\n",
       "    .dataframe thead th {\n",
       "        text-align: right;\n",
       "    }\n",
       "</style>\n",
       "<table border=\"1\" class=\"dataframe\">\n",
       "  <thead>\n",
       "    <tr style=\"text-align: right;\">\n",
       "      <th></th>\n",
       "      <th>TBL_NM</th>\n",
       "      <th>PRD_DE</th>\n",
       "      <th>TBL_ID</th>\n",
       "      <th>ITM_NM</th>\n",
       "      <th>ITM_ID</th>\n",
       "      <th>ORG_ID</th>\n",
       "      <th>UNIT_NM</th>\n",
       "      <th>UNIT_NM_ENG</th>\n",
       "      <th>C1_OBJ_NM</th>\n",
       "      <th>DT</th>\n",
       "      <th>PRD_SE</th>\n",
       "      <th>C1</th>\n",
       "      <th>C1_NM</th>\n",
       "    </tr>\n",
       "  </thead>\n",
       "  <tbody>\n",
       "    <tr>\n",
       "      <th>0</th>\n",
       "      <td>지역별 신규 분양세대수</td>\n",
       "      <td>201510</td>\n",
       "      <td>DT_41401N_007</td>\n",
       "      <td>신규 분양세대수</td>\n",
       "      <td>T1</td>\n",
       "      <td>414</td>\n",
       "      <td>세대</td>\n",
       "      <td>Households</td>\n",
       "      <td>지역별</td>\n",
       "      <td>65881</td>\n",
       "      <td>M</td>\n",
       "      <td>00</td>\n",
       "      <td>전국</td>\n",
       "    </tr>\n",
       "    <tr>\n",
       "      <th>1</th>\n",
       "      <td>지역별 신규 분양세대수</td>\n",
       "      <td>201511</td>\n",
       "      <td>DT_41401N_007</td>\n",
       "      <td>신규 분양세대수</td>\n",
       "      <td>T1</td>\n",
       "      <td>414</td>\n",
       "      <td>세대</td>\n",
       "      <td>Households</td>\n",
       "      <td>지역별</td>\n",
       "      <td>51933</td>\n",
       "      <td>M</td>\n",
       "      <td>00</td>\n",
       "      <td>전국</td>\n",
       "    </tr>\n",
       "    <tr>\n",
       "      <th>2</th>\n",
       "      <td>지역별 신규 분양세대수</td>\n",
       "      <td>201512</td>\n",
       "      <td>DT_41401N_007</td>\n",
       "      <td>신규 분양세대수</td>\n",
       "      <td>T1</td>\n",
       "      <td>414</td>\n",
       "      <td>세대</td>\n",
       "      <td>Households</td>\n",
       "      <td>지역별</td>\n",
       "      <td>20738</td>\n",
       "      <td>M</td>\n",
       "      <td>00</td>\n",
       "      <td>전국</td>\n",
       "    </tr>\n",
       "    <tr>\n",
       "      <th>3</th>\n",
       "      <td>지역별 신규 분양세대수</td>\n",
       "      <td>201601</td>\n",
       "      <td>DT_41401N_007</td>\n",
       "      <td>신규 분양세대수</td>\n",
       "      <td>T1</td>\n",
       "      <td>414</td>\n",
       "      <td>세대</td>\n",
       "      <td>Households</td>\n",
       "      <td>지역별</td>\n",
       "      <td>11331</td>\n",
       "      <td>M</td>\n",
       "      <td>00</td>\n",
       "      <td>전국</td>\n",
       "    </tr>\n",
       "    <tr>\n",
       "      <th>4</th>\n",
       "      <td>지역별 신규 분양세대수</td>\n",
       "      <td>201602</td>\n",
       "      <td>DT_41401N_007</td>\n",
       "      <td>신규 분양세대수</td>\n",
       "      <td>T1</td>\n",
       "      <td>414</td>\n",
       "      <td>세대</td>\n",
       "      <td>Households</td>\n",
       "      <td>지역별</td>\n",
       "      <td>11887</td>\n",
       "      <td>M</td>\n",
       "      <td>00</td>\n",
       "      <td>전국</td>\n",
       "    </tr>\n",
       "    <tr>\n",
       "      <th>...</th>\n",
       "      <td>...</td>\n",
       "      <td>...</td>\n",
       "      <td>...</td>\n",
       "      <td>...</td>\n",
       "      <td>...</td>\n",
       "      <td>...</td>\n",
       "      <td>...</td>\n",
       "      <td>...</td>\n",
       "      <td>...</td>\n",
       "      <td>...</td>\n",
       "      <td>...</td>\n",
       "      <td>...</td>\n",
       "      <td>...</td>\n",
       "    </tr>\n",
       "    <tr>\n",
       "      <th>387</th>\n",
       "      <td>지역별 신규 분양세대수</td>\n",
       "      <td>202307</td>\n",
       "      <td>DT_41401N_007</td>\n",
       "      <td>신규 분양세대수</td>\n",
       "      <td>T1</td>\n",
       "      <td>414</td>\n",
       "      <td>세대</td>\n",
       "      <td>Households</td>\n",
       "      <td>지역별</td>\n",
       "      <td>3154</td>\n",
       "      <td>M</td>\n",
       "      <td>20</td>\n",
       "      <td>기타지방</td>\n",
       "    </tr>\n",
       "    <tr>\n",
       "      <th>388</th>\n",
       "      <td>지역별 신규 분양세대수</td>\n",
       "      <td>202308</td>\n",
       "      <td>DT_41401N_007</td>\n",
       "      <td>신규 분양세대수</td>\n",
       "      <td>T1</td>\n",
       "      <td>414</td>\n",
       "      <td>세대</td>\n",
       "      <td>Households</td>\n",
       "      <td>지역별</td>\n",
       "      <td>1605</td>\n",
       "      <td>M</td>\n",
       "      <td>20</td>\n",
       "      <td>기타지방</td>\n",
       "    </tr>\n",
       "    <tr>\n",
       "      <th>389</th>\n",
       "      <td>지역별 신규 분양세대수</td>\n",
       "      <td>202309</td>\n",
       "      <td>DT_41401N_007</td>\n",
       "      <td>신규 분양세대수</td>\n",
       "      <td>T1</td>\n",
       "      <td>414</td>\n",
       "      <td>세대</td>\n",
       "      <td>Households</td>\n",
       "      <td>지역별</td>\n",
       "      <td>5221</td>\n",
       "      <td>M</td>\n",
       "      <td>20</td>\n",
       "      <td>기타지방</td>\n",
       "    </tr>\n",
       "    <tr>\n",
       "      <th>390</th>\n",
       "      <td>지역별 신규 분양세대수</td>\n",
       "      <td>202310</td>\n",
       "      <td>DT_41401N_007</td>\n",
       "      <td>신규 분양세대수</td>\n",
       "      <td>T1</td>\n",
       "      <td>414</td>\n",
       "      <td>세대</td>\n",
       "      <td>Households</td>\n",
       "      <td>지역별</td>\n",
       "      <td>4452</td>\n",
       "      <td>M</td>\n",
       "      <td>20</td>\n",
       "      <td>기타지방</td>\n",
       "    </tr>\n",
       "    <tr>\n",
       "      <th>391</th>\n",
       "      <td>지역별 신규 분양세대수</td>\n",
       "      <td>202311</td>\n",
       "      <td>DT_41401N_007</td>\n",
       "      <td>신규 분양세대수</td>\n",
       "      <td>T1</td>\n",
       "      <td>414</td>\n",
       "      <td>세대</td>\n",
       "      <td>Households</td>\n",
       "      <td>지역별</td>\n",
       "      <td>6050</td>\n",
       "      <td>M</td>\n",
       "      <td>20</td>\n",
       "      <td>기타지방</td>\n",
       "    </tr>\n",
       "  </tbody>\n",
       "</table>\n",
       "<p>392 rows × 13 columns</p>\n",
       "</div>"
      ],
      "text/plain": [
       "           TBL_NM  PRD_DE         TBL_ID    ITM_NM ITM_ID ORG_ID UNIT_NM  \\\n",
       "0    지역별 신규 분양세대수  201510  DT_41401N_007  신규 분양세대수     T1    414      세대   \n",
       "1    지역별 신규 분양세대수  201511  DT_41401N_007  신규 분양세대수     T1    414      세대   \n",
       "2    지역별 신규 분양세대수  201512  DT_41401N_007  신규 분양세대수     T1    414      세대   \n",
       "3    지역별 신규 분양세대수  201601  DT_41401N_007  신규 분양세대수     T1    414      세대   \n",
       "4    지역별 신규 분양세대수  201602  DT_41401N_007  신규 분양세대수     T1    414      세대   \n",
       "..            ...     ...            ...       ...    ...    ...     ...   \n",
       "387  지역별 신규 분양세대수  202307  DT_41401N_007  신규 분양세대수     T1    414      세대   \n",
       "388  지역별 신규 분양세대수  202308  DT_41401N_007  신규 분양세대수     T1    414      세대   \n",
       "389  지역별 신규 분양세대수  202309  DT_41401N_007  신규 분양세대수     T1    414      세대   \n",
       "390  지역별 신규 분양세대수  202310  DT_41401N_007  신규 분양세대수     T1    414      세대   \n",
       "391  지역별 신규 분양세대수  202311  DT_41401N_007  신규 분양세대수     T1    414      세대   \n",
       "\n",
       "    UNIT_NM_ENG C1_OBJ_NM     DT PRD_SE  C1 C1_NM  \n",
       "0    Households       지역별  65881      M  00    전국  \n",
       "1    Households       지역별  51933      M  00    전국  \n",
       "2    Households       지역별  20738      M  00    전국  \n",
       "3    Households       지역별  11331      M  00    전국  \n",
       "4    Households       지역별  11887      M  00    전국  \n",
       "..          ...       ...    ...    ...  ..   ...  \n",
       "387  Households       지역별   3154      M  20  기타지방  \n",
       "388  Households       지역별   1605      M  20  기타지방  \n",
       "389  Households       지역별   5221      M  20  기타지방  \n",
       "390  Households       지역별   4452      M  20  기타지방  \n",
       "391  Households       지역별   6050      M  20  기타지방  \n",
       "\n",
       "[392 rows x 13 columns]"
      ]
     },
     "execution_count": 94,
     "metadata": {},
     "output_type": "execute_result"
    }
   ],
   "source": [
    "# from pandas.io.json import json_normalize\n",
    "from pandas import json_normalize\n",
    "\n",
    "import pandas as pd\n",
    "import requests\n",
    "\n",
    "# url 생성\n",
    "json_Url = 'https://kosis.kr/openapi/Param/statisticsParameterData.do?method=getList&apiKey=\n",
    "&itmId=T1+&objL1=00+04+11+20+&objL2=&objL3=&objL4=&objL5=&objL6=&objL7=&objL8=&format=json&jsonVD=Y&prdSe=M&startPrdDe=201510&endPrdDe=202312&orgId=414&tblId=DT_41401N_007'\n",
    "\n",
    "# 데이터 요청\n",
    "contents = requests.get(json_Url)\n",
    "\n",
    "# JSON데이터 가져오기\n",
    "test_data =contents.json()\n",
    "\n",
    "# Pandas DataFrame 변환\n",
    "df = pd.json_normalize(test_data)\n",
    "\n",
    "# 출력\n",
    "df"
   ]
  },
  {
   "cell_type": "code",
   "execution_count": 95,
   "metadata": {
    "ExecuteTime": {
     "end_time": "2024-01-25T14:35:58.151369Z",
     "start_time": "2024-01-25T14:35:58.140244Z"
    }
   },
   "outputs": [],
   "source": [
    "raw_sales = df"
   ]
  },
  {
   "cell_type": "code",
   "execution_count": 96,
   "metadata": {
    "ExecuteTime": {
     "end_time": "2024-01-25T14:35:58.749044Z",
     "start_time": "2024-01-25T14:35:58.736586Z"
    }
   },
   "outputs": [],
   "source": [
    "df = raw_sales"
   ]
  },
  {
   "cell_type": "code",
   "execution_count": 97,
   "metadata": {
    "ExecuteTime": {
     "end_time": "2024-01-25T14:35:59.217819Z",
     "start_time": "2024-01-25T14:35:59.202294Z"
    }
   },
   "outputs": [
    {
     "data": {
      "text/html": [
       "<div>\n",
       "<style scoped>\n",
       "    .dataframe tbody tr th:only-of-type {\n",
       "        vertical-align: middle;\n",
       "    }\n",
       "\n",
       "    .dataframe tbody tr th {\n",
       "        vertical-align: top;\n",
       "    }\n",
       "\n",
       "    .dataframe thead th {\n",
       "        text-align: right;\n",
       "    }\n",
       "</style>\n",
       "<table border=\"1\" class=\"dataframe\">\n",
       "  <thead>\n",
       "    <tr style=\"text-align: right;\">\n",
       "      <th></th>\n",
       "      <th>PRD_DE</th>\n",
       "      <th>C1_NM</th>\n",
       "      <th>DT</th>\n",
       "    </tr>\n",
       "  </thead>\n",
       "  <tbody>\n",
       "    <tr>\n",
       "      <th>0</th>\n",
       "      <td>201510</td>\n",
       "      <td>전국</td>\n",
       "      <td>65881</td>\n",
       "    </tr>\n",
       "    <tr>\n",
       "      <th>1</th>\n",
       "      <td>201511</td>\n",
       "      <td>전국</td>\n",
       "      <td>51933</td>\n",
       "    </tr>\n",
       "    <tr>\n",
       "      <th>2</th>\n",
       "      <td>201512</td>\n",
       "      <td>전국</td>\n",
       "      <td>20738</td>\n",
       "    </tr>\n",
       "    <tr>\n",
       "      <th>3</th>\n",
       "      <td>201601</td>\n",
       "      <td>전국</td>\n",
       "      <td>11331</td>\n",
       "    </tr>\n",
       "    <tr>\n",
       "      <th>4</th>\n",
       "      <td>201602</td>\n",
       "      <td>전국</td>\n",
       "      <td>11887</td>\n",
       "    </tr>\n",
       "    <tr>\n",
       "      <th>...</th>\n",
       "      <td>...</td>\n",
       "      <td>...</td>\n",
       "      <td>...</td>\n",
       "    </tr>\n",
       "    <tr>\n",
       "      <th>387</th>\n",
       "      <td>202307</td>\n",
       "      <td>기타지방</td>\n",
       "      <td>3154</td>\n",
       "    </tr>\n",
       "    <tr>\n",
       "      <th>388</th>\n",
       "      <td>202308</td>\n",
       "      <td>기타지방</td>\n",
       "      <td>1605</td>\n",
       "    </tr>\n",
       "    <tr>\n",
       "      <th>389</th>\n",
       "      <td>202309</td>\n",
       "      <td>기타지방</td>\n",
       "      <td>5221</td>\n",
       "    </tr>\n",
       "    <tr>\n",
       "      <th>390</th>\n",
       "      <td>202310</td>\n",
       "      <td>기타지방</td>\n",
       "      <td>4452</td>\n",
       "    </tr>\n",
       "    <tr>\n",
       "      <th>391</th>\n",
       "      <td>202311</td>\n",
       "      <td>기타지방</td>\n",
       "      <td>6050</td>\n",
       "    </tr>\n",
       "  </tbody>\n",
       "</table>\n",
       "<p>392 rows × 3 columns</p>\n",
       "</div>"
      ],
      "text/plain": [
       "     PRD_DE C1_NM     DT\n",
       "0    201510    전국  65881\n",
       "1    201511    전국  51933\n",
       "2    201512    전국  20738\n",
       "3    201601    전국  11331\n",
       "4    201602    전국  11887\n",
       "..      ...   ...    ...\n",
       "387  202307  기타지방   3154\n",
       "388  202308  기타지방   1605\n",
       "389  202309  기타지방   5221\n",
       "390  202310  기타지방   4452\n",
       "391  202311  기타지방   6050\n",
       "\n",
       "[392 rows x 3 columns]"
      ]
     },
     "execution_count": 97,
     "metadata": {},
     "output_type": "execute_result"
    }
   ],
   "source": [
    "df = df[['PRD_DE', 'C1_NM', 'DT']]\n",
    "df"
   ]
  },
  {
   "cell_type": "code",
   "execution_count": 98,
   "metadata": {
    "ExecuteTime": {
     "end_time": "2024-01-25T14:36:00.440119Z",
     "start_time": "2024-01-25T14:36:00.419109Z"
    }
   },
   "outputs": [
    {
     "data": {
      "text/html": [
       "<div>\n",
       "<style scoped>\n",
       "    .dataframe tbody tr th:only-of-type {\n",
       "        vertical-align: middle;\n",
       "    }\n",
       "\n",
       "    .dataframe tbody tr th {\n",
       "        vertical-align: top;\n",
       "    }\n",
       "\n",
       "    .dataframe thead th {\n",
       "        text-align: right;\n",
       "    }\n",
       "</style>\n",
       "<table border=\"1\" class=\"dataframe\">\n",
       "  <thead>\n",
       "    <tr style=\"text-align: right;\">\n",
       "      <th>C1_NM</th>\n",
       "      <th>5대광역시 및 세종특별자치시</th>\n",
       "      <th>기타지방</th>\n",
       "      <th>수도권</th>\n",
       "      <th>전국</th>\n",
       "    </tr>\n",
       "    <tr>\n",
       "      <th>PRD_DE</th>\n",
       "      <th></th>\n",
       "      <th></th>\n",
       "      <th></th>\n",
       "      <th></th>\n",
       "    </tr>\n",
       "  </thead>\n",
       "  <tbody>\n",
       "    <tr>\n",
       "      <th>201510</th>\n",
       "      <td>7766</td>\n",
       "      <td>23095</td>\n",
       "      <td>35020</td>\n",
       "      <td>65881</td>\n",
       "    </tr>\n",
       "    <tr>\n",
       "      <th>201511</th>\n",
       "      <td>8773</td>\n",
       "      <td>16753</td>\n",
       "      <td>26407</td>\n",
       "      <td>51933</td>\n",
       "    </tr>\n",
       "    <tr>\n",
       "      <th>201512</th>\n",
       "      <td>3522</td>\n",
       "      <td>10656</td>\n",
       "      <td>6560</td>\n",
       "      <td>20738</td>\n",
       "    </tr>\n",
       "    <tr>\n",
       "      <th>201601</th>\n",
       "      <td>816</td>\n",
       "      <td>10033</td>\n",
       "      <td>482</td>\n",
       "      <td>11331</td>\n",
       "    </tr>\n",
       "    <tr>\n",
       "      <th>201602</th>\n",
       "      <td>1171</td>\n",
       "      <td>7796</td>\n",
       "      <td>2920</td>\n",
       "      <td>11887</td>\n",
       "    </tr>\n",
       "    <tr>\n",
       "      <th>...</th>\n",
       "      <td>...</td>\n",
       "      <td>...</td>\n",
       "      <td>...</td>\n",
       "      <td>...</td>\n",
       "    </tr>\n",
       "    <tr>\n",
       "      <th>202307</th>\n",
       "      <td>2041</td>\n",
       "      <td>3154</td>\n",
       "      <td>3292</td>\n",
       "      <td>8487</td>\n",
       "    </tr>\n",
       "    <tr>\n",
       "      <th>202308</th>\n",
       "      <td>1168</td>\n",
       "      <td>1605</td>\n",
       "      <td>1945</td>\n",
       "      <td>4718</td>\n",
       "    </tr>\n",
       "    <tr>\n",
       "      <th>202309</th>\n",
       "      <td>1540</td>\n",
       "      <td>5221</td>\n",
       "      <td>2751</td>\n",
       "      <td>9512</td>\n",
       "    </tr>\n",
       "    <tr>\n",
       "      <th>202310</th>\n",
       "      <td>3156</td>\n",
       "      <td>4452</td>\n",
       "      <td>10827</td>\n",
       "      <td>18435</td>\n",
       "    </tr>\n",
       "    <tr>\n",
       "      <th>202311</th>\n",
       "      <td>3796</td>\n",
       "      <td>6050</td>\n",
       "      <td>8882</td>\n",
       "      <td>18728</td>\n",
       "    </tr>\n",
       "  </tbody>\n",
       "</table>\n",
       "<p>98 rows × 4 columns</p>\n",
       "</div>"
      ],
      "text/plain": [
       "C1_NM  5대광역시 및 세종특별자치시   기타지방    수도권     전국\n",
       "PRD_DE                                     \n",
       "201510            7766  23095  35020  65881\n",
       "201511            8773  16753  26407  51933\n",
       "201512            3522  10656   6560  20738\n",
       "201601             816  10033    482  11331\n",
       "201602            1171   7796   2920  11887\n",
       "...                ...    ...    ...    ...\n",
       "202307            2041   3154   3292   8487\n",
       "202308            1168   1605   1945   4718\n",
       "202309            1540   5221   2751   9512\n",
       "202310            3156   4452  10827  18435\n",
       "202311            3796   6050   8882  18728\n",
       "\n",
       "[98 rows x 4 columns]"
      ]
     },
     "execution_count": 98,
     "metadata": {},
     "output_type": "execute_result"
    }
   ],
   "source": [
    "# df = df.pivot(\"PRD_DE\", \"C1_NM\", \"DT\")\n",
    "df = df.pivot(index=\"PRD_DE\", columns= \"C1_NM\", values=\"DT\")\n",
    "\n",
    "df"
   ]
  },
  {
   "cell_type": "code",
   "execution_count": 99,
   "metadata": {
    "ExecuteTime": {
     "end_time": "2024-01-25T14:36:00.928120Z",
     "start_time": "2024-01-25T14:36:00.911522Z"
    }
   },
   "outputs": [
    {
     "name": "stdout",
     "output_type": "stream",
     "text": [
      "<class 'pandas.core.frame.DataFrame'>\n",
      "Index: 98 entries, 201510 to 202311\n",
      "Data columns (total 4 columns):\n",
      " #   Column           Non-Null Count  Dtype \n",
      "---  ------           --------------  ----- \n",
      " 0   5대광역시 및 세종특별자치시  98 non-null     object\n",
      " 1   기타지방             98 non-null     object\n",
      " 2   수도권              98 non-null     object\n",
      " 3   전국               98 non-null     object\n",
      "dtypes: object(4)\n",
      "memory usage: 3.8+ KB\n"
     ]
    }
   ],
   "source": [
    "df.info()"
   ]
  },
  {
   "cell_type": "code",
   "execution_count": 100,
   "metadata": {
    "ExecuteTime": {
     "end_time": "2024-01-25T14:36:01.427410Z",
     "start_time": "2024-01-25T14:36:01.421901Z"
    }
   },
   "outputs": [],
   "source": [
    "df = df.astype(int)"
   ]
  },
  {
   "cell_type": "code",
   "execution_count": 101,
   "metadata": {
    "ExecuteTime": {
     "end_time": "2024-01-25T14:36:01.857262Z",
     "start_time": "2024-01-25T14:36:01.841068Z"
    }
   },
   "outputs": [
    {
     "name": "stdout",
     "output_type": "stream",
     "text": [
      "<class 'pandas.core.frame.DataFrame'>\n",
      "Index: 98 entries, 201510 to 202311\n",
      "Data columns (total 4 columns):\n",
      " #   Column           Non-Null Count  Dtype\n",
      "---  ------           --------------  -----\n",
      " 0   5대광역시 및 세종특별자치시  98 non-null     int32\n",
      " 1   기타지방             98 non-null     int32\n",
      " 2   수도권              98 non-null     int32\n",
      " 3   전국               98 non-null     int32\n",
      "dtypes: int32(4)\n",
      "memory usage: 2.3+ KB\n"
     ]
    }
   ],
   "source": [
    "df.info()"
   ]
  },
  {
   "cell_type": "code",
   "execution_count": 102,
   "metadata": {
    "ExecuteTime": {
     "end_time": "2024-01-25T14:36:02.247456Z",
     "start_time": "2024-01-25T14:36:02.231419Z"
    }
   },
   "outputs": [],
   "source": [
    "df['지방권'] = df['전국'] - df['수도권']"
   ]
  },
  {
   "cell_type": "code",
   "execution_count": 103,
   "metadata": {
    "ExecuteTime": {
     "end_time": "2024-01-25T14:36:02.597345Z",
     "start_time": "2024-01-25T14:36:02.573376Z"
    }
   },
   "outputs": [
    {
     "data": {
      "text/html": [
       "<div>\n",
       "<style scoped>\n",
       "    .dataframe tbody tr th:only-of-type {\n",
       "        vertical-align: middle;\n",
       "    }\n",
       "\n",
       "    .dataframe tbody tr th {\n",
       "        vertical-align: top;\n",
       "    }\n",
       "\n",
       "    .dataframe thead th {\n",
       "        text-align: right;\n",
       "    }\n",
       "</style>\n",
       "<table border=\"1\" class=\"dataframe\">\n",
       "  <thead>\n",
       "    <tr style=\"text-align: right;\">\n",
       "      <th>C1_NM</th>\n",
       "      <th>수도권</th>\n",
       "      <th>지방권</th>\n",
       "    </tr>\n",
       "    <tr>\n",
       "      <th>PRD_DE</th>\n",
       "      <th></th>\n",
       "      <th></th>\n",
       "    </tr>\n",
       "  </thead>\n",
       "  <tbody>\n",
       "    <tr>\n",
       "      <th>201510</th>\n",
       "      <td>35020</td>\n",
       "      <td>30861</td>\n",
       "    </tr>\n",
       "    <tr>\n",
       "      <th>201511</th>\n",
       "      <td>26407</td>\n",
       "      <td>25526</td>\n",
       "    </tr>\n",
       "    <tr>\n",
       "      <th>201512</th>\n",
       "      <td>6560</td>\n",
       "      <td>14178</td>\n",
       "    </tr>\n",
       "    <tr>\n",
       "      <th>201601</th>\n",
       "      <td>482</td>\n",
       "      <td>10849</td>\n",
       "    </tr>\n",
       "    <tr>\n",
       "      <th>201602</th>\n",
       "      <td>2920</td>\n",
       "      <td>8967</td>\n",
       "    </tr>\n",
       "  </tbody>\n",
       "</table>\n",
       "</div>"
      ],
      "text/plain": [
       "C1_NM     수도권    지방권\n",
       "PRD_DE              \n",
       "201510  35020  30861\n",
       "201511  26407  25526\n",
       "201512   6560  14178\n",
       "201601    482  10849\n",
       "201602   2920   8967"
      ]
     },
     "execution_count": 103,
     "metadata": {},
     "output_type": "execute_result"
    }
   ],
   "source": [
    "df_presale = df.loc[:,['수도권', '지방권']]\n",
    "df_presale.head()"
   ]
  },
  {
   "cell_type": "markdown",
   "metadata": {},
   "source": [
    "###  2.6.3 행삭제\n",
    "연도별 합계를 하기전에 2015년 3개 월의 행을 삭제합니다.\n",
    "\n",
    "[pandas 공식 document](https://pandas.pydata.org/pandas-docs/stable/reference/api/pandas.DataFrame.drop.html)"
   ]
  },
  {
   "cell_type": "code",
   "execution_count": 104,
   "metadata": {
    "ExecuteTime": {
     "end_time": "2024-01-25T14:36:05.098036Z",
     "start_time": "2024-01-25T14:36:05.081927Z"
    }
   },
   "outputs": [],
   "source": [
    "df_presale.drop(['201510', '201511', '201512'], inplace=True)"
   ]
  },
  {
   "cell_type": "code",
   "execution_count": 105,
   "metadata": {
    "ExecuteTime": {
     "end_time": "2024-01-25T14:36:05.704774Z",
     "start_time": "2024-01-25T14:36:05.696561Z"
    }
   },
   "outputs": [],
   "source": [
    "# df = df.copy()\n",
    "df_presale['연'] = df_presale.index.str[:4]\n",
    "df_presale['월'] =df_presale.index.str[-2:]\n",
    "\n",
    "df_presale['시점']= df_presale['연'] + \"-\" + df_presale['월']\n",
    "df_presale.index = df_presale['시점']\n",
    "df_presale.index = pd.to_datetime(df_presale.index)"
   ]
  },
  {
   "cell_type": "code",
   "execution_count": 106,
   "metadata": {
    "ExecuteTime": {
     "end_time": "2024-01-25T14:36:06.290152Z",
     "start_time": "2024-01-25T14:36:06.268170Z"
    }
   },
   "outputs": [],
   "source": [
    "df_presale['시점'] = pd.to_datetime(df_presale['시점'])"
   ]
  },
  {
   "cell_type": "code",
   "execution_count": 107,
   "metadata": {
    "ExecuteTime": {
     "end_time": "2024-01-25T14:36:06.872571Z",
     "start_time": "2024-01-25T14:36:06.851660Z"
    }
   },
   "outputs": [
    {
     "data": {
      "text/html": [
       "<div>\n",
       "<style scoped>\n",
       "    .dataframe tbody tr th:only-of-type {\n",
       "        vertical-align: middle;\n",
       "    }\n",
       "\n",
       "    .dataframe tbody tr th {\n",
       "        vertical-align: top;\n",
       "    }\n",
       "\n",
       "    .dataframe thead th {\n",
       "        text-align: right;\n",
       "    }\n",
       "</style>\n",
       "<table border=\"1\" class=\"dataframe\">\n",
       "  <thead>\n",
       "    <tr style=\"text-align: right;\">\n",
       "      <th>C1_NM</th>\n",
       "      <th>수도권</th>\n",
       "      <th>지방권</th>\n",
       "      <th>연</th>\n",
       "      <th>월</th>\n",
       "      <th>시점</th>\n",
       "    </tr>\n",
       "    <tr>\n",
       "      <th>시점</th>\n",
       "      <th></th>\n",
       "      <th></th>\n",
       "      <th></th>\n",
       "      <th></th>\n",
       "      <th></th>\n",
       "    </tr>\n",
       "  </thead>\n",
       "  <tbody>\n",
       "    <tr>\n",
       "      <th>2016-01-01</th>\n",
       "      <td>482</td>\n",
       "      <td>10849</td>\n",
       "      <td>2016</td>\n",
       "      <td>01</td>\n",
       "      <td>2016-01-01</td>\n",
       "    </tr>\n",
       "    <tr>\n",
       "      <th>2016-02-01</th>\n",
       "      <td>2920</td>\n",
       "      <td>8967</td>\n",
       "      <td>2016</td>\n",
       "      <td>02</td>\n",
       "      <td>2016-02-01</td>\n",
       "    </tr>\n",
       "    <tr>\n",
       "      <th>2016-03-01</th>\n",
       "      <td>13043</td>\n",
       "      <td>11829</td>\n",
       "      <td>2016</td>\n",
       "      <td>03</td>\n",
       "      <td>2016-03-01</td>\n",
       "    </tr>\n",
       "    <tr>\n",
       "      <th>2016-04-01</th>\n",
       "      <td>9877</td>\n",
       "      <td>21200</td>\n",
       "      <td>2016</td>\n",
       "      <td>04</td>\n",
       "      <td>2016-04-01</td>\n",
       "    </tr>\n",
       "    <tr>\n",
       "      <th>2016-05-01</th>\n",
       "      <td>19015</td>\n",
       "      <td>19909</td>\n",
       "      <td>2016</td>\n",
       "      <td>05</td>\n",
       "      <td>2016-05-01</td>\n",
       "    </tr>\n",
       "    <tr>\n",
       "      <th>...</th>\n",
       "      <td>...</td>\n",
       "      <td>...</td>\n",
       "      <td>...</td>\n",
       "      <td>...</td>\n",
       "      <td>...</td>\n",
       "    </tr>\n",
       "    <tr>\n",
       "      <th>2023-07-01</th>\n",
       "      <td>3292</td>\n",
       "      <td>5195</td>\n",
       "      <td>2023</td>\n",
       "      <td>07</td>\n",
       "      <td>2023-07-01</td>\n",
       "    </tr>\n",
       "    <tr>\n",
       "      <th>2023-08-01</th>\n",
       "      <td>1945</td>\n",
       "      <td>2773</td>\n",
       "      <td>2023</td>\n",
       "      <td>08</td>\n",
       "      <td>2023-08-01</td>\n",
       "    </tr>\n",
       "    <tr>\n",
       "      <th>2023-09-01</th>\n",
       "      <td>2751</td>\n",
       "      <td>6761</td>\n",
       "      <td>2023</td>\n",
       "      <td>09</td>\n",
       "      <td>2023-09-01</td>\n",
       "    </tr>\n",
       "    <tr>\n",
       "      <th>2023-10-01</th>\n",
       "      <td>10827</td>\n",
       "      <td>7608</td>\n",
       "      <td>2023</td>\n",
       "      <td>10</td>\n",
       "      <td>2023-10-01</td>\n",
       "    </tr>\n",
       "    <tr>\n",
       "      <th>2023-11-01</th>\n",
       "      <td>8882</td>\n",
       "      <td>9846</td>\n",
       "      <td>2023</td>\n",
       "      <td>11</td>\n",
       "      <td>2023-11-01</td>\n",
       "    </tr>\n",
       "  </tbody>\n",
       "</table>\n",
       "<p>95 rows × 5 columns</p>\n",
       "</div>"
      ],
      "text/plain": [
       "C1_NM         수도권    지방권     연   월         시점\n",
       "시점                                           \n",
       "2016-01-01    482  10849  2016  01 2016-01-01\n",
       "2016-02-01   2920   8967  2016  02 2016-02-01\n",
       "2016-03-01  13043  11829  2016  03 2016-03-01\n",
       "2016-04-01   9877  21200  2016  04 2016-04-01\n",
       "2016-05-01  19015  19909  2016  05 2016-05-01\n",
       "...           ...    ...   ...  ..        ...\n",
       "2023-07-01   3292   5195  2023  07 2023-07-01\n",
       "2023-08-01   1945   2773  2023  08 2023-08-01\n",
       "2023-09-01   2751   6761  2023  09 2023-09-01\n",
       "2023-10-01  10827   7608  2023  10 2023-10-01\n",
       "2023-11-01   8882   9846  2023  11 2023-11-01\n",
       "\n",
       "[95 rows x 5 columns]"
      ]
     },
     "execution_count": 107,
     "metadata": {},
     "output_type": "execute_result"
    }
   ],
   "source": [
    "df_presale"
   ]
  },
  {
   "cell_type": "code",
   "execution_count": 108,
   "metadata": {
    "ExecuteTime": {
     "end_time": "2024-01-25T14:36:07.846031Z",
     "start_time": "2024-01-25T14:36:07.825864Z"
    }
   },
   "outputs": [
    {
     "data": {
      "text/html": [
       "<div>\n",
       "<style scoped>\n",
       "    .dataframe tbody tr th:only-of-type {\n",
       "        vertical-align: middle;\n",
       "    }\n",
       "\n",
       "    .dataframe tbody tr th {\n",
       "        vertical-align: top;\n",
       "    }\n",
       "\n",
       "    .dataframe thead th {\n",
       "        text-align: right;\n",
       "    }\n",
       "</style>\n",
       "<table border=\"1\" class=\"dataframe\">\n",
       "  <thead>\n",
       "    <tr style=\"text-align: right;\">\n",
       "      <th>C1_NM</th>\n",
       "      <th>수도권</th>\n",
       "      <th>지방권</th>\n",
       "    </tr>\n",
       "    <tr>\n",
       "      <th>연</th>\n",
       "      <th></th>\n",
       "      <th></th>\n",
       "    </tr>\n",
       "  </thead>\n",
       "  <tbody>\n",
       "    <tr>\n",
       "      <th>2016</th>\n",
       "      <td>145331</td>\n",
       "      <td>168269</td>\n",
       "    </tr>\n",
       "    <tr>\n",
       "      <th>2017</th>\n",
       "      <td>82603</td>\n",
       "      <td>99047</td>\n",
       "    </tr>\n",
       "    <tr>\n",
       "      <th>2018</th>\n",
       "      <td>78454</td>\n",
       "      <td>79030</td>\n",
       "    </tr>\n",
       "    <tr>\n",
       "      <th>2019</th>\n",
       "      <td>86097</td>\n",
       "      <td>86562</td>\n",
       "    </tr>\n",
       "    <tr>\n",
       "      <th>2020</th>\n",
       "      <td>112992</td>\n",
       "      <td>113094</td>\n",
       "    </tr>\n",
       "    <tr>\n",
       "      <th>2021</th>\n",
       "      <td>78848</td>\n",
       "      <td>139669</td>\n",
       "    </tr>\n",
       "    <tr>\n",
       "      <th>2022</th>\n",
       "      <td>71886</td>\n",
       "      <td>107587</td>\n",
       "    </tr>\n",
       "    <tr>\n",
       "      <th>2023</th>\n",
       "      <td>52307</td>\n",
       "      <td>54095</td>\n",
       "    </tr>\n",
       "  </tbody>\n",
       "</table>\n",
       "</div>"
      ],
      "text/plain": [
       "C1_NM     수도권     지방권\n",
       "연                    \n",
       "2016   145331  168269\n",
       "2017    82603   99047\n",
       "2018    78454   79030\n",
       "2019    86097   86562\n",
       "2020   112992  113094\n",
       "2021    78848  139669\n",
       "2022    71886  107587\n",
       "2023    52307   54095"
      ]
     },
     "execution_count": 108,
     "metadata": {},
     "output_type": "execute_result"
    }
   ],
   "source": [
    "df_presale = df_presale.groupby(['연']).sum(['수도권','지방권'])\n",
    "df_presale"
   ]
  },
  {
   "cell_type": "code",
   "execution_count": 111,
   "metadata": {
    "ExecuteTime": {
     "end_time": "2024-01-25T14:36:18.477442Z",
     "start_time": "2024-01-25T14:36:18.461068Z"
    }
   },
   "outputs": [],
   "source": [
    "def presale_preprocessing(url):\n",
    "\n",
    "    contents = requests.get(url)\n",
    "    test_data =contents.json()\n",
    "    df = pd.json_normalize(test_data)\n",
    "\n",
    "    df = df[['PRD_DE', 'C1_NM', 'DT']]\n",
    "    #     df = df.pivot(\"PRD_DE\", \"C1_NM\", \"DT\")\n",
    "    df = df.pivot(index=\"PRD_DE\", columns= \"C1_NM\", values=\"DT\")    \n",
    "    df = df.astype(int)\n",
    "\n",
    "    df['지방권'] = df['전국'] - df['수도권']\n",
    "    df = df.loc[:,['수도권', '지방권']]\n",
    "    df.drop(['201510', '201511', '201512'], inplace=True)\n",
    "\n",
    "    df['연'] = df.index.str[:4]\n",
    "    df['월'] = df.index.str[-2:]    \n",
    "    df['시점']= df['연'] + \"-\" + df['월']\n",
    "\n",
    "    df.index = df['시점']\n",
    "    df['시점'] = pd.to_datetime(df['시점'])    \n",
    "    df = df.groupby(['연']).sum(['수도권','지방권'])\n",
    "\n",
    "    return df"
   ]
  },
  {
   "cell_type": "code",
   "execution_count": 114,
   "metadata": {
    "ExecuteTime": {
     "end_time": "2024-01-25T14:36:44.585935Z",
     "start_time": "2024-01-25T14:36:44.188033Z"
    }
   },
   "outputs": [
    {
     "data": {
      "text/html": [
       "<div>\n",
       "<style scoped>\n",
       "    .dataframe tbody tr th:only-of-type {\n",
       "        vertical-align: middle;\n",
       "    }\n",
       "\n",
       "    .dataframe tbody tr th {\n",
       "        vertical-align: top;\n",
       "    }\n",
       "\n",
       "    .dataframe thead th {\n",
       "        text-align: right;\n",
       "    }\n",
       "</style>\n",
       "<table border=\"1\" class=\"dataframe\">\n",
       "  <thead>\n",
       "    <tr style=\"text-align: right;\">\n",
       "      <th>C1_NM</th>\n",
       "      <th>수도권</th>\n",
       "      <th>지방권</th>\n",
       "    </tr>\n",
       "    <tr>\n",
       "      <th>연</th>\n",
       "      <th></th>\n",
       "      <th></th>\n",
       "    </tr>\n",
       "  </thead>\n",
       "  <tbody>\n",
       "    <tr>\n",
       "      <th>2016</th>\n",
       "      <td>145331</td>\n",
       "      <td>168269</td>\n",
       "    </tr>\n",
       "    <tr>\n",
       "      <th>2017</th>\n",
       "      <td>82603</td>\n",
       "      <td>99047</td>\n",
       "    </tr>\n",
       "    <tr>\n",
       "      <th>2018</th>\n",
       "      <td>78454</td>\n",
       "      <td>79030</td>\n",
       "    </tr>\n",
       "    <tr>\n",
       "      <th>2019</th>\n",
       "      <td>86097</td>\n",
       "      <td>86562</td>\n",
       "    </tr>\n",
       "    <tr>\n",
       "      <th>2020</th>\n",
       "      <td>112992</td>\n",
       "      <td>113094</td>\n",
       "    </tr>\n",
       "    <tr>\n",
       "      <th>2021</th>\n",
       "      <td>78848</td>\n",
       "      <td>139669</td>\n",
       "    </tr>\n",
       "    <tr>\n",
       "      <th>2022</th>\n",
       "      <td>71886</td>\n",
       "      <td>107587</td>\n",
       "    </tr>\n",
       "    <tr>\n",
       "      <th>2023</th>\n",
       "      <td>52307</td>\n",
       "      <td>54095</td>\n",
       "    </tr>\n",
       "  </tbody>\n",
       "</table>\n",
       "</div>"
      ],
      "text/plain": [
       "C1_NM     수도권     지방권\n",
       "연                    \n",
       "2016   145331  168269\n",
       "2017    82603   99047\n",
       "2018    78454   79030\n",
       "2019    86097   86562\n",
       "2020   112992  113094\n",
       "2021    78848  139669\n",
       "2022    71886  107587\n",
       "2023    52307   54095"
      ]
     },
     "execution_count": 114,
     "metadata": {},
     "output_type": "execute_result"
    }
   ],
   "source": [
    "df_presale = presale_preprocessing(url)\n",
    "df_presale"
   ]
  },
  {
   "cell_type": "markdown",
   "metadata": {},
   "source": [
    "## 2.7 전국 분양 물량(호) data 시각화"
   ]
  },
  {
   "cell_type": "code",
   "execution_count": 115,
   "metadata": {
    "ExecuteTime": {
     "end_time": "2024-01-25T14:36:49.492187Z",
     "start_time": "2024-01-25T14:36:49.359786Z"
    }
   },
   "outputs": [
    {
     "data": {
      "image/png": "[encoded data removed]",
      "text/plain": [
       "<Figure size 1440x360 with 1 Axes>"
      ]
     },
     "metadata": {
      "needs_background": "light"
     },
     "output_type": "display_data"
    }
   ],
   "source": [
    "from matplotlib import pyplot as plt\n",
    "import matplotlib.font_manager as fm\n",
    "import numpy as np\n",
    "import matplotlib.ticker as mticker\n",
    "\n",
    "plt.figure(figsize=(20,5))\n",
    "\n",
    "path = 'C:\\\\Windows\\\\Fonts\\\\NanumGothic.ttf'\n",
    "font_name = fm.FontProperties(fname=path).get_name()\n",
    "plt.rc('font', family=font_name)\n",
    "\n",
    "down =  df_presale.iloc[:,0] #수도권\n",
    "top =  df_presale.iloc[:,1] #지방권\n",
    "\n",
    "plt.bar(df_presale.index, down, color='firebrick')#수도권\n",
    "plt.bar(df_presale.index, top, bottom=down, color='midnightblue', hatch=\"..\",edgecolor='white') #지방권\n",
    "\n",
    "y = down + top\n",
    "plt.ylim(0, y.max()*1.1)\n",
    "plt.gca().yaxis.set_major_formatter(mticker.FormatStrFormatter('%i')) #%i 는 int , %f 는 float, %.3f : 0.001\n",
    "\n",
    "plt.grid(True, axis='y', color='gray', alpha=0.5, linestyle='-')\n",
    "\n",
    "plt.legend(['수도권', '지방권'])\n",
    "plt.title('전국 분양 물량(2016 ~ 2023)', fontsize='20')\n",
    "plt.show()"
   ]
  },
  {
   "cell_type": "markdown",
   "metadata": {},
   "source": [
    "# 연습문제(Exercise) 2 - Just Do It Now !"
   ]
  },
  {
   "cell_type": "markdown",
   "metadata": {},
   "source": [
    "### 분양 데이터를 시각화 함수 정의 해보세요"
   ]
  },
  {
   "cell_type": "code",
   "execution_count": 116,
   "metadata": {
    "ExecuteTime": {
     "end_time": "2024-01-25T14:36:56.880188Z",
     "start_time": "2024-01-25T14:36:56.863921Z"
    }
   },
   "outputs": [],
   "source": [
    "def presale_graph(df_presale):\n",
    "    \n",
    "    down =  df_presale.iloc[:,0] #수도권\n",
    "    top =  df_presale.iloc[:,1] #지방권\n",
    "\n",
    "    plt.bar(df_presale.index, down, color='firebrick')#수도권\n",
    "    plt.bar(df_presale.index, top, bottom=down, color='midnightblue', hatch=\"..\",edgecolor='white') #지방권\n",
    "\n",
    "    y = down + top\n",
    "    plt.ylim(0, y.max()*1.1)\n",
    "    plt.gca().yaxis.set_major_formatter(mticker.FormatStrFormatter('%i')) #%i 는 int , %f 는 float, %.3f : 0.001\n",
    "    # gca() : get current axis 현재 Axes 객체를 반환\n",
    "\n",
    "    plt.grid(True, axis='y', color='gray', alpha=0.5, linestyle='-')\n",
    "\n",
    "    plt.legend(['수도권', '지방권'])\n",
    "    plt.title('전국 분양 물량(2016 ~ 2023)', fontsize='20')\n",
    "    plt.figure(figsize=(20,5))\n",
    "\n",
    "    return plt.show()"
   ]
  },
  {
   "cell_type": "code",
   "execution_count": 117,
   "metadata": {
    "ExecuteTime": {
     "end_time": "2024-01-25T14:36:57.489705Z",
     "start_time": "2024-01-25T14:36:57.370865Z"
    }
   },
   "outputs": [
    {
     "data": {
      "image/png": "[encoded data removed]",
      "text/plain": [
       "<Figure size 1440x360 with 1 Axes>"
      ]
     },
     "metadata": {
      "needs_background": "light"
     },
     "output_type": "display_data"
    },
    {
     "data": {
      "text/plain": [
       "<Figure size 1440x360 with 0 Axes>"
      ]
     },
     "metadata": {},
     "output_type": "display_data"
    }
   ],
   "source": [
    "from matplotlib import pyplot as plt\n",
    "import matplotlib.font_manager as fm\n",
    "import numpy as np\n",
    "import matplotlib.ticker as mticker\n",
    "\n",
    "path = 'C:\\\\Windows\\\\Fonts\\\\NanumGothic.ttf'\n",
    "font_name = fm.FontProperties(fname=path).get_name()\n",
    "plt.rc('font', family=font_name)\n",
    "plt.figure(figsize=(20,5))\n",
    "##\n",
    "presale_graph(df_presale)"
   ]
  },
  {
   "cell_type": "markdown",
   "metadata": {},
   "source": [
    "# 일련의 프로세스로 정리"
   ]
  },
  {
   "cell_type": "code",
   "execution_count": 118,
   "metadata": {
    "ExecuteTime": {
     "end_time": "2024-01-25T14:37:06.812237Z",
     "start_time": "2024-01-25T14:37:05.219869Z"
    }
   },
   "outputs": [
    {
     "data": {
      "image/png": "[encoded data removed]",
      "text/plain": [
       "<Figure size 432x288 with 1 Axes>"
      ]
     },
     "metadata": {
      "needs_background": "light"
     },
     "output_type": "display_data"
    },
    {
     "data": {
      "text/plain": [
       "<Figure size 1440x360 with 0 Axes>"
      ]
     },
     "metadata": {},
     "output_type": "display_data"
    }
   ],
   "source": [
    "# 1. 파일경로 설정\n",
    "url = 'https://kosis.kr/openapi/Param/statisticsParameterData.do?method=getList&apiKey\n",
    "&itmId=T1+&objL1=00+04+11+20+&objL2=&objL3=&objL4=&objL5=&objL6=&objL7=&objL8=&format=json&jsonVD=Y&prdSe=M&startPrdDe=201510&endPrdDe=202312&orgId=414&tblId=DT_41401N_007'\n",
    "\n",
    "#2. 데이터 전처리 함수\n",
    "data = presale_preprocessing(url)\n",
    "\n",
    "#3. 데이터 시각화 함수\n",
    "presale_graph(data)"
   ]
  },
  {
   "cell_type": "markdown",
   "metadata": {},
   "source": [
    "## 2.8 인허가, 분양 그래프 동시 시각화(데이터 분석 리포트 디자인)\n",
    "### 2.8.1 subplot \n",
    "1행 2열에 나타내기"
   ]
  },
  {
   "cell_type": "code",
   "execution_count": 119,
   "metadata": {
    "ExecuteTime": {
     "end_time": "2024-01-25T14:37:12.189627Z",
     "start_time": "2024-01-25T14:37:11.909265Z"
    }
   },
   "outputs": [
    {
     "data": {
      "image/png": "[encoded data removed]",
      "text/plain": [
       "<Figure size 1440x576 with 2 Axes>"
      ]
     },
     "metadata": {
      "needs_background": "light"
     },
     "output_type": "display_data"
    }
   ],
   "source": [
    "# 한글폰트 설정\n",
    "path = 'C:\\\\Windows\\\\Fonts\\\\NanumGothic.ttf'\n",
    "font_name = fm.FontProperties(fname=path).get_name()\n",
    "plt.rc('font', family=font_name)\n",
    "plt.figure(figsize=(20, 8))\n",
    "\n",
    "# First Subplota\n",
    "plt.subplot(1, 2, 1) #1행 2열. 중에 첫번째(1)\n",
    "plt.title('전국 인허가 물량 (2007 ~ 2023)', fontsize='20')\n",
    "\n",
    "down =  year_per.loc[:,'수도권_월']# 수도권\n",
    "top =  year_per.loc[:,'지방권_월'] # 지방권\n",
    "\n",
    "plt.bar(year_per.index, down, color='royalblue',hatch=\"//\",edgecolor='lavender')#수도권\n",
    "plt.bar(year_per.index, top, bottom=down, color='midnightblue', hatch=\"..\",edgecolor='white') #지방권\n",
    "\n",
    "y = down + top\n",
    "plt.ylim(0, y.max()*1.1)\n",
    "\n",
    "plt.gca().yaxis.set_major_formatter(mticker.FormatStrFormatter('%i')) #%i 는 int , %f 는 float, %.3f 백만호 : 0.001 백만호\n",
    "plt.grid(True, axis='y', color='gray', alpha=0.5, linestyle='-')\n",
    "plt.xticks(year_per.index)\n",
    "\n",
    "plt.legend(['수도권', '지방권'])\n",
    "# plt.show()\n",
    "\n",
    "# Second Subplot\n",
    "plt.subplot(1, 2, 2)\n",
    "# plt.figure(figsize=(8,8))\n",
    "plt.title('전국 분양 물량 (2016 ~ 2023)', fontsize='20')\n",
    "\n",
    "down =  df_presale.iloc[:,0]\n",
    "top =  df_presale.iloc[:,1]\n",
    "\n",
    "plt.bar(df_presale.index, down, color='royalblue',hatch=\"//\",edgecolor='lavender')#수도권\n",
    "plt.bar(df_presale.index, top, bottom=down, color='midnightblue', hatch=\"..\",edgecolor='white') #지방권\n",
    "\n",
    "y = down + top\n",
    "plt.ylim(0, y.max()*1.1)\n",
    "\n",
    "# 현재 축을 얻음 plt.gca(), 티커의 레이블링 포맷팅 함수 : set_major_formatter()\n",
    "plt.gca().yaxis.set_major_formatter(mticker.FormatStrFormatter('%i')) #%i 는 int , %f 는 float, %.3f 백만호 : 0.001 백만호\n",
    "plt.grid(True, axis='y', color='gray', alpha=0.5, linestyle='-')\n",
    "\n",
    "plt.legend(['수도권', '지방권'])\n",
    "\n",
    "\n",
    "# Display both subplots\n",
    "plt.subplots_adjust(wspace=0.2)\n",
    "\n",
    "plt.show()"
   ]
  },
  {
   "cell_type": "markdown",
   "metadata": {},
   "source": [
    "# matplotlib css color "
   ]
  },
  {
   "cell_type": "code",
   "execution_count": 65,
   "metadata": {
    "ExecuteTime": {
     "end_time": "2024-01-25T14:32:11.377463Z",
     "start_time": "2024-01-25T14:32:11.336189Z"
    },
    "scrolled": false
   },
   "outputs": [
    {
     "data": {
      "image/png": "[encoded data removed]",
      "text/plain": [
       "<IPython.core.display.Image object>"
      ]
     },
     "execution_count": 65,
     "metadata": {},
     "output_type": "execute_result"
    }
   ],
   "source": [
    "# 1. 코드블럭 안에 삽입하는 법 : Image(\"파일경로/파일명.확장자명\")\n",
    "# 2. ![이미지이름?](파일경로/파일명.확장자명)\n",
    "\n",
    "from IPython.display import Image\n",
    "Image(\"data/image.png\")"
   ]
  },
  {
   "cell_type": "markdown",
   "metadata": {},
   "source": [
    "# 인허가와 준공의 관계를 함께 표현"
   ]
  },
  {
   "cell_type": "markdown",
   "metadata": {},
   "source": [
    "## 1. 준공 데이터 수집"
   ]
  },
  {
   "cell_type": "code",
   "execution_count": 66,
   "metadata": {
    "ExecuteTime": {
     "end_time": "2024-01-25T14:32:11.385573Z",
     "start_time": "2024-01-25T14:32:11.377463Z"
    }
   },
   "outputs": [],
   "source": [
    "from pandas import json_normalize\n",
    "import pandas as pd\n",
    "import requests"
   ]
  },
  {
   "cell_type": "code",
   "execution_count": 121,
   "metadata": {
    "ExecuteTime": {
     "end_time": "2024-01-25T14:37:24.016541Z",
     "start_time": "2024-01-25T14:37:23.593022Z"
    }
   },
   "outputs": [
    {
     "data": {
      "text/html": [
       "<div>\n",
       "<style scoped>\n",
       "    .dataframe tbody tr th:only-of-type {\n",
       "        vertical-align: middle;\n",
       "    }\n",
       "\n",
       "    .dataframe tbody tr th {\n",
       "        vertical-align: top;\n",
       "    }\n",
       "\n",
       "    .dataframe thead th {\n",
       "        text-align: right;\n",
       "    }\n",
       "</style>\n",
       "<table border=\"1\" class=\"dataframe\">\n",
       "  <thead>\n",
       "    <tr style=\"text-align: right;\">\n",
       "      <th></th>\n",
       "      <th>TBL_NM</th>\n",
       "      <th>ITM_NM_ENG</th>\n",
       "      <th>ITM_ID</th>\n",
       "      <th>ORG_ID</th>\n",
       "      <th>UNIT_NM_ENG</th>\n",
       "      <th>C1_OBJ_NM</th>\n",
       "      <th>C2_OBJ_NM</th>\n",
       "      <th>C3_OBJ_NM</th>\n",
       "      <th>C2</th>\n",
       "      <th>C1_NM_ENG</th>\n",
       "      <th>...</th>\n",
       "      <th>C1_OBJ_NM_ENG</th>\n",
       "      <th>C2_OBJ_NM_ENG</th>\n",
       "      <th>C3_OBJ_NM_ENG</th>\n",
       "      <th>C3</th>\n",
       "      <th>DT</th>\n",
       "      <th>PRD_SE</th>\n",
       "      <th>C1</th>\n",
       "      <th>C1_NM</th>\n",
       "      <th>C2_NM</th>\n",
       "      <th>C3_NM</th>\n",
       "    </tr>\n",
       "  </thead>\n",
       "  <tbody>\n",
       "    <tr>\n",
       "      <th>0</th>\n",
       "      <td>주택건설 준공실적(월계)</td>\n",
       "      <td>Housing use investigation</td>\n",
       "      <td>13103766972T1</td>\n",
       "      <td>116</td>\n",
       "      <td>Apartment Unit</td>\n",
       "      <td>구  분</td>\n",
       "      <td>부문명</td>\n",
       "      <td>시도별</td>\n",
       "      <td>13102766972B.0001</td>\n",
       "      <td>Total</td>\n",
       "      <td>...</td>\n",
       "      <td>Category</td>\n",
       "      <td>Category</td>\n",
       "      <td>City/Province</td>\n",
       "      <td>13102766972C.0001</td>\n",
       "      <td>24061</td>\n",
       "      <td>M</td>\n",
       "      <td>13102766972A.0001</td>\n",
       "      <td>총계</td>\n",
       "      <td>총계</td>\n",
       "      <td>전국</td>\n",
       "    </tr>\n",
       "    <tr>\n",
       "      <th>1</th>\n",
       "      <td>주택건설 준공실적(월계)</td>\n",
       "      <td>Housing use investigation</td>\n",
       "      <td>13103766972T1</td>\n",
       "      <td>116</td>\n",
       "      <td>Apartment Unit</td>\n",
       "      <td>구  분</td>\n",
       "      <td>부문명</td>\n",
       "      <td>시도별</td>\n",
       "      <td>13102766972B.0001</td>\n",
       "      <td>Total</td>\n",
       "      <td>...</td>\n",
       "      <td>Category</td>\n",
       "      <td>Category</td>\n",
       "      <td>City/Province</td>\n",
       "      <td>13102766972C.0001</td>\n",
       "      <td>33428</td>\n",
       "      <td>M</td>\n",
       "      <td>13102766972A.0001</td>\n",
       "      <td>총계</td>\n",
       "      <td>총계</td>\n",
       "      <td>전국</td>\n",
       "    </tr>\n",
       "    <tr>\n",
       "      <th>2</th>\n",
       "      <td>주택건설 준공실적(월계)</td>\n",
       "      <td>Housing use investigation</td>\n",
       "      <td>13103766972T1</td>\n",
       "      <td>116</td>\n",
       "      <td>Apartment Unit</td>\n",
       "      <td>구  분</td>\n",
       "      <td>부문명</td>\n",
       "      <td>시도별</td>\n",
       "      <td>13102766972B.0001</td>\n",
       "      <td>Total</td>\n",
       "      <td>...</td>\n",
       "      <td>Category</td>\n",
       "      <td>Category</td>\n",
       "      <td>City/Province</td>\n",
       "      <td>13102766972C.0001</td>\n",
       "      <td>18968</td>\n",
       "      <td>M</td>\n",
       "      <td>13102766972A.0001</td>\n",
       "      <td>총계</td>\n",
       "      <td>총계</td>\n",
       "      <td>전국</td>\n",
       "    </tr>\n",
       "    <tr>\n",
       "      <th>3</th>\n",
       "      <td>주택건설 준공실적(월계)</td>\n",
       "      <td>Housing use investigation</td>\n",
       "      <td>13103766972T1</td>\n",
       "      <td>116</td>\n",
       "      <td>Apartment Unit</td>\n",
       "      <td>구  분</td>\n",
       "      <td>부문명</td>\n",
       "      <td>시도별</td>\n",
       "      <td>13102766972B.0001</td>\n",
       "      <td>Total</td>\n",
       "      <td>...</td>\n",
       "      <td>Category</td>\n",
       "      <td>Category</td>\n",
       "      <td>City/Province</td>\n",
       "      <td>13102766972C.0001</td>\n",
       "      <td>32676</td>\n",
       "      <td>M</td>\n",
       "      <td>13102766972A.0001</td>\n",
       "      <td>총계</td>\n",
       "      <td>총계</td>\n",
       "      <td>전국</td>\n",
       "    </tr>\n",
       "    <tr>\n",
       "      <th>4</th>\n",
       "      <td>주택건설 준공실적(월계)</td>\n",
       "      <td>Housing use investigation</td>\n",
       "      <td>13103766972T1</td>\n",
       "      <td>116</td>\n",
       "      <td>Apartment Unit</td>\n",
       "      <td>구  분</td>\n",
       "      <td>부문명</td>\n",
       "      <td>시도별</td>\n",
       "      <td>13102766972B.0001</td>\n",
       "      <td>Total</td>\n",
       "      <td>...</td>\n",
       "      <td>Category</td>\n",
       "      <td>Category</td>\n",
       "      <td>City/Province</td>\n",
       "      <td>13102766972C.0001</td>\n",
       "      <td>24130</td>\n",
       "      <td>M</td>\n",
       "      <td>13102766972A.0001</td>\n",
       "      <td>총계</td>\n",
       "      <td>총계</td>\n",
       "      <td>전국</td>\n",
       "    </tr>\n",
       "    <tr>\n",
       "      <th>...</th>\n",
       "      <td>...</td>\n",
       "      <td>...</td>\n",
       "      <td>...</td>\n",
       "      <td>...</td>\n",
       "      <td>...</td>\n",
       "      <td>...</td>\n",
       "      <td>...</td>\n",
       "      <td>...</td>\n",
       "      <td>...</td>\n",
       "      <td>...</td>\n",
       "      <td>...</td>\n",
       "      <td>...</td>\n",
       "      <td>...</td>\n",
       "      <td>...</td>\n",
       "      <td>...</td>\n",
       "      <td>...</td>\n",
       "      <td>...</td>\n",
       "      <td>...</td>\n",
       "      <td>...</td>\n",
       "      <td>...</td>\n",
       "      <td>...</td>\n",
       "    </tr>\n",
       "    <tr>\n",
       "      <th>156</th>\n",
       "      <td>주택건설 준공실적(월계)</td>\n",
       "      <td>Housing use investigation</td>\n",
       "      <td>13103766972T1</td>\n",
       "      <td>116</td>\n",
       "      <td>Apartment Unit</td>\n",
       "      <td>구  분</td>\n",
       "      <td>부문명</td>\n",
       "      <td>시도별</td>\n",
       "      <td>13102766972B.0001</td>\n",
       "      <td>Total</td>\n",
       "      <td>...</td>\n",
       "      <td>Category</td>\n",
       "      <td>Category</td>\n",
       "      <td>City/Province</td>\n",
       "      <td>13102766972C.0001</td>\n",
       "      <td>29393</td>\n",
       "      <td>M</td>\n",
       "      <td>13102766972A.0001</td>\n",
       "      <td>총계</td>\n",
       "      <td>총계</td>\n",
       "      <td>전국</td>\n",
       "    </tr>\n",
       "    <tr>\n",
       "      <th>157</th>\n",
       "      <td>주택건설 준공실적(월계)</td>\n",
       "      <td>Housing use investigation</td>\n",
       "      <td>13103766972T1</td>\n",
       "      <td>116</td>\n",
       "      <td>Apartment Unit</td>\n",
       "      <td>구  분</td>\n",
       "      <td>부문명</td>\n",
       "      <td>시도별</td>\n",
       "      <td>13102766972B.0001</td>\n",
       "      <td>Total</td>\n",
       "      <td>...</td>\n",
       "      <td>Category</td>\n",
       "      <td>Category</td>\n",
       "      <td>City/Province</td>\n",
       "      <td>13102766972C.0001</td>\n",
       "      <td>20441</td>\n",
       "      <td>M</td>\n",
       "      <td>13102766972A.0001</td>\n",
       "      <td>총계</td>\n",
       "      <td>총계</td>\n",
       "      <td>전국</td>\n",
       "    </tr>\n",
       "    <tr>\n",
       "      <th>158</th>\n",
       "      <td>주택건설 준공실적(월계)</td>\n",
       "      <td>Housing use investigation</td>\n",
       "      <td>13103766972T1</td>\n",
       "      <td>116</td>\n",
       "      <td>Apartment Unit</td>\n",
       "      <td>구  분</td>\n",
       "      <td>부문명</td>\n",
       "      <td>시도별</td>\n",
       "      <td>13102766972B.0001</td>\n",
       "      <td>Total</td>\n",
       "      <td>...</td>\n",
       "      <td>Category</td>\n",
       "      <td>Category</td>\n",
       "      <td>City/Province</td>\n",
       "      <td>13102766972C.0001</td>\n",
       "      <td>12358</td>\n",
       "      <td>M</td>\n",
       "      <td>13102766972A.0001</td>\n",
       "      <td>총계</td>\n",
       "      <td>총계</td>\n",
       "      <td>전국</td>\n",
       "    </tr>\n",
       "    <tr>\n",
       "      <th>159</th>\n",
       "      <td>주택건설 준공실적(월계)</td>\n",
       "      <td>Housing use investigation</td>\n",
       "      <td>13103766972T1</td>\n",
       "      <td>116</td>\n",
       "      <td>Apartment Unit</td>\n",
       "      <td>구  분</td>\n",
       "      <td>부문명</td>\n",
       "      <td>시도별</td>\n",
       "      <td>13102766972B.0001</td>\n",
       "      <td>Total</td>\n",
       "      <td>...</td>\n",
       "      <td>Category</td>\n",
       "      <td>Category</td>\n",
       "      <td>City/Province</td>\n",
       "      <td>13102766972C.0001</td>\n",
       "      <td>19543</td>\n",
       "      <td>M</td>\n",
       "      <td>13102766972A.0001</td>\n",
       "      <td>총계</td>\n",
       "      <td>총계</td>\n",
       "      <td>전국</td>\n",
       "    </tr>\n",
       "    <tr>\n",
       "      <th>160</th>\n",
       "      <td>주택건설 준공실적(월계)</td>\n",
       "      <td>Housing use investigation</td>\n",
       "      <td>13103766972T1</td>\n",
       "      <td>116</td>\n",
       "      <td>Apartment Unit</td>\n",
       "      <td>구  분</td>\n",
       "      <td>부문명</td>\n",
       "      <td>시도별</td>\n",
       "      <td>13102766972B.0001</td>\n",
       "      <td>Total</td>\n",
       "      <td>...</td>\n",
       "      <td>Category</td>\n",
       "      <td>Category</td>\n",
       "      <td>City/Province</td>\n",
       "      <td>13102766972C.0001</td>\n",
       "      <td>12015</td>\n",
       "      <td>M</td>\n",
       "      <td>13102766972A.0001</td>\n",
       "      <td>총계</td>\n",
       "      <td>총계</td>\n",
       "      <td>전국</td>\n",
       "    </tr>\n",
       "  </tbody>\n",
       "</table>\n",
       "<p>161 rows × 26 columns</p>\n",
       "</div>"
      ],
      "text/plain": [
       "            TBL_NM                 ITM_NM_ENG         ITM_ID ORG_ID  \\\n",
       "0    주택건설 준공실적(월계)  Housing use investigation  13103766972T1    116   \n",
       "1    주택건설 준공실적(월계)  Housing use investigation  13103766972T1    116   \n",
       "2    주택건설 준공실적(월계)  Housing use investigation  13103766972T1    116   \n",
       "3    주택건설 준공실적(월계)  Housing use investigation  13103766972T1    116   \n",
       "4    주택건설 준공실적(월계)  Housing use investigation  13103766972T1    116   \n",
       "..             ...                        ...            ...    ...   \n",
       "156  주택건설 준공실적(월계)  Housing use investigation  13103766972T1    116   \n",
       "157  주택건설 준공실적(월계)  Housing use investigation  13103766972T1    116   \n",
       "158  주택건설 준공실적(월계)  Housing use investigation  13103766972T1    116   \n",
       "159  주택건설 준공실적(월계)  Housing use investigation  13103766972T1    116   \n",
       "160  주택건설 준공실적(월계)  Housing use investigation  13103766972T1    116   \n",
       "\n",
       "        UNIT_NM_ENG C1_OBJ_NM C2_OBJ_NM C3_OBJ_NM                 C2  \\\n",
       "0    Apartment Unit      구  분       부문명       시도별  13102766972B.0001   \n",
       "1    Apartment Unit      구  분       부문명       시도별  13102766972B.0001   \n",
       "2    Apartment Unit      구  분       부문명       시도별  13102766972B.0001   \n",
       "3    Apartment Unit      구  분       부문명       시도별  13102766972B.0001   \n",
       "4    Apartment Unit      구  분       부문명       시도별  13102766972B.0001   \n",
       "..              ...       ...       ...       ...                ...   \n",
       "156  Apartment Unit      구  분       부문명       시도별  13102766972B.0001   \n",
       "157  Apartment Unit      구  분       부문명       시도별  13102766972B.0001   \n",
       "158  Apartment Unit      구  분       부문명       시도별  13102766972B.0001   \n",
       "159  Apartment Unit      구  분       부문명       시도별  13102766972B.0001   \n",
       "160  Apartment Unit      구  분       부문명       시도별  13102766972B.0001   \n",
       "\n",
       "    C1_NM_ENG  ... C1_OBJ_NM_ENG C2_OBJ_NM_ENG  C3_OBJ_NM_ENG  \\\n",
       "0       Total  ...      Category      Category  City/Province   \n",
       "1       Total  ...      Category      Category  City/Province   \n",
       "2       Total  ...      Category      Category  City/Province   \n",
       "3       Total  ...      Category      Category  City/Province   \n",
       "4       Total  ...      Category      Category  City/Province   \n",
       "..        ...  ...           ...           ...            ...   \n",
       "156     Total  ...      Category      Category  City/Province   \n",
       "157     Total  ...      Category      Category  City/Province   \n",
       "158     Total  ...      Category      Category  City/Province   \n",
       "159     Total  ...      Category      Category  City/Province   \n",
       "160     Total  ...      Category      Category  City/Province   \n",
       "\n",
       "                    C3     DT PRD_SE                 C1 C1_NM C2_NM C3_NM  \n",
       "0    13102766972C.0001  24061      M  13102766972A.0001    총계    총계    전국  \n",
       "1    13102766972C.0001  33428      M  13102766972A.0001    총계    총계    전국  \n",
       "2    13102766972C.0001  18968      M  13102766972A.0001    총계    총계    전국  \n",
       "3    13102766972C.0001  32676      M  13102766972A.0001    총계    총계    전국  \n",
       "4    13102766972C.0001  24130      M  13102766972A.0001    총계    총계    전국  \n",
       "..                 ...    ...    ...                ...   ...   ...   ...  \n",
       "156  13102766972C.0001  29393      M  13102766972A.0001    총계    총계    전국  \n",
       "157  13102766972C.0001  20441      M  13102766972A.0001    총계    총계    전국  \n",
       "158  13102766972C.0001  12358      M  13102766972A.0001    총계    총계    전국  \n",
       "159  13102766972C.0001  19543      M  13102766972A.0001    총계    총계    전국  \n",
       "160  13102766972C.0001  12015      M  13102766972A.0001    총계    총계    전국  \n",
       "\n",
       "[161 rows x 26 columns]"
      ]
     },
     "execution_count": 121,
     "metadata": {},
     "output_type": "execute_result"
    }
   ],
   "source": [
    "contents = requests.get(url)\n",
    "test_data =contents.json()\n",
    "df = pd.json_normalize(test_data)\n",
    "df"
   ]
  },
  {
   "cell_type": "code",
   "execution_count": 122,
   "metadata": {
    "ExecuteTime": {
     "end_time": "2024-01-25T14:37:24.600399Z",
     "start_time": "2024-01-25T14:37:24.583656Z"
    }
   },
   "outputs": [
    {
     "data": {
      "text/html": [
       "<div>\n",
       "<style scoped>\n",
       "    .dataframe tbody tr th:only-of-type {\n",
       "        vertical-align: middle;\n",
       "    }\n",
       "\n",
       "    .dataframe tbody tr th {\n",
       "        vertical-align: top;\n",
       "    }\n",
       "\n",
       "    .dataframe thead th {\n",
       "        text-align: right;\n",
       "    }\n",
       "</style>\n",
       "<table border=\"1\" class=\"dataframe\">\n",
       "  <thead>\n",
       "    <tr style=\"text-align: right;\">\n",
       "      <th>C1_NM</th>\n",
       "      <th>총계</th>\n",
       "    </tr>\n",
       "    <tr>\n",
       "      <th>PRD_DE</th>\n",
       "      <th></th>\n",
       "    </tr>\n",
       "  </thead>\n",
       "  <tbody>\n",
       "    <tr>\n",
       "      <th>201007</th>\n",
       "      <td>24061</td>\n",
       "    </tr>\n",
       "    <tr>\n",
       "      <th>201008</th>\n",
       "      <td>33428</td>\n",
       "    </tr>\n",
       "    <tr>\n",
       "      <th>201009</th>\n",
       "      <td>18968</td>\n",
       "    </tr>\n",
       "    <tr>\n",
       "      <th>201010</th>\n",
       "      <td>32676</td>\n",
       "    </tr>\n",
       "    <tr>\n",
       "      <th>201011</th>\n",
       "      <td>24130</td>\n",
       "    </tr>\n",
       "    <tr>\n",
       "      <th>...</th>\n",
       "      <td>...</td>\n",
       "    </tr>\n",
       "    <tr>\n",
       "      <th>202307</th>\n",
       "      <td>29393</td>\n",
       "    </tr>\n",
       "    <tr>\n",
       "      <th>202308</th>\n",
       "      <td>20441</td>\n",
       "    </tr>\n",
       "    <tr>\n",
       "      <th>202309</th>\n",
       "      <td>12358</td>\n",
       "    </tr>\n",
       "    <tr>\n",
       "      <th>202310</th>\n",
       "      <td>19543</td>\n",
       "    </tr>\n",
       "    <tr>\n",
       "      <th>202311</th>\n",
       "      <td>12015</td>\n",
       "    </tr>\n",
       "  </tbody>\n",
       "</table>\n",
       "<p>161 rows × 1 columns</p>\n",
       "</div>"
      ],
      "text/plain": [
       "C1_NM      총계\n",
       "PRD_DE       \n",
       "201007  24061\n",
       "201008  33428\n",
       "201009  18968\n",
       "201010  32676\n",
       "201011  24130\n",
       "...       ...\n",
       "202307  29393\n",
       "202308  20441\n",
       "202309  12358\n",
       "202310  19543\n",
       "202311  12015\n",
       "\n",
       "[161 rows x 1 columns]"
      ]
     },
     "execution_count": 122,
     "metadata": {},
     "output_type": "execute_result"
    }
   ],
   "source": [
    "df = df[['PRD_DE', 'C1_NM', 'DT']]\n",
    "# df = df.pivot(\"PRD_DE\", \"C1_NM\", \"DT\")\n",
    "df = df.pivot(index=\"PRD_DE\", columns= \"C1_NM\", values=\"DT\")\n",
    "\n",
    "df = df.astype(int)\n",
    "df"
   ]
  },
  {
   "cell_type": "code",
   "execution_count": 123,
   "metadata": {
    "ExecuteTime": {
     "end_time": "2024-01-25T14:37:25.429057Z",
     "start_time": "2024-01-25T14:37:25.421044Z"
    }
   },
   "outputs": [],
   "source": [
    "df = df.rename(columns={\"총계\": \"전국 준공(호)\"})"
   ]
  },
  {
   "cell_type": "code",
   "execution_count": 124,
   "metadata": {
    "ExecuteTime": {
     "end_time": "2024-01-25T14:37:26.158243Z",
     "start_time": "2024-01-25T14:37:26.141893Z"
    }
   },
   "outputs": [
    {
     "data": {
      "text/plain": [
       "Index(['201007', '201008', '201009', '201010', '201011', '201012', '201101',\n",
       "       '201102', '201103', '201104',\n",
       "       ...\n",
       "       '202302', '202303', '202304', '202305', '202306', '202307', '202308',\n",
       "       '202309', '202310', '202311'],\n",
       "      dtype='object', name='PRD_DE', length=161)"
      ]
     },
     "execution_count": 124,
     "metadata": {},
     "output_type": "execute_result"
    }
   ],
   "source": [
    "df.index"
   ]
  },
  {
   "cell_type": "code",
   "execution_count": 125,
   "metadata": {
    "ExecuteTime": {
     "end_time": "2024-01-25T14:37:26.645095Z",
     "start_time": "2024-01-25T14:37:26.621889Z"
    }
   },
   "outputs": [
    {
     "data": {
      "text/html": [
       "<div>\n",
       "<style scoped>\n",
       "    .dataframe tbody tr th:only-of-type {\n",
       "        vertical-align: middle;\n",
       "    }\n",
       "\n",
       "    .dataframe tbody tr th {\n",
       "        vertical-align: top;\n",
       "    }\n",
       "\n",
       "    .dataframe thead th {\n",
       "        text-align: right;\n",
       "    }\n",
       "</style>\n",
       "<table border=\"1\" class=\"dataframe\">\n",
       "  <thead>\n",
       "    <tr style=\"text-align: right;\">\n",
       "      <th>C1_NM</th>\n",
       "      <th>전국 준공(호)</th>\n",
       "    </tr>\n",
       "    <tr>\n",
       "      <th>PRD_DE</th>\n",
       "      <th></th>\n",
       "    </tr>\n",
       "  </thead>\n",
       "  <tbody>\n",
       "    <tr>\n",
       "      <th>201007</th>\n",
       "      <td>24061</td>\n",
       "    </tr>\n",
       "    <tr>\n",
       "      <th>201008</th>\n",
       "      <td>33428</td>\n",
       "    </tr>\n",
       "    <tr>\n",
       "      <th>201009</th>\n",
       "      <td>18968</td>\n",
       "    </tr>\n",
       "    <tr>\n",
       "      <th>201010</th>\n",
       "      <td>32676</td>\n",
       "    </tr>\n",
       "    <tr>\n",
       "      <th>201011</th>\n",
       "      <td>24130</td>\n",
       "    </tr>\n",
       "    <tr>\n",
       "      <th>...</th>\n",
       "      <td>...</td>\n",
       "    </tr>\n",
       "    <tr>\n",
       "      <th>202307</th>\n",
       "      <td>29393</td>\n",
       "    </tr>\n",
       "    <tr>\n",
       "      <th>202308</th>\n",
       "      <td>20441</td>\n",
       "    </tr>\n",
       "    <tr>\n",
       "      <th>202309</th>\n",
       "      <td>12358</td>\n",
       "    </tr>\n",
       "    <tr>\n",
       "      <th>202310</th>\n",
       "      <td>19543</td>\n",
       "    </tr>\n",
       "    <tr>\n",
       "      <th>202311</th>\n",
       "      <td>12015</td>\n",
       "    </tr>\n",
       "  </tbody>\n",
       "</table>\n",
       "<p>161 rows × 1 columns</p>\n",
       "</div>"
      ],
      "text/plain": [
       "C1_NM   전국 준공(호)\n",
       "PRD_DE          \n",
       "201007     24061\n",
       "201008     33428\n",
       "201009     18968\n",
       "201010     32676\n",
       "201011     24130\n",
       "...          ...\n",
       "202307     29393\n",
       "202308     20441\n",
       "202309     12358\n",
       "202310     19543\n",
       "202311     12015\n",
       "\n",
       "[161 rows x 1 columns]"
      ]
     },
     "execution_count": 125,
     "metadata": {},
     "output_type": "execute_result"
    }
   ],
   "source": [
    "df"
   ]
  },
  {
   "cell_type": "code",
   "execution_count": 126,
   "metadata": {
    "ExecuteTime": {
     "end_time": "2024-01-25T14:37:27.117733Z",
     "start_time": "2024-01-25T14:37:27.101322Z"
    }
   },
   "outputs": [],
   "source": [
    "df['연'] = df.index.str[:4]\n",
    "df['월'] = df.index.str[-2:]    \n",
    "df['시점']= df['연'] + \"-\" + df['월']\n",
    "\n",
    "df.index = df['시점']\n",
    "df['시점'] = pd.to_datetime(df['시점'])    \n",
    "df = df.groupby(['연']).sum(['총계'])"
   ]
  },
  {
   "cell_type": "code",
   "execution_count": 127,
   "metadata": {
    "ExecuteTime": {
     "end_time": "2024-01-25T14:37:27.785126Z",
     "start_time": "2024-01-25T14:37:27.761055Z"
    }
   },
   "outputs": [
    {
     "data": {
      "text/plain": [
       "Index(['2010', '2011', '2012', '2013', '2014', '2015', '2016', '2017', '2018',\n",
       "       '2019', '2020', '2021', '2022', '2023'],\n",
       "      dtype='object', name='연')"
      ]
     },
     "execution_count": 127,
     "metadata": {},
     "output_type": "execute_result"
    }
   ],
   "source": [
    "df.index"
   ]
  },
  {
   "cell_type": "code",
   "execution_count": 128,
   "metadata": {
    "ExecuteTime": {
     "end_time": "2024-01-25T14:37:28.353657Z",
     "start_time": "2024-01-25T14:37:28.345669Z"
    }
   },
   "outputs": [],
   "source": [
    "df = df.drop(index='2010')"
   ]
  },
  {
   "cell_type": "code",
   "execution_count": 129,
   "metadata": {
    "ExecuteTime": {
     "end_time": "2024-01-25T14:37:28.764458Z",
     "start_time": "2024-01-25T14:37:28.748904Z"
    }
   },
   "outputs": [],
   "source": [
    "df_jungong = df"
   ]
  },
  {
   "cell_type": "code",
   "execution_count": 130,
   "metadata": {
    "ExecuteTime": {
     "end_time": "2024-01-25T14:37:30.025205Z",
     "start_time": "2024-01-25T14:37:29.787119Z"
    }
   },
   "outputs": [
    {
     "data": {
      "image/png": "[encoded data removed]",
      "text/plain": [
       "<Figure size 1440x576 with 2 Axes>"
      ]
     },
     "metadata": {
      "needs_background": "light"
     },
     "output_type": "display_data"
    }
   ],
   "source": [
    "import matplotlib.ticker as mticker\n",
    "# 한글폰트 설정\n",
    "path = 'C:\\\\Windows\\\\Fonts\\\\NanumGothic.ttf'\n",
    "font_name = fm.FontProperties(fname=path).get_name()\n",
    "plt.rc('font', family=font_name)\n",
    "plt.figure(figsize=(20, 8))\n",
    "\n",
    "# First Subplota\n",
    "plt.subplot(1, 2, 1) #1행 2열. 중에 첫번째(1)\n",
    "plt.title('전국 인허가 물량 (2011 ~ 2023)', fontsize='20')\n",
    "\n",
    "down =  year_per.loc[:,'수도권_월']# 수도권\n",
    "top =  year_per.loc[:,'지방권_월'] # 지방권\n",
    "y_전국준공물량 = df_jungong['전국 준공(호)'].to_numpy()\n",
    "\n",
    "plt.bar(year_per.index, down, color='royalblue',hatch=\"//\",edgecolor='lavender')#수도권\n",
    "plt.bar(year_per.index, top, bottom=down, color='midnightblue', hatch=\"..\",edgecolor='white') #지방권\n",
    "plt.plot(year_per.index.to_numpy(), y_전국준공물량, color='gray', marker='o', markerfacecolor='w', linewidth=4, markersize=10, label='전국준공물량(좌, p)')\n",
    "\n",
    "y = down + top\n",
    "plt.ylim(0, y.max()*1.1)\n",
    "\n",
    "plt.gca().yaxis.set_major_formatter(mticker.FormatStrFormatter('%i')) #%i 는 int , %f 는 float, %.3f 백만호 : 0.001 백만호\n",
    "plt.grid(True, axis='y', color='gray', alpha=0.5, linestyle='-')\n",
    "plt.xticks(year_per.index)\n",
    "\n",
    "plt.legend(['전국 준공(호)', '비수도권 인허가(호)', '수도권 인허가(호)'])\n",
    "# plt.show()\n",
    "\n",
    "\n",
    "# Second Subplot\n",
    "plt.subplot(1, 2, 2)\n",
    "# plt.figure(figsize=(8,8))\n",
    "plt.title('전국 분양 물량 (2016 ~ 2023)', fontsize='20')\n",
    "\n",
    "down =  df_presale.iloc[:,0]\n",
    "top =  df_presale.iloc[:,1]\n",
    "\n",
    "plt.bar(df_presale.index, down, color='royalblue',hatch=\"//\",edgecolor='lavender')#수도권\n",
    "plt.bar(df_presale.index, top, bottom=down, color='midnightblue', hatch=\"..\",edgecolor='white') #지방권\n",
    "\n",
    "y = down + top\n",
    "plt.ylim(0, y.max()*1.1)\n",
    "\n",
    "# 현재 축을 얻음 plt.gca(), 티커의 레이블링 포맷팅 함수 : set_major_formatter()\n",
    "plt.gca().yaxis.set_major_formatter(mticker.FormatStrFormatter('%i')) #%i 는 int , %f 는 float, %.3f 백만호 : 0.001 백만호\n",
    "plt.grid(True, axis='y', color='gray', alpha=0.5, linestyle='-')\n",
    "\n",
    "\n",
    "plt.legend(['수도권', '지방권'])\n",
    "\n",
    "\n",
    "# Display both subplots\n",
    "plt.subplots_adjust(wspace=0.2)\n",
    "\n",
    "plt.show()"
   ]
  },
  {
   "cell_type": "code",
   "execution_count": null,
   "metadata": {},
   "outputs": [],
   "source": []
  }
 ],
 "metadata": {
  "kernelspec": {
   "display_name": "Python 3",
   "language": "python",
   "name": "python3"
  },
  "language_info": {
   "codemirror_mode": {
    "name": "ipython",
    "version": 3
   },
   "file_extension": ".py",
   "mimetype": "text/x-python",
   "name": "python",
   "nbconvert_exporter": "python",
   "pygments_lexer": "ipython3",
   "version": "3.8.5"
  }
 },
 "nbformat": 4,
 "nbformat_minor": 4
}
