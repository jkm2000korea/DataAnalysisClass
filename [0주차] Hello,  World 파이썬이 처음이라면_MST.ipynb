{
 "cells": [
  {
   "cell_type": "markdown",
   "metadata": {},
   "source": [
    "# <span style=\"color:royalblue\"> [0주차] Hello, World 파이썬이 처음이라면 </span> <img src=\"./data/logo.png\" style=\"width: 120px;\" align=\"right\">\n",
    "# 이건 꼭 알아야 해! 파이썬 기초 문법\n",
    "\n",
    "--- "
   ]
  },
  {
   "cell_type": "markdown",
   "metadata": {},
   "source": [
    "<div style=\"text-align: right\"> Final Edition : 2024.2.20<br>\n",
    "    copyrightⓒ 2022 All rights reserved by Data Lover Pablo </div>"
   ]
  },
  {
   "cell_type": "code",
   "execution_count": 1,
   "metadata": {
    "ExecuteTime": {
     "end_time": "2024-02-20T14:56:29.234904Z",
     "start_time": "2024-02-20T14:56:29.226746Z"
    }
   },
   "outputs": [],
   "source": [
    "# 안녕하세요 \"파이썬이 처음이라면\" 부담 없이 따라가 봐요"
   ]
  },
  {
   "cell_type": "code",
   "execution_count": 2,
   "metadata": {
    "ExecuteTime": {
     "end_time": "2024-02-20T14:56:29.426052Z",
     "start_time": "2024-02-20T14:56:29.397517Z"
    }
   },
   "outputs": [
    {
     "data": {
      "text/plain": [
       "'Hello, world!'"
      ]
     },
     "execution_count": 2,
     "metadata": {},
     "output_type": "execute_result"
    }
   ],
   "source": [
    "# 문자열을 입력할 때는 ''작은 따옴표 또는 \"\"큰 따옴표를 써요\n",
    "'Hello, world!'"
   ]
  },
  {
   "cell_type": "code",
   "execution_count": 3,
   "metadata": {
    "ExecuteTime": {
     "end_time": "2024-02-20T14:56:29.575641Z",
     "start_time": "2024-02-20T14:56:29.560640Z"
    }
   },
   "outputs": [
    {
     "data": {
      "text/plain": [
       "'Pythonisfun!'"
      ]
     },
     "execution_count": 3,
     "metadata": {},
     "output_type": "execute_result"
    }
   ],
   "source": [
    "# 글자들 간에도 연산이 가능해요\n",
    "'Python'+'is'+'fun!'"
   ]
  },
  {
   "cell_type": "code",
   "execution_count": 4,
   "metadata": {
    "ExecuteTime": {
     "end_time": "2024-02-20T14:56:29.742416Z",
     "start_time": "2024-02-20T14:56:29.726897Z"
    }
   },
   "outputs": [
    {
     "data": {
      "text/plain": [
       "'PythonPythonPython'"
      ]
     },
     "execution_count": 4,
     "metadata": {},
     "output_type": "execute_result"
    }
   ],
   "source": [
    "'Python'*3"
   ]
  },
  {
   "cell_type": "markdown",
   "metadata": {},
   "source": [
    "# 연습문제(Exercise) - Just Do It Now ! "
   ]
  },
  {
   "cell_type": "code",
   "execution_count": 5,
   "metadata": {
    "ExecuteTime": {
     "end_time": "2024-02-20T14:56:30.142559Z",
     "start_time": "2024-02-20T14:56:30.127335Z"
    }
   },
   "outputs": [],
   "source": [
    "# 실무 수업 is fun 을 입력해보세요"
   ]
  },
  {
   "cell_type": "code",
   "execution_count": 6,
   "metadata": {
    "ExecuteTime": {
     "end_time": "2024-02-20T14:56:30.343133Z",
     "start_time": "2024-02-20T14:56:30.326781Z"
    }
   },
   "outputs": [
    {
     "data": {
      "text/plain": [
       "'실무 수업 is fun'"
      ]
     },
     "execution_count": 6,
     "metadata": {},
     "output_type": "execute_result"
    }
   ],
   "source": [
    "'실무 수업 ' + 'is ' + 'fun'"
   ]
  },
  {
   "cell_type": "code",
   "execution_count": 7,
   "metadata": {
    "ExecuteTime": {
     "end_time": "2024-02-20T14:56:30.542169Z",
     "start_time": "2024-02-20T14:56:30.526658Z"
    }
   },
   "outputs": [
    {
     "data": {
      "text/plain": [
       "'실무 수업 너무 기대되요. 실무 수업 너무 기대되요. 실무 수업 너무 기대되요. '"
      ]
     },
     "execution_count": 7,
     "metadata": {},
     "output_type": "execute_result"
    }
   ],
   "source": [
    "'실무 수업 너무 기대되요. '*3"
   ]
  },
  {
   "cell_type": "code",
   "execution_count": 8,
   "metadata": {
    "ExecuteTime": {
     "end_time": "2024-02-20T14:56:31.202662Z",
     "start_time": "2024-02-20T14:56:31.188504Z"
    }
   },
   "outputs": [],
   "source": [
    "# print 출력 함수에 대해 알아 봅니다."
   ]
  },
  {
   "cell_type": "code",
   "execution_count": 9,
   "metadata": {
    "ExecuteTime": {
     "end_time": "2024-02-20T14:56:32.306008Z",
     "start_time": "2024-02-20T14:56:32.286165Z"
    }
   },
   "outputs": [
    {
     "name": "stdout",
     "output_type": "stream",
     "text": [
      "실무 수업 \n",
      "너무 기대되요\n"
     ]
    }
   ],
   "source": [
    "print('실무 수업 \\n너무 기대되요')"
   ]
  },
  {
   "cell_type": "code",
   "execution_count": 10,
   "metadata": {
    "ExecuteTime": {
     "end_time": "2024-02-20T14:56:32.807820Z",
     "start_time": "2024-02-20T14:56:32.795185Z"
    }
   },
   "outputs": [],
   "source": [
    "멘토 = 'Pablo'\n",
    "멘티분들 = ['장영실', '이순신']\n",
    "코디 = 'Hwang'"
   ]
  },
  {
   "cell_type": "code",
   "execution_count": 11,
   "metadata": {
    "ExecuteTime": {
     "end_time": "2024-02-20T14:56:34.641223Z",
     "start_time": "2024-02-20T14:56:34.624950Z"
    }
   },
   "outputs": [
    {
     "name": "stdout",
     "output_type": "stream",
     "text": [
      "장영실\n",
      "이순신\n"
     ]
    }
   ],
   "source": [
    "# for 반복문 기본\n",
    "for i in 멘티분들:\n",
    "    print(i)"
   ]
  },
  {
   "cell_type": "code",
   "execution_count": 12,
   "metadata": {
    "ExecuteTime": {
     "end_time": "2024-02-20T14:56:35.240604Z",
     "start_time": "2024-02-20T14:56:35.224190Z"
    }
   },
   "outputs": [],
   "source": [
    "# List 내 for 문\n",
    "멘티 = [x+'님' for x in 멘티분들]"
   ]
  },
  {
   "cell_type": "code",
   "execution_count": 13,
   "metadata": {
    "ExecuteTime": {
     "end_time": "2024-02-20T14:56:35.674234Z",
     "start_time": "2024-02-20T14:56:35.659773Z"
    }
   },
   "outputs": [
    {
     "data": {
      "text/plain": [
       "['장영실님', '이순신님']"
      ]
     },
     "execution_count": 13,
     "metadata": {},
     "output_type": "execute_result"
    }
   ],
   "source": [
    "멘티"
   ]
  },
  {
   "cell_type": "code",
   "execution_count": 14,
   "metadata": {
    "ExecuteTime": {
     "end_time": "2024-02-20T14:56:36.317558Z",
     "start_time": "2024-02-20T14:56:36.303420Z"
    }
   },
   "outputs": [
    {
     "name": "stdout",
     "output_type": "stream",
     "text": [
      "실무수업 멘토는 Pablo,멘티분은 ['장영실님', '이순신님'], 코디분은 Hwang 입니다.\n"
     ]
    }
   ],
   "source": [
    "print('실무수업 멘토는 {},멘티분은 {}, 코디분은 {} 입니다.'.format(멘토, [x+'님' for x in 멘티분들] , 코디))"
   ]
  },
  {
   "cell_type": "code",
   "execution_count": 15,
   "metadata": {
    "ExecuteTime": {
     "end_time": "2024-02-20T14:56:37.975850Z",
     "start_time": "2024-02-20T14:56:37.969419Z"
    }
   },
   "outputs": [],
   "source": [
    "# 숫자를 입력하고 형식에 맞게 출력해봐요"
   ]
  },
  {
   "cell_type": "code",
   "execution_count": 16,
   "metadata": {
    "ExecuteTime": {
     "end_time": "2023-05-24T11:46:56.349638Z",
     "start_time": "2023-05-24T11:46:56.333569Z"
    }
   },
   "outputs": [],
   "source": [
    "i = 1\n",
    "f = 3.145\n",
    "s = 99"
   ]
  },
  {
   "cell_type": "code",
   "execution_count": 17,
   "metadata": {
    "ExecuteTime": {
     "end_time": "2023-05-24T11:46:56.777472Z",
     "start_time": "2023-05-24T11:46:56.745467Z"
    }
   },
   "outputs": [
    {
     "name": "stdout",
     "output_type": "stream",
     "text": [
      "i: 1, f: 3.145000, s: 99\n",
      "i:         1, f:  3.15, s:      99\n",
      "i: 000000001, f: 03.15, s:      99 \n",
      "\n",
      "f: 1, i: 3.145, s: 99\n",
      "f: 3.145, i: 1, s: 99\n",
      "f: 3.145, i: 1, s: 99\n"
     ]
    }
   ],
   "source": [
    "# %뒤에 d는 10진수, f는 실수, s는 문자(string) 을 의미합니다.\n",
    "print('i: %d, f: %f, s: %s' % (i, f, s))\n",
    "\n",
    "# %뒤에 있는 숫자는 \"총 자릿수\"를 의미합니다. 소수점 뒤의 숫자는 소수점 이하 자릿수를 말합니다.\n",
    "print('i: %9d, f: %5.2f, s: %7s' % (i, f, s))\n",
    "print('i: %09d, f: %05.2f, s: %7s' % (i, f, s),'\\n')\n",
    "\n",
    "# Python3에서는 format 함수를 사용합니다.\n",
    "print('f: {}, i: {}, s: {}'.format(i, f, s))\n",
    "print('f: {1}, i: {0}, s: {2}'.format(i, f, s))\n",
    "print('f: {ff}, i: {ii}, s: {ss}'.format(ii=i, ff=f, ss=s))"
   ]
  },
  {
   "cell_type": "code",
   "execution_count": 18,
   "metadata": {
    "ExecuteTime": {
     "end_time": "2023-05-24T11:46:57.236508Z",
     "start_time": "2023-05-24T11:46:57.226663Z"
    }
   },
   "outputs": [],
   "source": [
    "# 문자열에 대한 인덱싱"
   ]
  },
  {
   "cell_type": "code",
   "execution_count": 19,
   "metadata": {
    "ExecuteTime": {
     "end_time": "2023-05-24T11:46:57.649798Z",
     "start_time": "2023-05-24T11:46:57.627574Z"
    }
   },
   "outputs": [
    {
     "data": {
      "text/plain": [
       "'P'"
      ]
     },
     "execution_count": 19,
     "metadata": {},
     "output_type": "execute_result"
    }
   ],
   "source": [
    "word = 'Python'\n",
    "\n",
    "# 가장 첫번째 요소를 선택할 때는 1이 아닌 0을 씁니다.\n",
    "word[0]"
   ]
  },
  {
   "cell_type": "code",
   "execution_count": 20,
   "metadata": {
    "ExecuteTime": {
     "end_time": "2023-05-24T11:46:58.058936Z",
     "start_time": "2023-05-24T11:46:58.042767Z"
    }
   },
   "outputs": [
    {
     "data": {
      "text/plain": [
       "'n'"
      ]
     },
     "execution_count": 20,
     "metadata": {},
     "output_type": "execute_result"
    }
   ],
   "source": [
    "# 맨 뒤에 있는 요소를 선택할 때는 -1을 씁니다.\n",
    "word[-1]"
   ]
  },
  {
   "cell_type": "code",
   "execution_count": 21,
   "metadata": {
    "ExecuteTime": {
     "end_time": "2023-05-24T11:46:58.473007Z",
     "start_time": "2023-05-24T11:46:58.444032Z"
    }
   },
   "outputs": [
    {
     "data": {
      "text/plain": [
       "'Py'"
      ]
     },
     "execution_count": 21,
     "metadata": {},
     "output_type": "execute_result"
    }
   ],
   "source": [
    "# 0번째 부터 2보다 하나 앞에 있는 수(2-1)까지 입니다 즉 0과 1을 의미합니다.\n",
    "word[0:2]"
   ]
  },
  {
   "cell_type": "code",
   "execution_count": 22,
   "metadata": {
    "ExecuteTime": {
     "end_time": "2023-05-24T11:46:58.837226Z",
     "start_time": "2023-05-24T11:46:58.821191Z"
    }
   },
   "outputs": [
    {
     "data": {
      "text/plain": [
       "'Py'"
      ]
     },
     "execution_count": 22,
     "metadata": {},
     "output_type": "execute_result"
    }
   ],
   "source": [
    "# 0은 생략할 수도 있습니다.\n",
    "word[:2]"
   ]
  },
  {
   "cell_type": "code",
   "execution_count": 23,
   "metadata": {
    "ExecuteTime": {
     "end_time": "2023-05-24T11:46:59.274291Z",
     "start_time": "2023-05-24T11:46:59.243341Z"
    }
   },
   "outputs": [
    {
     "data": {
      "text/plain": [
       "'hon'"
      ]
     },
     "execution_count": 23,
     "metadata": {},
     "output_type": "execute_result"
    }
   ],
   "source": [
    "# 뒤에 어디까지를 생략하면 끝까지 선택됩니다.\n",
    "word[3:]"
   ]
  },
  {
   "cell_type": "code",
   "execution_count": 24,
   "metadata": {
    "ExecuteTime": {
     "end_time": "2023-05-24T11:47:00.618974Z",
     "start_time": "2023-05-24T11:47:00.532430Z"
    },
    "scrolled": true
   },
   "outputs": [
    {
     "ename": "TypeError",
     "evalue": "'int' object is not subscriptable",
     "output_type": "error",
     "traceback": [
      "\u001b[1;31m---------------------------------------------------------------------------\u001b[0m",
      "\u001b[1;31mTypeError\u001b[0m                                 Traceback (most recent call last)",
      "\u001b[1;32m<ipython-input-24-d3a6012f00b7>\u001b[0m in \u001b[0;36m<module>\u001b[1;34m\u001b[0m\n\u001b[0;32m      1\u001b[0m \u001b[0mword\u001b[0m\u001b[1;33m=\u001b[0m\u001b[1;36m21345\u001b[0m\u001b[1;33m\u001b[0m\u001b[1;33m\u001b[0m\u001b[0m\n\u001b[0;32m      2\u001b[0m \u001b[0mword\u001b[0m\u001b[1;33m=\u001b[0m\u001b[1;36m12345\u001b[0m\u001b[1;33m\u001b[0m\u001b[1;33m\u001b[0m\u001b[0m\n\u001b[1;32m----> 3\u001b[1;33m \u001b[0mword\u001b[0m\u001b[1;33m[\u001b[0m\u001b[1;33m:\u001b[0m\u001b[1;33m]\u001b[0m\u001b[1;33m\u001b[0m\u001b[1;33m\u001b[0m\u001b[0m\n\u001b[0m",
      "\u001b[1;31mTypeError\u001b[0m: 'int' object is not subscriptable"
     ]
    }
   ],
   "source": [
    "word=21345\n",
    "word=12345\n",
    "word[:]"
   ]
  },
  {
   "cell_type": "code",
   "execution_count": 25,
   "metadata": {
    "ExecuteTime": {
     "end_time": "2023-05-24T11:47:01.092170Z",
     "start_time": "2023-05-24T11:47:01.076946Z"
    }
   },
   "outputs": [],
   "source": [
    "# 위와 같이 나온 이유는 숫자는 하나의 값이기 때문에 인덱싱이 불가능합니다."
   ]
  },
  {
   "cell_type": "code",
   "execution_count": 26,
   "metadata": {
    "ExecuteTime": {
     "end_time": "2023-05-24T11:47:01.568779Z",
     "start_time": "2023-05-24T11:47:01.553313Z"
    }
   },
   "outputs": [
    {
     "data": {
      "text/plain": [
       "'12345'"
      ]
     },
     "execution_count": 26,
     "metadata": {},
     "output_type": "execute_result"
    }
   ],
   "source": [
    "# 문자로 인식해보겠습니다.\n",
    "word=\"12345\"\n",
    "word[:]"
   ]
  },
  {
   "cell_type": "code",
   "execution_count": 27,
   "metadata": {
    "ExecuteTime": {
     "end_time": "2023-05-24T11:47:01.994262Z",
     "start_time": "2023-05-24T11:47:01.962722Z"
    }
   },
   "outputs": [
    {
     "data": {
      "text/plain": [
       "'54321'"
      ]
     },
     "execution_count": 27,
     "metadata": {},
     "output_type": "execute_result"
    }
   ],
   "source": [
    "word[::-1]"
   ]
  },
  {
   "cell_type": "code",
   "execution_count": 28,
   "metadata": {
    "ExecuteTime": {
     "end_time": "2023-05-24T11:47:02.343123Z",
     "start_time": "2023-05-24T11:47:02.327674Z"
    }
   },
   "outputs": [
    {
     "data": {
      "text/plain": [
       "'135'"
      ]
     },
     "execution_count": 28,
     "metadata": {},
     "output_type": "execute_result"
    }
   ],
   "source": [
    "word[::2]"
   ]
  },
  {
   "cell_type": "code",
   "execution_count": 29,
   "metadata": {
    "ExecuteTime": {
     "end_time": "2023-05-24T11:47:02.705376Z",
     "start_time": "2023-05-24T11:47:02.690613Z"
    }
   },
   "outputs": [
    {
     "data": {
      "text/plain": [
       "True"
      ]
     },
     "execution_count": 29,
     "metadata": {},
     "output_type": "execute_result"
    }
   ],
   "source": [
    "word='Python'\n",
    "'o'in word"
   ]
  },
  {
   "cell_type": "code",
   "execution_count": 30,
   "metadata": {
    "ExecuteTime": {
     "end_time": "2023-05-24T11:47:03.082899Z",
     "start_time": "2023-05-24T11:47:03.051322Z"
    }
   },
   "outputs": [
    {
     "data": {
      "text/plain": [
       "False"
      ]
     },
     "execution_count": 30,
     "metadata": {},
     "output_type": "execute_result"
    }
   ],
   "source": [
    "'x' in word"
   ]
  },
  {
   "cell_type": "code",
   "execution_count": 31,
   "metadata": {
    "ExecuteTime": {
     "end_time": "2023-05-24T11:47:03.429523Z",
     "start_time": "2023-05-24T11:47:03.413921Z"
    }
   },
   "outputs": [
    {
     "data": {
      "text/plain": [
       "True"
      ]
     },
     "execution_count": 31,
     "metadata": {},
     "output_type": "execute_result"
    }
   ],
   "source": [
    "'on' in word"
   ]
  },
  {
   "cell_type": "code",
   "execution_count": 32,
   "metadata": {
    "ExecuteTime": {
     "end_time": "2023-05-24T11:47:03.791141Z",
     "start_time": "2023-05-24T11:47:03.759847Z"
    }
   },
   "outputs": [
    {
     "data": {
      "text/plain": [
       "False"
      ]
     },
     "execution_count": 32,
     "metadata": {},
     "output_type": "execute_result"
    }
   ],
   "source": [
    "'p' in word"
   ]
  },
  {
   "cell_type": "code",
   "execution_count": 33,
   "metadata": {
    "ExecuteTime": {
     "end_time": "2023-05-24T11:47:04.090587Z",
     "start_time": "2023-05-24T11:47:04.074986Z"
    }
   },
   "outputs": [
    {
     "data": {
      "text/plain": [
       "True"
      ]
     },
     "execution_count": 33,
     "metadata": {},
     "output_type": "execute_result"
    }
   ],
   "source": [
    "'P' in word"
   ]
  },
  {
   "cell_type": "code",
   "execution_count": 34,
   "metadata": {
    "ExecuteTime": {
     "end_time": "2023-05-24T11:47:04.358395Z",
     "start_time": "2023-05-24T11:47:04.342741Z"
    }
   },
   "outputs": [
    {
     "data": {
      "text/plain": [
       "6"
      ]
     },
     "execution_count": 34,
     "metadata": {},
     "output_type": "execute_result"
    }
   ],
   "source": [
    "len(word)"
   ]
  },
  {
   "cell_type": "code",
   "execution_count": 35,
   "metadata": {
    "ExecuteTime": {
     "end_time": "2023-05-24T11:47:04.593771Z",
     "start_time": "2023-05-24T11:47:04.562292Z"
    }
   },
   "outputs": [
    {
     "data": {
      "text/plain": [
       "15"
      ]
     },
     "execution_count": 35,
     "metadata": {},
     "output_type": "execute_result"
    }
   ],
   "source": [
    "len('Python is  fun!')"
   ]
  },
  {
   "cell_type": "code",
   "execution_count": 36,
   "metadata": {
    "ExecuteTime": {
     "end_time": "2023-05-24T11:47:04.861713Z",
     "start_time": "2023-05-24T11:47:04.846435Z"
    }
   },
   "outputs": [],
   "source": [
    "s= 'Python is  fun!'"
   ]
  },
  {
   "cell_type": "code",
   "execution_count": 37,
   "metadata": {
    "ExecuteTime": {
     "end_time": "2023-05-24T11:47:05.131105Z",
     "start_time": "2023-05-24T11:47:05.114934Z"
    }
   },
   "outputs": [
    {
     "data": {
      "text/plain": [
       "'Python is  fun!'"
      ]
     },
     "execution_count": 37,
     "metadata": {},
     "output_type": "execute_result"
    }
   ],
   "source": [
    "s"
   ]
  },
  {
   "cell_type": "code",
   "execution_count": 38,
   "metadata": {
    "ExecuteTime": {
     "end_time": "2023-05-24T11:47:05.402524Z",
     "start_time": "2023-05-24T11:47:05.371201Z"
    }
   },
   "outputs": [
    {
     "ename": "TypeError",
     "evalue": "count() takes at least 1 argument (0 given)",
     "output_type": "error",
     "traceback": [
      "\u001b[1;31m---------------------------------------------------------------------------\u001b[0m",
      "\u001b[1;31mTypeError\u001b[0m                                 Traceback (most recent call last)",
      "\u001b[1;32m<ipython-input-38-1ae53800a553>\u001b[0m in \u001b[0;36m<module>\u001b[1;34m\u001b[0m\n\u001b[1;32m----> 1\u001b[1;33m \u001b[0ms\u001b[0m\u001b[1;33m.\u001b[0m\u001b[0mcount\u001b[0m\u001b[1;33m(\u001b[0m\u001b[1;33m)\u001b[0m\u001b[1;33m\u001b[0m\u001b[1;33m\u001b[0m\u001b[0m\n\u001b[0m",
      "\u001b[1;31mTypeError\u001b[0m: count() takes at least 1 argument (0 given)"
     ]
    }
   ],
   "source": [
    "s.count()"
   ]
  },
  {
   "cell_type": "code",
   "execution_count": 39,
   "metadata": {
    "ExecuteTime": {
     "end_time": "2023-05-24T11:47:05.671670Z",
     "start_time": "2023-05-24T11:47:05.655477Z"
    }
   },
   "outputs": [
    {
     "ename": "NameError",
     "evalue": "name 'n' is not defined",
     "output_type": "error",
     "traceback": [
      "\u001b[1;31m---------------------------------------------------------------------------\u001b[0m",
      "\u001b[1;31mNameError\u001b[0m                                 Traceback (most recent call last)",
      "\u001b[1;32m<ipython-input-39-1a0c43c1b0bc>\u001b[0m in \u001b[0;36m<module>\u001b[1;34m\u001b[0m\n\u001b[1;32m----> 1\u001b[1;33m \u001b[0ms\u001b[0m\u001b[1;33m.\u001b[0m\u001b[0mcount\u001b[0m\u001b[1;33m(\u001b[0m\u001b[0mn\u001b[0m\u001b[1;33m)\u001b[0m\u001b[1;33m\u001b[0m\u001b[1;33m\u001b[0m\u001b[0m\n\u001b[0m",
      "\u001b[1;31mNameError\u001b[0m: name 'n' is not defined"
     ]
    }
   ],
   "source": [
    "s.count(n)"
   ]
  },
  {
   "cell_type": "code",
   "execution_count": 40,
   "metadata": {
    "ExecuteTime": {
     "end_time": "2023-05-24T11:47:05.954628Z",
     "start_time": "2023-05-24T11:47:05.923251Z"
    }
   },
   "outputs": [
    {
     "data": {
      "text/plain": [
       "2"
      ]
     },
     "execution_count": 40,
     "metadata": {},
     "output_type": "execute_result"
    }
   ],
   "source": [
    "s.count('n')"
   ]
  },
  {
   "cell_type": "code",
   "execution_count": 41,
   "metadata": {
    "ExecuteTime": {
     "end_time": "2023-05-24T11:47:06.208068Z",
     "start_time": "2023-05-24T11:47:06.191982Z"
    }
   },
   "outputs": [
    {
     "data": {
      "text/plain": [
       "'1,2,3,4'"
      ]
     },
     "execution_count": 41,
     "metadata": {},
     "output_type": "execute_result"
    }
   ],
   "source": [
    "a=','\n",
    "a.join('1234')"
   ]
  },
  {
   "cell_type": "code",
   "execution_count": 42,
   "metadata": {
    "ExecuteTime": {
     "end_time": "2023-05-24T11:47:06.474698Z",
     "start_time": "2023-05-24T11:47:06.445137Z"
    }
   },
   "outputs": [
    {
     "data": {
      "text/plain": [
       "'o'"
      ]
     },
     "execution_count": 42,
     "metadata": {},
     "output_type": "execute_result"
    }
   ],
   "source": [
    "word='Hello'\n",
    "word[-1]"
   ]
  },
  {
   "cell_type": "code",
   "execution_count": 43,
   "metadata": {
    "ExecuteTime": {
     "end_time": "2023-05-24T11:47:06.743986Z",
     "start_time": "2023-05-24T11:47:06.712575Z"
    }
   },
   "outputs": [
    {
     "data": {
      "text/plain": [
       "5"
      ]
     },
     "execution_count": 43,
     "metadata": {},
     "output_type": "execute_result"
    }
   ],
   "source": [
    "len(word)"
   ]
  },
  {
   "cell_type": "code",
   "execution_count": 44,
   "metadata": {
    "ExecuteTime": {
     "end_time": "2023-05-24T11:47:07.004208Z",
     "start_time": "2023-05-24T11:47:06.988469Z"
    }
   },
   "outputs": [
    {
     "data": {
      "text/plain": [
       "['Python', 'is', 'fun']"
      ]
     },
     "execution_count": 44,
     "metadata": {},
     "output_type": "execute_result"
    }
   ],
   "source": [
    "s1 = \"Python is fun\"\n",
    "s1.split()"
   ]
  },
  {
   "cell_type": "code",
   "execution_count": 45,
   "metadata": {
    "ExecuteTime": {
     "end_time": "2023-05-24T11:47:07.273160Z",
     "start_time": "2023-05-24T11:47:07.257473Z"
    }
   },
   "outputs": [],
   "source": [
    "s2 = \"one:two:three\""
   ]
  },
  {
   "cell_type": "code",
   "execution_count": 46,
   "metadata": {
    "ExecuteTime": {
     "end_time": "2023-05-24T11:47:07.525223Z",
     "start_time": "2023-05-24T11:47:07.509720Z"
    }
   },
   "outputs": [
    {
     "data": {
      "text/plain": [
       "['one', 'two', 'three']"
      ]
     },
     "execution_count": 46,
     "metadata": {},
     "output_type": "execute_result"
    }
   ],
   "source": [
    "s2.split(\":\")"
   ]
  },
  {
   "cell_type": "code",
   "execution_count": 47,
   "metadata": {
    "ExecuteTime": {
     "end_time": "2023-05-24T11:47:07.779813Z",
     "start_time": "2023-05-24T11:47:07.764624Z"
    }
   },
   "outputs": [
    {
     "data": {
      "text/plain": [
       "'one:two:three'"
      ]
     },
     "execution_count": 47,
     "metadata": {},
     "output_type": "execute_result"
    }
   ],
   "source": [
    "s2"
   ]
  },
  {
   "cell_type": "code",
   "execution_count": 48,
   "metadata": {
    "ExecuteTime": {
     "end_time": "2023-05-24T11:47:08.022073Z",
     "start_time": "2023-05-24T11:47:07.990704Z"
    }
   },
   "outputs": [
    {
     "data": {
      "text/plain": [
       "14"
      ]
     },
     "execution_count": 48,
     "metadata": {},
     "output_type": "execute_result"
    }
   ],
   "source": [
    "len('Python is fun!')"
   ]
  },
  {
   "cell_type": "code",
   "execution_count": 49,
   "metadata": {
    "ExecuteTime": {
     "end_time": "2023-05-24T11:47:08.242385Z",
     "start_time": "2023-05-24T11:47:08.226741Z"
    }
   },
   "outputs": [],
   "source": [
    "season = ['spring', 'summer', 'fall', 'winter']"
   ]
  },
  {
   "cell_type": "code",
   "execution_count": 50,
   "metadata": {
    "ExecuteTime": {
     "end_time": "2023-05-24T11:47:08.497145Z",
     "start_time": "2023-05-24T11:47:08.481708Z"
    }
   },
   "outputs": [
    {
     "data": {
      "text/plain": [
       "['spring', 'summer', 'fall', 'winter']"
      ]
     },
     "execution_count": 50,
     "metadata": {},
     "output_type": "execute_result"
    }
   ],
   "source": [
    "season"
   ]
  },
  {
   "cell_type": "code",
   "execution_count": 51,
   "metadata": {
    "ExecuteTime": {
     "end_time": "2023-05-24T11:47:08.718465Z",
     "start_time": "2023-05-24T11:47:08.702463Z"
    }
   },
   "outputs": [
    {
     "data": {
      "text/plain": [
       "'summer'"
      ]
     },
     "execution_count": 51,
     "metadata": {},
     "output_type": "execute_result"
    }
   ],
   "source": [
    "season[1]"
   ]
  },
  {
   "cell_type": "code",
   "execution_count": 52,
   "metadata": {
    "ExecuteTime": {
     "end_time": "2023-05-24T11:47:08.923383Z",
     "start_time": "2023-05-24T11:47:08.892215Z"
    }
   },
   "outputs": [],
   "source": [
    "a = [ 45, 87, 99, 21, 55]"
   ]
  },
  {
   "cell_type": "code",
   "execution_count": 53,
   "metadata": {
    "ExecuteTime": {
     "end_time": "2023-05-24T11:47:09.144304Z",
     "start_time": "2023-05-24T11:47:09.131980Z"
    }
   },
   "outputs": [
    {
     "data": {
      "text/plain": [
       "[45, 87, 99, 21, 55]"
      ]
     },
     "execution_count": 53,
     "metadata": {},
     "output_type": "execute_result"
    }
   ],
   "source": [
    "a"
   ]
  },
  {
   "cell_type": "code",
   "execution_count": 54,
   "metadata": {
    "ExecuteTime": {
     "end_time": "2023-05-24T11:47:09.384638Z",
     "start_time": "2023-05-24T11:47:09.352917Z"
    }
   },
   "outputs": [
    {
     "data": {
      "text/plain": [
       "[45, 87]"
      ]
     },
     "execution_count": 54,
     "metadata": {},
     "output_type": "execute_result"
    }
   ],
   "source": [
    "a[0:2]"
   ]
  },
  {
   "cell_type": "code",
   "execution_count": 55,
   "metadata": {
    "ExecuteTime": {
     "end_time": "2023-05-24T11:47:09.589917Z",
     "start_time": "2023-05-24T11:47:09.573831Z"
    }
   },
   "outputs": [
    {
     "data": {
      "text/plain": [
       "[45, 87]"
      ]
     },
     "execution_count": 55,
     "metadata": {},
     "output_type": "execute_result"
    }
   ],
   "source": [
    "a[:2]"
   ]
  },
  {
   "cell_type": "code",
   "execution_count": 56,
   "metadata": {
    "ExecuteTime": {
     "end_time": "2023-05-24T11:47:09.829124Z",
     "start_time": "2023-05-24T11:47:09.797410Z"
    }
   },
   "outputs": [
    {
     "data": {
      "text/plain": [
       "[21, 55]"
      ]
     },
     "execution_count": 56,
     "metadata": {},
     "output_type": "execute_result"
    }
   ],
   "source": [
    "a[3:]"
   ]
  },
  {
   "cell_type": "code",
   "execution_count": 57,
   "metadata": {
    "ExecuteTime": {
     "end_time": "2023-05-24T11:47:10.049458Z",
     "start_time": "2023-05-24T11:47:10.034298Z"
    }
   },
   "outputs": [
    {
     "ename": "SyntaxError",
     "evalue": "invalid syntax (<ipython-input-57-35847164ca1b>, line 1)",
     "output_type": "error",
     "traceback": [
      "\u001b[1;36m  File \u001b[1;32m\"<ipython-input-57-35847164ca1b>\"\u001b[1;36m, line \u001b[1;32m1\u001b[0m\n\u001b[1;33m    45 is in a\u001b[0m\n\u001b[1;37m          ^\u001b[0m\n\u001b[1;31mSyntaxError\u001b[0m\u001b[1;31m:\u001b[0m invalid syntax\n"
     ]
    }
   ],
   "source": [
    "45 is in a"
   ]
  },
  {
   "cell_type": "code",
   "execution_count": 58,
   "metadata": {
    "ExecuteTime": {
     "end_time": "2023-05-24T11:47:10.318250Z",
     "start_time": "2023-05-24T11:47:10.286847Z"
    }
   },
   "outputs": [
    {
     "data": {
      "text/plain": [
       "True"
      ]
     },
     "execution_count": 58,
     "metadata": {},
     "output_type": "execute_result"
    }
   ],
   "source": [
    "45 in a"
   ]
  },
  {
   "cell_type": "code",
   "execution_count": 59,
   "metadata": {
    "ExecuteTime": {
     "end_time": "2023-05-24T11:47:10.522478Z",
     "start_time": "2023-05-24T11:47:10.506901Z"
    }
   },
   "outputs": [
    {
     "data": {
      "text/plain": [
       "False"
      ]
     },
     "execution_count": 59,
     "metadata": {},
     "output_type": "execute_result"
    }
   ],
   "source": [
    "55 not in a"
   ]
  },
  {
   "cell_type": "code",
   "execution_count": 60,
   "metadata": {
    "ExecuteTime": {
     "end_time": "2023-05-24T11:47:10.758883Z",
     "start_time": "2023-05-24T11:47:10.727429Z"
    }
   },
   "outputs": [
    {
     "data": {
      "text/plain": [
       "True"
      ]
     },
     "execution_count": 60,
     "metadata": {},
     "output_type": "execute_result"
    }
   ],
   "source": [
    "10 not in a"
   ]
  },
  {
   "cell_type": "code",
   "execution_count": 61,
   "metadata": {
    "ExecuteTime": {
     "end_time": "2023-05-24T11:47:10.979733Z",
     "start_time": "2023-05-24T11:47:10.963844Z"
    }
   },
   "outputs": [
    {
     "data": {
      "text/plain": [
       "'o'"
      ]
     },
     "execution_count": 61,
     "metadata": {},
     "output_type": "execute_result"
    }
   ],
   "source": [
    "word = 'hello'\n",
    "a = len(word)\n",
    "word[a-1]"
   ]
  },
  {
   "cell_type": "code",
   "execution_count": 62,
   "metadata": {
    "ExecuteTime": {
     "end_time": "2023-05-24T11:47:11.201129Z",
     "start_time": "2023-05-24T11:47:11.185796Z"
    }
   },
   "outputs": [
    {
     "data": {
      "text/plain": [
       "'o'"
      ]
     },
     "execution_count": 62,
     "metadata": {},
     "output_type": "execute_result"
    }
   ],
   "source": [
    "word = 'hello'\n",
    "word[len(word)-1]"
   ]
  },
  {
   "cell_type": "code",
   "execution_count": 63,
   "metadata": {
    "ExecuteTime": {
     "end_time": "2023-05-24T11:47:11.424191Z",
     "start_time": "2023-05-24T11:47:11.409309Z"
    }
   },
   "outputs": [],
   "source": [
    "s1=\"Python\\nis fun\""
   ]
  },
  {
   "cell_type": "code",
   "execution_count": 64,
   "metadata": {
    "ExecuteTime": {
     "end_time": "2023-05-24T11:47:11.675936Z",
     "start_time": "2023-05-24T11:47:11.659841Z"
    }
   },
   "outputs": [
    {
     "data": {
      "text/plain": [
       "'Python\\nis fun'"
      ]
     },
     "execution_count": 64,
     "metadata": {},
     "output_type": "execute_result"
    }
   ],
   "source": [
    "s1"
   ]
  },
  {
   "cell_type": "code",
   "execution_count": 65,
   "metadata": {
    "ExecuteTime": {
     "end_time": "2023-05-24T11:47:12.187835Z",
     "start_time": "2023-05-24T11:47:12.172704Z"
    }
   },
   "outputs": [
    {
     "name": "stdout",
     "output_type": "stream",
     "text": [
      "Python\n",
      "is fun\n"
     ]
    }
   ],
   "source": [
    "print(s1)"
   ]
  },
  {
   "cell_type": "code",
   "execution_count": 66,
   "metadata": {
    "ExecuteTime": {
     "end_time": "2023-05-24T11:47:12.487337Z",
     "start_time": "2023-05-24T11:47:12.471684Z"
    }
   },
   "outputs": [],
   "source": [
    "s1=\"Python\\nis\\tfun\""
   ]
  },
  {
   "cell_type": "code",
   "execution_count": 67,
   "metadata": {
    "ExecuteTime": {
     "end_time": "2023-05-24T11:47:12.738003Z",
     "start_time": "2023-05-24T11:47:12.722539Z"
    }
   },
   "outputs": [
    {
     "data": {
      "text/plain": [
       "'Python\\nis\\tfun'"
      ]
     },
     "execution_count": 67,
     "metadata": {},
     "output_type": "execute_result"
    }
   ],
   "source": [
    "s1"
   ]
  },
  {
   "cell_type": "code",
   "execution_count": 68,
   "metadata": {
    "ExecuteTime": {
     "end_time": "2023-05-24T11:47:13.038514Z",
     "start_time": "2023-05-24T11:47:13.010386Z"
    }
   },
   "outputs": [
    {
     "name": "stdout",
     "output_type": "stream",
     "text": [
      "Python\n",
      "is\tfun\n"
     ]
    }
   ],
   "source": [
    "print(s1)"
   ]
  },
  {
   "cell_type": "code",
   "execution_count": 69,
   "metadata": {
    "ExecuteTime": {
     "end_time": "2023-05-24T11:47:13.258420Z",
     "start_time": "2023-05-24T11:47:13.243468Z"
    }
   },
   "outputs": [],
   "source": [
    "t = [1,2,3]\n",
    "a,b,c=t"
   ]
  },
  {
   "cell_type": "code",
   "execution_count": 70,
   "metadata": {
    "ExecuteTime": {
     "end_time": "2023-05-24T11:47:13.511569Z",
     "start_time": "2023-05-24T11:47:13.495568Z"
    }
   },
   "outputs": [
    {
     "data": {
      "text/plain": [
       "1"
      ]
     },
     "execution_count": 70,
     "metadata": {},
     "output_type": "execute_result"
    }
   ],
   "source": [
    "a"
   ]
  },
  {
   "cell_type": "code",
   "execution_count": 71,
   "metadata": {
    "ExecuteTime": {
     "end_time": "2023-05-24T11:47:13.814122Z",
     "start_time": "2023-05-24T11:47:13.798297Z"
    }
   },
   "outputs": [
    {
     "data": {
      "text/plain": [
       "2"
      ]
     },
     "execution_count": 71,
     "metadata": {},
     "output_type": "execute_result"
    }
   ],
   "source": [
    "b"
   ]
  },
  {
   "cell_type": "code",
   "execution_count": 72,
   "metadata": {
    "ExecuteTime": {
     "end_time": "2023-05-24T11:47:14.034896Z",
     "start_time": "2023-05-24T11:47:14.019362Z"
    }
   },
   "outputs": [
    {
     "data": {
      "text/plain": [
       "3"
      ]
     },
     "execution_count": 72,
     "metadata": {},
     "output_type": "execute_result"
    }
   ],
   "source": [
    "c"
   ]
  },
  {
   "cell_type": "code",
   "execution_count": 73,
   "metadata": {
    "ExecuteTime": {
     "end_time": "2023-05-24T11:47:14.255292Z",
     "start_time": "2023-05-24T11:47:14.223787Z"
    }
   },
   "outputs": [
    {
     "data": {
      "text/plain": [
       "(1, 2, 3)"
      ]
     },
     "execution_count": 73,
     "metadata": {},
     "output_type": "execute_result"
    }
   ],
   "source": [
    "a,b,c"
   ]
  },
  {
   "cell_type": "code",
   "execution_count": 74,
   "metadata": {
    "ExecuteTime": {
     "end_time": "2023-05-24T11:47:14.474980Z",
     "start_time": "2023-05-24T11:47:14.461840Z"
    }
   },
   "outputs": [
    {
     "name": "stdout",
     "output_type": "stream",
     "text": [
      "1 2 3\n"
     ]
    }
   ],
   "source": [
    "print(a,b,c)"
   ]
  },
  {
   "cell_type": "code",
   "execution_count": 75,
   "metadata": {
    "ExecuteTime": {
     "end_time": "2023-05-24T11:47:14.711367Z",
     "start_time": "2023-05-24T11:47:14.695588Z"
    }
   },
   "outputs": [
    {
     "ename": "ValueError",
     "evalue": "too many values to unpack (expected 2)",
     "output_type": "error",
     "traceback": [
      "\u001b[1;31m---------------------------------------------------------------------------\u001b[0m",
      "\u001b[1;31mValueError\u001b[0m                                Traceback (most recent call last)",
      "\u001b[1;32m<ipython-input-75-d91bc6284a67>\u001b[0m in \u001b[0;36m<module>\u001b[1;34m\u001b[0m\n\u001b[1;32m----> 1\u001b[1;33m \u001b[0mx\u001b[0m\u001b[1;33m,\u001b[0m\u001b[0my\u001b[0m\u001b[1;33m=\u001b[0m\u001b[0mt\u001b[0m\u001b[1;33m\u001b[0m\u001b[1;33m\u001b[0m\u001b[0m\n\u001b[0m\u001b[0;32m      2\u001b[0m \u001b[0mt\u001b[0m\u001b[1;33m\u001b[0m\u001b[1;33m\u001b[0m\u001b[0m\n",
      "\u001b[1;31mValueError\u001b[0m: too many values to unpack (expected 2)"
     ]
    }
   ],
   "source": [
    "x,y=t\n",
    "t"
   ]
  },
  {
   "cell_type": "code",
   "execution_count": 76,
   "metadata": {
    "ExecuteTime": {
     "end_time": "2023-05-24T11:47:14.933484Z",
     "start_time": "2023-05-24T11:47:14.917659Z"
    }
   },
   "outputs": [],
   "source": [
    "x=t"
   ]
  },
  {
   "cell_type": "code",
   "execution_count": 77,
   "metadata": {
    "ExecuteTime": {
     "end_time": "2023-05-24T11:47:15.238155Z",
     "start_time": "2023-05-24T11:47:15.222711Z"
    }
   },
   "outputs": [],
   "source": [
    "# 입력함수 input을 알아보겠습니다."
   ]
  },
  {
   "cell_type": "code",
   "execution_count": 89,
   "metadata": {
    "ExecuteTime": {
     "end_time": "2023-05-24T11:47:37.179904Z",
     "start_time": "2023-05-24T11:47:31.251602Z"
    }
   },
   "outputs": [
    {
     "name": "stdout",
     "output_type": "stream",
     "text": [
      "오늘날짜(연/월/일)입력:2023/05/25\n"
     ]
    }
   ],
   "source": [
    "s = input(\"오늘날짜(연/월/일)입력:\")\n",
    "date = s.split(\"/\")"
   ]
  },
  {
   "cell_type": "code",
   "execution_count": 90,
   "metadata": {
    "ExecuteTime": {
     "end_time": "2023-05-24T11:47:38.762527Z",
     "start_time": "2023-05-24T11:47:38.736864Z"
    }
   },
   "outputs": [
    {
     "data": {
      "text/plain": [
       "['2023', '05', '25']"
      ]
     },
     "execution_count": 90,
     "metadata": {},
     "output_type": "execute_result"
    }
   ],
   "source": [
    "date"
   ]
  },
  {
   "cell_type": "code",
   "execution_count": 91,
   "metadata": {
    "ExecuteTime": {
     "end_time": "2023-05-24T11:47:39.158834Z",
     "start_time": "2023-05-24T11:47:39.137685Z"
    },
    "scrolled": true
   },
   "outputs": [
    {
     "data": {
      "text/plain": [
       "'2023'"
      ]
     },
     "execution_count": 91,
     "metadata": {},
     "output_type": "execute_result"
    }
   ],
   "source": [
    "date[0]"
   ]
  },
  {
   "cell_type": "code",
   "execution_count": 92,
   "metadata": {
    "ExecuteTime": {
     "end_time": "2023-05-24T11:47:39.574234Z",
     "start_time": "2023-05-24T11:47:39.558149Z"
    }
   },
   "outputs": [
    {
     "data": {
      "text/plain": [
       "'2023/05/25'"
      ]
     },
     "execution_count": 92,
     "metadata": {},
     "output_type": "execute_result"
    }
   ],
   "source": [
    "s"
   ]
  },
  {
   "cell_type": "code",
   "execution_count": 93,
   "metadata": {
    "ExecuteTime": {
     "end_time": "2023-05-24T11:47:40.356529Z",
     "start_time": "2023-05-24T11:47:40.342704Z"
    }
   },
   "outputs": [
    {
     "name": "stdout",
     "output_type": "stream",
     "text": [
      "오늘 날짜는  2023 년  05  월 25 일 입니다.\n"
     ]
    }
   ],
   "source": [
    "print(\"오늘 날짜는 \", s[0:4], \"년 \", s[5:7], \" 월\", s[-2:], \"일 입니다.\")"
   ]
  },
  {
   "cell_type": "code",
   "execution_count": 94,
   "metadata": {
    "ExecuteTime": {
     "end_time": "2023-05-24T11:47:48.019359Z",
     "start_time": "2023-05-24T11:47:42.702429Z"
    }
   },
   "outputs": [
    {
     "name": "stdout",
     "output_type": "stream",
     "text": [
      "날짜(연/월/일)입력:2023/05/25\n",
      "오늘 날짜는  2023 년  05  월 25 일 입니다.\n"
     ]
    }
   ],
   "source": [
    "s = input(\"날짜(연/월/일)입력:\")\n",
    "date = s.split(\"/\")\n",
    "print(\"오늘 날짜는 \", date[0], \"년 \", date[1], \" 월\", date[2], \"일 입니다.\")"
   ]
  },
  {
   "cell_type": "markdown",
   "metadata": {},
   "source": [
    "# 연습문제(Exercise) - Just Do It Now ! "
   ]
  },
  {
   "cell_type": "code",
   "execution_count": 95,
   "metadata": {
    "ExecuteTime": {
     "end_time": "2023-05-24T11:47:50.076268Z",
     "start_time": "2023-05-24T11:47:50.060112Z"
    }
   },
   "outputs": [],
   "source": [
    "# 10년 뒤 날짜를 출력해 볼까요?"
   ]
  },
  {
   "cell_type": "code",
   "execution_count": 96,
   "metadata": {
    "ExecuteTime": {
     "end_time": "2023-05-24T11:47:58.792525Z",
     "start_time": "2023-05-24T11:47:51.194601Z"
    }
   },
   "outputs": [
    {
     "name": "stdout",
     "output_type": "stream",
     "text": [
      "날짜(연/월/일)입력:2023/05/25\n",
      "입력한 날짜의 10년 후는  2033 년  05  월 25 일\n"
     ]
    }
   ],
   "source": [
    "s = input(\"날짜(연/월/일)입력:\")\n",
    "date = s.split(\"/\")\n",
    "print(\"입력한 날짜의 10년 후는 \", int(date[0])+10, \"년 \", date[1], \" 월\", date[2], \"일\")"
   ]
  },
  {
   "cell_type": "code",
   "execution_count": 98,
   "metadata": {
    "ExecuteTime": {
     "end_time": "2023-05-24T11:48:06.584534Z",
     "start_time": "2023-05-24T11:48:02.431927Z"
    }
   },
   "outputs": [
    {
     "name": "stdout",
     "output_type": "stream",
     "text": [
      "날짜(연/월/일)입력:2023/05/25\n",
      "입력한 날짜의 10년 후는 2033년 5월 25일\n"
     ]
    }
   ],
   "source": [
    "date = input(\"날짜(연/월/일)입력:\")\n",
    "date_list = date.split(\"/\")\n",
    "year, month, day = date_list\n",
    "print(\"입력한 날짜의 10년 후는 %s년 %s월 %s일\" % (int(year)+10, int(month), day))"
   ]
  },
  {
   "cell_type": "code",
   "execution_count": 99,
   "metadata": {
    "ExecuteTime": {
     "end_time": "2023-05-24T11:48:07.359965Z",
     "start_time": "2023-05-24T11:48:07.348739Z"
    }
   },
   "outputs": [],
   "source": [
    "# range 함수에 대해 알아 볼까요?"
   ]
  },
  {
   "cell_type": "code",
   "execution_count": 100,
   "metadata": {
    "ExecuteTime": {
     "end_time": "2023-05-24T11:48:17.849051Z",
     "start_time": "2023-05-24T11:48:17.821648Z"
    }
   },
   "outputs": [
    {
     "data": {
      "text/plain": [
       "range(0, 5)"
      ]
     },
     "execution_count": 100,
     "metadata": {},
     "output_type": "execute_result"
    }
   ],
   "source": [
    "range(5)"
   ]
  },
  {
   "cell_type": "code",
   "execution_count": 101,
   "metadata": {
    "ExecuteTime": {
     "end_time": "2023-05-24T11:48:18.259374Z",
     "start_time": "2023-05-24T11:48:18.243925Z"
    }
   },
   "outputs": [
    {
     "data": {
      "text/plain": [
       "range(1, 6)"
      ]
     },
     "execution_count": 101,
     "metadata": {},
     "output_type": "execute_result"
    }
   ],
   "source": [
    "range(1, 6)"
   ]
  },
  {
   "cell_type": "code",
   "execution_count": 102,
   "metadata": {
    "ExecuteTime": {
     "end_time": "2023-05-24T11:48:18.675721Z",
     "start_time": "2023-05-24T11:48:18.643862Z"
    }
   },
   "outputs": [
    {
     "data": {
      "text/plain": [
       "range(1, 7, 2)"
      ]
     },
     "execution_count": 102,
     "metadata": {},
     "output_type": "execute_result"
    }
   ],
   "source": [
    "range(1,7,2)"
   ]
  },
  {
   "cell_type": "code",
   "execution_count": 103,
   "metadata": {
    "ExecuteTime": {
     "end_time": "2023-05-24T11:48:19.022752Z",
     "start_time": "2023-05-24T11:48:19.006771Z"
    }
   },
   "outputs": [
    {
     "data": {
      "text/plain": [
       "[0, 1, 2, 3, 4]"
      ]
     },
     "execution_count": 103,
     "metadata": {},
     "output_type": "execute_result"
    }
   ],
   "source": [
    "list(range(5))"
   ]
  },
  {
   "cell_type": "code",
   "execution_count": 105,
   "metadata": {
    "ExecuteTime": {
     "end_time": "2023-05-24T11:48:28.617769Z",
     "start_time": "2023-05-24T11:48:23.680505Z"
    }
   },
   "outputs": [
    {
     "name": "stdout",
     "output_type": "stream",
     "text": [
      "영어 점수 입력: 80\n",
      "수학 점수 입력: 50\n",
      "합격\n"
     ]
    }
   ],
   "source": [
    "eng = int(input(\"영어 점수 입력: \"))\n",
    "math = int(input(\"수학 점수 입력: \"))\n",
    "if eng+math > 110 :\n",
    "    if eng > 40 :\n",
    "        if math > 40 :\n",
    "            print(\"합격\")\n",
    "        else :\n",
    "            print(\"수학 점수 부족\")\n",
    "    else :\n",
    "        print(\"영어 점수 부족\")  \n",
    "else :\n",
    "    print(\"총합 점수 부족\")"
   ]
  },
  {
   "cell_type": "markdown",
   "metadata": {},
   "source": [
    "# 연습문제(Exercise) - Just Do It Now ! "
   ]
  },
  {
   "cell_type": "code",
   "execution_count": 162,
   "metadata": {
    "ExecuteTime": {
     "end_time": "2022-01-04T02:30:00.559800Z",
     "start_time": "2022-01-04T02:30:00.553820Z"
    }
   },
   "outputs": [],
   "source": [
    "# input으로 매매지수와 전세지수 2개 수치값을 받고, \n",
    "# 부동산 시장(불장, 투자수요 유입, 수요중심시장 등) 을 판단하는 알고리즘을 만들어 보아요."
   ]
  },
  {
   "cell_type": "code",
   "execution_count": 107,
   "metadata": {
    "ExecuteTime": {
     "end_time": "2023-05-24T11:48:59.021716Z",
     "start_time": "2023-05-24T11:48:55.156770Z"
    }
   },
   "outputs": [
    {
     "name": "stdout",
     "output_type": "stream",
     "text": [
      "2023년 5월 매매지수 입력: 87\n",
      "2023년 5월 전세지수 입력: 88\n",
      "부동산 시장 안정\n"
     ]
    }
   ],
   "source": [
    "매매지수 = int(input(\"2023년 5월 매매지수 입력: \"))\n",
    "전세지수 = int(input(\"2023년 5월 전세지수 입력: \"))\n",
    "\n",
    "if 매매지수+전세지수 > 200 :\n",
    "    if 매매지수 > 100 :\n",
    "        if 전세지수 > 100 :\n",
    "            print(\"부동산 불장\")\n",
    "        else :\n",
    "            print(\"투자수요 유입\")\n",
    "    else :\n",
    "        print(\"수요중심 시장\")  \n",
    "else :\n",
    "    print(\"부동산 시장 안정\")\n"
   ]
  },
  {
   "cell_type": "code",
   "execution_count": null,
   "metadata": {},
   "outputs": [],
   "source": [
    "# 정수를 입력하고 가장 큰 수를 반환하는 알고리즘"
   ]
  },
  {
   "cell_type": "code",
   "execution_count": 112,
   "metadata": {
    "ExecuteTime": {
     "end_time": "2023-05-24T11:49:31.085016Z",
     "start_time": "2023-05-24T11:49:29.428648Z"
    }
   },
   "outputs": [
    {
     "name": "stdout",
     "output_type": "stream",
     "text": [
      "세개의 정수를 입력하시오: 1 2 3\n"
     ]
    }
   ],
   "source": [
    "s_list = input(\"세개의 정수를 입력하시오: \")\n",
    "s_list = s_list.split()\n",
    "a, b, c = list(map(int, s_list))"
   ]
  },
  {
   "cell_type": "code",
   "execution_count": 113,
   "metadata": {
    "ExecuteTime": {
     "end_time": "2023-05-24T11:49:32.559592Z",
     "start_time": "2023-05-24T11:49:32.544033Z"
    }
   },
   "outputs": [
    {
     "data": {
      "text/plain": [
       "(1, 2, 3)"
      ]
     },
     "execution_count": 113,
     "metadata": {},
     "output_type": "execute_result"
    }
   ],
   "source": [
    "a, b, c"
   ]
  },
  {
   "cell_type": "code",
   "execution_count": 114,
   "metadata": {
    "ExecuteTime": {
     "end_time": "2023-05-24T11:49:41.108160Z",
     "start_time": "2023-05-24T11:49:37.658777Z"
    }
   },
   "outputs": [
    {
     "name": "stdout",
     "output_type": "stream",
     "text": [
      "세개의 정수를 입력하시오: 5 6 7\n",
      "가장 큰 수는 7 입니다\n"
     ]
    }
   ],
   "source": [
    "s_list = input(\"세개의 정수를 입력하시오: \")\n",
    "s_list = s_list.split()\n",
    "a, b, c = list(map(int, s_list))\n",
    "if a>b :\n",
    "    if a>c :\n",
    "        print(\"가장 큰 수는 %s 입니다\"%a)\n",
    "    elif b>c :\n",
    "            print(\"가장 큰 수는 %s 입니다\"%b)\n",
    "            \n",
    "else :\n",
    "    print(\"가장 큰 수는 %s 입니다\"%c)"
   ]
  },
  {
   "cell_type": "markdown",
   "metadata": {},
   "source": [
    "# 연습문제(Exercise) - Just Do It Now ! "
   ]
  },
  {
   "cell_type": "code",
   "execution_count": 160,
   "metadata": {
    "ExecuteTime": {
     "end_time": "2022-01-04T02:23:17.479735Z",
     "start_time": "2022-01-04T02:23:17.463500Z"
    }
   },
   "outputs": [],
   "source": [
    "# 주택 매매가격지수, 전세가격지수, 월세가격지수를 비교하는 알고리즘을 만들어 보아요"
   ]
  },
  {
   "cell_type": "code",
   "execution_count": 115,
   "metadata": {
    "ExecuteTime": {
     "end_time": "2023-05-24T11:49:50.511691Z",
     "start_time": "2023-05-24T11:49:46.532599Z"
    }
   },
   "outputs": [
    {
     "name": "stdout",
     "output_type": "stream",
     "text": [
      "주택 매매가격지수, 전세가격지수, 월세가격지수 순으로 입력하시오(예 110 90 100): 110 90 100\n",
      "가장 큰 지수는 매매가격지수 110 입니다\n"
     ]
    }
   ],
   "source": [
    "s_list = input(\"주택 매매가격지수, 전세가격지수, 월세가격지수 순으로 입력하시오(예 110 90 100): \")\n",
    "s_list = s_list.split()\n",
    "매매, 전세, 월세 = list(map(int, s_list))\n",
    "if 매매>전세 :\n",
    "    if 매매>월세 :\n",
    "        print(\"가장 큰 지수는 매매가격지수 %s 입니다\"%매매)\n",
    "    elif 전세>월세 :\n",
    "            print(\"가장 큰 지수는 전세가격지수 %s 입니다\"%전세)\n",
    "else :\n",
    "    print(\"가장 큰 지수는 월세가격지수 %s 입니다\"%월세)"
   ]
  },
  {
   "cell_type": "markdown",
   "metadata": {},
   "source": [
    "# 수고하셨습니다. 이제 본격적으로 데이터 분석 실무 시작해 볼까요?"
   ]
  }
 ],
 "metadata": {
  "kernelspec": {
   "display_name": "Python 3",
   "language": "python",
   "name": "python3"
  },
  "language_info": {
   "codemirror_mode": {
    "name": "ipython",
    "version": 3
   },
   "file_extension": ".py",
   "mimetype": "text/x-python",
   "name": "python",
   "nbconvert_exporter": "python",
   "pygments_lexer": "ipython3",
   "version": "3.8.5"
  },
  "latex_envs": {
   "LaTeX_envs_menu_present": true,
   "autoclose": false,
   "autocomplete": true,
   "bibliofile": "biblio.bib",
   "cite_by": "apalike",
   "current_citInitial": 1,
   "eqLabelWithNumbers": true,
   "eqNumInitial": 1,
   "hotkeys": {
    "equation": "Ctrl-E",
    "itemize": "Ctrl-I"
   },
   "labels_anchors": false,
   "latex_user_defs": false,
   "report_style_numbering": false,
   "user_envs_cfg": false
  },
  "toc": {
   "base_numbering": 1,
   "nav_menu": {},
   "number_sections": true,
   "sideBar": true,
   "skip_h1_title": false,
   "title_cell": "Table of Contents",
   "title_sidebar": "Contents",
   "toc_cell": false,
   "toc_position": {},
   "toc_section_display": true,
   "toc_window_display": false
  }
 },
 "nbformat": 4,
 "nbformat_minor": 4
}
