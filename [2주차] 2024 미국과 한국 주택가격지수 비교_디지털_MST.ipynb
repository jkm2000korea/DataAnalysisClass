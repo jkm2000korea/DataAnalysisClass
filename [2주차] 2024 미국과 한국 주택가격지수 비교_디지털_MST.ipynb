{
 "cells": [
  {
   "cell_type": "markdown",
   "metadata": {},
   "source": [
    "# <span style=\"color:royalblue\"> [2주차] 매크로 경제 분석</span> <img src=\"./data/logo.png\" style=\"width: 120px;\" align=\"right\">\n",
    "# 미국과 한국 주택가격지수 비교 분석 \n",
    "\n",
    "--- "
   ]
  },
  {
   "cell_type": "markdown",
   "metadata": {
    "ExecuteTime": {
     "end_time": "2021-10-05T05:57:05.095771Z",
     "start_time": "2021-10-05T05:57:05.080823Z"
    }
   },
   "source": [
    "<div style=\"text-align: right\"> Final Edition : 2024.07.19<br>\n",
    "    copyrightⓒ 2024 All rights reserved by Data Lover Pablo </div>"
   ]
  },
  {
   "cell_type": "markdown",
   "metadata": {
    "ExecuteTime": {
     "end_time": "2021-08-13T04:45:48.278680Z",
     "start_time": "2021-08-13T04:45:46.962Z"
    }
   },
   "source": [
    "# 1. 미국과 한국의 주택가격지수 비교"
   ]
  },
  {
   "cell_type": "markdown",
   "metadata": {},
   "source": [
    "## 1.1 미국 주택 가격지수 데이터"
   ]
  },
  {
   "cell_type": "markdown",
   "metadata": {
    "ExecuteTime": {
     "end_time": "2021-08-13T04:45:48.278680Z",
     "start_time": "2021-08-13T04:45:46.962Z"
    }
   },
   "source": [
    "### 1.1.1 FRED(Federal Reserve Bank of St. Louis) 미국 연방준비은행 연구소 제공 데이터 수집\n",
    "* 지수명 : All-Transactions House Price Index for the United States \n",
    "* Ticker : USSTHPI\n",
    "* 기준년월 : 1980.1Q 지수 = 100\n",
    "* 업데이트 주기 : 분기1회. 2024년 5월 28일에 2023 Q1 데이터 업데이트\n",
    "* 데이터 링크 : https://fred.stlouisfed.org/series/USSTHPI"
   ]
  },
  {
   "cell_type": "markdown",
   "metadata": {
    "ExecuteTime": {
     "end_time": "2021-10-10T07:36:38.028043Z",
     "start_time": "2021-10-10T07:36:38.013958Z"
    }
   },
   "source": [
    "<img src=\"./data/FRED.JPG\" alt=\"Drawing\" style=\"width: 1000px;\"/>"
   ]
  },
  {
   "cell_type": "code",
   "execution_count": 1,
   "metadata": {
    "ExecuteTime": {
     "end_time": "2024-07-19T14:53:22.050924Z",
     "start_time": "2024-07-19T14:53:19.169281Z"
    }
   },
   "outputs": [],
   "source": [
    "# 필요한 패키지 및 모듈 불러오기\n",
    "\n",
    "import pandas as pd\n",
    "import numpy as np\n",
    "from numpy.random import randn\n",
    "\n",
    "from datetime import datetime, timedelta # 시간과 날짜 간 차이 계산\n",
    "from dateutil.parser import parse\n",
    "from pandas.tseries.offsets import Hour, Minute"
   ]
  },
  {
   "cell_type": "markdown",
   "metadata": {},
   "source": [
    "parse : 파싱은 어떤 페이지(문서, html 등)에서 내가 원하는 데이터를 특정 패턴이나 순서로 추출해 가공하는 것을 말합니다.  "
   ]
  },
  {
   "cell_type": "markdown",
   "metadata": {},
   "source": [
    "### 1.1.2 데이터 불러오기"
   ]
  },
  {
   "cell_type": "code",
   "execution_count": 2,
   "metadata": {
    "ExecuteTime": {
     "end_time": "2024-07-19T14:53:22.104666Z",
     "start_time": "2024-07-19T14:53:22.050924Z"
    }
   },
   "outputs": [
    {
     "data": {
      "text/html": [
       "<div>\n",
       "<style scoped>\n",
       "    .dataframe tbody tr th:only-of-type {\n",
       "        vertical-align: middle;\n",
       "    }\n",
       "\n",
       "    .dataframe tbody tr th {\n",
       "        vertical-align: top;\n",
       "    }\n",
       "\n",
       "    .dataframe thead th {\n",
       "        text-align: right;\n",
       "    }\n",
       "</style>\n",
       "<table border=\"1\" class=\"dataframe\">\n",
       "  <thead>\n",
       "    <tr style=\"text-align: right;\">\n",
       "      <th></th>\n",
       "      <th>DATE</th>\n",
       "      <th>USSTHPI</th>\n",
       "    </tr>\n",
       "  </thead>\n",
       "  <tbody>\n",
       "    <tr>\n",
       "      <th>0</th>\n",
       "      <td>1975-01-01</td>\n",
       "      <td>59.93</td>\n",
       "    </tr>\n",
       "    <tr>\n",
       "      <th>1</th>\n",
       "      <td>1975-04-01</td>\n",
       "      <td>60.79</td>\n",
       "    </tr>\n",
       "    <tr>\n",
       "      <th>2</th>\n",
       "      <td>1975-07-01</td>\n",
       "      <td>61.21</td>\n",
       "    </tr>\n",
       "    <tr>\n",
       "      <th>3</th>\n",
       "      <td>1975-10-01</td>\n",
       "      <td>62.26</td>\n",
       "    </tr>\n",
       "    <tr>\n",
       "      <th>4</th>\n",
       "      <td>1976-01-01</td>\n",
       "      <td>62.87</td>\n",
       "    </tr>\n",
       "    <tr>\n",
       "      <th>...</th>\n",
       "      <td>...</td>\n",
       "      <td>...</td>\n",
       "    </tr>\n",
       "    <tr>\n",
       "      <th>192</th>\n",
       "      <td>2023-01-01</td>\n",
       "      <td>625.42</td>\n",
       "    </tr>\n",
       "    <tr>\n",
       "      <th>193</th>\n",
       "      <td>2023-04-01</td>\n",
       "      <td>644.84</td>\n",
       "    </tr>\n",
       "    <tr>\n",
       "      <th>194</th>\n",
       "      <td>2023-07-01</td>\n",
       "      <td>656.96</td>\n",
       "    </tr>\n",
       "    <tr>\n",
       "      <th>195</th>\n",
       "      <td>2023-10-01</td>\n",
       "      <td>657.70</td>\n",
       "    </tr>\n",
       "    <tr>\n",
       "      <th>196</th>\n",
       "      <td>2024-01-01</td>\n",
       "      <td>664.58</td>\n",
       "    </tr>\n",
       "  </tbody>\n",
       "</table>\n",
       "<p>197 rows × 2 columns</p>\n",
       "</div>"
      ],
      "text/plain": [
       "           DATE  USSTHPI\n",
       "0    1975-01-01    59.93\n",
       "1    1975-04-01    60.79\n",
       "2    1975-07-01    61.21\n",
       "3    1975-10-01    62.26\n",
       "4    1976-01-01    62.87\n",
       "..          ...      ...\n",
       "192  2023-01-01   625.42\n",
       "193  2023-04-01   644.84\n",
       "194  2023-07-01   656.96\n",
       "195  2023-10-01   657.70\n",
       "196  2024-01-01   664.58\n",
       "\n",
       "[197 rows x 2 columns]"
      ]
     },
     "execution_count": 2,
     "metadata": {},
     "output_type": "execute_result"
    }
   ],
   "source": [
    "# House_Price_Index_US\n",
    "df_us = pd.read_csv('./data/USSTHPI_202407.csv')\n",
    "df_us"
   ]
  },
  {
   "cell_type": "code",
   "execution_count": 3,
   "metadata": {
    "ExecuteTime": {
     "end_time": "2024-07-19T14:53:23.521928Z",
     "start_time": "2024-07-19T14:53:23.512592Z"
    }
   },
   "outputs": [
    {
     "data": {
      "text/plain": [
       "DATE        object\n",
       "USSTHPI    float64\n",
       "dtype: object"
      ]
     },
     "execution_count": 3,
     "metadata": {},
     "output_type": "execute_result"
    }
   ],
   "source": [
    "# 데이터 타입 확인\n",
    "df_us.dtypes\n",
    "\n",
    "# us.to_frame()\n",
    "# 현재 날짜는 문자열, 지수는 정수 타입입니다."
   ]
  },
  {
   "cell_type": "code",
   "execution_count": 4,
   "metadata": {
    "ExecuteTime": {
     "end_time": "2024-07-19T14:53:25.086956Z",
     "start_time": "2024-07-19T14:53:25.056759Z"
    }
   },
   "outputs": [
    {
     "name": "stdout",
     "output_type": "stream",
     "text": [
      "<class 'pandas.core.frame.DataFrame'>\n",
      "RangeIndex: 197 entries, 0 to 196\n",
      "Data columns (total 2 columns):\n",
      " #   Column   Non-Null Count  Dtype  \n",
      "---  ------   --------------  -----  \n",
      " 0   DATE     197 non-null    object \n",
      " 1   USSTHPI  197 non-null    float64\n",
      "dtypes: float64(1), object(1)\n",
      "memory usage: 3.2+ KB\n"
     ]
    }
   ],
   "source": [
    "df_us.info()"
   ]
  },
  {
   "cell_type": "markdown",
   "metadata": {},
   "source": [
    "### 1.1.3 데이터 타입 변경(시계열)"
   ]
  },
  {
   "cell_type": "code",
   "execution_count": 5,
   "metadata": {
    "ExecuteTime": {
     "end_time": "2024-07-19T14:53:26.853668Z",
     "start_time": "2024-07-19T14:53:26.841797Z"
    }
   },
   "outputs": [
    {
     "data": {
      "text/plain": [
       "0      1975-01-01\n",
       "1      1975-04-01\n",
       "2      1975-07-01\n",
       "3      1975-10-01\n",
       "4      1976-01-01\n",
       "          ...    \n",
       "192    2023-01-01\n",
       "193    2023-04-01\n",
       "194    2023-07-01\n",
       "195    2023-10-01\n",
       "196    2024-01-01\n",
       "Name: DATE, Length: 197, dtype: object"
      ]
     },
     "execution_count": 5,
     "metadata": {},
     "output_type": "execute_result"
    }
   ],
   "source": [
    "df_us['DATE']"
   ]
  },
  {
   "cell_type": "code",
   "execution_count": 6,
   "metadata": {
    "ExecuteTime": {
     "end_time": "2024-07-19T14:53:27.502851Z",
     "start_time": "2024-07-19T14:53:27.487121Z"
    }
   },
   "outputs": [
    {
     "name": "stdout",
     "output_type": "stream",
     "text": [
      "<class 'pandas.core.frame.DataFrame'>\n",
      "RangeIndex: 197 entries, 0 to 196\n",
      "Data columns (total 2 columns):\n",
      " #   Column   Non-Null Count  Dtype         \n",
      "---  ------   --------------  -----         \n",
      " 0   DATE     197 non-null    datetime64[ns]\n",
      " 1   USSTHPI  197 non-null    float64       \n",
      "dtypes: datetime64[ns](1), float64(1)\n",
      "memory usage: 3.2 KB\n"
     ]
    }
   ],
   "source": [
    "# 문자열로 되어 있는 칼럼을 날짜타입으로 변경해줍니다. convert the 'Date' column to datetime format\n",
    "df_us['DATE']= pd.to_datetime(df_us['DATE'])\n",
    " \n",
    "# Check the format of 'Date' column\n",
    "df_us.info()"
   ]
  },
  {
   "cell_type": "code",
   "execution_count": 7,
   "metadata": {
    "ExecuteTime": {
     "end_time": "2024-07-19T14:53:28.297502Z",
     "start_time": "2024-07-19T14:53:28.281521Z"
    }
   },
   "outputs": [
    {
     "data": {
      "text/plain": [
       "(197, 2)"
      ]
     },
     "execution_count": 7,
     "metadata": {},
     "output_type": "execute_result"
    }
   ],
   "source": [
    "df_us.shape"
   ]
  },
  {
   "cell_type": "markdown",
   "metadata": {},
   "source": [
    "### 1.1.4 미국 주택 가격지수 시각화"
   ]
  },
  {
   "cell_type": "markdown",
   "metadata": {
    "ExecuteTime": {
     "end_time": "2021-08-17T07:27:17.447717Z",
     "start_time": "2021-08-17T07:27:15.280238Z"
    }
   },
   "source": [
    "rc 파라미터 설정 : [matplotlib 공식 다큐먼트](https://matplotlib.org/stable/api/_as_gen/matplotlib.pyplot.rc.html)"
   ]
  },
  {
   "cell_type": "code",
   "execution_count": 10,
   "metadata": {
    "ExecuteTime": {
     "end_time": "2024-07-19T14:53:59.212769Z",
     "start_time": "2024-07-19T14:53:58.915430Z"
    }
   },
   "outputs": [
    {
     "data": {
      "text/plain": [
       "<AxesSubplot: xlabel='DATE'>"
      ]
     },
     "execution_count": 10,
     "metadata": {},
     "output_type": "execute_result"
    },
    {
     "data": {
      "image/png": "[encoded data removed]",
      "text/plain": [
       "<Figure size 2000x1000 with 1 Axes>"
      ]
     },
     "metadata": {},
     "output_type": "display_data"
    }
   ],
   "source": [
    "import matplotlib.pyplot as plt\n",
    "import datetime as dt\n",
    "\n",
    "plt.style.use('default') \n",
    "plt.rc('figure', figsize=(20, 10))\n",
    "plt.rc('font', family='NanumGothic')\n",
    "\n",
    "# x축에 날짜, y축에 지수를 넣고 간단히 그려봅니다.\n",
    "df_us.plot('DATE', 'USSTHPI')"
   ]
  },
  {
   "cell_type": "code",
   "execution_count": 11,
   "metadata": {
    "ExecuteTime": {
     "end_time": "2024-07-19T14:54:07.269683Z",
     "start_time": "2024-07-19T14:54:06.866765Z"
    }
   },
   "outputs": [
    {
     "data": {
      "image/png": "[encoded data removed]",
      "text/plain": [
       "<Figure size 2000x1000 with 1 Axes>"
      ]
     },
     "metadata": {},
     "output_type": "display_data"
    }
   ],
   "source": [
    "xs      = df_us['DATE'].to_list()\n",
    "xlabels = df_us['DATE'].dt.year.to_list() # 1975, 1975,1975, 1975, 1976....\n",
    "\n",
    "ys      = df_us['USSTHPI'].to_list()\n",
    "\n",
    "plt.plot(xs, ys)\n",
    "\n",
    "plt.xticks(ticks=xs, labels=xlabels, rotation=45)\n",
    "plt.xlabel('USSTHPI')\n",
    "\n",
    "plt.locator_params(axis='x', nbins=len(xlabels)/4)"
   ]
  },
  {
   "cell_type": "code",
   "execution_count": 12,
   "metadata": {
    "ExecuteTime": {
     "end_time": "2024-07-19T14:54:07.870053Z",
     "start_time": "2024-07-19T14:54:07.852546Z"
    }
   },
   "outputs": [
    {
     "data": {
      "text/plain": [
       "197"
      ]
     },
     "execution_count": 12,
     "metadata": {},
     "output_type": "execute_result"
    }
   ],
   "source": [
    "len(xlabels)"
   ]
  },
  {
   "cell_type": "code",
   "execution_count": 13,
   "metadata": {
    "ExecuteTime": {
     "end_time": "2024-07-19T14:54:08.594037Z",
     "start_time": "2024-07-19T14:54:08.586716Z"
    }
   },
   "outputs": [
    {
     "data": {
      "text/plain": [
       "0      1975\n",
       "1      1975\n",
       "2      1975\n",
       "3      1975\n",
       "4      1976\n",
       "       ... \n",
       "192    2023\n",
       "193    2023\n",
       "194    2023\n",
       "195    2023\n",
       "196    2024\n",
       "Name: DATE, Length: 197, dtype: int64"
      ]
     },
     "execution_count": 13,
     "metadata": {},
     "output_type": "execute_result"
    }
   ],
   "source": [
    "x=df_us['DATE'].dt.year\n",
    "x"
   ]
  },
  {
   "cell_type": "markdown",
   "metadata": {},
   "source": [
    "## 1.2 한국 공동주택 가격지수 데이터 수집"
   ]
  },
  {
   "cell_type": "markdown",
   "metadata": {},
   "source": [
    "### 1.2.1 KOSIS 국가통계포털 제공 데이터 수집\n",
    "* 지수명 : 공동주택 통합 매매 실거래가격지수 (한국부동산원. 2017.11 = 100) cf. 종합주택매매가격지수(2021.6 지수 = 100) \n",
    "* 기준년월 : 2017.11 지수 - 100 (2021.6 지수 = 100)\n",
    "* 수집방법 : 지수산정기간 중 거래신고가 2번 이상 있는 동일 아파트의 가격변동률과 거래량으로 지수 산출\n",
    "* 조사기관 : [한국부동산원](http://www.r-one.co.kr/rone/resis/statistics/statisticsViewer.do?menuId=HOUSE_21111)\n",
    "* 제공링크 : https://kosis.kr/statHtml/statHtml.do?orgId=408&tblId=DT_KAB_11672_S13&conn_path=I2\n",
    "* 다운로드 : 1) 항목탭 : \"지수\" 선택  2) 행정구역별탭 : \"전국\" 선택  3) 시점탭 : 2006.01 ~ 2021.06 선택  4) 통계표 조회 버튼 클릭\n",
    "5) 행렬전환 6) 다운로드 버튼 클릭   7) CSV 파일로 저장하고 경로설정"
   ]
  },
  {
   "cell_type": "markdown",
   "metadata": {},
   "source": [
    "### 1.2.2 데이터 불러오기"
   ]
  },
  {
   "cell_type": "code",
   "execution_count": 14,
   "metadata": {
    "ExecuteTime": {
     "end_time": "2024-07-19T14:58:03.214913Z",
     "start_time": "2024-07-19T14:58:03.198098Z"
    }
   },
   "outputs": [
    {
     "data": {
      "text/html": [
       "<div>\n",
       "<style scoped>\n",
       "    .dataframe tbody tr th:only-of-type {\n",
       "        vertical-align: middle;\n",
       "    }\n",
       "\n",
       "    .dataframe tbody tr th {\n",
       "        vertical-align: top;\n",
       "    }\n",
       "\n",
       "    .dataframe thead th {\n",
       "        text-align: right;\n",
       "    }\n",
       "</style>\n",
       "<table border=\"1\" class=\"dataframe\">\n",
       "  <thead>\n",
       "    <tr style=\"text-align: right;\">\n",
       "      <th></th>\n",
       "      <th>시점</th>\n",
       "      <th>전국</th>\n",
       "    </tr>\n",
       "  </thead>\n",
       "  <tbody>\n",
       "    <tr>\n",
       "      <th>0</th>\n",
       "      <td>시점</td>\n",
       "      <td>지수 (2017.11 = 100.0)</td>\n",
       "    </tr>\n",
       "    <tr>\n",
       "      <th>1</th>\n",
       "      <td>2006.01</td>\n",
       "      <td>58.2</td>\n",
       "    </tr>\n",
       "    <tr>\n",
       "      <th>2</th>\n",
       "      <td>2006.02</td>\n",
       "      <td>58.6</td>\n",
       "    </tr>\n",
       "    <tr>\n",
       "      <th>3</th>\n",
       "      <td>2006.03</td>\n",
       "      <td>59.3</td>\n",
       "    </tr>\n",
       "    <tr>\n",
       "      <th>4</th>\n",
       "      <td>2006.04</td>\n",
       "      <td>59.7</td>\n",
       "    </tr>\n",
       "    <tr>\n",
       "      <th>...</th>\n",
       "      <td>...</td>\n",
       "      <td>...</td>\n",
       "    </tr>\n",
       "    <tr>\n",
       "      <th>216</th>\n",
       "      <td>2023.12</td>\n",
       "      <td>120.5</td>\n",
       "    </tr>\n",
       "    <tr>\n",
       "      <th>217</th>\n",
       "      <td>2024.01</td>\n",
       "      <td>121.0</td>\n",
       "    </tr>\n",
       "    <tr>\n",
       "      <th>218</th>\n",
       "      <td>2024.02</td>\n",
       "      <td>120.9</td>\n",
       "    </tr>\n",
       "    <tr>\n",
       "      <th>219</th>\n",
       "      <td>2024.03</td>\n",
       "      <td>121.2</td>\n",
       "    </tr>\n",
       "    <tr>\n",
       "      <th>220</th>\n",
       "      <td>2024.04</td>\n",
       "      <td>121.1</td>\n",
       "    </tr>\n",
       "  </tbody>\n",
       "</table>\n",
       "<p>221 rows × 2 columns</p>\n",
       "</div>"
      ],
      "text/plain": [
       "          시점                    전국\n",
       "0         시점  지수 (2017.11 = 100.0)\n",
       "1    2006.01                  58.2\n",
       "2    2006.02                  58.6\n",
       "3    2006.03                  59.3\n",
       "4    2006.04                  59.7\n",
       "..       ...                   ...\n",
       "216  2023.12                 120.5\n",
       "217  2024.01                 121.0\n",
       "218  2024.02                 120.9\n",
       "219  2024.03                 121.2\n",
       "220  2024.04                 121.1\n",
       "\n",
       "[221 rows x 2 columns]"
      ]
     },
     "execution_count": 14,
     "metadata": {},
     "output_type": "execute_result"
    }
   ],
   "source": [
    "import pandas as pd\n",
    "\n",
    "import warnings\n",
    "warnings.simplefilter(\"ignore\")\n",
    "\n",
    "df_kr = pd.read_csv('./data/공동주택_통합_매매_실거래가격지수_20240719235749.csv', encoding='cp949')\n",
    "df_kr"
   ]
  },
  {
   "cell_type": "code",
   "execution_count": 15,
   "metadata": {
    "ExecuteTime": {
     "end_time": "2024-07-19T14:58:03.803988Z",
     "start_time": "2024-07-19T14:58:03.793730Z"
    }
   },
   "outputs": [],
   "source": [
    "# 1번째 행부터 끝행 까지 데이터를 추출\n",
    "df_kr = df_kr[1::]"
   ]
  },
  {
   "cell_type": "code",
   "execution_count": 16,
   "metadata": {
    "ExecuteTime": {
     "end_time": "2024-07-19T14:58:04.420226Z",
     "start_time": "2024-07-19T14:58:04.396786Z"
    }
   },
   "outputs": [
    {
     "data": {
      "text/html": [
       "<div>\n",
       "<style scoped>\n",
       "    .dataframe tbody tr th:only-of-type {\n",
       "        vertical-align: middle;\n",
       "    }\n",
       "\n",
       "    .dataframe tbody tr th {\n",
       "        vertical-align: top;\n",
       "    }\n",
       "\n",
       "    .dataframe thead th {\n",
       "        text-align: right;\n",
       "    }\n",
       "</style>\n",
       "<table border=\"1\" class=\"dataframe\">\n",
       "  <thead>\n",
       "    <tr style=\"text-align: right;\">\n",
       "      <th></th>\n",
       "      <th>시점</th>\n",
       "      <th>전국</th>\n",
       "    </tr>\n",
       "  </thead>\n",
       "  <tbody>\n",
       "    <tr>\n",
       "      <th>1</th>\n",
       "      <td>2006.01</td>\n",
       "      <td>58.2</td>\n",
       "    </tr>\n",
       "    <tr>\n",
       "      <th>2</th>\n",
       "      <td>2006.02</td>\n",
       "      <td>58.6</td>\n",
       "    </tr>\n",
       "    <tr>\n",
       "      <th>3</th>\n",
       "      <td>2006.03</td>\n",
       "      <td>59.3</td>\n",
       "    </tr>\n",
       "    <tr>\n",
       "      <th>4</th>\n",
       "      <td>2006.04</td>\n",
       "      <td>59.7</td>\n",
       "    </tr>\n",
       "    <tr>\n",
       "      <th>5</th>\n",
       "      <td>2006.05</td>\n",
       "      <td>60.2</td>\n",
       "    </tr>\n",
       "    <tr>\n",
       "      <th>...</th>\n",
       "      <td>...</td>\n",
       "      <td>...</td>\n",
       "    </tr>\n",
       "    <tr>\n",
       "      <th>216</th>\n",
       "      <td>2023.12</td>\n",
       "      <td>120.5</td>\n",
       "    </tr>\n",
       "    <tr>\n",
       "      <th>217</th>\n",
       "      <td>2024.01</td>\n",
       "      <td>121.0</td>\n",
       "    </tr>\n",
       "    <tr>\n",
       "      <th>218</th>\n",
       "      <td>2024.02</td>\n",
       "      <td>120.9</td>\n",
       "    </tr>\n",
       "    <tr>\n",
       "      <th>219</th>\n",
       "      <td>2024.03</td>\n",
       "      <td>121.2</td>\n",
       "    </tr>\n",
       "    <tr>\n",
       "      <th>220</th>\n",
       "      <td>2024.04</td>\n",
       "      <td>121.1</td>\n",
       "    </tr>\n",
       "  </tbody>\n",
       "</table>\n",
       "<p>220 rows × 2 columns</p>\n",
       "</div>"
      ],
      "text/plain": [
       "          시점     전국\n",
       "1    2006.01   58.2\n",
       "2    2006.02   58.6\n",
       "3    2006.03   59.3\n",
       "4    2006.04   59.7\n",
       "5    2006.05   60.2\n",
       "..       ...    ...\n",
       "216  2023.12  120.5\n",
       "217  2024.01  121.0\n",
       "218  2024.02  120.9\n",
       "219  2024.03  121.2\n",
       "220  2024.04  121.1\n",
       "\n",
       "[220 rows x 2 columns]"
      ]
     },
     "execution_count": 16,
     "metadata": {},
     "output_type": "execute_result"
    }
   ],
   "source": [
    "df_kr"
   ]
  },
  {
   "cell_type": "code",
   "execution_count": 17,
   "metadata": {
    "ExecuteTime": {
     "end_time": "2024-07-19T14:58:05.056356Z",
     "start_time": "2024-07-19T14:58:05.038708Z"
    }
   },
   "outputs": [
    {
     "data": {
      "text/plain": [
       "0     1975-01-01\n",
       "1     1975-04-01\n",
       "2     1975-07-01\n",
       "3     1975-10-01\n",
       "4     1976-01-01\n",
       "         ...    \n",
       "192   2023-01-01\n",
       "193   2023-04-01\n",
       "194   2023-07-01\n",
       "195   2023-10-01\n",
       "196   2024-01-01\n",
       "Name: DATE, Length: 197, dtype: datetime64[ns]"
      ]
     },
     "execution_count": 17,
     "metadata": {},
     "output_type": "execute_result"
    }
   ],
   "source": [
    "df_us['DATE']"
   ]
  },
  {
   "cell_type": "code",
   "execution_count": 18,
   "metadata": {
    "ExecuteTime": {
     "end_time": "2024-07-19T14:58:05.856827Z",
     "start_time": "2024-07-19T14:58:05.837747Z"
    }
   },
   "outputs": [
    {
     "data": {
      "text/plain": [
       "1      2006.01\n",
       "2      2006.02\n",
       "3      2006.03\n",
       "4      2006.04\n",
       "5      2006.05\n",
       "        ...   \n",
       "216    2023.12\n",
       "217    2024.01\n",
       "218    2024.02\n",
       "219    2024.03\n",
       "220    2024.04\n",
       "Name: 시점, Length: 220, dtype: object"
      ]
     },
     "execution_count": 18,
     "metadata": {},
     "output_type": "execute_result"
    }
   ],
   "source": [
    "df_kr['시점']"
   ]
  },
  {
   "cell_type": "code",
   "execution_count": 19,
   "metadata": {
    "ExecuteTime": {
     "end_time": "2024-07-19T14:58:06.501415Z",
     "start_time": "2024-07-19T14:58:06.494188Z"
    }
   },
   "outputs": [],
   "source": [
    "# 2가지 문제점 발생.\n",
    "# 1. 데이터 타입이 object\n",
    "# 2. 미국은 2021-04-01 이고, 한국은 2006.01 으로 표현이 다릅니다.\n",
    "\n",
    "# 한국 공동주택 매매가격지수의 시점 칼럼의 데이터 타입도 마찬가지로 문자열 -> datetime으로 변환해주어야 합니다."
   ]
  },
  {
   "cell_type": "code",
   "execution_count": 20,
   "metadata": {
    "ExecuteTime": {
     "end_time": "2024-07-19T14:58:06.973756Z",
     "start_time": "2024-07-19T14:58:06.958376Z"
    }
   },
   "outputs": [],
   "source": [
    "# pd.to_datetime(df_us['DATE'])"
   ]
  },
  {
   "cell_type": "markdown",
   "metadata": {},
   "source": [
    "### 1.2.3 데이터 타입 변경(시계열)"
   ]
  },
  {
   "cell_type": "code",
   "execution_count": 21,
   "metadata": {
    "ExecuteTime": {
     "end_time": "2024-07-19T14:58:08.057563Z",
     "start_time": "2024-07-19T14:58:08.038092Z"
    }
   },
   "outputs": [
    {
     "data": {
      "text/plain": [
       "1     2006-01-01\n",
       "2     2006-02-01\n",
       "3     2006-03-01\n",
       "4     2006-04-01\n",
       "5     2006-05-01\n",
       "         ...    \n",
       "216   2023-12-01\n",
       "217   2024-01-01\n",
       "218   2024-02-01\n",
       "219   2024-03-01\n",
       "220   2024-04-01\n",
       "Name: 시점, Length: 220, dtype: datetime64[ns]"
      ]
     },
     "execution_count": 21,
     "metadata": {},
     "output_type": "execute_result"
    }
   ],
   "source": [
    "# 시리즈(Series) 데이터를 시계열로 변환하는 방법\n",
    "pd.to_datetime(df_kr['시점']) #inplace =True"
   ]
  },
  {
   "cell_type": "code",
   "execution_count": 22,
   "metadata": {
    "ExecuteTime": {
     "end_time": "2024-07-19T14:58:08.640203Z",
     "start_time": "2024-07-19T14:58:08.623994Z"
    }
   },
   "outputs": [],
   "source": [
    "# 잘못된 예\n",
    "# df_kr['시점'].to_datetime\n",
    "# >>> 'Series' object has no attribute 'to_datetime'"
   ]
  },
  {
   "cell_type": "code",
   "execution_count": 23,
   "metadata": {
    "ExecuteTime": {
     "end_time": "2024-07-19T14:58:09.106500Z",
     "start_time": "2024-07-19T14:58:09.075750Z"
    }
   },
   "outputs": [],
   "source": [
    "import warnings\n",
    "warnings.filterwarnings(\"ignore\")\n",
    "\n",
    "# to_datetime() 함수는 inplace = True 라는 인자가 없습니다.\n",
    "\n",
    "df_us['Time'] = pd.to_datetime(df_us['DATE'])\n",
    "df_kr['Time'] = pd.to_datetime(df_kr['시점'])"
   ]
  },
  {
   "cell_type": "markdown",
   "metadata": {},
   "source": [
    "### [참고 Tutorial] 데이터 추출하기 : iloc와 loc 차이\n",
    "\n",
    "1. iloc  \n",
    "integer location의 약어. 데이터프레임의 행이나 칼럼을 순서를 index(정수값)으로 추출하는 방식\n",
    "df.iloc[행 인덱스, 열 인덱스]\n",
    "\n",
    "2. loc  \n",
    "loc는 칼럼명을 직접 적거나 특정조건식을 써서 사람이 읽기 편하게 데이터에 접근\n",
    "df.loc[행 이름, 열 이름]\n",
    "\n",
    "[pandas 공식 튜토리얼](https://pandas.pydata.org/pandas-docs/stable/user_guide/indexing.html#returning-a-view-versus-a-copy)"
   ]
  },
  {
   "cell_type": "code",
   "execution_count": 24,
   "metadata": {
    "ExecuteTime": {
     "end_time": "2024-07-19T14:58:10.068451Z",
     "start_time": "2024-07-19T14:58:10.047597Z"
    },
    "scrolled": true
   },
   "outputs": [
    {
     "data": {
      "text/plain": [
       "시점                  2006.01\n",
       "전국                     58.2\n",
       "Time    2006-01-01 00:00:00\n",
       "Name: 1, dtype: object"
      ]
     },
     "execution_count": 24,
     "metadata": {},
     "output_type": "execute_result"
    }
   ],
   "source": [
    "df_kr.iloc[0]"
   ]
  },
  {
   "cell_type": "code",
   "execution_count": 25,
   "metadata": {
    "ExecuteTime": {
     "end_time": "2024-07-19T14:58:10.684945Z",
     "start_time": "2024-07-19T14:58:10.678609Z"
    }
   },
   "outputs": [
    {
     "data": {
      "text/plain": [
       "시점                  2006.01\n",
       "전국                     58.2\n",
       "Time    2006-01-01 00:00:00\n",
       "Name: 1, dtype: object"
      ]
     },
     "execution_count": 25,
     "metadata": {},
     "output_type": "execute_result"
    }
   ],
   "source": [
    "df_kr.loc[1]"
   ]
  },
  {
   "cell_type": "code",
   "execution_count": 26,
   "metadata": {
    "ExecuteTime": {
     "end_time": "2024-07-19T14:58:11.190233Z",
     "start_time": "2024-07-19T14:58:11.174838Z"
    }
   },
   "outputs": [
    {
     "data": {
      "text/plain": [
       "'58.2'"
      ]
     },
     "execution_count": 26,
     "metadata": {},
     "output_type": "execute_result"
    }
   ],
   "source": [
    "#loc 행이름 열이름\n",
    "df_kr.loc[1]['전국']"
   ]
  },
  {
   "cell_type": "code",
   "execution_count": 27,
   "metadata": {
    "ExecuteTime": {
     "end_time": "2024-07-19T14:58:11.720405Z",
     "start_time": "2024-07-19T14:58:11.713757Z"
    }
   },
   "outputs": [
    {
     "data": {
      "text/plain": [
       "0     1975-01-01\n",
       "1     1975-04-01\n",
       "2     1975-07-01\n",
       "3     1975-10-01\n",
       "4     1976-01-01\n",
       "         ...    \n",
       "192   2023-01-01\n",
       "193   2023-04-01\n",
       "194   2023-07-01\n",
       "195   2023-10-01\n",
       "196   2024-01-01\n",
       "Name: Time, Length: 197, dtype: datetime64[ns]"
      ]
     },
     "execution_count": 27,
     "metadata": {},
     "output_type": "execute_result"
    }
   ],
   "source": [
    "df_us['Time']"
   ]
  },
  {
   "cell_type": "code",
   "execution_count": 28,
   "metadata": {
    "ExecuteTime": {
     "end_time": "2024-07-19T14:58:12.159915Z",
     "start_time": "2024-07-19T14:58:12.144749Z"
    },
    "scrolled": true
   },
   "outputs": [
    {
     "data": {
      "text/plain": [
       "1     2006-01-01\n",
       "2     2006-02-01\n",
       "3     2006-03-01\n",
       "4     2006-04-01\n",
       "5     2006-05-01\n",
       "         ...    \n",
       "216   2023-12-01\n",
       "217   2024-01-01\n",
       "218   2024-02-01\n",
       "219   2024-03-01\n",
       "220   2024-04-01\n",
       "Name: Time, Length: 220, dtype: datetime64[ns]"
      ]
     },
     "execution_count": 28,
     "metadata": {},
     "output_type": "execute_result"
    }
   ],
   "source": [
    "df_kr['Time']"
   ]
  },
  {
   "cell_type": "markdown",
   "metadata": {},
   "source": [
    "## 1.3 한국 데이터와 미국 데이터 병합(Merge)"
   ]
  },
  {
   "cell_type": "markdown",
   "metadata": {},
   "source": [
    "### 1.3.1 pd.merge_asof 함수\n",
    "Time-series friendly merging\n",
    "\n",
    "* pandas는 시계열 데이터 프레임을 합 칠수 있는 특별할 함수를 제공합니다.\n",
    "* 완전히 일치하는 키 대신에 direction='nearest' 가장 근접한 키를 기반으로 하는 점을 제외하면 left-join과 유사합니다.\n",
    "* 좌측 데이터 프레임의 각 행에 대해, 좌측 프레임의 키보다 적은 우측 프레임에서 최종 행을 선택합니다."
   ]
  },
  {
   "cell_type": "code",
   "execution_count": 29,
   "metadata": {
    "ExecuteTime": {
     "end_time": "2024-07-19T14:58:13.491493Z",
     "start_time": "2024-07-19T14:58:13.468179Z"
    }
   },
   "outputs": [],
   "source": [
    "df_merged = pd.merge_asof(\n",
    "    df_us, df_kr,\n",
    "    on='Time', direction='nearest')"
   ]
  },
  {
   "cell_type": "code",
   "execution_count": 30,
   "metadata": {
    "ExecuteTime": {
     "end_time": "2024-07-19T14:58:13.991597Z",
     "start_time": "2024-07-19T14:58:13.978858Z"
    }
   },
   "outputs": [
    {
     "data": {
      "text/html": [
       "<div>\n",
       "<style scoped>\n",
       "    .dataframe tbody tr th:only-of-type {\n",
       "        vertical-align: middle;\n",
       "    }\n",
       "\n",
       "    .dataframe tbody tr th {\n",
       "        vertical-align: top;\n",
       "    }\n",
       "\n",
       "    .dataframe thead th {\n",
       "        text-align: right;\n",
       "    }\n",
       "</style>\n",
       "<table border=\"1\" class=\"dataframe\">\n",
       "  <thead>\n",
       "    <tr style=\"text-align: right;\">\n",
       "      <th></th>\n",
       "      <th>DATE</th>\n",
       "      <th>USSTHPI</th>\n",
       "      <th>Time</th>\n",
       "      <th>시점</th>\n",
       "      <th>전국</th>\n",
       "    </tr>\n",
       "  </thead>\n",
       "  <tbody>\n",
       "    <tr>\n",
       "      <th>0</th>\n",
       "      <td>1975-01-01</td>\n",
       "      <td>59.93</td>\n",
       "      <td>1975-01-01</td>\n",
       "      <td>2006.01</td>\n",
       "      <td>58.2</td>\n",
       "    </tr>\n",
       "    <tr>\n",
       "      <th>1</th>\n",
       "      <td>1975-04-01</td>\n",
       "      <td>60.79</td>\n",
       "      <td>1975-04-01</td>\n",
       "      <td>2006.01</td>\n",
       "      <td>58.2</td>\n",
       "    </tr>\n",
       "    <tr>\n",
       "      <th>2</th>\n",
       "      <td>1975-07-01</td>\n",
       "      <td>61.21</td>\n",
       "      <td>1975-07-01</td>\n",
       "      <td>2006.01</td>\n",
       "      <td>58.2</td>\n",
       "    </tr>\n",
       "    <tr>\n",
       "      <th>3</th>\n",
       "      <td>1975-10-01</td>\n",
       "      <td>62.26</td>\n",
       "      <td>1975-10-01</td>\n",
       "      <td>2006.01</td>\n",
       "      <td>58.2</td>\n",
       "    </tr>\n",
       "    <tr>\n",
       "      <th>4</th>\n",
       "      <td>1976-01-01</td>\n",
       "      <td>62.87</td>\n",
       "      <td>1976-01-01</td>\n",
       "      <td>2006.01</td>\n",
       "      <td>58.2</td>\n",
       "    </tr>\n",
       "    <tr>\n",
       "      <th>...</th>\n",
       "      <td>...</td>\n",
       "      <td>...</td>\n",
       "      <td>...</td>\n",
       "      <td>...</td>\n",
       "      <td>...</td>\n",
       "    </tr>\n",
       "    <tr>\n",
       "      <th>192</th>\n",
       "      <td>2023-01-01</td>\n",
       "      <td>625.42</td>\n",
       "      <td>2023-01-01</td>\n",
       "      <td>2023.01</td>\n",
       "      <td>117.1</td>\n",
       "    </tr>\n",
       "    <tr>\n",
       "      <th>193</th>\n",
       "      <td>2023-04-01</td>\n",
       "      <td>644.84</td>\n",
       "      <td>2023-04-01</td>\n",
       "      <td>2023.04</td>\n",
       "      <td>119.7</td>\n",
       "    </tr>\n",
       "    <tr>\n",
       "      <th>194</th>\n",
       "      <td>2023-07-01</td>\n",
       "      <td>656.96</td>\n",
       "      <td>2023-07-01</td>\n",
       "      <td>2023.07</td>\n",
       "      <td>121.7</td>\n",
       "    </tr>\n",
       "    <tr>\n",
       "      <th>195</th>\n",
       "      <td>2023-10-01</td>\n",
       "      <td>657.70</td>\n",
       "      <td>2023-10-01</td>\n",
       "      <td>2023.10</td>\n",
       "      <td>122.6</td>\n",
       "    </tr>\n",
       "    <tr>\n",
       "      <th>196</th>\n",
       "      <td>2024-01-01</td>\n",
       "      <td>664.58</td>\n",
       "      <td>2024-01-01</td>\n",
       "      <td>2024.01</td>\n",
       "      <td>121.0</td>\n",
       "    </tr>\n",
       "  </tbody>\n",
       "</table>\n",
       "<p>197 rows × 5 columns</p>\n",
       "</div>"
      ],
      "text/plain": [
       "          DATE  USSTHPI       Time       시점     전국\n",
       "0   1975-01-01    59.93 1975-01-01  2006.01   58.2\n",
       "1   1975-04-01    60.79 1975-04-01  2006.01   58.2\n",
       "2   1975-07-01    61.21 1975-07-01  2006.01   58.2\n",
       "3   1975-10-01    62.26 1975-10-01  2006.01   58.2\n",
       "4   1976-01-01    62.87 1976-01-01  2006.01   58.2\n",
       "..         ...      ...        ...      ...    ...\n",
       "192 2023-01-01   625.42 2023-01-01  2023.01  117.1\n",
       "193 2023-04-01   644.84 2023-04-01  2023.04  119.7\n",
       "194 2023-07-01   656.96 2023-07-01  2023.07  121.7\n",
       "195 2023-10-01   657.70 2023-10-01  2023.10  122.6\n",
       "196 2024-01-01   664.58 2024-01-01  2024.01  121.0\n",
       "\n",
       "[197 rows x 5 columns]"
      ]
     },
     "execution_count": 30,
     "metadata": {},
     "output_type": "execute_result"
    }
   ],
   "source": [
    "df_merged "
   ]
  },
  {
   "cell_type": "code",
   "execution_count": 31,
   "metadata": {
    "ExecuteTime": {
     "end_time": "2024-07-19T14:58:14.442852Z",
     "start_time": "2024-07-19T14:58:14.429005Z"
    }
   },
   "outputs": [],
   "source": [
    "# 시점(Time)이 정확히 일치하는 값만 병합해줍니다.\n",
    "\n",
    "df_merged = pd.merge_asof(\n",
    "    df_us.sort_values(by='Time'), df_kr.sort_values(by='Time'),\n",
    "    on='Time', allow_exact_matches=True)"
   ]
  },
  {
   "cell_type": "code",
   "execution_count": 32,
   "metadata": {
    "ExecuteTime": {
     "end_time": "2024-07-19T14:58:14.991372Z",
     "start_time": "2024-07-19T14:58:14.954284Z"
    }
   },
   "outputs": [
    {
     "data": {
      "text/html": [
       "<div>\n",
       "<style scoped>\n",
       "    .dataframe tbody tr th:only-of-type {\n",
       "        vertical-align: middle;\n",
       "    }\n",
       "\n",
       "    .dataframe tbody tr th {\n",
       "        vertical-align: top;\n",
       "    }\n",
       "\n",
       "    .dataframe thead th {\n",
       "        text-align: right;\n",
       "    }\n",
       "</style>\n",
       "<table border=\"1\" class=\"dataframe\">\n",
       "  <thead>\n",
       "    <tr style=\"text-align: right;\">\n",
       "      <th></th>\n",
       "      <th>DATE</th>\n",
       "      <th>USSTHPI</th>\n",
       "      <th>Time</th>\n",
       "      <th>시점</th>\n",
       "      <th>전국</th>\n",
       "    </tr>\n",
       "  </thead>\n",
       "  <tbody>\n",
       "    <tr>\n",
       "      <th>0</th>\n",
       "      <td>1975-01-01</td>\n",
       "      <td>59.93</td>\n",
       "      <td>1975-01-01</td>\n",
       "      <td>NaN</td>\n",
       "      <td>NaN</td>\n",
       "    </tr>\n",
       "    <tr>\n",
       "      <th>1</th>\n",
       "      <td>1975-04-01</td>\n",
       "      <td>60.79</td>\n",
       "      <td>1975-04-01</td>\n",
       "      <td>NaN</td>\n",
       "      <td>NaN</td>\n",
       "    </tr>\n",
       "    <tr>\n",
       "      <th>2</th>\n",
       "      <td>1975-07-01</td>\n",
       "      <td>61.21</td>\n",
       "      <td>1975-07-01</td>\n",
       "      <td>NaN</td>\n",
       "      <td>NaN</td>\n",
       "    </tr>\n",
       "    <tr>\n",
       "      <th>3</th>\n",
       "      <td>1975-10-01</td>\n",
       "      <td>62.26</td>\n",
       "      <td>1975-10-01</td>\n",
       "      <td>NaN</td>\n",
       "      <td>NaN</td>\n",
       "    </tr>\n",
       "    <tr>\n",
       "      <th>4</th>\n",
       "      <td>1976-01-01</td>\n",
       "      <td>62.87</td>\n",
       "      <td>1976-01-01</td>\n",
       "      <td>NaN</td>\n",
       "      <td>NaN</td>\n",
       "    </tr>\n",
       "    <tr>\n",
       "      <th>...</th>\n",
       "      <td>...</td>\n",
       "      <td>...</td>\n",
       "      <td>...</td>\n",
       "      <td>...</td>\n",
       "      <td>...</td>\n",
       "    </tr>\n",
       "    <tr>\n",
       "      <th>192</th>\n",
       "      <td>2023-01-01</td>\n",
       "      <td>625.42</td>\n",
       "      <td>2023-01-01</td>\n",
       "      <td>2023.01</td>\n",
       "      <td>117.1</td>\n",
       "    </tr>\n",
       "    <tr>\n",
       "      <th>193</th>\n",
       "      <td>2023-04-01</td>\n",
       "      <td>644.84</td>\n",
       "      <td>2023-04-01</td>\n",
       "      <td>2023.04</td>\n",
       "      <td>119.7</td>\n",
       "    </tr>\n",
       "    <tr>\n",
       "      <th>194</th>\n",
       "      <td>2023-07-01</td>\n",
       "      <td>656.96</td>\n",
       "      <td>2023-07-01</td>\n",
       "      <td>2023.07</td>\n",
       "      <td>121.7</td>\n",
       "    </tr>\n",
       "    <tr>\n",
       "      <th>195</th>\n",
       "      <td>2023-10-01</td>\n",
       "      <td>657.70</td>\n",
       "      <td>2023-10-01</td>\n",
       "      <td>2023.10</td>\n",
       "      <td>122.6</td>\n",
       "    </tr>\n",
       "    <tr>\n",
       "      <th>196</th>\n",
       "      <td>2024-01-01</td>\n",
       "      <td>664.58</td>\n",
       "      <td>2024-01-01</td>\n",
       "      <td>2024.01</td>\n",
       "      <td>121.0</td>\n",
       "    </tr>\n",
       "  </tbody>\n",
       "</table>\n",
       "<p>197 rows × 5 columns</p>\n",
       "</div>"
      ],
      "text/plain": [
       "          DATE  USSTHPI       Time       시점     전국\n",
       "0   1975-01-01    59.93 1975-01-01      NaN    NaN\n",
       "1   1975-04-01    60.79 1975-04-01      NaN    NaN\n",
       "2   1975-07-01    61.21 1975-07-01      NaN    NaN\n",
       "3   1975-10-01    62.26 1975-10-01      NaN    NaN\n",
       "4   1976-01-01    62.87 1976-01-01      NaN    NaN\n",
       "..         ...      ...        ...      ...    ...\n",
       "192 2023-01-01   625.42 2023-01-01  2023.01  117.1\n",
       "193 2023-04-01   644.84 2023-04-01  2023.04  119.7\n",
       "194 2023-07-01   656.96 2023-07-01  2023.07  121.7\n",
       "195 2023-10-01   657.70 2023-10-01  2023.10  122.6\n",
       "196 2024-01-01   664.58 2024-01-01  2024.01  121.0\n",
       "\n",
       "[197 rows x 5 columns]"
      ]
     },
     "execution_count": 32,
     "metadata": {},
     "output_type": "execute_result"
    }
   ],
   "source": [
    "df_merged"
   ]
  },
  {
   "cell_type": "markdown",
   "metadata": {},
   "source": [
    "## 1.4 결측치 처리"
   ]
  },
  {
   "cell_type": "code",
   "execution_count": 33,
   "metadata": {
    "ExecuteTime": {
     "end_time": "2024-07-19T14:58:15.807234Z",
     "start_time": "2024-07-19T14:58:15.791701Z"
    }
   },
   "outputs": [
    {
     "data": {
      "text/plain": [
       "DATE         0\n",
       "USSTHPI      0\n",
       "Time         0\n",
       "시점         124\n",
       "전국         124\n",
       "dtype: int64"
      ]
     },
     "execution_count": 33,
     "metadata": {},
     "output_type": "execute_result"
    }
   ],
   "source": [
    "df_merged.isnull().sum()"
   ]
  },
  {
   "cell_type": "code",
   "execution_count": 34,
   "metadata": {
    "ExecuteTime": {
     "end_time": "2024-07-19T14:58:16.357419Z",
     "start_time": "2024-07-19T14:58:16.335062Z"
    },
    "scrolled": true
   },
   "outputs": [
    {
     "data": {
      "text/html": [
       "<div>\n",
       "<style scoped>\n",
       "    .dataframe tbody tr th:only-of-type {\n",
       "        vertical-align: middle;\n",
       "    }\n",
       "\n",
       "    .dataframe tbody tr th {\n",
       "        vertical-align: top;\n",
       "    }\n",
       "\n",
       "    .dataframe thead th {\n",
       "        text-align: right;\n",
       "    }\n",
       "</style>\n",
       "<table border=\"1\" class=\"dataframe\">\n",
       "  <thead>\n",
       "    <tr style=\"text-align: right;\">\n",
       "      <th></th>\n",
       "      <th>DATE</th>\n",
       "      <th>USSTHPI</th>\n",
       "      <th>Time</th>\n",
       "      <th>시점</th>\n",
       "      <th>전국</th>\n",
       "    </tr>\n",
       "  </thead>\n",
       "  <tbody>\n",
       "    <tr>\n",
       "      <th>0</th>\n",
       "      <td>False</td>\n",
       "      <td>False</td>\n",
       "      <td>False</td>\n",
       "      <td>True</td>\n",
       "      <td>True</td>\n",
       "    </tr>\n",
       "    <tr>\n",
       "      <th>1</th>\n",
       "      <td>False</td>\n",
       "      <td>False</td>\n",
       "      <td>False</td>\n",
       "      <td>True</td>\n",
       "      <td>True</td>\n",
       "    </tr>\n",
       "    <tr>\n",
       "      <th>2</th>\n",
       "      <td>False</td>\n",
       "      <td>False</td>\n",
       "      <td>False</td>\n",
       "      <td>True</td>\n",
       "      <td>True</td>\n",
       "    </tr>\n",
       "    <tr>\n",
       "      <th>3</th>\n",
       "      <td>False</td>\n",
       "      <td>False</td>\n",
       "      <td>False</td>\n",
       "      <td>True</td>\n",
       "      <td>True</td>\n",
       "    </tr>\n",
       "    <tr>\n",
       "      <th>4</th>\n",
       "      <td>False</td>\n",
       "      <td>False</td>\n",
       "      <td>False</td>\n",
       "      <td>True</td>\n",
       "      <td>True</td>\n",
       "    </tr>\n",
       "    <tr>\n",
       "      <th>...</th>\n",
       "      <td>...</td>\n",
       "      <td>...</td>\n",
       "      <td>...</td>\n",
       "      <td>...</td>\n",
       "      <td>...</td>\n",
       "    </tr>\n",
       "    <tr>\n",
       "      <th>192</th>\n",
       "      <td>False</td>\n",
       "      <td>False</td>\n",
       "      <td>False</td>\n",
       "      <td>False</td>\n",
       "      <td>False</td>\n",
       "    </tr>\n",
       "    <tr>\n",
       "      <th>193</th>\n",
       "      <td>False</td>\n",
       "      <td>False</td>\n",
       "      <td>False</td>\n",
       "      <td>False</td>\n",
       "      <td>False</td>\n",
       "    </tr>\n",
       "    <tr>\n",
       "      <th>194</th>\n",
       "      <td>False</td>\n",
       "      <td>False</td>\n",
       "      <td>False</td>\n",
       "      <td>False</td>\n",
       "      <td>False</td>\n",
       "    </tr>\n",
       "    <tr>\n",
       "      <th>195</th>\n",
       "      <td>False</td>\n",
       "      <td>False</td>\n",
       "      <td>False</td>\n",
       "      <td>False</td>\n",
       "      <td>False</td>\n",
       "    </tr>\n",
       "    <tr>\n",
       "      <th>196</th>\n",
       "      <td>False</td>\n",
       "      <td>False</td>\n",
       "      <td>False</td>\n",
       "      <td>False</td>\n",
       "      <td>False</td>\n",
       "    </tr>\n",
       "  </tbody>\n",
       "</table>\n",
       "<p>197 rows × 5 columns</p>\n",
       "</div>"
      ],
      "text/plain": [
       "      DATE  USSTHPI   Time     시점     전국\n",
       "0    False    False  False   True   True\n",
       "1    False    False  False   True   True\n",
       "2    False    False  False   True   True\n",
       "3    False    False  False   True   True\n",
       "4    False    False  False   True   True\n",
       "..     ...      ...    ...    ...    ...\n",
       "192  False    False  False  False  False\n",
       "193  False    False  False  False  False\n",
       "194  False    False  False  False  False\n",
       "195  False    False  False  False  False\n",
       "196  False    False  False  False  False\n",
       "\n",
       "[197 rows x 5 columns]"
      ]
     },
     "execution_count": 34,
     "metadata": {},
     "output_type": "execute_result"
    }
   ],
   "source": [
    "df_merged.isnull()"
   ]
  },
  {
   "cell_type": "markdown",
   "metadata": {},
   "source": [
    "### 1.4.1 결측치 시각화"
   ]
  },
  {
   "cell_type": "code",
   "execution_count": 35,
   "metadata": {
    "ExecuteTime": {
     "end_time": "2024-07-19T14:58:20.832487Z",
     "start_time": "2024-07-19T14:58:17.397633Z"
    }
   },
   "outputs": [
    {
     "data": {
      "text/plain": [
       "<AxesSubplot: >"
      ]
     },
     "execution_count": 35,
     "metadata": {},
     "output_type": "execute_result"
    },
    {
     "data": {
      "image/png": "[encoded data removed]",
      "text/plain": [
       "<Figure size 2500x1000 with 2 Axes>"
      ]
     },
     "metadata": {},
     "output_type": "display_data"
    }
   ],
   "source": [
    "# 패키지를 설치해주세요\n",
    "# !pip install missingno \n",
    "import missingno as msno\n",
    "\n",
    "# %matplotlib inline # notebook을 실행한 브라우저에서 바로 그림을 볼 수 있게 해줍니다.\n",
    "plt.rc('font', family = 'NanumGothic')\n",
    "msno.matrix(df_merged)"
   ]
  },
  {
   "cell_type": "code",
   "execution_count": 36,
   "metadata": {
    "ExecuteTime": {
     "end_time": "2024-07-19T14:58:21.537073Z",
     "start_time": "2024-07-19T14:58:21.525181Z"
    }
   },
   "outputs": [],
   "source": [
    "# msno.dendrogram(df_merged)\n",
    "# msno.heatmap(df_merged)\n",
    "# msno.bar(df_merged)"
   ]
  },
  {
   "cell_type": "code",
   "execution_count": 37,
   "metadata": {
    "ExecuteTime": {
     "end_time": "2024-07-19T14:58:22.297819Z",
     "start_time": "2024-07-19T14:58:22.288323Z"
    }
   },
   "outputs": [
    {
     "data": {
      "text/plain": [
       "DATE         0\n",
       "USSTHPI      0\n",
       "Time         0\n",
       "시점         124\n",
       "전국         124\n",
       "dtype: int64"
      ]
     },
     "execution_count": 37,
     "metadata": {},
     "output_type": "execute_result"
    }
   ],
   "source": [
    "df_merged.isnull().sum()"
   ]
  },
  {
   "cell_type": "markdown",
   "metadata": {},
   "source": [
    "### 1.4.2 결측치 제거"
   ]
  },
  {
   "cell_type": "code",
   "execution_count": 38,
   "metadata": {
    "ExecuteTime": {
     "end_time": "2024-07-19T14:58:23.261203Z",
     "start_time": "2024-07-19T14:58:23.232786Z"
    }
   },
   "outputs": [
    {
     "data": {
      "text/html": [
       "<div>\n",
       "<style scoped>\n",
       "    .dataframe tbody tr th:only-of-type {\n",
       "        vertical-align: middle;\n",
       "    }\n",
       "\n",
       "    .dataframe tbody tr th {\n",
       "        vertical-align: top;\n",
       "    }\n",
       "\n",
       "    .dataframe thead th {\n",
       "        text-align: right;\n",
       "    }\n",
       "</style>\n",
       "<table border=\"1\" class=\"dataframe\">\n",
       "  <thead>\n",
       "    <tr style=\"text-align: right;\">\n",
       "      <th></th>\n",
       "      <th>DATE</th>\n",
       "      <th>USSTHPI</th>\n",
       "      <th>Time</th>\n",
       "      <th>시점</th>\n",
       "      <th>전국</th>\n",
       "    </tr>\n",
       "  </thead>\n",
       "  <tbody>\n",
       "    <tr>\n",
       "      <th>124</th>\n",
       "      <td>2006-01-01</td>\n",
       "      <td>368.73</td>\n",
       "      <td>2006-01-01</td>\n",
       "      <td>2006.01</td>\n",
       "      <td>58.2</td>\n",
       "    </tr>\n",
       "    <tr>\n",
       "      <th>125</th>\n",
       "      <td>2006-04-01</td>\n",
       "      <td>372.50</td>\n",
       "      <td>2006-04-01</td>\n",
       "      <td>2006.04</td>\n",
       "      <td>59.7</td>\n",
       "    </tr>\n",
       "    <tr>\n",
       "      <th>126</th>\n",
       "      <td>2006-07-01</td>\n",
       "      <td>375.56</td>\n",
       "      <td>2006-07-01</td>\n",
       "      <td>2006.07</td>\n",
       "      <td>61.0</td>\n",
       "    </tr>\n",
       "    <tr>\n",
       "      <th>127</th>\n",
       "      <td>2006-10-01</td>\n",
       "      <td>379.42</td>\n",
       "      <td>2006-10-01</td>\n",
       "      <td>2006.10</td>\n",
       "      <td>66.0</td>\n",
       "    </tr>\n",
       "    <tr>\n",
       "      <th>128</th>\n",
       "      <td>2007-01-01</td>\n",
       "      <td>380.83</td>\n",
       "      <td>2007-01-01</td>\n",
       "      <td>2007.01</td>\n",
       "      <td>70.9</td>\n",
       "    </tr>\n",
       "    <tr>\n",
       "      <th>...</th>\n",
       "      <td>...</td>\n",
       "      <td>...</td>\n",
       "      <td>...</td>\n",
       "      <td>...</td>\n",
       "      <td>...</td>\n",
       "    </tr>\n",
       "    <tr>\n",
       "      <th>192</th>\n",
       "      <td>2023-01-01</td>\n",
       "      <td>625.42</td>\n",
       "      <td>2023-01-01</td>\n",
       "      <td>2023.01</td>\n",
       "      <td>117.1</td>\n",
       "    </tr>\n",
       "    <tr>\n",
       "      <th>193</th>\n",
       "      <td>2023-04-01</td>\n",
       "      <td>644.84</td>\n",
       "      <td>2023-04-01</td>\n",
       "      <td>2023.04</td>\n",
       "      <td>119.7</td>\n",
       "    </tr>\n",
       "    <tr>\n",
       "      <th>194</th>\n",
       "      <td>2023-07-01</td>\n",
       "      <td>656.96</td>\n",
       "      <td>2023-07-01</td>\n",
       "      <td>2023.07</td>\n",
       "      <td>121.7</td>\n",
       "    </tr>\n",
       "    <tr>\n",
       "      <th>195</th>\n",
       "      <td>2023-10-01</td>\n",
       "      <td>657.70</td>\n",
       "      <td>2023-10-01</td>\n",
       "      <td>2023.10</td>\n",
       "      <td>122.6</td>\n",
       "    </tr>\n",
       "    <tr>\n",
       "      <th>196</th>\n",
       "      <td>2024-01-01</td>\n",
       "      <td>664.58</td>\n",
       "      <td>2024-01-01</td>\n",
       "      <td>2024.01</td>\n",
       "      <td>121.0</td>\n",
       "    </tr>\n",
       "  </tbody>\n",
       "</table>\n",
       "<p>73 rows × 5 columns</p>\n",
       "</div>"
      ],
      "text/plain": [
       "          DATE  USSTHPI       Time       시점     전국\n",
       "124 2006-01-01   368.73 2006-01-01  2006.01   58.2\n",
       "125 2006-04-01   372.50 2006-04-01  2006.04   59.7\n",
       "126 2006-07-01   375.56 2006-07-01  2006.07   61.0\n",
       "127 2006-10-01   379.42 2006-10-01  2006.10   66.0\n",
       "128 2007-01-01   380.83 2007-01-01  2007.01   70.9\n",
       "..         ...      ...        ...      ...    ...\n",
       "192 2023-01-01   625.42 2023-01-01  2023.01  117.1\n",
       "193 2023-04-01   644.84 2023-04-01  2023.04  119.7\n",
       "194 2023-07-01   656.96 2023-07-01  2023.07  121.7\n",
       "195 2023-10-01   657.70 2023-10-01  2023.10  122.6\n",
       "196 2024-01-01   664.58 2024-01-01  2024.01  121.0\n",
       "\n",
       "[73 rows x 5 columns]"
      ]
     },
     "execution_count": 38,
     "metadata": {},
     "output_type": "execute_result"
    }
   ],
   "source": [
    "# axis = 0 은 기본값으로 행 방향(가로). axis=1 은 열 방향(세로) 입니다.\n",
    "df_merged.dropna(axis=0) "
   ]
  },
  {
   "cell_type": "markdown",
   "metadata": {},
   "source": [
    "## 1.5 데이터 전처리"
   ]
  },
  {
   "cell_type": "code",
   "execution_count": 39,
   "metadata": {
    "ExecuteTime": {
     "end_time": "2024-07-19T14:58:24.156668Z",
     "start_time": "2024-07-19T14:58:24.147757Z"
    }
   },
   "outputs": [
    {
     "name": "stdout",
     "output_type": "stream",
     "text": [
      "<class 'pandas.core.frame.DataFrame'>\n",
      "Int64Index: 197 entries, 0 to 196\n",
      "Data columns (total 5 columns):\n",
      " #   Column   Non-Null Count  Dtype         \n",
      "---  ------   --------------  -----         \n",
      " 0   DATE     197 non-null    datetime64[ns]\n",
      " 1   USSTHPI  197 non-null    float64       \n",
      " 2   Time     197 non-null    datetime64[ns]\n",
      " 3   시점       73 non-null     object        \n",
      " 4   전국       73 non-null     object        \n",
      "dtypes: datetime64[ns](2), float64(1), object(2)\n",
      "memory usage: 9.2+ KB\n"
     ]
    }
   ],
   "source": [
    "# 중요한 데이터 타입을 확인해봅니다. 시점과 인덱스 값이 여전히 문자열(object)입니다.\n",
    "df_merged.info()"
   ]
  },
  {
   "cell_type": "markdown",
   "metadata": {},
   "source": [
    "### 1.5.1 데이터 타입 변경"
   ]
  },
  {
   "cell_type": "code",
   "execution_count": 40,
   "metadata": {
    "ExecuteTime": {
     "end_time": "2024-07-19T14:58:25.056396Z",
     "start_time": "2024-07-19T14:58:25.047605Z"
    }
   },
   "outputs": [],
   "source": [
    "# 전국의 주택가격지수의 데이터 타입을 문자에서 숫자로 바꿔줍니다.\n",
    "df_merged['전국'] = df_merged['전국'].astype(np.float64)"
   ]
  },
  {
   "cell_type": "code",
   "execution_count": 41,
   "metadata": {
    "ExecuteTime": {
     "end_time": "2024-07-19T14:58:25.441039Z",
     "start_time": "2024-07-19T14:58:25.410925Z"
    }
   },
   "outputs": [
    {
     "data": {
      "text/plain": [
       "0     1975-01-01\n",
       "1     1975-04-01\n",
       "2     1975-07-01\n",
       "3     1975-10-01\n",
       "4     1976-01-01\n",
       "         ...    \n",
       "192   2023-01-01\n",
       "193   2023-04-01\n",
       "194   2023-07-01\n",
       "195   2023-10-01\n",
       "196   2024-01-01\n",
       "Name: Time, Length: 197, dtype: datetime64[ns]"
      ]
     },
     "execution_count": 41,
     "metadata": {},
     "output_type": "execute_result"
    }
   ],
   "source": [
    "df_merged['Time']"
   ]
  },
  {
   "cell_type": "code",
   "execution_count": 42,
   "metadata": {
    "ExecuteTime": {
     "end_time": "2024-07-19T14:58:25.875033Z",
     "start_time": "2024-07-19T14:58:25.842466Z"
    }
   },
   "outputs": [
    {
     "data": {
      "text/html": [
       "<div>\n",
       "<style scoped>\n",
       "    .dataframe tbody tr th:only-of-type {\n",
       "        vertical-align: middle;\n",
       "    }\n",
       "\n",
       "    .dataframe tbody tr th {\n",
       "        vertical-align: top;\n",
       "    }\n",
       "\n",
       "    .dataframe thead th {\n",
       "        text-align: right;\n",
       "    }\n",
       "</style>\n",
       "<table border=\"1\" class=\"dataframe\">\n",
       "  <thead>\n",
       "    <tr style=\"text-align: right;\">\n",
       "      <th></th>\n",
       "      <th>DATE</th>\n",
       "      <th>USSTHPI</th>\n",
       "      <th>Time</th>\n",
       "      <th>시점</th>\n",
       "      <th>전국</th>\n",
       "    </tr>\n",
       "  </thead>\n",
       "  <tbody>\n",
       "    <tr>\n",
       "      <th>0</th>\n",
       "      <td>1975-01-01</td>\n",
       "      <td>59.93</td>\n",
       "      <td>1975-01-01</td>\n",
       "      <td>NaN</td>\n",
       "      <td>NaN</td>\n",
       "    </tr>\n",
       "    <tr>\n",
       "      <th>1</th>\n",
       "      <td>1975-04-01</td>\n",
       "      <td>60.79</td>\n",
       "      <td>1975-04-01</td>\n",
       "      <td>NaN</td>\n",
       "      <td>NaN</td>\n",
       "    </tr>\n",
       "    <tr>\n",
       "      <th>2</th>\n",
       "      <td>1975-07-01</td>\n",
       "      <td>61.21</td>\n",
       "      <td>1975-07-01</td>\n",
       "      <td>NaN</td>\n",
       "      <td>NaN</td>\n",
       "    </tr>\n",
       "    <tr>\n",
       "      <th>3</th>\n",
       "      <td>1975-10-01</td>\n",
       "      <td>62.26</td>\n",
       "      <td>1975-10-01</td>\n",
       "      <td>NaN</td>\n",
       "      <td>NaN</td>\n",
       "    </tr>\n",
       "    <tr>\n",
       "      <th>4</th>\n",
       "      <td>1976-01-01</td>\n",
       "      <td>62.87</td>\n",
       "      <td>1976-01-01</td>\n",
       "      <td>NaN</td>\n",
       "      <td>NaN</td>\n",
       "    </tr>\n",
       "    <tr>\n",
       "      <th>...</th>\n",
       "      <td>...</td>\n",
       "      <td>...</td>\n",
       "      <td>...</td>\n",
       "      <td>...</td>\n",
       "      <td>...</td>\n",
       "    </tr>\n",
       "    <tr>\n",
       "      <th>192</th>\n",
       "      <td>2023-01-01</td>\n",
       "      <td>625.42</td>\n",
       "      <td>2023-01-01</td>\n",
       "      <td>2023.01</td>\n",
       "      <td>117.1</td>\n",
       "    </tr>\n",
       "    <tr>\n",
       "      <th>193</th>\n",
       "      <td>2023-04-01</td>\n",
       "      <td>644.84</td>\n",
       "      <td>2023-04-01</td>\n",
       "      <td>2023.04</td>\n",
       "      <td>119.7</td>\n",
       "    </tr>\n",
       "    <tr>\n",
       "      <th>194</th>\n",
       "      <td>2023-07-01</td>\n",
       "      <td>656.96</td>\n",
       "      <td>2023-07-01</td>\n",
       "      <td>2023.07</td>\n",
       "      <td>121.7</td>\n",
       "    </tr>\n",
       "    <tr>\n",
       "      <th>195</th>\n",
       "      <td>2023-10-01</td>\n",
       "      <td>657.70</td>\n",
       "      <td>2023-10-01</td>\n",
       "      <td>2023.10</td>\n",
       "      <td>122.6</td>\n",
       "    </tr>\n",
       "    <tr>\n",
       "      <th>196</th>\n",
       "      <td>2024-01-01</td>\n",
       "      <td>664.58</td>\n",
       "      <td>2024-01-01</td>\n",
       "      <td>2024.01</td>\n",
       "      <td>121.0</td>\n",
       "    </tr>\n",
       "  </tbody>\n",
       "</table>\n",
       "<p>197 rows × 5 columns</p>\n",
       "</div>"
      ],
      "text/plain": [
       "          DATE  USSTHPI       Time       시점     전국\n",
       "0   1975-01-01    59.93 1975-01-01      NaN    NaN\n",
       "1   1975-04-01    60.79 1975-04-01      NaN    NaN\n",
       "2   1975-07-01    61.21 1975-07-01      NaN    NaN\n",
       "3   1975-10-01    62.26 1975-10-01      NaN    NaN\n",
       "4   1976-01-01    62.87 1976-01-01      NaN    NaN\n",
       "..         ...      ...        ...      ...    ...\n",
       "192 2023-01-01   625.42 2023-01-01  2023.01  117.1\n",
       "193 2023-04-01   644.84 2023-04-01  2023.04  119.7\n",
       "194 2023-07-01   656.96 2023-07-01  2023.07  121.7\n",
       "195 2023-10-01   657.70 2023-10-01  2023.10  122.6\n",
       "196 2024-01-01   664.58 2024-01-01  2024.01  121.0\n",
       "\n",
       "[197 rows x 5 columns]"
      ]
     },
     "execution_count": 42,
     "metadata": {},
     "output_type": "execute_result"
    }
   ],
   "source": [
    "df_merged"
   ]
  },
  {
   "cell_type": "code",
   "execution_count": 43,
   "metadata": {
    "ExecuteTime": {
     "end_time": "2024-07-19T14:58:26.291681Z",
     "start_time": "2024-07-19T14:58:26.276228Z"
    }
   },
   "outputs": [],
   "source": [
    "# 위에서 dropna를 했음에도 불구하고 NaN 값이 그대로 있습니다. 아래 inplace 개념을 알아두어야 합니다."
   ]
  },
  {
   "cell_type": "markdown",
   "metadata": {},
   "source": [
    "### [참고 Tutorial] dropna() 함수 : inplace 파라미터 와 reset_index 함수<br>\n",
    "[pandas 공식 튜토리얼](https://pandas.pydata.org/pandas-docs/stable/reference/api/pandas.DataFrame.dropna.html?highlight=dropna#pandas.DataFrame.dropna)  \n",
    "[R friend 블로그](https://rfriend.tistory.com/263)  \n",
    "[wikidocs](https://wikidocs.net/136562)  "
   ]
  },
  {
   "cell_type": "code",
   "execution_count": 44,
   "metadata": {
    "ExecuteTime": {
     "end_time": "2024-07-19T14:58:27.119409Z",
     "start_time": "2024-07-19T14:58:27.102627Z"
    }
   },
   "outputs": [],
   "source": [
    "# dropna() 함수에서 inplace = True 인자값은 기존의 값을 새로운 값으로 대체하라는 옵션\n",
    "df_merged.dropna(inplace=True)\n",
    "# df_merged = df_merged.dropna()\n",
    "\n",
    "# reset_index() 함수에서 drop = True 인자값은 기존 인덱스 칼럼을 삭제하라는 옵션\n",
    "df_merged.reset_index(drop=True, inplace=True)"
   ]
  },
  {
   "cell_type": "markdown",
   "metadata": {},
   "source": [
    "### 1.5.2 특정 칼럼 선택"
   ]
  },
  {
   "cell_type": "code",
   "execution_count": 45,
   "metadata": {
    "ExecuteTime": {
     "end_time": "2024-07-19T14:58:27.891535Z",
     "start_time": "2024-07-19T14:58:27.854236Z"
    }
   },
   "outputs": [
    {
     "data": {
      "text/html": [
       "<div>\n",
       "<style scoped>\n",
       "    .dataframe tbody tr th:only-of-type {\n",
       "        vertical-align: middle;\n",
       "    }\n",
       "\n",
       "    .dataframe tbody tr th {\n",
       "        vertical-align: top;\n",
       "    }\n",
       "\n",
       "    .dataframe thead th {\n",
       "        text-align: right;\n",
       "    }\n",
       "</style>\n",
       "<table border=\"1\" class=\"dataframe\">\n",
       "  <thead>\n",
       "    <tr style=\"text-align: right;\">\n",
       "      <th></th>\n",
       "      <th>Time</th>\n",
       "      <th>USSTHPI</th>\n",
       "      <th>전국</th>\n",
       "    </tr>\n",
       "  </thead>\n",
       "  <tbody>\n",
       "    <tr>\n",
       "      <th>0</th>\n",
       "      <td>2006-01-01</td>\n",
       "      <td>368.73</td>\n",
       "      <td>58.2</td>\n",
       "    </tr>\n",
       "    <tr>\n",
       "      <th>1</th>\n",
       "      <td>2006-04-01</td>\n",
       "      <td>372.50</td>\n",
       "      <td>59.7</td>\n",
       "    </tr>\n",
       "    <tr>\n",
       "      <th>2</th>\n",
       "      <td>2006-07-01</td>\n",
       "      <td>375.56</td>\n",
       "      <td>61.0</td>\n",
       "    </tr>\n",
       "    <tr>\n",
       "      <th>3</th>\n",
       "      <td>2006-10-01</td>\n",
       "      <td>379.42</td>\n",
       "      <td>66.0</td>\n",
       "    </tr>\n",
       "    <tr>\n",
       "      <th>4</th>\n",
       "      <td>2007-01-01</td>\n",
       "      <td>380.83</td>\n",
       "      <td>70.9</td>\n",
       "    </tr>\n",
       "    <tr>\n",
       "      <th>...</th>\n",
       "      <td>...</td>\n",
       "      <td>...</td>\n",
       "      <td>...</td>\n",
       "    </tr>\n",
       "    <tr>\n",
       "      <th>68</th>\n",
       "      <td>2023-01-01</td>\n",
       "      <td>625.42</td>\n",
       "      <td>117.1</td>\n",
       "    </tr>\n",
       "    <tr>\n",
       "      <th>69</th>\n",
       "      <td>2023-04-01</td>\n",
       "      <td>644.84</td>\n",
       "      <td>119.7</td>\n",
       "    </tr>\n",
       "    <tr>\n",
       "      <th>70</th>\n",
       "      <td>2023-07-01</td>\n",
       "      <td>656.96</td>\n",
       "      <td>121.7</td>\n",
       "    </tr>\n",
       "    <tr>\n",
       "      <th>71</th>\n",
       "      <td>2023-10-01</td>\n",
       "      <td>657.70</td>\n",
       "      <td>122.6</td>\n",
       "    </tr>\n",
       "    <tr>\n",
       "      <th>72</th>\n",
       "      <td>2024-01-01</td>\n",
       "      <td>664.58</td>\n",
       "      <td>121.0</td>\n",
       "    </tr>\n",
       "  </tbody>\n",
       "</table>\n",
       "<p>73 rows × 3 columns</p>\n",
       "</div>"
      ],
      "text/plain": [
       "         Time  USSTHPI     전국\n",
       "0  2006-01-01   368.73   58.2\n",
       "1  2006-04-01   372.50   59.7\n",
       "2  2006-07-01   375.56   61.0\n",
       "3  2006-10-01   379.42   66.0\n",
       "4  2007-01-01   380.83   70.9\n",
       "..        ...      ...    ...\n",
       "68 2023-01-01   625.42  117.1\n",
       "69 2023-04-01   644.84  119.7\n",
       "70 2023-07-01   656.96  121.7\n",
       "71 2023-10-01   657.70  122.6\n",
       "72 2024-01-01   664.58  121.0\n",
       "\n",
       "[73 rows x 3 columns]"
      ]
     },
     "execution_count": 45,
     "metadata": {},
     "output_type": "execute_result"
    }
   ],
   "source": [
    "df = df_merged[[\"Time\", \"USSTHPI\", \"전국\"]]\n",
    "df"
   ]
  },
  {
   "cell_type": "markdown",
   "metadata": {},
   "source": [
    "### 1.5.3 칼럼 이름 설정"
   ]
  },
  {
   "cell_type": "code",
   "execution_count": 46,
   "metadata": {
    "ExecuteTime": {
     "end_time": "2024-07-19T14:58:28.755441Z",
     "start_time": "2024-07-19T14:58:28.724073Z"
    }
   },
   "outputs": [
    {
     "data": {
      "text/html": [
       "<div>\n",
       "<style scoped>\n",
       "    .dataframe tbody tr th:only-of-type {\n",
       "        vertical-align: middle;\n",
       "    }\n",
       "\n",
       "    .dataframe tbody tr th {\n",
       "        vertical-align: top;\n",
       "    }\n",
       "\n",
       "    .dataframe thead th {\n",
       "        text-align: right;\n",
       "    }\n",
       "</style>\n",
       "<table border=\"1\" class=\"dataframe\">\n",
       "  <thead>\n",
       "    <tr style=\"text-align: right;\">\n",
       "      <th></th>\n",
       "      <th>Time</th>\n",
       "      <th>US</th>\n",
       "      <th>KR</th>\n",
       "    </tr>\n",
       "  </thead>\n",
       "  <tbody>\n",
       "    <tr>\n",
       "      <th>0</th>\n",
       "      <td>2006-01-01</td>\n",
       "      <td>368.73</td>\n",
       "      <td>58.2</td>\n",
       "    </tr>\n",
       "    <tr>\n",
       "      <th>1</th>\n",
       "      <td>2006-04-01</td>\n",
       "      <td>372.50</td>\n",
       "      <td>59.7</td>\n",
       "    </tr>\n",
       "    <tr>\n",
       "      <th>2</th>\n",
       "      <td>2006-07-01</td>\n",
       "      <td>375.56</td>\n",
       "      <td>61.0</td>\n",
       "    </tr>\n",
       "    <tr>\n",
       "      <th>3</th>\n",
       "      <td>2006-10-01</td>\n",
       "      <td>379.42</td>\n",
       "      <td>66.0</td>\n",
       "    </tr>\n",
       "    <tr>\n",
       "      <th>4</th>\n",
       "      <td>2007-01-01</td>\n",
       "      <td>380.83</td>\n",
       "      <td>70.9</td>\n",
       "    </tr>\n",
       "    <tr>\n",
       "      <th>...</th>\n",
       "      <td>...</td>\n",
       "      <td>...</td>\n",
       "      <td>...</td>\n",
       "    </tr>\n",
       "    <tr>\n",
       "      <th>68</th>\n",
       "      <td>2023-01-01</td>\n",
       "      <td>625.42</td>\n",
       "      <td>117.1</td>\n",
       "    </tr>\n",
       "    <tr>\n",
       "      <th>69</th>\n",
       "      <td>2023-04-01</td>\n",
       "      <td>644.84</td>\n",
       "      <td>119.7</td>\n",
       "    </tr>\n",
       "    <tr>\n",
       "      <th>70</th>\n",
       "      <td>2023-07-01</td>\n",
       "      <td>656.96</td>\n",
       "      <td>121.7</td>\n",
       "    </tr>\n",
       "    <tr>\n",
       "      <th>71</th>\n",
       "      <td>2023-10-01</td>\n",
       "      <td>657.70</td>\n",
       "      <td>122.6</td>\n",
       "    </tr>\n",
       "    <tr>\n",
       "      <th>72</th>\n",
       "      <td>2024-01-01</td>\n",
       "      <td>664.58</td>\n",
       "      <td>121.0</td>\n",
       "    </tr>\n",
       "  </tbody>\n",
       "</table>\n",
       "<p>73 rows × 3 columns</p>\n",
       "</div>"
      ],
      "text/plain": [
       "         Time      US     KR\n",
       "0  2006-01-01  368.73   58.2\n",
       "1  2006-04-01  372.50   59.7\n",
       "2  2006-07-01  375.56   61.0\n",
       "3  2006-10-01  379.42   66.0\n",
       "4  2007-01-01  380.83   70.9\n",
       "..        ...     ...    ...\n",
       "68 2023-01-01  625.42  117.1\n",
       "69 2023-04-01  644.84  119.7\n",
       "70 2023-07-01  656.96  121.7\n",
       "71 2023-10-01  657.70  122.6\n",
       "72 2024-01-01  664.58  121.0\n",
       "\n",
       "[73 rows x 3 columns]"
      ]
     },
     "execution_count": 46,
     "metadata": {},
     "output_type": "execute_result"
    }
   ],
   "source": [
    "df.columns = [\"Time\", \"US\", \"KR\"]\n",
    "df"
   ]
  },
  {
   "cell_type": "code",
   "execution_count": 47,
   "metadata": {
    "ExecuteTime": {
     "end_time": "2024-07-19T14:58:29.433806Z",
     "start_time": "2024-07-19T14:58:29.203908Z"
    }
   },
   "outputs": [
    {
     "data": {
      "image/png": "[encoded data removed]",
      "text/plain": [
       "<Figure size 1000x600 with 2 Axes>"
      ]
     },
     "metadata": {},
     "output_type": "display_data"
    }
   ],
   "source": [
    "import matplotlib.pyplot as plt\n",
    "\n",
    "# 1. 기본 스타일 설정\n",
    "plt.style.use('default')\n",
    "plt.rcParams['figure.figsize'] = (10, 6)\n",
    "plt.rcParams['font.size'] = 12\n",
    "\n",
    "# 2. 데이터 준비\n",
    "x = df.Time.to_numpy() #df.시점 # df['시점']\n",
    "y1 = df.US.to_numpy()\n",
    "y2 = df.KR.to_numpy()\n",
    "\n",
    "# 3. 그래프 그리기\n",
    "fig, ax1 = plt.subplots()\n",
    "\n",
    "# y1 : 미국 인덱스에 대한 값\n",
    "ax1.plot(x, y1, '-s', color='orange', markersize=3, linewidth=3, alpha=0.7, label='US Price')\n",
    "\n",
    "# ax1.set_ylim(300, 600)\n",
    "ax1.set_xlabel('Year')\n",
    "ax1.set_ylabel('US')\n",
    "ax1.tick_params(axis='both', direction='in')\n",
    "\n",
    "# y2 : 한국 인덱스에 대한 값\n",
    "ax2 = ax1.twinx()\n",
    "ax2.plot(x, y2, '-s', color='blue', markersize=3, linewidth=3, alpha=0.7, label='KR Price')\n",
    "\n",
    "# ax2.bar(x, y2, color='deeppink', label='KR Price', alpha=0.7, width=30)\n",
    "# ax2.set_ylim(40, 140)\n",
    "\n",
    "ax2.set_ylabel('KR')\n",
    "ax2.tick_params(axis='y', direction='in')\n",
    "\n",
    "# set_zorder() 메서드는 z-축 방향의 순서를 지정합니다.\n",
    "# 아래 그림과 같이 zorder가 낮을수록 먼저 그려지고(ax2 = 한국), zorder가 높을수록 나중에 그려집니다.(ax1 = 미국)\n",
    "\n",
    "ax1.set_zorder(ax2.get_zorder() + 10)\n",
    "ax1.patch.set_visible(False)\n",
    "\n",
    "ax1.legend(loc='upper left')\n",
    "ax2.legend(loc='lower right')\n",
    "\n",
    "plt.show()"
   ]
  },
  {
   "cell_type": "markdown",
   "metadata": {},
   "source": [
    "# [기준점 표준화] 데이터 분석 Check Point"
   ]
  },
  {
   "cell_type": "markdown",
   "metadata": {},
   "source": [
    "-------------------------"
   ]
  },
  {
   "cell_type": "markdown",
   "metadata": {},
   "source": [
    "## 기준시점에 대한 통일\n",
    " - 미국의 주택가격지수 기준시점 : 1980.1분기 = 100\n",
    " - 한국의 주택가격지수 기준시점 : 2017.11.1 = 100"
   ]
  },
  {
   "cell_type": "code",
   "execution_count": 48,
   "metadata": {
    "ExecuteTime": {
     "end_time": "2024-07-19T14:58:34.091760Z",
     "start_time": "2024-07-19T14:58:34.075842Z"
    },
    "scrolled": true
   },
   "outputs": [
    {
     "data": {
      "text/html": [
       "<div>\n",
       "<style scoped>\n",
       "    .dataframe tbody tr th:only-of-type {\n",
       "        vertical-align: middle;\n",
       "    }\n",
       "\n",
       "    .dataframe tbody tr th {\n",
       "        vertical-align: top;\n",
       "    }\n",
       "\n",
       "    .dataframe thead th {\n",
       "        text-align: right;\n",
       "    }\n",
       "</style>\n",
       "<table border=\"1\" class=\"dataframe\">\n",
       "  <thead>\n",
       "    <tr style=\"text-align: right;\">\n",
       "      <th></th>\n",
       "      <th>DATE</th>\n",
       "      <th>USSTHPI</th>\n",
       "      <th>Time</th>\n",
       "      <th>시점</th>\n",
       "      <th>전국</th>\n",
       "    </tr>\n",
       "  </thead>\n",
       "  <tbody>\n",
       "    <tr>\n",
       "      <th>46</th>\n",
       "      <td>2017-07-01</td>\n",
       "      <td>400.25</td>\n",
       "      <td>2017-07-01</td>\n",
       "      <td>2017.07</td>\n",
       "      <td>100.1</td>\n",
       "    </tr>\n",
       "    <tr>\n",
       "      <th>47</th>\n",
       "      <td>2017-10-01</td>\n",
       "      <td>403.58</td>\n",
       "      <td>2017-10-01</td>\n",
       "      <td>2017.10</td>\n",
       "      <td>100.3</td>\n",
       "    </tr>\n",
       "    <tr>\n",
       "      <th>48</th>\n",
       "      <td>2018-01-01</td>\n",
       "      <td>409.25</td>\n",
       "      <td>2018-01-01</td>\n",
       "      <td>2018.01</td>\n",
       "      <td>99.8</td>\n",
       "    </tr>\n",
       "    <tr>\n",
       "      <th>49</th>\n",
       "      <td>2018-04-01</td>\n",
       "      <td>416.79</td>\n",
       "      <td>2018-04-01</td>\n",
       "      <td>2018.04</td>\n",
       "      <td>100.3</td>\n",
       "    </tr>\n",
       "    <tr>\n",
       "      <th>50</th>\n",
       "      <td>2018-07-01</td>\n",
       "      <td>421.88</td>\n",
       "      <td>2018-07-01</td>\n",
       "      <td>2018.07</td>\n",
       "      <td>100.0</td>\n",
       "    </tr>\n",
       "    <tr>\n",
       "      <th>52</th>\n",
       "      <td>2019-01-01</td>\n",
       "      <td>428.06</td>\n",
       "      <td>2019-01-01</td>\n",
       "      <td>2019.01</td>\n",
       "      <td>100.5</td>\n",
       "    </tr>\n",
       "    <tr>\n",
       "      <th>53</th>\n",
       "      <td>2019-04-01</td>\n",
       "      <td>435.20</td>\n",
       "      <td>2019-04-01</td>\n",
       "      <td>2019.04</td>\n",
       "      <td>99.6</td>\n",
       "    </tr>\n",
       "    <tr>\n",
       "      <th>54</th>\n",
       "      <td>2019-07-01</td>\n",
       "      <td>440.75</td>\n",
       "      <td>2019-07-01</td>\n",
       "      <td>2019.07</td>\n",
       "      <td>100.1</td>\n",
       "    </tr>\n",
       "  </tbody>\n",
       "</table>\n",
       "</div>"
      ],
      "text/plain": [
       "         DATE  USSTHPI       Time       시점     전국\n",
       "46 2017-07-01   400.25 2017-07-01  2017.07  100.1\n",
       "47 2017-10-01   403.58 2017-10-01  2017.10  100.3\n",
       "48 2018-01-01   409.25 2018-01-01  2018.01   99.8\n",
       "49 2018-04-01   416.79 2018-04-01  2018.04  100.3\n",
       "50 2018-07-01   421.88 2018-07-01  2018.07  100.0\n",
       "52 2019-01-01   428.06 2019-01-01  2019.01  100.5\n",
       "53 2019-04-01   435.20 2019-04-01  2019.04   99.6\n",
       "54 2019-07-01   440.75 2019-07-01  2019.07  100.1"
      ]
     },
     "execution_count": 48,
     "metadata": {},
     "output_type": "execute_result"
    }
   ],
   "source": [
    "df_merged[(df_merged['전국']>99) & (df_merged['전국']<101)]"
   ]
  },
  {
   "cell_type": "code",
   "execution_count": 49,
   "metadata": {
    "ExecuteTime": {
     "end_time": "2024-07-19T14:58:34.749723Z",
     "start_time": "2024-07-19T14:58:34.738677Z"
    }
   },
   "outputs": [
    {
     "data": {
      "text/plain": [
       "46    100.1\n",
       "Name: 전국, dtype: float64"
      ]
     },
     "execution_count": 49,
     "metadata": {},
     "output_type": "execute_result"
    }
   ],
   "source": [
    "base_point_KR = df_merged['전국'][df_merged['DATE']=='2017-07-01']\n",
    "base_point_KR"
   ]
  },
  {
   "cell_type": "code",
   "execution_count": 50,
   "metadata": {
    "ExecuteTime": {
     "end_time": "2024-07-19T14:58:35.273806Z",
     "start_time": "2024-07-19T14:58:35.263804Z"
    }
   },
   "outputs": [
    {
     "data": {
      "text/plain": [
       "array([400.25], dtype=float32)"
      ]
     },
     "execution_count": 50,
     "metadata": {},
     "output_type": "execute_result"
    }
   ],
   "source": [
    "base_point_US = np.float32(df_merged['USSTHPI'][df_merged['DATE']=='2017-07-01'])\n",
    "base_point_US"
   ]
  },
  {
   "cell_type": "code",
   "execution_count": 51,
   "metadata": {
    "ExecuteTime": {
     "end_time": "2024-07-19T14:58:35.690605Z",
     "start_time": "2024-07-19T14:58:35.676223Z"
    }
   },
   "outputs": [],
   "source": [
    "# 2017.7 = 100 기준인 US값을 400.67 로 나눠주고 100을 곱해 환산해줍니다.\n",
    "\n",
    "df_merged['USSTHP(2017.7=100)'] = df_merged['USSTHPI'] / base_point_US * 100"
   ]
  },
  {
   "cell_type": "code",
   "execution_count": 52,
   "metadata": {
    "ExecuteTime": {
     "end_time": "2024-07-19T14:58:36.173457Z",
     "start_time": "2024-07-19T14:58:36.142981Z"
    }
   },
   "outputs": [
    {
     "name": "stdout",
     "output_type": "stream",
     "text": [
      "<class 'pandas.core.frame.DataFrame'>\n",
      "RangeIndex: 73 entries, 0 to 72\n",
      "Data columns (total 6 columns):\n",
      " #   Column              Non-Null Count  Dtype         \n",
      "---  ------              --------------  -----         \n",
      " 0   DATE                73 non-null     datetime64[ns]\n",
      " 1   USSTHPI             73 non-null     float64       \n",
      " 2   Time                73 non-null     datetime64[ns]\n",
      " 3   시점                  73 non-null     object        \n",
      " 4   전국                  73 non-null     float64       \n",
      " 5   USSTHP(2017.7=100)  73 non-null     float64       \n",
      "dtypes: datetime64[ns](2), float64(3), object(1)\n",
      "memory usage: 3.5+ KB\n"
     ]
    }
   ],
   "source": [
    "df_merged.info()"
   ]
  },
  {
   "cell_type": "code",
   "execution_count": 53,
   "metadata": {
    "ExecuteTime": {
     "end_time": "2024-07-19T14:58:36.661644Z",
     "start_time": "2024-07-19T14:58:36.644545Z"
    }
   },
   "outputs": [
    {
     "data": {
      "text/html": [
       "<div>\n",
       "<style scoped>\n",
       "    .dataframe tbody tr th:only-of-type {\n",
       "        vertical-align: middle;\n",
       "    }\n",
       "\n",
       "    .dataframe tbody tr th {\n",
       "        vertical-align: top;\n",
       "    }\n",
       "\n",
       "    .dataframe thead th {\n",
       "        text-align: right;\n",
       "    }\n",
       "</style>\n",
       "<table border=\"1\" class=\"dataframe\">\n",
       "  <thead>\n",
       "    <tr style=\"text-align: right;\">\n",
       "      <th></th>\n",
       "      <th>DATE</th>\n",
       "      <th>USSTHPI</th>\n",
       "      <th>Time</th>\n",
       "      <th>시점</th>\n",
       "      <th>전국</th>\n",
       "      <th>USSTHP(2017.7=100)</th>\n",
       "    </tr>\n",
       "  </thead>\n",
       "  <tbody>\n",
       "    <tr>\n",
       "      <th>0</th>\n",
       "      <td>2006-01-01</td>\n",
       "      <td>368.73</td>\n",
       "      <td>2006-01-01</td>\n",
       "      <td>2006.01</td>\n",
       "      <td>58.2</td>\n",
       "      <td>92.124922</td>\n",
       "    </tr>\n",
       "    <tr>\n",
       "      <th>1</th>\n",
       "      <td>2006-04-01</td>\n",
       "      <td>372.50</td>\n",
       "      <td>2006-04-01</td>\n",
       "      <td>2006.04</td>\n",
       "      <td>59.7</td>\n",
       "      <td>93.066833</td>\n",
       "    </tr>\n",
       "    <tr>\n",
       "      <th>2</th>\n",
       "      <td>2006-07-01</td>\n",
       "      <td>375.56</td>\n",
       "      <td>2006-07-01</td>\n",
       "      <td>2006.07</td>\n",
       "      <td>61.0</td>\n",
       "      <td>93.831355</td>\n",
       "    </tr>\n",
       "    <tr>\n",
       "      <th>3</th>\n",
       "      <td>2006-10-01</td>\n",
       "      <td>379.42</td>\n",
       "      <td>2006-10-01</td>\n",
       "      <td>2006.10</td>\n",
       "      <td>66.0</td>\n",
       "      <td>94.795753</td>\n",
       "    </tr>\n",
       "    <tr>\n",
       "      <th>4</th>\n",
       "      <td>2007-01-01</td>\n",
       "      <td>380.83</td>\n",
       "      <td>2007-01-01</td>\n",
       "      <td>2007.01</td>\n",
       "      <td>70.9</td>\n",
       "      <td>95.148032</td>\n",
       "    </tr>\n",
       "    <tr>\n",
       "      <th>...</th>\n",
       "      <td>...</td>\n",
       "      <td>...</td>\n",
       "      <td>...</td>\n",
       "      <td>...</td>\n",
       "      <td>...</td>\n",
       "      <td>...</td>\n",
       "    </tr>\n",
       "    <tr>\n",
       "      <th>68</th>\n",
       "      <td>2023-01-01</td>\n",
       "      <td>625.42</td>\n",
       "      <td>2023-01-01</td>\n",
       "      <td>2023.01</td>\n",
       "      <td>117.1</td>\n",
       "      <td>156.257339</td>\n",
       "    </tr>\n",
       "    <tr>\n",
       "      <th>69</th>\n",
       "      <td>2023-04-01</td>\n",
       "      <td>644.84</td>\n",
       "      <td>2023-04-01</td>\n",
       "      <td>2023.04</td>\n",
       "      <td>119.7</td>\n",
       "      <td>161.109307</td>\n",
       "    </tr>\n",
       "    <tr>\n",
       "      <th>70</th>\n",
       "      <td>2023-07-01</td>\n",
       "      <td>656.96</td>\n",
       "      <td>2023-07-01</td>\n",
       "      <td>2023.07</td>\n",
       "      <td>121.7</td>\n",
       "      <td>164.137414</td>\n",
       "    </tr>\n",
       "    <tr>\n",
       "      <th>71</th>\n",
       "      <td>2023-10-01</td>\n",
       "      <td>657.70</td>\n",
       "      <td>2023-10-01</td>\n",
       "      <td>2023.10</td>\n",
       "      <td>122.6</td>\n",
       "      <td>164.322299</td>\n",
       "    </tr>\n",
       "    <tr>\n",
       "      <th>72</th>\n",
       "      <td>2024-01-01</td>\n",
       "      <td>664.58</td>\n",
       "      <td>2024-01-01</td>\n",
       "      <td>2024.01</td>\n",
       "      <td>121.0</td>\n",
       "      <td>166.041224</td>\n",
       "    </tr>\n",
       "  </tbody>\n",
       "</table>\n",
       "<p>73 rows × 6 columns</p>\n",
       "</div>"
      ],
      "text/plain": [
       "         DATE  USSTHPI       Time       시점     전국  USSTHP(2017.7=100)\n",
       "0  2006-01-01   368.73 2006-01-01  2006.01   58.2           92.124922\n",
       "1  2006-04-01   372.50 2006-04-01  2006.04   59.7           93.066833\n",
       "2  2006-07-01   375.56 2006-07-01  2006.07   61.0           93.831355\n",
       "3  2006-10-01   379.42 2006-10-01  2006.10   66.0           94.795753\n",
       "4  2007-01-01   380.83 2007-01-01  2007.01   70.9           95.148032\n",
       "..        ...      ...        ...      ...    ...                 ...\n",
       "68 2023-01-01   625.42 2023-01-01  2023.01  117.1          156.257339\n",
       "69 2023-04-01   644.84 2023-04-01  2023.04  119.7          161.109307\n",
       "70 2023-07-01   656.96 2023-07-01  2023.07  121.7          164.137414\n",
       "71 2023-10-01   657.70 2023-10-01  2023.10  122.6          164.322299\n",
       "72 2024-01-01   664.58 2024-01-01  2024.01  121.0          166.041224\n",
       "\n",
       "[73 rows x 6 columns]"
      ]
     },
     "execution_count": 53,
     "metadata": {},
     "output_type": "execute_result"
    }
   ],
   "source": [
    "df_merged"
   ]
  },
  {
   "cell_type": "code",
   "execution_count": 54,
   "metadata": {
    "ExecuteTime": {
     "end_time": "2024-07-19T14:58:37.091039Z",
     "start_time": "2024-07-19T14:58:37.075995Z"
    }
   },
   "outputs": [
    {
     "data": {
      "text/plain": [
       "0      92.124922\n",
       "1      93.066833\n",
       "2      93.831355\n",
       "3      94.795753\n",
       "4      95.148032\n",
       "         ...    \n",
       "68    156.257339\n",
       "69    161.109307\n",
       "70    164.137414\n",
       "71    164.322299\n",
       "72    166.041224\n",
       "Name: USSTHP(2017.7=100), Length: 73, dtype: float64"
      ]
     },
     "execution_count": 54,
     "metadata": {},
     "output_type": "execute_result"
    }
   ],
   "source": [
    "df_merged['USSTHP(2017.7=100)'] "
   ]
  },
  {
   "cell_type": "code",
   "execution_count": 55,
   "metadata": {
    "ExecuteTime": {
     "end_time": "2024-07-19T14:58:37.557103Z",
     "start_time": "2024-07-19T14:58:37.542709Z"
    }
   },
   "outputs": [],
   "source": [
    "df_merged.dropna(inplace=True)"
   ]
  },
  {
   "cell_type": "markdown",
   "metadata": {},
   "source": [
    "### 1.5.2 특정 칼럼 선택"
   ]
  },
  {
   "cell_type": "code",
   "execution_count": 56,
   "metadata": {
    "ExecuteTime": {
     "end_time": "2024-07-19T14:58:38.364503Z",
     "start_time": "2024-07-19T14:58:38.352732Z"
    }
   },
   "outputs": [
    {
     "data": {
      "text/html": [
       "<div>\n",
       "<style scoped>\n",
       "    .dataframe tbody tr th:only-of-type {\n",
       "        vertical-align: middle;\n",
       "    }\n",
       "\n",
       "    .dataframe tbody tr th {\n",
       "        vertical-align: top;\n",
       "    }\n",
       "\n",
       "    .dataframe thead th {\n",
       "        text-align: right;\n",
       "    }\n",
       "</style>\n",
       "<table border=\"1\" class=\"dataframe\">\n",
       "  <thead>\n",
       "    <tr style=\"text-align: right;\">\n",
       "      <th></th>\n",
       "      <th>Time</th>\n",
       "      <th>USSTHP(2017.7=100)</th>\n",
       "      <th>전국</th>\n",
       "    </tr>\n",
       "  </thead>\n",
       "  <tbody>\n",
       "    <tr>\n",
       "      <th>0</th>\n",
       "      <td>2006-01-01</td>\n",
       "      <td>92.124922</td>\n",
       "      <td>58.2</td>\n",
       "    </tr>\n",
       "    <tr>\n",
       "      <th>1</th>\n",
       "      <td>2006-04-01</td>\n",
       "      <td>93.066833</td>\n",
       "      <td>59.7</td>\n",
       "    </tr>\n",
       "    <tr>\n",
       "      <th>2</th>\n",
       "      <td>2006-07-01</td>\n",
       "      <td>93.831355</td>\n",
       "      <td>61.0</td>\n",
       "    </tr>\n",
       "    <tr>\n",
       "      <th>3</th>\n",
       "      <td>2006-10-01</td>\n",
       "      <td>94.795753</td>\n",
       "      <td>66.0</td>\n",
       "    </tr>\n",
       "    <tr>\n",
       "      <th>4</th>\n",
       "      <td>2007-01-01</td>\n",
       "      <td>95.148032</td>\n",
       "      <td>70.9</td>\n",
       "    </tr>\n",
       "    <tr>\n",
       "      <th>...</th>\n",
       "      <td>...</td>\n",
       "      <td>...</td>\n",
       "      <td>...</td>\n",
       "    </tr>\n",
       "    <tr>\n",
       "      <th>68</th>\n",
       "      <td>2023-01-01</td>\n",
       "      <td>156.257339</td>\n",
       "      <td>117.1</td>\n",
       "    </tr>\n",
       "    <tr>\n",
       "      <th>69</th>\n",
       "      <td>2023-04-01</td>\n",
       "      <td>161.109307</td>\n",
       "      <td>119.7</td>\n",
       "    </tr>\n",
       "    <tr>\n",
       "      <th>70</th>\n",
       "      <td>2023-07-01</td>\n",
       "      <td>164.137414</td>\n",
       "      <td>121.7</td>\n",
       "    </tr>\n",
       "    <tr>\n",
       "      <th>71</th>\n",
       "      <td>2023-10-01</td>\n",
       "      <td>164.322299</td>\n",
       "      <td>122.6</td>\n",
       "    </tr>\n",
       "    <tr>\n",
       "      <th>72</th>\n",
       "      <td>2024-01-01</td>\n",
       "      <td>166.041224</td>\n",
       "      <td>121.0</td>\n",
       "    </tr>\n",
       "  </tbody>\n",
       "</table>\n",
       "<p>73 rows × 3 columns</p>\n",
       "</div>"
      ],
      "text/plain": [
       "         Time  USSTHP(2017.7=100)     전국\n",
       "0  2006-01-01           92.124922   58.2\n",
       "1  2006-04-01           93.066833   59.7\n",
       "2  2006-07-01           93.831355   61.0\n",
       "3  2006-10-01           94.795753   66.0\n",
       "4  2007-01-01           95.148032   70.9\n",
       "..        ...                 ...    ...\n",
       "68 2023-01-01          156.257339  117.1\n",
       "69 2023-04-01          161.109307  119.7\n",
       "70 2023-07-01          164.137414  121.7\n",
       "71 2023-10-01          164.322299  122.6\n",
       "72 2024-01-01          166.041224  121.0\n",
       "\n",
       "[73 rows x 3 columns]"
      ]
     },
     "execution_count": 56,
     "metadata": {},
     "output_type": "execute_result"
    }
   ],
   "source": [
    "df_new = df_merged[[\"Time\", \"USSTHP(2017.7=100)\", \"전국\"]]\n",
    "df_new"
   ]
  },
  {
   "cell_type": "markdown",
   "metadata": {},
   "source": [
    "### 1.5.3 칼럼 이름 설정"
   ]
  },
  {
   "cell_type": "code",
   "execution_count": 57,
   "metadata": {
    "ExecuteTime": {
     "end_time": "2024-07-19T14:58:39.225260Z",
     "start_time": "2024-07-19T14:58:39.194349Z"
    },
    "scrolled": true
   },
   "outputs": [
    {
     "data": {
      "text/html": [
       "<div>\n",
       "<style scoped>\n",
       "    .dataframe tbody tr th:only-of-type {\n",
       "        vertical-align: middle;\n",
       "    }\n",
       "\n",
       "    .dataframe tbody tr th {\n",
       "        vertical-align: top;\n",
       "    }\n",
       "\n",
       "    .dataframe thead th {\n",
       "        text-align: right;\n",
       "    }\n",
       "</style>\n",
       "<table border=\"1\" class=\"dataframe\">\n",
       "  <thead>\n",
       "    <tr style=\"text-align: right;\">\n",
       "      <th></th>\n",
       "      <th>Time</th>\n",
       "      <th>US</th>\n",
       "      <th>KR</th>\n",
       "    </tr>\n",
       "  </thead>\n",
       "  <tbody>\n",
       "    <tr>\n",
       "      <th>0</th>\n",
       "      <td>2006-01-01</td>\n",
       "      <td>92.124922</td>\n",
       "      <td>58.2</td>\n",
       "    </tr>\n",
       "    <tr>\n",
       "      <th>1</th>\n",
       "      <td>2006-04-01</td>\n",
       "      <td>93.066833</td>\n",
       "      <td>59.7</td>\n",
       "    </tr>\n",
       "    <tr>\n",
       "      <th>2</th>\n",
       "      <td>2006-07-01</td>\n",
       "      <td>93.831355</td>\n",
       "      <td>61.0</td>\n",
       "    </tr>\n",
       "    <tr>\n",
       "      <th>3</th>\n",
       "      <td>2006-10-01</td>\n",
       "      <td>94.795753</td>\n",
       "      <td>66.0</td>\n",
       "    </tr>\n",
       "    <tr>\n",
       "      <th>4</th>\n",
       "      <td>2007-01-01</td>\n",
       "      <td>95.148032</td>\n",
       "      <td>70.9</td>\n",
       "    </tr>\n",
       "    <tr>\n",
       "      <th>...</th>\n",
       "      <td>...</td>\n",
       "      <td>...</td>\n",
       "      <td>...</td>\n",
       "    </tr>\n",
       "    <tr>\n",
       "      <th>68</th>\n",
       "      <td>2023-01-01</td>\n",
       "      <td>156.257339</td>\n",
       "      <td>117.1</td>\n",
       "    </tr>\n",
       "    <tr>\n",
       "      <th>69</th>\n",
       "      <td>2023-04-01</td>\n",
       "      <td>161.109307</td>\n",
       "      <td>119.7</td>\n",
       "    </tr>\n",
       "    <tr>\n",
       "      <th>70</th>\n",
       "      <td>2023-07-01</td>\n",
       "      <td>164.137414</td>\n",
       "      <td>121.7</td>\n",
       "    </tr>\n",
       "    <tr>\n",
       "      <th>71</th>\n",
       "      <td>2023-10-01</td>\n",
       "      <td>164.322299</td>\n",
       "      <td>122.6</td>\n",
       "    </tr>\n",
       "    <tr>\n",
       "      <th>72</th>\n",
       "      <td>2024-01-01</td>\n",
       "      <td>166.041224</td>\n",
       "      <td>121.0</td>\n",
       "    </tr>\n",
       "  </tbody>\n",
       "</table>\n",
       "<p>73 rows × 3 columns</p>\n",
       "</div>"
      ],
      "text/plain": [
       "         Time          US     KR\n",
       "0  2006-01-01   92.124922   58.2\n",
       "1  2006-04-01   93.066833   59.7\n",
       "2  2006-07-01   93.831355   61.0\n",
       "3  2006-10-01   94.795753   66.0\n",
       "4  2007-01-01   95.148032   70.9\n",
       "..        ...         ...    ...\n",
       "68 2023-01-01  156.257339  117.1\n",
       "69 2023-04-01  161.109307  119.7\n",
       "70 2023-07-01  164.137414  121.7\n",
       "71 2023-10-01  164.322299  122.6\n",
       "72 2024-01-01  166.041224  121.0\n",
       "\n",
       "[73 rows x 3 columns]"
      ]
     },
     "execution_count": 57,
     "metadata": {},
     "output_type": "execute_result"
    }
   ],
   "source": [
    "df_new.columns = [\"Time\", \"US\", \"KR\"]\n",
    "df_new"
   ]
  },
  {
   "cell_type": "markdown",
   "metadata": {},
   "source": [
    "# 1.6 미국과 한국 주택가격지수 시각화"
   ]
  },
  {
   "cell_type": "markdown",
   "metadata": {},
   "source": [
    "### 1.6.1 데이터 병합 주택가격지수 그래프"
   ]
  },
  {
   "cell_type": "code",
   "execution_count": 58,
   "metadata": {
    "ExecuteTime": {
     "end_time": "2024-07-19T14:58:40.507409Z",
     "start_time": "2024-07-19T14:58:40.484571Z"
    }
   },
   "outputs": [
    {
     "data": {
      "text/html": [
       "<div>\n",
       "<style scoped>\n",
       "    .dataframe tbody tr th:only-of-type {\n",
       "        vertical-align: middle;\n",
       "    }\n",
       "\n",
       "    .dataframe tbody tr th {\n",
       "        vertical-align: top;\n",
       "    }\n",
       "\n",
       "    .dataframe thead th {\n",
       "        text-align: right;\n",
       "    }\n",
       "</style>\n",
       "<table border=\"1\" class=\"dataframe\">\n",
       "  <thead>\n",
       "    <tr style=\"text-align: right;\">\n",
       "      <th></th>\n",
       "      <th>Time</th>\n",
       "      <th>US</th>\n",
       "      <th>KR</th>\n",
       "    </tr>\n",
       "  </thead>\n",
       "  <tbody>\n",
       "    <tr>\n",
       "      <th>0</th>\n",
       "      <td>2006-01-01</td>\n",
       "      <td>92.124922</td>\n",
       "      <td>58.2</td>\n",
       "    </tr>\n",
       "    <tr>\n",
       "      <th>1</th>\n",
       "      <td>2006-04-01</td>\n",
       "      <td>93.066833</td>\n",
       "      <td>59.7</td>\n",
       "    </tr>\n",
       "    <tr>\n",
       "      <th>2</th>\n",
       "      <td>2006-07-01</td>\n",
       "      <td>93.831355</td>\n",
       "      <td>61.0</td>\n",
       "    </tr>\n",
       "    <tr>\n",
       "      <th>3</th>\n",
       "      <td>2006-10-01</td>\n",
       "      <td>94.795753</td>\n",
       "      <td>66.0</td>\n",
       "    </tr>\n",
       "    <tr>\n",
       "      <th>4</th>\n",
       "      <td>2007-01-01</td>\n",
       "      <td>95.148032</td>\n",
       "      <td>70.9</td>\n",
       "    </tr>\n",
       "    <tr>\n",
       "      <th>...</th>\n",
       "      <td>...</td>\n",
       "      <td>...</td>\n",
       "      <td>...</td>\n",
       "    </tr>\n",
       "    <tr>\n",
       "      <th>68</th>\n",
       "      <td>2023-01-01</td>\n",
       "      <td>156.257339</td>\n",
       "      <td>117.1</td>\n",
       "    </tr>\n",
       "    <tr>\n",
       "      <th>69</th>\n",
       "      <td>2023-04-01</td>\n",
       "      <td>161.109307</td>\n",
       "      <td>119.7</td>\n",
       "    </tr>\n",
       "    <tr>\n",
       "      <th>70</th>\n",
       "      <td>2023-07-01</td>\n",
       "      <td>164.137414</td>\n",
       "      <td>121.7</td>\n",
       "    </tr>\n",
       "    <tr>\n",
       "      <th>71</th>\n",
       "      <td>2023-10-01</td>\n",
       "      <td>164.322299</td>\n",
       "      <td>122.6</td>\n",
       "    </tr>\n",
       "    <tr>\n",
       "      <th>72</th>\n",
       "      <td>2024-01-01</td>\n",
       "      <td>166.041224</td>\n",
       "      <td>121.0</td>\n",
       "    </tr>\n",
       "  </tbody>\n",
       "</table>\n",
       "<p>73 rows × 3 columns</p>\n",
       "</div>"
      ],
      "text/plain": [
       "         Time          US     KR\n",
       "0  2006-01-01   92.124922   58.2\n",
       "1  2006-04-01   93.066833   59.7\n",
       "2  2006-07-01   93.831355   61.0\n",
       "3  2006-10-01   94.795753   66.0\n",
       "4  2007-01-01   95.148032   70.9\n",
       "..        ...         ...    ...\n",
       "68 2023-01-01  156.257339  117.1\n",
       "69 2023-04-01  161.109307  119.7\n",
       "70 2023-07-01  164.137414  121.7\n",
       "71 2023-10-01  164.322299  122.6\n",
       "72 2024-01-01  166.041224  121.0\n",
       "\n",
       "[73 rows x 3 columns]"
      ]
     },
     "execution_count": 58,
     "metadata": {},
     "output_type": "execute_result"
    }
   ],
   "source": [
    "df_new"
   ]
  },
  {
   "cell_type": "code",
   "execution_count": 59,
   "metadata": {
    "ExecuteTime": {
     "end_time": "2024-07-19T14:58:41.178005Z",
     "start_time": "2024-07-19T14:58:40.993331Z"
    }
   },
   "outputs": [
    {
     "data": {
      "image/png": "[encoded data removed]",
      "text/plain": [
       "<Figure size 1200x600 with 1 Axes>"
      ]
     },
     "metadata": {},
     "output_type": "display_data"
    }
   ],
   "source": [
    "# 1. 기본 스타일 설정\n",
    "plt.style.use('default')\n",
    "plt.rcParams['figure.figsize'] = (12, 6)\n",
    "plt.rcParams['font.size'] = 12\n",
    "\n",
    "# 2. 데이터 준비\n",
    "x = df_new.Time.to_numpy()\n",
    "y1 = df_new.US.to_numpy()\n",
    "y2 = df_new.KR.to_numpy()\n",
    "\n",
    "# 3. 그래프 그리기\n",
    "fig, ax1 = plt.subplots()\n",
    "\n",
    "# y1 : 미국 인덱스에 대한 값\n",
    "ax1.plot(x, y1, '-s', color='orange', markersize=3, linewidth=3, alpha=0.7, label='US Price')\n",
    "\n",
    "# y2 : 한국 인덱스에 대한 값\n",
    "ax1.plot(x, y2, '-s', color='blue', markersize=3, linewidth=3, alpha=0.7, label='KR Price')\n",
    "\n",
    "ax1.set_xlabel('Year')\n",
    "ax1.set_ylabel('US')\n",
    "ax1.tick_params(axis='both', direction='in')\n",
    "\n",
    "# set_zorder() 메서드는 z-축 방향의 순서를 지정합니다.\n",
    "# 아래 그림과 같이 zorder가 낮을수록 먼저 그려지고(ax2 = 한국), zorder가 높을수록 나중에 그려집니다.(ax1 = 미국)\n",
    "\n",
    "ax1.set_zorder(ax2.get_zorder() + 10)\n",
    "ax1.patch.set_visible(False)\n",
    "ax1.legend(loc='upper left')\n",
    "\n",
    "plt.show()"
   ]
  },
  {
   "cell_type": "markdown",
   "metadata": {},
   "source": [
    "## 1.7 상관관계"
   ]
  },
  {
   "cell_type": "markdown",
   "metadata": {},
   "source": [
    "\n",
    "*  <span style=\"color:royalblue\">피어슨<br>\n",
    "  - 상관관계에서 기본적으로 사용되는 상관계수<br>\n",
    "  - 연속형변수의 상관관계 측정<br>\n",
    "  - 모수 검정(parametric test)<br><br></span>\n",
    "\n",
    "  \n",
    "* 켄달\n",
    "  - 켄달 상관계수(타우)\n",
    "  - 변수값 대신 순위로 바꿔 이용(내신등급, 학점)\n",
    "  - 비모수 검정(Non-parametric test)\n",
    "  - sample size가 작을때. 데이터중 같은 값이 많을때 사용<br><br>\n",
    "  \n",
    "* 스피어만 \n",
    "  - 스피어만 상관계수\n",
    "  - 켄달과 동일한 순위기준 상관계수\n",
    "  - 비모수 검정(Non-parametric test)\n",
    "  - 데이터 내 편차와 이상치에 민감. 켄달보다 높은 상관관계 수치를 보임<br><br>\n",
    "\n",
    "[피어슨, 켄달, 스피어만 차이점 수식](https://www.statisticssolutions.com/free-resources/directory-of-statistical-analyses/correlation-pearson-kendall-spearman/)"
   ]
  },
  {
   "cell_type": "markdown",
   "metadata": {
    "ExecuteTime": {
     "end_time": "2021-10-10T08:17:01.600127Z",
     "start_time": "2021-10-10T08:17:01.592943Z"
    }
   },
   "source": [
    "### 상관관계 정도\n",
    "<img src=\"./data/상관관계정도.png\" alt=\"Drawing\" style=\"width: 400px;\"/>"
   ]
  },
  {
   "cell_type": "markdown",
   "metadata": {},
   "source": [
    "[요점정리]\n",
    "1. 피어슨(Pearson) 상관계수는 두 수치형 변수 사이의 \"선형\" 관계를 평가합니다. \n",
    "2. 스피어만(Spearman) 상관계수는 원시 데이터가 아니라 각 변수에 대해 \"순위\" 를 매긴 값을 기반으로 합니다.<br>\n",
    "   \"순서형 변수\" 가 포함된 관계를 평가하기 위해 사용됩니다."
   ]
  },
  {
   "cell_type": "code",
   "execution_count": 60,
   "metadata": {
    "ExecuteTime": {
     "end_time": "2024-07-19T14:58:43.988566Z",
     "start_time": "2024-07-19T14:58:43.964208Z"
    }
   },
   "outputs": [
    {
     "data": {
      "text/html": [
       "<div>\n",
       "<style scoped>\n",
       "    .dataframe tbody tr th:only-of-type {\n",
       "        vertical-align: middle;\n",
       "    }\n",
       "\n",
       "    .dataframe tbody tr th {\n",
       "        vertical-align: top;\n",
       "    }\n",
       "\n",
       "    .dataframe thead th {\n",
       "        text-align: right;\n",
       "    }\n",
       "</style>\n",
       "<table border=\"1\" class=\"dataframe\">\n",
       "  <thead>\n",
       "    <tr style=\"text-align: right;\">\n",
       "      <th></th>\n",
       "      <th>US</th>\n",
       "      <th>KR</th>\n",
       "    </tr>\n",
       "  </thead>\n",
       "  <tbody>\n",
       "    <tr>\n",
       "      <th>US</th>\n",
       "      <td>1.000000</td>\n",
       "      <td>0.826839</td>\n",
       "    </tr>\n",
       "    <tr>\n",
       "      <th>KR</th>\n",
       "      <td>0.826839</td>\n",
       "      <td>1.000000</td>\n",
       "    </tr>\n",
       "  </tbody>\n",
       "</table>\n",
       "</div>"
      ],
      "text/plain": [
       "          US        KR\n",
       "US  1.000000  0.826839\n",
       "KR  0.826839  1.000000"
      ]
     },
     "execution_count": 60,
     "metadata": {},
     "output_type": "execute_result"
    }
   ],
   "source": [
    "# US_CS_M2.corr(method='pearson', min_periods=1)\n",
    "df.corr(method='pearson', min_periods=1)"
   ]
  },
  {
   "cell_type": "markdown",
   "metadata": {},
   "source": [
    "[판다스 공식 튜토리얼 - pd.corr 상관계수](https://pandas.pydata.org/pandas-docs/stable/reference/api/pandas.DataFrame.corr.html?highlight=corr)"
   ]
  },
  {
   "cell_type": "markdown",
   "metadata": {},
   "source": [
    "## 학습내용 정리요약\n",
    "- 날짜, 시간데이터 Date and Time Data Types and Tools\n",
    "- 타임시리즈 Time Series Basics  \n",
    "<br>\n",
    "- 결측치 시각화와 결측치 처리\n",
    "- merge_asof() 함수 , 데이터 타입변경\n",
    "- dropna(), reset_index() 함수와  inplace, drop 인자값\n",
    "- 타임 시리즈 자료 플롯팅 Time Series Plotting\n",
    "- 상관관계 correlation"
   ]
  },
  {
   "cell_type": "markdown",
   "metadata": {},
   "source": [
    "# 2. 주요 선진국 주택 가격지수 데이터 수집 및 분석"
   ]
  },
  {
   "cell_type": "markdown",
   "metadata": {},
   "source": [
    "[통계청 제공 국외통계작성기관](http://kostat.go.kr/portal/korea/kor_ko/7/4/2/index.action)"
   ]
  },
  {
   "cell_type": "markdown",
   "metadata": {},
   "source": [
    "## 2.1 영국 주택 가격지수 데이터 <img src=\"./data/영국.png\" alt=\"Drawing\" style=\"width: 30px;\" align=\"left\">"
   ]
  },
  {
   "cell_type": "markdown",
   "metadata": {
    "ExecuteTime": {
     "end_time": "2021-08-13T04:45:48.278680Z",
     "start_time": "2021-08-13T04:45:46.962Z"
    }
   },
   "source": [
    "### 2.1.1  영국 통계청(ONS : Office for National Statistics) 제공 데이터 수집\n",
    "* 지수명 ; UK House Price Index \n",
    "* 경로 : Home > Economy > Inflation and price indices > UK House Price Index\n",
    "* 제공데이터 : 평균 실거래가, 변동률 두가지 지표\n",
    "* 제공기관 : 영국 통계청 https://www.ons.gov.uk/ (영국통계청은 영국 의회 직속인 독립적인 통계 기관입니다.)\n",
    "* 데이터 링크 : [영국 주택가격 지수](https://www.ons.gov.uk/economy/inflationandpriceindices/bulletins/housepriceindex/october2021)"
   ]
  },
  {
   "cell_type": "markdown",
   "metadata": {},
   "source": [
    "## 2.2 독일 주택 가격지수 데이터 <img src=\"./data/독일.jpg\" alt=\"Drawing\" style=\"width: 30px;\" align=\"left\">"
   ]
  },
  {
   "cell_type": "markdown",
   "metadata": {
    "ExecuteTime": {
     "end_time": "2021-08-13T04:45:48.278680Z",
     "start_time": "2021-08-13T04:45:46.962Z"
    }
   },
   "source": [
    "### 2.2.1  독일 통계청(Statistisches Bundesamt) 제공 데이터 수집\n",
    "* 지수명 ; House Price Index \n",
    "* 경로 : [Construction prices and real property prices](https://www-genesis.destatis.de/genesis//online?operation=table&code=61262-0001&bypass=true&levelindex=0&levelid=1633940589196#abreadcrumb)\n",
    "* 제공데이터 : HOUSE PRICE INDEX(2015  = 100), 변동률 두가지 지표\n",
    "* 제공기관 : 독일 통계청 https://www.destatis.de/DE/Home\n",
    "* 데이터 링크 : [독일 주택가격 지수](https://www.destatis.de/EN/Press/2021/12/PE21_593_61262.html)"
   ]
  },
  {
   "cell_type": "markdown",
   "metadata": {},
   "source": [
    "## 2.3 주요국의 주택가격지수 비교(FRED 데이터 제공)"
   ]
  },
  {
   "cell_type": "markdown",
   "metadata": {},
   "source": [
    "[캐나다, 뉴질랜드, 홍콩, 영국 주택가격지수 비교](https://fredblog.stlouisfed.org/2017/12/houses-up-and-down/?utm_source=series_page&utm_medium=related_content&utm_term=related_resources&utm_campaign=fredblog)"
   ]
  },
  {
   "cell_type": "markdown",
   "metadata": {},
   "source": [
    "# 3. 명목 주택가격 및 실질 주택가격 [각자 학습]"
   ]
  },
  {
   "cell_type": "markdown",
   "metadata": {
    "ExecuteTime": {
     "end_time": "2021-10-11T08:18:12.825267Z",
     "start_time": "2021-10-11T08:18:12.708235Z"
    }
   },
   "source": [
    "## 3.1 명목 주택가격 : 주택의 절대적인 가격"
   ]
  },
  {
   "cell_type": "markdown",
   "metadata": {
    "ExecuteTime": {
     "end_time": "2021-10-11T08:19:49.825911Z",
     "start_time": "2021-10-11T08:19:49.809802Z"
    }
   },
   "source": [
    "## 3.2 실질 주택가격 : 명목 주택가격 - 물가 상승률"
   ]
  }
 ],
 "metadata": {
  "kernelspec": {
   "display_name": "Python 3",
   "language": "python",
   "name": "python3"
  },
  "language_info": {
   "codemirror_mode": {
    "name": "ipython",
    "version": 3
   },
   "file_extension": ".py",
   "mimetype": "text/x-python",
   "name": "python",
   "nbconvert_exporter": "python",
   "pygments_lexer": "ipython3",
   "version": "3.8.5"
  },
  "latex_envs": {
   "LaTeX_envs_menu_present": true,
   "autoclose": false,
   "autocomplete": true,
   "bibliofile": "biblio.bib",
   "cite_by": "apalike",
   "current_citInitial": 1,
   "eqLabelWithNumbers": true,
   "eqNumInitial": 1,
   "hotkeys": {
    "equation": "Ctrl-E",
    "itemize": "Ctrl-I"
   },
   "labels_anchors": false,
   "latex_user_defs": false,
   "report_style_numbering": false,
   "user_envs_cfg": false
  },
  "toc": {
   "base_numbering": 1,
   "nav_menu": {},
   "number_sections": true,
   "sideBar": true,
   "skip_h1_title": false,
   "title_cell": "Table of Contents",
   "title_sidebar": "Contents",
   "toc_cell": false,
   "toc_position": {},
   "toc_section_display": true,
   "toc_window_display": false
  }
 },
 "nbformat": 4,
 "nbformat_minor": 4
}
