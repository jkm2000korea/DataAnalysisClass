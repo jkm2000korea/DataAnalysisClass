{
 "cells": [
  {
   "cell_type": "markdown",
   "metadata": {},
   "source": [
    "# <span style=\"color:royalblue\"> [2주차] 매크로 경제 분석</span>\n",
    "# 미국과 한국 주택가격지수 비교 분석 \n",
    "\n",
    "--- "
   ]
  },
  {
   "cell_type": "markdown",
   "metadata": {
    "ExecuteTime": {
     "end_time": "2021-10-05T05:57:05.095771Z",
     "start_time": "2021-10-05T05:57:05.080823Z"
    }
   },
   "source": [
    "<div style=\"text-align: right\"> Final Edition : 2024.01.21<br>\n",
    "    copyrightⓒ 2024 All rights reserved by Data Lover Pablo </div>"
   ]
  },
  {
   "cell_type": "markdown",
   "metadata": {
    "ExecuteTime": {
     "end_time": "2021-08-13T04:45:48.278680Z",
     "start_time": "2021-08-13T04:45:46.962Z"
    }
   },
   "source": [
    "# 1. 미국과 한국의 주택가격지수 비교"
   ]
  },
  {
   "cell_type": "markdown",
   "metadata": {},
   "source": [
    "## 1.1 미국 주택 가격지수 데이터"
   ]
  },
  {
   "cell_type": "markdown",
   "metadata": {
    "ExecuteTime": {
     "end_time": "2021-08-13T04:45:48.278680Z",
     "start_time": "2021-08-13T04:45:46.962Z"
    }
   },
   "source": [
    "### 1.1.1 FRED(Federal Reserve Bank of St. Louis) 미국 연방준비은행 연구소 제공 데이터 수집\n",
    "* 지수명 : All-Transactions House Price Index for the United States \n",
    "* Ticker : USSTHPI\n",
    "* 기준년월 : 1980.1Q 지수 = 100\n",
    "* 업데이트 주기 : 분기1회. 2023년 11월 28일에 2023 3Q 데이터 업데이트\n",
    "* 데이터 링크 : https://fred.stlouisfed.org/series/USSTHPI"
   ]
  },
  {
   "cell_type": "markdown",
   "metadata": {
    "ExecuteTime": {
     "end_time": "2021-10-10T07:36:38.028043Z",
     "start_time": "2021-10-10T07:36:38.013958Z"
    }
   },
   "source": [
    "<img src=\"./data/FRED.JPG\" alt=\"Drawing\" style=\"width: 1000px;\"/>"
   ]
  },
  {
   "cell_type": "code",
   "execution_count": 1,
   "metadata": {
    "ExecuteTime": {
     "end_time": "2024-01-21T10:44:33.212951Z",
     "start_time": "2024-01-21T10:44:32.945434Z"
    }
   },
   "outputs": [],
   "source": [
    "# 필요한 패키지 및 모듈 불러오기\n",
    "\n",
    "import pandas as pd\n",
    "import numpy as np\n",
    "from numpy.random import randn\n",
    "\n",
    "from datetime import datetime, timedelta # 시간과 날짜 간 차이 계산\n",
    "from dateutil.parser import parse\n",
    "from pandas.tseries.offsets import Hour, Minute"
   ]
  },
  {
   "cell_type": "markdown",
   "metadata": {},
   "source": [
    "parse : 파싱은 어떤 페이지(문서, html 등)에서 내가 원하는 데이터를 특정 패턴이나 순서로 추출해 가공하는 것을 말합니다.  "
   ]
  },
  {
   "cell_type": "markdown",
   "metadata": {},
   "source": [
    "### 1.1.2 데이터 불러오기"
   ]
  },
  {
   "cell_type": "code",
   "execution_count": 2,
   "metadata": {
    "ExecuteTime": {
     "end_time": "2024-01-21T10:44:33.235737Z",
     "start_time": "2024-01-21T10:44:33.212951Z"
    }
   },
   "outputs": [
    {
     "data": {
      "text/html": [
       "<div>\n",
       "<style scoped>\n",
       "    .dataframe tbody tr th:only-of-type {\n",
       "        vertical-align: middle;\n",
       "    }\n",
       "\n",
       "    .dataframe tbody tr th {\n",
       "        vertical-align: top;\n",
       "    }\n",
       "\n",
       "    .dataframe thead th {\n",
       "        text-align: right;\n",
       "    }\n",
       "</style>\n",
       "<table border=\"1\" class=\"dataframe\">\n",
       "  <thead>\n",
       "    <tr style=\"text-align: right;\">\n",
       "      <th></th>\n",
       "      <th>DATE</th>\n",
       "      <th>USSTHPI</th>\n",
       "    </tr>\n",
       "  </thead>\n",
       "  <tbody>\n",
       "    <tr>\n",
       "      <th>0</th>\n",
       "      <td>1975-01-01</td>\n",
       "      <td>60.06</td>\n",
       "    </tr>\n",
       "    <tr>\n",
       "      <th>1</th>\n",
       "      <td>1975-04-01</td>\n",
       "      <td>61.01</td>\n",
       "    </tr>\n",
       "    <tr>\n",
       "      <th>2</th>\n",
       "      <td>1975-07-01</td>\n",
       "      <td>61.18</td>\n",
       "    </tr>\n",
       "    <tr>\n",
       "      <th>3</th>\n",
       "      <td>1975-10-01</td>\n",
       "      <td>62.24</td>\n",
       "    </tr>\n",
       "    <tr>\n",
       "      <th>4</th>\n",
       "      <td>1976-01-01</td>\n",
       "      <td>62.87</td>\n",
       "    </tr>\n",
       "    <tr>\n",
       "      <th>...</th>\n",
       "      <td>...</td>\n",
       "      <td>...</td>\n",
       "    </tr>\n",
       "    <tr>\n",
       "      <th>190</th>\n",
       "      <td>2022-07-01</td>\n",
       "      <td>627.42</td>\n",
       "    </tr>\n",
       "    <tr>\n",
       "      <th>191</th>\n",
       "      <td>2022-10-01</td>\n",
       "      <td>622.78</td>\n",
       "    </tr>\n",
       "    <tr>\n",
       "      <th>192</th>\n",
       "      <td>2023-01-01</td>\n",
       "      <td>625.78</td>\n",
       "    </tr>\n",
       "    <tr>\n",
       "      <th>193</th>\n",
       "      <td>2023-04-01</td>\n",
       "      <td>645.38</td>\n",
       "    </tr>\n",
       "    <tr>\n",
       "      <th>194</th>\n",
       "      <td>2023-07-01</td>\n",
       "      <td>657.32</td>\n",
       "    </tr>\n",
       "  </tbody>\n",
       "</table>\n",
       "<p>195 rows × 2 columns</p>\n",
       "</div>"
      ],
      "text/plain": [
       "           DATE  USSTHPI\n",
       "0    1975-01-01    60.06\n",
       "1    1975-04-01    61.01\n",
       "2    1975-07-01    61.18\n",
       "3    1975-10-01    62.24\n",
       "4    1976-01-01    62.87\n",
       "..          ...      ...\n",
       "190  2022-07-01   627.42\n",
       "191  2022-10-01   622.78\n",
       "192  2023-01-01   625.78\n",
       "193  2023-04-01   645.38\n",
       "194  2023-07-01   657.32\n",
       "\n",
       "[195 rows x 2 columns]"
      ]
     },
     "execution_count": 2,
     "metadata": {},
     "output_type": "execute_result"
    }
   ],
   "source": [
    "# House_Price_Index_US\n",
    "df_us = pd.read_csv('./data/USSTHPI_2024.csv')\n",
    "df_us"
   ]
  },
  {
   "cell_type": "code",
   "execution_count": 3,
   "metadata": {
    "ExecuteTime": {
     "end_time": "2024-01-21T10:44:33.248864Z",
     "start_time": "2024-01-21T10:44:33.237836Z"
    }
   },
   "outputs": [
    {
     "data": {
      "text/plain": [
       "DATE        object\n",
       "USSTHPI    float64\n",
       "dtype: object"
      ]
     },
     "execution_count": 3,
     "metadata": {},
     "output_type": "execute_result"
    }
   ],
   "source": [
    "# 데이터 타입 확인\n",
    "df_us.dtypes\n",
    "\n",
    "# us.to_frame()\n",
    "# 현재 날짜는 문자열, 지수는 정수 타입입니다."
   ]
  },
  {
   "cell_type": "code",
   "execution_count": 4,
   "metadata": {
    "ExecuteTime": {
     "end_time": "2024-01-21T10:44:33.261703Z",
     "start_time": "2024-01-21T10:44:33.252017Z"
    }
   },
   "outputs": [
    {
     "name": "stdout",
     "output_type": "stream",
     "text": [
      "<class 'pandas.core.frame.DataFrame'>\n",
      "RangeIndex: 195 entries, 0 to 194\n",
      "Data columns (total 2 columns):\n",
      " #   Column   Non-Null Count  Dtype  \n",
      "---  ------   --------------  -----  \n",
      " 0   DATE     195 non-null    object \n",
      " 1   USSTHPI  195 non-null    float64\n",
      "dtypes: float64(1), object(1)\n",
      "memory usage: 3.2+ KB\n"
     ]
    }
   ],
   "source": [
    "df_us.info()"
   ]
  },
  {
   "cell_type": "markdown",
   "metadata": {},
   "source": [
    "### 1.1.3 데이터 타입 변경(시계열)"
   ]
  },
  {
   "cell_type": "code",
   "execution_count": 5,
   "metadata": {
    "ExecuteTime": {
     "end_time": "2024-01-21T10:44:33.268657Z",
     "start_time": "2024-01-21T10:44:33.261703Z"
    }
   },
   "outputs": [
    {
     "data": {
      "text/plain": [
       "0      1975-01-01\n",
       "1      1975-04-01\n",
       "2      1975-07-01\n",
       "3      1975-10-01\n",
       "4      1976-01-01\n",
       "          ...    \n",
       "190    2022-07-01\n",
       "191    2022-10-01\n",
       "192    2023-01-01\n",
       "193    2023-04-01\n",
       "194    2023-07-01\n",
       "Name: DATE, Length: 195, dtype: object"
      ]
     },
     "execution_count": 5,
     "metadata": {},
     "output_type": "execute_result"
    }
   ],
   "source": [
    "df_us['DATE']"
   ]
  },
  {
   "cell_type": "code",
   "execution_count": 6,
   "metadata": {
    "ExecuteTime": {
     "end_time": "2024-01-21T10:44:33.278857Z",
     "start_time": "2024-01-21T10:44:33.269698Z"
    }
   },
   "outputs": [
    {
     "name": "stdout",
     "output_type": "stream",
     "text": [
      "<class 'pandas.core.frame.DataFrame'>\n",
      "RangeIndex: 195 entries, 0 to 194\n",
      "Data columns (total 2 columns):\n",
      " #   Column   Non-Null Count  Dtype         \n",
      "---  ------   --------------  -----         \n",
      " 0   DATE     195 non-null    datetime64[ns]\n",
      " 1   USSTHPI  195 non-null    float64       \n",
      "dtypes: datetime64[ns](1), float64(1)\n",
      "memory usage: 3.2 KB\n"
     ]
    }
   ],
   "source": [
    "# 문자열로 되어 있는 칼럼을 날짜타입으로 변경해줍니다. convert the 'Date' column to datetime format\n",
    "df_us['DATE']= pd.to_datetime(df_us['DATE'])\n",
    " \n",
    "# Check the format of 'Date' column\n",
    "df_us.info()"
   ]
  },
  {
   "cell_type": "code",
   "execution_count": 7,
   "metadata": {
    "ExecuteTime": {
     "end_time": "2024-01-21T10:44:33.294375Z",
     "start_time": "2024-01-21T10:44:33.278857Z"
    }
   },
   "outputs": [
    {
     "data": {
      "text/plain": [
       "(195, 2)"
      ]
     },
     "execution_count": 7,
     "metadata": {},
     "output_type": "execute_result"
    }
   ],
   "source": [
    "df_us.shape"
   ]
  },
  {
   "cell_type": "markdown",
   "metadata": {},
   "source": [
    "### 1.1.4 미국 주택 가격지수 시각화"
   ]
  },
  {
   "cell_type": "markdown",
   "metadata": {
    "ExecuteTime": {
     "end_time": "2021-08-17T07:27:17.447717Z",
     "start_time": "2021-08-17T07:27:15.280238Z"
    }
   },
   "source": [
    "rc 파라미터 설정 : [matplotlib 공식 다큐먼트](https://matplotlib.org/stable/api/_as_gen/matplotlib.pyplot.rc.html)"
   ]
  },
  {
   "cell_type": "code",
   "execution_count": 8,
   "metadata": {
    "ExecuteTime": {
     "end_time": "2024-01-21T10:44:33.737318Z",
     "start_time": "2024-01-21T10:44:33.294675Z"
    }
   },
   "outputs": [
    {
     "data": {
      "text/plain": [
       "<Axes: xlabel='DATE'>"
      ]
     },
     "execution_count": 8,
     "metadata": {},
     "output_type": "execute_result"
    },
    {
     "data": {
      "image/png": "[encoded data removed]",
      "text/plain": [
       "<Figure size 432x288 with 1 Axes>"
      ]
     },
     "metadata": {
      "needs_background": "light"
     },
     "output_type": "display_data"
    }
   ],
   "source": [
    "import matplotlib.pyplot as plt\n",
    "import datetime as dt\n",
    "\n",
    "plt.style.use('default') \n",
    "plt.rc('figure', figsize=(12, 4))\n",
    "plt.rc('font', family='NanumGothic')\n",
    "\n",
    "# x축에 날짜, y축에 지수를 넣고 간단히 그려봅니다.\n",
    "df_us.plot('DATE', 'USSTHPI')"
   ]
  },
  {
   "cell_type": "code",
   "execution_count": 9,
   "metadata": {
    "ExecuteTime": {
     "end_time": "2024-01-21T10:44:34.085481Z",
     "start_time": "2024-01-21T10:44:33.739340Z"
    }
   },
   "outputs": [
    {
     "data": {
      "image/png": "[encoded data removed]",
      "text/plain": [
       "<Figure size 432x288 with 1 Axes>"
      ]
     },
     "metadata": {
      "needs_background": "light"
     },
     "output_type": "display_data"
    }
   ],
   "source": [
    "xs      = df_us['DATE'].to_list()\n",
    "xlabels = df_us['DATE'].dt.year.to_list() # 1975, 1975,1975, 1975, 1976....\n",
    "\n",
    "ys      = df_us['USSTHPI'].to_list()\n",
    "\n",
    "plt.plot(xs, ys)\n",
    "\n",
    "plt.xticks(ticks=xs, labels=xlabels, rotation=45)\n",
    "plt.xlabel('USSTHPI')\n",
    "\n",
    "plt.locator_params(axis='x', nbins=len(xlabels)/4)"
   ]
  },
  {
   "cell_type": "code",
   "execution_count": 10,
   "metadata": {
    "ExecuteTime": {
     "end_time": "2024-01-21T10:44:34.093912Z",
     "start_time": "2024-01-21T10:44:34.087414Z"
    }
   },
   "outputs": [
    {
     "data": {
      "text/plain": [
       "195"
      ]
     },
     "execution_count": 10,
     "metadata": {},
     "output_type": "execute_result"
    }
   ],
   "source": [
    "len(xlabels)"
   ]
  },
  {
   "cell_type": "code",
   "execution_count": 11,
   "metadata": {
    "ExecuteTime": {
     "end_time": "2024-01-21T10:44:34.110395Z",
     "start_time": "2024-01-21T10:44:34.095841Z"
    }
   },
   "outputs": [
    {
     "data": {
      "text/plain": [
       "0      1975\n",
       "1      1975\n",
       "2      1975\n",
       "3      1975\n",
       "4      1976\n",
       "       ... \n",
       "190    2022\n",
       "191    2022\n",
       "192    2023\n",
       "193    2023\n",
       "194    2023\n",
       "Name: DATE, Length: 195, dtype: int32"
      ]
     },
     "execution_count": 11,
     "metadata": {},
     "output_type": "execute_result"
    }
   ],
   "source": [
    "x=df_us['DATE'].dt.year\n",
    "x"
   ]
  },
  {
   "cell_type": "markdown",
   "metadata": {},
   "source": [
    "## 1.2 한국 공동주택 가격지수 데이터 수집"
   ]
  },
  {
   "cell_type": "markdown",
   "metadata": {},
   "source": [
    "### 1.2.1 KOSIS 국가통계포털 제공 데이터 수집\n",
    "* 지수명 : 공동주택 통합 매매 실거래가격지수 (한국부동산원. 2017.11 = 100) cf. 종합주택매매가격지수(2021.6 지수 = 100) \n",
    "* 기준년월 : 2017.11 지수 - 100 (2021.6 지수 = 100)\n",
    "* 수집방법 : 지수산정기간 중 거래신고가 2번 이상 있는 동일 아파트의 가격변동률과 거래량으로 지수 산출\n",
    "* 조사기관 : [한국부동산원](http://www.r-one.co.kr/rone/resis/statistics/statisticsViewer.do?menuId=HOUSE_21111)\n",
    "* 제공링크 : https://kosis.kr/statHtml/statHtml.do?orgId=408&tblId=DT_KAB_11672_S13&conn_path=I2\n",
    "* 다운로드 : 1) 항목탭 : \"지수\" 선택  2) 행정구역별탭 : \"전국\" 선택  3) 시점탭 : 2006.01 ~ 2021.06 선택  4) 통계표 조회 버튼 클릭\n",
    "5) 행렬전환 6) 다운로드 버튼 클릭   7) CSV 파일로 저장하고 경로설정"
   ]
  },
  {
   "cell_type": "markdown",
   "metadata": {},
   "source": [
    "### 1.2.2 데이터 불러오기"
   ]
  },
  {
   "cell_type": "code",
   "execution_count": 12,
   "metadata": {
    "ExecuteTime": {
     "end_time": "2024-01-21T10:44:34.125774Z",
     "start_time": "2024-01-21T10:44:34.110395Z"
    }
   },
   "outputs": [
    {
     "data": {
      "text/html": [
       "<div>\n",
       "<style scoped>\n",
       "    .dataframe tbody tr th:only-of-type {\n",
       "        vertical-align: middle;\n",
       "    }\n",
       "\n",
       "    .dataframe tbody tr th {\n",
       "        vertical-align: top;\n",
       "    }\n",
       "\n",
       "    .dataframe thead th {\n",
       "        text-align: right;\n",
       "    }\n",
       "</style>\n",
       "<table border=\"1\" class=\"dataframe\">\n",
       "  <thead>\n",
       "    <tr style=\"text-align: right;\">\n",
       "      <th></th>\n",
       "      <th>시점</th>\n",
       "      <th>전국</th>\n",
       "    </tr>\n",
       "  </thead>\n",
       "  <tbody>\n",
       "    <tr>\n",
       "      <th>0</th>\n",
       "      <td>시점</td>\n",
       "      <td>지수 (2017.11 = 100.0)</td>\n",
       "    </tr>\n",
       "    <tr>\n",
       "      <th>1</th>\n",
       "      <td>2006.01</td>\n",
       "      <td>58.2</td>\n",
       "    </tr>\n",
       "    <tr>\n",
       "      <th>2</th>\n",
       "      <td>2006.02</td>\n",
       "      <td>58.6</td>\n",
       "    </tr>\n",
       "    <tr>\n",
       "      <th>3</th>\n",
       "      <td>2006.03</td>\n",
       "      <td>59.3</td>\n",
       "    </tr>\n",
       "    <tr>\n",
       "      <th>4</th>\n",
       "      <td>2006.04</td>\n",
       "      <td>59.7</td>\n",
       "    </tr>\n",
       "    <tr>\n",
       "      <th>...</th>\n",
       "      <td>...</td>\n",
       "      <td>...</td>\n",
       "    </tr>\n",
       "    <tr>\n",
       "      <th>211</th>\n",
       "      <td>2023.07</td>\n",
       "      <td>121.6</td>\n",
       "    </tr>\n",
       "    <tr>\n",
       "      <th>212</th>\n",
       "      <td>2023.08</td>\n",
       "      <td>122.3</td>\n",
       "    </tr>\n",
       "    <tr>\n",
       "      <th>213</th>\n",
       "      <td>2023.09</td>\n",
       "      <td>123.0</td>\n",
       "    </tr>\n",
       "    <tr>\n",
       "      <th>214</th>\n",
       "      <td>2023.10</td>\n",
       "      <td>122.7</td>\n",
       "    </tr>\n",
       "    <tr>\n",
       "      <th>215</th>\n",
       "      <td>2023.11</td>\n",
       "      <td>121.9</td>\n",
       "    </tr>\n",
       "  </tbody>\n",
       "</table>\n",
       "<p>216 rows × 2 columns</p>\n",
       "</div>"
      ],
      "text/plain": [
       "          시점                    전국\n",
       "0         시점  지수 (2017.11 = 100.0)\n",
       "1    2006.01                  58.2\n",
       "2    2006.02                  58.6\n",
       "3    2006.03                  59.3\n",
       "4    2006.04                  59.7\n",
       "..       ...                   ...\n",
       "211  2023.07                 121.6\n",
       "212  2023.08                 122.3\n",
       "213  2023.09                 123.0\n",
       "214  2023.10                 122.7\n",
       "215  2023.11                 121.9\n",
       "\n",
       "[216 rows x 2 columns]"
      ]
     },
     "execution_count": 12,
     "metadata": {},
     "output_type": "execute_result"
    }
   ],
   "source": [
    "import pandas as pd\n",
    "\n",
    "import warnings\n",
    "warnings.simplefilter(\"ignore\")\n",
    "\n",
    "df_kr = pd.read_csv('./data/공동주택_통합_매매_실거래가격지수_20240121194411.csv', encoding='cp949')\n",
    "df_kr"
   ]
  },
  {
   "cell_type": "code",
   "execution_count": 13,
   "metadata": {
    "ExecuteTime": {
     "end_time": "2024-01-21T10:44:34.142661Z",
     "start_time": "2024-01-21T10:44:34.127238Z"
    }
   },
   "outputs": [],
   "source": [
    "# 1번째 행부터 끝행 까지 데이터를 추출\n",
    "df_kr = df_kr[1::]"
   ]
  },
  {
   "cell_type": "code",
   "execution_count": 14,
   "metadata": {
    "ExecuteTime": {
     "end_time": "2024-01-21T10:44:34.158161Z",
     "start_time": "2024-01-21T10:44:34.144232Z"
    }
   },
   "outputs": [
    {
     "data": {
      "text/html": [
       "<div>\n",
       "<style scoped>\n",
       "    .dataframe tbody tr th:only-of-type {\n",
       "        vertical-align: middle;\n",
       "    }\n",
       "\n",
       "    .dataframe tbody tr th {\n",
       "        vertical-align: top;\n",
       "    }\n",
       "\n",
       "    .dataframe thead th {\n",
       "        text-align: right;\n",
       "    }\n",
       "</style>\n",
       "<table border=\"1\" class=\"dataframe\">\n",
       "  <thead>\n",
       "    <tr style=\"text-align: right;\">\n",
       "      <th></th>\n",
       "      <th>시점</th>\n",
       "      <th>전국</th>\n",
       "    </tr>\n",
       "  </thead>\n",
       "  <tbody>\n",
       "    <tr>\n",
       "      <th>1</th>\n",
       "      <td>2006.01</td>\n",
       "      <td>58.2</td>\n",
       "    </tr>\n",
       "    <tr>\n",
       "      <th>2</th>\n",
       "      <td>2006.02</td>\n",
       "      <td>58.6</td>\n",
       "    </tr>\n",
       "    <tr>\n",
       "      <th>3</th>\n",
       "      <td>2006.03</td>\n",
       "      <td>59.3</td>\n",
       "    </tr>\n",
       "    <tr>\n",
       "      <th>4</th>\n",
       "      <td>2006.04</td>\n",
       "      <td>59.7</td>\n",
       "    </tr>\n",
       "    <tr>\n",
       "      <th>5</th>\n",
       "      <td>2006.05</td>\n",
       "      <td>60.2</td>\n",
       "    </tr>\n",
       "    <tr>\n",
       "      <th>...</th>\n",
       "      <td>...</td>\n",
       "      <td>...</td>\n",
       "    </tr>\n",
       "    <tr>\n",
       "      <th>211</th>\n",
       "      <td>2023.07</td>\n",
       "      <td>121.6</td>\n",
       "    </tr>\n",
       "    <tr>\n",
       "      <th>212</th>\n",
       "      <td>2023.08</td>\n",
       "      <td>122.3</td>\n",
       "    </tr>\n",
       "    <tr>\n",
       "      <th>213</th>\n",
       "      <td>2023.09</td>\n",
       "      <td>123.0</td>\n",
       "    </tr>\n",
       "    <tr>\n",
       "      <th>214</th>\n",
       "      <td>2023.10</td>\n",
       "      <td>122.7</td>\n",
       "    </tr>\n",
       "    <tr>\n",
       "      <th>215</th>\n",
       "      <td>2023.11</td>\n",
       "      <td>121.9</td>\n",
       "    </tr>\n",
       "  </tbody>\n",
       "</table>\n",
       "<p>215 rows × 2 columns</p>\n",
       "</div>"
      ],
      "text/plain": [
       "          시점     전국\n",
       "1    2006.01   58.2\n",
       "2    2006.02   58.6\n",
       "3    2006.03   59.3\n",
       "4    2006.04   59.7\n",
       "5    2006.05   60.2\n",
       "..       ...    ...\n",
       "211  2023.07  121.6\n",
       "212  2023.08  122.3\n",
       "213  2023.09  123.0\n",
       "214  2023.10  122.7\n",
       "215  2023.11  121.9\n",
       "\n",
       "[215 rows x 2 columns]"
      ]
     },
     "execution_count": 14,
     "metadata": {},
     "output_type": "execute_result"
    }
   ],
   "source": [
    "df_kr"
   ]
  },
  {
   "cell_type": "code",
   "execution_count": 15,
   "metadata": {
    "ExecuteTime": {
     "end_time": "2024-01-21T10:44:34.169616Z",
     "start_time": "2024-01-21T10:44:34.159063Z"
    }
   },
   "outputs": [
    {
     "data": {
      "text/plain": [
       "0     1975-01-01\n",
       "1     1975-04-01\n",
       "2     1975-07-01\n",
       "3     1975-10-01\n",
       "4     1976-01-01\n",
       "         ...    \n",
       "190   2022-07-01\n",
       "191   2022-10-01\n",
       "192   2023-01-01\n",
       "193   2023-04-01\n",
       "194   2023-07-01\n",
       "Name: DATE, Length: 195, dtype: datetime64[ns]"
      ]
     },
     "execution_count": 15,
     "metadata": {},
     "output_type": "execute_result"
    }
   ],
   "source": [
    "df_us['DATE']"
   ]
  },
  {
   "cell_type": "code",
   "execution_count": 16,
   "metadata": {
    "ExecuteTime": {
     "end_time": "2024-01-21T10:44:34.185386Z",
     "start_time": "2024-01-21T10:44:34.170622Z"
    }
   },
   "outputs": [
    {
     "data": {
      "text/plain": [
       "1      2006.01\n",
       "2      2006.02\n",
       "3      2006.03\n",
       "4      2006.04\n",
       "5      2006.05\n",
       "        ...   \n",
       "211    2023.07\n",
       "212    2023.08\n",
       "213    2023.09\n",
       "214    2023.10\n",
       "215    2023.11\n",
       "Name: 시점, Length: 215, dtype: object"
      ]
     },
     "execution_count": 16,
     "metadata": {},
     "output_type": "execute_result"
    }
   ],
   "source": [
    "df_kr['시점']"
   ]
  },
  {
   "cell_type": "code",
   "execution_count": 17,
   "metadata": {
    "ExecuteTime": {
     "end_time": "2024-01-21T10:44:34.195129Z",
     "start_time": "2024-01-21T10:44:34.187393Z"
    }
   },
   "outputs": [],
   "source": [
    "# 2가지 문제점 발생.\n",
    "# 1. 데이터 타입이 object\n",
    "# 2. 미국은 2021-04-01 이고, 한국은 2006.01 으로 표현이 다릅니다.\n",
    "\n",
    "# 한국 공동주택 매매가격지수의 시점 칼럼의 데이터 타입도 마찬가지로 문자열 -> datetime으로 변환해주어야 합니다."
   ]
  },
  {
   "cell_type": "code",
   "execution_count": 18,
   "metadata": {
    "ExecuteTime": {
     "end_time": "2024-01-21T10:44:34.206056Z",
     "start_time": "2024-01-21T10:44:34.195129Z"
    }
   },
   "outputs": [],
   "source": [
    "# pd.to_datetime(df_us['DATE'])"
   ]
  },
  {
   "cell_type": "markdown",
   "metadata": {},
   "source": [
    "### 1.2.3 데이터 타입 변경(시계열)"
   ]
  },
  {
   "cell_type": "code",
   "execution_count": 19,
   "metadata": {
    "ExecuteTime": {
     "end_time": "2024-01-21T10:44:34.221686Z",
     "start_time": "2024-01-21T10:44:34.206056Z"
    }
   },
   "outputs": [
    {
     "data": {
      "text/plain": [
       "1     2006-01-01\n",
       "2     2006-02-01\n",
       "3     2006-03-01\n",
       "4     2006-04-01\n",
       "5     2006-05-01\n",
       "         ...    \n",
       "211   2023-07-01\n",
       "212   2023-08-01\n",
       "213   2023-09-01\n",
       "214   2023-10-01\n",
       "215   2023-11-01\n",
       "Name: 시점, Length: 215, dtype: datetime64[ns]"
      ]
     },
     "execution_count": 19,
     "metadata": {},
     "output_type": "execute_result"
    }
   ],
   "source": [
    "# 시리즈(Series) 데이터를 시계열로 변환하는 방법\n",
    "pd.to_datetime(df_kr['시점']) #inplace =True"
   ]
  },
  {
   "cell_type": "code",
   "execution_count": 20,
   "metadata": {
    "ExecuteTime": {
     "end_time": "2024-01-21T10:44:34.230102Z",
     "start_time": "2024-01-21T10:44:34.223688Z"
    }
   },
   "outputs": [],
   "source": [
    "# 잘못된 예\n",
    "# df_kr['시점'].to_datetime\n",
    "# >>> 'Series' object has no attribute 'to_datetime'"
   ]
  },
  {
   "cell_type": "code",
   "execution_count": 21,
   "metadata": {
    "ExecuteTime": {
     "end_time": "2024-01-21T10:44:34.239831Z",
     "start_time": "2024-01-21T10:44:34.230102Z"
    }
   },
   "outputs": [],
   "source": [
    "import warnings\n",
    "warnings.filterwarnings(\"ignore\")\n",
    "\n",
    "# to_datetime() 함수는 inplace = True 라는 인자가 없습니다.\n",
    "\n",
    "df_us['Time'] = pd.to_datetime(df_us['DATE'])\n",
    "df_kr['Time'] = pd.to_datetime(df_kr['시점'])"
   ]
  },
  {
   "cell_type": "markdown",
   "metadata": {},
   "source": [
    "### [참고 Tutorial] 데이터 추출하기 : iloc와 loc 차이\n",
    "\n",
    "1. iloc  \n",
    "integer location의 약어. 데이터프레임의 행이나 칼럼을 순서를 index(정수값)으로 추출하는 방식\n",
    "df.iloc[행 인덱스, 열 인덱스]\n",
    "\n",
    "2. loc  \n",
    "loc는 칼럼명을 직접 적거나 특정조건식을 써서 사람이 읽기 편하게 데이터에 접근\n",
    "df.loc[행 이름, 열 이름]\n",
    "\n",
    "[pandas 공식 튜토리얼](https://pandas.pydata.org/pandas-docs/stable/user_guide/indexing.html#returning-a-view-versus-a-copy)"
   ]
  },
  {
   "cell_type": "code",
   "execution_count": 22,
   "metadata": {
    "ExecuteTime": {
     "end_time": "2024-01-21T10:44:34.255905Z",
     "start_time": "2024-01-21T10:44:34.239831Z"
    },
    "scrolled": true
   },
   "outputs": [
    {
     "data": {
      "text/plain": [
       "시점                  2006.01\n",
       "전국                     58.2\n",
       "Time    2006-01-01 00:00:00\n",
       "Name: 1, dtype: object"
      ]
     },
     "execution_count": 22,
     "metadata": {},
     "output_type": "execute_result"
    }
   ],
   "source": [
    "df_kr.iloc[0]"
   ]
  },
  {
   "cell_type": "code",
   "execution_count": 23,
   "metadata": {
    "ExecuteTime": {
     "end_time": "2024-01-21T10:44:34.262895Z",
     "start_time": "2024-01-21T10:44:34.257813Z"
    }
   },
   "outputs": [
    {
     "data": {
      "text/plain": [
       "시점                  2006.01\n",
       "전국                     58.2\n",
       "Time    2006-01-01 00:00:00\n",
       "Name: 1, dtype: object"
      ]
     },
     "execution_count": 23,
     "metadata": {},
     "output_type": "execute_result"
    }
   ],
   "source": [
    "df_kr.loc[1]"
   ]
  },
  {
   "cell_type": "code",
   "execution_count": 24,
   "metadata": {
    "ExecuteTime": {
     "end_time": "2024-01-21T10:44:34.277428Z",
     "start_time": "2024-01-21T10:44:34.262895Z"
    }
   },
   "outputs": [
    {
     "data": {
      "text/plain": [
       "'58.2'"
      ]
     },
     "execution_count": 24,
     "metadata": {},
     "output_type": "execute_result"
    }
   ],
   "source": [
    "#loc 행이름 열이름\n",
    "df_kr.loc[1]['전국']"
   ]
  },
  {
   "cell_type": "code",
   "execution_count": 25,
   "metadata": {
    "ExecuteTime": {
     "end_time": "2024-01-21T10:44:34.292954Z",
     "start_time": "2024-01-21T10:44:34.277939Z"
    }
   },
   "outputs": [
    {
     "data": {
      "text/plain": [
       "0     1975-01-01\n",
       "1     1975-04-01\n",
       "2     1975-07-01\n",
       "3     1975-10-01\n",
       "4     1976-01-01\n",
       "         ...    \n",
       "190   2022-07-01\n",
       "191   2022-10-01\n",
       "192   2023-01-01\n",
       "193   2023-04-01\n",
       "194   2023-07-01\n",
       "Name: Time, Length: 195, dtype: datetime64[ns]"
      ]
     },
     "execution_count": 25,
     "metadata": {},
     "output_type": "execute_result"
    }
   ],
   "source": [
    "df_us['Time']"
   ]
  },
  {
   "cell_type": "code",
   "execution_count": 26,
   "metadata": {
    "ExecuteTime": {
     "end_time": "2024-01-21T10:44:34.302132Z",
     "start_time": "2024-01-21T10:44:34.293847Z"
    },
    "scrolled": true
   },
   "outputs": [
    {
     "data": {
      "text/plain": [
       "1     2006-01-01\n",
       "2     2006-02-01\n",
       "3     2006-03-01\n",
       "4     2006-04-01\n",
       "5     2006-05-01\n",
       "         ...    \n",
       "211   2023-07-01\n",
       "212   2023-08-01\n",
       "213   2023-09-01\n",
       "214   2023-10-01\n",
       "215   2023-11-01\n",
       "Name: Time, Length: 215, dtype: datetime64[ns]"
      ]
     },
     "execution_count": 26,
     "metadata": {},
     "output_type": "execute_result"
    }
   ],
   "source": [
    "df_kr['Time']"
   ]
  },
  {
   "cell_type": "markdown",
   "metadata": {},
   "source": [
    "## 1.3 한국 데이터와 미국 데이터 병합(Merge)"
   ]
  },
  {
   "cell_type": "markdown",
   "metadata": {},
   "source": [
    "### 1.3.1 pd.merge_asof 함수\n",
    "Time-series friendly merging\n",
    "\n",
    "* pandas는 시계열 데이터 프레임을 합 칠수 있는 특별할 함수를 제공합니다.\n",
    "* 완전히 일치하는 키 대신에 direction='nearest' 가장 근접한 키를 기반으로 하는 점을 제외하면 left-join과 유사합니다.\n",
    "* 좌측 데이터 프레임의 각 행에 대해, 좌측 프레임의 키보다 적은 우측 프레임에서 최종 행을 선택합니다."
   ]
  },
  {
   "cell_type": "code",
   "execution_count": 27,
   "metadata": {
    "ExecuteTime": {
     "end_time": "2024-01-21T10:44:34.318663Z",
     "start_time": "2024-01-21T10:44:34.305135Z"
    }
   },
   "outputs": [],
   "source": [
    "df_merged = pd.merge_asof(\n",
    "    df_us, df_kr,\n",
    "    on='Time', direction='nearest')"
   ]
  },
  {
   "cell_type": "code",
   "execution_count": 28,
   "metadata": {
    "ExecuteTime": {
     "end_time": "2024-01-21T10:44:34.338323Z",
     "start_time": "2024-01-21T10:44:34.320706Z"
    }
   },
   "outputs": [
    {
     "data": {
      "text/html": [
       "<div>\n",
       "<style scoped>\n",
       "    .dataframe tbody tr th:only-of-type {\n",
       "        vertical-align: middle;\n",
       "    }\n",
       "\n",
       "    .dataframe tbody tr th {\n",
       "        vertical-align: top;\n",
       "    }\n",
       "\n",
       "    .dataframe thead th {\n",
       "        text-align: right;\n",
       "    }\n",
       "</style>\n",
       "<table border=\"1\" class=\"dataframe\">\n",
       "  <thead>\n",
       "    <tr style=\"text-align: right;\">\n",
       "      <th></th>\n",
       "      <th>DATE</th>\n",
       "      <th>USSTHPI</th>\n",
       "      <th>Time</th>\n",
       "      <th>시점</th>\n",
       "      <th>전국</th>\n",
       "    </tr>\n",
       "  </thead>\n",
       "  <tbody>\n",
       "    <tr>\n",
       "      <th>0</th>\n",
       "      <td>1975-01-01</td>\n",
       "      <td>60.06</td>\n",
       "      <td>1975-01-01</td>\n",
       "      <td>2006.01</td>\n",
       "      <td>58.2</td>\n",
       "    </tr>\n",
       "    <tr>\n",
       "      <th>1</th>\n",
       "      <td>1975-04-01</td>\n",
       "      <td>61.01</td>\n",
       "      <td>1975-04-01</td>\n",
       "      <td>2006.01</td>\n",
       "      <td>58.2</td>\n",
       "    </tr>\n",
       "    <tr>\n",
       "      <th>2</th>\n",
       "      <td>1975-07-01</td>\n",
       "      <td>61.18</td>\n",
       "      <td>1975-07-01</td>\n",
       "      <td>2006.01</td>\n",
       "      <td>58.2</td>\n",
       "    </tr>\n",
       "    <tr>\n",
       "      <th>3</th>\n",
       "      <td>1975-10-01</td>\n",
       "      <td>62.24</td>\n",
       "      <td>1975-10-01</td>\n",
       "      <td>2006.01</td>\n",
       "      <td>58.2</td>\n",
       "    </tr>\n",
       "    <tr>\n",
       "      <th>4</th>\n",
       "      <td>1976-01-01</td>\n",
       "      <td>62.87</td>\n",
       "      <td>1976-01-01</td>\n",
       "      <td>2006.01</td>\n",
       "      <td>58.2</td>\n",
       "    </tr>\n",
       "    <tr>\n",
       "      <th>...</th>\n",
       "      <td>...</td>\n",
       "      <td>...</td>\n",
       "      <td>...</td>\n",
       "      <td>...</td>\n",
       "      <td>...</td>\n",
       "    </tr>\n",
       "    <tr>\n",
       "      <th>190</th>\n",
       "      <td>2022-07-01</td>\n",
       "      <td>627.42</td>\n",
       "      <td>2022-07-01</td>\n",
       "      <td>2022.07</td>\n",
       "      <td>133.8</td>\n",
       "    </tr>\n",
       "    <tr>\n",
       "      <th>191</th>\n",
       "      <td>2022-10-01</td>\n",
       "      <td>622.78</td>\n",
       "      <td>2022-10-01</td>\n",
       "      <td>2022.10</td>\n",
       "      <td>125.1</td>\n",
       "    </tr>\n",
       "    <tr>\n",
       "      <th>192</th>\n",
       "      <td>2023-01-01</td>\n",
       "      <td>625.78</td>\n",
       "      <td>2023-01-01</td>\n",
       "      <td>2023.01</td>\n",
       "      <td>116.9</td>\n",
       "    </tr>\n",
       "    <tr>\n",
       "      <th>193</th>\n",
       "      <td>2023-04-01</td>\n",
       "      <td>645.38</td>\n",
       "      <td>2023-04-01</td>\n",
       "      <td>2023.04</td>\n",
       "      <td>119.5</td>\n",
       "    </tr>\n",
       "    <tr>\n",
       "      <th>194</th>\n",
       "      <td>2023-07-01</td>\n",
       "      <td>657.32</td>\n",
       "      <td>2023-07-01</td>\n",
       "      <td>2023.07</td>\n",
       "      <td>121.6</td>\n",
       "    </tr>\n",
       "  </tbody>\n",
       "</table>\n",
       "<p>195 rows × 5 columns</p>\n",
       "</div>"
      ],
      "text/plain": [
       "          DATE  USSTHPI       Time       시점     전국\n",
       "0   1975-01-01    60.06 1975-01-01  2006.01   58.2\n",
       "1   1975-04-01    61.01 1975-04-01  2006.01   58.2\n",
       "2   1975-07-01    61.18 1975-07-01  2006.01   58.2\n",
       "3   1975-10-01    62.24 1975-10-01  2006.01   58.2\n",
       "4   1976-01-01    62.87 1976-01-01  2006.01   58.2\n",
       "..         ...      ...        ...      ...    ...\n",
       "190 2022-07-01   627.42 2022-07-01  2022.07  133.8\n",
       "191 2022-10-01   622.78 2022-10-01  2022.10  125.1\n",
       "192 2023-01-01   625.78 2023-01-01  2023.01  116.9\n",
       "193 2023-04-01   645.38 2023-04-01  2023.04  119.5\n",
       "194 2023-07-01   657.32 2023-07-01  2023.07  121.6\n",
       "\n",
       "[195 rows x 5 columns]"
      ]
     },
     "execution_count": 28,
     "metadata": {},
     "output_type": "execute_result"
    }
   ],
   "source": [
    "df_merged "
   ]
  },
  {
   "cell_type": "code",
   "execution_count": 29,
   "metadata": {
    "ExecuteTime": {
     "end_time": "2024-01-21T10:44:34.352161Z",
     "start_time": "2024-01-21T10:44:34.339323Z"
    }
   },
   "outputs": [],
   "source": [
    "# 시점(Time)이 정확히 일치하는 값만 병합해줍니다.\n",
    "\n",
    "df_merged = pd.merge_asof(\n",
    "    df_us.sort_values(by='Time'), df_kr.sort_values(by='Time'),\n",
    "    on='Time', allow_exact_matches=True)"
   ]
  },
  {
   "cell_type": "code",
   "execution_count": 30,
   "metadata": {
    "ExecuteTime": {
     "end_time": "2024-01-21T10:44:34.368813Z",
     "start_time": "2024-01-21T10:44:34.353197Z"
    }
   },
   "outputs": [
    {
     "data": {
      "text/html": [
       "<div>\n",
       "<style scoped>\n",
       "    .dataframe tbody tr th:only-of-type {\n",
       "        vertical-align: middle;\n",
       "    }\n",
       "\n",
       "    .dataframe tbody tr th {\n",
       "        vertical-align: top;\n",
       "    }\n",
       "\n",
       "    .dataframe thead th {\n",
       "        text-align: right;\n",
       "    }\n",
       "</style>\n",
       "<table border=\"1\" class=\"dataframe\">\n",
       "  <thead>\n",
       "    <tr style=\"text-align: right;\">\n",
       "      <th></th>\n",
       "      <th>DATE</th>\n",
       "      <th>USSTHPI</th>\n",
       "      <th>Time</th>\n",
       "      <th>시점</th>\n",
       "      <th>전국</th>\n",
       "    </tr>\n",
       "  </thead>\n",
       "  <tbody>\n",
       "    <tr>\n",
       "      <th>0</th>\n",
       "      <td>1975-01-01</td>\n",
       "      <td>60.06</td>\n",
       "      <td>1975-01-01</td>\n",
       "      <td>NaN</td>\n",
       "      <td>NaN</td>\n",
       "    </tr>\n",
       "    <tr>\n",
       "      <th>1</th>\n",
       "      <td>1975-04-01</td>\n",
       "      <td>61.01</td>\n",
       "      <td>1975-04-01</td>\n",
       "      <td>NaN</td>\n",
       "      <td>NaN</td>\n",
       "    </tr>\n",
       "    <tr>\n",
       "      <th>2</th>\n",
       "      <td>1975-07-01</td>\n",
       "      <td>61.18</td>\n",
       "      <td>1975-07-01</td>\n",
       "      <td>NaN</td>\n",
       "      <td>NaN</td>\n",
       "    </tr>\n",
       "    <tr>\n",
       "      <th>3</th>\n",
       "      <td>1975-10-01</td>\n",
       "      <td>62.24</td>\n",
       "      <td>1975-10-01</td>\n",
       "      <td>NaN</td>\n",
       "      <td>NaN</td>\n",
       "    </tr>\n",
       "    <tr>\n",
       "      <th>4</th>\n",
       "      <td>1976-01-01</td>\n",
       "      <td>62.87</td>\n",
       "      <td>1976-01-01</td>\n",
       "      <td>NaN</td>\n",
       "      <td>NaN</td>\n",
       "    </tr>\n",
       "    <tr>\n",
       "      <th>...</th>\n",
       "      <td>...</td>\n",
       "      <td>...</td>\n",
       "      <td>...</td>\n",
       "      <td>...</td>\n",
       "      <td>...</td>\n",
       "    </tr>\n",
       "    <tr>\n",
       "      <th>190</th>\n",
       "      <td>2022-07-01</td>\n",
       "      <td>627.42</td>\n",
       "      <td>2022-07-01</td>\n",
       "      <td>2022.07</td>\n",
       "      <td>133.8</td>\n",
       "    </tr>\n",
       "    <tr>\n",
       "      <th>191</th>\n",
       "      <td>2022-10-01</td>\n",
       "      <td>622.78</td>\n",
       "      <td>2022-10-01</td>\n",
       "      <td>2022.10</td>\n",
       "      <td>125.1</td>\n",
       "    </tr>\n",
       "    <tr>\n",
       "      <th>192</th>\n",
       "      <td>2023-01-01</td>\n",
       "      <td>625.78</td>\n",
       "      <td>2023-01-01</td>\n",
       "      <td>2023.01</td>\n",
       "      <td>116.9</td>\n",
       "    </tr>\n",
       "    <tr>\n",
       "      <th>193</th>\n",
       "      <td>2023-04-01</td>\n",
       "      <td>645.38</td>\n",
       "      <td>2023-04-01</td>\n",
       "      <td>2023.04</td>\n",
       "      <td>119.5</td>\n",
       "    </tr>\n",
       "    <tr>\n",
       "      <th>194</th>\n",
       "      <td>2023-07-01</td>\n",
       "      <td>657.32</td>\n",
       "      <td>2023-07-01</td>\n",
       "      <td>2023.07</td>\n",
       "      <td>121.6</td>\n",
       "    </tr>\n",
       "  </tbody>\n",
       "</table>\n",
       "<p>195 rows × 5 columns</p>\n",
       "</div>"
      ],
      "text/plain": [
       "          DATE  USSTHPI       Time       시점     전국\n",
       "0   1975-01-01    60.06 1975-01-01      NaN    NaN\n",
       "1   1975-04-01    61.01 1975-04-01      NaN    NaN\n",
       "2   1975-07-01    61.18 1975-07-01      NaN    NaN\n",
       "3   1975-10-01    62.24 1975-10-01      NaN    NaN\n",
       "4   1976-01-01    62.87 1976-01-01      NaN    NaN\n",
       "..         ...      ...        ...      ...    ...\n",
       "190 2022-07-01   627.42 2022-07-01  2022.07  133.8\n",
       "191 2022-10-01   622.78 2022-10-01  2022.10  125.1\n",
       "192 2023-01-01   625.78 2023-01-01  2023.01  116.9\n",
       "193 2023-04-01   645.38 2023-04-01  2023.04  119.5\n",
       "194 2023-07-01   657.32 2023-07-01  2023.07  121.6\n",
       "\n",
       "[195 rows x 5 columns]"
      ]
     },
     "execution_count": 30,
     "metadata": {},
     "output_type": "execute_result"
    }
   ],
   "source": [
    "df_merged"
   ]
  },
  {
   "cell_type": "markdown",
   "metadata": {},
   "source": [
    "## 1.4 결측치 처리"
   ]
  },
  {
   "cell_type": "code",
   "execution_count": 31,
   "metadata": {
    "ExecuteTime": {
     "end_time": "2024-01-21T10:44:34.377160Z",
     "start_time": "2024-01-21T10:44:34.369816Z"
    }
   },
   "outputs": [
    {
     "data": {
      "text/plain": [
       "DATE         0\n",
       "USSTHPI      0\n",
       "Time         0\n",
       "시점         124\n",
       "전국         124\n",
       "dtype: int64"
      ]
     },
     "execution_count": 31,
     "metadata": {},
     "output_type": "execute_result"
    }
   ],
   "source": [
    "df_merged.isnull().sum()"
   ]
  },
  {
   "cell_type": "code",
   "execution_count": 32,
   "metadata": {
    "ExecuteTime": {
     "end_time": "2024-01-21T10:44:34.392394Z",
     "start_time": "2024-01-21T10:44:34.378324Z"
    },
    "scrolled": true
   },
   "outputs": [
    {
     "data": {
      "text/html": [
       "<div>\n",
       "<style scoped>\n",
       "    .dataframe tbody tr th:only-of-type {\n",
       "        vertical-align: middle;\n",
       "    }\n",
       "\n",
       "    .dataframe tbody tr th {\n",
       "        vertical-align: top;\n",
       "    }\n",
       "\n",
       "    .dataframe thead th {\n",
       "        text-align: right;\n",
       "    }\n",
       "</style>\n",
       "<table border=\"1\" class=\"dataframe\">\n",
       "  <thead>\n",
       "    <tr style=\"text-align: right;\">\n",
       "      <th></th>\n",
       "      <th>DATE</th>\n",
       "      <th>USSTHPI</th>\n",
       "      <th>Time</th>\n",
       "      <th>시점</th>\n",
       "      <th>전국</th>\n",
       "    </tr>\n",
       "  </thead>\n",
       "  <tbody>\n",
       "    <tr>\n",
       "      <th>0</th>\n",
       "      <td>False</td>\n",
       "      <td>False</td>\n",
       "      <td>False</td>\n",
       "      <td>True</td>\n",
       "      <td>True</td>\n",
       "    </tr>\n",
       "    <tr>\n",
       "      <th>1</th>\n",
       "      <td>False</td>\n",
       "      <td>False</td>\n",
       "      <td>False</td>\n",
       "      <td>True</td>\n",
       "      <td>True</td>\n",
       "    </tr>\n",
       "    <tr>\n",
       "      <th>2</th>\n",
       "      <td>False</td>\n",
       "      <td>False</td>\n",
       "      <td>False</td>\n",
       "      <td>True</td>\n",
       "      <td>True</td>\n",
       "    </tr>\n",
       "    <tr>\n",
       "      <th>3</th>\n",
       "      <td>False</td>\n",
       "      <td>False</td>\n",
       "      <td>False</td>\n",
       "      <td>True</td>\n",
       "      <td>True</td>\n",
       "    </tr>\n",
       "    <tr>\n",
       "      <th>4</th>\n",
       "      <td>False</td>\n",
       "      <td>False</td>\n",
       "      <td>False</td>\n",
       "      <td>True</td>\n",
       "      <td>True</td>\n",
       "    </tr>\n",
       "    <tr>\n",
       "      <th>...</th>\n",
       "      <td>...</td>\n",
       "      <td>...</td>\n",
       "      <td>...</td>\n",
       "      <td>...</td>\n",
       "      <td>...</td>\n",
       "    </tr>\n",
       "    <tr>\n",
       "      <th>190</th>\n",
       "      <td>False</td>\n",
       "      <td>False</td>\n",
       "      <td>False</td>\n",
       "      <td>False</td>\n",
       "      <td>False</td>\n",
       "    </tr>\n",
       "    <tr>\n",
       "      <th>191</th>\n",
       "      <td>False</td>\n",
       "      <td>False</td>\n",
       "      <td>False</td>\n",
       "      <td>False</td>\n",
       "      <td>False</td>\n",
       "    </tr>\n",
       "    <tr>\n",
       "      <th>192</th>\n",
       "      <td>False</td>\n",
       "      <td>False</td>\n",
       "      <td>False</td>\n",
       "      <td>False</td>\n",
       "      <td>False</td>\n",
       "    </tr>\n",
       "    <tr>\n",
       "      <th>193</th>\n",
       "      <td>False</td>\n",
       "      <td>False</td>\n",
       "      <td>False</td>\n",
       "      <td>False</td>\n",
       "      <td>False</td>\n",
       "    </tr>\n",
       "    <tr>\n",
       "      <th>194</th>\n",
       "      <td>False</td>\n",
       "      <td>False</td>\n",
       "      <td>False</td>\n",
       "      <td>False</td>\n",
       "      <td>False</td>\n",
       "    </tr>\n",
       "  </tbody>\n",
       "</table>\n",
       "<p>195 rows × 5 columns</p>\n",
       "</div>"
      ],
      "text/plain": [
       "      DATE  USSTHPI   Time     시점     전국\n",
       "0    False    False  False   True   True\n",
       "1    False    False  False   True   True\n",
       "2    False    False  False   True   True\n",
       "3    False    False  False   True   True\n",
       "4    False    False  False   True   True\n",
       "..     ...      ...    ...    ...    ...\n",
       "190  False    False  False  False  False\n",
       "191  False    False  False  False  False\n",
       "192  False    False  False  False  False\n",
       "193  False    False  False  False  False\n",
       "194  False    False  False  False  False\n",
       "\n",
       "[195 rows x 5 columns]"
      ]
     },
     "execution_count": 32,
     "metadata": {},
     "output_type": "execute_result"
    }
   ],
   "source": [
    "df_merged.isnull()"
   ]
  },
  {
   "cell_type": "markdown",
   "metadata": {},
   "source": [
    "### 1.4.1 결측치 시각화"
   ]
  },
  {
   "cell_type": "code",
   "execution_count": 33,
   "metadata": {
    "ExecuteTime": {
     "end_time": "2024-01-21T10:44:37.561342Z",
     "start_time": "2024-01-21T10:44:34.394317Z"
    }
   },
   "outputs": [
    {
     "data": {
      "text/plain": [
       "<Axes: >"
      ]
     },
     "execution_count": 33,
     "metadata": {},
     "output_type": "execute_result"
    },
    {
     "data": {
      "image/png": "[encoded data removed]",
      "text/plain": [
       "<Figure size 1800x720 with 2 Axes>"
      ]
     },
     "metadata": {
      "needs_background": "light"
     },
     "output_type": "display_data"
    }
   ],
   "source": [
    "# 패키지를 설치해주세요\n",
    "# !pip install missingno \n",
    "import missingno as msno\n",
    "\n",
    "# %matplotlib inline # notebook을 실행한 브라우저에서 바로 그림을 볼 수 있게 해줍니다.\n",
    "plt.rc('font', family = 'NanumGothic')\n",
    "msno.matrix(df_merged)"
   ]
  },
  {
   "cell_type": "code",
   "execution_count": 34,
   "metadata": {
    "ExecuteTime": {
     "end_time": "2024-01-21T10:44:37.567548Z",
     "start_time": "2024-01-21T10:44:37.562348Z"
    }
   },
   "outputs": [],
   "source": [
    "# msno.dendrogram(df_merged)\n",
    "# msno.heatmap(df_merged)\n",
    "# msno.bar(df_merged)"
   ]
  },
  {
   "cell_type": "code",
   "execution_count": 35,
   "metadata": {
    "ExecuteTime": {
     "end_time": "2024-01-21T10:44:37.584779Z",
     "start_time": "2024-01-21T10:44:37.569011Z"
    }
   },
   "outputs": [
    {
     "data": {
      "text/plain": [
       "DATE         0\n",
       "USSTHPI      0\n",
       "Time         0\n",
       "시점         124\n",
       "전국         124\n",
       "dtype: int64"
      ]
     },
     "execution_count": 35,
     "metadata": {},
     "output_type": "execute_result"
    }
   ],
   "source": [
    "df_merged.isnull().sum()"
   ]
  },
  {
   "cell_type": "markdown",
   "metadata": {},
   "source": [
    "### 1.4.2 결측치 제거"
   ]
  },
  {
   "cell_type": "code",
   "execution_count": 36,
   "metadata": {
    "ExecuteTime": {
     "end_time": "2024-01-21T10:44:37.601544Z",
     "start_time": "2024-01-21T10:44:37.585652Z"
    }
   },
   "outputs": [
    {
     "data": {
      "text/html": [
       "<div>\n",
       "<style scoped>\n",
       "    .dataframe tbody tr th:only-of-type {\n",
       "        vertical-align: middle;\n",
       "    }\n",
       "\n",
       "    .dataframe tbody tr th {\n",
       "        vertical-align: top;\n",
       "    }\n",
       "\n",
       "    .dataframe thead th {\n",
       "        text-align: right;\n",
       "    }\n",
       "</style>\n",
       "<table border=\"1\" class=\"dataframe\">\n",
       "  <thead>\n",
       "    <tr style=\"text-align: right;\">\n",
       "      <th></th>\n",
       "      <th>DATE</th>\n",
       "      <th>USSTHPI</th>\n",
       "      <th>Time</th>\n",
       "      <th>시점</th>\n",
       "      <th>전국</th>\n",
       "    </tr>\n",
       "  </thead>\n",
       "  <tbody>\n",
       "    <tr>\n",
       "      <th>124</th>\n",
       "      <td>2006-01-01</td>\n",
       "      <td>368.63</td>\n",
       "      <td>2006-01-01</td>\n",
       "      <td>2006.01</td>\n",
       "      <td>58.2</td>\n",
       "    </tr>\n",
       "    <tr>\n",
       "      <th>125</th>\n",
       "      <td>2006-04-01</td>\n",
       "      <td>372.41</td>\n",
       "      <td>2006-04-01</td>\n",
       "      <td>2006.04</td>\n",
       "      <td>59.7</td>\n",
       "    </tr>\n",
       "    <tr>\n",
       "      <th>126</th>\n",
       "      <td>2006-07-01</td>\n",
       "      <td>375.47</td>\n",
       "      <td>2006-07-01</td>\n",
       "      <td>2006.07</td>\n",
       "      <td>61.0</td>\n",
       "    </tr>\n",
       "    <tr>\n",
       "      <th>127</th>\n",
       "      <td>2006-10-01</td>\n",
       "      <td>379.30</td>\n",
       "      <td>2006-10-01</td>\n",
       "      <td>2006.10</td>\n",
       "      <td>66.0</td>\n",
       "    </tr>\n",
       "    <tr>\n",
       "      <th>128</th>\n",
       "      <td>2007-01-01</td>\n",
       "      <td>380.72</td>\n",
       "      <td>2007-01-01</td>\n",
       "      <td>2007.01</td>\n",
       "      <td>70.9</td>\n",
       "    </tr>\n",
       "    <tr>\n",
       "      <th>...</th>\n",
       "      <td>...</td>\n",
       "      <td>...</td>\n",
       "      <td>...</td>\n",
       "      <td>...</td>\n",
       "      <td>...</td>\n",
       "    </tr>\n",
       "    <tr>\n",
       "      <th>190</th>\n",
       "      <td>2022-07-01</td>\n",
       "      <td>627.42</td>\n",
       "      <td>2022-07-01</td>\n",
       "      <td>2022.07</td>\n",
       "      <td>133.8</td>\n",
       "    </tr>\n",
       "    <tr>\n",
       "      <th>191</th>\n",
       "      <td>2022-10-01</td>\n",
       "      <td>622.78</td>\n",
       "      <td>2022-10-01</td>\n",
       "      <td>2022.10</td>\n",
       "      <td>125.1</td>\n",
       "    </tr>\n",
       "    <tr>\n",
       "      <th>192</th>\n",
       "      <td>2023-01-01</td>\n",
       "      <td>625.78</td>\n",
       "      <td>2023-01-01</td>\n",
       "      <td>2023.01</td>\n",
       "      <td>116.9</td>\n",
       "    </tr>\n",
       "    <tr>\n",
       "      <th>193</th>\n",
       "      <td>2023-04-01</td>\n",
       "      <td>645.38</td>\n",
       "      <td>2023-04-01</td>\n",
       "      <td>2023.04</td>\n",
       "      <td>119.5</td>\n",
       "    </tr>\n",
       "    <tr>\n",
       "      <th>194</th>\n",
       "      <td>2023-07-01</td>\n",
       "      <td>657.32</td>\n",
       "      <td>2023-07-01</td>\n",
       "      <td>2023.07</td>\n",
       "      <td>121.6</td>\n",
       "    </tr>\n",
       "  </tbody>\n",
       "</table>\n",
       "<p>71 rows × 5 columns</p>\n",
       "</div>"
      ],
      "text/plain": [
       "          DATE  USSTHPI       Time       시점     전국\n",
       "124 2006-01-01   368.63 2006-01-01  2006.01   58.2\n",
       "125 2006-04-01   372.41 2006-04-01  2006.04   59.7\n",
       "126 2006-07-01   375.47 2006-07-01  2006.07   61.0\n",
       "127 2006-10-01   379.30 2006-10-01  2006.10   66.0\n",
       "128 2007-01-01   380.72 2007-01-01  2007.01   70.9\n",
       "..         ...      ...        ...      ...    ...\n",
       "190 2022-07-01   627.42 2022-07-01  2022.07  133.8\n",
       "191 2022-10-01   622.78 2022-10-01  2022.10  125.1\n",
       "192 2023-01-01   625.78 2023-01-01  2023.01  116.9\n",
       "193 2023-04-01   645.38 2023-04-01  2023.04  119.5\n",
       "194 2023-07-01   657.32 2023-07-01  2023.07  121.6\n",
       "\n",
       "[71 rows x 5 columns]"
      ]
     },
     "execution_count": 36,
     "metadata": {},
     "output_type": "execute_result"
    }
   ],
   "source": [
    "# axis = 0 은 기본값으로 행 방향(가로). axis=1 은 열 방향(세로) 입니다.\n",
    "df_merged.dropna(axis=0) "
   ]
  },
  {
   "cell_type": "markdown",
   "metadata": {},
   "source": [
    "## 1.5 데이터 전처리"
   ]
  },
  {
   "cell_type": "code",
   "execution_count": 37,
   "metadata": {
    "ExecuteTime": {
     "end_time": "2024-01-21T10:44:37.618332Z",
     "start_time": "2024-01-21T10:44:37.602712Z"
    }
   },
   "outputs": [
    {
     "name": "stdout",
     "output_type": "stream",
     "text": [
      "<class 'pandas.core.frame.DataFrame'>\n",
      "RangeIndex: 195 entries, 0 to 194\n",
      "Data columns (total 5 columns):\n",
      " #   Column   Non-Null Count  Dtype         \n",
      "---  ------   --------------  -----         \n",
      " 0   DATE     195 non-null    datetime64[ns]\n",
      " 1   USSTHPI  195 non-null    float64       \n",
      " 2   Time     195 non-null    datetime64[ns]\n",
      " 3   시점       71 non-null     object        \n",
      " 4   전국       71 non-null     object        \n",
      "dtypes: datetime64[ns](2), float64(1), object(2)\n",
      "memory usage: 7.7+ KB\n"
     ]
    }
   ],
   "source": [
    "# 중요한 데이터 타입을 확인해봅니다. 시점과 인덱스 값이 여전히 문자열(object)입니다.\n",
    "df_merged.info()"
   ]
  },
  {
   "cell_type": "markdown",
   "metadata": {},
   "source": [
    "### 1.5.1 데이터 타입 변경"
   ]
  },
  {
   "cell_type": "code",
   "execution_count": 38,
   "metadata": {
    "ExecuteTime": {
     "end_time": "2024-01-21T10:44:37.634258Z",
     "start_time": "2024-01-21T10:44:37.619220Z"
    }
   },
   "outputs": [],
   "source": [
    "# 전국의 주택가격지수의 데이터 타입을 문자에서 숫자로 바꿔줍니다.\n",
    "df_merged['전국'] = df_merged['전국'].astype(np.float64)"
   ]
  },
  {
   "cell_type": "code",
   "execution_count": 39,
   "metadata": {
    "ExecuteTime": {
     "end_time": "2024-01-21T10:44:37.651637Z",
     "start_time": "2024-01-21T10:44:37.635910Z"
    }
   },
   "outputs": [
    {
     "data": {
      "text/plain": [
       "0     1975-01-01\n",
       "1     1975-04-01\n",
       "2     1975-07-01\n",
       "3     1975-10-01\n",
       "4     1976-01-01\n",
       "         ...    \n",
       "190   2022-07-01\n",
       "191   2022-10-01\n",
       "192   2023-01-01\n",
       "193   2023-04-01\n",
       "194   2023-07-01\n",
       "Name: Time, Length: 195, dtype: datetime64[ns]"
      ]
     },
     "execution_count": 39,
     "metadata": {},
     "output_type": "execute_result"
    }
   ],
   "source": [
    "df_merged['Time']"
   ]
  },
  {
   "cell_type": "code",
   "execution_count": 40,
   "metadata": {
    "ExecuteTime": {
     "end_time": "2024-01-21T10:44:37.667882Z",
     "start_time": "2024-01-21T10:44:37.652845Z"
    }
   },
   "outputs": [
    {
     "data": {
      "text/html": [
       "<div>\n",
       "<style scoped>\n",
       "    .dataframe tbody tr th:only-of-type {\n",
       "        vertical-align: middle;\n",
       "    }\n",
       "\n",
       "    .dataframe tbody tr th {\n",
       "        vertical-align: top;\n",
       "    }\n",
       "\n",
       "    .dataframe thead th {\n",
       "        text-align: right;\n",
       "    }\n",
       "</style>\n",
       "<table border=\"1\" class=\"dataframe\">\n",
       "  <thead>\n",
       "    <tr style=\"text-align: right;\">\n",
       "      <th></th>\n",
       "      <th>DATE</th>\n",
       "      <th>USSTHPI</th>\n",
       "      <th>Time</th>\n",
       "      <th>시점</th>\n",
       "      <th>전국</th>\n",
       "    </tr>\n",
       "  </thead>\n",
       "  <tbody>\n",
       "    <tr>\n",
       "      <th>0</th>\n",
       "      <td>1975-01-01</td>\n",
       "      <td>60.06</td>\n",
       "      <td>1975-01-01</td>\n",
       "      <td>NaN</td>\n",
       "      <td>NaN</td>\n",
       "    </tr>\n",
       "    <tr>\n",
       "      <th>1</th>\n",
       "      <td>1975-04-01</td>\n",
       "      <td>61.01</td>\n",
       "      <td>1975-04-01</td>\n",
       "      <td>NaN</td>\n",
       "      <td>NaN</td>\n",
       "    </tr>\n",
       "    <tr>\n",
       "      <th>2</th>\n",
       "      <td>1975-07-01</td>\n",
       "      <td>61.18</td>\n",
       "      <td>1975-07-01</td>\n",
       "      <td>NaN</td>\n",
       "      <td>NaN</td>\n",
       "    </tr>\n",
       "    <tr>\n",
       "      <th>3</th>\n",
       "      <td>1975-10-01</td>\n",
       "      <td>62.24</td>\n",
       "      <td>1975-10-01</td>\n",
       "      <td>NaN</td>\n",
       "      <td>NaN</td>\n",
       "    </tr>\n",
       "    <tr>\n",
       "      <th>4</th>\n",
       "      <td>1976-01-01</td>\n",
       "      <td>62.87</td>\n",
       "      <td>1976-01-01</td>\n",
       "      <td>NaN</td>\n",
       "      <td>NaN</td>\n",
       "    </tr>\n",
       "    <tr>\n",
       "      <th>...</th>\n",
       "      <td>...</td>\n",
       "      <td>...</td>\n",
       "      <td>...</td>\n",
       "      <td>...</td>\n",
       "      <td>...</td>\n",
       "    </tr>\n",
       "    <tr>\n",
       "      <th>190</th>\n",
       "      <td>2022-07-01</td>\n",
       "      <td>627.42</td>\n",
       "      <td>2022-07-01</td>\n",
       "      <td>2022.07</td>\n",
       "      <td>133.8</td>\n",
       "    </tr>\n",
       "    <tr>\n",
       "      <th>191</th>\n",
       "      <td>2022-10-01</td>\n",
       "      <td>622.78</td>\n",
       "      <td>2022-10-01</td>\n",
       "      <td>2022.10</td>\n",
       "      <td>125.1</td>\n",
       "    </tr>\n",
       "    <tr>\n",
       "      <th>192</th>\n",
       "      <td>2023-01-01</td>\n",
       "      <td>625.78</td>\n",
       "      <td>2023-01-01</td>\n",
       "      <td>2023.01</td>\n",
       "      <td>116.9</td>\n",
       "    </tr>\n",
       "    <tr>\n",
       "      <th>193</th>\n",
       "      <td>2023-04-01</td>\n",
       "      <td>645.38</td>\n",
       "      <td>2023-04-01</td>\n",
       "      <td>2023.04</td>\n",
       "      <td>119.5</td>\n",
       "    </tr>\n",
       "    <tr>\n",
       "      <th>194</th>\n",
       "      <td>2023-07-01</td>\n",
       "      <td>657.32</td>\n",
       "      <td>2023-07-01</td>\n",
       "      <td>2023.07</td>\n",
       "      <td>121.6</td>\n",
       "    </tr>\n",
       "  </tbody>\n",
       "</table>\n",
       "<p>195 rows × 5 columns</p>\n",
       "</div>"
      ],
      "text/plain": [
       "          DATE  USSTHPI       Time       시점     전국\n",
       "0   1975-01-01    60.06 1975-01-01      NaN    NaN\n",
       "1   1975-04-01    61.01 1975-04-01      NaN    NaN\n",
       "2   1975-07-01    61.18 1975-07-01      NaN    NaN\n",
       "3   1975-10-01    62.24 1975-10-01      NaN    NaN\n",
       "4   1976-01-01    62.87 1976-01-01      NaN    NaN\n",
       "..         ...      ...        ...      ...    ...\n",
       "190 2022-07-01   627.42 2022-07-01  2022.07  133.8\n",
       "191 2022-10-01   622.78 2022-10-01  2022.10  125.1\n",
       "192 2023-01-01   625.78 2023-01-01  2023.01  116.9\n",
       "193 2023-04-01   645.38 2023-04-01  2023.04  119.5\n",
       "194 2023-07-01   657.32 2023-07-01  2023.07  121.6\n",
       "\n",
       "[195 rows x 5 columns]"
      ]
     },
     "execution_count": 40,
     "metadata": {},
     "output_type": "execute_result"
    }
   ],
   "source": [
    "df_merged"
   ]
  },
  {
   "cell_type": "code",
   "execution_count": 41,
   "metadata": {
    "ExecuteTime": {
     "end_time": "2024-01-21T10:44:37.681342Z",
     "start_time": "2024-01-21T10:44:37.669221Z"
    }
   },
   "outputs": [],
   "source": [
    "# 위에서 dropna를 했음에도 불구하고 NaN 값이 그대로 있습니다. 아래 inplace 개념을 알아두어야 합니다."
   ]
  },
  {
   "cell_type": "markdown",
   "metadata": {},
   "source": [
    "### [참고 Tutorial] dropna() 함수 : inplace 파라미터 와 reset_index 함수<br>\n",
    "[pandas 공식 튜토리얼](https://pandas.pydata.org/pandas-docs/stable/reference/api/pandas.DataFrame.dropna.html?highlight=dropna#pandas.DataFrame.dropna)  \n",
    "[R friend 블로그](https://rfriend.tistory.com/263)  \n",
    "[wikidocs](https://wikidocs.net/136562)  "
   ]
  },
  {
   "cell_type": "code",
   "execution_count": 42,
   "metadata": {
    "ExecuteTime": {
     "end_time": "2024-01-21T10:44:37.701608Z",
     "start_time": "2024-01-21T10:44:37.681342Z"
    }
   },
   "outputs": [],
   "source": [
    "# dropna() 함수에서 inplace = True 인자값은 기존의 값을 새로운 값으로 대체하라는 옵션\n",
    "df_merged.dropna(inplace=True)\n",
    "# df_merged = df_merged.dropna()\n",
    "\n",
    "# reset_index() 함수에서 drop = True 인자값은 기존 인덱스 칼럼을 삭제하라는 옵션\n",
    "df_merged.reset_index(drop=True, inplace=True)"
   ]
  },
  {
   "cell_type": "markdown",
   "metadata": {},
   "source": [
    "### 1.5.2 특정 칼럼 선택"
   ]
  },
  {
   "cell_type": "code",
   "execution_count": 43,
   "metadata": {
    "ExecuteTime": {
     "end_time": "2024-01-21T10:44:37.718098Z",
     "start_time": "2024-01-21T10:44:37.703081Z"
    }
   },
   "outputs": [
    {
     "data": {
      "text/html": [
       "<div>\n",
       "<style scoped>\n",
       "    .dataframe tbody tr th:only-of-type {\n",
       "        vertical-align: middle;\n",
       "    }\n",
       "\n",
       "    .dataframe tbody tr th {\n",
       "        vertical-align: top;\n",
       "    }\n",
       "\n",
       "    .dataframe thead th {\n",
       "        text-align: right;\n",
       "    }\n",
       "</style>\n",
       "<table border=\"1\" class=\"dataframe\">\n",
       "  <thead>\n",
       "    <tr style=\"text-align: right;\">\n",
       "      <th></th>\n",
       "      <th>Time</th>\n",
       "      <th>USSTHPI</th>\n",
       "      <th>전국</th>\n",
       "    </tr>\n",
       "  </thead>\n",
       "  <tbody>\n",
       "    <tr>\n",
       "      <th>0</th>\n",
       "      <td>2006-01-01</td>\n",
       "      <td>368.63</td>\n",
       "      <td>58.2</td>\n",
       "    </tr>\n",
       "    <tr>\n",
       "      <th>1</th>\n",
       "      <td>2006-04-01</td>\n",
       "      <td>372.41</td>\n",
       "      <td>59.7</td>\n",
       "    </tr>\n",
       "    <tr>\n",
       "      <th>2</th>\n",
       "      <td>2006-07-01</td>\n",
       "      <td>375.47</td>\n",
       "      <td>61.0</td>\n",
       "    </tr>\n",
       "    <tr>\n",
       "      <th>3</th>\n",
       "      <td>2006-10-01</td>\n",
       "      <td>379.30</td>\n",
       "      <td>66.0</td>\n",
       "    </tr>\n",
       "    <tr>\n",
       "      <th>4</th>\n",
       "      <td>2007-01-01</td>\n",
       "      <td>380.72</td>\n",
       "      <td>70.9</td>\n",
       "    </tr>\n",
       "    <tr>\n",
       "      <th>...</th>\n",
       "      <td>...</td>\n",
       "      <td>...</td>\n",
       "      <td>...</td>\n",
       "    </tr>\n",
       "    <tr>\n",
       "      <th>66</th>\n",
       "      <td>2022-07-01</td>\n",
       "      <td>627.42</td>\n",
       "      <td>133.8</td>\n",
       "    </tr>\n",
       "    <tr>\n",
       "      <th>67</th>\n",
       "      <td>2022-10-01</td>\n",
       "      <td>622.78</td>\n",
       "      <td>125.1</td>\n",
       "    </tr>\n",
       "    <tr>\n",
       "      <th>68</th>\n",
       "      <td>2023-01-01</td>\n",
       "      <td>625.78</td>\n",
       "      <td>116.9</td>\n",
       "    </tr>\n",
       "    <tr>\n",
       "      <th>69</th>\n",
       "      <td>2023-04-01</td>\n",
       "      <td>645.38</td>\n",
       "      <td>119.5</td>\n",
       "    </tr>\n",
       "    <tr>\n",
       "      <th>70</th>\n",
       "      <td>2023-07-01</td>\n",
       "      <td>657.32</td>\n",
       "      <td>121.6</td>\n",
       "    </tr>\n",
       "  </tbody>\n",
       "</table>\n",
       "<p>71 rows × 3 columns</p>\n",
       "</div>"
      ],
      "text/plain": [
       "         Time  USSTHPI     전국\n",
       "0  2006-01-01   368.63   58.2\n",
       "1  2006-04-01   372.41   59.7\n",
       "2  2006-07-01   375.47   61.0\n",
       "3  2006-10-01   379.30   66.0\n",
       "4  2007-01-01   380.72   70.9\n",
       "..        ...      ...    ...\n",
       "66 2022-07-01   627.42  133.8\n",
       "67 2022-10-01   622.78  125.1\n",
       "68 2023-01-01   625.78  116.9\n",
       "69 2023-04-01   645.38  119.5\n",
       "70 2023-07-01   657.32  121.6\n",
       "\n",
       "[71 rows x 3 columns]"
      ]
     },
     "execution_count": 43,
     "metadata": {},
     "output_type": "execute_result"
    }
   ],
   "source": [
    "df = df_merged[[\"Time\", \"USSTHPI\", \"전국\"]]\n",
    "df"
   ]
  },
  {
   "cell_type": "markdown",
   "metadata": {},
   "source": [
    "### 1.5.3 칼럼 이름 설정"
   ]
  },
  {
   "cell_type": "code",
   "execution_count": 44,
   "metadata": {
    "ExecuteTime": {
     "end_time": "2024-01-21T10:44:37.734940Z",
     "start_time": "2024-01-21T10:44:37.719282Z"
    }
   },
   "outputs": [
    {
     "data": {
      "text/html": [
       "<div>\n",
       "<style scoped>\n",
       "    .dataframe tbody tr th:only-of-type {\n",
       "        vertical-align: middle;\n",
       "    }\n",
       "\n",
       "    .dataframe tbody tr th {\n",
       "        vertical-align: top;\n",
       "    }\n",
       "\n",
       "    .dataframe thead th {\n",
       "        text-align: right;\n",
       "    }\n",
       "</style>\n",
       "<table border=\"1\" class=\"dataframe\">\n",
       "  <thead>\n",
       "    <tr style=\"text-align: right;\">\n",
       "      <th></th>\n",
       "      <th>Time</th>\n",
       "      <th>US</th>\n",
       "      <th>KR</th>\n",
       "    </tr>\n",
       "  </thead>\n",
       "  <tbody>\n",
       "    <tr>\n",
       "      <th>0</th>\n",
       "      <td>2006-01-01</td>\n",
       "      <td>368.63</td>\n",
       "      <td>58.2</td>\n",
       "    </tr>\n",
       "    <tr>\n",
       "      <th>1</th>\n",
       "      <td>2006-04-01</td>\n",
       "      <td>372.41</td>\n",
       "      <td>59.7</td>\n",
       "    </tr>\n",
       "    <tr>\n",
       "      <th>2</th>\n",
       "      <td>2006-07-01</td>\n",
       "      <td>375.47</td>\n",
       "      <td>61.0</td>\n",
       "    </tr>\n",
       "    <tr>\n",
       "      <th>3</th>\n",
       "      <td>2006-10-01</td>\n",
       "      <td>379.30</td>\n",
       "      <td>66.0</td>\n",
       "    </tr>\n",
       "    <tr>\n",
       "      <th>4</th>\n",
       "      <td>2007-01-01</td>\n",
       "      <td>380.72</td>\n",
       "      <td>70.9</td>\n",
       "    </tr>\n",
       "    <tr>\n",
       "      <th>...</th>\n",
       "      <td>...</td>\n",
       "      <td>...</td>\n",
       "      <td>...</td>\n",
       "    </tr>\n",
       "    <tr>\n",
       "      <th>66</th>\n",
       "      <td>2022-07-01</td>\n",
       "      <td>627.42</td>\n",
       "      <td>133.8</td>\n",
       "    </tr>\n",
       "    <tr>\n",
       "      <th>67</th>\n",
       "      <td>2022-10-01</td>\n",
       "      <td>622.78</td>\n",
       "      <td>125.1</td>\n",
       "    </tr>\n",
       "    <tr>\n",
       "      <th>68</th>\n",
       "      <td>2023-01-01</td>\n",
       "      <td>625.78</td>\n",
       "      <td>116.9</td>\n",
       "    </tr>\n",
       "    <tr>\n",
       "      <th>69</th>\n",
       "      <td>2023-04-01</td>\n",
       "      <td>645.38</td>\n",
       "      <td>119.5</td>\n",
       "    </tr>\n",
       "    <tr>\n",
       "      <th>70</th>\n",
       "      <td>2023-07-01</td>\n",
       "      <td>657.32</td>\n",
       "      <td>121.6</td>\n",
       "    </tr>\n",
       "  </tbody>\n",
       "</table>\n",
       "<p>71 rows × 3 columns</p>\n",
       "</div>"
      ],
      "text/plain": [
       "         Time      US     KR\n",
       "0  2006-01-01  368.63   58.2\n",
       "1  2006-04-01  372.41   59.7\n",
       "2  2006-07-01  375.47   61.0\n",
       "3  2006-10-01  379.30   66.0\n",
       "4  2007-01-01  380.72   70.9\n",
       "..        ...     ...    ...\n",
       "66 2022-07-01  627.42  133.8\n",
       "67 2022-10-01  622.78  125.1\n",
       "68 2023-01-01  625.78  116.9\n",
       "69 2023-04-01  645.38  119.5\n",
       "70 2023-07-01  657.32  121.6\n",
       "\n",
       "[71 rows x 3 columns]"
      ]
     },
     "execution_count": 44,
     "metadata": {},
     "output_type": "execute_result"
    }
   ],
   "source": [
    "df.columns = [\"Time\", \"US\", \"KR\"]\n",
    "df"
   ]
  },
  {
   "cell_type": "code",
   "execution_count": 45,
   "metadata": {
    "ExecuteTime": {
     "end_time": "2024-01-21T10:44:38.008139Z",
     "start_time": "2024-01-21T10:44:37.735866Z"
    }
   },
   "outputs": [
    {
     "data": {
      "image/png": "[encoded data removed]",
      "text/plain": [
       "<Figure size 1000x600 with 2 Axes>"
      ]
     },
     "metadata": {},
     "output_type": "display_data"
    }
   ],
   "source": [
    "import matplotlib.pyplot as plt\n",
    "\n",
    "# 1. 기본 스타일 설정\n",
    "plt.style.use('default')\n",
    "plt.rcParams['figure.figsize'] = (10, 6)\n",
    "plt.rcParams['font.size'] = 12\n",
    "\n",
    "# 2. 데이터 준비\n",
    "x = df.Time.to_numpy() #df.시점 # df['시점']\n",
    "y1 = df.US.to_numpy()\n",
    "y2 = df.KR.to_numpy()\n",
    "\n",
    "# 3. 그래프 그리기\n",
    "fig, ax1 = plt.subplots()\n",
    "\n",
    "# y1 : 미국 인덱스에 대한 값\n",
    "ax1.plot(x, y1, '-s', color='orange', markersize=3, linewidth=3, alpha=0.7, label='US Price')\n",
    "\n",
    "# ax1.set_ylim(300, 600)\n",
    "ax1.set_xlabel('Year')\n",
    "ax1.set_ylabel('US')\n",
    "ax1.tick_params(axis='both', direction='in')\n",
    "\n",
    "# y2 : 한국 인덱스에 대한 값\n",
    "ax2 = ax1.twinx()\n",
    "ax2.plot(x, y2, '-s', color='blue', markersize=3, linewidth=3, alpha=0.7, label='KR Price')\n",
    "\n",
    "# ax2.bar(x, y2, color='deeppink', label='KR Price', alpha=0.7, width=30)\n",
    "# ax2.set_ylim(40, 140)\n",
    "\n",
    "ax2.set_ylabel('KR')\n",
    "ax2.tick_params(axis='y', direction='in')\n",
    "\n",
    "# set_zorder() 메서드는 z-축 방향의 순서를 지정합니다.\n",
    "# 아래 그림과 같이 zorder가 낮을수록 먼저 그려지고(ax2 = 한국), zorder가 높을수록 나중에 그려집니다.(ax1 = 미국)\n",
    "\n",
    "ax1.set_zorder(ax2.get_zorder() + 10)\n",
    "ax1.patch.set_visible(False)\n",
    "\n",
    "ax1.legend(loc='upper left')\n",
    "ax2.legend(loc='lower right')\n",
    "\n",
    "plt.show()"
   ]
  },
  {
   "cell_type": "markdown",
   "metadata": {},
   "source": [
    "# [기준점 표준화] 데이터 분석 Check Point"
   ]
  },
  {
   "cell_type": "markdown",
   "metadata": {},
   "source": [
    "-------------------------"
   ]
  },
  {
   "cell_type": "markdown",
   "metadata": {},
   "source": [
    "## 기준시점에 대한 통일\n",
    " - 미국의 주택가격지수 기준시점 : 1980.1분기 = 100\n",
    " - 한국의 주택가격지수 기준시점 : 2017.11.1 = 100"
   ]
  },
  {
   "cell_type": "code",
   "execution_count": 46,
   "metadata": {
    "ExecuteTime": {
     "end_time": "2024-01-21T10:44:38.018836Z",
     "start_time": "2024-01-21T10:44:38.009138Z"
    },
    "scrolled": true
   },
   "outputs": [
    {
     "data": {
      "text/html": [
       "<div>\n",
       "<style scoped>\n",
       "    .dataframe tbody tr th:only-of-type {\n",
       "        vertical-align: middle;\n",
       "    }\n",
       "\n",
       "    .dataframe tbody tr th {\n",
       "        vertical-align: top;\n",
       "    }\n",
       "\n",
       "    .dataframe thead th {\n",
       "        text-align: right;\n",
       "    }\n",
       "</style>\n",
       "<table border=\"1\" class=\"dataframe\">\n",
       "  <thead>\n",
       "    <tr style=\"text-align: right;\">\n",
       "      <th></th>\n",
       "      <th>DATE</th>\n",
       "      <th>USSTHPI</th>\n",
       "      <th>Time</th>\n",
       "      <th>시점</th>\n",
       "      <th>전국</th>\n",
       "    </tr>\n",
       "  </thead>\n",
       "  <tbody>\n",
       "    <tr>\n",
       "      <th>46</th>\n",
       "      <td>2017-07-01</td>\n",
       "      <td>400.24</td>\n",
       "      <td>2017-07-01</td>\n",
       "      <td>2017.07</td>\n",
       "      <td>100.1</td>\n",
       "    </tr>\n",
       "    <tr>\n",
       "      <th>47</th>\n",
       "      <td>2017-10-01</td>\n",
       "      <td>403.58</td>\n",
       "      <td>2017-10-01</td>\n",
       "      <td>2017.10</td>\n",
       "      <td>100.3</td>\n",
       "    </tr>\n",
       "    <tr>\n",
       "      <th>48</th>\n",
       "      <td>2018-01-01</td>\n",
       "      <td>409.26</td>\n",
       "      <td>2018-01-01</td>\n",
       "      <td>2018.01</td>\n",
       "      <td>99.8</td>\n",
       "    </tr>\n",
       "    <tr>\n",
       "      <th>49</th>\n",
       "      <td>2018-04-01</td>\n",
       "      <td>416.79</td>\n",
       "      <td>2018-04-01</td>\n",
       "      <td>2018.04</td>\n",
       "      <td>100.3</td>\n",
       "    </tr>\n",
       "    <tr>\n",
       "      <th>50</th>\n",
       "      <td>2018-07-01</td>\n",
       "      <td>421.88</td>\n",
       "      <td>2018-07-01</td>\n",
       "      <td>2018.07</td>\n",
       "      <td>100.0</td>\n",
       "    </tr>\n",
       "    <tr>\n",
       "      <th>52</th>\n",
       "      <td>2019-01-01</td>\n",
       "      <td>428.05</td>\n",
       "      <td>2019-01-01</td>\n",
       "      <td>2019.01</td>\n",
       "      <td>100.5</td>\n",
       "    </tr>\n",
       "    <tr>\n",
       "      <th>53</th>\n",
       "      <td>2019-04-01</td>\n",
       "      <td>435.20</td>\n",
       "      <td>2019-04-01</td>\n",
       "      <td>2019.04</td>\n",
       "      <td>99.6</td>\n",
       "    </tr>\n",
       "    <tr>\n",
       "      <th>54</th>\n",
       "      <td>2019-07-01</td>\n",
       "      <td>440.74</td>\n",
       "      <td>2019-07-01</td>\n",
       "      <td>2019.07</td>\n",
       "      <td>100.1</td>\n",
       "    </tr>\n",
       "  </tbody>\n",
       "</table>\n",
       "</div>"
      ],
      "text/plain": [
       "         DATE  USSTHPI       Time       시점     전국\n",
       "46 2017-07-01   400.24 2017-07-01  2017.07  100.1\n",
       "47 2017-10-01   403.58 2017-10-01  2017.10  100.3\n",
       "48 2018-01-01   409.26 2018-01-01  2018.01   99.8\n",
       "49 2018-04-01   416.79 2018-04-01  2018.04  100.3\n",
       "50 2018-07-01   421.88 2018-07-01  2018.07  100.0\n",
       "52 2019-01-01   428.05 2019-01-01  2019.01  100.5\n",
       "53 2019-04-01   435.20 2019-04-01  2019.04   99.6\n",
       "54 2019-07-01   440.74 2019-07-01  2019.07  100.1"
      ]
     },
     "execution_count": 46,
     "metadata": {},
     "output_type": "execute_result"
    }
   ],
   "source": [
    "df_merged[(df_merged['전국']>99) & (df_merged['전국']<101)]"
   ]
  },
  {
   "cell_type": "code",
   "execution_count": 47,
   "metadata": {
    "ExecuteTime": {
     "end_time": "2024-01-21T10:44:38.027309Z",
     "start_time": "2024-01-21T10:44:38.019843Z"
    }
   },
   "outputs": [
    {
     "data": {
      "text/plain": [
       "46    100.1\n",
       "Name: 전국, dtype: float64"
      ]
     },
     "execution_count": 47,
     "metadata": {},
     "output_type": "execute_result"
    }
   ],
   "source": [
    "base_point_KR = df_merged['전국'][df_merged['DATE']=='2017-07-01']\n",
    "base_point_KR"
   ]
  },
  {
   "cell_type": "code",
   "execution_count": 48,
   "metadata": {
    "ExecuteTime": {
     "end_time": "2024-01-21T10:44:38.042133Z",
     "start_time": "2024-01-21T10:44:38.027795Z"
    }
   },
   "outputs": [
    {
     "data": {
      "text/plain": [
       "array([400.24], dtype=float32)"
      ]
     },
     "execution_count": 48,
     "metadata": {},
     "output_type": "execute_result"
    }
   ],
   "source": [
    "base_point_US = np.float32(df_merged['USSTHPI'][df_merged['DATE']=='2017-07-01'])\n",
    "base_point_US"
   ]
  },
  {
   "cell_type": "code",
   "execution_count": 49,
   "metadata": {
    "ExecuteTime": {
     "end_time": "2024-01-21T10:44:38.056293Z",
     "start_time": "2024-01-21T10:44:38.042133Z"
    }
   },
   "outputs": [],
   "source": [
    "# 2017.7 = 100 기준인 US값을 400.67 로 나눠주고 100을 곱해 환산해줍니다.\n",
    "\n",
    "df_merged['USSTHP(2017.7=100)'] = df_merged['USSTHPI'] / base_point_US * 100"
   ]
  },
  {
   "cell_type": "code",
   "execution_count": 50,
   "metadata": {
    "ExecuteTime": {
     "end_time": "2024-01-21T10:44:38.071757Z",
     "start_time": "2024-01-21T10:44:38.057606Z"
    }
   },
   "outputs": [
    {
     "name": "stdout",
     "output_type": "stream",
     "text": [
      "<class 'pandas.core.frame.DataFrame'>\n",
      "RangeIndex: 71 entries, 0 to 70\n",
      "Data columns (total 6 columns):\n",
      " #   Column              Non-Null Count  Dtype         \n",
      "---  ------              --------------  -----         \n",
      " 0   DATE                71 non-null     datetime64[ns]\n",
      " 1   USSTHPI             71 non-null     float64       \n",
      " 2   Time                71 non-null     datetime64[ns]\n",
      " 3   시점                  71 non-null     object        \n",
      " 4   전국                  71 non-null     float64       \n",
      " 5   USSTHP(2017.7=100)  71 non-null     float64       \n",
      "dtypes: datetime64[ns](2), float64(3), object(1)\n",
      "memory usage: 3.5+ KB\n"
     ]
    }
   ],
   "source": [
    "df_merged.info()"
   ]
  },
  {
   "cell_type": "code",
   "execution_count": 51,
   "metadata": {
    "ExecuteTime": {
     "end_time": "2024-01-21T10:44:38.091486Z",
     "start_time": "2024-01-21T10:44:38.072907Z"
    }
   },
   "outputs": [
    {
     "data": {
      "text/html": [
       "<div>\n",
       "<style scoped>\n",
       "    .dataframe tbody tr th:only-of-type {\n",
       "        vertical-align: middle;\n",
       "    }\n",
       "\n",
       "    .dataframe tbody tr th {\n",
       "        vertical-align: top;\n",
       "    }\n",
       "\n",
       "    .dataframe thead th {\n",
       "        text-align: right;\n",
       "    }\n",
       "</style>\n",
       "<table border=\"1\" class=\"dataframe\">\n",
       "  <thead>\n",
       "    <tr style=\"text-align: right;\">\n",
       "      <th></th>\n",
       "      <th>DATE</th>\n",
       "      <th>USSTHPI</th>\n",
       "      <th>Time</th>\n",
       "      <th>시점</th>\n",
       "      <th>전국</th>\n",
       "      <th>USSTHP(2017.7=100)</th>\n",
       "    </tr>\n",
       "  </thead>\n",
       "  <tbody>\n",
       "    <tr>\n",
       "      <th>0</th>\n",
       "      <td>2006-01-01</td>\n",
       "      <td>368.63</td>\n",
       "      <td>2006-01-01</td>\n",
       "      <td>2006.01</td>\n",
       "      <td>58.2</td>\n",
       "      <td>92.102241</td>\n",
       "    </tr>\n",
       "    <tr>\n",
       "      <th>1</th>\n",
       "      <td>2006-04-01</td>\n",
       "      <td>372.41</td>\n",
       "      <td>2006-04-01</td>\n",
       "      <td>2006.04</td>\n",
       "      <td>59.7</td>\n",
       "      <td>93.046674</td>\n",
       "    </tr>\n",
       "    <tr>\n",
       "      <th>2</th>\n",
       "      <td>2006-07-01</td>\n",
       "      <td>375.47</td>\n",
       "      <td>2006-07-01</td>\n",
       "      <td>2006.07</td>\n",
       "      <td>61.0</td>\n",
       "      <td>93.811216</td>\n",
       "    </tr>\n",
       "    <tr>\n",
       "      <th>3</th>\n",
       "      <td>2006-10-01</td>\n",
       "      <td>379.30</td>\n",
       "      <td>2006-10-01</td>\n",
       "      <td>2006.10</td>\n",
       "      <td>66.0</td>\n",
       "      <td>94.768141</td>\n",
       "    </tr>\n",
       "    <tr>\n",
       "      <th>4</th>\n",
       "      <td>2007-01-01</td>\n",
       "      <td>380.72</td>\n",
       "      <td>2007-01-01</td>\n",
       "      <td>2007.01</td>\n",
       "      <td>70.9</td>\n",
       "      <td>95.122929</td>\n",
       "    </tr>\n",
       "    <tr>\n",
       "      <th>...</th>\n",
       "      <td>...</td>\n",
       "      <td>...</td>\n",
       "      <td>...</td>\n",
       "      <td>...</td>\n",
       "      <td>...</td>\n",
       "      <td>...</td>\n",
       "    </tr>\n",
       "    <tr>\n",
       "      <th>66</th>\n",
       "      <td>2022-07-01</td>\n",
       "      <td>627.42</td>\n",
       "      <td>2022-07-01</td>\n",
       "      <td>2022.07</td>\n",
       "      <td>133.8</td>\n",
       "      <td>156.760947</td>\n",
       "    </tr>\n",
       "    <tr>\n",
       "      <th>67</th>\n",
       "      <td>2022-10-01</td>\n",
       "      <td>622.78</td>\n",
       "      <td>2022-10-01</td>\n",
       "      <td>2022.10</td>\n",
       "      <td>125.1</td>\n",
       "      <td>155.601643</td>\n",
       "    </tr>\n",
       "    <tr>\n",
       "      <th>68</th>\n",
       "      <td>2023-01-01</td>\n",
       "      <td>625.78</td>\n",
       "      <td>2023-01-01</td>\n",
       "      <td>2023.01</td>\n",
       "      <td>116.9</td>\n",
       "      <td>156.351193</td>\n",
       "    </tr>\n",
       "    <tr>\n",
       "      <th>69</th>\n",
       "      <td>2023-04-01</td>\n",
       "      <td>645.38</td>\n",
       "      <td>2023-04-01</td>\n",
       "      <td>2023.04</td>\n",
       "      <td>119.5</td>\n",
       "      <td>161.248255</td>\n",
       "    </tr>\n",
       "    <tr>\n",
       "      <th>70</th>\n",
       "      <td>2023-07-01</td>\n",
       "      <td>657.32</td>\n",
       "      <td>2023-07-01</td>\n",
       "      <td>2023.07</td>\n",
       "      <td>121.6</td>\n",
       "      <td>164.231465</td>\n",
       "    </tr>\n",
       "  </tbody>\n",
       "</table>\n",
       "<p>71 rows × 6 columns</p>\n",
       "</div>"
      ],
      "text/plain": [
       "         DATE  USSTHPI       Time       시점     전국  USSTHP(2017.7=100)\n",
       "0  2006-01-01   368.63 2006-01-01  2006.01   58.2           92.102241\n",
       "1  2006-04-01   372.41 2006-04-01  2006.04   59.7           93.046674\n",
       "2  2006-07-01   375.47 2006-07-01  2006.07   61.0           93.811216\n",
       "3  2006-10-01   379.30 2006-10-01  2006.10   66.0           94.768141\n",
       "4  2007-01-01   380.72 2007-01-01  2007.01   70.9           95.122929\n",
       "..        ...      ...        ...      ...    ...                 ...\n",
       "66 2022-07-01   627.42 2022-07-01  2022.07  133.8          156.760947\n",
       "67 2022-10-01   622.78 2022-10-01  2022.10  125.1          155.601643\n",
       "68 2023-01-01   625.78 2023-01-01  2023.01  116.9          156.351193\n",
       "69 2023-04-01   645.38 2023-04-01  2023.04  119.5          161.248255\n",
       "70 2023-07-01   657.32 2023-07-01  2023.07  121.6          164.231465\n",
       "\n",
       "[71 rows x 6 columns]"
      ]
     },
     "execution_count": 51,
     "metadata": {},
     "output_type": "execute_result"
    }
   ],
   "source": [
    "df_merged"
   ]
  },
  {
   "cell_type": "code",
   "execution_count": 52,
   "metadata": {
    "ExecuteTime": {
     "end_time": "2024-01-21T10:44:38.108040Z",
     "start_time": "2024-01-21T10:44:38.092491Z"
    }
   },
   "outputs": [
    {
     "data": {
      "text/plain": [
       "0      92.102241\n",
       "1      93.046674\n",
       "2      93.811216\n",
       "3      94.768141\n",
       "4      95.122929\n",
       "         ...    \n",
       "66    156.760947\n",
       "67    155.601643\n",
       "68    156.351193\n",
       "69    161.248255\n",
       "70    164.231465\n",
       "Name: USSTHP(2017.7=100), Length: 71, dtype: float64"
      ]
     },
     "execution_count": 52,
     "metadata": {},
     "output_type": "execute_result"
    }
   ],
   "source": [
    "df_merged['USSTHP(2017.7=100)'] "
   ]
  },
  {
   "cell_type": "code",
   "execution_count": 53,
   "metadata": {
    "ExecuteTime": {
     "end_time": "2024-01-21T10:44:38.122831Z",
     "start_time": "2024-01-21T10:44:38.108040Z"
    }
   },
   "outputs": [],
   "source": [
    "df_merged.dropna(inplace=True)"
   ]
  },
  {
   "cell_type": "markdown",
   "metadata": {},
   "source": [
    "### 1.5.2 특정 칼럼 선택"
   ]
  },
  {
   "cell_type": "code",
   "execution_count": 54,
   "metadata": {
    "ExecuteTime": {
     "end_time": "2024-01-21T10:44:38.138338Z",
     "start_time": "2024-01-21T10:44:38.122831Z"
    }
   },
   "outputs": [
    {
     "data": {
      "text/html": [
       "<div>\n",
       "<style scoped>\n",
       "    .dataframe tbody tr th:only-of-type {\n",
       "        vertical-align: middle;\n",
       "    }\n",
       "\n",
       "    .dataframe tbody tr th {\n",
       "        vertical-align: top;\n",
       "    }\n",
       "\n",
       "    .dataframe thead th {\n",
       "        text-align: right;\n",
       "    }\n",
       "</style>\n",
       "<table border=\"1\" class=\"dataframe\">\n",
       "  <thead>\n",
       "    <tr style=\"text-align: right;\">\n",
       "      <th></th>\n",
       "      <th>Time</th>\n",
       "      <th>USSTHP(2017.7=100)</th>\n",
       "      <th>전국</th>\n",
       "    </tr>\n",
       "  </thead>\n",
       "  <tbody>\n",
       "    <tr>\n",
       "      <th>0</th>\n",
       "      <td>2006-01-01</td>\n",
       "      <td>92.102241</td>\n",
       "      <td>58.2</td>\n",
       "    </tr>\n",
       "    <tr>\n",
       "      <th>1</th>\n",
       "      <td>2006-04-01</td>\n",
       "      <td>93.046674</td>\n",
       "      <td>59.7</td>\n",
       "    </tr>\n",
       "    <tr>\n",
       "      <th>2</th>\n",
       "      <td>2006-07-01</td>\n",
       "      <td>93.811216</td>\n",
       "      <td>61.0</td>\n",
       "    </tr>\n",
       "    <tr>\n",
       "      <th>3</th>\n",
       "      <td>2006-10-01</td>\n",
       "      <td>94.768141</td>\n",
       "      <td>66.0</td>\n",
       "    </tr>\n",
       "    <tr>\n",
       "      <th>4</th>\n",
       "      <td>2007-01-01</td>\n",
       "      <td>95.122929</td>\n",
       "      <td>70.9</td>\n",
       "    </tr>\n",
       "    <tr>\n",
       "      <th>...</th>\n",
       "      <td>...</td>\n",
       "      <td>...</td>\n",
       "      <td>...</td>\n",
       "    </tr>\n",
       "    <tr>\n",
       "      <th>66</th>\n",
       "      <td>2022-07-01</td>\n",
       "      <td>156.760947</td>\n",
       "      <td>133.8</td>\n",
       "    </tr>\n",
       "    <tr>\n",
       "      <th>67</th>\n",
       "      <td>2022-10-01</td>\n",
       "      <td>155.601643</td>\n",
       "      <td>125.1</td>\n",
       "    </tr>\n",
       "    <tr>\n",
       "      <th>68</th>\n",
       "      <td>2023-01-01</td>\n",
       "      <td>156.351193</td>\n",
       "      <td>116.9</td>\n",
       "    </tr>\n",
       "    <tr>\n",
       "      <th>69</th>\n",
       "      <td>2023-04-01</td>\n",
       "      <td>161.248255</td>\n",
       "      <td>119.5</td>\n",
       "    </tr>\n",
       "    <tr>\n",
       "      <th>70</th>\n",
       "      <td>2023-07-01</td>\n",
       "      <td>164.231465</td>\n",
       "      <td>121.6</td>\n",
       "    </tr>\n",
       "  </tbody>\n",
       "</table>\n",
       "<p>71 rows × 3 columns</p>\n",
       "</div>"
      ],
      "text/plain": [
       "         Time  USSTHP(2017.7=100)     전국\n",
       "0  2006-01-01           92.102241   58.2\n",
       "1  2006-04-01           93.046674   59.7\n",
       "2  2006-07-01           93.811216   61.0\n",
       "3  2006-10-01           94.768141   66.0\n",
       "4  2007-01-01           95.122929   70.9\n",
       "..        ...                 ...    ...\n",
       "66 2022-07-01          156.760947  133.8\n",
       "67 2022-10-01          155.601643  125.1\n",
       "68 2023-01-01          156.351193  116.9\n",
       "69 2023-04-01          161.248255  119.5\n",
       "70 2023-07-01          164.231465  121.6\n",
       "\n",
       "[71 rows x 3 columns]"
      ]
     },
     "execution_count": 54,
     "metadata": {},
     "output_type": "execute_result"
    }
   ],
   "source": [
    "df_new = df_merged[[\"Time\", \"USSTHP(2017.7=100)\", \"전국\"]]\n",
    "df_new"
   ]
  },
  {
   "cell_type": "markdown",
   "metadata": {},
   "source": [
    "### 1.5.3 칼럼 이름 설정"
   ]
  },
  {
   "cell_type": "code",
   "execution_count": 55,
   "metadata": {
    "ExecuteTime": {
     "end_time": "2024-01-21T10:44:38.152069Z",
     "start_time": "2024-01-21T10:44:38.139324Z"
    },
    "scrolled": true
   },
   "outputs": [
    {
     "data": {
      "text/html": [
       "<div>\n",
       "<style scoped>\n",
       "    .dataframe tbody tr th:only-of-type {\n",
       "        vertical-align: middle;\n",
       "    }\n",
       "\n",
       "    .dataframe tbody tr th {\n",
       "        vertical-align: top;\n",
       "    }\n",
       "\n",
       "    .dataframe thead th {\n",
       "        text-align: right;\n",
       "    }\n",
       "</style>\n",
       "<table border=\"1\" class=\"dataframe\">\n",
       "  <thead>\n",
       "    <tr style=\"text-align: right;\">\n",
       "      <th></th>\n",
       "      <th>Time</th>\n",
       "      <th>US</th>\n",
       "      <th>KR</th>\n",
       "    </tr>\n",
       "  </thead>\n",
       "  <tbody>\n",
       "    <tr>\n",
       "      <th>0</th>\n",
       "      <td>2006-01-01</td>\n",
       "      <td>92.102241</td>\n",
       "      <td>58.2</td>\n",
       "    </tr>\n",
       "    <tr>\n",
       "      <th>1</th>\n",
       "      <td>2006-04-01</td>\n",
       "      <td>93.046674</td>\n",
       "      <td>59.7</td>\n",
       "    </tr>\n",
       "    <tr>\n",
       "      <th>2</th>\n",
       "      <td>2006-07-01</td>\n",
       "      <td>93.811216</td>\n",
       "      <td>61.0</td>\n",
       "    </tr>\n",
       "    <tr>\n",
       "      <th>3</th>\n",
       "      <td>2006-10-01</td>\n",
       "      <td>94.768141</td>\n",
       "      <td>66.0</td>\n",
       "    </tr>\n",
       "    <tr>\n",
       "      <th>4</th>\n",
       "      <td>2007-01-01</td>\n",
       "      <td>95.122929</td>\n",
       "      <td>70.9</td>\n",
       "    </tr>\n",
       "    <tr>\n",
       "      <th>...</th>\n",
       "      <td>...</td>\n",
       "      <td>...</td>\n",
       "      <td>...</td>\n",
       "    </tr>\n",
       "    <tr>\n",
       "      <th>66</th>\n",
       "      <td>2022-07-01</td>\n",
       "      <td>156.760947</td>\n",
       "      <td>133.8</td>\n",
       "    </tr>\n",
       "    <tr>\n",
       "      <th>67</th>\n",
       "      <td>2022-10-01</td>\n",
       "      <td>155.601643</td>\n",
       "      <td>125.1</td>\n",
       "    </tr>\n",
       "    <tr>\n",
       "      <th>68</th>\n",
       "      <td>2023-01-01</td>\n",
       "      <td>156.351193</td>\n",
       "      <td>116.9</td>\n",
       "    </tr>\n",
       "    <tr>\n",
       "      <th>69</th>\n",
       "      <td>2023-04-01</td>\n",
       "      <td>161.248255</td>\n",
       "      <td>119.5</td>\n",
       "    </tr>\n",
       "    <tr>\n",
       "      <th>70</th>\n",
       "      <td>2023-07-01</td>\n",
       "      <td>164.231465</td>\n",
       "      <td>121.6</td>\n",
       "    </tr>\n",
       "  </tbody>\n",
       "</table>\n",
       "<p>71 rows × 3 columns</p>\n",
       "</div>"
      ],
      "text/plain": [
       "         Time          US     KR\n",
       "0  2006-01-01   92.102241   58.2\n",
       "1  2006-04-01   93.046674   59.7\n",
       "2  2006-07-01   93.811216   61.0\n",
       "3  2006-10-01   94.768141   66.0\n",
       "4  2007-01-01   95.122929   70.9\n",
       "..        ...         ...    ...\n",
       "66 2022-07-01  156.760947  133.8\n",
       "67 2022-10-01  155.601643  125.1\n",
       "68 2023-01-01  156.351193  116.9\n",
       "69 2023-04-01  161.248255  119.5\n",
       "70 2023-07-01  164.231465  121.6\n",
       "\n",
       "[71 rows x 3 columns]"
      ]
     },
     "execution_count": 55,
     "metadata": {},
     "output_type": "execute_result"
    }
   ],
   "source": [
    "df_new.columns = [\"Time\", \"US\", \"KR\"]\n",
    "df_new"
   ]
  },
  {
   "cell_type": "markdown",
   "metadata": {},
   "source": [
    "# 1.6 미국과 한국 주택가격지수 시각화"
   ]
  },
  {
   "cell_type": "markdown",
   "metadata": {},
   "source": [
    "### 1.6.1 데이터 병합 주택가격지수 그래프"
   ]
  },
  {
   "cell_type": "code",
   "execution_count": 56,
   "metadata": {
    "ExecuteTime": {
     "end_time": "2024-01-21T10:44:38.168863Z",
     "start_time": "2024-01-21T10:44:38.153117Z"
    }
   },
   "outputs": [
    {
     "data": {
      "text/html": [
       "<div>\n",
       "<style scoped>\n",
       "    .dataframe tbody tr th:only-of-type {\n",
       "        vertical-align: middle;\n",
       "    }\n",
       "\n",
       "    .dataframe tbody tr th {\n",
       "        vertical-align: top;\n",
       "    }\n",
       "\n",
       "    .dataframe thead th {\n",
       "        text-align: right;\n",
       "    }\n",
       "</style>\n",
       "<table border=\"1\" class=\"dataframe\">\n",
       "  <thead>\n",
       "    <tr style=\"text-align: right;\">\n",
       "      <th></th>\n",
       "      <th>Time</th>\n",
       "      <th>US</th>\n",
       "      <th>KR</th>\n",
       "    </tr>\n",
       "  </thead>\n",
       "  <tbody>\n",
       "    <tr>\n",
       "      <th>0</th>\n",
       "      <td>2006-01-01</td>\n",
       "      <td>92.102241</td>\n",
       "      <td>58.2</td>\n",
       "    </tr>\n",
       "    <tr>\n",
       "      <th>1</th>\n",
       "      <td>2006-04-01</td>\n",
       "      <td>93.046674</td>\n",
       "      <td>59.7</td>\n",
       "    </tr>\n",
       "    <tr>\n",
       "      <th>2</th>\n",
       "      <td>2006-07-01</td>\n",
       "      <td>93.811216</td>\n",
       "      <td>61.0</td>\n",
       "    </tr>\n",
       "    <tr>\n",
       "      <th>3</th>\n",
       "      <td>2006-10-01</td>\n",
       "      <td>94.768141</td>\n",
       "      <td>66.0</td>\n",
       "    </tr>\n",
       "    <tr>\n",
       "      <th>4</th>\n",
       "      <td>2007-01-01</td>\n",
       "      <td>95.122929</td>\n",
       "      <td>70.9</td>\n",
       "    </tr>\n",
       "    <tr>\n",
       "      <th>...</th>\n",
       "      <td>...</td>\n",
       "      <td>...</td>\n",
       "      <td>...</td>\n",
       "    </tr>\n",
       "    <tr>\n",
       "      <th>66</th>\n",
       "      <td>2022-07-01</td>\n",
       "      <td>156.760947</td>\n",
       "      <td>133.8</td>\n",
       "    </tr>\n",
       "    <tr>\n",
       "      <th>67</th>\n",
       "      <td>2022-10-01</td>\n",
       "      <td>155.601643</td>\n",
       "      <td>125.1</td>\n",
       "    </tr>\n",
       "    <tr>\n",
       "      <th>68</th>\n",
       "      <td>2023-01-01</td>\n",
       "      <td>156.351193</td>\n",
       "      <td>116.9</td>\n",
       "    </tr>\n",
       "    <tr>\n",
       "      <th>69</th>\n",
       "      <td>2023-04-01</td>\n",
       "      <td>161.248255</td>\n",
       "      <td>119.5</td>\n",
       "    </tr>\n",
       "    <tr>\n",
       "      <th>70</th>\n",
       "      <td>2023-07-01</td>\n",
       "      <td>164.231465</td>\n",
       "      <td>121.6</td>\n",
       "    </tr>\n",
       "  </tbody>\n",
       "</table>\n",
       "<p>71 rows × 3 columns</p>\n",
       "</div>"
      ],
      "text/plain": [
       "         Time          US     KR\n",
       "0  2006-01-01   92.102241   58.2\n",
       "1  2006-04-01   93.046674   59.7\n",
       "2  2006-07-01   93.811216   61.0\n",
       "3  2006-10-01   94.768141   66.0\n",
       "4  2007-01-01   95.122929   70.9\n",
       "..        ...         ...    ...\n",
       "66 2022-07-01  156.760947  133.8\n",
       "67 2022-10-01  155.601643  125.1\n",
       "68 2023-01-01  156.351193  116.9\n",
       "69 2023-04-01  161.248255  119.5\n",
       "70 2023-07-01  164.231465  121.6\n",
       "\n",
       "[71 rows x 3 columns]"
      ]
     },
     "execution_count": 56,
     "metadata": {},
     "output_type": "execute_result"
    }
   ],
   "source": [
    "df_new"
   ]
  },
  {
   "cell_type": "code",
   "execution_count": 57,
   "metadata": {
    "ExecuteTime": {
     "end_time": "2024-01-21T10:44:38.311032Z",
     "start_time": "2024-01-21T10:44:38.169866Z"
    }
   },
   "outputs": [
    {
     "data": {
      "image/png": "[encoded data removed]",
      "text/plain": [
       "<Figure size 1200x600 with 1 Axes>"
      ]
     },
     "metadata": {},
     "output_type": "display_data"
    }
   ],
   "source": [
    "# 1. 기본 스타일 설정\n",
    "plt.style.use('default')\n",
    "plt.rcParams['figure.figsize'] = (12, 6)\n",
    "plt.rcParams['font.size'] = 12\n",
    "\n",
    "# 2. 데이터 준비\n",
    "x = df_new.Time.to_numpy()\n",
    "y1 = df_new.US.to_numpy()\n",
    "y2 = df_new.KR.to_numpy()\n",
    "\n",
    "# 3. 그래프 그리기\n",
    "fig, ax1 = plt.subplots()\n",
    "\n",
    "# y1 : 미국 인덱스에 대한 값\n",
    "ax1.plot(x, y1, '-s', color='orange', markersize=3, linewidth=3, alpha=0.7, label='US Price')\n",
    "\n",
    "# y2 : 한국 인덱스에 대한 값\n",
    "ax1.plot(x, y2, '-s', color='blue', markersize=3, linewidth=3, alpha=0.7, label='KR Price')\n",
    "\n",
    "ax1.set_xlabel('Year')\n",
    "ax1.set_ylabel('US')\n",
    "ax1.tick_params(axis='both', direction='in')\n",
    "\n",
    "# set_zorder() 메서드는 z-축 방향의 순서를 지정합니다.\n",
    "# 아래 그림과 같이 zorder가 낮을수록 먼저 그려지고(ax2 = 한국), zorder가 높을수록 나중에 그려집니다.(ax1 = 미국)\n",
    "\n",
    "ax1.set_zorder(ax2.get_zorder() + 10)\n",
    "ax1.patch.set_visible(False)\n",
    "ax1.legend(loc='upper left')\n",
    "\n",
    "plt.show()"
   ]
  },
  {
   "cell_type": "markdown",
   "metadata": {},
   "source": [
    "## 1.7 상관관계"
   ]
  },
  {
   "cell_type": "markdown",
   "metadata": {},
   "source": [
    "\n",
    "*  <span style=\"color:royalblue\">피어슨<br>\n",
    "  - 상관관계에서 기본적으로 사용되는 상관계수<br>\n",
    "  - 연속형변수의 상관관계 측정<br>\n",
    "  - 모수 검정(parametric test)<br><br></span>\n",
    "\n",
    "  \n",
    "* 켄달\n",
    "  - 켄달 상관계수(타우)\n",
    "  - 변수값 대신 순위로 바꿔 이용(내신등급, 학점)\n",
    "  - 비모수 검정(Non-parametric test)\n",
    "  - sample size가 작을때. 데이터중 같은 값이 많을때 사용<br><br>\n",
    "  \n",
    "* 스피어만 \n",
    "  - 스피어만 상관계수\n",
    "  - 켄달과 동일한 순위기준 상관계수\n",
    "  - 비모수 검정(Non-parametric test)\n",
    "  - 데이터 내 편차와 이상치에 민감. 켄달보다 높은 상관관계 수치를 보임<br><br>\n",
    "\n",
    "[피어슨, 켄달, 스피어만 차이점 수식](https://www.statisticssolutions.com/free-resources/directory-of-statistical-analyses/correlation-pearson-kendall-spearman/)"
   ]
  },
  {
   "cell_type": "markdown",
   "metadata": {
    "ExecuteTime": {
     "end_time": "2021-10-10T08:17:01.600127Z",
     "start_time": "2021-10-10T08:17:01.592943Z"
    }
   },
   "source": [
    "### 상관관계 정도\n",
    "<img src=\"./data/상관관계정도.png\" alt=\"Drawing\" style=\"width: 400px;\"/>"
   ]
  },
  {
   "cell_type": "markdown",
   "metadata": {},
   "source": [
    "[요점정리]\n",
    "1. 피어슨(Pearson) 상관계수는 두 수치형 변수 사이의 \"선형\" 관계를 평가합니다. \n",
    "2. 스피어만(Spearman) 상관계수는 원시 데이터가 아니라 각 변수에 대해 \"순위\" 를 매긴 값을 기반으로 합니다.<br>\n",
    "   \"순서형 변수\" 가 포함된 관계를 평가하기 위해 사용됩니다."
   ]
  },
  {
   "cell_type": "code",
   "execution_count": 58,
   "metadata": {
    "ExecuteTime": {
     "end_time": "2024-01-21T10:44:38.318431Z",
     "start_time": "2024-01-21T10:44:38.312147Z"
    }
   },
   "outputs": [
    {
     "data": {
      "text/html": [
       "<div>\n",
       "<style scoped>\n",
       "    .dataframe tbody tr th:only-of-type {\n",
       "        vertical-align: middle;\n",
       "    }\n",
       "\n",
       "    .dataframe tbody tr th {\n",
       "        vertical-align: top;\n",
       "    }\n",
       "\n",
       "    .dataframe thead th {\n",
       "        text-align: right;\n",
       "    }\n",
       "</style>\n",
       "<table border=\"1\" class=\"dataframe\">\n",
       "  <thead>\n",
       "    <tr style=\"text-align: right;\">\n",
       "      <th></th>\n",
       "      <th>Time</th>\n",
       "      <th>US</th>\n",
       "      <th>KR</th>\n",
       "    </tr>\n",
       "  </thead>\n",
       "  <tbody>\n",
       "    <tr>\n",
       "      <th>Time</th>\n",
       "      <td>1.000000</td>\n",
       "      <td>0.766635</td>\n",
       "      <td>0.928902</td>\n",
       "    </tr>\n",
       "    <tr>\n",
       "      <th>US</th>\n",
       "      <td>0.766635</td>\n",
       "      <td>1.000000</td>\n",
       "      <td>0.824017</td>\n",
       "    </tr>\n",
       "    <tr>\n",
       "      <th>KR</th>\n",
       "      <td>0.928902</td>\n",
       "      <td>0.824017</td>\n",
       "      <td>1.000000</td>\n",
       "    </tr>\n",
       "  </tbody>\n",
       "</table>\n",
       "</div>"
      ],
      "text/plain": [
       "          Time        US        KR\n",
       "Time  1.000000  0.766635  0.928902\n",
       "US    0.766635  1.000000  0.824017\n",
       "KR    0.928902  0.824017  1.000000"
      ]
     },
     "execution_count": 58,
     "metadata": {},
     "output_type": "execute_result"
    }
   ],
   "source": [
    "# US_CS_M2.corr(method='pearson', min_periods=1)\n",
    "df.corr(method='pearson', min_periods=1)"
   ]
  },
  {
   "cell_type": "markdown",
   "metadata": {},
   "source": [
    "[판다스 공식 튜토리얼 - pd.corr 상관계수](https://pandas.pydata.org/pandas-docs/stable/reference/api/pandas.DataFrame.corr.html?highlight=corr)"
   ]
  },
  {
   "cell_type": "markdown",
   "metadata": {},
   "source": [
    "## 학습내용 정리요약\n",
    "- 날짜, 시간데이터 Date and Time Data Types and Tools\n",
    "- 타임시리즈 Time Series Basics  \n",
    "<br>\n",
    "- 결측치 시각화와 결측치 처리\n",
    "- merge_asof() 함수 , 데이터 타입변경\n",
    "- dropna(), reset_index() 함수와  inplace, drop 인자값\n",
    "- 타임 시리즈 자료 플롯팅 Time Series Plotting\n",
    "- 상관관계 correlation"
   ]
  },
  {
   "cell_type": "markdown",
   "metadata": {},
   "source": [
    "# 2. 주요 선진국 주택 가격지수 데이터 수집 및 분석"
   ]
  },
  {
   "cell_type": "markdown",
   "metadata": {},
   "source": [
    "[통계청 제공 국외통계작성기관](http://kostat.go.kr/portal/korea/kor_ko/7/4/2/index.action)"
   ]
  },
  {
   "cell_type": "markdown",
   "metadata": {},
   "source": [
    "## 2.1 영국 주택 가격지수 데이터 <img src=\"./data/영국.png\" alt=\"Drawing\" style=\"width: 30px;\" align=\"left\">"
   ]
  },
  {
   "cell_type": "markdown",
   "metadata": {
    "ExecuteTime": {
     "end_time": "2021-08-13T04:45:48.278680Z",
     "start_time": "2021-08-13T04:45:46.962Z"
    }
   },
   "source": [
    "### 2.1.1  영국 통계청(ONS : Office for National Statistics) 제공 데이터 수집\n",
    "* 지수명 ; UK House Price Index \n",
    "* 경로 : Home > Economy > Inflation and price indices > UK House Price Index\n",
    "* 제공데이터 : 평균 실거래가, 변동률 두가지 지표\n",
    "* 제공기관 : 영국 통계청 https://www.ons.gov.uk/ (영국통계청은 영국 의회 직속인 독립적인 통계 기관입니다.)\n",
    "* 데이터 링크 : [영국 주택가격 지수](https://www.ons.gov.uk/economy/inflationandpriceindices/bulletins/housepriceindex/october2021)"
   ]
  },
  {
   "cell_type": "markdown",
   "metadata": {},
   "source": [
    "## 2.2 독일 주택 가격지수 데이터 <img src=\"./data/독일.jpg\" alt=\"Drawing\" style=\"width: 30px;\" align=\"left\">"
   ]
  },
  {
   "cell_type": "markdown",
   "metadata": {
    "ExecuteTime": {
     "end_time": "2021-08-13T04:45:48.278680Z",
     "start_time": "2021-08-13T04:45:46.962Z"
    }
   },
   "source": [
    "### 2.2.1  독일 통계청(Statistisches Bundesamt) 제공 데이터 수집\n",
    "* 지수명 ; House Price Index \n",
    "* 경로 : [Construction prices and real property prices](https://www-genesis.destatis.de/genesis//online?operation=table&code=61262-0001&bypass=true&levelindex=0&levelid=1633940589196#abreadcrumb)\n",
    "* 제공데이터 : HOUSE PRICE INDEX(2015  = 100), 변동률 두가지 지표\n",
    "* 제공기관 : 독일 통계청 https://www.destatis.de/DE/Home\n",
    "* 데이터 링크 : [독일 주택가격 지수](https://www.destatis.de/EN/Press/2021/12/PE21_593_61262.html)"
   ]
  },
  {
   "cell_type": "markdown",
   "metadata": {},
   "source": [
    "## 2.3 주요국의 주택가격지수 비교(FRED 데이터 제공)"
   ]
  },
  {
   "cell_type": "markdown",
   "metadata": {},
   "source": [
    "[캐나다, 뉴질랜드, 홍콩, 영국 주택가격지수 비교](https://fredblog.stlouisfed.org/2017/12/houses-up-and-down/?utm_source=series_page&utm_medium=related_content&utm_term=related_resources&utm_campaign=fredblog)"
   ]
  },
  {
   "cell_type": "markdown",
   "metadata": {},
   "source": [
    "# 3. 명목 주택가격 및 실질 주택가격 [각자 학습]"
   ]
  },
  {
   "cell_type": "markdown",
   "metadata": {
    "ExecuteTime": {
     "end_time": "2021-10-11T08:18:12.825267Z",
     "start_time": "2021-10-11T08:18:12.708235Z"
    }
   },
   "source": [
    "## 3.1 명목 주택가격 : 주택의 절대적인 가격"
   ]
  },
  {
   "cell_type": "markdown",
   "metadata": {
    "ExecuteTime": {
     "end_time": "2021-10-11T08:19:49.825911Z",
     "start_time": "2021-10-11T08:19:49.809802Z"
    }
   },
   "source": [
    "## 3.2 실질 주택가격 : 명목 주택가격 - 물가 상승률"
   ]
  }
 ],
 "metadata": {
  "kernelspec": {
   "display_name": "Python 3",
   "language": "python",
   "name": "python3"
  },
  "language_info": {
   "codemirror_mode": {
    "name": "ipython",
    "version": 3
   },
   "file_extension": ".py",
   "mimetype": "text/x-python",
   "name": "python",
   "nbconvert_exporter": "python",
   "pygments_lexer": "ipython3",
   "version": "3.8.5"
  },
  "latex_envs": {
   "LaTeX_envs_menu_present": true,
   "autoclose": false,
   "autocomplete": true,
   "bibliofile": "biblio.bib",
   "cite_by": "apalike",
   "current_citInitial": 1,
   "eqLabelWithNumbers": true,
   "eqNumInitial": 1,
   "hotkeys": {
    "equation": "Ctrl-E",
    "itemize": "Ctrl-I"
   },
   "labels_anchors": false,
   "latex_user_defs": false,
   "report_style_numbering": false,
   "user_envs_cfg": false
  },
  "toc": {
   "base_numbering": 1,
   "nav_menu": {},
   "number_sections": true,
   "sideBar": true,
   "skip_h1_title": false,
   "title_cell": "Table of Contents",
   "title_sidebar": "Contents",
   "toc_cell": false,
   "toc_position": {},
   "toc_section_display": true,
   "toc_window_display": false
  }
 },
 "nbformat": 4,
 "nbformat_minor": 4
}
